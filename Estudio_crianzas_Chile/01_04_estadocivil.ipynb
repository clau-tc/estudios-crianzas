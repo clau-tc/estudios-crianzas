{
 "cells": [
  {
   "cell_type": "code",
   "execution_count": 1,
   "metadata": {
    "collapsed": true,
    "pycharm": {
     "name": "#%%\n"
    }
   },
   "outputs": [],
   "source": [
    "# Se cargan las librerías y tabla de datos\n",
    "import pandas as pd\n",
    "import plotly.express as px\n",
    "from plotly import graph_objects as go\n",
    "import os\n",
    "# os.getcwd()\n",
    "os.chdir('/home/clautc/Proyectos_/Estudios/Estudio_crianzas_Chile')\n",
    "from plotly.subplots import make_subplots\n",
    "ruta = 'data/registros_estadisticos/df_geograf.csv'\n",
    "df = pd.read_csv(ruta)"
   ]
  },
  {
   "cell_type": "code",
   "execution_count": 2,
   "outputs": [
    {
     "data": {
      "text/plain": "ano_nac  est_civ_madre\n2001     1                124581\n         2                121535\n2002     1                124784\n         2                114197\n2003     1                126118\n         2                108368\n2004     1                128867\n         2                101485\n2005     1                134912\n         2                 95919\n2006     1                141540\n         2                 89843\n2007     1                151907\n         2                 88662\n2008     1                160485\n         2                 86096\n2009     1                169888\n         2                 82352\n2010     1                171585\n         2                 79058\n2011     1                171293\n         2                 76017\n         9                    48\n2012     1                171232\n         2                 72403\n2013     1                172002\n         2                 70003\n2014     1                180456\n         2                 70541\n2015     1                175020\n         2                 69645\n         6                     5\n2016     1                167982\n         2                 63178\n         3                     5\n         4                    63\n         6                   510\n         9                    11\n2017     1                160728\n         2                 57748\n         4                    57\n         6                   641\n         9                    12\n2018     1                164707\n         2                 55926\n         3                     3\n         4                    90\n         6                   998\n         9                     7\n2019     1                156116\n         2                 52375\n         4                   145\n         5                     7\n         6                  1535\n         9                    10\nName: grupo_etario_madre, dtype: int64"
     },
     "execution_count": 2,
     "metadata": {},
     "output_type": "execute_result"
    }
   ],
   "source": [
    "df.groupby(['ano_nac', 'est_civ_madre'])['grupo_etario_madre'].count()"
   ],
   "metadata": {
    "collapsed": false,
    "pycharm": {
     "name": "#%%\n"
    }
   }
  },
  {
   "cell_type": "code",
   "execution_count": 3,
   "outputs": [],
   "source": [
    "estado_civil_madre= {\n",
    "    2: 'Casada',\n",
    "    1: 'Soltera',\n",
    "    3: 'Otros (viuda, ignorada)',\n",
    "    9: 'Otros (viuda, ignorada)'\n",
    "}\n",
    "estado_civil_color= {\n",
    "    1: '#9A208C',\n",
    "    2: '#E11299',\n",
    "    3: '#00235B',\n",
    "    9: '#E21818'\n",
    "}\n",
    "df['ecm'] = df['est_civ_madre'].map(lambda x: estado_civil_madre.get(x))\n",
    "df['anio'] = pd.to_datetime(df.ano_nac, format='%Y')\n",
    "df['anio'] = df.anio.dt.year\n"
   ],
   "metadata": {
    "collapsed": false,
    "pycharm": {
     "name": "#%%\n"
    }
   }
  },
  {
   "cell_type": "code",
   "execution_count": 4,
   "outputs": [
    {
     "data": {
      "text/plain": "    anio                      ecm  conteo\n0   2001                   Casada  121535\n1   2001                  Soltera  124581\n2   2002                   Casada  114197\n3   2002                  Soltera  124784\n4   2003                   Casada  108368\n5   2003                  Soltera  126118\n6   2004                   Casada  101485\n7   2004                  Soltera  128867\n8   2005                   Casada   95919\n9   2005                  Soltera  134912\n10  2006                   Casada   89843\n11  2006                  Soltera  141540\n12  2007                  Soltera  151907\n13  2007                   Casada   88662\n14  2008                   Casada   86096\n15  2008                  Soltera  160485\n16  2009                  Soltera  169888\n17  2009                   Casada   82352\n18  2010                   Casada   79058\n19  2010                  Soltera  171585\n20  2011                  Soltera  171293\n21  2011  Otros (viuda, ignorada)      48\n22  2011                   Casada   76017\n23  2012                   Casada   72403\n24  2012                  Soltera  171232\n25  2013                   Casada   70003\n26  2013                  Soltera  172002\n27  2014                   Casada   70541\n28  2014                  Soltera  180456\n29  2015                   Casada   69645\n30  2015                  Soltera  175020\n31  2016                  Soltera  167982\n32  2016                   Casada   63178\n33  2016  Otros (viuda, ignorada)      16\n34  2017                  Soltera  160728\n35  2017                   Casada   57748\n36  2017  Otros (viuda, ignorada)      12\n37  2018                  Soltera  164707\n38  2018                   Casada   55926\n39  2018  Otros (viuda, ignorada)      10\n40  2019                  Soltera  156116\n41  2019                   Casada   52375\n42  2019  Otros (viuda, ignorada)      10",
      "text/html": "<div>\n<style scoped>\n    .dataframe tbody tr th:only-of-type {\n        vertical-align: middle;\n    }\n\n    .dataframe tbody tr th {\n        vertical-align: top;\n    }\n\n    .dataframe thead th {\n        text-align: right;\n    }\n</style>\n<table border=\"1\" class=\"dataframe\">\n  <thead>\n    <tr style=\"text-align: right;\">\n      <th></th>\n      <th>anio</th>\n      <th>ecm</th>\n      <th>conteo</th>\n    </tr>\n  </thead>\n  <tbody>\n    <tr>\n      <th>0</th>\n      <td>2001</td>\n      <td>Casada</td>\n      <td>121535</td>\n    </tr>\n    <tr>\n      <th>1</th>\n      <td>2001</td>\n      <td>Soltera</td>\n      <td>124581</td>\n    </tr>\n    <tr>\n      <th>2</th>\n      <td>2002</td>\n      <td>Casada</td>\n      <td>114197</td>\n    </tr>\n    <tr>\n      <th>3</th>\n      <td>2002</td>\n      <td>Soltera</td>\n      <td>124784</td>\n    </tr>\n    <tr>\n      <th>4</th>\n      <td>2003</td>\n      <td>Casada</td>\n      <td>108368</td>\n    </tr>\n    <tr>\n      <th>5</th>\n      <td>2003</td>\n      <td>Soltera</td>\n      <td>126118</td>\n    </tr>\n    <tr>\n      <th>6</th>\n      <td>2004</td>\n      <td>Casada</td>\n      <td>101485</td>\n    </tr>\n    <tr>\n      <th>7</th>\n      <td>2004</td>\n      <td>Soltera</td>\n      <td>128867</td>\n    </tr>\n    <tr>\n      <th>8</th>\n      <td>2005</td>\n      <td>Casada</td>\n      <td>95919</td>\n    </tr>\n    <tr>\n      <th>9</th>\n      <td>2005</td>\n      <td>Soltera</td>\n      <td>134912</td>\n    </tr>\n    <tr>\n      <th>10</th>\n      <td>2006</td>\n      <td>Casada</td>\n      <td>89843</td>\n    </tr>\n    <tr>\n      <th>11</th>\n      <td>2006</td>\n      <td>Soltera</td>\n      <td>141540</td>\n    </tr>\n    <tr>\n      <th>12</th>\n      <td>2007</td>\n      <td>Soltera</td>\n      <td>151907</td>\n    </tr>\n    <tr>\n      <th>13</th>\n      <td>2007</td>\n      <td>Casada</td>\n      <td>88662</td>\n    </tr>\n    <tr>\n      <th>14</th>\n      <td>2008</td>\n      <td>Casada</td>\n      <td>86096</td>\n    </tr>\n    <tr>\n      <th>15</th>\n      <td>2008</td>\n      <td>Soltera</td>\n      <td>160485</td>\n    </tr>\n    <tr>\n      <th>16</th>\n      <td>2009</td>\n      <td>Soltera</td>\n      <td>169888</td>\n    </tr>\n    <tr>\n      <th>17</th>\n      <td>2009</td>\n      <td>Casada</td>\n      <td>82352</td>\n    </tr>\n    <tr>\n      <th>18</th>\n      <td>2010</td>\n      <td>Casada</td>\n      <td>79058</td>\n    </tr>\n    <tr>\n      <th>19</th>\n      <td>2010</td>\n      <td>Soltera</td>\n      <td>171585</td>\n    </tr>\n    <tr>\n      <th>20</th>\n      <td>2011</td>\n      <td>Soltera</td>\n      <td>171293</td>\n    </tr>\n    <tr>\n      <th>21</th>\n      <td>2011</td>\n      <td>Otros (viuda, ignorada)</td>\n      <td>48</td>\n    </tr>\n    <tr>\n      <th>22</th>\n      <td>2011</td>\n      <td>Casada</td>\n      <td>76017</td>\n    </tr>\n    <tr>\n      <th>23</th>\n      <td>2012</td>\n      <td>Casada</td>\n      <td>72403</td>\n    </tr>\n    <tr>\n      <th>24</th>\n      <td>2012</td>\n      <td>Soltera</td>\n      <td>171232</td>\n    </tr>\n    <tr>\n      <th>25</th>\n      <td>2013</td>\n      <td>Casada</td>\n      <td>70003</td>\n    </tr>\n    <tr>\n      <th>26</th>\n      <td>2013</td>\n      <td>Soltera</td>\n      <td>172002</td>\n    </tr>\n    <tr>\n      <th>27</th>\n      <td>2014</td>\n      <td>Casada</td>\n      <td>70541</td>\n    </tr>\n    <tr>\n      <th>28</th>\n      <td>2014</td>\n      <td>Soltera</td>\n      <td>180456</td>\n    </tr>\n    <tr>\n      <th>29</th>\n      <td>2015</td>\n      <td>Casada</td>\n      <td>69645</td>\n    </tr>\n    <tr>\n      <th>30</th>\n      <td>2015</td>\n      <td>Soltera</td>\n      <td>175020</td>\n    </tr>\n    <tr>\n      <th>31</th>\n      <td>2016</td>\n      <td>Soltera</td>\n      <td>167982</td>\n    </tr>\n    <tr>\n      <th>32</th>\n      <td>2016</td>\n      <td>Casada</td>\n      <td>63178</td>\n    </tr>\n    <tr>\n      <th>33</th>\n      <td>2016</td>\n      <td>Otros (viuda, ignorada)</td>\n      <td>16</td>\n    </tr>\n    <tr>\n      <th>34</th>\n      <td>2017</td>\n      <td>Soltera</td>\n      <td>160728</td>\n    </tr>\n    <tr>\n      <th>35</th>\n      <td>2017</td>\n      <td>Casada</td>\n      <td>57748</td>\n    </tr>\n    <tr>\n      <th>36</th>\n      <td>2017</td>\n      <td>Otros (viuda, ignorada)</td>\n      <td>12</td>\n    </tr>\n    <tr>\n      <th>37</th>\n      <td>2018</td>\n      <td>Soltera</td>\n      <td>164707</td>\n    </tr>\n    <tr>\n      <th>38</th>\n      <td>2018</td>\n      <td>Casada</td>\n      <td>55926</td>\n    </tr>\n    <tr>\n      <th>39</th>\n      <td>2018</td>\n      <td>Otros (viuda, ignorada)</td>\n      <td>10</td>\n    </tr>\n    <tr>\n      <th>40</th>\n      <td>2019</td>\n      <td>Soltera</td>\n      <td>156116</td>\n    </tr>\n    <tr>\n      <th>41</th>\n      <td>2019</td>\n      <td>Casada</td>\n      <td>52375</td>\n    </tr>\n    <tr>\n      <th>42</th>\n      <td>2019</td>\n      <td>Otros (viuda, ignorada)</td>\n      <td>10</td>\n    </tr>\n  </tbody>\n</table>\n</div>"
     },
     "execution_count": 4,
     "metadata": {},
     "output_type": "execute_result"
    }
   ],
   "source": [
    "dfn = df.value_counts(subset=['anio', 'ecm']).reset_index(name='conteo').sort_values('anio').reset_index(drop=True)\n",
    "dfn"
   ],
   "metadata": {
    "collapsed": false,
    "pycharm": {
     "name": "#%%\n"
    }
   }
  },
  {
   "cell_type": "code",
   "execution_count": 6,
   "outputs": [
    {
     "data": {
      "application/vnd.plotly.v1+json": {
       "data": [
        {
         "mode": "lines",
         "name": "Casada",
         "x": [
          2001,
          2002,
          2003,
          2004,
          2005,
          2006,
          2007,
          2008,
          2009,
          2010,
          2011,
          2012,
          2013,
          2014,
          2015,
          2016,
          2017,
          2018,
          2019
         ],
         "y": [
          121535,
          114197,
          108368,
          101485,
          95919,
          89843,
          88662,
          86096,
          82352,
          79058,
          76017,
          72403,
          70003,
          70541,
          69645,
          63178,
          57748,
          55926,
          52375
         ],
         "type": "scatter"
        },
        {
         "mode": "lines",
         "name": "Soltera",
         "x": [
          2001,
          2002,
          2003,
          2004,
          2005,
          2006,
          2007,
          2008,
          2009,
          2010,
          2011,
          2012,
          2013,
          2014,
          2015,
          2016,
          2017,
          2018,
          2019
         ],
         "y": [
          124581,
          124784,
          126118,
          128867,
          134912,
          141540,
          151907,
          160485,
          169888,
          171585,
          171293,
          171232,
          172002,
          180456,
          175020,
          167982,
          160728,
          164707,
          156116
         ],
         "type": "scatter"
        },
        {
         "mode": "lines",
         "name": "Otros (viuda, ignorada)",
         "x": [
          2011,
          2016,
          2017,
          2018,
          2019
         ],
         "y": [
          48,
          16,
          12,
          10,
          10
         ],
         "type": "scatter"
        }
       ],
       "layout": {
        "template": {
         "data": {
          "scatter": [
           {
            "type": "scatter"
           }
          ]
         }
        },
        "yaxis": {
         "title": {
          "text": "Número de nacimientos"
         }
        },
        "xaxis": {
         "title": {
          "text": "Periodo de estudio"
         },
         "dtick": "M12"
        }
       },
       "config": {
        "plotlyServerURL": "https://plot.ly"
       }
      },
      "text/html": "<div>                            <div id=\"761f338e-06e4-41f7-9265-0cb9102f1485\" class=\"plotly-graph-div\" style=\"height:525px; width:100%;\"></div>            <script type=\"text/javascript\">                require([\"plotly\"], function(Plotly) {                    window.PLOTLYENV=window.PLOTLYENV || {};                                    if (document.getElementById(\"761f338e-06e4-41f7-9265-0cb9102f1485\")) {                    Plotly.newPlot(                        \"761f338e-06e4-41f7-9265-0cb9102f1485\",                        [{\"mode\":\"lines\",\"name\":\"Casada\",\"x\":[2001,2002,2003,2004,2005,2006,2007,2008,2009,2010,2011,2012,2013,2014,2015,2016,2017,2018,2019],\"y\":[121535,114197,108368,101485,95919,89843,88662,86096,82352,79058,76017,72403,70003,70541,69645,63178,57748,55926,52375],\"type\":\"scatter\"},{\"mode\":\"lines\",\"name\":\"Soltera\",\"x\":[2001,2002,2003,2004,2005,2006,2007,2008,2009,2010,2011,2012,2013,2014,2015,2016,2017,2018,2019],\"y\":[124581,124784,126118,128867,134912,141540,151907,160485,169888,171585,171293,171232,172002,180456,175020,167982,160728,164707,156116],\"type\":\"scatter\"},{\"mode\":\"lines\",\"name\":\"Otros (viuda, ignorada)\",\"x\":[2011,2016,2017,2018,2019],\"y\":[48,16,12,10,10],\"type\":\"scatter\"}],                        {\"template\":{\"data\":{\"scatter\":[{\"type\":\"scatter\"}]}},\"yaxis\":{\"title\":{\"text\":\"N\\u00famero de nacimientos\"}},\"xaxis\":{\"title\":{\"text\":\"Periodo de estudio\"},\"dtick\":\"M12\"}},                        {\"responsive\": true}                    ).then(function(){\n                            \nvar gd = document.getElementById('761f338e-06e4-41f7-9265-0cb9102f1485');\nvar x = new MutationObserver(function (mutations, observer) {{\n        var display = window.getComputedStyle(gd).display;\n        if (!display || display === 'none') {{\n            console.log([gd, 'removed!']);\n            Plotly.purge(gd);\n            observer.disconnect();\n        }}\n}});\n\n// Listen for the removal of the full notebook cells\nvar notebookContainer = gd.closest('#notebook-container');\nif (notebookContainer) {{\n    x.observe(notebookContainer, {childList: true});\n}}\n\n// Listen for the clearing of the current output cell\nvar outputEl = gd.closest('.output');\nif (outputEl) {{\n    x.observe(outputEl, {childList: true});\n}}\n\n                        })                };                });            </script>        </div>"
     },
     "metadata": {},
     "output_type": "display_data"
    }
   ],
   "source": [
    "fig = go.Figure()\n",
    "for c in dfn.ecm.unique().tolist():\n",
    "    fig.add_trace(\n",
    "        go.Scatter(\n",
    "            x = dfn.loc[dfn.ecm == c, 'anio'],\n",
    "            y = dfn.loc[dfn.ecm == c, 'conteo'],\n",
    "            mode='lines',\n",
    "            name= c\n",
    "        )\n",
    "    )\n",
    "fig.update_layout(template='none')\n",
    "fig.update_yaxes(title='Número de nacimientos')\n",
    "fig.update_xaxes(title='Periodo de estudio', dtick='M12',\n",
    "                 # ticklabelmode='period'\n",
    "                 )\n",
    "fig.write_image('resultados/img/01_estadocivilmadre.jpeg')\n",
    "fig.show()"
   ],
   "metadata": {
    "collapsed": false,
    "pycharm": {
     "name": "#%%\n"
    }
   }
  },
  {
   "cell_type": "code",
   "execution_count": 5,
   "outputs": [],
   "source": [],
   "metadata": {
    "collapsed": false,
    "pycharm": {
     "name": "#%%\n"
    }
   }
  }
 ],
 "metadata": {
  "kernelspec": {
   "display_name": "Python 3",
   "language": "python",
   "name": "python3"
  },
  "language_info": {
   "codemirror_mode": {
    "name": "ipython",
    "version": 2
   },
   "file_extension": ".py",
   "mimetype": "text/x-python",
   "name": "python",
   "nbconvert_exporter": "python",
   "pygments_lexer": "ipython2",
   "version": "2.7.6"
  }
 },
 "nbformat": 4,
 "nbformat_minor": 0
}