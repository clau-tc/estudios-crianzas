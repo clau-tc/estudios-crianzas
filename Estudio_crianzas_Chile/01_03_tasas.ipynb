{
 "cells": [
  {
   "cell_type": "code",
   "execution_count": 7,
   "metadata": {
    "collapsed": true,
    "pycharm": {
     "name": "#%%\n"
    }
   },
   "outputs": [],
   "source": [
    "# Se cargan las librerías y tabla de datos\n",
    "import pandas as pd\n",
    "import plotly.express as px\n",
    "from plotly import graph_objects as go\n",
    "import os\n",
    "# os.getcwd()\n",
    "os.chdir('/home/clautc/Proyectos_/Estudios/Estudio_crianzas_Chile')\n",
    "from plotly.subplots import make_subplots\n",
    "ruta = 'data/registros_estadisticos/df_edades.csv'\n",
    "df = pd.read_csv(ruta)\n",
    "df.drop(columns='Unnamed: 0', inplace=True)\n",
    "\n",
    "\n",
    "\n",
    "pob = pd.read_csv('data/registros_estadisticos/proyecciones_1992_2035_data.csv', sep=';', thousands='.')"
   ]
  },
  {
   "cell_type": "code",
   "execution_count": 8,
   "outputs": [],
   "source": [
    "df['grupo_dec_mujer'] = ''\n",
    "df.loc[df['grupo_etario_madre'] == 'MENORES 15 AÑO', 'grupo_dec_mujer'] = '19 o menos'\n",
    "df.loc[df['grupo_etario_madre'] == '15 A 19 AÑOS', 'grupo_dec_mujer'] = '19 o menos'\n",
    "df.loc[df['grupo_etario_madre'] == '20 A 24 AÑOS', 'grupo_dec_mujer'] = '20 a 29'\n",
    "df.loc[df['grupo_etario_madre'] == '25 A 29 AÑOS', 'grupo_dec_mujer'] = '20 a 29'\n",
    "df.loc[df['grupo_etario_madre'] == '30 A 34 AÑOS', 'grupo_dec_mujer'] = '30 a 39'\n",
    "df.loc[df['grupo_etario_madre'] == '35 A 39 AÑOS', 'grupo_dec_mujer'] = '30 a 39'\n",
    "df.loc[df['grupo_etario_madre'] == '40 A 44 AÑOS', 'grupo_dec_mujer'] = '40 a 49'\n",
    "df.loc[df['grupo_etario_madre'] == '45 A 49 AÑOS', 'grupo_dec_mujer'] = '40 a 49'\n",
    "df.loc[df['grupo_etario_madre'] == '50 O MAS AÑOS', 'grupo_dec_mujer'] = '50 o más'\n",
    "\n",
    "df['grupo_quin_mujer'] = ''\n",
    "df.loc[df['grupo_etario_madre'] == 'MENORES 15 AÑO', 'grupo_quin_mujer'] = '19 o menos'\n",
    "df.loc[df['grupo_etario_madre'] == '15 A 19 AÑOS', 'grupo_quin_mujer'] = '19 o menos'\n",
    "df.loc[df['grupo_etario_madre'] == '20 A 24 AÑOS', 'grupo_quin_mujer'] = '20 a 24'\n",
    "df.loc[df['grupo_etario_madre'] == '25 A 29 AÑOS', 'grupo_quin_mujer'] = '25 a 29'\n",
    "df.loc[df['grupo_etario_madre'] == '30 A 34 AÑOS', 'grupo_quin_mujer'] = '30 a 34'\n",
    "df.loc[df['grupo_etario_madre'] == '35 A 39 AÑOS', 'grupo_quin_mujer'] = '35 a 39'\n",
    "df.loc[df['grupo_etario_madre'] == '40 A 44 AÑOS', 'grupo_quin_mujer'] = '40 a 44'\n",
    "df.loc[df['grupo_etario_madre'] == '45 A 49 AÑOS', 'grupo_quin_mujer'] = '45 a 49'\n",
    "df.loc[df['grupo_etario_madre'] == '50 O MAS AÑOS', 'grupo_quin_mujer'] = '45 a 49'\n",
    "\n",
    "df['grupo_etario_padre'] = df['grupo_etario_padre'].str.strip()\n",
    "df['grupo_dec_hombre'] = 'NO ESPECIFICADO'\n",
    "df.loc[df['grupo_etario_padre'] == 'MENORES 15 AÑOS', 'grupo_dec_hombre'] = '19 o menos'\n",
    "df.loc[df['grupo_etario_padre'] == '15 A 19 AÑOS',     'grupo_dec_hombre'] = '19 o menos'\n",
    "df.loc[df['grupo_etario_padre'] == '20 A 24 AÑOS',     'grupo_dec_hombre'] = '20 a 29'\n",
    "df.loc[df['grupo_etario_padre'] == '25 A 29 AÑOS',     'grupo_dec_hombre'] = '20 a 29'\n",
    "df.loc[df['grupo_etario_padre'] == '30 A 34 AÑOS',     'grupo_dec_hombre'] = '30 a 39'\n",
    "df.loc[df['grupo_etario_padre'] == '35 A 39 AÑOS',     'grupo_dec_hombre'] = '30 a 39'\n",
    "df.loc[df['grupo_etario_padre'] == '40 A 44 AÑOS',     'grupo_dec_hombre'] = '40 a 49'\n",
    "df.loc[df['grupo_etario_padre'] == '45 A 49 AÑOS',     'grupo_dec_hombre'] = '40 a 49'\n",
    "df.loc[df['grupo_etario_padre'] == '50 O MAS AÑOS',   'grupo_dec_hombre'] = '50 o más'\n",
    "\n",
    "mask = df.grupo_etario_madre.isin(['NO ESPECIFICADO'])\n",
    "df = df[~mask]  # se eliminan las edades no especificadas de mujeres\n",
    "\n",
    "# pd.crosstab(df.grupo_etario_padre, df.grupo_dec_hombre)\n",
    "\n",
    "df.loc[df['grupo_etario_madre'] == 'MENORES 15 AÑO', 'grupo_etario_madre'] = 'MENORES 15 AÑOS'\n",
    "df['ano_nac'] = pd.to_datetime(df['ano_nac'], format='%Y')\n",
    "df = df.sort_values('ano_nac').reset_index(drop=True)\n",
    "df['anio'] = df.ano_nac.dt.year"
   ],
   "metadata": {
    "collapsed": false,
    "pycharm": {
     "name": "#%%\n"
    }
   }
  },
  {
   "cell_type": "code",
   "execution_count": 9,
   "outputs": [],
   "source": [
    " # Las tasas se sacan con la población de 15 a 49 años de edad\n",
    "# Se define como el número promedio de hijos por cada mil mujeres según su grupo de edad\n",
    "pob = pob.loc[pob.edad >14]\n",
    "pob = pob.loc[pob.edad<50]\n",
    " # solo afecta a las mujeres\n",
    "pobm = pob.loc[pob.sexo=='mujer']\n",
    "pobm = pobm.reset_index(drop=True)\n",
    "# crear variable grupo edad por diez\n",
    "\n",
    "# pobm['grupo_dec'] = ''\n",
    "# pobm.loc[pobm.edad  < 20, 'grupo_dec'] = '19 o menos'\n",
    "# pobm.loc[(pobm.edad > 19) & (pobm.edad < 30), 'grupo_dec'] = '20 a 29'\n",
    "# pobm.loc[(pobm.edad > 29) & (pobm.edad < 40), 'grupo_dec'] = '30 a 39'\n",
    "# pobm.loc[(pobm.edad > 39) & (pobm.edad < 50), 'grupo_dec'] = '40 a 49'\n",
    "# pobm.loc[pobm.edad  > 49, 'grupo_dec'] = '50 o más'\n",
    "\n",
    "pobm['grupo_quin'] = ''\n",
    "pobm.loc[pobm.edad  < 20, 'grupo_quin'] = '19 o menos'\n",
    "pobm.loc[(pobm.edad > 19) & (pobm.edad < 25), 'grupo_quin'] = '20 a 24'\n",
    "pobm.loc[(pobm.edad > 24) & (pobm.edad < 30), 'grupo_quin'] = '25 a 29'\n",
    "pobm.loc[(pobm.edad > 29) & (pobm.edad < 35), 'grupo_quin'] = '30 a 34'\n",
    "pobm.loc[(pobm.edad > 34) & (pobm.edad < 40), 'grupo_quin'] = '35 a 39'\n",
    "pobm.loc[(pobm.edad > 39) & (pobm.edad < 45), 'grupo_quin'] = '40 a 44'\n",
    "pobm.loc[(pobm.edad > 44) & (pobm.edad < 50), 'grupo_quin'] = '45 a 49'\n"
   ],
   "metadata": {
    "collapsed": false,
    "pycharm": {
     "name": "#%%\n"
    }
   }
  },
  {
   "cell_type": "code",
   "execution_count": 10,
   "outputs": [],
   "source": [
    "\n",
    "pobm = pobm.drop(columns=['edad', 'sexo'])"
   ],
   "metadata": {
    "collapsed": false,
    "pycharm": {
     "name": "#%%\n"
    }
   }
  },
  {
   "cell_type": "code",
   "execution_count": 11,
   "outputs": [
    {
     "data": {
      "text/plain": "             gr variable     pop  anio\n0    19 o menos     1992  627853  1992\n1       45 a 49     1992  339800  1992\n2       20 a 24     1992  607700  1992\n3       40 a 44     1992  417676  1992\n4       25 a 29     1992  613759  1992\n..          ...      ...     ...   ...\n191     30 a 34     2019  745995  2019\n192  19 o menos     2019  625645  2019\n193     20 a 24     2019  711606  2019\n194     25 a 29     2019  800590  2019\n195     35 a 39     2019  691342  2019\n\n[196 rows x 4 columns]",
      "text/html": "<div>\n<style scoped>\n    .dataframe tbody tr th:only-of-type {\n        vertical-align: middle;\n    }\n\n    .dataframe tbody tr th {\n        vertical-align: top;\n    }\n\n    .dataframe thead th {\n        text-align: right;\n    }\n</style>\n<table border=\"1\" class=\"dataframe\">\n  <thead>\n    <tr style=\"text-align: right;\">\n      <th></th>\n      <th>gr</th>\n      <th>variable</th>\n      <th>pop</th>\n      <th>anio</th>\n    </tr>\n  </thead>\n  <tbody>\n    <tr>\n      <th>0</th>\n      <td>19 o menos</td>\n      <td>1992</td>\n      <td>627853</td>\n      <td>1992</td>\n    </tr>\n    <tr>\n      <th>1</th>\n      <td>45 a 49</td>\n      <td>1992</td>\n      <td>339800</td>\n      <td>1992</td>\n    </tr>\n    <tr>\n      <th>2</th>\n      <td>20 a 24</td>\n      <td>1992</td>\n      <td>607700</td>\n      <td>1992</td>\n    </tr>\n    <tr>\n      <th>3</th>\n      <td>40 a 44</td>\n      <td>1992</td>\n      <td>417676</td>\n      <td>1992</td>\n    </tr>\n    <tr>\n      <th>4</th>\n      <td>25 a 29</td>\n      <td>1992</td>\n      <td>613759</td>\n      <td>1992</td>\n    </tr>\n    <tr>\n      <th>...</th>\n      <td>...</td>\n      <td>...</td>\n      <td>...</td>\n      <td>...</td>\n    </tr>\n    <tr>\n      <th>191</th>\n      <td>30 a 34</td>\n      <td>2019</td>\n      <td>745995</td>\n      <td>2019</td>\n    </tr>\n    <tr>\n      <th>192</th>\n      <td>19 o menos</td>\n      <td>2019</td>\n      <td>625645</td>\n      <td>2019</td>\n    </tr>\n    <tr>\n      <th>193</th>\n      <td>20 a 24</td>\n      <td>2019</td>\n      <td>711606</td>\n      <td>2019</td>\n    </tr>\n    <tr>\n      <th>194</th>\n      <td>25 a 29</td>\n      <td>2019</td>\n      <td>800590</td>\n      <td>2019</td>\n    </tr>\n    <tr>\n      <th>195</th>\n      <td>35 a 39</td>\n      <td>2019</td>\n      <td>691342</td>\n      <td>2019</td>\n    </tr>\n  </tbody>\n</table>\n<p>196 rows × 4 columns</p>\n</div>"
     },
     "execution_count": 11,
     "metadata": {},
     "output_type": "execute_result"
    }
   ],
   "source": [
    "\n",
    "poblacion_quin = pobm.melt(id_vars=['grupo_quin']).groupby(['grupo_quin', 'variable'])['value'].sum().reset_index()\n",
    "\n",
    "poblacion_quin.columns = ['gr', 'variable', 'pop']\n",
    "poblacion_quin['anio'] = pd.to_datetime(poblacion_quin['variable'], format='%Y')\n",
    "poblacion_quin = poblacion_quin.sort_values('anio').reset_index(drop=True)\n",
    "poblacion_quin['anio'] = poblacion_quin.anio.dt.year\n",
    "poblacion_quin = poblacion_quin.loc[poblacion_quin.anio<2020]\n",
    "# poblacion_quin\n",
    "\n",
    "poblacion_tot= pobm.melt(id_vars=['grupo_quin']).groupby(['variable'])['value'].sum().reset_index()\n",
    "poblacion_tot['anio'] = pd.to_datetime(poblacion_tot['variable'], format='%Y')\n",
    "poblacion_tot = poblacion_tot.sort_values('anio').reset_index(drop=True)\n",
    "poblacion_tot['anio'] = poblacion_tot.anio.dt.year\n",
    "\n",
    "poblacion_quin\n"
   ],
   "metadata": {
    "collapsed": false,
    "pycharm": {
     "name": "#%%\n"
    }
   }
  },
  {
   "cell_type": "code",
   "execution_count": 12,
   "outputs": [
    {
     "data": {
      "text/plain": "     anio grupo_quin_mujer  nacimientos       gr     pop       tef  \\\n0    1992          25 a 29        78634  25 a 29  613759  0.128119   \n1    1992          20 a 24        76163  20 a 24  607700  0.125330   \n2    1992          45 a 49          366  45 a 49  339800  0.001077   \n3    1992          40 a 44         5682  40 a 44  417676  0.013604   \n4    1992          35 a 39        25164  35 a 39  509147  0.049424   \n..    ...              ...          ...      ...     ...       ...   \n191  2019          35 a 39        34100  35 a 39  691342  0.049324   \n192  2019          20 a 24        40194  20 a 24  711606  0.056484   \n193  2019          40 a 44         8837  40 a 44  663414  0.013320   \n194  2019          30 a 34        56105  30 a 34  745995  0.075208   \n195  2019          45 a 49          540  45 a 49  627382  0.000861   \n\n        tef_mil       tgf  \n0    128.118692  2.369938  \n1    125.329933  2.369938  \n2      1.077104  2.369938  \n3     13.603846  2.369938  \n4     49.423840  2.369938  \n..          ...       ...  \n191   49.324358  1.435817  \n192   56.483504  1.435817  \n193   13.320491  1.435817  \n194   75.208279  1.435817  \n195    0.860720  1.435817  \n\n[196 rows x 8 columns]",
      "text/html": "<div>\n<style scoped>\n    .dataframe tbody tr th:only-of-type {\n        vertical-align: middle;\n    }\n\n    .dataframe tbody tr th {\n        vertical-align: top;\n    }\n\n    .dataframe thead th {\n        text-align: right;\n    }\n</style>\n<table border=\"1\" class=\"dataframe\">\n  <thead>\n    <tr style=\"text-align: right;\">\n      <th></th>\n      <th>anio</th>\n      <th>grupo_quin_mujer</th>\n      <th>nacimientos</th>\n      <th>gr</th>\n      <th>pop</th>\n      <th>tef</th>\n      <th>tef_mil</th>\n      <th>tgf</th>\n    </tr>\n  </thead>\n  <tbody>\n    <tr>\n      <th>0</th>\n      <td>1992</td>\n      <td>25 a 29</td>\n      <td>78634</td>\n      <td>25 a 29</td>\n      <td>613759</td>\n      <td>0.128119</td>\n      <td>128.118692</td>\n      <td>2.369938</td>\n    </tr>\n    <tr>\n      <th>1</th>\n      <td>1992</td>\n      <td>20 a 24</td>\n      <td>76163</td>\n      <td>20 a 24</td>\n      <td>607700</td>\n      <td>0.125330</td>\n      <td>125.329933</td>\n      <td>2.369938</td>\n    </tr>\n    <tr>\n      <th>2</th>\n      <td>1992</td>\n      <td>45 a 49</td>\n      <td>366</td>\n      <td>45 a 49</td>\n      <td>339800</td>\n      <td>0.001077</td>\n      <td>1.077104</td>\n      <td>2.369938</td>\n    </tr>\n    <tr>\n      <th>3</th>\n      <td>1992</td>\n      <td>40 a 44</td>\n      <td>5682</td>\n      <td>40 a 44</td>\n      <td>417676</td>\n      <td>0.013604</td>\n      <td>13.603846</td>\n      <td>2.369938</td>\n    </tr>\n    <tr>\n      <th>4</th>\n      <td>1992</td>\n      <td>35 a 39</td>\n      <td>25164</td>\n      <td>35 a 39</td>\n      <td>509147</td>\n      <td>0.049424</td>\n      <td>49.423840</td>\n      <td>2.369938</td>\n    </tr>\n    <tr>\n      <th>...</th>\n      <td>...</td>\n      <td>...</td>\n      <td>...</td>\n      <td>...</td>\n      <td>...</td>\n      <td>...</td>\n      <td>...</td>\n      <td>...</td>\n    </tr>\n    <tr>\n      <th>191</th>\n      <td>2019</td>\n      <td>35 a 39</td>\n      <td>34100</td>\n      <td>35 a 39</td>\n      <td>691342</td>\n      <td>0.049324</td>\n      <td>49.324358</td>\n      <td>1.435817</td>\n    </tr>\n    <tr>\n      <th>192</th>\n      <td>2019</td>\n      <td>20 a 24</td>\n      <td>40194</td>\n      <td>20 a 24</td>\n      <td>711606</td>\n      <td>0.056484</td>\n      <td>56.483504</td>\n      <td>1.435817</td>\n    </tr>\n    <tr>\n      <th>193</th>\n      <td>2019</td>\n      <td>40 a 44</td>\n      <td>8837</td>\n      <td>40 a 44</td>\n      <td>663414</td>\n      <td>0.013320</td>\n      <td>13.320491</td>\n      <td>1.435817</td>\n    </tr>\n    <tr>\n      <th>194</th>\n      <td>2019</td>\n      <td>30 a 34</td>\n      <td>56105</td>\n      <td>30 a 34</td>\n      <td>745995</td>\n      <td>0.075208</td>\n      <td>75.208279</td>\n      <td>1.435817</td>\n    </tr>\n    <tr>\n      <th>195</th>\n      <td>2019</td>\n      <td>45 a 49</td>\n      <td>540</td>\n      <td>45 a 49</td>\n      <td>627382</td>\n      <td>0.000861</td>\n      <td>0.860720</td>\n      <td>1.435817</td>\n    </tr>\n  </tbody>\n</table>\n<p>196 rows × 8 columns</p>\n</div>"
     },
     "execution_count": 12,
     "metadata": {},
     "output_type": "execute_result"
    }
   ],
   "source": [
    "df.value_counts(subset=['anio']).reset_index(name='nacimientos')\n",
    "tef = pd.merge(df.value_counts(subset=['anio', 'grupo_quin_mujer']).reset_index(name='nacimientos'),\n",
    "               poblacion_quin.drop(columns='variable'),\n",
    "               left_on=['anio', 'grupo_quin_mujer'], right_on=['anio', 'gr'])\n",
    "tef['tef'] = tef.nacimientos/tef['pop']\n",
    "tef['tef_mil'] = tef.nacimientos/tef['pop'] *1000\n",
    "gr = tef.groupby('anio')\n",
    "tef['tgf'] = gr['tef'].transform(sum)*5\n",
    "# len(tef.grupo_quin_mujer.unique())\n",
    "df_tef = tef.sort_values('anio').reset_index(drop=True)\n",
    "df_tef"
   ],
   "metadata": {
    "collapsed": false,
    "pycharm": {
     "name": "#%%\n"
    }
   }
  },
  {
   "cell_type": "code",
   "execution_count": 13,
   "outputs": [],
   "source": [
    "df_tef['orden_edad'] = 0\n",
    "df_tef.loc[df_tef.gr.str.match('^[1]9'), 'orden_edad'] = 1\n",
    "df_tef.loc[df_tef.gr.str.match('^[2]0'), 'orden_edad'] = 2\n",
    "df_tef.loc[df_tef.gr.str.match('^[2]5'), 'orden_edad'] = 3\n",
    "df_tef.loc[df_tef.gr.str.match('^[3]0'), 'orden_edad'] = 4\n",
    "df_tef.loc[df_tef.gr.str.match('^[3]5'), 'orden_edad'] = 5\n",
    "df_tef.loc[df_tef.gr.str.match('^[4]0'), 'orden_edad'] = 6\n",
    "df_tef.loc[df_tef.gr.str.match('^[4]5'), 'orden_edad'] = 7\n",
    "df_tef = df_tef.sort_values(['anio', 'orden_edad']).reset_index(drop=True)"
   ],
   "metadata": {
    "collapsed": false,
    "pycharm": {
     "name": "#%%\n"
    }
   }
  },
  {
   "cell_type": "code",
   "execution_count": 97,
   "outputs": [],
   "source": [
    "# df_tef\n",
    "# anios = df_tef.anio.unique()\n",
    "anios = [1992,  1999, 2009,  2019]\n",
    "grupos = df_tef.gr.unique()\n",
    "shift = [45, 15, -25, -45]\n",
    "posiciones = ['top left', 'middle right', 'bottom left', 'bottom right']\n",
    "colores = ['#1F77B4', '#FF7F0E', '#2CA02C', '#D62728']"
   ],
   "metadata": {
    "collapsed": false,
    "pycharm": {
     "name": "#%%\n"
    }
   }
  },
  {
   "cell_type": "markdown",
   "source": [
    "La tasa específica de fecundidad refiere al número de nacimientos que ocurren durante un determinado año o periodo de\n",
    "referencia por cada mil mujeres en edad reproductiva (15 a 49 años de edad) clasificada en grupos de edad simple o\n",
    "quinquenales.\n",
    "\n",
    "Esta tasa sirve como medida de la frecuencia relativa de las personas nacidas vivas tenidas por mujeres de diferentes\n",
    " edades durante sus años reproductivos. También es un cómputo intermedio para calcular la tasa global de fecundidad.\n",
    " La tasa global de fecundidad es el número de personas que nacerían por mujer o por mil mujeres, si ella o ellas\n",
    " tuvieran sus hijos o hijas en todos sus años reproductivos.\n",
    "\n",
    "Es un indicador que no se ve afectado por la composición de la población por edad y sexo y proporciona una medida\n",
    "fácil de comprender de la fecundidad hipotética completa.\n",
    "\n",
    "\n"
   ],
   "metadata": {
    "collapsed": false,
    "pycharm": {
     "name": "#%% md\n"
    }
   }
  },
  {
   "cell_type": "code",
   "execution_count": 99,
   "outputs": [
    {
     "name": "stdout",
     "output_type": "stream",
     "text": [
      "0     60.955351\n",
      "1    125.329933\n",
      "2    128.118692\n",
      "3     95.478737\n",
      "4     49.423840\n",
      "5     13.603846\n",
      "6      1.077104\n",
      "Name: tef_mil, dtype: float64\n",
      "0    19 o menos\n",
      "1       20 a 24\n",
      "2       25 a 29\n",
      "3       30 a 34\n",
      "4       35 a 39\n",
      "5       40 a 44\n",
      "6       45 a 49\n",
      "Name: gr, dtype: object\n",
      "49     62.952216\n",
      "50     93.926972\n",
      "51    105.177877\n",
      "52     82.740680\n",
      "53     48.903652\n",
      "54     12.645773\n",
      "55      0.660018\n",
      "Name: tef_mil, dtype: float64\n",
      "49    19 o menos\n",
      "50       20 a 24\n",
      "51       25 a 29\n",
      "52       30 a 34\n",
      "53       35 a 39\n",
      "54       40 a 44\n",
      "55       45 a 49\n",
      "Name: gr, dtype: object\n",
      "119    55.868054\n",
      "120    88.654894\n",
      "121    93.939591\n",
      "122    78.425001\n",
      "123    51.162427\n",
      "124    13.902705\n",
      "125     0.761514\n",
      "Name: tef_mil, dtype: float64\n",
      "119    19 o menos\n",
      "120       20 a 24\n",
      "121       25 a 29\n",
      "122       30 a 34\n",
      "123       35 a 39\n",
      "124       40 a 44\n",
      "125       45 a 49\n",
      "Name: gr, dtype: object\n",
      "189    19.143444\n",
      "190    56.483504\n",
      "191    72.822543\n",
      "192    75.208279\n",
      "193    49.324358\n",
      "194    13.320491\n",
      "195     0.860720\n",
      "Name: tef_mil, dtype: float64\n",
      "189    19 o menos\n",
      "190       20 a 24\n",
      "191       25 a 29\n",
      "192       30 a 34\n",
      "193       35 a 39\n",
      "194       40 a 44\n",
      "195       45 a 49\n",
      "Name: gr, dtype: object\n"
     ]
    },
    {
     "data": {
      "application/vnd.plotly.v1+json": {
       "data": [
        {
         "legendrank": 1,
         "mode": "lines+markers",
         "name": "1992",
         "x": [
          "19 o menos",
          "20 a 24",
          "25 a 29",
          "30 a 34",
          "35 a 39",
          "40 a 44",
          "45 a 49"
         ],
         "y": [
          60.9553510136927,
          125.32993253249958,
          128.11869153853547,
          95.47873656236969,
          49.42384026617067,
          13.603846043344602,
          1.0771041789287816
         ],
         "type": "scatter"
        },
        {
         "legendrank": 1,
         "mode": "lines+markers",
         "name": "1999",
         "x": [
          "19 o menos",
          "20 a 24",
          "25 a 29",
          "30 a 34",
          "35 a 39",
          "40 a 44",
          "45 a 49"
         ],
         "y": [
          62.95221591674684,
          93.92697235515983,
          105.17787652503155,
          82.74067959070806,
          48.90365154081866,
          12.645772938876876,
          0.6600180844955151
         ],
         "type": "scatter"
        },
        {
         "legendrank": 1,
         "mode": "lines+markers",
         "name": "2009",
         "x": [
          "19 o menos",
          "20 a 24",
          "25 a 29",
          "30 a 34",
          "35 a 39",
          "40 a 44",
          "45 a 49"
         ],
         "y": [
          55.868053553829725,
          88.65489379890164,
          93.93959071596876,
          78.42500054946952,
          51.16242664001057,
          13.902705365041202,
          0.7615140408439085
         ],
         "type": "scatter"
        },
        {
         "legendrank": 1,
         "mode": "lines+markers",
         "name": "2019",
         "x": [
          "19 o menos",
          "20 a 24",
          "25 a 29",
          "30 a 34",
          "35 a 39",
          "40 a 44",
          "45 a 49"
         ],
         "y": [
          19.143443965827267,
          56.48350351177477,
          72.82254337426149,
          75.20827887586377,
          49.324357553859016,
          13.320490673998437,
          0.8607196253638134
         ],
         "type": "scatter"
        }
       ],
       "layout": {
        "template": {
         "data": {
          "scatter": [
           {
            "type": "scatter"
           }
          ]
         }
        },
        "annotations": [
         {
          "bgcolor": "#1F77B4",
          "bordercolor": "#1F77B4",
          "borderpad": 4,
          "borderwidth": 2,
          "font": {
           "color": "white",
           "size": 16
          },
          "showarrow": false,
          "text": "61",
          "x": "19 o menos",
          "y": 60.9553510136927,
          "yshift": 45
         },
         {
          "bgcolor": "#1F77B4",
          "bordercolor": "#1F77B4",
          "borderpad": 4,
          "borderwidth": 2,
          "font": {
           "color": "white",
           "size": 16
          },
          "showarrow": false,
          "text": "125",
          "x": "20 a 24",
          "y": 125.32993253249958,
          "yshift": 45
         },
         {
          "bgcolor": "#1F77B4",
          "bordercolor": "#1F77B4",
          "borderpad": 4,
          "borderwidth": 2,
          "font": {
           "color": "white",
           "size": 16
          },
          "showarrow": false,
          "text": "128",
          "x": "25 a 29",
          "y": 128.11869153853547,
          "yshift": 45
         },
         {
          "bgcolor": "#1F77B4",
          "bordercolor": "#1F77B4",
          "borderpad": 4,
          "borderwidth": 2,
          "font": {
           "color": "white",
           "size": 16
          },
          "showarrow": false,
          "text": "95",
          "x": "30 a 34",
          "y": 95.47873656236969,
          "yshift": 45
         },
         {
          "bgcolor": "#1F77B4",
          "bordercolor": "#1F77B4",
          "borderpad": 4,
          "borderwidth": 2,
          "font": {
           "color": "white",
           "size": 16
          },
          "showarrow": false,
          "text": "49",
          "x": "35 a 39",
          "y": 49.42384026617067,
          "yshift": 45
         },
         {
          "bgcolor": "#1F77B4",
          "bordercolor": "#1F77B4",
          "borderpad": 4,
          "borderwidth": 2,
          "font": {
           "color": "white",
           "size": 16
          },
          "showarrow": false,
          "text": "14",
          "x": "40 a 44",
          "y": 13.603846043344602,
          "yshift": 45
         },
         {
          "bgcolor": "#1F77B4",
          "bordercolor": "#1F77B4",
          "borderpad": 4,
          "borderwidth": 2,
          "font": {
           "color": "white",
           "size": 16
          },
          "showarrow": false,
          "text": "1",
          "x": "45 a 49",
          "y": 1.0771041789287816,
          "yshift": 45
         },
         {
          "bgcolor": "#FF7F0E",
          "bordercolor": "#FF7F0E",
          "borderpad": 4,
          "borderwidth": 2,
          "font": {
           "color": "white",
           "size": 16
          },
          "showarrow": false,
          "text": "63",
          "x": "19 o menos",
          "y": 62.95221591674684,
          "yshift": 15
         },
         {
          "bgcolor": "#FF7F0E",
          "bordercolor": "#FF7F0E",
          "borderpad": 4,
          "borderwidth": 2,
          "font": {
           "color": "white",
           "size": 16
          },
          "showarrow": false,
          "text": "94",
          "x": "20 a 24",
          "y": 93.92697235515983,
          "yshift": 15
         },
         {
          "bgcolor": "#FF7F0E",
          "bordercolor": "#FF7F0E",
          "borderpad": 4,
          "borderwidth": 2,
          "font": {
           "color": "white",
           "size": 16
          },
          "showarrow": false,
          "text": "105",
          "x": "25 a 29",
          "y": 105.17787652503155,
          "yshift": 15
         },
         {
          "bgcolor": "#FF7F0E",
          "bordercolor": "#FF7F0E",
          "borderpad": 4,
          "borderwidth": 2,
          "font": {
           "color": "white",
           "size": 16
          },
          "showarrow": false,
          "text": "83",
          "x": "30 a 34",
          "y": 82.74067959070806,
          "yshift": 15
         },
         {
          "bgcolor": "#FF7F0E",
          "bordercolor": "#FF7F0E",
          "borderpad": 4,
          "borderwidth": 2,
          "font": {
           "color": "white",
           "size": 16
          },
          "showarrow": false,
          "text": "49",
          "x": "35 a 39",
          "y": 48.90365154081866,
          "yshift": 15
         },
         {
          "bgcolor": "#FF7F0E",
          "bordercolor": "#FF7F0E",
          "borderpad": 4,
          "borderwidth": 2,
          "font": {
           "color": "white",
           "size": 16
          },
          "showarrow": false,
          "text": "13",
          "x": "40 a 44",
          "y": 12.645772938876876,
          "yshift": 15
         },
         {
          "bgcolor": "#FF7F0E",
          "bordercolor": "#FF7F0E",
          "borderpad": 4,
          "borderwidth": 2,
          "font": {
           "color": "white",
           "size": 16
          },
          "showarrow": false,
          "text": "1",
          "x": "45 a 49",
          "y": 0.6600180844955151,
          "yshift": 15
         },
         {
          "bgcolor": "#2CA02C",
          "bordercolor": "#2CA02C",
          "borderpad": 4,
          "borderwidth": 2,
          "font": {
           "color": "white",
           "size": 16
          },
          "showarrow": false,
          "text": "56",
          "x": "19 o menos",
          "y": 55.868053553829725,
          "yshift": -25
         },
         {
          "bgcolor": "#2CA02C",
          "bordercolor": "#2CA02C",
          "borderpad": 4,
          "borderwidth": 2,
          "font": {
           "color": "white",
           "size": 16
          },
          "showarrow": false,
          "text": "89",
          "x": "20 a 24",
          "y": 88.65489379890164,
          "yshift": -25
         },
         {
          "bgcolor": "#2CA02C",
          "bordercolor": "#2CA02C",
          "borderpad": 4,
          "borderwidth": 2,
          "font": {
           "color": "white",
           "size": 16
          },
          "showarrow": false,
          "text": "94",
          "x": "25 a 29",
          "y": 93.93959071596876,
          "yshift": -25
         },
         {
          "bgcolor": "#2CA02C",
          "bordercolor": "#2CA02C",
          "borderpad": 4,
          "borderwidth": 2,
          "font": {
           "color": "white",
           "size": 16
          },
          "showarrow": false,
          "text": "78",
          "x": "30 a 34",
          "y": 78.42500054946952,
          "yshift": -25
         },
         {
          "bgcolor": "#2CA02C",
          "bordercolor": "#2CA02C",
          "borderpad": 4,
          "borderwidth": 2,
          "font": {
           "color": "white",
           "size": 16
          },
          "showarrow": false,
          "text": "51",
          "x": "35 a 39",
          "y": 51.16242664001057,
          "yshift": -25
         },
         {
          "bgcolor": "#2CA02C",
          "bordercolor": "#2CA02C",
          "borderpad": 4,
          "borderwidth": 2,
          "font": {
           "color": "white",
           "size": 16
          },
          "showarrow": false,
          "text": "14",
          "x": "40 a 44",
          "y": 13.902705365041202,
          "yshift": -25
         },
         {
          "bgcolor": "#2CA02C",
          "bordercolor": "#2CA02C",
          "borderpad": 4,
          "borderwidth": 2,
          "font": {
           "color": "white",
           "size": 16
          },
          "showarrow": false,
          "text": "1",
          "x": "45 a 49",
          "y": 0.7615140408439085,
          "yshift": -25
         },
         {
          "bgcolor": "#D62728",
          "bordercolor": "#D62728",
          "borderpad": 4,
          "borderwidth": 2,
          "font": {
           "color": "white",
           "size": 16
          },
          "showarrow": false,
          "text": "19",
          "x": "19 o menos",
          "y": 19.143443965827267,
          "yshift": -45
         },
         {
          "bgcolor": "#D62728",
          "bordercolor": "#D62728",
          "borderpad": 4,
          "borderwidth": 2,
          "font": {
           "color": "white",
           "size": 16
          },
          "showarrow": false,
          "text": "56",
          "x": "20 a 24",
          "y": 56.48350351177477,
          "yshift": -45
         },
         {
          "bgcolor": "#D62728",
          "bordercolor": "#D62728",
          "borderpad": 4,
          "borderwidth": 2,
          "font": {
           "color": "white",
           "size": 16
          },
          "showarrow": false,
          "text": "73",
          "x": "25 a 29",
          "y": 72.82254337426149,
          "yshift": -45
         },
         {
          "bgcolor": "#D62728",
          "bordercolor": "#D62728",
          "borderpad": 4,
          "borderwidth": 2,
          "font": {
           "color": "white",
           "size": 16
          },
          "showarrow": false,
          "text": "75",
          "x": "30 a 34",
          "y": 75.20827887586377,
          "yshift": -45
         },
         {
          "bgcolor": "#D62728",
          "bordercolor": "#D62728",
          "borderpad": 4,
          "borderwidth": 2,
          "font": {
           "color": "white",
           "size": 16
          },
          "showarrow": false,
          "text": "49",
          "x": "35 a 39",
          "y": 49.324357553859016,
          "yshift": -45
         },
         {
          "bgcolor": "#D62728",
          "bordercolor": "#D62728",
          "borderpad": 4,
          "borderwidth": 2,
          "font": {
           "color": "white",
           "size": 16
          },
          "showarrow": false,
          "text": "13",
          "x": "40 a 44",
          "y": 13.320490673998437,
          "yshift": -45
         },
         {
          "bgcolor": "#D62728",
          "bordercolor": "#D62728",
          "borderpad": 4,
          "borderwidth": 2,
          "font": {
           "color": "white",
           "size": 16
          },
          "showarrow": false,
          "text": "1",
          "x": "45 a 49",
          "y": 0.8607196253638134,
          "yshift": -45
         }
        ],
        "yaxis": {
         "title": {
          "text": "Tasas Específicas de Fecundidad"
         }
        },
        "xaxis": {
         "title": {
          "text": "Grupos de edades quinquenales"
         },
         "dtick": "M12",
         "ticklabelmode": "period"
        }
       },
       "config": {
        "plotlyServerURL": "https://plot.ly"
       }
      },
      "text/html": "<div>                            <div id=\"2bfd56a0-98ce-4980-8b41-cff6ac8949af\" class=\"plotly-graph-div\" style=\"height:525px; width:100%;\"></div>            <script type=\"text/javascript\">                require([\"plotly\"], function(Plotly) {                    window.PLOTLYENV=window.PLOTLYENV || {};                                    if (document.getElementById(\"2bfd56a0-98ce-4980-8b41-cff6ac8949af\")) {                    Plotly.newPlot(                        \"2bfd56a0-98ce-4980-8b41-cff6ac8949af\",                        [{\"legendrank\":1,\"mode\":\"lines+markers\",\"name\":\"1992\",\"x\":[\"19 o menos\",\"20 a 24\",\"25 a 29\",\"30 a 34\",\"35 a 39\",\"40 a 44\",\"45 a 49\"],\"y\":[60.9553510136927,125.32993253249958,128.11869153853547,95.47873656236969,49.42384026617067,13.603846043344602,1.0771041789287816],\"type\":\"scatter\"},{\"legendrank\":1,\"mode\":\"lines+markers\",\"name\":\"1999\",\"x\":[\"19 o menos\",\"20 a 24\",\"25 a 29\",\"30 a 34\",\"35 a 39\",\"40 a 44\",\"45 a 49\"],\"y\":[62.95221591674684,93.92697235515983,105.17787652503155,82.74067959070806,48.90365154081866,12.645772938876876,0.6600180844955151],\"type\":\"scatter\"},{\"legendrank\":1,\"mode\":\"lines+markers\",\"name\":\"2009\",\"x\":[\"19 o menos\",\"20 a 24\",\"25 a 29\",\"30 a 34\",\"35 a 39\",\"40 a 44\",\"45 a 49\"],\"y\":[55.868053553829725,88.65489379890164,93.93959071596876,78.42500054946952,51.16242664001057,13.902705365041202,0.7615140408439085],\"type\":\"scatter\"},{\"legendrank\":1,\"mode\":\"lines+markers\",\"name\":\"2019\",\"x\":[\"19 o menos\",\"20 a 24\",\"25 a 29\",\"30 a 34\",\"35 a 39\",\"40 a 44\",\"45 a 49\"],\"y\":[19.143443965827267,56.48350351177477,72.82254337426149,75.20827887586377,49.324357553859016,13.320490673998437,0.8607196253638134],\"type\":\"scatter\"}],                        {\"template\":{\"data\":{\"scatter\":[{\"type\":\"scatter\"}]}},\"annotations\":[{\"bgcolor\":\"#1F77B4\",\"bordercolor\":\"#1F77B4\",\"borderpad\":4,\"borderwidth\":2,\"font\":{\"color\":\"white\",\"size\":16},\"showarrow\":false,\"text\":\"61\",\"x\":\"19 o menos\",\"y\":60.9553510136927,\"yshift\":45},{\"bgcolor\":\"#1F77B4\",\"bordercolor\":\"#1F77B4\",\"borderpad\":4,\"borderwidth\":2,\"font\":{\"color\":\"white\",\"size\":16},\"showarrow\":false,\"text\":\"125\",\"x\":\"20 a 24\",\"y\":125.32993253249958,\"yshift\":45},{\"bgcolor\":\"#1F77B4\",\"bordercolor\":\"#1F77B4\",\"borderpad\":4,\"borderwidth\":2,\"font\":{\"color\":\"white\",\"size\":16},\"showarrow\":false,\"text\":\"128\",\"x\":\"25 a 29\",\"y\":128.11869153853547,\"yshift\":45},{\"bgcolor\":\"#1F77B4\",\"bordercolor\":\"#1F77B4\",\"borderpad\":4,\"borderwidth\":2,\"font\":{\"color\":\"white\",\"size\":16},\"showarrow\":false,\"text\":\"95\",\"x\":\"30 a 34\",\"y\":95.47873656236969,\"yshift\":45},{\"bgcolor\":\"#1F77B4\",\"bordercolor\":\"#1F77B4\",\"borderpad\":4,\"borderwidth\":2,\"font\":{\"color\":\"white\",\"size\":16},\"showarrow\":false,\"text\":\"49\",\"x\":\"35 a 39\",\"y\":49.42384026617067,\"yshift\":45},{\"bgcolor\":\"#1F77B4\",\"bordercolor\":\"#1F77B4\",\"borderpad\":4,\"borderwidth\":2,\"font\":{\"color\":\"white\",\"size\":16},\"showarrow\":false,\"text\":\"14\",\"x\":\"40 a 44\",\"y\":13.603846043344602,\"yshift\":45},{\"bgcolor\":\"#1F77B4\",\"bordercolor\":\"#1F77B4\",\"borderpad\":4,\"borderwidth\":2,\"font\":{\"color\":\"white\",\"size\":16},\"showarrow\":false,\"text\":\"1\",\"x\":\"45 a 49\",\"y\":1.0771041789287816,\"yshift\":45},{\"bgcolor\":\"#FF7F0E\",\"bordercolor\":\"#FF7F0E\",\"borderpad\":4,\"borderwidth\":2,\"font\":{\"color\":\"white\",\"size\":16},\"showarrow\":false,\"text\":\"63\",\"x\":\"19 o menos\",\"y\":62.95221591674684,\"yshift\":15},{\"bgcolor\":\"#FF7F0E\",\"bordercolor\":\"#FF7F0E\",\"borderpad\":4,\"borderwidth\":2,\"font\":{\"color\":\"white\",\"size\":16},\"showarrow\":false,\"text\":\"94\",\"x\":\"20 a 24\",\"y\":93.92697235515983,\"yshift\":15},{\"bgcolor\":\"#FF7F0E\",\"bordercolor\":\"#FF7F0E\",\"borderpad\":4,\"borderwidth\":2,\"font\":{\"color\":\"white\",\"size\":16},\"showarrow\":false,\"text\":\"105\",\"x\":\"25 a 29\",\"y\":105.17787652503155,\"yshift\":15},{\"bgcolor\":\"#FF7F0E\",\"bordercolor\":\"#FF7F0E\",\"borderpad\":4,\"borderwidth\":2,\"font\":{\"color\":\"white\",\"size\":16},\"showarrow\":false,\"text\":\"83\",\"x\":\"30 a 34\",\"y\":82.74067959070806,\"yshift\":15},{\"bgcolor\":\"#FF7F0E\",\"bordercolor\":\"#FF7F0E\",\"borderpad\":4,\"borderwidth\":2,\"font\":{\"color\":\"white\",\"size\":16},\"showarrow\":false,\"text\":\"49\",\"x\":\"35 a 39\",\"y\":48.90365154081866,\"yshift\":15},{\"bgcolor\":\"#FF7F0E\",\"bordercolor\":\"#FF7F0E\",\"borderpad\":4,\"borderwidth\":2,\"font\":{\"color\":\"white\",\"size\":16},\"showarrow\":false,\"text\":\"13\",\"x\":\"40 a 44\",\"y\":12.645772938876876,\"yshift\":15},{\"bgcolor\":\"#FF7F0E\",\"bordercolor\":\"#FF7F0E\",\"borderpad\":4,\"borderwidth\":2,\"font\":{\"color\":\"white\",\"size\":16},\"showarrow\":false,\"text\":\"1\",\"x\":\"45 a 49\",\"y\":0.6600180844955151,\"yshift\":15},{\"bgcolor\":\"#2CA02C\",\"bordercolor\":\"#2CA02C\",\"borderpad\":4,\"borderwidth\":2,\"font\":{\"color\":\"white\",\"size\":16},\"showarrow\":false,\"text\":\"56\",\"x\":\"19 o menos\",\"y\":55.868053553829725,\"yshift\":-25},{\"bgcolor\":\"#2CA02C\",\"bordercolor\":\"#2CA02C\",\"borderpad\":4,\"borderwidth\":2,\"font\":{\"color\":\"white\",\"size\":16},\"showarrow\":false,\"text\":\"89\",\"x\":\"20 a 24\",\"y\":88.65489379890164,\"yshift\":-25},{\"bgcolor\":\"#2CA02C\",\"bordercolor\":\"#2CA02C\",\"borderpad\":4,\"borderwidth\":2,\"font\":{\"color\":\"white\",\"size\":16},\"showarrow\":false,\"text\":\"94\",\"x\":\"25 a 29\",\"y\":93.93959071596876,\"yshift\":-25},{\"bgcolor\":\"#2CA02C\",\"bordercolor\":\"#2CA02C\",\"borderpad\":4,\"borderwidth\":2,\"font\":{\"color\":\"white\",\"size\":16},\"showarrow\":false,\"text\":\"78\",\"x\":\"30 a 34\",\"y\":78.42500054946952,\"yshift\":-25},{\"bgcolor\":\"#2CA02C\",\"bordercolor\":\"#2CA02C\",\"borderpad\":4,\"borderwidth\":2,\"font\":{\"color\":\"white\",\"size\":16},\"showarrow\":false,\"text\":\"51\",\"x\":\"35 a 39\",\"y\":51.16242664001057,\"yshift\":-25},{\"bgcolor\":\"#2CA02C\",\"bordercolor\":\"#2CA02C\",\"borderpad\":4,\"borderwidth\":2,\"font\":{\"color\":\"white\",\"size\":16},\"showarrow\":false,\"text\":\"14\",\"x\":\"40 a 44\",\"y\":13.902705365041202,\"yshift\":-25},{\"bgcolor\":\"#2CA02C\",\"bordercolor\":\"#2CA02C\",\"borderpad\":4,\"borderwidth\":2,\"font\":{\"color\":\"white\",\"size\":16},\"showarrow\":false,\"text\":\"1\",\"x\":\"45 a 49\",\"y\":0.7615140408439085,\"yshift\":-25},{\"bgcolor\":\"#D62728\",\"bordercolor\":\"#D62728\",\"borderpad\":4,\"borderwidth\":2,\"font\":{\"color\":\"white\",\"size\":16},\"showarrow\":false,\"text\":\"19\",\"x\":\"19 o menos\",\"y\":19.143443965827267,\"yshift\":-45},{\"bgcolor\":\"#D62728\",\"bordercolor\":\"#D62728\",\"borderpad\":4,\"borderwidth\":2,\"font\":{\"color\":\"white\",\"size\":16},\"showarrow\":false,\"text\":\"56\",\"x\":\"20 a 24\",\"y\":56.48350351177477,\"yshift\":-45},{\"bgcolor\":\"#D62728\",\"bordercolor\":\"#D62728\",\"borderpad\":4,\"borderwidth\":2,\"font\":{\"color\":\"white\",\"size\":16},\"showarrow\":false,\"text\":\"73\",\"x\":\"25 a 29\",\"y\":72.82254337426149,\"yshift\":-45},{\"bgcolor\":\"#D62728\",\"bordercolor\":\"#D62728\",\"borderpad\":4,\"borderwidth\":2,\"font\":{\"color\":\"white\",\"size\":16},\"showarrow\":false,\"text\":\"75\",\"x\":\"30 a 34\",\"y\":75.20827887586377,\"yshift\":-45},{\"bgcolor\":\"#D62728\",\"bordercolor\":\"#D62728\",\"borderpad\":4,\"borderwidth\":2,\"font\":{\"color\":\"white\",\"size\":16},\"showarrow\":false,\"text\":\"49\",\"x\":\"35 a 39\",\"y\":49.324357553859016,\"yshift\":-45},{\"bgcolor\":\"#D62728\",\"bordercolor\":\"#D62728\",\"borderpad\":4,\"borderwidth\":2,\"font\":{\"color\":\"white\",\"size\":16},\"showarrow\":false,\"text\":\"13\",\"x\":\"40 a 44\",\"y\":13.320490673998437,\"yshift\":-45},{\"bgcolor\":\"#D62728\",\"bordercolor\":\"#D62728\",\"borderpad\":4,\"borderwidth\":2,\"font\":{\"color\":\"white\",\"size\":16},\"showarrow\":false,\"text\":\"1\",\"x\":\"45 a 49\",\"y\":0.8607196253638134,\"yshift\":-45}],\"yaxis\":{\"title\":{\"text\":\"Tasas Espec\\u00edficas de Fecundidad\"}},\"xaxis\":{\"title\":{\"text\":\"Grupos de edades quinquenales\"},\"dtick\":\"M12\",\"ticklabelmode\":\"period\"}},                        {\"responsive\": true}                    ).then(function(){\n                            \nvar gd = document.getElementById('2bfd56a0-98ce-4980-8b41-cff6ac8949af');\nvar x = new MutationObserver(function (mutations, observer) {{\n        var display = window.getComputedStyle(gd).display;\n        if (!display || display === 'none') {{\n            console.log([gd, 'removed!']);\n            Plotly.purge(gd);\n            observer.disconnect();\n        }}\n}});\n\n// Listen for the removal of the full notebook cells\nvar notebookContainer = gd.closest('#notebook-container');\nif (notebookContainer) {{\n    x.observe(notebookContainer, {childList: true});\n}}\n\n// Listen for the clearing of the current output cell\nvar outputEl = gd.closest('.output');\nif (outputEl) {{\n    x.observe(outputEl, {childList: true});\n}}\n\n                        })                };                });            </script>        </div>"
     },
     "metadata": {},
     "output_type": "display_data"
    }
   ],
   "source": [
    "\n",
    "fig = go.Figure()\n",
    "\n",
    "for a in range(len(anios)):\n",
    "    y = df_tef.loc[df_tef['anio']==anios[a], 'tef_mil']\n",
    "    x = df_tef.loc[df_tef['anio']==anios[a], 'gr']\n",
    "\n",
    "    print(y)\n",
    "    print(x)\n",
    "    orden_ = df_tef.loc[df_tef['anio']==anios[a], 'orden_edad'].unique()[0]\n",
    "\n",
    "    fig.add_trace(go.Scatter(\n",
    "        x = x,\n",
    "        y = y,\n",
    "        name = str(anios[a]),\n",
    "        # marker=dict(color=color),\n",
    "        mode='lines+markers',\n",
    "        legendrank=orden_\n",
    "    )\n",
    "    )\n",
    "\n",
    "    for g in grupos:\n",
    "        fig.add_annotation(\n",
    "            x = df_tef.loc[(df_tef['anio']==anios[a]) & (df_tef.gr==g), 'gr'].to_list()[0],\n",
    "            y = df_tef.loc[(df_tef['anio']==anios[a]) & (df_tef.gr==g), 'tef_mil'].to_list()[0],\n",
    "            yshift = shift[a],\n",
    "            text = str(round(df_tef.loc[(df_tef['anio']==anios[a]) & (df_tef.gr==g), 'tef_mil'].to_list()[0])),\n",
    "            showarrow=False,\n",
    "            bordercolor=colores[a],\n",
    "            borderwidth=2,\n",
    "            borderpad=4,\n",
    "            bgcolor=colores[a],\n",
    "            font= dict(\n",
    "                size=16,\n",
    "                color='white',\n",
    "\n",
    "            )\n",
    "    )\n",
    "    # for i in df_tef.gr.to_list():\n",
    "    #     fig.add_annotation( x=i,\n",
    "    #                         y=y.to_list()[0],\n",
    "    #                         text = str(round(y.to_list()[0], 1)),\n",
    "    #                         font= dict(\n",
    "    #                             size=16,\n",
    "    #                             color='white',\n",
    "    #                         ),\n",
    "    #                         showarrow=False,\n",
    "    #                         # yshift=20,\n",
    "    #                         bordercolor=colores[a],\n",
    "    #                         borderwidth=2,\n",
    "    #                         borderpad=4,\n",
    "    #                         bgcolor=colores[a]\n",
    "    #                         )\n",
    "\n",
    "\n",
    "fig.update_layout(template='none')\n",
    "fig.update_yaxes(title='Tasas Específicas de Fecundidad')\n",
    "fig.update_xaxes(title='Grupos de edades quinquenales', dtick='M12',  ticklabelmode='period')\n",
    "fig.write_image('resultados/img/02_tef.jpeg')\n",
    "fig.show()"
   ],
   "metadata": {
    "collapsed": false,
    "pycharm": {
     "name": "#%%\n"
    }
   }
  },
  {
   "cell_type": "code",
   "execution_count": 42,
   "outputs": [
    {
     "name": "stdout",
     "output_type": "stream",
     "text": [
      "2.0350359347591866\n"
     ]
    }
   ],
   "source": [
    "df_global = df_tef[['anio', 'tgf']]\n",
    "df_global = df_global.drop_duplicates().reset_index(drop=True)\n",
    "an_x1 = df_global.loc[df_global.anio==1992, 'anio']\n",
    "an_y1 = df_global.loc[df_global.anio==1992, 'tgf']\n",
    "an_x2 = df_global.loc[df_global.anio==1999, 'anio']\n",
    "an_y2 = df_global.loc[df_global.anio==1999, 'tgf']\n",
    "an_x3 = df_global.loc[df_global.anio==2009, 'anio']\n",
    "an_y3 = df_global.loc[df_global.anio==2009, 'tgf']\n",
    "an_x4 = df_global.loc[df_global.anio==2019, 'anio']\n",
    "an_y4 = df_global.loc[df_global.anio==2019, 'tgf']\n",
    "print(an_y2.to_list()[0])"
   ],
   "metadata": {
    "collapsed": false,
    "pycharm": {
     "name": "#%%\n"
    }
   }
  },
  {
   "cell_type": "code",
   "execution_count": 47,
   "outputs": [
    {
     "data": {
      "application/vnd.plotly.v1+json": {
       "data": [
        {
         "mode": "lines+markers",
         "x": [
          1992,
          1993,
          1994,
          1995,
          1996,
          1997,
          1998,
          1999,
          2000,
          2001,
          2002,
          2003,
          2004,
          2005,
          2006,
          2007,
          2008,
          2009,
          2010,
          2011,
          2012,
          2013,
          2014,
          2015,
          2016,
          2017,
          2018,
          2019
         ],
         "y": [
          2.3699375106777074,
          2.324721449910548,
          2.2884360139279236,
          2.2073973820016244,
          2.183784338630695,
          2.131927032701945,
          2.09684862789092,
          2.0350359347591866,
          2.013311941611785,
          1.986238299583819,
          1.9196455193247255,
          1.8741807221746851,
          1.8267406177755485,
          1.8152622412326114,
          1.80208762447646,
          1.8562882500310613,
          1.8865337048248598,
          1.9135709233203266,
          1.8879125964999126,
          1.8483504128572719,
          1.8075175847570502,
          1.7867028230026896,
          1.8424642948250227,
          1.7861304628094097,
          1.679995651059988,
          1.5668714436473925,
          1.5518485032367022,
          1.435816687904743
         ],
         "type": "scatter"
        }
       ],
       "layout": {
        "template": {
         "data": {
          "scatter": [
           {
            "type": "scatter"
           }
          ]
         }
        },
        "yaxis": {
         "title": {
          "text": "Tasa Global de Fecundidad"
         }
        },
        "xaxis": {
         "title": {
          "text": "Periodo de estudio"
         },
         "dtick": "M12",
         "ticklabelmode": "period"
        },
        "annotations": [
         {
          "bgcolor": "#A3E4D7",
          "bordercolor": "#E622DD",
          "borderpad": 4,
          "borderwidth": 2,
          "font": {
           "color": "#E622DD",
           "size": 16
          },
          "showarrow": false,
          "text": "2.4",
          "x": 1992,
          "y": 2.3699375106777074,
          "yshift": 20
         },
         {
          "bgcolor": "#A3E4D7",
          "bordercolor": "#E622DD",
          "borderpad": 4,
          "borderwidth": 2,
          "font": {
           "color": "#E622DD",
           "size": 16
          },
          "showarrow": false,
          "text": "2.0",
          "x": 1999,
          "y": 2.0350359347591866,
          "yshift": 20
         },
         {
          "bgcolor": "#A3E4D7",
          "bordercolor": "#E622DD",
          "borderpad": 4,
          "borderwidth": 2,
          "font": {
           "color": "#E622DD",
           "size": 16
          },
          "showarrow": false,
          "text": "1.9",
          "x": 2009,
          "y": 1.9135709233203266,
          "yshift": 20
         },
         {
          "bgcolor": "#A3E4D7",
          "bordercolor": "#E622DD",
          "borderpad": 4,
          "borderwidth": 2,
          "font": {
           "color": "#E622DD",
           "size": 16
          },
          "showarrow": false,
          "text": "1.4",
          "x": 2019,
          "y": 1.435816687904743,
          "yshift": 20
         }
        ]
       },
       "config": {
        "plotlyServerURL": "https://plot.ly"
       }
      },
      "text/html": "<div>                            <div id=\"549bea94-42f9-4a31-9986-53b176772384\" class=\"plotly-graph-div\" style=\"height:525px; width:100%;\"></div>            <script type=\"text/javascript\">                require([\"plotly\"], function(Plotly) {                    window.PLOTLYENV=window.PLOTLYENV || {};                                    if (document.getElementById(\"549bea94-42f9-4a31-9986-53b176772384\")) {                    Plotly.newPlot(                        \"549bea94-42f9-4a31-9986-53b176772384\",                        [{\"mode\":\"lines+markers\",\"x\":[1992,1993,1994,1995,1996,1997,1998,1999,2000,2001,2002,2003,2004,2005,2006,2007,2008,2009,2010,2011,2012,2013,2014,2015,2016,2017,2018,2019],\"y\":[2.3699375106777074,2.324721449910548,2.2884360139279236,2.2073973820016244,2.183784338630695,2.131927032701945,2.09684862789092,2.0350359347591866,2.013311941611785,1.986238299583819,1.9196455193247255,1.8741807221746851,1.8267406177755485,1.8152622412326114,1.80208762447646,1.8562882500310613,1.8865337048248598,1.9135709233203266,1.8879125964999126,1.8483504128572719,1.8075175847570502,1.7867028230026896,1.8424642948250227,1.7861304628094097,1.679995651059988,1.5668714436473925,1.5518485032367022,1.435816687904743],\"type\":\"scatter\"}],                        {\"template\":{\"data\":{\"scatter\":[{\"type\":\"scatter\"}]}},\"yaxis\":{\"title\":{\"text\":\"Tasa Global de Fecundidad\"}},\"xaxis\":{\"title\":{\"text\":\"Periodo de estudio\"},\"dtick\":\"M12\",\"ticklabelmode\":\"period\"},\"annotations\":[{\"bgcolor\":\"#A3E4D7\",\"bordercolor\":\"#E622DD\",\"borderpad\":4,\"borderwidth\":2,\"font\":{\"color\":\"#E622DD\",\"size\":16},\"showarrow\":false,\"text\":\"2.4\",\"x\":1992,\"y\":2.3699375106777074,\"yshift\":20},{\"bgcolor\":\"#A3E4D7\",\"bordercolor\":\"#E622DD\",\"borderpad\":4,\"borderwidth\":2,\"font\":{\"color\":\"#E622DD\",\"size\":16},\"showarrow\":false,\"text\":\"2.0\",\"x\":1999,\"y\":2.0350359347591866,\"yshift\":20},{\"bgcolor\":\"#A3E4D7\",\"bordercolor\":\"#E622DD\",\"borderpad\":4,\"borderwidth\":2,\"font\":{\"color\":\"#E622DD\",\"size\":16},\"showarrow\":false,\"text\":\"1.9\",\"x\":2009,\"y\":1.9135709233203266,\"yshift\":20},{\"bgcolor\":\"#A3E4D7\",\"bordercolor\":\"#E622DD\",\"borderpad\":4,\"borderwidth\":2,\"font\":{\"color\":\"#E622DD\",\"size\":16},\"showarrow\":false,\"text\":\"1.4\",\"x\":2019,\"y\":1.435816687904743,\"yshift\":20}]},                        {\"responsive\": true}                    ).then(function(){\n                            \nvar gd = document.getElementById('549bea94-42f9-4a31-9986-53b176772384');\nvar x = new MutationObserver(function (mutations, observer) {{\n        var display = window.getComputedStyle(gd).display;\n        if (!display || display === 'none') {{\n            console.log([gd, 'removed!']);\n            Plotly.purge(gd);\n            observer.disconnect();\n        }}\n}});\n\n// Listen for the removal of the full notebook cells\nvar notebookContainer = gd.closest('#notebook-container');\nif (notebookContainer) {{\n    x.observe(notebookContainer, {childList: true});\n}}\n\n// Listen for the clearing of the current output cell\nvar outputEl = gd.closest('.output');\nif (outputEl) {{\n    x.observe(outputEl, {childList: true});\n}}\n\n                        })                };                });            </script>        </div>"
     },
     "metadata": {},
     "output_type": "display_data"
    }
   ],
   "source": [
    "fig = go.Figure()\n",
    "fig.add_trace(\n",
    "    go.Scatter(\n",
    "        x = df_global.anio,\n",
    "        y = df_global.tgf,\n",
    "        mode='lines+markers',\n",
    "    )\n",
    ")\n",
    "fig.update_layout(template='none')\n",
    "fig.update_yaxes(title='Tasa Global de Fecundidad')\n",
    "fig.update_xaxes(title='Periodo de estudio', dtick='M12',  ticklabelmode='period')\n",
    "fig.add_annotation(x=1992, y=an_y1[0],\n",
    "                   # yref= 'paper',\n",
    "                   # xref='paper',\n",
    "                   text = str(round(an_y1[0], 1)),\n",
    "                   font= dict(\n",
    "                    size=16,\n",
    "                       color='#E622DD'\n",
    "                   ),\n",
    "                   showarrow=False,\n",
    "                   yshift=20,\n",
    "                   bordercolor='#E622DD',\n",
    "                   borderwidth=2,\n",
    "                   borderpad=4,\n",
    "                   bgcolor='#A3E4D7'\n",
    "                   )\n",
    "fig.add_annotation(x=1999, y=an_y2.to_list()[0],\n",
    "                  # yref= 'paper',\n",
    "                  # xref='paper',\n",
    "                  text = str(round(an_y2.to_list()[0], 1)),\n",
    "                  font= dict(\n",
    "                      size=16,\n",
    "                      color='#E622DD'\n",
    "                  ),\n",
    "                  showarrow=False,\n",
    "                  yshift=20,\n",
    "                  bordercolor='#E622DD',\n",
    "                  borderwidth=2,\n",
    "                  borderpad=4,\n",
    "                  bgcolor='#A3E4D7'\n",
    "                  )\n",
    "\n",
    "fig.add_annotation(x=2009, y=an_y3.to_list()[0],\n",
    "                   # yref= 'paper',\n",
    "                   # xref='paper',\n",
    "                   text = str(round(an_y3.to_list()[0], 1)),\n",
    "                   font= dict(\n",
    "                       size=16,\n",
    "                       color='#E622DD'\n",
    "                   ),\n",
    "                   showarrow=False,\n",
    "                   yshift=20,\n",
    "                   bordercolor='#E622DD',\n",
    "                   borderwidth=2,\n",
    "                   borderpad=4,\n",
    "                   bgcolor='#A3E4D7'\n",
    "                   )\n",
    "fig.add_annotation(x=2019, y=an_y4.to_list()[0],\n",
    "                   # yref= 'paper',\n",
    "                   # xref='paper',\n",
    "                   text = str(round(an_y4.to_list()[0], 1)),\n",
    "                   font= dict(\n",
    "                       size=16,\n",
    "                       color='#E622DD'\n",
    "                   ),\n",
    "                   showarrow=False,\n",
    "                   yshift=20,\n",
    "                   bordercolor='#E622DD',\n",
    "                   borderwidth=2,\n",
    "                   borderpad=4,\n",
    "                   bgcolor='#A3E4D7'\n",
    "                   )\n",
    "fig.write_image('resultados/img/01_tgf.jpeg')\n",
    "fig.show()"
   ],
   "metadata": {
    "collapsed": false,
    "pycharm": {
     "name": "#%%\n"
    }
   }
  },
  {
   "cell_type": "code",
   "execution_count": null,
   "outputs": [],
   "source": [],
   "metadata": {
    "collapsed": false,
    "pycharm": {
     "name": "#%%\n"
    }
   }
  }
 ],
 "metadata": {
  "kernelspec": {
   "display_name": "Python 3",
   "language": "python",
   "name": "python3"
  },
  "language_info": {
   "codemirror_mode": {
    "name": "ipython",
    "version": 2
   },
   "file_extension": ".py",
   "mimetype": "text/x-python",
   "name": "python",
   "nbconvert_exporter": "python",
   "pygments_lexer": "ipython2",
   "version": "2.7.6"
  }
 },
 "nbformat": 4,
 "nbformat_minor": 0
}