{
 "cells": [
  {
   "cell_type": "code",
   "execution_count": 52,
   "outputs": [
    {
     "name": "stderr",
     "output_type": "stream",
     "text": [
      "<ipython-input-52-a939b6d5d936>:17: SettingWithCopyWarning:\n",
      "\n",
      "\n",
      "A value is trying to be set on a copy of a slice from a DataFrame.\n",
      "Try using .loc[row_indexer,col_indexer] = value instead\n",
      "\n",
      "See the caveats in the documentation: https://pandas.pydata.org/pandas-docs/stable/user_guide/indexing.html#returning-a-view-versus-a-copy\n",
      "\n",
      "<ipython-input-52-a939b6d5d936>:18: SettingWithCopyWarning:\n",
      "\n",
      "\n",
      "A value is trying to be set on a copy of a slice from a DataFrame.\n",
      "Try using .loc[row_indexer,col_indexer] = value instead\n",
      "\n",
      "See the caveats in the documentation: https://pandas.pydata.org/pandas-docs/stable/user_guide/indexing.html#returning-a-view-versus-a-copy\n",
      "\n",
      "<ipython-input-52-a939b6d5d936>:20: SettingWithCopyWarning:\n",
      "\n",
      "\n",
      "A value is trying to be set on a copy of a slice from a DataFrame.\n",
      "Try using .loc[row_indexer,col_indexer] = value instead\n",
      "\n",
      "See the caveats in the documentation: https://pandas.pydata.org/pandas-docs/stable/user_guide/indexing.html#returning-a-view-versus-a-copy\n",
      "\n",
      "<ipython-input-52-a939b6d5d936>:21: SettingWithCopyWarning:\n",
      "\n",
      "\n",
      "A value is trying to be set on a copy of a slice from a DataFrame.\n",
      "Try using .loc[row_indexer,col_indexer] = value instead\n",
      "\n",
      "See the caveats in the documentation: https://pandas.pydata.org/pandas-docs/stable/user_guide/indexing.html#returning-a-view-versus-a-copy\n",
      "\n"
     ]
    }
   ],
   "source": [
    "# Se cargan las librerías y tabla de datos\n",
    "import pandas as pd\n",
    "import plotly.express as px\n",
    "from plotly import graph_objects as go\n",
    "import os\n",
    "# os.getcwd()\n",
    "os.chdir('/home/clautc/Proyectos_/Estudios'\n",
    "         '/Estudio_crianzas_Chile')\n",
    "df = pd.read_csv('resultados/tablas/02_quintil_menor_18.csv')\n",
    "sinmenores = 'sin menores'\n",
    "conmenores = 'con menores'\n",
    "tipoest = 'conteo'\n",
    "\n",
    "df_sinmenores = df.query('menor_18 == @sinmenores and tipo_est == @tipoest')\n",
    "df_conmenores = df.query('menor_18 == @conmenores and tipo_est == @tipoest')\n",
    "smgrupoanio = df_sinmenores.groupby('anio')\n",
    "df_sinmenores['tot'] = smgrupoanio['dato'].transform('sum')\n",
    "df_sinmenores['prop'] = df_sinmenores.dato/df_sinmenores.tot*100\n",
    "cmgrupoanio = df_conmenores.groupby('anio')\n",
    "df_conmenores['tot'] = cmgrupoanio['dato'].transform('sum')\n",
    "df_conmenores['prop'] = df_conmenores.dato/df_conmenores.tot*100\n"
   ],
   "metadata": {
    "collapsed": false,
    "pycharm": {
     "name": "#%%\n"
    }
   }
  },
  {
   "cell_type": "code",
   "execution_count": 50,
   "outputs": [
    {
     "data": {
      "application/vnd.plotly.v1+json": {
       "data": [
        {
         "mode": "lines+markers",
         "name": "I",
         "x": [
          1990,
          1992,
          1994,
          1996,
          1998,
          2000,
          2003,
          2009,
          2013,
          2015,
          2017,
          2020
         ],
         "y": [
          7.203269224938208,
          7.3513510634331345,
          8.448669685057984,
          8.364003239878931,
          9.28430168540805,
          7.683618633489413,
          10.309107617770358,
          15.020796779653123,
          14.151069493759264,
          15.153717630328101,
          15.573803026241306,
          18.205014096782502
         ],
         "type": "scatter"
        },
        {
         "mode": "lines+markers",
         "name": "II",
         "x": [
          1990,
          1992,
          1994,
          1996,
          1998,
          2000,
          2003,
          2009,
          2013,
          2015,
          2017,
          2020
         ],
         "y": [
          11.51192850428851,
          11.774909760432369,
          12.685558513803679,
          12.691949870480071,
          12.147002024100265,
          12.078569377457674,
          12.634152836003128,
          14.556484169992082,
          15.14529359274484,
          15.084328402646669,
          16.158191607398347,
          15.477857817276647
         ],
         "type": "scatter"
        },
        {
         "mode": "lines+markers",
         "name": "III",
         "x": [
          1990,
          1992,
          1994,
          1996,
          1998,
          2000,
          2003,
          2009,
          2013,
          2015,
          2017,
          2020
         ],
         "y": [
          19.26195955918672,
          19.632365865740567,
          21.156401473218434,
          20.7419122139925,
          20.52192981776903,
          20.265443421492154,
          19.83692210773792,
          18.364439544741703,
          18.654890847791755,
          18.636454389105086,
          18.779146914800783,
          19.065082897004352
         ],
         "type": "scatter"
        },
        {
         "mode": "lines+markers",
         "name": "IV",
         "x": [
          1990,
          1992,
          1994,
          1996,
          1998,
          2000,
          2003,
          2009,
          2013,
          2015,
          2017,
          2020
         ],
         "y": [
          29.325213740838805,
          28.285954231272513,
          26.528855418838482,
          25.415663259889946,
          25.098301273464152,
          27.153303172193933,
          25.28298333176382,
          22.968602006117727,
          23.891545977590848,
          23.586137566508224,
          23.197997812664685,
          22.323149756029924
         ],
         "type": "scatter"
        },
        {
         "mode": "lines+markers",
         "name": "V",
         "x": [
          1990,
          1992,
          1994,
          1996,
          1998,
          2000,
          2003,
          2009,
          2013,
          2015,
          2017,
          2020
         ],
         "y": [
          32.69762897074776,
          32.95541907912141,
          31.180514909081424,
          32.78647141575855,
          32.9484651992585,
          32.81906539536683,
          31.93683410672477,
          29.089677499495366,
          28.157200088113292,
          27.539362011411917,
          26.290860638894877,
          24.92889543290658
         ],
         "type": "scatter"
        }
       ],
       "layout": {
        "template": {
         "data": {
          "scatter": [
           {
            "type": "scatter"
           }
          ]
         }
        },
        "annotations": [
         {
          "bgcolor": "#1F77B4",
          "bordercolor": "#1F77B4",
          "borderpad": 4,
          "borderwidth": 2,
          "font": {
           "color": "white",
           "size": 10
          },
          "showarrow": false,
          "text": "1990:\n7",
          "x": 1990,
          "y": 7.203269224938208,
          "yshift": -25
         },
         {
          "bgcolor": "#1F77B4",
          "bordercolor": "#1F77B4",
          "borderpad": 4,
          "borderwidth": 2,
          "font": {
           "color": "white",
           "size": 10
          },
          "showarrow": false,
          "text": "1994:\n8",
          "x": 1994,
          "y": 8.448669685057984,
          "yshift": -25
         },
         {
          "bgcolor": "#1F77B4",
          "bordercolor": "#1F77B4",
          "borderpad": 4,
          "borderwidth": 2,
          "font": {
           "color": "white",
           "size": 10
          },
          "showarrow": false,
          "text": "1998:\n9",
          "x": 1998,
          "y": 9.28430168540805,
          "yshift": -25
         },
         {
          "bgcolor": "#1F77B4",
          "bordercolor": "#1F77B4",
          "borderpad": 4,
          "borderwidth": 2,
          "font": {
           "color": "white",
           "size": 10
          },
          "showarrow": false,
          "text": "2003:\n10",
          "x": 2003,
          "y": 10.309107617770358,
          "yshift": -25
         },
         {
          "bgcolor": "#1F77B4",
          "bordercolor": "#1F77B4",
          "borderpad": 4,
          "borderwidth": 2,
          "font": {
           "color": "white",
           "size": 10
          },
          "showarrow": false,
          "text": "2009:\n15",
          "x": 2009,
          "y": 15.020796779653123,
          "yshift": -25
         },
         {
          "bgcolor": "#1F77B4",
          "bordercolor": "#1F77B4",
          "borderpad": 4,
          "borderwidth": 2,
          "font": {
           "color": "white",
           "size": 10
          },
          "showarrow": false,
          "text": "2015:\n15",
          "x": 2015,
          "y": 15.153717630328101,
          "yshift": -25
         },
         {
          "bgcolor": "#1F77B4",
          "bordercolor": "#1F77B4",
          "borderpad": 4,
          "borderwidth": 2,
          "font": {
           "color": "white",
           "size": 10
          },
          "showarrow": false,
          "text": "2020:\n18",
          "x": 2020,
          "y": 18.205014096782502,
          "yshift": -25
         },
         {
          "bgcolor": "#FF7F0E",
          "bordercolor": "#FF7F0E",
          "borderpad": 4,
          "borderwidth": 2,
          "font": {
           "color": "white",
           "size": 10
          },
          "showarrow": false,
          "text": "1990:\n12",
          "x": 1990,
          "y": 11.51192850428851,
          "yshift": 20
         },
         {
          "bgcolor": "#FF7F0E",
          "bordercolor": "#FF7F0E",
          "borderpad": 4,
          "borderwidth": 2,
          "font": {
           "color": "white",
           "size": 10
          },
          "showarrow": false,
          "text": "1994:\n13",
          "x": 1994,
          "y": 12.685558513803679,
          "yshift": 20
         },
         {
          "bgcolor": "#FF7F0E",
          "bordercolor": "#FF7F0E",
          "borderpad": 4,
          "borderwidth": 2,
          "font": {
           "color": "white",
           "size": 10
          },
          "showarrow": false,
          "text": "1998:\n12",
          "x": 1998,
          "y": 12.147002024100265,
          "yshift": 20
         },
         {
          "bgcolor": "#FF7F0E",
          "bordercolor": "#FF7F0E",
          "borderpad": 4,
          "borderwidth": 2,
          "font": {
           "color": "white",
           "size": 10
          },
          "showarrow": false,
          "text": "2003:\n13",
          "x": 2003,
          "y": 12.634152836003128,
          "yshift": 20
         },
         {
          "bgcolor": "#FF7F0E",
          "bordercolor": "#FF7F0E",
          "borderpad": 4,
          "borderwidth": 2,
          "font": {
           "color": "white",
           "size": 10
          },
          "showarrow": false,
          "text": "2009:\n15",
          "x": 2009,
          "y": 14.556484169992082,
          "yshift": 20
         },
         {
          "bgcolor": "#FF7F0E",
          "bordercolor": "#FF7F0E",
          "borderpad": 4,
          "borderwidth": 2,
          "font": {
           "color": "white",
           "size": 10
          },
          "showarrow": false,
          "text": "2015:\n15",
          "x": 2015,
          "y": 15.084328402646669,
          "yshift": 20
         },
         {
          "bgcolor": "#FF7F0E",
          "bordercolor": "#FF7F0E",
          "borderpad": 4,
          "borderwidth": 2,
          "font": {
           "color": "white",
           "size": 10
          },
          "showarrow": false,
          "text": "2020:\n15",
          "x": 2020,
          "y": 15.477857817276647,
          "yshift": 20
         },
         {
          "bgcolor": "#2CA02C",
          "bordercolor": "#2CA02C",
          "borderpad": 4,
          "borderwidth": 2,
          "font": {
           "color": "white",
           "size": 10
          },
          "showarrow": false,
          "text": "1990:\n19",
          "x": 1990,
          "y": 19.26195955918672,
          "yshift": 20
         },
         {
          "bgcolor": "#2CA02C",
          "bordercolor": "#2CA02C",
          "borderpad": 4,
          "borderwidth": 2,
          "font": {
           "color": "white",
           "size": 10
          },
          "showarrow": false,
          "text": "1994:\n21",
          "x": 1994,
          "y": 21.156401473218434,
          "yshift": 20
         },
         {
          "bgcolor": "#2CA02C",
          "bordercolor": "#2CA02C",
          "borderpad": 4,
          "borderwidth": 2,
          "font": {
           "color": "white",
           "size": 10
          },
          "showarrow": false,
          "text": "1998:\n21",
          "x": 1998,
          "y": 20.52192981776903,
          "yshift": 20
         },
         {
          "bgcolor": "#2CA02C",
          "bordercolor": "#2CA02C",
          "borderpad": 4,
          "borderwidth": 2,
          "font": {
           "color": "white",
           "size": 10
          },
          "showarrow": false,
          "text": "2003:\n20",
          "x": 2003,
          "y": 19.83692210773792,
          "yshift": 20
         },
         {
          "bgcolor": "#2CA02C",
          "bordercolor": "#2CA02C",
          "borderpad": 4,
          "borderwidth": 2,
          "font": {
           "color": "white",
           "size": 10
          },
          "showarrow": false,
          "text": "2009:\n18",
          "x": 2009,
          "y": 18.364439544741703,
          "yshift": 20
         },
         {
          "bgcolor": "#2CA02C",
          "bordercolor": "#2CA02C",
          "borderpad": 4,
          "borderwidth": 2,
          "font": {
           "color": "white",
           "size": 10
          },
          "showarrow": false,
          "text": "2015:\n19",
          "x": 2015,
          "y": 18.636454389105086,
          "yshift": 20
         },
         {
          "bgcolor": "#2CA02C",
          "bordercolor": "#2CA02C",
          "borderpad": 4,
          "borderwidth": 2,
          "font": {
           "color": "white",
           "size": 10
          },
          "showarrow": false,
          "text": "2020:\n19",
          "x": 2020,
          "y": 19.065082897004352,
          "yshift": 20
         },
         {
          "bgcolor": "#D62728",
          "bordercolor": "#D62728",
          "borderpad": 4,
          "borderwidth": 2,
          "font": {
           "color": "white",
           "size": 10
          },
          "showarrow": false,
          "text": "1990:\n29",
          "x": 1990,
          "y": 29.325213740838805,
          "yshift": 20
         },
         {
          "bgcolor": "#D62728",
          "bordercolor": "#D62728",
          "borderpad": 4,
          "borderwidth": 2,
          "font": {
           "color": "white",
           "size": 10
          },
          "showarrow": false,
          "text": "1994:\n27",
          "x": 1994,
          "y": 26.528855418838482,
          "yshift": 20
         },
         {
          "bgcolor": "#D62728",
          "bordercolor": "#D62728",
          "borderpad": 4,
          "borderwidth": 2,
          "font": {
           "color": "white",
           "size": 10
          },
          "showarrow": false,
          "text": "1998:\n25",
          "x": 1998,
          "y": 25.098301273464152,
          "yshift": 20
         },
         {
          "bgcolor": "#D62728",
          "bordercolor": "#D62728",
          "borderpad": 4,
          "borderwidth": 2,
          "font": {
           "color": "white",
           "size": 10
          },
          "showarrow": false,
          "text": "2003:\n25",
          "x": 2003,
          "y": 25.28298333176382,
          "yshift": 20
         },
         {
          "bgcolor": "#D62728",
          "bordercolor": "#D62728",
          "borderpad": 4,
          "borderwidth": 2,
          "font": {
           "color": "white",
           "size": 10
          },
          "showarrow": false,
          "text": "2009:\n23",
          "x": 2009,
          "y": 22.968602006117727,
          "yshift": 20
         },
         {
          "bgcolor": "#D62728",
          "bordercolor": "#D62728",
          "borderpad": 4,
          "borderwidth": 2,
          "font": {
           "color": "white",
           "size": 10
          },
          "showarrow": false,
          "text": "2015:\n24",
          "x": 2015,
          "y": 23.586137566508224,
          "yshift": 20
         },
         {
          "bgcolor": "#D62728",
          "bordercolor": "#D62728",
          "borderpad": 4,
          "borderwidth": 2,
          "font": {
           "color": "white",
           "size": 10
          },
          "showarrow": false,
          "text": "2020:\n22",
          "x": 2020,
          "y": 22.323149756029924,
          "yshift": 20
         },
         {
          "bgcolor": "#9467BD",
          "bordercolor": "#9467BD",
          "borderpad": 4,
          "borderwidth": 2,
          "font": {
           "color": "white",
           "size": 10
          },
          "showarrow": false,
          "text": "1990:\n33",
          "x": 1990,
          "y": 32.69762897074776,
          "yshift": 20
         },
         {
          "bgcolor": "#9467BD",
          "bordercolor": "#9467BD",
          "borderpad": 4,
          "borderwidth": 2,
          "font": {
           "color": "white",
           "size": 10
          },
          "showarrow": false,
          "text": "1994:\n31",
          "x": 1994,
          "y": 31.180514909081424,
          "yshift": 20
         },
         {
          "bgcolor": "#9467BD",
          "bordercolor": "#9467BD",
          "borderpad": 4,
          "borderwidth": 2,
          "font": {
           "color": "white",
           "size": 10
          },
          "showarrow": false,
          "text": "1998:\n33",
          "x": 1998,
          "y": 32.9484651992585,
          "yshift": 20
         },
         {
          "bgcolor": "#9467BD",
          "bordercolor": "#9467BD",
          "borderpad": 4,
          "borderwidth": 2,
          "font": {
           "color": "white",
           "size": 10
          },
          "showarrow": false,
          "text": "2003:\n32",
          "x": 2003,
          "y": 31.93683410672477,
          "yshift": 20
         },
         {
          "bgcolor": "#9467BD",
          "bordercolor": "#9467BD",
          "borderpad": 4,
          "borderwidth": 2,
          "font": {
           "color": "white",
           "size": 10
          },
          "showarrow": false,
          "text": "2009:\n29",
          "x": 2009,
          "y": 29.089677499495366,
          "yshift": 20
         },
         {
          "bgcolor": "#9467BD",
          "bordercolor": "#9467BD",
          "borderpad": 4,
          "borderwidth": 2,
          "font": {
           "color": "white",
           "size": 10
          },
          "showarrow": false,
          "text": "2015:\n28",
          "x": 2015,
          "y": 27.539362011411917,
          "yshift": 20
         },
         {
          "bgcolor": "#9467BD",
          "bordercolor": "#9467BD",
          "borderpad": 4,
          "borderwidth": 2,
          "font": {
           "color": "white",
           "size": 10
          },
          "showarrow": false,
          "text": "2020:\n25",
          "x": 2020,
          "y": 24.92889543290658,
          "yshift": 20
         }
        ]
       },
       "config": {
        "plotlyServerURL": "https://plot.ly"
       }
      },
      "text/html": "<div>                            <div id=\"21b2c1b0-c83e-4f3e-9047-56e71faa0bf9\" class=\"plotly-graph-div\" style=\"height:525px; width:100%;\"></div>            <script type=\"text/javascript\">                require([\"plotly\"], function(Plotly) {                    window.PLOTLYENV=window.PLOTLYENV || {};                                    if (document.getElementById(\"21b2c1b0-c83e-4f3e-9047-56e71faa0bf9\")) {                    Plotly.newPlot(                        \"21b2c1b0-c83e-4f3e-9047-56e71faa0bf9\",                        [{\"mode\":\"lines+markers\",\"name\":\"I\",\"x\":[1990,1992,1994,1996,1998,2000,2003,2009,2013,2015,2017,2020],\"y\":[7.203269224938208,7.3513510634331345,8.448669685057984,8.364003239878931,9.28430168540805,7.683618633489413,10.309107617770358,15.020796779653123,14.151069493759264,15.153717630328101,15.573803026241306,18.205014096782502],\"type\":\"scatter\"},{\"mode\":\"lines+markers\",\"name\":\"II\",\"x\":[1990,1992,1994,1996,1998,2000,2003,2009,2013,2015,2017,2020],\"y\":[11.51192850428851,11.774909760432369,12.685558513803679,12.691949870480071,12.147002024100265,12.078569377457674,12.634152836003128,14.556484169992082,15.14529359274484,15.084328402646669,16.158191607398347,15.477857817276647],\"type\":\"scatter\"},{\"mode\":\"lines+markers\",\"name\":\"III\",\"x\":[1990,1992,1994,1996,1998,2000,2003,2009,2013,2015,2017,2020],\"y\":[19.26195955918672,19.632365865740567,21.156401473218434,20.7419122139925,20.52192981776903,20.265443421492154,19.83692210773792,18.364439544741703,18.654890847791755,18.636454389105086,18.779146914800783,19.065082897004352],\"type\":\"scatter\"},{\"mode\":\"lines+markers\",\"name\":\"IV\",\"x\":[1990,1992,1994,1996,1998,2000,2003,2009,2013,2015,2017,2020],\"y\":[29.325213740838805,28.285954231272513,26.528855418838482,25.415663259889946,25.098301273464152,27.153303172193933,25.28298333176382,22.968602006117727,23.891545977590848,23.586137566508224,23.197997812664685,22.323149756029924],\"type\":\"scatter\"},{\"mode\":\"lines+markers\",\"name\":\"V\",\"x\":[1990,1992,1994,1996,1998,2000,2003,2009,2013,2015,2017,2020],\"y\":[32.69762897074776,32.95541907912141,31.180514909081424,32.78647141575855,32.9484651992585,32.81906539536683,31.93683410672477,29.089677499495366,28.157200088113292,27.539362011411917,26.290860638894877,24.92889543290658],\"type\":\"scatter\"}],                        {\"template\":{\"data\":{\"scatter\":[{\"type\":\"scatter\"}]}},\"annotations\":[{\"bgcolor\":\"#1F77B4\",\"bordercolor\":\"#1F77B4\",\"borderpad\":4,\"borderwidth\":2,\"font\":{\"color\":\"white\",\"size\":10},\"showarrow\":false,\"text\":\"1990:\\n7\",\"x\":1990,\"y\":7.203269224938208,\"yshift\":-25},{\"bgcolor\":\"#1F77B4\",\"bordercolor\":\"#1F77B4\",\"borderpad\":4,\"borderwidth\":2,\"font\":{\"color\":\"white\",\"size\":10},\"showarrow\":false,\"text\":\"1994:\\n8\",\"x\":1994,\"y\":8.448669685057984,\"yshift\":-25},{\"bgcolor\":\"#1F77B4\",\"bordercolor\":\"#1F77B4\",\"borderpad\":4,\"borderwidth\":2,\"font\":{\"color\":\"white\",\"size\":10},\"showarrow\":false,\"text\":\"1998:\\n9\",\"x\":1998,\"y\":9.28430168540805,\"yshift\":-25},{\"bgcolor\":\"#1F77B4\",\"bordercolor\":\"#1F77B4\",\"borderpad\":4,\"borderwidth\":2,\"font\":{\"color\":\"white\",\"size\":10},\"showarrow\":false,\"text\":\"2003:\\n10\",\"x\":2003,\"y\":10.309107617770358,\"yshift\":-25},{\"bgcolor\":\"#1F77B4\",\"bordercolor\":\"#1F77B4\",\"borderpad\":4,\"borderwidth\":2,\"font\":{\"color\":\"white\",\"size\":10},\"showarrow\":false,\"text\":\"2009:\\n15\",\"x\":2009,\"y\":15.020796779653123,\"yshift\":-25},{\"bgcolor\":\"#1F77B4\",\"bordercolor\":\"#1F77B4\",\"borderpad\":4,\"borderwidth\":2,\"font\":{\"color\":\"white\",\"size\":10},\"showarrow\":false,\"text\":\"2015:\\n15\",\"x\":2015,\"y\":15.153717630328101,\"yshift\":-25},{\"bgcolor\":\"#1F77B4\",\"bordercolor\":\"#1F77B4\",\"borderpad\":4,\"borderwidth\":2,\"font\":{\"color\":\"white\",\"size\":10},\"showarrow\":false,\"text\":\"2020:\\n18\",\"x\":2020,\"y\":18.205014096782502,\"yshift\":-25},{\"bgcolor\":\"#FF7F0E\",\"bordercolor\":\"#FF7F0E\",\"borderpad\":4,\"borderwidth\":2,\"font\":{\"color\":\"white\",\"size\":10},\"showarrow\":false,\"text\":\"1990:\\n12\",\"x\":1990,\"y\":11.51192850428851,\"yshift\":20},{\"bgcolor\":\"#FF7F0E\",\"bordercolor\":\"#FF7F0E\",\"borderpad\":4,\"borderwidth\":2,\"font\":{\"color\":\"white\",\"size\":10},\"showarrow\":false,\"text\":\"1994:\\n13\",\"x\":1994,\"y\":12.685558513803679,\"yshift\":20},{\"bgcolor\":\"#FF7F0E\",\"bordercolor\":\"#FF7F0E\",\"borderpad\":4,\"borderwidth\":2,\"font\":{\"color\":\"white\",\"size\":10},\"showarrow\":false,\"text\":\"1998:\\n12\",\"x\":1998,\"y\":12.147002024100265,\"yshift\":20},{\"bgcolor\":\"#FF7F0E\",\"bordercolor\":\"#FF7F0E\",\"borderpad\":4,\"borderwidth\":2,\"font\":{\"color\":\"white\",\"size\":10},\"showarrow\":false,\"text\":\"2003:\\n13\",\"x\":2003,\"y\":12.634152836003128,\"yshift\":20},{\"bgcolor\":\"#FF7F0E\",\"bordercolor\":\"#FF7F0E\",\"borderpad\":4,\"borderwidth\":2,\"font\":{\"color\":\"white\",\"size\":10},\"showarrow\":false,\"text\":\"2009:\\n15\",\"x\":2009,\"y\":14.556484169992082,\"yshift\":20},{\"bgcolor\":\"#FF7F0E\",\"bordercolor\":\"#FF7F0E\",\"borderpad\":4,\"borderwidth\":2,\"font\":{\"color\":\"white\",\"size\":10},\"showarrow\":false,\"text\":\"2015:\\n15\",\"x\":2015,\"y\":15.084328402646669,\"yshift\":20},{\"bgcolor\":\"#FF7F0E\",\"bordercolor\":\"#FF7F0E\",\"borderpad\":4,\"borderwidth\":2,\"font\":{\"color\":\"white\",\"size\":10},\"showarrow\":false,\"text\":\"2020:\\n15\",\"x\":2020,\"y\":15.477857817276647,\"yshift\":20},{\"bgcolor\":\"#2CA02C\",\"bordercolor\":\"#2CA02C\",\"borderpad\":4,\"borderwidth\":2,\"font\":{\"color\":\"white\",\"size\":10},\"showarrow\":false,\"text\":\"1990:\\n19\",\"x\":1990,\"y\":19.26195955918672,\"yshift\":20},{\"bgcolor\":\"#2CA02C\",\"bordercolor\":\"#2CA02C\",\"borderpad\":4,\"borderwidth\":2,\"font\":{\"color\":\"white\",\"size\":10},\"showarrow\":false,\"text\":\"1994:\\n21\",\"x\":1994,\"y\":21.156401473218434,\"yshift\":20},{\"bgcolor\":\"#2CA02C\",\"bordercolor\":\"#2CA02C\",\"borderpad\":4,\"borderwidth\":2,\"font\":{\"color\":\"white\",\"size\":10},\"showarrow\":false,\"text\":\"1998:\\n21\",\"x\":1998,\"y\":20.52192981776903,\"yshift\":20},{\"bgcolor\":\"#2CA02C\",\"bordercolor\":\"#2CA02C\",\"borderpad\":4,\"borderwidth\":2,\"font\":{\"color\":\"white\",\"size\":10},\"showarrow\":false,\"text\":\"2003:\\n20\",\"x\":2003,\"y\":19.83692210773792,\"yshift\":20},{\"bgcolor\":\"#2CA02C\",\"bordercolor\":\"#2CA02C\",\"borderpad\":4,\"borderwidth\":2,\"font\":{\"color\":\"white\",\"size\":10},\"showarrow\":false,\"text\":\"2009:\\n18\",\"x\":2009,\"y\":18.364439544741703,\"yshift\":20},{\"bgcolor\":\"#2CA02C\",\"bordercolor\":\"#2CA02C\",\"borderpad\":4,\"borderwidth\":2,\"font\":{\"color\":\"white\",\"size\":10},\"showarrow\":false,\"text\":\"2015:\\n19\",\"x\":2015,\"y\":18.636454389105086,\"yshift\":20},{\"bgcolor\":\"#2CA02C\",\"bordercolor\":\"#2CA02C\",\"borderpad\":4,\"borderwidth\":2,\"font\":{\"color\":\"white\",\"size\":10},\"showarrow\":false,\"text\":\"2020:\\n19\",\"x\":2020,\"y\":19.065082897004352,\"yshift\":20},{\"bgcolor\":\"#D62728\",\"bordercolor\":\"#D62728\",\"borderpad\":4,\"borderwidth\":2,\"font\":{\"color\":\"white\",\"size\":10},\"showarrow\":false,\"text\":\"1990:\\n29\",\"x\":1990,\"y\":29.325213740838805,\"yshift\":20},{\"bgcolor\":\"#D62728\",\"bordercolor\":\"#D62728\",\"borderpad\":4,\"borderwidth\":2,\"font\":{\"color\":\"white\",\"size\":10},\"showarrow\":false,\"text\":\"1994:\\n27\",\"x\":1994,\"y\":26.528855418838482,\"yshift\":20},{\"bgcolor\":\"#D62728\",\"bordercolor\":\"#D62728\",\"borderpad\":4,\"borderwidth\":2,\"font\":{\"color\":\"white\",\"size\":10},\"showarrow\":false,\"text\":\"1998:\\n25\",\"x\":1998,\"y\":25.098301273464152,\"yshift\":20},{\"bgcolor\":\"#D62728\",\"bordercolor\":\"#D62728\",\"borderpad\":4,\"borderwidth\":2,\"font\":{\"color\":\"white\",\"size\":10},\"showarrow\":false,\"text\":\"2003:\\n25\",\"x\":2003,\"y\":25.28298333176382,\"yshift\":20},{\"bgcolor\":\"#D62728\",\"bordercolor\":\"#D62728\",\"borderpad\":4,\"borderwidth\":2,\"font\":{\"color\":\"white\",\"size\":10},\"showarrow\":false,\"text\":\"2009:\\n23\",\"x\":2009,\"y\":22.968602006117727,\"yshift\":20},{\"bgcolor\":\"#D62728\",\"bordercolor\":\"#D62728\",\"borderpad\":4,\"borderwidth\":2,\"font\":{\"color\":\"white\",\"size\":10},\"showarrow\":false,\"text\":\"2015:\\n24\",\"x\":2015,\"y\":23.586137566508224,\"yshift\":20},{\"bgcolor\":\"#D62728\",\"bordercolor\":\"#D62728\",\"borderpad\":4,\"borderwidth\":2,\"font\":{\"color\":\"white\",\"size\":10},\"showarrow\":false,\"text\":\"2020:\\n22\",\"x\":2020,\"y\":22.323149756029924,\"yshift\":20},{\"bgcolor\":\"#9467BD\",\"bordercolor\":\"#9467BD\",\"borderpad\":4,\"borderwidth\":2,\"font\":{\"color\":\"white\",\"size\":10},\"showarrow\":false,\"text\":\"1990:\\n33\",\"x\":1990,\"y\":32.69762897074776,\"yshift\":20},{\"bgcolor\":\"#9467BD\",\"bordercolor\":\"#9467BD\",\"borderpad\":4,\"borderwidth\":2,\"font\":{\"color\":\"white\",\"size\":10},\"showarrow\":false,\"text\":\"1994:\\n31\",\"x\":1994,\"y\":31.180514909081424,\"yshift\":20},{\"bgcolor\":\"#9467BD\",\"bordercolor\":\"#9467BD\",\"borderpad\":4,\"borderwidth\":2,\"font\":{\"color\":\"white\",\"size\":10},\"showarrow\":false,\"text\":\"1998:\\n33\",\"x\":1998,\"y\":32.9484651992585,\"yshift\":20},{\"bgcolor\":\"#9467BD\",\"bordercolor\":\"#9467BD\",\"borderpad\":4,\"borderwidth\":2,\"font\":{\"color\":\"white\",\"size\":10},\"showarrow\":false,\"text\":\"2003:\\n32\",\"x\":2003,\"y\":31.93683410672477,\"yshift\":20},{\"bgcolor\":\"#9467BD\",\"bordercolor\":\"#9467BD\",\"borderpad\":4,\"borderwidth\":2,\"font\":{\"color\":\"white\",\"size\":10},\"showarrow\":false,\"text\":\"2009:\\n29\",\"x\":2009,\"y\":29.089677499495366,\"yshift\":20},{\"bgcolor\":\"#9467BD\",\"bordercolor\":\"#9467BD\",\"borderpad\":4,\"borderwidth\":2,\"font\":{\"color\":\"white\",\"size\":10},\"showarrow\":false,\"text\":\"2015:\\n28\",\"x\":2015,\"y\":27.539362011411917,\"yshift\":20},{\"bgcolor\":\"#9467BD\",\"bordercolor\":\"#9467BD\",\"borderpad\":4,\"borderwidth\":2,\"font\":{\"color\":\"white\",\"size\":10},\"showarrow\":false,\"text\":\"2020:\\n25\",\"x\":2020,\"y\":24.92889543290658,\"yshift\":20}]},                        {\"responsive\": true}                    ).then(function(){\n                            \nvar gd = document.getElementById('21b2c1b0-c83e-4f3e-9047-56e71faa0bf9');\nvar x = new MutationObserver(function (mutations, observer) {{\n        var display = window.getComputedStyle(gd).display;\n        if (!display || display === 'none') {{\n            console.log([gd, 'removed!']);\n            Plotly.purge(gd);\n            observer.disconnect();\n        }}\n}});\n\n// Listen for the removal of the full notebook cells\nvar notebookContainer = gd.closest('#notebook-container');\nif (notebookContainer) {{\n    x.observe(notebookContainer, {childList: true});\n}}\n\n// Listen for the clearing of the current output cell\nvar outputEl = gd.closest('.output');\nif (outputEl) {{\n    x.observe(outputEl, {childList: true});\n}}\n\n                        })                };                });            </script>        </div>"
     },
     "metadata": {},
     "output_type": "display_data"
    }
   ],
   "source": [
    "# anios= df.anio.unique()\n",
    "anios = [1990, 1994, 1998, 2003, 2009, 2015, 2020]\n",
    "shift = [-25, 20, 20, 20, 20]\n",
    "posiciones = ['bottom center', 'middle center', 'middle center', 'middle center', 'bottom left']\n",
    "colores = ['#1F77B4', '#FF7F0E', '#2CA02C', '#D62728', '#9467BD']\n",
    "fig = go.Figure()\n",
    "quintiles = df_sinmenores.quintil.unique()\n",
    "for q in range(len(quintiles)):\n",
    "    fig.add_trace(\n",
    "        go.Scatter(\n",
    "             x = df_sinmenores.loc[df_sinmenores.quintil == quintiles[q], 'anio'],\n",
    "             y = df_sinmenores.loc[df_sinmenores.quintil == quintiles[q], 'prop'],\n",
    "             mode='lines + markers',\n",
    "            name=quintiles[q]\n",
    "         )\n",
    "     )\n",
    "    for a in anios:\n",
    "        fig.add_annotation(\n",
    "                x = df_sinmenores.loc[(df_sinmenores.quintil == quintiles[q]) & (df_sinmenores.anio == a), 'anio'].to_list()[0],\n",
    "                y = df_sinmenores.loc[(df_sinmenores.quintil == quintiles[q]) & (df_sinmenores.anio == a), 'prop']\n",
    "                .to_list()[0],\n",
    "                yshift = shift[q],\n",
    "                text = str(a) + ':' + '\\n' + str(round(df_sinmenores.loc[(df_sinmenores.quintil == quintiles[q]) &\n",
    "                                                                 (df_sinmenores\n",
    "                                                                                                    .anio ==\n",
    "                                                                                              a), 'prop'].to_list()\n",
    "                                 [0])),\n",
    "                showarrow=False,\n",
    "                bordercolor=colores[q],\n",
    "                borderwidth=2,\n",
    "                borderpad=4,\n",
    "                bgcolor=colores[q],\n",
    "                font= dict(\n",
    "                    size=10,\n",
    "                    color='white',\n",
    "\n",
    "                )\n",
    "        )\n",
    "fig.update_layout(template='none')\n",
    "fig.write_image('resultados/img/02_sinmenoresquintil.jpeg')\n",
    "\n",
    "fig.show()"
   ],
   "metadata": {
    "collapsed": false,
    "pycharm": {
     "name": "#%%\n"
    }
   }
  },
  {
   "cell_type": "code",
   "execution_count": 63,
   "outputs": [
    {
     "data": {
      "application/vnd.plotly.v1+json": {
       "data": [
        {
         "mode": "lines+markers",
         "name": "I",
         "x": [
          1990,
          1992,
          1994,
          1996,
          1998,
          2000,
          2003,
          2009,
          2013,
          2015,
          2017,
          2020
         ],
         "y": [
          26.058161770736366,
          26.306023364322733,
          26.14627440693734,
          25.73508296090778,
          25.540305400941833,
          26.641040804257837,
          25.715023532713232,
          23.909526578206002,
          25.544855667092282,
          25.31973027733804,
          24.474666895339908,
          22.43648909867869
         ],
         "type": "scatter"
        },
        {
         "mode": "lines+markers",
         "name": "II",
         "x": [
          1990,
          1992,
          1994,
          1996,
          1998,
          2000,
          2003,
          2009,
          2013,
          2015,
          2017,
          2020
         ],
         "y": [
          24.024385666817878,
          24.091467294856834,
          23.76359148879903,
          23.60196728038772,
          24.109294190301277,
          24.236861817465012,
          24.42279907467202,
          24.280098178994542,
          25.50443890827746,
          25.40173015118438,
          26.357211425086884,
          26.17137314778899
         ],
         "type": "scatter"
        },
        {
         "mode": "lines+markers",
         "name": "III",
         "x": [
          1990,
          1992,
          1994,
          1996,
          1998,
          2000,
          2003,
          2009,
          2013,
          2015,
          2017,
          2020
         ],
         "y": [
          20.34957669822297,
          20.17931191242602,
          19.413370586187224,
          19.636587921340098,
          19.725980000683943,
          19.856416321703136,
          20.0963156336501,
          21.309048180404282,
          21.382314797619532,
          21.48777463419287,
          21.4919102870405,
          21.966145427598345
         ],
         "type": "scatter"
        },
        {
         "mode": "lines+markers",
         "name": "IV",
         "x": [
          1990,
          1992,
          1994,
          1996,
          1998,
          2000,
          2003,
          2009,
          2013,
          2015,
          2017,
          2020
         ],
         "y": [
          15.58300083450988,
          15.876763523460506,
          16.569906843537584,
          17.32165083780814,
          17.35655791292593,
          16.16148235757934,
          16.9416235082406,
          17.638804325545205,
          15.985271192984051,
          16.068936817020283,
          15.772260506463592,
          16.169764982175867
         ],
         "type": "scatter"
        },
        {
         "mode": "lines+markers",
         "name": "V",
         "x": [
          1990,
          1992,
          1994,
          1996,
          1998,
          2000,
          2003,
          2009,
          2013,
          2015,
          2017,
          2020
         ],
         "y": [
          13.984875029712907,
          13.546433904933908,
          14.106856674538824,
          13.70471099955626,
          13.267862495147018,
          13.10419869899468,
          12.824238250724045,
          12.862522736849966,
          11.583119434026672,
          11.72182812026443,
          11.903950886069115,
          13.256227343758114
         ],
         "type": "scatter"
        }
       ],
       "layout": {
        "template": {
         "data": {
          "scatter": [
           {
            "type": "scatter"
           }
          ]
         }
        },
        "annotations": [
         {
          "bgcolor": "#1F77B4",
          "bordercolor": "#1F77B4",
          "borderpad": 4,
          "borderwidth": 2,
          "font": {
           "color": "white",
           "size": 10
          },
          "showarrow": false,
          "text": "1990:\n26",
          "x": 1990,
          "y": 26.058161770736366,
          "yshift": 20
         },
         {
          "bgcolor": "#1F77B4",
          "bordercolor": "#1F77B4",
          "borderpad": 4,
          "borderwidth": 2,
          "font": {
           "color": "white",
           "size": 10
          },
          "showarrow": false,
          "text": "1994:\n26",
          "x": 1994,
          "y": 26.14627440693734,
          "yshift": 20
         },
         {
          "bgcolor": "#1F77B4",
          "bordercolor": "#1F77B4",
          "borderpad": 4,
          "borderwidth": 2,
          "font": {
           "color": "white",
           "size": 10
          },
          "showarrow": false,
          "text": "1998:\n26",
          "x": 1998,
          "y": 25.540305400941833,
          "yshift": 20
         },
         {
          "bgcolor": "#1F77B4",
          "bordercolor": "#1F77B4",
          "borderpad": 4,
          "borderwidth": 2,
          "font": {
           "color": "white",
           "size": 10
          },
          "showarrow": false,
          "text": "2003:\n26",
          "x": 2003,
          "y": 25.715023532713232,
          "yshift": 20
         },
         {
          "bgcolor": "#1F77B4",
          "bordercolor": "#1F77B4",
          "borderpad": 4,
          "borderwidth": 2,
          "font": {
           "color": "white",
           "size": 10
          },
          "showarrow": false,
          "text": "2009:\n24",
          "x": 2009,
          "y": 23.909526578206002,
          "yshift": 20
         },
         {
          "bgcolor": "#1F77B4",
          "bordercolor": "#1F77B4",
          "borderpad": 4,
          "borderwidth": 2,
          "font": {
           "color": "white",
           "size": 10
          },
          "showarrow": false,
          "text": "2015:\n25",
          "x": 2015,
          "y": 25.31973027733804,
          "yshift": 20
         },
         {
          "bgcolor": "#1F77B4",
          "bordercolor": "#1F77B4",
          "borderpad": 4,
          "borderwidth": 2,
          "font": {
           "color": "white",
           "size": 10
          },
          "showarrow": false,
          "text": "2020:\n22",
          "x": 2020,
          "y": 22.43648909867869,
          "yshift": 20
         },
         {
          "bgcolor": "#FF7F0E",
          "bordercolor": "#FF7F0E",
          "borderpad": 4,
          "borderwidth": 2,
          "font": {
           "color": "white",
           "size": 10
          },
          "showarrow": false,
          "text": "1990:\n24",
          "x": 1990,
          "y": 24.024385666817878,
          "yshift": -20
         },
         {
          "bgcolor": "#FF7F0E",
          "bordercolor": "#FF7F0E",
          "borderpad": 4,
          "borderwidth": 2,
          "font": {
           "color": "white",
           "size": 10
          },
          "showarrow": false,
          "text": "1994:\n24",
          "x": 1994,
          "y": 23.76359148879903,
          "yshift": -20
         },
         {
          "bgcolor": "#FF7F0E",
          "bordercolor": "#FF7F0E",
          "borderpad": 4,
          "borderwidth": 2,
          "font": {
           "color": "white",
           "size": 10
          },
          "showarrow": false,
          "text": "1998:\n24",
          "x": 1998,
          "y": 24.109294190301277,
          "yshift": -20
         },
         {
          "bgcolor": "#FF7F0E",
          "bordercolor": "#FF7F0E",
          "borderpad": 4,
          "borderwidth": 2,
          "font": {
           "color": "white",
           "size": 10
          },
          "showarrow": false,
          "text": "2003:\n24",
          "x": 2003,
          "y": 24.42279907467202,
          "yshift": -20
         },
         {
          "bgcolor": "#FF7F0E",
          "bordercolor": "#FF7F0E",
          "borderpad": 4,
          "borderwidth": 2,
          "font": {
           "color": "white",
           "size": 10
          },
          "showarrow": false,
          "text": "2009:\n24",
          "x": 2009,
          "y": 24.280098178994542,
          "yshift": -20
         },
         {
          "bgcolor": "#FF7F0E",
          "bordercolor": "#FF7F0E",
          "borderpad": 4,
          "borderwidth": 2,
          "font": {
           "color": "white",
           "size": 10
          },
          "showarrow": false,
          "text": "2015:\n25",
          "x": 2015,
          "y": 25.40173015118438,
          "yshift": -20
         },
         {
          "bgcolor": "#FF7F0E",
          "bordercolor": "#FF7F0E",
          "borderpad": 4,
          "borderwidth": 2,
          "font": {
           "color": "white",
           "size": 10
          },
          "showarrow": false,
          "text": "2020:\n26",
          "x": 2020,
          "y": 26.17137314778899,
          "yshift": -20
         },
         {
          "bgcolor": "#2CA02C",
          "bordercolor": "#2CA02C",
          "borderpad": 4,
          "borderwidth": 2,
          "font": {
           "color": "white",
           "size": 10
          },
          "showarrow": false,
          "text": "1990:\n20",
          "x": 1990,
          "y": 20.34957669822297,
          "yshift": 0
         },
         {
          "bgcolor": "#2CA02C",
          "bordercolor": "#2CA02C",
          "borderpad": 4,
          "borderwidth": 2,
          "font": {
           "color": "white",
           "size": 10
          },
          "showarrow": false,
          "text": "1994:\n19",
          "x": 1994,
          "y": 19.413370586187224,
          "yshift": 0
         },
         {
          "bgcolor": "#2CA02C",
          "bordercolor": "#2CA02C",
          "borderpad": 4,
          "borderwidth": 2,
          "font": {
           "color": "white",
           "size": 10
          },
          "showarrow": false,
          "text": "1998:\n20",
          "x": 1998,
          "y": 19.725980000683943,
          "yshift": 0
         },
         {
          "bgcolor": "#2CA02C",
          "bordercolor": "#2CA02C",
          "borderpad": 4,
          "borderwidth": 2,
          "font": {
           "color": "white",
           "size": 10
          },
          "showarrow": false,
          "text": "2003:\n20",
          "x": 2003,
          "y": 20.0963156336501,
          "yshift": 0
         },
         {
          "bgcolor": "#2CA02C",
          "bordercolor": "#2CA02C",
          "borderpad": 4,
          "borderwidth": 2,
          "font": {
           "color": "white",
           "size": 10
          },
          "showarrow": false,
          "text": "2009:\n21",
          "x": 2009,
          "y": 21.309048180404282,
          "yshift": 0
         },
         {
          "bgcolor": "#2CA02C",
          "bordercolor": "#2CA02C",
          "borderpad": 4,
          "borderwidth": 2,
          "font": {
           "color": "white",
           "size": 10
          },
          "showarrow": false,
          "text": "2015:\n21",
          "x": 2015,
          "y": 21.48777463419287,
          "yshift": 0
         },
         {
          "bgcolor": "#2CA02C",
          "bordercolor": "#2CA02C",
          "borderpad": 4,
          "borderwidth": 2,
          "font": {
           "color": "white",
           "size": 10
          },
          "showarrow": false,
          "text": "2020:\n22",
          "x": 2020,
          "y": 21.966145427598345,
          "yshift": 0
         },
         {
          "bgcolor": "#D62728",
          "bordercolor": "#D62728",
          "borderpad": 4,
          "borderwidth": 2,
          "font": {
           "color": "white",
           "size": 10
          },
          "showarrow": false,
          "text": "1990:\n16",
          "x": 1990,
          "y": 15.58300083450988,
          "yshift": 0
         },
         {
          "bgcolor": "#D62728",
          "bordercolor": "#D62728",
          "borderpad": 4,
          "borderwidth": 2,
          "font": {
           "color": "white",
           "size": 10
          },
          "showarrow": false,
          "text": "1994:\n17",
          "x": 1994,
          "y": 16.569906843537584,
          "yshift": 0
         },
         {
          "bgcolor": "#D62728",
          "bordercolor": "#D62728",
          "borderpad": 4,
          "borderwidth": 2,
          "font": {
           "color": "white",
           "size": 10
          },
          "showarrow": false,
          "text": "1998:\n17",
          "x": 1998,
          "y": 17.35655791292593,
          "yshift": 0
         },
         {
          "bgcolor": "#D62728",
          "bordercolor": "#D62728",
          "borderpad": 4,
          "borderwidth": 2,
          "font": {
           "color": "white",
           "size": 10
          },
          "showarrow": false,
          "text": "2003:\n17",
          "x": 2003,
          "y": 16.9416235082406,
          "yshift": 0
         },
         {
          "bgcolor": "#D62728",
          "bordercolor": "#D62728",
          "borderpad": 4,
          "borderwidth": 2,
          "font": {
           "color": "white",
           "size": 10
          },
          "showarrow": false,
          "text": "2009:\n18",
          "x": 2009,
          "y": 17.638804325545205,
          "yshift": 0
         },
         {
          "bgcolor": "#D62728",
          "bordercolor": "#D62728",
          "borderpad": 4,
          "borderwidth": 2,
          "font": {
           "color": "white",
           "size": 10
          },
          "showarrow": false,
          "text": "2015:\n16",
          "x": 2015,
          "y": 16.068936817020283,
          "yshift": 0
         },
         {
          "bgcolor": "#D62728",
          "bordercolor": "#D62728",
          "borderpad": 4,
          "borderwidth": 2,
          "font": {
           "color": "white",
           "size": 10
          },
          "showarrow": false,
          "text": "2020:\n16",
          "x": 2020,
          "y": 16.169764982175867,
          "yshift": 0
         },
         {
          "bgcolor": "#9467BD",
          "bordercolor": "#9467BD",
          "borderpad": 4,
          "borderwidth": 2,
          "font": {
           "color": "white",
           "size": 10
          },
          "showarrow": false,
          "text": "1990:\n14",
          "x": 1990,
          "y": 13.984875029712907,
          "yshift": 0
         },
         {
          "bgcolor": "#9467BD",
          "bordercolor": "#9467BD",
          "borderpad": 4,
          "borderwidth": 2,
          "font": {
           "color": "white",
           "size": 10
          },
          "showarrow": false,
          "text": "1994:\n14",
          "x": 1994,
          "y": 14.106856674538824,
          "yshift": 0
         },
         {
          "bgcolor": "#9467BD",
          "bordercolor": "#9467BD",
          "borderpad": 4,
          "borderwidth": 2,
          "font": {
           "color": "white",
           "size": 10
          },
          "showarrow": false,
          "text": "1998:\n13",
          "x": 1998,
          "y": 13.267862495147018,
          "yshift": 0
         },
         {
          "bgcolor": "#9467BD",
          "bordercolor": "#9467BD",
          "borderpad": 4,
          "borderwidth": 2,
          "font": {
           "color": "white",
           "size": 10
          },
          "showarrow": false,
          "text": "2003:\n13",
          "x": 2003,
          "y": 12.824238250724045,
          "yshift": 0
         },
         {
          "bgcolor": "#9467BD",
          "bordercolor": "#9467BD",
          "borderpad": 4,
          "borderwidth": 2,
          "font": {
           "color": "white",
           "size": 10
          },
          "showarrow": false,
          "text": "2009:\n13",
          "x": 2009,
          "y": 12.862522736849966,
          "yshift": 0
         },
         {
          "bgcolor": "#9467BD",
          "bordercolor": "#9467BD",
          "borderpad": 4,
          "borderwidth": 2,
          "font": {
           "color": "white",
           "size": 10
          },
          "showarrow": false,
          "text": "2015:\n12",
          "x": 2015,
          "y": 11.72182812026443,
          "yshift": 0
         },
         {
          "bgcolor": "#9467BD",
          "bordercolor": "#9467BD",
          "borderpad": 4,
          "borderwidth": 2,
          "font": {
           "color": "white",
           "size": 10
          },
          "showarrow": false,
          "text": "2020:\n13",
          "x": 2020,
          "y": 13.256227343758114,
          "yshift": 0
         }
        ]
       },
       "config": {
        "plotlyServerURL": "https://plot.ly"
       }
      },
      "text/html": "<div>                            <div id=\"44efe19b-acdc-44c3-8f69-f136cefbdfff\" class=\"plotly-graph-div\" style=\"height:525px; width:100%;\"></div>            <script type=\"text/javascript\">                require([\"plotly\"], function(Plotly) {                    window.PLOTLYENV=window.PLOTLYENV || {};                                    if (document.getElementById(\"44efe19b-acdc-44c3-8f69-f136cefbdfff\")) {                    Plotly.newPlot(                        \"44efe19b-acdc-44c3-8f69-f136cefbdfff\",                        [{\"mode\":\"lines+markers\",\"name\":\"I\",\"x\":[1990,1992,1994,1996,1998,2000,2003,2009,2013,2015,2017,2020],\"y\":[26.058161770736366,26.306023364322733,26.14627440693734,25.73508296090778,25.540305400941833,26.641040804257837,25.715023532713232,23.909526578206002,25.544855667092282,25.31973027733804,24.474666895339908,22.43648909867869],\"type\":\"scatter\"},{\"mode\":\"lines+markers\",\"name\":\"II\",\"x\":[1990,1992,1994,1996,1998,2000,2003,2009,2013,2015,2017,2020],\"y\":[24.024385666817878,24.091467294856834,23.76359148879903,23.60196728038772,24.109294190301277,24.236861817465012,24.42279907467202,24.280098178994542,25.50443890827746,25.40173015118438,26.357211425086884,26.17137314778899],\"type\":\"scatter\"},{\"mode\":\"lines+markers\",\"name\":\"III\",\"x\":[1990,1992,1994,1996,1998,2000,2003,2009,2013,2015,2017,2020],\"y\":[20.34957669822297,20.17931191242602,19.413370586187224,19.636587921340098,19.725980000683943,19.856416321703136,20.0963156336501,21.309048180404282,21.382314797619532,21.48777463419287,21.4919102870405,21.966145427598345],\"type\":\"scatter\"},{\"mode\":\"lines+markers\",\"name\":\"IV\",\"x\":[1990,1992,1994,1996,1998,2000,2003,2009,2013,2015,2017,2020],\"y\":[15.58300083450988,15.876763523460506,16.569906843537584,17.32165083780814,17.35655791292593,16.16148235757934,16.9416235082406,17.638804325545205,15.985271192984051,16.068936817020283,15.772260506463592,16.169764982175867],\"type\":\"scatter\"},{\"mode\":\"lines+markers\",\"name\":\"V\",\"x\":[1990,1992,1994,1996,1998,2000,2003,2009,2013,2015,2017,2020],\"y\":[13.984875029712907,13.546433904933908,14.106856674538824,13.70471099955626,13.267862495147018,13.10419869899468,12.824238250724045,12.862522736849966,11.583119434026672,11.72182812026443,11.903950886069115,13.256227343758114],\"type\":\"scatter\"}],                        {\"template\":{\"data\":{\"scatter\":[{\"type\":\"scatter\"}]}},\"annotations\":[{\"bgcolor\":\"#1F77B4\",\"bordercolor\":\"#1F77B4\",\"borderpad\":4,\"borderwidth\":2,\"font\":{\"color\":\"white\",\"size\":10},\"showarrow\":false,\"text\":\"1990:\\n26\",\"x\":1990,\"y\":26.058161770736366,\"yshift\":20},{\"bgcolor\":\"#1F77B4\",\"bordercolor\":\"#1F77B4\",\"borderpad\":4,\"borderwidth\":2,\"font\":{\"color\":\"white\",\"size\":10},\"showarrow\":false,\"text\":\"1994:\\n26\",\"x\":1994,\"y\":26.14627440693734,\"yshift\":20},{\"bgcolor\":\"#1F77B4\",\"bordercolor\":\"#1F77B4\",\"borderpad\":4,\"borderwidth\":2,\"font\":{\"color\":\"white\",\"size\":10},\"showarrow\":false,\"text\":\"1998:\\n26\",\"x\":1998,\"y\":25.540305400941833,\"yshift\":20},{\"bgcolor\":\"#1F77B4\",\"bordercolor\":\"#1F77B4\",\"borderpad\":4,\"borderwidth\":2,\"font\":{\"color\":\"white\",\"size\":10},\"showarrow\":false,\"text\":\"2003:\\n26\",\"x\":2003,\"y\":25.715023532713232,\"yshift\":20},{\"bgcolor\":\"#1F77B4\",\"bordercolor\":\"#1F77B4\",\"borderpad\":4,\"borderwidth\":2,\"font\":{\"color\":\"white\",\"size\":10},\"showarrow\":false,\"text\":\"2009:\\n24\",\"x\":2009,\"y\":23.909526578206002,\"yshift\":20},{\"bgcolor\":\"#1F77B4\",\"bordercolor\":\"#1F77B4\",\"borderpad\":4,\"borderwidth\":2,\"font\":{\"color\":\"white\",\"size\":10},\"showarrow\":false,\"text\":\"2015:\\n25\",\"x\":2015,\"y\":25.31973027733804,\"yshift\":20},{\"bgcolor\":\"#1F77B4\",\"bordercolor\":\"#1F77B4\",\"borderpad\":4,\"borderwidth\":2,\"font\":{\"color\":\"white\",\"size\":10},\"showarrow\":false,\"text\":\"2020:\\n22\",\"x\":2020,\"y\":22.43648909867869,\"yshift\":20},{\"bgcolor\":\"#FF7F0E\",\"bordercolor\":\"#FF7F0E\",\"borderpad\":4,\"borderwidth\":2,\"font\":{\"color\":\"white\",\"size\":10},\"showarrow\":false,\"text\":\"1990:\\n24\",\"x\":1990,\"y\":24.024385666817878,\"yshift\":-20},{\"bgcolor\":\"#FF7F0E\",\"bordercolor\":\"#FF7F0E\",\"borderpad\":4,\"borderwidth\":2,\"font\":{\"color\":\"white\",\"size\":10},\"showarrow\":false,\"text\":\"1994:\\n24\",\"x\":1994,\"y\":23.76359148879903,\"yshift\":-20},{\"bgcolor\":\"#FF7F0E\",\"bordercolor\":\"#FF7F0E\",\"borderpad\":4,\"borderwidth\":2,\"font\":{\"color\":\"white\",\"size\":10},\"showarrow\":false,\"text\":\"1998:\\n24\",\"x\":1998,\"y\":24.109294190301277,\"yshift\":-20},{\"bgcolor\":\"#FF7F0E\",\"bordercolor\":\"#FF7F0E\",\"borderpad\":4,\"borderwidth\":2,\"font\":{\"color\":\"white\",\"size\":10},\"showarrow\":false,\"text\":\"2003:\\n24\",\"x\":2003,\"y\":24.42279907467202,\"yshift\":-20},{\"bgcolor\":\"#FF7F0E\",\"bordercolor\":\"#FF7F0E\",\"borderpad\":4,\"borderwidth\":2,\"font\":{\"color\":\"white\",\"size\":10},\"showarrow\":false,\"text\":\"2009:\\n24\",\"x\":2009,\"y\":24.280098178994542,\"yshift\":-20},{\"bgcolor\":\"#FF7F0E\",\"bordercolor\":\"#FF7F0E\",\"borderpad\":4,\"borderwidth\":2,\"font\":{\"color\":\"white\",\"size\":10},\"showarrow\":false,\"text\":\"2015:\\n25\",\"x\":2015,\"y\":25.40173015118438,\"yshift\":-20},{\"bgcolor\":\"#FF7F0E\",\"bordercolor\":\"#FF7F0E\",\"borderpad\":4,\"borderwidth\":2,\"font\":{\"color\":\"white\",\"size\":10},\"showarrow\":false,\"text\":\"2020:\\n26\",\"x\":2020,\"y\":26.17137314778899,\"yshift\":-20},{\"bgcolor\":\"#2CA02C\",\"bordercolor\":\"#2CA02C\",\"borderpad\":4,\"borderwidth\":2,\"font\":{\"color\":\"white\",\"size\":10},\"showarrow\":false,\"text\":\"1990:\\n20\",\"x\":1990,\"y\":20.34957669822297,\"yshift\":0},{\"bgcolor\":\"#2CA02C\",\"bordercolor\":\"#2CA02C\",\"borderpad\":4,\"borderwidth\":2,\"font\":{\"color\":\"white\",\"size\":10},\"showarrow\":false,\"text\":\"1994:\\n19\",\"x\":1994,\"y\":19.413370586187224,\"yshift\":0},{\"bgcolor\":\"#2CA02C\",\"bordercolor\":\"#2CA02C\",\"borderpad\":4,\"borderwidth\":2,\"font\":{\"color\":\"white\",\"size\":10},\"showarrow\":false,\"text\":\"1998:\\n20\",\"x\":1998,\"y\":19.725980000683943,\"yshift\":0},{\"bgcolor\":\"#2CA02C\",\"bordercolor\":\"#2CA02C\",\"borderpad\":4,\"borderwidth\":2,\"font\":{\"color\":\"white\",\"size\":10},\"showarrow\":false,\"text\":\"2003:\\n20\",\"x\":2003,\"y\":20.0963156336501,\"yshift\":0},{\"bgcolor\":\"#2CA02C\",\"bordercolor\":\"#2CA02C\",\"borderpad\":4,\"borderwidth\":2,\"font\":{\"color\":\"white\",\"size\":10},\"showarrow\":false,\"text\":\"2009:\\n21\",\"x\":2009,\"y\":21.309048180404282,\"yshift\":0},{\"bgcolor\":\"#2CA02C\",\"bordercolor\":\"#2CA02C\",\"borderpad\":4,\"borderwidth\":2,\"font\":{\"color\":\"white\",\"size\":10},\"showarrow\":false,\"text\":\"2015:\\n21\",\"x\":2015,\"y\":21.48777463419287,\"yshift\":0},{\"bgcolor\":\"#2CA02C\",\"bordercolor\":\"#2CA02C\",\"borderpad\":4,\"borderwidth\":2,\"font\":{\"color\":\"white\",\"size\":10},\"showarrow\":false,\"text\":\"2020:\\n22\",\"x\":2020,\"y\":21.966145427598345,\"yshift\":0},{\"bgcolor\":\"#D62728\",\"bordercolor\":\"#D62728\",\"borderpad\":4,\"borderwidth\":2,\"font\":{\"color\":\"white\",\"size\":10},\"showarrow\":false,\"text\":\"1990:\\n16\",\"x\":1990,\"y\":15.58300083450988,\"yshift\":0},{\"bgcolor\":\"#D62728\",\"bordercolor\":\"#D62728\",\"borderpad\":4,\"borderwidth\":2,\"font\":{\"color\":\"white\",\"size\":10},\"showarrow\":false,\"text\":\"1994:\\n17\",\"x\":1994,\"y\":16.569906843537584,\"yshift\":0},{\"bgcolor\":\"#D62728\",\"bordercolor\":\"#D62728\",\"borderpad\":4,\"borderwidth\":2,\"font\":{\"color\":\"white\",\"size\":10},\"showarrow\":false,\"text\":\"1998:\\n17\",\"x\":1998,\"y\":17.35655791292593,\"yshift\":0},{\"bgcolor\":\"#D62728\",\"bordercolor\":\"#D62728\",\"borderpad\":4,\"borderwidth\":2,\"font\":{\"color\":\"white\",\"size\":10},\"showarrow\":false,\"text\":\"2003:\\n17\",\"x\":2003,\"y\":16.9416235082406,\"yshift\":0},{\"bgcolor\":\"#D62728\",\"bordercolor\":\"#D62728\",\"borderpad\":4,\"borderwidth\":2,\"font\":{\"color\":\"white\",\"size\":10},\"showarrow\":false,\"text\":\"2009:\\n18\",\"x\":2009,\"y\":17.638804325545205,\"yshift\":0},{\"bgcolor\":\"#D62728\",\"bordercolor\":\"#D62728\",\"borderpad\":4,\"borderwidth\":2,\"font\":{\"color\":\"white\",\"size\":10},\"showarrow\":false,\"text\":\"2015:\\n16\",\"x\":2015,\"y\":16.068936817020283,\"yshift\":0},{\"bgcolor\":\"#D62728\",\"bordercolor\":\"#D62728\",\"borderpad\":4,\"borderwidth\":2,\"font\":{\"color\":\"white\",\"size\":10},\"showarrow\":false,\"text\":\"2020:\\n16\",\"x\":2020,\"y\":16.169764982175867,\"yshift\":0},{\"bgcolor\":\"#9467BD\",\"bordercolor\":\"#9467BD\",\"borderpad\":4,\"borderwidth\":2,\"font\":{\"color\":\"white\",\"size\":10},\"showarrow\":false,\"text\":\"1990:\\n14\",\"x\":1990,\"y\":13.984875029712907,\"yshift\":0},{\"bgcolor\":\"#9467BD\",\"bordercolor\":\"#9467BD\",\"borderpad\":4,\"borderwidth\":2,\"font\":{\"color\":\"white\",\"size\":10},\"showarrow\":false,\"text\":\"1994:\\n14\",\"x\":1994,\"y\":14.106856674538824,\"yshift\":0},{\"bgcolor\":\"#9467BD\",\"bordercolor\":\"#9467BD\",\"borderpad\":4,\"borderwidth\":2,\"font\":{\"color\":\"white\",\"size\":10},\"showarrow\":false,\"text\":\"1998:\\n13\",\"x\":1998,\"y\":13.267862495147018,\"yshift\":0},{\"bgcolor\":\"#9467BD\",\"bordercolor\":\"#9467BD\",\"borderpad\":4,\"borderwidth\":2,\"font\":{\"color\":\"white\",\"size\":10},\"showarrow\":false,\"text\":\"2003:\\n13\",\"x\":2003,\"y\":12.824238250724045,\"yshift\":0},{\"bgcolor\":\"#9467BD\",\"bordercolor\":\"#9467BD\",\"borderpad\":4,\"borderwidth\":2,\"font\":{\"color\":\"white\",\"size\":10},\"showarrow\":false,\"text\":\"2009:\\n13\",\"x\":2009,\"y\":12.862522736849966,\"yshift\":0},{\"bgcolor\":\"#9467BD\",\"bordercolor\":\"#9467BD\",\"borderpad\":4,\"borderwidth\":2,\"font\":{\"color\":\"white\",\"size\":10},\"showarrow\":false,\"text\":\"2015:\\n12\",\"x\":2015,\"y\":11.72182812026443,\"yshift\":0},{\"bgcolor\":\"#9467BD\",\"bordercolor\":\"#9467BD\",\"borderpad\":4,\"borderwidth\":2,\"font\":{\"color\":\"white\",\"size\":10},\"showarrow\":false,\"text\":\"2020:\\n13\",\"x\":2020,\"y\":13.256227343758114,\"yshift\":0}]},                        {\"responsive\": true}                    ).then(function(){\n                            \nvar gd = document.getElementById('44efe19b-acdc-44c3-8f69-f136cefbdfff');\nvar x = new MutationObserver(function (mutations, observer) {{\n        var display = window.getComputedStyle(gd).display;\n        if (!display || display === 'none') {{\n            console.log([gd, 'removed!']);\n            Plotly.purge(gd);\n            observer.disconnect();\n        }}\n}});\n\n// Listen for the removal of the full notebook cells\nvar notebookContainer = gd.closest('#notebook-container');\nif (notebookContainer) {{\n    x.observe(notebookContainer, {childList: true});\n}}\n\n// Listen for the clearing of the current output cell\nvar outputEl = gd.closest('.output');\nif (outputEl) {{\n    x.observe(outputEl, {childList: true});\n}}\n\n                        })                };                });            </script>        </div>"
     },
     "metadata": {},
     "output_type": "display_data"
    }
   ],
   "source": [
    "# anios= df.anio.unique()\n",
    "anios = [1990, 1994, 1998, 2003, 2009, 2015, 2020]\n",
    "shift = [20, -20, 0, 0, 0]\n",
    "posiciones = ['top right', 'bottom left', 'middle center', 'middle center', 'middle left']\n",
    "colores = ['#1F77B4', '#FF7F0E', '#2CA02C', '#D62728', '#9467BD']\n",
    "fig = go.Figure()\n",
    "quintiles = df_conmenores.quintil.unique()\n",
    "for q in range(len(quintiles)):\n",
    "    fig.add_trace(\n",
    "        go.Scatter(\n",
    "            x = df_conmenores.loc[df_conmenores.quintil == quintiles[q], 'anio'],\n",
    "            y = df_conmenores.loc[df_conmenores.quintil == quintiles[q], 'prop'],\n",
    "            mode='lines + markers',\n",
    "            name=quintiles[q]\n",
    "        )\n",
    "    )\n",
    "    for a in anios:\n",
    "        fig.add_annotation(\n",
    "            x = df_conmenores.loc[(df_conmenores.quintil == quintiles[q]) & (df_conmenores.anio == a), 'anio'].to_list\n",
    "            ()[0],\n",
    "            y = df_conmenores.loc[(df_conmenores.quintil == quintiles[q]) & (df_conmenores.anio == a), 'prop']\n",
    "            .to_list()[0],\n",
    "            yshift = shift[q],\n",
    "            text = str(a) + ':' + '\\n' + str(round(df_conmenores.loc[(df_conmenores.quintil == quintiles[q]) &\n",
    "                                                                     (df_conmenores\n",
    "                                                                      .anio ==\n",
    "                                                                      a), 'prop'].to_list()\n",
    "                                                   [0])),\n",
    "            showarrow=False,\n",
    "            bordercolor=colores[q],\n",
    "            borderwidth=2,\n",
    "            borderpad=4,\n",
    "            bgcolor=colores[q],\n",
    "            font= dict(\n",
    "                size=10,\n",
    "                color='white',\n",
    "\n",
    "            )\n",
    "        )\n",
    "fig.update_layout(template='none')\n",
    "fig.write_image('resultados/img/02_conmenoresquintil.jpeg')\n",
    "\n",
    "fig.show()"
   ],
   "metadata": {
    "collapsed": false,
    "pycharm": {
     "name": "#%%\n"
    }
   }
  },
  {
   "cell_type": "code",
   "execution_count": null,
   "outputs": [],
   "source": [],
   "metadata": {
    "collapsed": false,
    "pycharm": {
     "name": "#%%\n"
    }
   }
  }
 ],
 "metadata": {
  "kernelspec": {
   "display_name": "Python 3",
   "language": "python",
   "name": "python3"
  },
  "language_info": {
   "codemirror_mode": {
    "name": "ipython",
    "version": 2
   },
   "file_extension": ".py",
   "mimetype": "text/x-python",
   "name": "python",
   "nbconvert_exporter": "python",
   "pygments_lexer": "ipython2",
   "version": "2.7.6"
  }
 },
 "nbformat": 4,
 "nbformat_minor": 0
}