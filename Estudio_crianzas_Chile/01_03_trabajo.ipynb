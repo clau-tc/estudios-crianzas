{
 "cells": [
  {
   "cell_type": "code",
   "execution_count": 48,
   "outputs": [
    {
     "name": "stdout",
     "output_type": "stream",
     "text": [
      "<class 'pandas.core.frame.DataFrame'>\n",
      "RangeIndex: 4513701 entries, 0 to 4513700\n",
      "Data columns (total 7 columns):\n",
      " #   Column       Dtype  \n",
      "---  ------       -----  \n",
      " 0   ano_nac      int64  \n",
      " 1   activ_madre  float64\n",
      " 2   activ_padre  float64\n",
      " 3   ocupa_padre  object \n",
      " 4   ocupa_madre  object \n",
      " 5   categ_padre  int64  \n",
      " 6   categ_madre  int64  \n",
      "dtypes: float64(2), int64(3), object(2)\n",
      "memory usage: 241.1+ MB\n"
     ]
    }
   ],
   "source": [
    "# Se cargan las librerías y tabla de datos\n",
    "import pandas as pd\n",
    "import plotly.express as px\n",
    "from datetime import datetime\n",
    "from plotly import graph_objects as go\n",
    "import os\n",
    "# os.getcwd()\n",
    "os.chdir('/home/clautc/Proyectos_/Estudios/Estudio_crianzas_Chile')\n",
    "from plotly.subplots import make_subplots\n",
    "ruta = 'data/registros_estadisticos/df_trabajo.csv'\n",
    "df = pd.read_csv(ruta)\n",
    "df.drop(columns='Unnamed: 0', inplace=True)\n",
    "df.info()\n"
   ],
   "metadata": {
    "collapsed": false,
    "pycharm": {
     "name": "#%%\n"
    }
   }
  },
  {
   "cell_type": "code",
   "execution_count": 2,
   "outputs": [
    {
     "name": "stdout",
     "output_type": "stream",
     "text": [
      "<class 'pandas.core.frame.DataFrame'>\n",
      "RangeIndex: 4513701 entries, 0 to 4513700\n",
      "Data columns (total 7 columns):\n",
      " #   Column       Dtype  \n",
      "---  ------       -----  \n",
      " 0   ano_nac      int64  \n",
      " 1   activ_madre  float64\n",
      " 2   activ_padre  float64\n",
      " 3   ocupa_padre  object \n",
      " 4   ocupa_madre  object \n",
      " 5   categ_padre  int64  \n",
      " 6   categ_madre  int64  \n",
      "dtypes: float64(2), int64(3), object(2)\n",
      "memory usage: 241.1+ MB\n"
     ]
    },
    {
     "data": {
      "text/plain": "array([ 1.,  2.,  0., nan,  3.])"
     },
     "execution_count": 2,
     "metadata": {},
     "output_type": "execute_result"
    }
   ],
   "source": [
    "df.info()\n",
    "df.activ_padre.unique()"
   ],
   "metadata": {
    "collapsed": false,
    "pycharm": {
     "name": "#%%\n"
    }
   }
  },
  {
   "cell_type": "code",
   "execution_count": 49,
   "outputs": [],
   "source": [
    "actividad = {\n",
    "    0.0: 'Inactivas',\n",
    "    1.0: 'Activas',\n",
    "    2.0: 'Cesantes',\n",
    "    9.0: 'Ignorado',\n",
    "    8.0: 'Otros'\n",
    "}\n",
    "\n",
    "df.loc[df.activ_madre.isna(), 'activ_madre'] = 8.0\n",
    "df.loc[df.activ_padre.isna(), 'activ_padre'] = 8.0\n",
    "df.loc[df.activ_madre==9.0, 'activ_madre'] = 8.0\n",
    "df.loc[df.activ_padre==9.0, 'activ_padre'] = 8.0\n",
    "df['caem'] = df.activ_madre.apply(lambda x: actividad.get(x))\n",
    "df['caeh'] = df.activ_padre.apply(lambda x: actividad.get(x))\n",
    "df['aniof'] = pd.to_datetime(df.ano_nac, format='%Y')\n",
    "df['anio'] = df.aniof.dt.year\n",
    "# df = df[~((df.anio == 2007) | (df.anio == 2015))]\n",
    "# df.loc[df.anio==2015]\n",
    "gr_anio = df.groupby('anio')\n",
    "gr_act_m = df.groupby(['anio', 'caem', 'activ_madre'])\n",
    "gr_act_h = df.groupby(['anio', 'aniof','caeh', 'activ_padre'])\n",
    "df['tot'] = gr_anio['caem'].transform('count')\n",
    "df['actm'] = gr_act_m['caem'].transform('count')\n",
    "gr_act_m = df.groupby(['anio', 'aniof', 'caem', 'activ_madre'])\n",
    "\n",
    "df['acth'] = gr_act_h['caem'].transform('count')\n",
    "\n",
    "df['propm'] = df.actm/df.tot*100\n",
    "df['proph'] = df.acth/df.tot*100\n",
    "\n",
    "activ_mama = df[['anio', 'aniof', 'caem', 'activ_madre', 'propm']].drop_duplicates().reset_index(drop=True)\n",
    "activ_papa = df[['anio', 'aniof', 'caeh', 'activ_padre', 'proph']].drop_duplicates().reset_index(drop=True)"
   ],
   "metadata": {
    "collapsed": false,
    "pycharm": {
     "name": "#%%\n"
    }
   }
  },
  {
   "cell_type": "code",
   "execution_count": 53,
   "outputs": [
    {
     "data": {
      "text/plain": "[Timestamp('2001-01-01 00:00:00'),\n Timestamp('2001-01-01 00:00:00'),\n Timestamp('2001-01-01 00:00:00'),\n Timestamp('2002-01-01 00:00:00'),\n Timestamp('2002-01-01 00:00:00'),\n Timestamp('2002-01-01 00:00:00'),\n Timestamp('2002-01-01 00:00:00'),\n Timestamp('2003-01-01 00:00:00'),\n Timestamp('2003-01-01 00:00:00'),\n Timestamp('2003-01-01 00:00:00'),\n Timestamp('2004-01-01 00:00:00'),\n Timestamp('2004-01-01 00:00:00'),\n Timestamp('2004-01-01 00:00:00'),\n Timestamp('2005-01-01 00:00:00'),\n Timestamp('2005-01-01 00:00:00'),\n Timestamp('2005-01-01 00:00:00'),\n Timestamp('2006-01-01 00:00:00'),\n Timestamp('2006-01-01 00:00:00'),\n Timestamp('2006-01-01 00:00:00'),\n Timestamp('2006-01-01 00:00:00'),\n Timestamp('2007-01-01 00:00:00'),\n Timestamp('2007-01-01 00:00:00'),\n Timestamp('2007-01-01 00:00:00'),\n Timestamp('2008-01-01 00:00:00'),\n Timestamp('2008-01-01 00:00:00'),\n Timestamp('2008-01-01 00:00:00'),\n Timestamp('2008-01-01 00:00:00'),\n Timestamp('2009-01-01 00:00:00'),\n Timestamp('2009-01-01 00:00:00'),\n Timestamp('2009-01-01 00:00:00'),\n Timestamp('2009-01-01 00:00:00'),\n Timestamp('2010-01-01 00:00:00'),\n Timestamp('2010-01-01 00:00:00'),\n Timestamp('2010-01-01 00:00:00'),\n Timestamp('2010-01-01 00:00:00'),\n Timestamp('2011-01-01 00:00:00'),\n Timestamp('2011-01-01 00:00:00'),\n Timestamp('2011-01-01 00:00:00'),\n Timestamp('2011-01-01 00:00:00'),\n Timestamp('2012-01-01 00:00:00'),\n Timestamp('2012-01-01 00:00:00'),\n Timestamp('2012-01-01 00:00:00'),\n Timestamp('2012-01-01 00:00:00'),\n Timestamp('2013-01-01 00:00:00'),\n Timestamp('2013-01-01 00:00:00'),\n Timestamp('2013-01-01 00:00:00'),\n Timestamp('2013-01-01 00:00:00'),\n Timestamp('2014-01-01 00:00:00'),\n Timestamp('2014-01-01 00:00:00'),\n Timestamp('2014-01-01 00:00:00'),\n Timestamp('2014-01-01 00:00:00'),\n Timestamp('2015-01-01 00:00:00'),\n Timestamp('2015-01-01 00:00:00'),\n Timestamp('2015-01-01 00:00:00'),\n Timestamp('2015-01-01 00:00:00'),\n Timestamp('2016-01-01 00:00:00'),\n Timestamp('2016-01-01 00:00:00'),\n Timestamp('2016-01-01 00:00:00'),\n Timestamp('2016-01-01 00:00:00'),\n Timestamp('2017-01-01 00:00:00'),\n Timestamp('2017-01-01 00:00:00'),\n Timestamp('2017-01-01 00:00:00'),\n Timestamp('2017-01-01 00:00:00'),\n Timestamp('2018-01-01 00:00:00'),\n Timestamp('2018-01-01 00:00:00'),\n Timestamp('2018-01-01 00:00:00'),\n Timestamp('2018-01-01 00:00:00'),\n Timestamp('2019-01-01 00:00:00'),\n Timestamp('2019-01-01 00:00:00'),\n Timestamp('2019-01-01 00:00:00'),\n Timestamp('2019-01-01 00:00:00')]"
     },
     "execution_count": 53,
     "metadata": {},
     "output_type": "execute_result"
    }
   ],
   "source": [
    "activ_mama = activ_mama.sort_values('anio').reset_index(drop=True)\n",
    "\n",
    "# activ_mama.columns\n",
    "activ_mama.aniof.to_list()"
   ],
   "metadata": {
    "collapsed": false,
    "pycharm": {
     "name": "#%%\n"
    }
   }
  },
  {
   "cell_type": "code",
   "execution_count": 66,
   "outputs": [
    {
     "data": {
      "application/vnd.plotly.v1+json": {
       "data": [
        {
         "name": "Activas",
         "text": [
          27.50247850607031,
          28.476740828768815,
          29.668295761793885,
          30.453393068000278,
          30.991071389891307,
          32.93024984549427,
          36.57621633459188,
          37.821915635902315,
          38.94303850496523,
          40.87961577955837,
          43.660804071664586,
          45.59616536848412,
          47.09857089925378,
          49.096742551191404,
          50.11974161700805,
          50.650132763953906,
          50.91259228524654,
          52.16520448360515
         ],
         "textposition": "auto",
         "texttemplate": "%{text:.1f}",
         "x": [
          "2001-01-01T00:00:00",
          "2002-01-01T00:00:00",
          "2003-01-01T00:00:00",
          "2004-01-01T00:00:00",
          "2005-01-01T00:00:00",
          "2006-01-01T00:00:00",
          "2008-01-01T00:00:00",
          "2009-01-01T00:00:00",
          "2010-01-01T00:00:00",
          "2011-01-01T00:00:00",
          "2012-01-01T00:00:00",
          "2013-01-01T00:00:00",
          "2014-01-01T00:00:00",
          "2015-01-01T00:00:00",
          "2016-01-01T00:00:00",
          "2017-01-01T00:00:00",
          "2018-01-01T00:00:00",
          "2019-01-01T00:00:00"
         ],
         "xperiod": "M12",
         "y": [
          27.50247850607031,
          28.476740828768815,
          29.668295761793885,
          30.453393068000278,
          30.991071389891307,
          32.93024984549427,
          36.57621633459188,
          37.821915635902315,
          38.94303850496523,
          40.87961577955837,
          43.660804071664586,
          45.59616536848412,
          47.09857089925378,
          49.096742551191404,
          50.11974161700805,
          50.650132763953906,
          50.91259228524654,
          52.16520448360515
         ],
         "type": "bar"
        },
        {
         "name": "Inactivas",
         "text": [
          72.40000650099952,
          71.39814462237584,
          70.26048463447711,
          69.35168785163576,
          68.80488322625644,
          66.74085823072568,
          99.77511649464394,
          63.22993255765854,
          61.832381858547414,
          60.84789920324924,
          58.90692841953767,
          56.120015597102224,
          54.051775789756405,
          52.65321896277645,
          50.02207054399804,
          49.56526241752931,
          44.706778717618825,
          46.52529416274675,
          41.84967743163263
         ],
         "textposition": "auto",
         "texttemplate": "%{text:.1f}",
         "x": [
          "2001-01-01T00:00:00",
          "2002-01-01T00:00:00",
          "2003-01-01T00:00:00",
          "2004-01-01T00:00:00",
          "2005-01-01T00:00:00",
          "2006-01-01T00:00:00",
          "2007-01-01T00:00:00",
          "2008-01-01T00:00:00",
          "2009-01-01T00:00:00",
          "2010-01-01T00:00:00",
          "2011-01-01T00:00:00",
          "2012-01-01T00:00:00",
          "2013-01-01T00:00:00",
          "2014-01-01T00:00:00",
          "2015-01-01T00:00:00",
          "2016-01-01T00:00:00",
          "2017-01-01T00:00:00",
          "2018-01-01T00:00:00",
          "2019-01-01T00:00:00"
         ],
         "xperiod": "M12",
         "y": [
          72.40000650099952,
          71.39814462237584,
          70.26048463447711,
          69.35168785163576,
          68.80488322625644,
          66.74085823072568,
          99.77511649464394,
          63.22993255765854,
          61.832381858547414,
          60.84789920324924,
          58.90692841953767,
          56.120015597102224,
          54.051775789756405,
          52.65321896277645,
          50.02207054399804,
          49.56526241752931,
          44.706778717618825,
          46.52529416274675,
          41.84967743163263
         ],
         "type": "bar"
        },
        {
         "name": "Cesantes",
         "text": [
          0.09751499293016301,
          0.09414974412191765,
          0.07121960372900728,
          0.20404538385225554,
          0.09248734781725537,
          0.0062352173388923755,
          0.13504690142387288,
          0.14232477006026006,
          0.06702760499994016,
          0.05498103962677576,
          0.06115705871488087,
          0.05867647362657796,
          0.05617597023071989,
          0.049045653328973725,
          0.06515669970528461,
          0.08485943445293039,
          0.12041617996581444,
          0.12607760671398938
         ],
         "textposition": "auto",
         "texttemplate": "%{text:.1f}",
         "x": [
          "2001-01-01T00:00:00",
          "2002-01-01T00:00:00",
          "2003-01-01T00:00:00",
          "2005-01-01T00:00:00",
          "2006-01-01T00:00:00",
          "2007-01-01T00:00:00",
          "2008-01-01T00:00:00",
          "2009-01-01T00:00:00",
          "2010-01-01T00:00:00",
          "2011-01-01T00:00:00",
          "2012-01-01T00:00:00",
          "2013-01-01T00:00:00",
          "2014-01-01T00:00:00",
          "2015-01-01T00:00:00",
          "2016-01-01T00:00:00",
          "2017-01-01T00:00:00",
          "2018-01-01T00:00:00",
          "2019-01-01T00:00:00"
         ],
         "xperiod": "M12",
         "y": [
          0.09751499293016301,
          0.09414974412191765,
          0.07121960372900728,
          0.20404538385225554,
          0.09248734781725537,
          0.0062352173388923755,
          0.13504690142387288,
          0.14232477006026006,
          0.06702760499994016,
          0.05498103962677576,
          0.06115705871488087,
          0.05867647362657796,
          0.05617597023071989,
          0.049045653328973725,
          0.06515669970528461,
          0.08485943445293039,
          0.12041617996581444,
          0.12607760671398938
         ],
         "type": "bar"
        },
        {
         "name": "Otros",
         "text": [
          0.030964804733430693,
          0.19491908036396471,
          0.2364045759627976,
          0.21864828801715933,
          0.05880420632571042,
          0.2033777354900095,
          0.14203468678558748,
          0.15847476127717722,
          0.15802327251831633,
          0.2933823681328898,
          0.19203416773905665,
          0.8321412514815875,
          0.24983926575734955,
          4.558229083974341,
          2.4416973720408963,
          5.8590404780482235
         ],
         "textposition": "auto",
         "texttemplate": "%{text:.1f}",
         "x": [
          "2002-01-01T00:00:00",
          "2004-01-01T00:00:00",
          "2006-01-01T00:00:00",
          "2007-01-01T00:00:00",
          "2008-01-01T00:00:00",
          "2009-01-01T00:00:00",
          "2010-01-01T00:00:00",
          "2011-01-01T00:00:00",
          "2012-01-01T00:00:00",
          "2013-01-01T00:00:00",
          "2014-01-01T00:00:00",
          "2015-01-01T00:00:00",
          "2016-01-01T00:00:00",
          "2017-01-01T00:00:00",
          "2018-01-01T00:00:00",
          "2019-01-01T00:00:00"
         ],
         "xperiod": "M12",
         "y": [
          0.030964804733430693,
          0.19491908036396471,
          0.2364045759627976,
          0.21864828801715933,
          0.05880420632571042,
          0.2033777354900095,
          0.14203468678558748,
          0.15847476127717722,
          0.15802327251831633,
          0.2933823681328898,
          0.19203416773905665,
          0.8321412514815875,
          0.24983926575734955,
          4.558229083974341,
          2.4416973720408963,
          5.8590404780482235
         ],
         "type": "bar"
        }
       ],
       "layout": {
        "template": {
         "data": {
          "scatter": [
           {
            "type": "scatter"
           }
          ]
         }
        },
        "barmode": "relative",
        "xaxis": {
         "rangebreaks": [
          {
           "values": [
            "2007-01-01 00:00:00",
            "2015-01-01 00:00:00"
           ]
          }
         ]
        },
        "yaxis": {
         "range": [
          0,
          100
         ]
        }
       },
       "config": {
        "plotlyServerURL": "https://plot.ly"
       }
      },
      "text/html": "<div>                            <div id=\"b8e527a6-4827-4790-81d9-775a72655b07\" class=\"plotly-graph-div\" style=\"height:525px; width:100%;\"></div>            <script type=\"text/javascript\">                require([\"plotly\"], function(Plotly) {                    window.PLOTLYENV=window.PLOTLYENV || {};                                    if (document.getElementById(\"b8e527a6-4827-4790-81d9-775a72655b07\")) {                    Plotly.newPlot(                        \"b8e527a6-4827-4790-81d9-775a72655b07\",                        [{\"name\":\"Activas\",\"text\":[27.50247850607031,28.476740828768815,29.668295761793885,30.453393068000278,30.991071389891307,32.93024984549427,36.57621633459188,37.821915635902315,38.94303850496523,40.87961577955837,43.660804071664586,45.59616536848412,47.09857089925378,49.096742551191404,50.11974161700805,50.650132763953906,50.91259228524654,52.16520448360515],\"textposition\":\"auto\",\"texttemplate\":\"%{text:.1f}\",\"x\":[\"2001-01-01T00:00:00\",\"2002-01-01T00:00:00\",\"2003-01-01T00:00:00\",\"2004-01-01T00:00:00\",\"2005-01-01T00:00:00\",\"2006-01-01T00:00:00\",\"2008-01-01T00:00:00\",\"2009-01-01T00:00:00\",\"2010-01-01T00:00:00\",\"2011-01-01T00:00:00\",\"2012-01-01T00:00:00\",\"2013-01-01T00:00:00\",\"2014-01-01T00:00:00\",\"2015-01-01T00:00:00\",\"2016-01-01T00:00:00\",\"2017-01-01T00:00:00\",\"2018-01-01T00:00:00\",\"2019-01-01T00:00:00\"],\"xperiod\":\"M12\",\"y\":[27.50247850607031,28.476740828768815,29.668295761793885,30.453393068000278,30.991071389891307,32.93024984549427,36.57621633459188,37.821915635902315,38.94303850496523,40.87961577955837,43.660804071664586,45.59616536848412,47.09857089925378,49.096742551191404,50.11974161700805,50.650132763953906,50.91259228524654,52.16520448360515],\"type\":\"bar\"},{\"name\":\"Inactivas\",\"text\":[72.40000650099952,71.39814462237584,70.26048463447711,69.35168785163576,68.80488322625644,66.74085823072568,99.77511649464394,63.22993255765854,61.832381858547414,60.84789920324924,58.90692841953767,56.120015597102224,54.051775789756405,52.65321896277645,50.02207054399804,49.56526241752931,44.706778717618825,46.52529416274675,41.84967743163263],\"textposition\":\"auto\",\"texttemplate\":\"%{text:.1f}\",\"x\":[\"2001-01-01T00:00:00\",\"2002-01-01T00:00:00\",\"2003-01-01T00:00:00\",\"2004-01-01T00:00:00\",\"2005-01-01T00:00:00\",\"2006-01-01T00:00:00\",\"2007-01-01T00:00:00\",\"2008-01-01T00:00:00\",\"2009-01-01T00:00:00\",\"2010-01-01T00:00:00\",\"2011-01-01T00:00:00\",\"2012-01-01T00:00:00\",\"2013-01-01T00:00:00\",\"2014-01-01T00:00:00\",\"2015-01-01T00:00:00\",\"2016-01-01T00:00:00\",\"2017-01-01T00:00:00\",\"2018-01-01T00:00:00\",\"2019-01-01T00:00:00\"],\"xperiod\":\"M12\",\"y\":[72.40000650099952,71.39814462237584,70.26048463447711,69.35168785163576,68.80488322625644,66.74085823072568,99.77511649464394,63.22993255765854,61.832381858547414,60.84789920324924,58.90692841953767,56.120015597102224,54.051775789756405,52.65321896277645,50.02207054399804,49.56526241752931,44.706778717618825,46.52529416274675,41.84967743163263],\"type\":\"bar\"},{\"name\":\"Cesantes\",\"text\":[0.09751499293016301,0.09414974412191765,0.07121960372900728,0.20404538385225554,0.09248734781725537,0.0062352173388923755,0.13504690142387288,0.14232477006026006,0.06702760499994016,0.05498103962677576,0.06115705871488087,0.05867647362657796,0.05617597023071989,0.049045653328973725,0.06515669970528461,0.08485943445293039,0.12041617996581444,0.12607760671398938],\"textposition\":\"auto\",\"texttemplate\":\"%{text:.1f}\",\"x\":[\"2001-01-01T00:00:00\",\"2002-01-01T00:00:00\",\"2003-01-01T00:00:00\",\"2005-01-01T00:00:00\",\"2006-01-01T00:00:00\",\"2007-01-01T00:00:00\",\"2008-01-01T00:00:00\",\"2009-01-01T00:00:00\",\"2010-01-01T00:00:00\",\"2011-01-01T00:00:00\",\"2012-01-01T00:00:00\",\"2013-01-01T00:00:00\",\"2014-01-01T00:00:00\",\"2015-01-01T00:00:00\",\"2016-01-01T00:00:00\",\"2017-01-01T00:00:00\",\"2018-01-01T00:00:00\",\"2019-01-01T00:00:00\"],\"xperiod\":\"M12\",\"y\":[0.09751499293016301,0.09414974412191765,0.07121960372900728,0.20404538385225554,0.09248734781725537,0.0062352173388923755,0.13504690142387288,0.14232477006026006,0.06702760499994016,0.05498103962677576,0.06115705871488087,0.05867647362657796,0.05617597023071989,0.049045653328973725,0.06515669970528461,0.08485943445293039,0.12041617996581444,0.12607760671398938],\"type\":\"bar\"},{\"name\":\"Otros\",\"text\":[0.030964804733430693,0.19491908036396471,0.2364045759627976,0.21864828801715933,0.05880420632571042,0.2033777354900095,0.14203468678558748,0.15847476127717722,0.15802327251831633,0.2933823681328898,0.19203416773905665,0.8321412514815875,0.24983926575734955,4.558229083974341,2.4416973720408963,5.8590404780482235],\"textposition\":\"auto\",\"texttemplate\":\"%{text:.1f}\",\"x\":[\"2002-01-01T00:00:00\",\"2004-01-01T00:00:00\",\"2006-01-01T00:00:00\",\"2007-01-01T00:00:00\",\"2008-01-01T00:00:00\",\"2009-01-01T00:00:00\",\"2010-01-01T00:00:00\",\"2011-01-01T00:00:00\",\"2012-01-01T00:00:00\",\"2013-01-01T00:00:00\",\"2014-01-01T00:00:00\",\"2015-01-01T00:00:00\",\"2016-01-01T00:00:00\",\"2017-01-01T00:00:00\",\"2018-01-01T00:00:00\",\"2019-01-01T00:00:00\"],\"xperiod\":\"M12\",\"y\":[0.030964804733430693,0.19491908036396471,0.2364045759627976,0.21864828801715933,0.05880420632571042,0.2033777354900095,0.14203468678558748,0.15847476127717722,0.15802327251831633,0.2933823681328898,0.19203416773905665,0.8321412514815875,0.24983926575734955,4.558229083974341,2.4416973720408963,5.8590404780482235],\"type\":\"bar\"}],                        {\"template\":{\"data\":{\"scatter\":[{\"type\":\"scatter\"}]}},\"barmode\":\"relative\",\"xaxis\":{\"rangebreaks\":[{\"values\":[\"2007-01-01 00:00:00\",\"2015-01-01 00:00:00\"]}]},\"yaxis\":{\"range\":[0,100]}},                        {\"responsive\": true}                    ).then(function(){\n                            \nvar gd = document.getElementById('b8e527a6-4827-4790-81d9-775a72655b07');\nvar x = new MutationObserver(function (mutations, observer) {{\n        var display = window.getComputedStyle(gd).display;\n        if (!display || display === 'none') {{\n            console.log([gd, 'removed!']);\n            Plotly.purge(gd);\n            observer.disconnect();\n        }}\n}});\n\n// Listen for the removal of the full notebook cells\nvar notebookContainer = gd.closest('#notebook-container');\nif (notebookContainer) {{\n    x.observe(notebookContainer, {childList: true});\n}}\n\n// Listen for the clearing of the current output cell\nvar outputEl = gd.closest('.output');\nif (outputEl) {{\n    x.observe(outputEl, {childList: true});\n}}\n\n                        })                };                });            </script>        </div>"
     },
     "metadata": {},
     "output_type": "display_data"
    }
   ],
   "source": [
    "fig = go.Figure()\n",
    "for c in activ_mama.caem.unique():\n",
    "    # texto = str(round(activ_mama.loc[activ_mama.caem==c, 'propm'].to_list()[0]))\n",
    "    fig.add_trace(go.Bar(x=activ_mama.loc[activ_mama.caem==c, 'aniof'],\n",
    "                  y=activ_mama.loc[activ_mama.caem==c, 'propm'],\n",
    "                         xperiod='M12',\n",
    "                         name = c,\n",
    "                         text= activ_mama.loc[activ_mama.caem==c, 'propm'],\n",
    "                         textposition='auto',\n",
    "                         texttemplate=\"%{text:.1f}\"\n",
    "                ),)\n",
    "\n",
    "fig.update_layout(barmode='relative',\n",
    "                  template='none')\n",
    "fig.update_xaxes(\n",
    "    rangebreaks=[\n",
    "        dict(values=['2007-01-01 00:00:00', '2015-01-01 00:00:00'])\n",
    "    ]\n",
    ")\n",
    "\n",
    "fig.update_yaxes(range=[0,100])\n",
    "fig.write_image('resultados/img/04_caem.jpeg')\n",
    "fig.show()\n",
    "\n"
   ],
   "metadata": {
    "collapsed": false,
    "pycharm": {
     "name": "#%%\n"
    }
   }
  },
  {
   "cell_type": "code",
   "execution_count": 68,
   "outputs": [
    {
     "ename": "AttributeError",
     "evalue": "'DataFrame' object has no attribute 'caep'",
     "output_type": "error",
     "traceback": [
      "\u001B[0;31m---------------------------------------------------------------------------\u001B[0m",
      "\u001B[0;31mAttributeError\u001B[0m                            Traceback (most recent call last)",
      "\u001B[0;32m<ipython-input-68-f0a4010e7bed>\u001B[0m in \u001B[0;36m<module>\u001B[0;34m\u001B[0m\n\u001B[1;32m      6\u001B[0m                          \u001B[0mxperiod\u001B[0m\u001B[0;34m=\u001B[0m\u001B[0;34m'M12'\u001B[0m\u001B[0;34m,\u001B[0m\u001B[0;34m\u001B[0m\u001B[0;34m\u001B[0m\u001B[0m\n\u001B[1;32m      7\u001B[0m                          \u001B[0mname\u001B[0m \u001B[0;34m=\u001B[0m \u001B[0mc\u001B[0m\u001B[0;34m,\u001B[0m\u001B[0;34m\u001B[0m\u001B[0;34m\u001B[0m\u001B[0m\n\u001B[0;32m----> 8\u001B[0;31m                          \u001B[0mtext\u001B[0m\u001B[0;34m=\u001B[0m \u001B[0mactiv_papa\u001B[0m\u001B[0;34m.\u001B[0m\u001B[0mloc\u001B[0m\u001B[0;34m[\u001B[0m\u001B[0mactiv_papa\u001B[0m\u001B[0;34m.\u001B[0m\u001B[0mcaep\u001B[0m\u001B[0;34m==\u001B[0m\u001B[0mc\u001B[0m\u001B[0;34m,\u001B[0m \u001B[0;34m'proph'\u001B[0m\u001B[0;34m]\u001B[0m\u001B[0;34m,\u001B[0m\u001B[0;34m\u001B[0m\u001B[0;34m\u001B[0m\u001B[0m\n\u001B[0m\u001B[1;32m      9\u001B[0m                          \u001B[0mtextposition\u001B[0m\u001B[0;34m=\u001B[0m\u001B[0;34m'auto'\u001B[0m\u001B[0;34m,\u001B[0m\u001B[0;34m\u001B[0m\u001B[0;34m\u001B[0m\u001B[0m\n\u001B[1;32m     10\u001B[0m                          \u001B[0mtexttemplate\u001B[0m\u001B[0;34m=\u001B[0m\u001B[0;34m\"%{text:.1f}\"\u001B[0m\u001B[0;34m\u001B[0m\u001B[0;34m\u001B[0m\u001B[0m\n",
      "\u001B[0;32m~/anaconda3/lib/python3.8/site-packages/pandas/core/generic.py\u001B[0m in \u001B[0;36m__getattr__\u001B[0;34m(self, name)\u001B[0m\n\u001B[1;32m   5573\u001B[0m         ):\n\u001B[1;32m   5574\u001B[0m             \u001B[0;32mreturn\u001B[0m \u001B[0mself\u001B[0m\u001B[0;34m[\u001B[0m\u001B[0mname\u001B[0m\u001B[0;34m]\u001B[0m\u001B[0;34m\u001B[0m\u001B[0;34m\u001B[0m\u001B[0m\n\u001B[0;32m-> 5575\u001B[0;31m         \u001B[0;32mreturn\u001B[0m \u001B[0mobject\u001B[0m\u001B[0;34m.\u001B[0m\u001B[0m__getattribute__\u001B[0m\u001B[0;34m(\u001B[0m\u001B[0mself\u001B[0m\u001B[0;34m,\u001B[0m \u001B[0mname\u001B[0m\u001B[0;34m)\u001B[0m\u001B[0;34m\u001B[0m\u001B[0;34m\u001B[0m\u001B[0m\n\u001B[0m\u001B[1;32m   5576\u001B[0m \u001B[0;34m\u001B[0m\u001B[0m\n\u001B[1;32m   5577\u001B[0m     \u001B[0;32mdef\u001B[0m \u001B[0m__setattr__\u001B[0m\u001B[0;34m(\u001B[0m\u001B[0mself\u001B[0m\u001B[0;34m,\u001B[0m \u001B[0mname\u001B[0m\u001B[0;34m:\u001B[0m \u001B[0mstr\u001B[0m\u001B[0;34m,\u001B[0m \u001B[0mvalue\u001B[0m\u001B[0;34m)\u001B[0m \u001B[0;34m->\u001B[0m \u001B[0;32mNone\u001B[0m\u001B[0;34m:\u001B[0m\u001B[0;34m\u001B[0m\u001B[0;34m\u001B[0m\u001B[0m\n",
      "\u001B[0;31mAttributeError\u001B[0m: 'DataFrame' object has no attribute 'caep'"
     ]
    }
   ],
   "source": [
    "fig = go.Figure()\n",
    "for c in activ_papa.caeh.unique():\n",
    "    # texto = str(round(activ_mama.loc[activ_mama.caem==c, 'propm'].to_list()[0]))\n",
    "    fig.add_trace(go.Bar(x=activ_papa.loc[activ_papa.caeh==c, 'aniof'],\n",
    "                         y=activ_papa.loc[activ_papa.caeh==c, 'proph'],\n",
    "                         xperiod='M12',\n",
    "                         name = c,\n",
    "                         text= activ_papa.loc[activ_papa.caeh==c, 'proph'],\n",
    "                         textposition='auto',\n",
    "                         texttemplate=\"%{text:.1f}\"\n",
    "                         ),)\n",
    "\n",
    "fig.update_layout(barmode='relative',\n",
    "                  template='none')\n",
    "fig.update_xaxes(\n",
    "    rangebreaks=[\n",
    "        dict(values=['2007-01-01 00:00:00', '2015-01-01 00:00:00'])\n",
    "    ]\n",
    ")\n",
    "\n",
    "fig.update_yaxes(range=[0,100])\n",
    "fig.write_image('resultados/img/04_caep.jpeg')\n",
    "fig.show()"
   ],
   "metadata": {
    "collapsed": false,
    "pycharm": {
     "name": "#%%\n"
    }
   }
  },
  {
   "cell_type": "code",
   "execution_count": null,
   "outputs": [],
   "source": [],
   "metadata": {
    "collapsed": false,
    "pycharm": {
     "name": "#%%\n"
    }
   }
  }
 ],
 "metadata": {
  "kernelspec": {
   "display_name": "Python 3",
   "language": "python",
   "name": "python3"
  },
  "language_info": {
   "codemirror_mode": {
    "name": "ipython",
    "version": 2
   },
   "file_extension": ".py",
   "mimetype": "text/x-python",
   "name": "python",
   "nbconvert_exporter": "python",
   "pygments_lexer": "ipython2",
   "version": "2.7.6"
  }
 },
 "nbformat": 4,
 "nbformat_minor": 0
}