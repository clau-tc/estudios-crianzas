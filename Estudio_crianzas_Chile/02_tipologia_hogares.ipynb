{
 "cells": [
  {
   "cell_type": "code",
   "execution_count": 16,
   "outputs": [
    {
     "data": {
      "text/plain": "['resultados/tablas/01_jefatura_menor18.csv',\n 'resultados/tablas/02_quintil_menor_18.csv',\n 'resultados/tablas/03_pobreza_menor_18.csv',\n 'resultados/tablas/04_thogar_menor_18.csv',\n 'resultados/tablas/05_thogar_jefatura_18.csv',\n 'resultados/tablas/06_thogar_pobreza_18.csv',\n 'resultados/tablas/07_thogar_quintil_18.csv']"
     },
     "execution_count": 16,
     "metadata": {},
     "output_type": "execute_result"
    }
   ],
   "source": [
    "# Se cargan las librerías y tabla de datos\n",
    "import pandas as pd\n",
    "import plotly.express as px\n",
    "from plotly import graph_objects as go\n",
    "import os\n",
    "# os.getcwd()\n",
    "os.chdir('/home/clautc/Proyectos_/CrianzasChile')\n",
    "from plotly.subplots import make_subplots\n",
    "n = []\n",
    "for x in range(1,8):\n",
    "    n.append(x)\n",
    "nombres =['_jefatura_menor18',\n",
    "          '_quintil_menor_18',\n",
    "          '_pobreza_menor_18',\n",
    "          '_thogar_menor_18',\n",
    "          '_thogar_jefatura_18',\n",
    "          '_thogar_pobreza_18',\n",
    "          '_thogar_quintil_18'\n",
    "          ]\n",
    "\n",
    "# nombres =['_15',\n",
    "#           '_15',\n",
    "#           '_15',\n",
    "#           '_15',\n",
    "#           '_15',\n",
    "#           '_15',\n",
    "#           '_15'\n",
    "#           ]\n",
    "\n",
    "rutas = []\n",
    "for s in n:\n",
    "    ruta = 'resultados/tablas/0' + str(s) + nombres[s-1] + '.csv'\n",
    "    rutas.append(ruta)\n",
    "\n",
    "rutas"
   ],
   "metadata": {
    "collapsed": false,
    "pycharm": {
     "name": "#%%\n"
    }
   }
  },
  {
   "cell_type": "code",
   "execution_count": 17,
   "outputs": [],
   "source": [
    "def grafico_agrupado_2x(data, var_estimacion, valor_estimacion, var_trazas, vars_x, var_y, var_ic_bajo, var_ic_alto,\n",
    "                        title_yaxes, title, nombre_graf):\n",
    "    df = data.copy()\n",
    "    fig = go.Figure()\n",
    "    trazas = df.loc[df[var_estimacion] == valor_estimacion, var_trazas].unique()\n",
    "    for t in trazas:\n",
    "        x = [df.loc[(df[var_estimacion] == valor_estimacion) & (df[var_trazas] == t), vars_x[0]].to_list(),\n",
    "             df.loc[(df[var_estimacion] == valor_estimacion) & (df[var_trazas]  == t), vars_x[1]].to_list()]\n",
    "        y = df.loc[(df[var_estimacion] == valor_estimacion) & (df[var_trazas]  == t), var_y]\n",
    "        array = df.loc[(df[var_estimacion] == valor_estimacion) & (df[var_trazas]  == t), var_ic_alto]\n",
    "        arraymin = df.loc[(df[var_estimacion] == valor_estimacion) & (df[var_trazas]  == t), var_ic_bajo]\n",
    "        fig.add_trace(\n",
    "            go.Bar(x = x,\n",
    "                   y = y,\n",
    "                   name=t,\n",
    "                   error_y={\n",
    "                       \"type\": \"data\",\n",
    "                       \"symmetric\": False,\n",
    "                       \"array\": array,\n",
    "                       \"arrayminus\": arraymin,\n",
    "                       \"color\": 'black',\n",
    "                       \"thickness\":3,\n",
    "                       \"width\":6\n",
    "                   }\n",
    "                   )\n",
    "\n",
    "        )\n",
    "        fig.update_layout(barmode='group')\n",
    "        fig.update_yaxes(title=title_yaxes)\n",
    "        fig.update_layout(title=title,\n",
    "                          template='none')\n",
    "\n",
    "    final = 'resultados/img/' + nombre_graf + '.jpeg'\n",
    "    fig.write_image(final)\n",
    "    fig.show()"
   ],
   "metadata": {
    "collapsed": false,
    "pycharm": {
     "name": "#%%\n"
    }
   }
  },
  {
   "cell_type": "code",
   "execution_count": 18,
   "outputs": [],
   "source": [
    "def cambio_cat_estimacion(df01):\n",
    "    df01.loc[df01.tipo_est == 'conteo', 'tipo_est'] = 'proporcion'\n",
    "    df01.loc[df01.tipo_est != 'proporcion', 'tipo_est']  = 'conteo'\n",
    "    return df01"
   ],
   "metadata": {
    "collapsed": false,
    "pycharm": {
     "name": "#%%\n"
    }
   }
  },
  {
   "cell_type": "code",
   "execution_count": 19,
   "outputs": [
    {
     "data": {
      "application/vnd.plotly.v1+json": {
       "data": [
        {
         "error_y": {
          "array": [
           0.232025556147336,
           0.1006985907537853,
           0.2399211017327333,
           0.1025685439037608,
           0.2458182063358401,
           0.1093405469282631,
           0.2298342283542892,
           0.1142102852421516,
           0.2398514244591265,
           0.1128495353051072,
           0.2481554106333669,
           0.1138681944455132,
           0.2535116387410978,
           0.1301811212695741,
           0.283895714020253,
           0.1678903203012531,
           0.3150912554757796,
           0.2065910758055848,
           0.3149631767850148,
           0.2189669090500191,
           0.3317013922916665,
           0.2447966117181395,
           0.3037344954529655,
           0.2840346654525575
          ],
          "arrayminus": [
           0.2191389580858475,
           0.0913698110905588,
           0.2284015369822375,
           0.0943692400093421,
           0.2342008598040122,
           0.1008209689837194,
           0.2149791169481128,
           0.1018001289896595,
           0.2279002255738633,
           0.1035208214516601,
           0.2336384587665354,
           0.1044344591675816,
           0.2412866522036217,
           0.1208419881634549,
           0.2712794508127364,
           0.1568665352509008,
           0.3010191554536515,
           0.193275478244504,
           0.3035291547103004,
           0.209406375821912,
           0.3199948870928065,
           0.2341784160363274,
           0.2916256021065869,
           0.2719090671937304
          ],
          "color": "black",
          "symmetric": false,
          "thickness": 3,
          "type": "data",
          "width": 6
         },
         "name": "sin menores",
         "x": [
          [
           1990,
           1990,
           1992,
           1992,
           1994,
           1994,
           1996,
           1996,
           1998,
           1998,
           2000,
           2000,
           2003,
           2003,
           2009,
           2009,
           2013,
           2013,
           2015,
           2015,
           2017,
           2017,
           2020,
           2020
          ],
          [
           "hombre",
           "mujer",
           "hombre",
           "mujer",
           "hombre",
           "mujer",
           "hombre",
           "mujer",
           "hombre",
           "mujer",
           "hombre",
           "mujer",
           "hombre",
           "mujer",
           "hombre",
           "mujer",
           "hombre",
           "mujer",
           "hombre",
           "mujer",
           "hombre",
           "mujer",
           "hombre",
           "mujer"
          ]
         ],
         "y": [
          22.6,
          9.6,
          23.4,
          9.8,
          24.0,
          10.5,
          22.2,
          10.8,
          23.4,
          10.8,
          24.1,
          10.9,
          24.7,
          12.5,
          27.8,
          16.2,
          30.8,
          20.0,
          30.9,
          21.4,
          32.6,
          23.9,
          29.8,
          27.8
         ],
         "type": "bar"
        },
        {
         "error_y": {
          "array": [
           0.5803548320220481,
           0.1105837259742698,
           0.5659472321296438,
           0.1125862784369882,
           0.5530982427353767,
           0.1129706437878156,
           0.5683529770926379,
           0.1162129939736311,
           0.5462033819583871,
           0.1235960885239527,
           0.5355366045193392,
           0.1279124485867193,
           0.5006659055245052,
           0.1386958517181647,
           0.3981994688932064,
           0.1734729268383585,
           0.319399709036223,
           0.1849613673233925,
           0.3020616611984906,
           0.1851586097347557,
           0.2560915850511165,
           0.1894890652068721,
           0.2136798782811854,
           0.227193516978533
          ],
          "arrayminus": [
           0.5651302059302609,
           0.1011811015845048,
           0.552474226941681,
           0.1041063721190636,
           0.5396069403527571,
           0.1045194931125603,
           0.5501295699740163,
           0.1051728212909456,
           0.5321090527912535,
           0.1143907818904558,
           0.5189648202361469,
           0.1179756411946597,
           0.4857674900611883,
           0.1294377688674668,
           0.3848702932552448,
           0.1639129150375596,
           0.3065161969551552,
           0.1736139097171325,
           0.2905629611221083,
           0.1756495016603989,
           0.2449678356940457,
           0.1791105411060444,
           0.1928487595968696,
           0.2156323120196039
          ],
          "color": "black",
          "symmetric": false,
          "thickness": 3,
          "type": "data",
          "width": 6
         },
         "name": "con menores",
         "x": [
          [
           1990,
           1990,
           1992,
           1992,
           1994,
           1994,
           1996,
           1996,
           1998,
           1998,
           2000,
           2000,
           2003,
           2003,
           2009,
           2009,
           2013,
           2013,
           2015,
           2015,
           2017,
           2017,
           2020,
           2020
          ],
          [
           "hombre",
           "mujer",
           "hombre",
           "mujer",
           "hombre",
           "mujer",
           "hombre",
           "mujer",
           "hombre",
           "mujer",
           "hombre",
           "mujer",
           "hombre",
           "mujer",
           "hombre",
           "mujer",
           "hombre",
           "mujer",
           "hombre",
           "mujer",
           "hombre",
           "mujer",
           "hombre",
           "mujer"
          ]
         ],
         "y": [
          57.3,
          10.6,
          55.9,
          10.8,
          54.6,
          10.9,
          55.9,
          11.1,
          53.9,
          11.9,
          52.7,
          12.3,
          49.3,
          13.4,
          39.2,
          16.9,
          31.3,
          17.9,
          29.6,
          18.0,
          25.0,
          18.4,
          20.3,
          22.1
         ],
         "type": "bar"
        }
       ],
       "layout": {
        "template": {
         "data": {
          "scatter": [
           {
            "type": "scatter"
           }
          ]
         }
        },
        "barmode": "group",
        "yaxis": {
         "title": {
          "text": "Total hogares (%)"
         }
        },
        "title": {
         "text": "<b>Distribución de hogares con y sin presencia de personas menores de 18 años,<br>según sexo de la jefatura de hogar"
        }
       },
       "config": {
        "plotlyServerURL": "https://plot.ly"
       }
      },
      "text/html": "<div>                            <div id=\"32f8c3d4-0efa-499a-81a4-62416d092c74\" class=\"plotly-graph-div\" style=\"height:525px; width:100%;\"></div>            <script type=\"text/javascript\">                require([\"plotly\"], function(Plotly) {                    window.PLOTLYENV=window.PLOTLYENV || {};                                    if (document.getElementById(\"32f8c3d4-0efa-499a-81a4-62416d092c74\")) {                    Plotly.newPlot(                        \"32f8c3d4-0efa-499a-81a4-62416d092c74\",                        [{\"error_y\":{\"array\":[0.232025556147336,0.1006985907537853,0.2399211017327333,0.1025685439037608,0.2458182063358401,0.1093405469282631,0.2298342283542892,0.1142102852421516,0.2398514244591265,0.1128495353051072,0.2481554106333669,0.1138681944455132,0.2535116387410978,0.1301811212695741,0.283895714020253,0.1678903203012531,0.3150912554757796,0.2065910758055848,0.3149631767850148,0.2189669090500191,0.3317013922916665,0.2447966117181395,0.3037344954529655,0.2840346654525575],\"arrayminus\":[0.2191389580858475,0.0913698110905588,0.2284015369822375,0.0943692400093421,0.2342008598040122,0.1008209689837194,0.2149791169481128,0.1018001289896595,0.2279002255738633,0.1035208214516601,0.2336384587665354,0.1044344591675816,0.2412866522036217,0.1208419881634549,0.2712794508127364,0.1568665352509008,0.3010191554536515,0.193275478244504,0.3035291547103004,0.209406375821912,0.3199948870928065,0.2341784160363274,0.2916256021065869,0.2719090671937304],\"color\":\"black\",\"symmetric\":false,\"thickness\":3,\"type\":\"data\",\"width\":6},\"name\":\"sin menores\",\"x\":[[1990,1990,1992,1992,1994,1994,1996,1996,1998,1998,2000,2000,2003,2003,2009,2009,2013,2013,2015,2015,2017,2017,2020,2020],[\"hombre\",\"mujer\",\"hombre\",\"mujer\",\"hombre\",\"mujer\",\"hombre\",\"mujer\",\"hombre\",\"mujer\",\"hombre\",\"mujer\",\"hombre\",\"mujer\",\"hombre\",\"mujer\",\"hombre\",\"mujer\",\"hombre\",\"mujer\",\"hombre\",\"mujer\",\"hombre\",\"mujer\"]],\"y\":[22.6,9.6,23.4,9.8,24.0,10.5,22.2,10.8,23.4,10.8,24.1,10.9,24.7,12.5,27.8,16.2,30.8,20.0,30.9,21.4,32.6,23.9,29.8,27.8],\"type\":\"bar\"},{\"error_y\":{\"array\":[0.5803548320220481,0.1105837259742698,0.5659472321296438,0.1125862784369882,0.5530982427353767,0.1129706437878156,0.5683529770926379,0.1162129939736311,0.5462033819583871,0.1235960885239527,0.5355366045193392,0.1279124485867193,0.5006659055245052,0.1386958517181647,0.3981994688932064,0.1734729268383585,0.319399709036223,0.1849613673233925,0.3020616611984906,0.1851586097347557,0.2560915850511165,0.1894890652068721,0.2136798782811854,0.227193516978533],\"arrayminus\":[0.5651302059302609,0.1011811015845048,0.552474226941681,0.1041063721190636,0.5396069403527571,0.1045194931125603,0.5501295699740163,0.1051728212909456,0.5321090527912535,0.1143907818904558,0.5189648202361469,0.1179756411946597,0.4857674900611883,0.1294377688674668,0.3848702932552448,0.1639129150375596,0.3065161969551552,0.1736139097171325,0.2905629611221083,0.1756495016603989,0.2449678356940457,0.1791105411060444,0.1928487595968696,0.2156323120196039],\"color\":\"black\",\"symmetric\":false,\"thickness\":3,\"type\":\"data\",\"width\":6},\"name\":\"con menores\",\"x\":[[1990,1990,1992,1992,1994,1994,1996,1996,1998,1998,2000,2000,2003,2003,2009,2009,2013,2013,2015,2015,2017,2017,2020,2020],[\"hombre\",\"mujer\",\"hombre\",\"mujer\",\"hombre\",\"mujer\",\"hombre\",\"mujer\",\"hombre\",\"mujer\",\"hombre\",\"mujer\",\"hombre\",\"mujer\",\"hombre\",\"mujer\",\"hombre\",\"mujer\",\"hombre\",\"mujer\",\"hombre\",\"mujer\",\"hombre\",\"mujer\"]],\"y\":[57.3,10.6,55.9,10.8,54.6,10.9,55.9,11.1,53.9,11.9,52.7,12.3,49.3,13.4,39.2,16.9,31.3,17.9,29.6,18.0,25.0,18.4,20.3,22.1],\"type\":\"bar\"}],                        {\"template\":{\"data\":{\"scatter\":[{\"type\":\"scatter\"}]}},\"barmode\":\"group\",\"yaxis\":{\"title\":{\"text\":\"Total hogares (%)\"}},\"title\":{\"text\":\"<b>Distribuci\\u00f3n de hogares con y sin presencia de personas menores de 18 a\\u00f1os,<br>seg\\u00fan sexo de la jefatura de hogar\"}},                        {\"responsive\": true}                    ).then(function(){\n                            \nvar gd = document.getElementById('32f8c3d4-0efa-499a-81a4-62416d092c74');\nvar x = new MutationObserver(function (mutations, observer) {{\n        var display = window.getComputedStyle(gd).display;\n        if (!display || display === 'none') {{\n            console.log([gd, 'removed!']);\n            Plotly.purge(gd);\n            observer.disconnect();\n        }}\n}});\n\n// Listen for the removal of the full notebook cells\nvar notebookContainer = gd.closest('#notebook-container');\nif (notebookContainer) {{\n    x.observe(notebookContainer, {childList: true});\n}}\n\n// Listen for the clearing of the current output cell\nvar outputEl = gd.closest('.output');\nif (outputEl) {{\n    x.observe(outputEl, {childList: true});\n}}\n\n                        })                };                });            </script>        </div>"
     },
     "metadata": {},
     "output_type": "display_data"
    },
    {
     "name": "stdout",
     "output_type": "stream",
     "text": [
      "   Unnamed: 0 sexo_jefatura     menor_18       dato  desviacion_s  \\\n",
      "0           0        hombre  sin menores   717265.0  11032.115748   \n",
      "1           1        hombre  con menores  1821683.0  14877.663581   \n",
      "2           2         mujer  sin menores   305118.0   7757.556011   \n",
      "3           3         mujer  con menores   336470.0   7784.102512   \n",
      "4           4        hombre  sin menores       22.6      0.003287   \n",
      "\n",
      "        ic_bajo       ic_alto    tipo_est  anio  \n",
      "0  6.956414e+05  7.388886e+05      conteo  1990  \n",
      "1  1.792522e+06  1.850844e+06      conteo  1990  \n",
      "2  2.899128e+05  3.203232e+05      conteo  1990  \n",
      "3  3.212127e+05  3.517273e+05      conteo  1990  \n",
      "4  2.191390e-01  2.320256e-01  proporcion  1990  \n"
     ]
    }
   ],
   "source": [
    "df01 = pd.read_csv(rutas[0])\n",
    "# df01.loc[df01.tipo_est == 'conteo', 'tipo_est'] = 'proporcion'\n",
    "# df01.loc[df01.tipo_est != 'proporcion', 'tipo_est']  = 'conteo'\n",
    "grafico_agrupado_2x(\n",
    "    data=df01,\n",
    "    var_estimacion='tipo_est',\n",
    "    valor_estimacion='proporcion',\n",
    "    var_y='dato',\n",
    "    var_trazas='menor_18',\n",
    "    vars_x=['anio', 'sexo_jefatura'],\n",
    "    var_ic_alto='ic_alto',\n",
    "    var_ic_bajo='ic_bajo',\n",
    "    title='<b>Distribución de hogares con y sin presencia de personas menores de 18 años,<br>según '\n",
    "          'sexo de la jefatura de hogar',\n",
    "    title_yaxes='Total hogares (%)',\n",
    "nombre_graf='02_01')\n",
    "print(df01.head())"
   ],
   "metadata": {
    "collapsed": false,
    "pycharm": {
     "name": "#%%\n"
    }
   }
  },
  {
   "cell_type": "code",
   "execution_count": 20,
   "outputs": [
    {
     "data": {
      "application/vnd.plotly.v1+json": {
       "data": [
        {
         "alignmentgroup": "True",
         "error_y": {
          "array": [
           0.232025556147336,
           0.1006985907537853
          ],
          "arrayminus": [
           0.2191389580858475,
           0.0913698110905588
          ]
         },
         "hovertemplate": "<b>Presencia de <br>menores</b>=sin menores<br>anio=1990<br>sexo_jefatura=%{x}<br>Hogares(%)=%{text}<extra></extra>",
         "legendgroup": "sin menores",
         "marker": {
          "color": "#2471A3",
          "pattern": {
           "shape": ""
          }
         },
         "name": "sin menores",
         "offsetgroup": "sin menores",
         "orientation": "v",
         "showlegend": true,
         "text": [
          22.6,
          9.6
         ],
         "textposition": "auto",
         "x": [
          "hombre",
          "mujer"
         ],
         "xaxis": "x7",
         "y": [
          22.6,
          9.6
         ],
         "yaxis": "y7",
         "type": "bar"
        },
        {
         "alignmentgroup": "True",
         "error_y": {
          "array": [
           0.2399211017327333,
           0.1025685439037608
          ],
          "arrayminus": [
           0.2284015369822375,
           0.0943692400093421
          ]
         },
         "hovertemplate": "<b>Presencia de <br>menores</b>=sin menores<br>anio=1992<br>sexo_jefatura=%{x}<br>Hogares(%)=%{text}<extra></extra>",
         "legendgroup": "sin menores",
         "marker": {
          "color": "#2471A3",
          "pattern": {
           "shape": ""
          }
         },
         "name": "sin menores",
         "offsetgroup": "sin menores",
         "orientation": "v",
         "showlegend": false,
         "text": [
          23.4,
          9.8
         ],
         "textposition": "auto",
         "x": [
          "hombre",
          "mujer"
         ],
         "xaxis": "x8",
         "y": [
          23.4,
          9.8
         ],
         "yaxis": "y8",
         "type": "bar"
        },
        {
         "alignmentgroup": "True",
         "error_y": {
          "array": [
           0.2458182063358401,
           0.1093405469282631
          ],
          "arrayminus": [
           0.2342008598040122,
           0.1008209689837194
          ]
         },
         "hovertemplate": "<b>Presencia de <br>menores</b>=sin menores<br>anio=1994<br>sexo_jefatura=%{x}<br>Hogares(%)=%{text}<extra></extra>",
         "legendgroup": "sin menores",
         "marker": {
          "color": "#2471A3",
          "pattern": {
           "shape": ""
          }
         },
         "name": "sin menores",
         "offsetgroup": "sin menores",
         "orientation": "v",
         "showlegend": false,
         "text": [
          24.0,
          10.5
         ],
         "textposition": "auto",
         "x": [
          "hombre",
          "mujer"
         ],
         "xaxis": "x9",
         "y": [
          24.0,
          10.5
         ],
         "yaxis": "y9",
         "type": "bar"
        },
        {
         "alignmentgroup": "True",
         "error_y": {
          "array": [
           0.2298342283542892,
           0.1142102852421516
          ],
          "arrayminus": [
           0.2149791169481128,
           0.1018001289896595
          ]
         },
         "hovertemplate": "<b>Presencia de <br>menores</b>=sin menores<br>anio=1996<br>sexo_jefatura=%{x}<br>Hogares(%)=%{text}<extra></extra>",
         "legendgroup": "sin menores",
         "marker": {
          "color": "#2471A3",
          "pattern": {
           "shape": ""
          }
         },
         "name": "sin menores",
         "offsetgroup": "sin menores",
         "orientation": "v",
         "showlegend": false,
         "text": [
          22.2,
          10.8
         ],
         "textposition": "auto",
         "x": [
          "hombre",
          "mujer"
         ],
         "xaxis": "x10",
         "y": [
          22.2,
          10.8
         ],
         "yaxis": "y10",
         "type": "bar"
        },
        {
         "alignmentgroup": "True",
         "error_y": {
          "array": [
           0.2398514244591265,
           0.1128495353051072
          ],
          "arrayminus": [
           0.2279002255738633,
           0.1035208214516601
          ]
         },
         "hovertemplate": "<b>Presencia de <br>menores</b>=sin menores<br>anio=1998<br>sexo_jefatura=%{x}<br>Hogares(%)=%{text}<extra></extra>",
         "legendgroup": "sin menores",
         "marker": {
          "color": "#2471A3",
          "pattern": {
           "shape": ""
          }
         },
         "name": "sin menores",
         "offsetgroup": "sin menores",
         "orientation": "v",
         "showlegend": false,
         "text": [
          23.4,
          10.8
         ],
         "textposition": "auto",
         "x": [
          "hombre",
          "mujer"
         ],
         "xaxis": "x11",
         "y": [
          23.4,
          10.8
         ],
         "yaxis": "y11",
         "type": "bar"
        },
        {
         "alignmentgroup": "True",
         "error_y": {
          "array": [
           0.2481554106333669,
           0.1138681944455132
          ],
          "arrayminus": [
           0.2336384587665354,
           0.1044344591675816
          ]
         },
         "hovertemplate": "<b>Presencia de <br>menores</b>=sin menores<br>anio=2000<br>sexo_jefatura=%{x}<br>Hogares(%)=%{text}<extra></extra>",
         "legendgroup": "sin menores",
         "marker": {
          "color": "#2471A3",
          "pattern": {
           "shape": ""
          }
         },
         "name": "sin menores",
         "offsetgroup": "sin menores",
         "orientation": "v",
         "showlegend": false,
         "text": [
          24.1,
          10.9
         ],
         "textposition": "auto",
         "x": [
          "hombre",
          "mujer"
         ],
         "xaxis": "x12",
         "y": [
          24.1,
          10.9
         ],
         "yaxis": "y12",
         "type": "bar"
        },
        {
         "alignmentgroup": "True",
         "error_y": {
          "array": [
           0.2535116387410978,
           0.1301811212695741
          ],
          "arrayminus": [
           0.2412866522036217,
           0.1208419881634549
          ]
         },
         "hovertemplate": "<b>Presencia de <br>menores</b>=sin menores<br>anio=2003<br>sexo_jefatura=%{x}<br>Hogares(%)=%{text}<extra></extra>",
         "legendgroup": "sin menores",
         "marker": {
          "color": "#2471A3",
          "pattern": {
           "shape": ""
          }
         },
         "name": "sin menores",
         "offsetgroup": "sin menores",
         "orientation": "v",
         "showlegend": false,
         "text": [
          24.7,
          12.5
         ],
         "textposition": "auto",
         "x": [
          "hombre",
          "mujer"
         ],
         "xaxis": "x",
         "y": [
          24.7,
          12.5
         ],
         "yaxis": "y",
         "type": "bar"
        },
        {
         "alignmentgroup": "True",
         "error_y": {
          "array": [
           0.283895714020253,
           0.1678903203012531
          ],
          "arrayminus": [
           0.2712794508127364,
           0.1568665352509008
          ]
         },
         "hovertemplate": "<b>Presencia de <br>menores</b>=sin menores<br>anio=2009<br>sexo_jefatura=%{x}<br>Hogares(%)=%{text}<extra></extra>",
         "legendgroup": "sin menores",
         "marker": {
          "color": "#2471A3",
          "pattern": {
           "shape": ""
          }
         },
         "name": "sin menores",
         "offsetgroup": "sin menores",
         "orientation": "v",
         "showlegend": false,
         "text": [
          27.8,
          16.2
         ],
         "textposition": "auto",
         "x": [
          "hombre",
          "mujer"
         ],
         "xaxis": "x2",
         "y": [
          27.8,
          16.2
         ],
         "yaxis": "y2",
         "type": "bar"
        },
        {
         "alignmentgroup": "True",
         "error_y": {
          "array": [
           0.3150912554757796,
           0.2065910758055848
          ],
          "arrayminus": [
           0.3010191554536515,
           0.193275478244504
          ]
         },
         "hovertemplate": "<b>Presencia de <br>menores</b>=sin menores<br>anio=2013<br>sexo_jefatura=%{x}<br>Hogares(%)=%{text}<extra></extra>",
         "legendgroup": "sin menores",
         "marker": {
          "color": "#2471A3",
          "pattern": {
           "shape": ""
          }
         },
         "name": "sin menores",
         "offsetgroup": "sin menores",
         "orientation": "v",
         "showlegend": false,
         "text": [
          30.8,
          20.0
         ],
         "textposition": "auto",
         "x": [
          "hombre",
          "mujer"
         ],
         "xaxis": "x3",
         "y": [
          30.8,
          20.0
         ],
         "yaxis": "y3",
         "type": "bar"
        },
        {
         "alignmentgroup": "True",
         "error_y": {
          "array": [
           0.3149631767850148,
           0.2189669090500191
          ],
          "arrayminus": [
           0.3035291547103004,
           0.209406375821912
          ]
         },
         "hovertemplate": "<b>Presencia de <br>menores</b>=sin menores<br>anio=2015<br>sexo_jefatura=%{x}<br>Hogares(%)=%{text}<extra></extra>",
         "legendgroup": "sin menores",
         "marker": {
          "color": "#2471A3",
          "pattern": {
           "shape": ""
          }
         },
         "name": "sin menores",
         "offsetgroup": "sin menores",
         "orientation": "v",
         "showlegend": false,
         "text": [
          30.9,
          21.4
         ],
         "textposition": "auto",
         "x": [
          "hombre",
          "mujer"
         ],
         "xaxis": "x4",
         "y": [
          30.9,
          21.4
         ],
         "yaxis": "y4",
         "type": "bar"
        },
        {
         "alignmentgroup": "True",
         "error_y": {
          "array": [
           0.3317013922916665,
           0.2447966117181395
          ],
          "arrayminus": [
           0.3199948870928065,
           0.2341784160363274
          ]
         },
         "hovertemplate": "<b>Presencia de <br>menores</b>=sin menores<br>anio=2017<br>sexo_jefatura=%{x}<br>Hogares(%)=%{text}<extra></extra>",
         "legendgroup": "sin menores",
         "marker": {
          "color": "#2471A3",
          "pattern": {
           "shape": ""
          }
         },
         "name": "sin menores",
         "offsetgroup": "sin menores",
         "orientation": "v",
         "showlegend": false,
         "text": [
          32.6,
          23.9
         ],
         "textposition": "auto",
         "x": [
          "hombre",
          "mujer"
         ],
         "xaxis": "x5",
         "y": [
          32.6,
          23.9
         ],
         "yaxis": "y5",
         "type": "bar"
        },
        {
         "alignmentgroup": "True",
         "error_y": {
          "array": [
           0.3037344954529655,
           0.2840346654525575
          ],
          "arrayminus": [
           0.2916256021065869,
           0.2719090671937304
          ]
         },
         "hovertemplate": "<b>Presencia de <br>menores</b>=sin menores<br>anio=2020<br>sexo_jefatura=%{x}<br>Hogares(%)=%{text}<extra></extra>",
         "legendgroup": "sin menores",
         "marker": {
          "color": "#2471A3",
          "pattern": {
           "shape": ""
          }
         },
         "name": "sin menores",
         "offsetgroup": "sin menores",
         "orientation": "v",
         "showlegend": false,
         "text": [
          29.8,
          27.8
         ],
         "textposition": "auto",
         "x": [
          "hombre",
          "mujer"
         ],
         "xaxis": "x6",
         "y": [
          29.8,
          27.8
         ],
         "yaxis": "y6",
         "type": "bar"
        },
        {
         "alignmentgroup": "True",
         "error_y": {
          "array": [
           0.5803548320220481,
           0.1105837259742698
          ],
          "arrayminus": [
           0.5651302059302609,
           0.1011811015845048
          ]
         },
         "hovertemplate": "<b>Presencia de <br>menores</b>=con menores<br>anio=1990<br>sexo_jefatura=%{x}<br>Hogares(%)=%{text}<extra></extra>",
         "legendgroup": "con menores",
         "marker": {
          "color": "#E67E22",
          "pattern": {
           "shape": ""
          }
         },
         "name": "con menores",
         "offsetgroup": "con menores",
         "orientation": "v",
         "showlegend": true,
         "text": [
          57.3,
          10.6
         ],
         "textposition": "auto",
         "x": [
          "hombre",
          "mujer"
         ],
         "xaxis": "x7",
         "y": [
          57.3,
          10.6
         ],
         "yaxis": "y7",
         "type": "bar"
        },
        {
         "alignmentgroup": "True",
         "error_y": {
          "array": [
           0.5659472321296438,
           0.1125862784369882
          ],
          "arrayminus": [
           0.552474226941681,
           0.1041063721190636
          ]
         },
         "hovertemplate": "<b>Presencia de <br>menores</b>=con menores<br>anio=1992<br>sexo_jefatura=%{x}<br>Hogares(%)=%{text}<extra></extra>",
         "legendgroup": "con menores",
         "marker": {
          "color": "#E67E22",
          "pattern": {
           "shape": ""
          }
         },
         "name": "con menores",
         "offsetgroup": "con menores",
         "orientation": "v",
         "showlegend": false,
         "text": [
          55.9,
          10.8
         ],
         "textposition": "auto",
         "x": [
          "hombre",
          "mujer"
         ],
         "xaxis": "x8",
         "y": [
          55.9,
          10.8
         ],
         "yaxis": "y8",
         "type": "bar"
        },
        {
         "alignmentgroup": "True",
         "error_y": {
          "array": [
           0.5530982427353767,
           0.1129706437878156
          ],
          "arrayminus": [
           0.5396069403527571,
           0.1045194931125603
          ]
         },
         "hovertemplate": "<b>Presencia de <br>menores</b>=con menores<br>anio=1994<br>sexo_jefatura=%{x}<br>Hogares(%)=%{text}<extra></extra>",
         "legendgroup": "con menores",
         "marker": {
          "color": "#E67E22",
          "pattern": {
           "shape": ""
          }
         },
         "name": "con menores",
         "offsetgroup": "con menores",
         "orientation": "v",
         "showlegend": false,
         "text": [
          54.6,
          10.9
         ],
         "textposition": "auto",
         "x": [
          "hombre",
          "mujer"
         ],
         "xaxis": "x9",
         "y": [
          54.6,
          10.9
         ],
         "yaxis": "y9",
         "type": "bar"
        },
        {
         "alignmentgroup": "True",
         "error_y": {
          "array": [
           0.5683529770926379,
           0.1162129939736311
          ],
          "arrayminus": [
           0.5501295699740163,
           0.1051728212909456
          ]
         },
         "hovertemplate": "<b>Presencia de <br>menores</b>=con menores<br>anio=1996<br>sexo_jefatura=%{x}<br>Hogares(%)=%{text}<extra></extra>",
         "legendgroup": "con menores",
         "marker": {
          "color": "#E67E22",
          "pattern": {
           "shape": ""
          }
         },
         "name": "con menores",
         "offsetgroup": "con menores",
         "orientation": "v",
         "showlegend": false,
         "text": [
          55.9,
          11.1
         ],
         "textposition": "auto",
         "x": [
          "hombre",
          "mujer"
         ],
         "xaxis": "x10",
         "y": [
          55.9,
          11.1
         ],
         "yaxis": "y10",
         "type": "bar"
        },
        {
         "alignmentgroup": "True",
         "error_y": {
          "array": [
           0.5462033819583871,
           0.1235960885239527
          ],
          "arrayminus": [
           0.5321090527912535,
           0.1143907818904558
          ]
         },
         "hovertemplate": "<b>Presencia de <br>menores</b>=con menores<br>anio=1998<br>sexo_jefatura=%{x}<br>Hogares(%)=%{text}<extra></extra>",
         "legendgroup": "con menores",
         "marker": {
          "color": "#E67E22",
          "pattern": {
           "shape": ""
          }
         },
         "name": "con menores",
         "offsetgroup": "con menores",
         "orientation": "v",
         "showlegend": false,
         "text": [
          53.9,
          11.9
         ],
         "textposition": "auto",
         "x": [
          "hombre",
          "mujer"
         ],
         "xaxis": "x11",
         "y": [
          53.9,
          11.9
         ],
         "yaxis": "y11",
         "type": "bar"
        },
        {
         "alignmentgroup": "True",
         "error_y": {
          "array": [
           0.5355366045193392,
           0.1279124485867193
          ],
          "arrayminus": [
           0.5189648202361469,
           0.1179756411946597
          ]
         },
         "hovertemplate": "<b>Presencia de <br>menores</b>=con menores<br>anio=2000<br>sexo_jefatura=%{x}<br>Hogares(%)=%{text}<extra></extra>",
         "legendgroup": "con menores",
         "marker": {
          "color": "#E67E22",
          "pattern": {
           "shape": ""
          }
         },
         "name": "con menores",
         "offsetgroup": "con menores",
         "orientation": "v",
         "showlegend": false,
         "text": [
          52.7,
          12.3
         ],
         "textposition": "auto",
         "x": [
          "hombre",
          "mujer"
         ],
         "xaxis": "x12",
         "y": [
          52.7,
          12.3
         ],
         "yaxis": "y12",
         "type": "bar"
        },
        {
         "alignmentgroup": "True",
         "error_y": {
          "array": [
           0.5006659055245052,
           0.1386958517181647
          ],
          "arrayminus": [
           0.4857674900611883,
           0.1294377688674668
          ]
         },
         "hovertemplate": "<b>Presencia de <br>menores</b>=con menores<br>anio=2003<br>sexo_jefatura=%{x}<br>Hogares(%)=%{text}<extra></extra>",
         "legendgroup": "con menores",
         "marker": {
          "color": "#E67E22",
          "pattern": {
           "shape": ""
          }
         },
         "name": "con menores",
         "offsetgroup": "con menores",
         "orientation": "v",
         "showlegend": false,
         "text": [
          49.3,
          13.4
         ],
         "textposition": "auto",
         "x": [
          "hombre",
          "mujer"
         ],
         "xaxis": "x",
         "y": [
          49.3,
          13.4
         ],
         "yaxis": "y",
         "type": "bar"
        },
        {
         "alignmentgroup": "True",
         "error_y": {
          "array": [
           0.3981994688932064,
           0.1734729268383585
          ],
          "arrayminus": [
           0.3848702932552448,
           0.1639129150375596
          ]
         },
         "hovertemplate": "<b>Presencia de <br>menores</b>=con menores<br>anio=2009<br>sexo_jefatura=%{x}<br>Hogares(%)=%{text}<extra></extra>",
         "legendgroup": "con menores",
         "marker": {
          "color": "#E67E22",
          "pattern": {
           "shape": ""
          }
         },
         "name": "con menores",
         "offsetgroup": "con menores",
         "orientation": "v",
         "showlegend": false,
         "text": [
          39.2,
          16.9
         ],
         "textposition": "auto",
         "x": [
          "hombre",
          "mujer"
         ],
         "xaxis": "x2",
         "y": [
          39.2,
          16.9
         ],
         "yaxis": "y2",
         "type": "bar"
        },
        {
         "alignmentgroup": "True",
         "error_y": {
          "array": [
           0.319399709036223,
           0.1849613673233925
          ],
          "arrayminus": [
           0.3065161969551552,
           0.1736139097171325
          ]
         },
         "hovertemplate": "<b>Presencia de <br>menores</b>=con menores<br>anio=2013<br>sexo_jefatura=%{x}<br>Hogares(%)=%{text}<extra></extra>",
         "legendgroup": "con menores",
         "marker": {
          "color": "#E67E22",
          "pattern": {
           "shape": ""
          }
         },
         "name": "con menores",
         "offsetgroup": "con menores",
         "orientation": "v",
         "showlegend": false,
         "text": [
          31.3,
          17.9
         ],
         "textposition": "auto",
         "x": [
          "hombre",
          "mujer"
         ],
         "xaxis": "x3",
         "y": [
          31.3,
          17.9
         ],
         "yaxis": "y3",
         "type": "bar"
        },
        {
         "alignmentgroup": "True",
         "error_y": {
          "array": [
           0.3020616611984906,
           0.1851586097347557
          ],
          "arrayminus": [
           0.2905629611221083,
           0.1756495016603989
          ]
         },
         "hovertemplate": "<b>Presencia de <br>menores</b>=con menores<br>anio=2015<br>sexo_jefatura=%{x}<br>Hogares(%)=%{text}<extra></extra>",
         "legendgroup": "con menores",
         "marker": {
          "color": "#E67E22",
          "pattern": {
           "shape": ""
          }
         },
         "name": "con menores",
         "offsetgroup": "con menores",
         "orientation": "v",
         "showlegend": false,
         "text": [
          29.6,
          18.0
         ],
         "textposition": "auto",
         "x": [
          "hombre",
          "mujer"
         ],
         "xaxis": "x4",
         "y": [
          29.6,
          18.0
         ],
         "yaxis": "y4",
         "type": "bar"
        },
        {
         "alignmentgroup": "True",
         "error_y": {
          "array": [
           0.2560915850511165,
           0.1894890652068721
          ],
          "arrayminus": [
           0.2449678356940457,
           0.1791105411060444
          ]
         },
         "hovertemplate": "<b>Presencia de <br>menores</b>=con menores<br>anio=2017<br>sexo_jefatura=%{x}<br>Hogares(%)=%{text}<extra></extra>",
         "legendgroup": "con menores",
         "marker": {
          "color": "#E67E22",
          "pattern": {
           "shape": ""
          }
         },
         "name": "con menores",
         "offsetgroup": "con menores",
         "orientation": "v",
         "showlegend": false,
         "text": [
          25.0,
          18.4
         ],
         "textposition": "auto",
         "x": [
          "hombre",
          "mujer"
         ],
         "xaxis": "x5",
         "y": [
          25.0,
          18.4
         ],
         "yaxis": "y5",
         "type": "bar"
        },
        {
         "alignmentgroup": "True",
         "error_y": {
          "array": [
           0.2136798782811854,
           0.227193516978533
          ],
          "arrayminus": [
           0.1928487595968696,
           0.2156323120196039
          ]
         },
         "hovertemplate": "<b>Presencia de <br>menores</b>=con menores<br>anio=2020<br>sexo_jefatura=%{x}<br>Hogares(%)=%{text}<extra></extra>",
         "legendgroup": "con menores",
         "marker": {
          "color": "#E67E22",
          "pattern": {
           "shape": ""
          }
         },
         "name": "con menores",
         "offsetgroup": "con menores",
         "orientation": "v",
         "showlegend": false,
         "text": [
          20.3,
          22.1
         ],
         "textposition": "auto",
         "x": [
          "hombre",
          "mujer"
         ],
         "xaxis": "x6",
         "y": [
          20.3,
          22.1
         ],
         "yaxis": "y6",
         "type": "bar"
        }
       ],
       "layout": {
        "template": {
         "data": {
          "barpolar": [
           {
            "marker": {
             "line": {
              "color": "#E5ECF6",
              "width": 0.5
             },
             "pattern": {
              "fillmode": "overlay",
              "size": 10,
              "solidity": 0.2
             }
            },
            "type": "barpolar"
           }
          ],
          "bar": [
           {
            "error_x": {
             "color": "#2a3f5f"
            },
            "error_y": {
             "color": "#2a3f5f"
            },
            "marker": {
             "line": {
              "color": "#E5ECF6",
              "width": 0.5
             },
             "pattern": {
              "fillmode": "overlay",
              "size": 10,
              "solidity": 0.2
             }
            },
            "type": "bar"
           }
          ],
          "carpet": [
           {
            "aaxis": {
             "endlinecolor": "#2a3f5f",
             "gridcolor": "white",
             "linecolor": "white",
             "minorgridcolor": "white",
             "startlinecolor": "#2a3f5f"
            },
            "baxis": {
             "endlinecolor": "#2a3f5f",
             "gridcolor": "white",
             "linecolor": "white",
             "minorgridcolor": "white",
             "startlinecolor": "#2a3f5f"
            },
            "type": "carpet"
           }
          ],
          "choropleth": [
           {
            "colorbar": {
             "outlinewidth": 0,
             "ticks": ""
            },
            "type": "choropleth"
           }
          ],
          "contourcarpet": [
           {
            "colorbar": {
             "outlinewidth": 0,
             "ticks": ""
            },
            "type": "contourcarpet"
           }
          ],
          "contour": [
           {
            "colorbar": {
             "outlinewidth": 0,
             "ticks": ""
            },
            "colorscale": [
             [
              0.0,
              "#0d0887"
             ],
             [
              0.1111111111111111,
              "#46039f"
             ],
             [
              0.2222222222222222,
              "#7201a8"
             ],
             [
              0.3333333333333333,
              "#9c179e"
             ],
             [
              0.4444444444444444,
              "#bd3786"
             ],
             [
              0.5555555555555556,
              "#d8576b"
             ],
             [
              0.6666666666666666,
              "#ed7953"
             ],
             [
              0.7777777777777778,
              "#fb9f3a"
             ],
             [
              0.8888888888888888,
              "#fdca26"
             ],
             [
              1.0,
              "#f0f921"
             ]
            ],
            "type": "contour"
           }
          ],
          "heatmapgl": [
           {
            "colorbar": {
             "outlinewidth": 0,
             "ticks": ""
            },
            "colorscale": [
             [
              0.0,
              "#0d0887"
             ],
             [
              0.1111111111111111,
              "#46039f"
             ],
             [
              0.2222222222222222,
              "#7201a8"
             ],
             [
              0.3333333333333333,
              "#9c179e"
             ],
             [
              0.4444444444444444,
              "#bd3786"
             ],
             [
              0.5555555555555556,
              "#d8576b"
             ],
             [
              0.6666666666666666,
              "#ed7953"
             ],
             [
              0.7777777777777778,
              "#fb9f3a"
             ],
             [
              0.8888888888888888,
              "#fdca26"
             ],
             [
              1.0,
              "#f0f921"
             ]
            ],
            "type": "heatmapgl"
           }
          ],
          "heatmap": [
           {
            "colorbar": {
             "outlinewidth": 0,
             "ticks": ""
            },
            "colorscale": [
             [
              0.0,
              "#0d0887"
             ],
             [
              0.1111111111111111,
              "#46039f"
             ],
             [
              0.2222222222222222,
              "#7201a8"
             ],
             [
              0.3333333333333333,
              "#9c179e"
             ],
             [
              0.4444444444444444,
              "#bd3786"
             ],
             [
              0.5555555555555556,
              "#d8576b"
             ],
             [
              0.6666666666666666,
              "#ed7953"
             ],
             [
              0.7777777777777778,
              "#fb9f3a"
             ],
             [
              0.8888888888888888,
              "#fdca26"
             ],
             [
              1.0,
              "#f0f921"
             ]
            ],
            "type": "heatmap"
           }
          ],
          "histogram2dcontour": [
           {
            "colorbar": {
             "outlinewidth": 0,
             "ticks": ""
            },
            "colorscale": [
             [
              0.0,
              "#0d0887"
             ],
             [
              0.1111111111111111,
              "#46039f"
             ],
             [
              0.2222222222222222,
              "#7201a8"
             ],
             [
              0.3333333333333333,
              "#9c179e"
             ],
             [
              0.4444444444444444,
              "#bd3786"
             ],
             [
              0.5555555555555556,
              "#d8576b"
             ],
             [
              0.6666666666666666,
              "#ed7953"
             ],
             [
              0.7777777777777778,
              "#fb9f3a"
             ],
             [
              0.8888888888888888,
              "#fdca26"
             ],
             [
              1.0,
              "#f0f921"
             ]
            ],
            "type": "histogram2dcontour"
           }
          ],
          "histogram2d": [
           {
            "colorbar": {
             "outlinewidth": 0,
             "ticks": ""
            },
            "colorscale": [
             [
              0.0,
              "#0d0887"
             ],
             [
              0.1111111111111111,
              "#46039f"
             ],
             [
              0.2222222222222222,
              "#7201a8"
             ],
             [
              0.3333333333333333,
              "#9c179e"
             ],
             [
              0.4444444444444444,
              "#bd3786"
             ],
             [
              0.5555555555555556,
              "#d8576b"
             ],
             [
              0.6666666666666666,
              "#ed7953"
             ],
             [
              0.7777777777777778,
              "#fb9f3a"
             ],
             [
              0.8888888888888888,
              "#fdca26"
             ],
             [
              1.0,
              "#f0f921"
             ]
            ],
            "type": "histogram2d"
           }
          ],
          "histogram": [
           {
            "marker": {
             "pattern": {
              "fillmode": "overlay",
              "size": 10,
              "solidity": 0.2
             }
            },
            "type": "histogram"
           }
          ],
          "mesh3d": [
           {
            "colorbar": {
             "outlinewidth": 0,
             "ticks": ""
            },
            "type": "mesh3d"
           }
          ],
          "parcoords": [
           {
            "line": {
             "colorbar": {
              "outlinewidth": 0,
              "ticks": ""
             }
            },
            "type": "parcoords"
           }
          ],
          "pie": [
           {
            "automargin": true,
            "type": "pie"
           }
          ],
          "scatter3d": [
           {
            "line": {
             "colorbar": {
              "outlinewidth": 0,
              "ticks": ""
             }
            },
            "marker": {
             "colorbar": {
              "outlinewidth": 0,
              "ticks": ""
             }
            },
            "type": "scatter3d"
           }
          ],
          "scattercarpet": [
           {
            "marker": {
             "colorbar": {
              "outlinewidth": 0,
              "ticks": ""
             }
            },
            "type": "scattercarpet"
           }
          ],
          "scattergeo": [
           {
            "marker": {
             "colorbar": {
              "outlinewidth": 0,
              "ticks": ""
             }
            },
            "type": "scattergeo"
           }
          ],
          "scattergl": [
           {
            "marker": {
             "colorbar": {
              "outlinewidth": 0,
              "ticks": ""
             }
            },
            "type": "scattergl"
           }
          ],
          "scattermapbox": [
           {
            "marker": {
             "colorbar": {
              "outlinewidth": 0,
              "ticks": ""
             }
            },
            "type": "scattermapbox"
           }
          ],
          "scatterpolargl": [
           {
            "marker": {
             "colorbar": {
              "outlinewidth": 0,
              "ticks": ""
             }
            },
            "type": "scatterpolargl"
           }
          ],
          "scatterpolar": [
           {
            "marker": {
             "colorbar": {
              "outlinewidth": 0,
              "ticks": ""
             }
            },
            "type": "scatterpolar"
           }
          ],
          "scatter": [
           {
            "marker": {
             "colorbar": {
              "outlinewidth": 0,
              "ticks": ""
             }
            },
            "type": "scatter"
           }
          ],
          "scatterternary": [
           {
            "marker": {
             "colorbar": {
              "outlinewidth": 0,
              "ticks": ""
             }
            },
            "type": "scatterternary"
           }
          ],
          "surface": [
           {
            "colorbar": {
             "outlinewidth": 0,
             "ticks": ""
            },
            "colorscale": [
             [
              0.0,
              "#0d0887"
             ],
             [
              0.1111111111111111,
              "#46039f"
             ],
             [
              0.2222222222222222,
              "#7201a8"
             ],
             [
              0.3333333333333333,
              "#9c179e"
             ],
             [
              0.4444444444444444,
              "#bd3786"
             ],
             [
              0.5555555555555556,
              "#d8576b"
             ],
             [
              0.6666666666666666,
              "#ed7953"
             ],
             [
              0.7777777777777778,
              "#fb9f3a"
             ],
             [
              0.8888888888888888,
              "#fdca26"
             ],
             [
              1.0,
              "#f0f921"
             ]
            ],
            "type": "surface"
           }
          ],
          "table": [
           {
            "cells": {
             "fill": {
              "color": "#EBF0F8"
             },
             "line": {
              "color": "white"
             }
            },
            "header": {
             "fill": {
              "color": "#C8D4E3"
             },
             "line": {
              "color": "white"
             }
            },
            "type": "table"
           }
          ]
         },
         "layout": {
          "annotationdefaults": {
           "arrowcolor": "#2a3f5f",
           "arrowhead": 0,
           "arrowwidth": 1
          },
          "autotypenumbers": "strict",
          "coloraxis": {
           "colorbar": {
            "outlinewidth": 0,
            "ticks": ""
           }
          },
          "colorscale": {
           "diverging": [
            [
             0,
             "#8e0152"
            ],
            [
             0.1,
             "#c51b7d"
            ],
            [
             0.2,
             "#de77ae"
            ],
            [
             0.3,
             "#f1b6da"
            ],
            [
             0.4,
             "#fde0ef"
            ],
            [
             0.5,
             "#f7f7f7"
            ],
            [
             0.6,
             "#e6f5d0"
            ],
            [
             0.7,
             "#b8e186"
            ],
            [
             0.8,
             "#7fbc41"
            ],
            [
             0.9,
             "#4d9221"
            ],
            [
             1,
             "#276419"
            ]
           ],
           "sequential": [
            [
             0.0,
             "#0d0887"
            ],
            [
             0.1111111111111111,
             "#46039f"
            ],
            [
             0.2222222222222222,
             "#7201a8"
            ],
            [
             0.3333333333333333,
             "#9c179e"
            ],
            [
             0.4444444444444444,
             "#bd3786"
            ],
            [
             0.5555555555555556,
             "#d8576b"
            ],
            [
             0.6666666666666666,
             "#ed7953"
            ],
            [
             0.7777777777777778,
             "#fb9f3a"
            ],
            [
             0.8888888888888888,
             "#fdca26"
            ],
            [
             1.0,
             "#f0f921"
            ]
           ],
           "sequentialminus": [
            [
             0.0,
             "#0d0887"
            ],
            [
             0.1111111111111111,
             "#46039f"
            ],
            [
             0.2222222222222222,
             "#7201a8"
            ],
            [
             0.3333333333333333,
             "#9c179e"
            ],
            [
             0.4444444444444444,
             "#bd3786"
            ],
            [
             0.5555555555555556,
             "#d8576b"
            ],
            [
             0.6666666666666666,
             "#ed7953"
            ],
            [
             0.7777777777777778,
             "#fb9f3a"
            ],
            [
             0.8888888888888888,
             "#fdca26"
            ],
            [
             1.0,
             "#f0f921"
            ]
           ]
          },
          "colorway": [
           "#636efa",
           "#EF553B",
           "#00cc96",
           "#ab63fa",
           "#FFA15A",
           "#19d3f3",
           "#FF6692",
           "#B6E880",
           "#FF97FF",
           "#FECB52"
          ],
          "font": {
           "color": "#2a3f5f"
          },
          "geo": {
           "bgcolor": "white",
           "lakecolor": "white",
           "landcolor": "#E5ECF6",
           "showlakes": true,
           "showland": true,
           "subunitcolor": "white"
          },
          "hoverlabel": {
           "align": "left"
          },
          "hovermode": "closest",
          "mapbox": {
           "style": "light"
          },
          "paper_bgcolor": "white",
          "plot_bgcolor": "#E5ECF6",
          "polar": {
           "angularaxis": {
            "gridcolor": "white",
            "linecolor": "white",
            "ticks": ""
           },
           "bgcolor": "#E5ECF6",
           "radialaxis": {
            "gridcolor": "white",
            "linecolor": "white",
            "ticks": ""
           }
          },
          "scene": {
           "xaxis": {
            "backgroundcolor": "#E5ECF6",
            "gridcolor": "white",
            "gridwidth": 2,
            "linecolor": "white",
            "showbackground": true,
            "ticks": "",
            "zerolinecolor": "white"
           },
           "yaxis": {
            "backgroundcolor": "#E5ECF6",
            "gridcolor": "white",
            "gridwidth": 2,
            "linecolor": "white",
            "showbackground": true,
            "ticks": "",
            "zerolinecolor": "white"
           },
           "zaxis": {
            "backgroundcolor": "#E5ECF6",
            "gridcolor": "white",
            "gridwidth": 2,
            "linecolor": "white",
            "showbackground": true,
            "ticks": "",
            "zerolinecolor": "white"
           }
          },
          "shapedefaults": {
           "line": {
            "color": "#2a3f5f"
           }
          },
          "ternary": {
           "aaxis": {
            "gridcolor": "white",
            "linecolor": "white",
            "ticks": ""
           },
           "baxis": {
            "gridcolor": "white",
            "linecolor": "white",
            "ticks": ""
           },
           "bgcolor": "#E5ECF6",
           "caxis": {
            "gridcolor": "white",
            "linecolor": "white",
            "ticks": ""
           }
          },
          "title": {
           "x": 0.05
          },
          "xaxis": {
           "automargin": true,
           "gridcolor": "white",
           "linecolor": "white",
           "ticks": "",
           "title": {
            "standoff": 15
           },
           "zerolinecolor": "white",
           "zerolinewidth": 2
          },
          "yaxis": {
           "automargin": true,
           "gridcolor": "white",
           "linecolor": "white",
           "ticks": "",
           "title": {
            "standoff": 15
           },
           "zerolinecolor": "white",
           "zerolinewidth": 2
          }
         }
        },
        "xaxis": {
         "anchor": "y",
         "domain": [
          0.0,
          0.15
         ],
         "title": {},
         "showgrid": true,
         "tickangle": 0
        },
        "yaxis": {
         "anchor": "x",
         "domain": [
          0.0,
          0.46499999999999997
         ],
         "title": {
          "text": "Hogares(%)",
          "font": {
           "size": 10
          },
          "standoff": 8
         }
        },
        "xaxis2": {
         "anchor": "y2",
         "domain": [
          0.16999999999999998,
          0.31999999999999995
         ],
         "matches": "x",
         "title": {},
         "showgrid": true,
         "tickangle": 0
        },
        "yaxis2": {
         "anchor": "x2",
         "domain": [
          0.0,
          0.46499999999999997
         ],
         "matches": "y",
         "showticklabels": false,
         "title": {
          "font": {
           "size": 10
          },
          "standoff": 8
         }
        },
        "xaxis3": {
         "anchor": "y3",
         "domain": [
          0.33999999999999997,
          0.49
         ],
         "matches": "x",
         "title": {},
         "showgrid": true,
         "tickangle": 0
        },
        "yaxis3": {
         "anchor": "x3",
         "domain": [
          0.0,
          0.46499999999999997
         ],
         "matches": "y",
         "showticklabels": false,
         "title": {
          "font": {
           "size": 10
          },
          "standoff": 8
         }
        },
        "xaxis4": {
         "anchor": "y4",
         "domain": [
          0.51,
          0.66
         ],
         "matches": "x",
         "title": {},
         "showgrid": true,
         "tickangle": 0
        },
        "yaxis4": {
         "anchor": "x4",
         "domain": [
          0.0,
          0.46499999999999997
         ],
         "matches": "y",
         "showticklabels": false,
         "title": {
          "font": {
           "size": 10
          },
          "standoff": 8
         }
        },
        "xaxis5": {
         "anchor": "y5",
         "domain": [
          0.6799999999999999,
          0.83
         ],
         "matches": "x",
         "title": {},
         "showgrid": true,
         "tickangle": 0
        },
        "yaxis5": {
         "anchor": "x5",
         "domain": [
          0.0,
          0.46499999999999997
         ],
         "matches": "y",
         "showticklabels": false,
         "title": {
          "font": {
           "size": 10
          },
          "standoff": 8
         }
        },
        "xaxis6": {
         "anchor": "y6",
         "domain": [
          0.85,
          1.0
         ],
         "matches": "x",
         "title": {},
         "showgrid": true,
         "tickangle": 0
        },
        "yaxis6": {
         "anchor": "x6",
         "domain": [
          0.0,
          0.46499999999999997
         ],
         "matches": "y",
         "showticklabels": false,
         "title": {
          "font": {
           "size": 10
          },
          "standoff": 8
         }
        },
        "xaxis7": {
         "anchor": "y7",
         "domain": [
          0.0,
          0.15
         ],
         "matches": "x",
         "showticklabels": false,
         "title": {},
         "showgrid": true,
         "tickangle": 0
        },
        "yaxis7": {
         "anchor": "x7",
         "domain": [
          0.5349999999999999,
          0.9999999999999999
         ],
         "matches": "y",
         "title": {
          "text": "Hogares(%)",
          "font": {
           "size": 10
          },
          "standoff": 8
         }
        },
        "xaxis8": {
         "anchor": "y8",
         "domain": [
          0.16999999999999998,
          0.31999999999999995
         ],
         "matches": "x",
         "showticklabels": false,
         "title": {},
         "showgrid": true,
         "tickangle": 0
        },
        "yaxis8": {
         "anchor": "x8",
         "domain": [
          0.5349999999999999,
          0.9999999999999999
         ],
         "matches": "y",
         "showticklabels": false,
         "title": {
          "font": {
           "size": 10
          },
          "standoff": 8
         }
        },
        "xaxis9": {
         "anchor": "y9",
         "domain": [
          0.33999999999999997,
          0.49
         ],
         "matches": "x",
         "showticklabels": false,
         "title": {},
         "showgrid": true,
         "tickangle": 0
        },
        "yaxis9": {
         "anchor": "x9",
         "domain": [
          0.5349999999999999,
          0.9999999999999999
         ],
         "matches": "y",
         "showticklabels": false,
         "title": {
          "font": {
           "size": 10
          },
          "standoff": 8
         }
        },
        "xaxis10": {
         "anchor": "y10",
         "domain": [
          0.51,
          0.66
         ],
         "matches": "x",
         "showticklabels": false,
         "title": {},
         "showgrid": true,
         "tickangle": 0
        },
        "yaxis10": {
         "anchor": "x10",
         "domain": [
          0.5349999999999999,
          0.9999999999999999
         ],
         "matches": "y",
         "showticklabels": false,
         "title": {
          "font": {
           "size": 10
          },
          "standoff": 8
         }
        },
        "xaxis11": {
         "anchor": "y11",
         "domain": [
          0.6799999999999999,
          0.83
         ],
         "matches": "x",
         "showticklabels": false,
         "title": {},
         "showgrid": true,
         "tickangle": 0
        },
        "yaxis11": {
         "anchor": "x11",
         "domain": [
          0.5349999999999999,
          0.9999999999999999
         ],
         "matches": "y",
         "showticklabels": false,
         "title": {
          "font": {
           "size": 10
          },
          "standoff": 8
         }
        },
        "xaxis12": {
         "anchor": "y12",
         "domain": [
          0.85,
          1.0
         ],
         "matches": "x",
         "showticklabels": false,
         "title": {},
         "showgrid": true,
         "tickangle": 0
        },
        "yaxis12": {
         "anchor": "x12",
         "domain": [
          0.5349999999999999,
          0.9999999999999999
         ],
         "matches": "y",
         "showticklabels": false,
         "title": {
          "font": {
           "size": 10
          },
          "standoff": 8
         }
        },
        "annotations": [
         {
          "font": {},
          "showarrow": false,
          "text": "2003",
          "x": 0.075,
          "xanchor": "center",
          "xref": "paper",
          "y": 0.46499999999999997,
          "yanchor": "bottom",
          "yref": "paper"
         },
         {
          "font": {},
          "showarrow": false,
          "text": "2009",
          "x": 0.24499999999999997,
          "xanchor": "center",
          "xref": "paper",
          "y": 0.46499999999999997,
          "yanchor": "bottom",
          "yref": "paper"
         },
         {
          "font": {},
          "showarrow": false,
          "text": "2013",
          "x": 0.415,
          "xanchor": "center",
          "xref": "paper",
          "y": 0.46499999999999997,
          "yanchor": "bottom",
          "yref": "paper"
         },
         {
          "font": {},
          "showarrow": false,
          "text": "2015",
          "x": 0.585,
          "xanchor": "center",
          "xref": "paper",
          "y": 0.46499999999999997,
          "yanchor": "bottom",
          "yref": "paper"
         },
         {
          "font": {},
          "showarrow": false,
          "text": "2017",
          "x": 0.7549999999999999,
          "xanchor": "center",
          "xref": "paper",
          "y": 0.46499999999999997,
          "yanchor": "bottom",
          "yref": "paper"
         },
         {
          "font": {},
          "showarrow": false,
          "text": "2020",
          "x": 0.925,
          "xanchor": "center",
          "xref": "paper",
          "y": 0.46499999999999997,
          "yanchor": "bottom",
          "yref": "paper"
         },
         {
          "font": {},
          "showarrow": false,
          "text": "1990",
          "x": 0.075,
          "xanchor": "center",
          "xref": "paper",
          "y": 0.9999999999999999,
          "yanchor": "bottom",
          "yref": "paper"
         },
         {
          "font": {},
          "showarrow": false,
          "text": "1992",
          "x": 0.24499999999999997,
          "xanchor": "center",
          "xref": "paper",
          "y": 0.9999999999999999,
          "yanchor": "bottom",
          "yref": "paper"
         },
         {
          "font": {},
          "showarrow": false,
          "text": "1994",
          "x": 0.415,
          "xanchor": "center",
          "xref": "paper",
          "y": 0.9999999999999999,
          "yanchor": "bottom",
          "yref": "paper"
         },
         {
          "font": {},
          "showarrow": false,
          "text": "1996",
          "x": 0.585,
          "xanchor": "center",
          "xref": "paper",
          "y": 0.9999999999999999,
          "yanchor": "bottom",
          "yref": "paper"
         },
         {
          "font": {},
          "showarrow": false,
          "text": "1998",
          "x": 0.7549999999999999,
          "xanchor": "center",
          "xref": "paper",
          "y": 0.9999999999999999,
          "yanchor": "bottom",
          "yref": "paper"
         },
         {
          "font": {},
          "showarrow": false,
          "text": "2000",
          "x": 0.925,
          "xanchor": "center",
          "xref": "paper",
          "y": 0.9999999999999999,
          "yanchor": "bottom",
          "yref": "paper"
         }
        ],
        "legend": {
         "title": {
          "text": "<b>Presencia de <br>menores</b>"
         },
         "tracegroupgap": 0,
         "orientation": "h",
         "y": 1.2,
         "yanchor": "bottom",
         "x": 0.2,
         "xanchor": "center"
        },
        "margin": {
         "t": 40,
         "l": 20,
         "r": 20,
         "b": 20
        },
        "barmode": "group",
        "height": 600
       },
       "config": {
        "plotlyServerURL": "https://plot.ly"
       }
      },
      "text/html": "<div>                            <div id=\"6843d88c-cbbb-472e-995d-1dc7244214a2\" class=\"plotly-graph-div\" style=\"height:600px; width:100%;\"></div>            <script type=\"text/javascript\">                require([\"plotly\"], function(Plotly) {                    window.PLOTLYENV=window.PLOTLYENV || {};                                    if (document.getElementById(\"6843d88c-cbbb-472e-995d-1dc7244214a2\")) {                    Plotly.newPlot(                        \"6843d88c-cbbb-472e-995d-1dc7244214a2\",                        [{\"alignmentgroup\":\"True\",\"error_y\":{\"array\":[0.232025556147336,0.1006985907537853],\"arrayminus\":[0.2191389580858475,0.0913698110905588]},\"hovertemplate\":\"<b>Presencia de <br>menores</b>=sin menores<br>anio=1990<br>sexo_jefatura=%{x}<br>Hogares(%)=%{text}<extra></extra>\",\"legendgroup\":\"sin menores\",\"marker\":{\"color\":\"#2471A3\",\"pattern\":{\"shape\":\"\"}},\"name\":\"sin menores\",\"offsetgroup\":\"sin menores\",\"orientation\":\"v\",\"showlegend\":true,\"text\":[22.6,9.6],\"textposition\":\"auto\",\"x\":[\"hombre\",\"mujer\"],\"xaxis\":\"x7\",\"y\":[22.6,9.6],\"yaxis\":\"y7\",\"type\":\"bar\"},{\"alignmentgroup\":\"True\",\"error_y\":{\"array\":[0.2399211017327333,0.1025685439037608],\"arrayminus\":[0.2284015369822375,0.0943692400093421]},\"hovertemplate\":\"<b>Presencia de <br>menores</b>=sin menores<br>anio=1992<br>sexo_jefatura=%{x}<br>Hogares(%)=%{text}<extra></extra>\",\"legendgroup\":\"sin menores\",\"marker\":{\"color\":\"#2471A3\",\"pattern\":{\"shape\":\"\"}},\"name\":\"sin menores\",\"offsetgroup\":\"sin menores\",\"orientation\":\"v\",\"showlegend\":false,\"text\":[23.4,9.8],\"textposition\":\"auto\",\"x\":[\"hombre\",\"mujer\"],\"xaxis\":\"x8\",\"y\":[23.4,9.8],\"yaxis\":\"y8\",\"type\":\"bar\"},{\"alignmentgroup\":\"True\",\"error_y\":{\"array\":[0.2458182063358401,0.1093405469282631],\"arrayminus\":[0.2342008598040122,0.1008209689837194]},\"hovertemplate\":\"<b>Presencia de <br>menores</b>=sin menores<br>anio=1994<br>sexo_jefatura=%{x}<br>Hogares(%)=%{text}<extra></extra>\",\"legendgroup\":\"sin menores\",\"marker\":{\"color\":\"#2471A3\",\"pattern\":{\"shape\":\"\"}},\"name\":\"sin menores\",\"offsetgroup\":\"sin menores\",\"orientation\":\"v\",\"showlegend\":false,\"text\":[24.0,10.5],\"textposition\":\"auto\",\"x\":[\"hombre\",\"mujer\"],\"xaxis\":\"x9\",\"y\":[24.0,10.5],\"yaxis\":\"y9\",\"type\":\"bar\"},{\"alignmentgroup\":\"True\",\"error_y\":{\"array\":[0.2298342283542892,0.1142102852421516],\"arrayminus\":[0.2149791169481128,0.1018001289896595]},\"hovertemplate\":\"<b>Presencia de <br>menores</b>=sin menores<br>anio=1996<br>sexo_jefatura=%{x}<br>Hogares(%)=%{text}<extra></extra>\",\"legendgroup\":\"sin menores\",\"marker\":{\"color\":\"#2471A3\",\"pattern\":{\"shape\":\"\"}},\"name\":\"sin menores\",\"offsetgroup\":\"sin menores\",\"orientation\":\"v\",\"showlegend\":false,\"text\":[22.2,10.8],\"textposition\":\"auto\",\"x\":[\"hombre\",\"mujer\"],\"xaxis\":\"x10\",\"y\":[22.2,10.8],\"yaxis\":\"y10\",\"type\":\"bar\"},{\"alignmentgroup\":\"True\",\"error_y\":{\"array\":[0.2398514244591265,0.1128495353051072],\"arrayminus\":[0.2279002255738633,0.1035208214516601]},\"hovertemplate\":\"<b>Presencia de <br>menores</b>=sin menores<br>anio=1998<br>sexo_jefatura=%{x}<br>Hogares(%)=%{text}<extra></extra>\",\"legendgroup\":\"sin menores\",\"marker\":{\"color\":\"#2471A3\",\"pattern\":{\"shape\":\"\"}},\"name\":\"sin menores\",\"offsetgroup\":\"sin menores\",\"orientation\":\"v\",\"showlegend\":false,\"text\":[23.4,10.8],\"textposition\":\"auto\",\"x\":[\"hombre\",\"mujer\"],\"xaxis\":\"x11\",\"y\":[23.4,10.8],\"yaxis\":\"y11\",\"type\":\"bar\"},{\"alignmentgroup\":\"True\",\"error_y\":{\"array\":[0.2481554106333669,0.1138681944455132],\"arrayminus\":[0.2336384587665354,0.1044344591675816]},\"hovertemplate\":\"<b>Presencia de <br>menores</b>=sin menores<br>anio=2000<br>sexo_jefatura=%{x}<br>Hogares(%)=%{text}<extra></extra>\",\"legendgroup\":\"sin menores\",\"marker\":{\"color\":\"#2471A3\",\"pattern\":{\"shape\":\"\"}},\"name\":\"sin menores\",\"offsetgroup\":\"sin menores\",\"orientation\":\"v\",\"showlegend\":false,\"text\":[24.1,10.9],\"textposition\":\"auto\",\"x\":[\"hombre\",\"mujer\"],\"xaxis\":\"x12\",\"y\":[24.1,10.9],\"yaxis\":\"y12\",\"type\":\"bar\"},{\"alignmentgroup\":\"True\",\"error_y\":{\"array\":[0.2535116387410978,0.1301811212695741],\"arrayminus\":[0.2412866522036217,0.1208419881634549]},\"hovertemplate\":\"<b>Presencia de <br>menores</b>=sin menores<br>anio=2003<br>sexo_jefatura=%{x}<br>Hogares(%)=%{text}<extra></extra>\",\"legendgroup\":\"sin menores\",\"marker\":{\"color\":\"#2471A3\",\"pattern\":{\"shape\":\"\"}},\"name\":\"sin menores\",\"offsetgroup\":\"sin menores\",\"orientation\":\"v\",\"showlegend\":false,\"text\":[24.7,12.5],\"textposition\":\"auto\",\"x\":[\"hombre\",\"mujer\"],\"xaxis\":\"x\",\"y\":[24.7,12.5],\"yaxis\":\"y\",\"type\":\"bar\"},{\"alignmentgroup\":\"True\",\"error_y\":{\"array\":[0.283895714020253,0.1678903203012531],\"arrayminus\":[0.2712794508127364,0.1568665352509008]},\"hovertemplate\":\"<b>Presencia de <br>menores</b>=sin menores<br>anio=2009<br>sexo_jefatura=%{x}<br>Hogares(%)=%{text}<extra></extra>\",\"legendgroup\":\"sin menores\",\"marker\":{\"color\":\"#2471A3\",\"pattern\":{\"shape\":\"\"}},\"name\":\"sin menores\",\"offsetgroup\":\"sin menores\",\"orientation\":\"v\",\"showlegend\":false,\"text\":[27.8,16.2],\"textposition\":\"auto\",\"x\":[\"hombre\",\"mujer\"],\"xaxis\":\"x2\",\"y\":[27.8,16.2],\"yaxis\":\"y2\",\"type\":\"bar\"},{\"alignmentgroup\":\"True\",\"error_y\":{\"array\":[0.3150912554757796,0.2065910758055848],\"arrayminus\":[0.3010191554536515,0.193275478244504]},\"hovertemplate\":\"<b>Presencia de <br>menores</b>=sin menores<br>anio=2013<br>sexo_jefatura=%{x}<br>Hogares(%)=%{text}<extra></extra>\",\"legendgroup\":\"sin menores\",\"marker\":{\"color\":\"#2471A3\",\"pattern\":{\"shape\":\"\"}},\"name\":\"sin menores\",\"offsetgroup\":\"sin menores\",\"orientation\":\"v\",\"showlegend\":false,\"text\":[30.8,20.0],\"textposition\":\"auto\",\"x\":[\"hombre\",\"mujer\"],\"xaxis\":\"x3\",\"y\":[30.8,20.0],\"yaxis\":\"y3\",\"type\":\"bar\"},{\"alignmentgroup\":\"True\",\"error_y\":{\"array\":[0.3149631767850148,0.2189669090500191],\"arrayminus\":[0.3035291547103004,0.209406375821912]},\"hovertemplate\":\"<b>Presencia de <br>menores</b>=sin menores<br>anio=2015<br>sexo_jefatura=%{x}<br>Hogares(%)=%{text}<extra></extra>\",\"legendgroup\":\"sin menores\",\"marker\":{\"color\":\"#2471A3\",\"pattern\":{\"shape\":\"\"}},\"name\":\"sin menores\",\"offsetgroup\":\"sin menores\",\"orientation\":\"v\",\"showlegend\":false,\"text\":[30.9,21.4],\"textposition\":\"auto\",\"x\":[\"hombre\",\"mujer\"],\"xaxis\":\"x4\",\"y\":[30.9,21.4],\"yaxis\":\"y4\",\"type\":\"bar\"},{\"alignmentgroup\":\"True\",\"error_y\":{\"array\":[0.3317013922916665,0.2447966117181395],\"arrayminus\":[0.3199948870928065,0.2341784160363274]},\"hovertemplate\":\"<b>Presencia de <br>menores</b>=sin menores<br>anio=2017<br>sexo_jefatura=%{x}<br>Hogares(%)=%{text}<extra></extra>\",\"legendgroup\":\"sin menores\",\"marker\":{\"color\":\"#2471A3\",\"pattern\":{\"shape\":\"\"}},\"name\":\"sin menores\",\"offsetgroup\":\"sin menores\",\"orientation\":\"v\",\"showlegend\":false,\"text\":[32.6,23.9],\"textposition\":\"auto\",\"x\":[\"hombre\",\"mujer\"],\"xaxis\":\"x5\",\"y\":[32.6,23.9],\"yaxis\":\"y5\",\"type\":\"bar\"},{\"alignmentgroup\":\"True\",\"error_y\":{\"array\":[0.3037344954529655,0.2840346654525575],\"arrayminus\":[0.2916256021065869,0.2719090671937304]},\"hovertemplate\":\"<b>Presencia de <br>menores</b>=sin menores<br>anio=2020<br>sexo_jefatura=%{x}<br>Hogares(%)=%{text}<extra></extra>\",\"legendgroup\":\"sin menores\",\"marker\":{\"color\":\"#2471A3\",\"pattern\":{\"shape\":\"\"}},\"name\":\"sin menores\",\"offsetgroup\":\"sin menores\",\"orientation\":\"v\",\"showlegend\":false,\"text\":[29.8,27.8],\"textposition\":\"auto\",\"x\":[\"hombre\",\"mujer\"],\"xaxis\":\"x6\",\"y\":[29.8,27.8],\"yaxis\":\"y6\",\"type\":\"bar\"},{\"alignmentgroup\":\"True\",\"error_y\":{\"array\":[0.5803548320220481,0.1105837259742698],\"arrayminus\":[0.5651302059302609,0.1011811015845048]},\"hovertemplate\":\"<b>Presencia de <br>menores</b>=con menores<br>anio=1990<br>sexo_jefatura=%{x}<br>Hogares(%)=%{text}<extra></extra>\",\"legendgroup\":\"con menores\",\"marker\":{\"color\":\"#E67E22\",\"pattern\":{\"shape\":\"\"}},\"name\":\"con menores\",\"offsetgroup\":\"con menores\",\"orientation\":\"v\",\"showlegend\":true,\"text\":[57.3,10.6],\"textposition\":\"auto\",\"x\":[\"hombre\",\"mujer\"],\"xaxis\":\"x7\",\"y\":[57.3,10.6],\"yaxis\":\"y7\",\"type\":\"bar\"},{\"alignmentgroup\":\"True\",\"error_y\":{\"array\":[0.5659472321296438,0.1125862784369882],\"arrayminus\":[0.552474226941681,0.1041063721190636]},\"hovertemplate\":\"<b>Presencia de <br>menores</b>=con menores<br>anio=1992<br>sexo_jefatura=%{x}<br>Hogares(%)=%{text}<extra></extra>\",\"legendgroup\":\"con menores\",\"marker\":{\"color\":\"#E67E22\",\"pattern\":{\"shape\":\"\"}},\"name\":\"con menores\",\"offsetgroup\":\"con menores\",\"orientation\":\"v\",\"showlegend\":false,\"text\":[55.9,10.8],\"textposition\":\"auto\",\"x\":[\"hombre\",\"mujer\"],\"xaxis\":\"x8\",\"y\":[55.9,10.8],\"yaxis\":\"y8\",\"type\":\"bar\"},{\"alignmentgroup\":\"True\",\"error_y\":{\"array\":[0.5530982427353767,0.1129706437878156],\"arrayminus\":[0.5396069403527571,0.1045194931125603]},\"hovertemplate\":\"<b>Presencia de <br>menores</b>=con menores<br>anio=1994<br>sexo_jefatura=%{x}<br>Hogares(%)=%{text}<extra></extra>\",\"legendgroup\":\"con menores\",\"marker\":{\"color\":\"#E67E22\",\"pattern\":{\"shape\":\"\"}},\"name\":\"con menores\",\"offsetgroup\":\"con menores\",\"orientation\":\"v\",\"showlegend\":false,\"text\":[54.6,10.9],\"textposition\":\"auto\",\"x\":[\"hombre\",\"mujer\"],\"xaxis\":\"x9\",\"y\":[54.6,10.9],\"yaxis\":\"y9\",\"type\":\"bar\"},{\"alignmentgroup\":\"True\",\"error_y\":{\"array\":[0.5683529770926379,0.1162129939736311],\"arrayminus\":[0.5501295699740163,0.1051728212909456]},\"hovertemplate\":\"<b>Presencia de <br>menores</b>=con menores<br>anio=1996<br>sexo_jefatura=%{x}<br>Hogares(%)=%{text}<extra></extra>\",\"legendgroup\":\"con menores\",\"marker\":{\"color\":\"#E67E22\",\"pattern\":{\"shape\":\"\"}},\"name\":\"con menores\",\"offsetgroup\":\"con menores\",\"orientation\":\"v\",\"showlegend\":false,\"text\":[55.9,11.1],\"textposition\":\"auto\",\"x\":[\"hombre\",\"mujer\"],\"xaxis\":\"x10\",\"y\":[55.9,11.1],\"yaxis\":\"y10\",\"type\":\"bar\"},{\"alignmentgroup\":\"True\",\"error_y\":{\"array\":[0.5462033819583871,0.1235960885239527],\"arrayminus\":[0.5321090527912535,0.1143907818904558]},\"hovertemplate\":\"<b>Presencia de <br>menores</b>=con menores<br>anio=1998<br>sexo_jefatura=%{x}<br>Hogares(%)=%{text}<extra></extra>\",\"legendgroup\":\"con menores\",\"marker\":{\"color\":\"#E67E22\",\"pattern\":{\"shape\":\"\"}},\"name\":\"con menores\",\"offsetgroup\":\"con menores\",\"orientation\":\"v\",\"showlegend\":false,\"text\":[53.9,11.9],\"textposition\":\"auto\",\"x\":[\"hombre\",\"mujer\"],\"xaxis\":\"x11\",\"y\":[53.9,11.9],\"yaxis\":\"y11\",\"type\":\"bar\"},{\"alignmentgroup\":\"True\",\"error_y\":{\"array\":[0.5355366045193392,0.1279124485867193],\"arrayminus\":[0.5189648202361469,0.1179756411946597]},\"hovertemplate\":\"<b>Presencia de <br>menores</b>=con menores<br>anio=2000<br>sexo_jefatura=%{x}<br>Hogares(%)=%{text}<extra></extra>\",\"legendgroup\":\"con menores\",\"marker\":{\"color\":\"#E67E22\",\"pattern\":{\"shape\":\"\"}},\"name\":\"con menores\",\"offsetgroup\":\"con menores\",\"orientation\":\"v\",\"showlegend\":false,\"text\":[52.7,12.3],\"textposition\":\"auto\",\"x\":[\"hombre\",\"mujer\"],\"xaxis\":\"x12\",\"y\":[52.7,12.3],\"yaxis\":\"y12\",\"type\":\"bar\"},{\"alignmentgroup\":\"True\",\"error_y\":{\"array\":[0.5006659055245052,0.1386958517181647],\"arrayminus\":[0.4857674900611883,0.1294377688674668]},\"hovertemplate\":\"<b>Presencia de <br>menores</b>=con menores<br>anio=2003<br>sexo_jefatura=%{x}<br>Hogares(%)=%{text}<extra></extra>\",\"legendgroup\":\"con menores\",\"marker\":{\"color\":\"#E67E22\",\"pattern\":{\"shape\":\"\"}},\"name\":\"con menores\",\"offsetgroup\":\"con menores\",\"orientation\":\"v\",\"showlegend\":false,\"text\":[49.3,13.4],\"textposition\":\"auto\",\"x\":[\"hombre\",\"mujer\"],\"xaxis\":\"x\",\"y\":[49.3,13.4],\"yaxis\":\"y\",\"type\":\"bar\"},{\"alignmentgroup\":\"True\",\"error_y\":{\"array\":[0.3981994688932064,0.1734729268383585],\"arrayminus\":[0.3848702932552448,0.1639129150375596]},\"hovertemplate\":\"<b>Presencia de <br>menores</b>=con menores<br>anio=2009<br>sexo_jefatura=%{x}<br>Hogares(%)=%{text}<extra></extra>\",\"legendgroup\":\"con menores\",\"marker\":{\"color\":\"#E67E22\",\"pattern\":{\"shape\":\"\"}},\"name\":\"con menores\",\"offsetgroup\":\"con menores\",\"orientation\":\"v\",\"showlegend\":false,\"text\":[39.2,16.9],\"textposition\":\"auto\",\"x\":[\"hombre\",\"mujer\"],\"xaxis\":\"x2\",\"y\":[39.2,16.9],\"yaxis\":\"y2\",\"type\":\"bar\"},{\"alignmentgroup\":\"True\",\"error_y\":{\"array\":[0.319399709036223,0.1849613673233925],\"arrayminus\":[0.3065161969551552,0.1736139097171325]},\"hovertemplate\":\"<b>Presencia de <br>menores</b>=con menores<br>anio=2013<br>sexo_jefatura=%{x}<br>Hogares(%)=%{text}<extra></extra>\",\"legendgroup\":\"con menores\",\"marker\":{\"color\":\"#E67E22\",\"pattern\":{\"shape\":\"\"}},\"name\":\"con menores\",\"offsetgroup\":\"con menores\",\"orientation\":\"v\",\"showlegend\":false,\"text\":[31.3,17.9],\"textposition\":\"auto\",\"x\":[\"hombre\",\"mujer\"],\"xaxis\":\"x3\",\"y\":[31.3,17.9],\"yaxis\":\"y3\",\"type\":\"bar\"},{\"alignmentgroup\":\"True\",\"error_y\":{\"array\":[0.3020616611984906,0.1851586097347557],\"arrayminus\":[0.2905629611221083,0.1756495016603989]},\"hovertemplate\":\"<b>Presencia de <br>menores</b>=con menores<br>anio=2015<br>sexo_jefatura=%{x}<br>Hogares(%)=%{text}<extra></extra>\",\"legendgroup\":\"con menores\",\"marker\":{\"color\":\"#E67E22\",\"pattern\":{\"shape\":\"\"}},\"name\":\"con menores\",\"offsetgroup\":\"con menores\",\"orientation\":\"v\",\"showlegend\":false,\"text\":[29.6,18.0],\"textposition\":\"auto\",\"x\":[\"hombre\",\"mujer\"],\"xaxis\":\"x4\",\"y\":[29.6,18.0],\"yaxis\":\"y4\",\"type\":\"bar\"},{\"alignmentgroup\":\"True\",\"error_y\":{\"array\":[0.2560915850511165,0.1894890652068721],\"arrayminus\":[0.2449678356940457,0.1791105411060444]},\"hovertemplate\":\"<b>Presencia de <br>menores</b>=con menores<br>anio=2017<br>sexo_jefatura=%{x}<br>Hogares(%)=%{text}<extra></extra>\",\"legendgroup\":\"con menores\",\"marker\":{\"color\":\"#E67E22\",\"pattern\":{\"shape\":\"\"}},\"name\":\"con menores\",\"offsetgroup\":\"con menores\",\"orientation\":\"v\",\"showlegend\":false,\"text\":[25.0,18.4],\"textposition\":\"auto\",\"x\":[\"hombre\",\"mujer\"],\"xaxis\":\"x5\",\"y\":[25.0,18.4],\"yaxis\":\"y5\",\"type\":\"bar\"},{\"alignmentgroup\":\"True\",\"error_y\":{\"array\":[0.2136798782811854,0.227193516978533],\"arrayminus\":[0.1928487595968696,0.2156323120196039]},\"hovertemplate\":\"<b>Presencia de <br>menores</b>=con menores<br>anio=2020<br>sexo_jefatura=%{x}<br>Hogares(%)=%{text}<extra></extra>\",\"legendgroup\":\"con menores\",\"marker\":{\"color\":\"#E67E22\",\"pattern\":{\"shape\":\"\"}},\"name\":\"con menores\",\"offsetgroup\":\"con menores\",\"orientation\":\"v\",\"showlegend\":false,\"text\":[20.3,22.1],\"textposition\":\"auto\",\"x\":[\"hombre\",\"mujer\"],\"xaxis\":\"x6\",\"y\":[20.3,22.1],\"yaxis\":\"y6\",\"type\":\"bar\"}],                        {\"template\":{\"data\":{\"barpolar\":[{\"marker\":{\"line\":{\"color\":\"#E5ECF6\",\"width\":0.5},\"pattern\":{\"fillmode\":\"overlay\",\"size\":10,\"solidity\":0.2}},\"type\":\"barpolar\"}],\"bar\":[{\"error_x\":{\"color\":\"#2a3f5f\"},\"error_y\":{\"color\":\"#2a3f5f\"},\"marker\":{\"line\":{\"color\":\"#E5ECF6\",\"width\":0.5},\"pattern\":{\"fillmode\":\"overlay\",\"size\":10,\"solidity\":0.2}},\"type\":\"bar\"}],\"carpet\":[{\"aaxis\":{\"endlinecolor\":\"#2a3f5f\",\"gridcolor\":\"white\",\"linecolor\":\"white\",\"minorgridcolor\":\"white\",\"startlinecolor\":\"#2a3f5f\"},\"baxis\":{\"endlinecolor\":\"#2a3f5f\",\"gridcolor\":\"white\",\"linecolor\":\"white\",\"minorgridcolor\":\"white\",\"startlinecolor\":\"#2a3f5f\"},\"type\":\"carpet\"}],\"choropleth\":[{\"colorbar\":{\"outlinewidth\":0,\"ticks\":\"\"},\"type\":\"choropleth\"}],\"contourcarpet\":[{\"colorbar\":{\"outlinewidth\":0,\"ticks\":\"\"},\"type\":\"contourcarpet\"}],\"contour\":[{\"colorbar\":{\"outlinewidth\":0,\"ticks\":\"\"},\"colorscale\":[[0.0,\"#0d0887\"],[0.1111111111111111,\"#46039f\"],[0.2222222222222222,\"#7201a8\"],[0.3333333333333333,\"#9c179e\"],[0.4444444444444444,\"#bd3786\"],[0.5555555555555556,\"#d8576b\"],[0.6666666666666666,\"#ed7953\"],[0.7777777777777778,\"#fb9f3a\"],[0.8888888888888888,\"#fdca26\"],[1.0,\"#f0f921\"]],\"type\":\"contour\"}],\"heatmapgl\":[{\"colorbar\":{\"outlinewidth\":0,\"ticks\":\"\"},\"colorscale\":[[0.0,\"#0d0887\"],[0.1111111111111111,\"#46039f\"],[0.2222222222222222,\"#7201a8\"],[0.3333333333333333,\"#9c179e\"],[0.4444444444444444,\"#bd3786\"],[0.5555555555555556,\"#d8576b\"],[0.6666666666666666,\"#ed7953\"],[0.7777777777777778,\"#fb9f3a\"],[0.8888888888888888,\"#fdca26\"],[1.0,\"#f0f921\"]],\"type\":\"heatmapgl\"}],\"heatmap\":[{\"colorbar\":{\"outlinewidth\":0,\"ticks\":\"\"},\"colorscale\":[[0.0,\"#0d0887\"],[0.1111111111111111,\"#46039f\"],[0.2222222222222222,\"#7201a8\"],[0.3333333333333333,\"#9c179e\"],[0.4444444444444444,\"#bd3786\"],[0.5555555555555556,\"#d8576b\"],[0.6666666666666666,\"#ed7953\"],[0.7777777777777778,\"#fb9f3a\"],[0.8888888888888888,\"#fdca26\"],[1.0,\"#f0f921\"]],\"type\":\"heatmap\"}],\"histogram2dcontour\":[{\"colorbar\":{\"outlinewidth\":0,\"ticks\":\"\"},\"colorscale\":[[0.0,\"#0d0887\"],[0.1111111111111111,\"#46039f\"],[0.2222222222222222,\"#7201a8\"],[0.3333333333333333,\"#9c179e\"],[0.4444444444444444,\"#bd3786\"],[0.5555555555555556,\"#d8576b\"],[0.6666666666666666,\"#ed7953\"],[0.7777777777777778,\"#fb9f3a\"],[0.8888888888888888,\"#fdca26\"],[1.0,\"#f0f921\"]],\"type\":\"histogram2dcontour\"}],\"histogram2d\":[{\"colorbar\":{\"outlinewidth\":0,\"ticks\":\"\"},\"colorscale\":[[0.0,\"#0d0887\"],[0.1111111111111111,\"#46039f\"],[0.2222222222222222,\"#7201a8\"],[0.3333333333333333,\"#9c179e\"],[0.4444444444444444,\"#bd3786\"],[0.5555555555555556,\"#d8576b\"],[0.6666666666666666,\"#ed7953\"],[0.7777777777777778,\"#fb9f3a\"],[0.8888888888888888,\"#fdca26\"],[1.0,\"#f0f921\"]],\"type\":\"histogram2d\"}],\"histogram\":[{\"marker\":{\"pattern\":{\"fillmode\":\"overlay\",\"size\":10,\"solidity\":0.2}},\"type\":\"histogram\"}],\"mesh3d\":[{\"colorbar\":{\"outlinewidth\":0,\"ticks\":\"\"},\"type\":\"mesh3d\"}],\"parcoords\":[{\"line\":{\"colorbar\":{\"outlinewidth\":0,\"ticks\":\"\"}},\"type\":\"parcoords\"}],\"pie\":[{\"automargin\":true,\"type\":\"pie\"}],\"scatter3d\":[{\"line\":{\"colorbar\":{\"outlinewidth\":0,\"ticks\":\"\"}},\"marker\":{\"colorbar\":{\"outlinewidth\":0,\"ticks\":\"\"}},\"type\":\"scatter3d\"}],\"scattercarpet\":[{\"marker\":{\"colorbar\":{\"outlinewidth\":0,\"ticks\":\"\"}},\"type\":\"scattercarpet\"}],\"scattergeo\":[{\"marker\":{\"colorbar\":{\"outlinewidth\":0,\"ticks\":\"\"}},\"type\":\"scattergeo\"}],\"scattergl\":[{\"marker\":{\"colorbar\":{\"outlinewidth\":0,\"ticks\":\"\"}},\"type\":\"scattergl\"}],\"scattermapbox\":[{\"marker\":{\"colorbar\":{\"outlinewidth\":0,\"ticks\":\"\"}},\"type\":\"scattermapbox\"}],\"scatterpolargl\":[{\"marker\":{\"colorbar\":{\"outlinewidth\":0,\"ticks\":\"\"}},\"type\":\"scatterpolargl\"}],\"scatterpolar\":[{\"marker\":{\"colorbar\":{\"outlinewidth\":0,\"ticks\":\"\"}},\"type\":\"scatterpolar\"}],\"scatter\":[{\"marker\":{\"colorbar\":{\"outlinewidth\":0,\"ticks\":\"\"}},\"type\":\"scatter\"}],\"scatterternary\":[{\"marker\":{\"colorbar\":{\"outlinewidth\":0,\"ticks\":\"\"}},\"type\":\"scatterternary\"}],\"surface\":[{\"colorbar\":{\"outlinewidth\":0,\"ticks\":\"\"},\"colorscale\":[[0.0,\"#0d0887\"],[0.1111111111111111,\"#46039f\"],[0.2222222222222222,\"#7201a8\"],[0.3333333333333333,\"#9c179e\"],[0.4444444444444444,\"#bd3786\"],[0.5555555555555556,\"#d8576b\"],[0.6666666666666666,\"#ed7953\"],[0.7777777777777778,\"#fb9f3a\"],[0.8888888888888888,\"#fdca26\"],[1.0,\"#f0f921\"]],\"type\":\"surface\"}],\"table\":[{\"cells\":{\"fill\":{\"color\":\"#EBF0F8\"},\"line\":{\"color\":\"white\"}},\"header\":{\"fill\":{\"color\":\"#C8D4E3\"},\"line\":{\"color\":\"white\"}},\"type\":\"table\"}]},\"layout\":{\"annotationdefaults\":{\"arrowcolor\":\"#2a3f5f\",\"arrowhead\":0,\"arrowwidth\":1},\"autotypenumbers\":\"strict\",\"coloraxis\":{\"colorbar\":{\"outlinewidth\":0,\"ticks\":\"\"}},\"colorscale\":{\"diverging\":[[0,\"#8e0152\"],[0.1,\"#c51b7d\"],[0.2,\"#de77ae\"],[0.3,\"#f1b6da\"],[0.4,\"#fde0ef\"],[0.5,\"#f7f7f7\"],[0.6,\"#e6f5d0\"],[0.7,\"#b8e186\"],[0.8,\"#7fbc41\"],[0.9,\"#4d9221\"],[1,\"#276419\"]],\"sequential\":[[0.0,\"#0d0887\"],[0.1111111111111111,\"#46039f\"],[0.2222222222222222,\"#7201a8\"],[0.3333333333333333,\"#9c179e\"],[0.4444444444444444,\"#bd3786\"],[0.5555555555555556,\"#d8576b\"],[0.6666666666666666,\"#ed7953\"],[0.7777777777777778,\"#fb9f3a\"],[0.8888888888888888,\"#fdca26\"],[1.0,\"#f0f921\"]],\"sequentialminus\":[[0.0,\"#0d0887\"],[0.1111111111111111,\"#46039f\"],[0.2222222222222222,\"#7201a8\"],[0.3333333333333333,\"#9c179e\"],[0.4444444444444444,\"#bd3786\"],[0.5555555555555556,\"#d8576b\"],[0.6666666666666666,\"#ed7953\"],[0.7777777777777778,\"#fb9f3a\"],[0.8888888888888888,\"#fdca26\"],[1.0,\"#f0f921\"]]},\"colorway\":[\"#636efa\",\"#EF553B\",\"#00cc96\",\"#ab63fa\",\"#FFA15A\",\"#19d3f3\",\"#FF6692\",\"#B6E880\",\"#FF97FF\",\"#FECB52\"],\"font\":{\"color\":\"#2a3f5f\"},\"geo\":{\"bgcolor\":\"white\",\"lakecolor\":\"white\",\"landcolor\":\"#E5ECF6\",\"showlakes\":true,\"showland\":true,\"subunitcolor\":\"white\"},\"hoverlabel\":{\"align\":\"left\"},\"hovermode\":\"closest\",\"mapbox\":{\"style\":\"light\"},\"paper_bgcolor\":\"white\",\"plot_bgcolor\":\"#E5ECF6\",\"polar\":{\"angularaxis\":{\"gridcolor\":\"white\",\"linecolor\":\"white\",\"ticks\":\"\"},\"bgcolor\":\"#E5ECF6\",\"radialaxis\":{\"gridcolor\":\"white\",\"linecolor\":\"white\",\"ticks\":\"\"}},\"scene\":{\"xaxis\":{\"backgroundcolor\":\"#E5ECF6\",\"gridcolor\":\"white\",\"gridwidth\":2,\"linecolor\":\"white\",\"showbackground\":true,\"ticks\":\"\",\"zerolinecolor\":\"white\"},\"yaxis\":{\"backgroundcolor\":\"#E5ECF6\",\"gridcolor\":\"white\",\"gridwidth\":2,\"linecolor\":\"white\",\"showbackground\":true,\"ticks\":\"\",\"zerolinecolor\":\"white\"},\"zaxis\":{\"backgroundcolor\":\"#E5ECF6\",\"gridcolor\":\"white\",\"gridwidth\":2,\"linecolor\":\"white\",\"showbackground\":true,\"ticks\":\"\",\"zerolinecolor\":\"white\"}},\"shapedefaults\":{\"line\":{\"color\":\"#2a3f5f\"}},\"ternary\":{\"aaxis\":{\"gridcolor\":\"white\",\"linecolor\":\"white\",\"ticks\":\"\"},\"baxis\":{\"gridcolor\":\"white\",\"linecolor\":\"white\",\"ticks\":\"\"},\"bgcolor\":\"#E5ECF6\",\"caxis\":{\"gridcolor\":\"white\",\"linecolor\":\"white\",\"ticks\":\"\"}},\"title\":{\"x\":0.05},\"xaxis\":{\"automargin\":true,\"gridcolor\":\"white\",\"linecolor\":\"white\",\"ticks\":\"\",\"title\":{\"standoff\":15},\"zerolinecolor\":\"white\",\"zerolinewidth\":2},\"yaxis\":{\"automargin\":true,\"gridcolor\":\"white\",\"linecolor\":\"white\",\"ticks\":\"\",\"title\":{\"standoff\":15},\"zerolinecolor\":\"white\",\"zerolinewidth\":2}}},\"xaxis\":{\"anchor\":\"y\",\"domain\":[0.0,0.15],\"title\":{},\"showgrid\":true,\"tickangle\":0},\"yaxis\":{\"anchor\":\"x\",\"domain\":[0.0,0.46499999999999997],\"title\":{\"text\":\"Hogares(%)\",\"font\":{\"size\":10},\"standoff\":8}},\"xaxis2\":{\"anchor\":\"y2\",\"domain\":[0.16999999999999998,0.31999999999999995],\"matches\":\"x\",\"title\":{},\"showgrid\":true,\"tickangle\":0},\"yaxis2\":{\"anchor\":\"x2\",\"domain\":[0.0,0.46499999999999997],\"matches\":\"y\",\"showticklabels\":false,\"title\":{\"font\":{\"size\":10},\"standoff\":8}},\"xaxis3\":{\"anchor\":\"y3\",\"domain\":[0.33999999999999997,0.49],\"matches\":\"x\",\"title\":{},\"showgrid\":true,\"tickangle\":0},\"yaxis3\":{\"anchor\":\"x3\",\"domain\":[0.0,0.46499999999999997],\"matches\":\"y\",\"showticklabels\":false,\"title\":{\"font\":{\"size\":10},\"standoff\":8}},\"xaxis4\":{\"anchor\":\"y4\",\"domain\":[0.51,0.66],\"matches\":\"x\",\"title\":{},\"showgrid\":true,\"tickangle\":0},\"yaxis4\":{\"anchor\":\"x4\",\"domain\":[0.0,0.46499999999999997],\"matches\":\"y\",\"showticklabels\":false,\"title\":{\"font\":{\"size\":10},\"standoff\":8}},\"xaxis5\":{\"anchor\":\"y5\",\"domain\":[0.6799999999999999,0.83],\"matches\":\"x\",\"title\":{},\"showgrid\":true,\"tickangle\":0},\"yaxis5\":{\"anchor\":\"x5\",\"domain\":[0.0,0.46499999999999997],\"matches\":\"y\",\"showticklabels\":false,\"title\":{\"font\":{\"size\":10},\"standoff\":8}},\"xaxis6\":{\"anchor\":\"y6\",\"domain\":[0.85,1.0],\"matches\":\"x\",\"title\":{},\"showgrid\":true,\"tickangle\":0},\"yaxis6\":{\"anchor\":\"x6\",\"domain\":[0.0,0.46499999999999997],\"matches\":\"y\",\"showticklabels\":false,\"title\":{\"font\":{\"size\":10},\"standoff\":8}},\"xaxis7\":{\"anchor\":\"y7\",\"domain\":[0.0,0.15],\"matches\":\"x\",\"showticklabels\":false,\"title\":{},\"showgrid\":true,\"tickangle\":0},\"yaxis7\":{\"anchor\":\"x7\",\"domain\":[0.5349999999999999,0.9999999999999999],\"matches\":\"y\",\"title\":{\"text\":\"Hogares(%)\",\"font\":{\"size\":10},\"standoff\":8}},\"xaxis8\":{\"anchor\":\"y8\",\"domain\":[0.16999999999999998,0.31999999999999995],\"matches\":\"x\",\"showticklabels\":false,\"title\":{},\"showgrid\":true,\"tickangle\":0},\"yaxis8\":{\"anchor\":\"x8\",\"domain\":[0.5349999999999999,0.9999999999999999],\"matches\":\"y\",\"showticklabels\":false,\"title\":{\"font\":{\"size\":10},\"standoff\":8}},\"xaxis9\":{\"anchor\":\"y9\",\"domain\":[0.33999999999999997,0.49],\"matches\":\"x\",\"showticklabels\":false,\"title\":{},\"showgrid\":true,\"tickangle\":0},\"yaxis9\":{\"anchor\":\"x9\",\"domain\":[0.5349999999999999,0.9999999999999999],\"matches\":\"y\",\"showticklabels\":false,\"title\":{\"font\":{\"size\":10},\"standoff\":8}},\"xaxis10\":{\"anchor\":\"y10\",\"domain\":[0.51,0.66],\"matches\":\"x\",\"showticklabels\":false,\"title\":{},\"showgrid\":true,\"tickangle\":0},\"yaxis10\":{\"anchor\":\"x10\",\"domain\":[0.5349999999999999,0.9999999999999999],\"matches\":\"y\",\"showticklabels\":false,\"title\":{\"font\":{\"size\":10},\"standoff\":8}},\"xaxis11\":{\"anchor\":\"y11\",\"domain\":[0.6799999999999999,0.83],\"matches\":\"x\",\"showticklabels\":false,\"title\":{},\"showgrid\":true,\"tickangle\":0},\"yaxis11\":{\"anchor\":\"x11\",\"domain\":[0.5349999999999999,0.9999999999999999],\"matches\":\"y\",\"showticklabels\":false,\"title\":{\"font\":{\"size\":10},\"standoff\":8}},\"xaxis12\":{\"anchor\":\"y12\",\"domain\":[0.85,1.0],\"matches\":\"x\",\"showticklabels\":false,\"title\":{},\"showgrid\":true,\"tickangle\":0},\"yaxis12\":{\"anchor\":\"x12\",\"domain\":[0.5349999999999999,0.9999999999999999],\"matches\":\"y\",\"showticklabels\":false,\"title\":{\"font\":{\"size\":10},\"standoff\":8}},\"annotations\":[{\"font\":{},\"showarrow\":false,\"text\":\"2003\",\"x\":0.075,\"xanchor\":\"center\",\"xref\":\"paper\",\"y\":0.46499999999999997,\"yanchor\":\"bottom\",\"yref\":\"paper\"},{\"font\":{},\"showarrow\":false,\"text\":\"2009\",\"x\":0.24499999999999997,\"xanchor\":\"center\",\"xref\":\"paper\",\"y\":0.46499999999999997,\"yanchor\":\"bottom\",\"yref\":\"paper\"},{\"font\":{},\"showarrow\":false,\"text\":\"2013\",\"x\":0.415,\"xanchor\":\"center\",\"xref\":\"paper\",\"y\":0.46499999999999997,\"yanchor\":\"bottom\",\"yref\":\"paper\"},{\"font\":{},\"showarrow\":false,\"text\":\"2015\",\"x\":0.585,\"xanchor\":\"center\",\"xref\":\"paper\",\"y\":0.46499999999999997,\"yanchor\":\"bottom\",\"yref\":\"paper\"},{\"font\":{},\"showarrow\":false,\"text\":\"2017\",\"x\":0.7549999999999999,\"xanchor\":\"center\",\"xref\":\"paper\",\"y\":0.46499999999999997,\"yanchor\":\"bottom\",\"yref\":\"paper\"},{\"font\":{},\"showarrow\":false,\"text\":\"2020\",\"x\":0.925,\"xanchor\":\"center\",\"xref\":\"paper\",\"y\":0.46499999999999997,\"yanchor\":\"bottom\",\"yref\":\"paper\"},{\"font\":{},\"showarrow\":false,\"text\":\"1990\",\"x\":0.075,\"xanchor\":\"center\",\"xref\":\"paper\",\"y\":0.9999999999999999,\"yanchor\":\"bottom\",\"yref\":\"paper\"},{\"font\":{},\"showarrow\":false,\"text\":\"1992\",\"x\":0.24499999999999997,\"xanchor\":\"center\",\"xref\":\"paper\",\"y\":0.9999999999999999,\"yanchor\":\"bottom\",\"yref\":\"paper\"},{\"font\":{},\"showarrow\":false,\"text\":\"1994\",\"x\":0.415,\"xanchor\":\"center\",\"xref\":\"paper\",\"y\":0.9999999999999999,\"yanchor\":\"bottom\",\"yref\":\"paper\"},{\"font\":{},\"showarrow\":false,\"text\":\"1996\",\"x\":0.585,\"xanchor\":\"center\",\"xref\":\"paper\",\"y\":0.9999999999999999,\"yanchor\":\"bottom\",\"yref\":\"paper\"},{\"font\":{},\"showarrow\":false,\"text\":\"1998\",\"x\":0.7549999999999999,\"xanchor\":\"center\",\"xref\":\"paper\",\"y\":0.9999999999999999,\"yanchor\":\"bottom\",\"yref\":\"paper\"},{\"font\":{},\"showarrow\":false,\"text\":\"2000\",\"x\":0.925,\"xanchor\":\"center\",\"xref\":\"paper\",\"y\":0.9999999999999999,\"yanchor\":\"bottom\",\"yref\":\"paper\"}],\"legend\":{\"title\":{\"text\":\"<b>Presencia de <br>menores</b>\"},\"tracegroupgap\":0,\"orientation\":\"h\",\"y\":1.2,\"yanchor\":\"bottom\",\"x\":0.2,\"xanchor\":\"center\"},\"margin\":{\"t\":40,\"l\":20,\"r\":20,\"b\":20},\"barmode\":\"group\",\"height\":600},                        {\"responsive\": true}                    ).then(function(){\n                            \nvar gd = document.getElementById('6843d88c-cbbb-472e-995d-1dc7244214a2');\nvar x = new MutationObserver(function (mutations, observer) {{\n        var display = window.getComputedStyle(gd).display;\n        if (!display || display === 'none') {{\n            console.log([gd, 'removed!']);\n            Plotly.purge(gd);\n            observer.disconnect();\n        }}\n}});\n\n// Listen for the removal of the full notebook cells\nvar notebookContainer = gd.closest('#notebook-container');\nif (notebookContainer) {{\n    x.observe(notebookContainer, {childList: true});\n}}\n\n// Listen for the clearing of the current output cell\nvar outputEl = gd.closest('.output');\nif (outputEl) {{\n    x.observe(outputEl, {childList: true});\n}}\n\n                        })                };                });            </script>        </div>"
     },
     "metadata": {},
     "output_type": "display_data"
    }
   ],
   "source": [
    "fig = px.bar(df01.loc[df01.tipo_est == 'proporcion'],\n",
    "             x =  'sexo_jefatura' ,\n",
    "             y = 'dato', facet_col= 'anio',\n",
    "             color = 'menor_18',\n",
    "             facet_col_wrap=6,\n",
    "             labels = {\n",
    "                 'menor_18': '<b>Presencia de <br>menores</b>',\n",
    "                 'dato': 'Hogares(%)',\n",
    "                 # 'pobreza': None\n",
    "                 # 'anio': 'Periodo'\n",
    "             },\n",
    "             error_y_minus='ic_bajo',\n",
    "             error_y='ic_alto',\n",
    "             # error_y={\n",
    "             #     \"type\": \"data\",\n",
    "             #     \"symmetric\": False,\n",
    "             #     \"array\": 'ic_alto',\n",
    "             #     \"arrayminus\": 'ic_bajo',\n",
    "             #     \"color\": 'black',\n",
    "             #     \"thickness\":3,\n",
    "             #     \"width\":2\n",
    "             # },\n",
    "             # category_orders={\n",
    "             #     'pobreza': ['no pobre','pobre no extremo', 'pobre extremo']\n",
    "             # },\n",
    "\n",
    "             color_discrete_map={\n",
    "                 'sin menores': '#2471A3',\n",
    "                 'con menores': '#E67E22'\n",
    "             },\n",
    "             text ='dato'\n",
    "\n",
    "\n",
    "             )\n",
    "fig.for_each_annotation(lambda a: a.update(text=a.text.split('=')[-1]),\n",
    "                        # x=0.2, xref='x domain',\n",
    "                        # y=0.8, yref='y domain'\n",
    "                        )\n",
    "fig.update_layout(template='plotly',\n",
    "                  # title ='<b>Evolución de la distribución de hogares con y sin menores de 18 años, según situación de '\n",
    "                  #        'pobreza</b>',\n",
    "                  height=600,\n",
    "                  # width=1100\n",
    "                  margin=\n",
    "                  dict(\n",
    "                      l=20,\n",
    "                      r=20,\n",
    "                      b=20,\n",
    "                      t=20\n",
    "                  ),\n",
    "                  barmode='group',\n",
    "                  legend=dict(\n",
    "                      # title=None,\n",
    "                      orientation='h', y=1.02, yanchor='bottom', x=0.2, xanchor='center'\n",
    "                  )\n",
    "                  )\n",
    "fig.update_xaxes(title=None,\n",
    "                 showgrid=True,\n",
    "                 tickangle=0,\n",
    "\n",
    "\n",
    "                 )\n",
    "fig.update_yaxes(\n",
    "    title_font_size = 10,\n",
    "    title_standoff = 8\n",
    ")\n",
    "fig.write_image('resultados/img/02_01_px.jpeg')\n",
    "\n",
    "fig.show()"
   ],
   "metadata": {
    "collapsed": false,
    "pycharm": {
     "name": "#%%\n"
    }
   }
  },
  {
   "cell_type": "code",
   "execution_count": 21,
   "outputs": [
    {
     "data": {
      "application/vnd.plotly.v1+json": {
       "data": [
        {
         "error_y": {
          "array": [
           0.0254664302579511,
           0.0398897217004505,
           0.0656023847474988,
           0.0989079202494778,
           0.1102277875880345,
           0.0264136872081937,
           0.0417314666542142,
           0.0685772913743309,
           0.0981969858104991,
           0.1141167333836769,
           0.0313483547681177,
           0.0463612808314301,
           0.0765134313489855,
           0.0955638051040104,
           0.1121839577723362,
           0.0306795040577545,
           0.0450215118307093,
           0.0726844310082219,
           0.089074321479675,
           0.1150216006524153,
           0.0340677852108658,
           0.0440335828230623,
           0.0734469598490742,
           0.0899071273003676,
           0.1179726592587239,
           0.0289195646242407,
           0.0447980497337526,
           0.07552458925531,
           0.0995912476177523,
           0.1209154985942924,
           0.040548775713546,
           0.0499183762564152,
           0.077328630108842,
           0.0983473504761969,
           0.1244942891669122,
           0.068759010727875,
           0.0668512307013564,
           0.084102782575411,
           0.1050694407715616,
           0.1344630306829265,
           0.0752244733228246,
           0.0812787760883181,
           0.098670244536638,
           0.1267223044982548,
           0.150761556129407,
           0.082201416521176,
           0.0818910786744967,
           0.1006942030836446,
           0.1274929863937504,
           0.1516942356513292,
           0.0910932156672561,
           0.0945106513804184,
           0.1097009479848511,
           0.1352510353323954,
           0.1560637327999761,
           0.108191262628139,
           0.0922478256762149,
           0.1133750309631891,
           0.1324795818890743,
           0.1494448831169161
          ],
          "arrayminus": [
           0.0210486544359143,
           0.0343215916341863,
           0.0584267495949924,
           0.0898199728472595,
           0.1001963538505415,
           0.0226170524717041,
           0.0367261610333272,
           0.0621279785570169,
           0.0900648893240059,
           0.1051991245401832,
           0.0270922407691351,
           0.0412999745032925,
           0.069602002811115,
           0.0876221075277489,
           0.1031086541455237,
           0.0248489958117284,
           0.0389945940444934,
           0.0645072254884982,
           0.079026686776405,
           0.1018310588602803,
           0.029575441879396,
           0.0391685540275188,
           0.0670257755006906,
           0.0818942803950166,
           0.1075521178203042,
           0.0249875787338855,
           0.0398616231562948,
           0.0665486994714577,
           0.0906088720498307,
           0.1090102942892946,
           0.0364193769468331,
           0.0444300869861972,
           0.0707061075015326,
           0.0903087833713002,
           0.1138242102464373,
           0.0634759699635841,
           0.0613126576646828,
           0.0775683753657014,
           0.0971223855981957,
           0.1217079004047251,
           0.0686496383632931,
           0.0727707452278624,
           0.0909521664687192,
           0.1161477530411661,
           0.1355730021101613,
           0.076510309348085,
           0.0760981848280538,
           0.0944676966296586,
           0.1195012116484846,
           0.1368846360032766,
           0.0850674230588415,
           0.0882597504301584,
           0.1027056661905474,
           0.1271178179441207,
           0.1414600142856403,
           0.1014711496947634,
           0.0860238235824291,
           0.1061958875000211,
           0.1245967594586316,
           0.1377236931399476
          ],
          "color": "black",
          "symmetric": false,
          "thickness": 3,
          "type": "data",
          "width": 6
         },
         "name": "sin menores",
         "x": [
          [
           1990,
           1990,
           1990,
           1990,
           1990,
           1992,
           1992,
           1992,
           1992,
           1992,
           1994,
           1994,
           1994,
           1994,
           1994,
           1996,
           1996,
           1996,
           1996,
           1996,
           1998,
           1998,
           1998,
           1998,
           1998,
           2000,
           2000,
           2000,
           2000,
           2000,
           2003,
           2003,
           2003,
           2003,
           2003,
           2009,
           2009,
           2009,
           2009,
           2009,
           2013,
           2013,
           2013,
           2013,
           2013,
           2015,
           2015,
           2015,
           2015,
           2015,
           2017,
           2017,
           2017,
           2017,
           2017,
           2020,
           2020,
           2020,
           2020,
           2020
          ],
          [
           "I",
           "II",
           "III",
           "IV",
           "V",
           "I",
           "II",
           "III",
           "IV",
           "V",
           "I",
           "II",
           "III",
           "IV",
           "V",
           "I",
           "II",
           "III",
           "IV",
           "V",
           "I",
           "II",
           "III",
           "IV",
           "V",
           "I",
           "II",
           "III",
           "IV",
           "V",
           "I",
           "II",
           "III",
           "IV",
           "V",
           "I",
           "II",
           "III",
           "IV",
           "V",
           "I",
           "II",
           "III",
           "IV",
           "V",
           "I",
           "II",
           "III",
           "IV",
           "V",
           "I",
           "II",
           "III",
           "IV",
           "V",
           "I",
           "II",
           "III",
           "IV",
           "V"
          ]
         ],
         "y": [
          2.3,
          3.7,
          6.2,
          9.4,
          10.5,
          2.4,
          3.9,
          6.5,
          9.4,
          11.0,
          2.9,
          4.4,
          7.3,
          9.2,
          10.8,
          2.8,
          4.2,
          6.8,
          8.4,
          10.8,
          3.2,
          4.2,
          7.0,
          8.6,
          11.3,
          2.7,
          4.2,
          7.1,
          9.5,
          11.5,
          3.8,
          4.7,
          7.4,
          9.4,
          11.9,
          6.6,
          6.4,
          8.1,
          10.1,
          12.8,
          7.2,
          7.7,
          9.5,
          12.1,
          14.3,
          7.9,
          7.9,
          9.8,
          12.3,
          14.4,
          8.8,
          9.1,
          10.6,
          13.1,
          14.9,
          10.5,
          8.9,
          11.0,
          12.8,
          14.3
         ],
         "type": "bar"
        },
        {
         "error_y": {
          "array": [
           0.1824991045889202,
           0.1686355201376823,
           0.1434569348688665,
           0.1106215480739723,
           0.0998071883121885,
           0.1804723494044122,
           0.1657300663677163,
           0.1394119362462815,
           0.1104632877058131,
           0.094647515569095,
           0.175947217795708,
           0.1603498733261814,
           0.1317575110678676,
           0.1131116459605291,
           0.0969211603078567,
           0.1787617784789126,
           0.1644958897270633,
           0.1379032921442407,
           0.1224950791958709,
           0.0981204876069837,
           0.172901305367659,
           0.1635939790717231,
           0.1345140818529153,
           0.1190076297697043,
           0.0920523952736457,
           0.1782468837336384,
           0.1626524246601794,
           0.1365202240113507,
           0.1106287649591375,
           0.0907170435206304,
           0.1662459722099999,
           0.1585063568109906,
           0.1307123542787041,
           0.111392075078053,
           0.0855375146091168,
           0.1378670375981075,
           0.1403023366481425,
           0.1235033597831355,
           0.1030766609616716,
           0.0767045929584477,
           0.1309418894647408,
           0.1315038726142916,
           0.1103626909323105,
           0.0834242617086739,
           0.0618257042904989,
           0.1245995034096216,
           0.1247935720797888,
           0.1061228668421246,
           0.0799854328606201,
           0.0597737888871655,
           0.1105547667370046,
           0.1186219120989128,
           0.0982118067645717,
           0.0720769814914028,
           0.0558325643885192,
           0.0988614063842149,
           0.1149960258099734,
           0.1045532745069164,
           0.0721432146796897,
           0.0600482105920198
          ],
          "arrayminus": [
           0.1712760709648961,
           0.1575511561502573,
           0.1328773468274977,
           0.1010464458004232,
           0.0901991691055621,
           0.1708149466666924,
           0.1560074138760284,
           0.130115290144499,
           0.1016513411366882,
           0.0863667029284008,
           0.1666860979857454,
           0.1510818665794306,
           0.1227083673237962,
           0.1041286033685575,
           0.0880782066269598,
           0.1661842554408693,
           0.1518957572756472,
           0.1254131151451416,
           0.1098562216254596,
           0.0858455439926374,
           0.1633582863436504,
           0.1538446334212883,
           0.1252520849628728,
           0.1096012345944787,
           0.0827957642038154,
           0.1682621450988433,
           0.1526129450777563,
           0.1220064981720949,
           0.0997560964731611,
           0.0799747638448703,
           0.1564508054822457,
           0.1480076034176929,
           0.1215248664933396,
           0.1013379964848129,
           0.0756125894296333,
           0.1300885619620287,
           0.1318207397037006,
           0.1153439464516307,
           0.0946905074551999,
           0.0676569366676103,
           0.1206702431015001,
           0.119765804490191,
           0.1003105854097048,
           0.0741643787783605,
           0.052539280795103,
           0.1168726729431223,
           0.1174496086881509,
           0.0988287487653737,
           0.0733276177266133,
           0.0522076808815931,
           0.1023817943455677,
           0.1106647082499345,
           0.0888622331179671,
           0.0652160057028513,
           0.0479512901453057,
           0.0917104748153129,
           0.1072766069073293,
           0.0830187179495503,
           0.0652727839331801,
           0.0527023426735293
          ],
          "color": "black",
          "symmetric": false,
          "thickness": 3,
          "type": "data",
          "width": 6
         },
         "name": "con menores",
         "x": [
          [
           1990,
           1990,
           1990,
           1990,
           1990,
           1992,
           1992,
           1992,
           1992,
           1992,
           1994,
           1994,
           1994,
           1994,
           1994,
           1996,
           1996,
           1996,
           1996,
           1996,
           1998,
           1998,
           1998,
           1998,
           1998,
           2000,
           2000,
           2000,
           2000,
           2000,
           2003,
           2003,
           2003,
           2003,
           2003,
           2009,
           2009,
           2009,
           2009,
           2009,
           2013,
           2013,
           2013,
           2013,
           2013,
           2015,
           2015,
           2015,
           2015,
           2015,
           2017,
           2017,
           2017,
           2017,
           2017,
           2020,
           2020,
           2020,
           2020,
           2020
          ],
          [
           "I",
           "II",
           "III",
           "IV",
           "V",
           "I",
           "II",
           "III",
           "IV",
           "V",
           "I",
           "II",
           "III",
           "IV",
           "V",
           "I",
           "II",
           "III",
           "IV",
           "V",
           "I",
           "II",
           "III",
           "IV",
           "V",
           "I",
           "II",
           "III",
           "IV",
           "V",
           "I",
           "II",
           "III",
           "IV",
           "V",
           "I",
           "II",
           "III",
           "IV",
           "V",
           "I",
           "II",
           "III",
           "IV",
           "V",
           "I",
           "II",
           "III",
           "IV",
           "V",
           "I",
           "II",
           "III",
           "IV",
           "V",
           "I",
           "II",
           "III",
           "IV",
           "V"
          ]
         ],
         "y": [
          17.7,
          16.3,
          13.8,
          10.6,
          9.5,
          17.6,
          16.1,
          13.5,
          10.6,
          9.0,
          17.1,
          15.6,
          12.7,
          10.9,
          9.2,
          17.2,
          15.8,
          13.2,
          11.6,
          9.2,
          16.8,
          15.9,
          13.0,
          11.4,
          8.7,
          17.3,
          15.8,
          12.9,
          10.5,
          8.5,
          16.1,
          15.3,
          12.6,
          10.6,
          8.0,
          13.4,
          13.6,
          11.9,
          9.9,
          7.2,
          12.6,
          12.6,
          10.5,
          7.9,
          5.7,
          12.1,
          12.1,
          10.2,
          7.7,
          5.6,
          10.6,
          11.5,
          9.3,
          6.9,
          5.2,
          9.5,
          11.1,
          9.3,
          6.9,
          5.6
         ],
         "type": "bar"
        }
       ],
       "layout": {
        "template": {
         "data": {
          "scatter": [
           {
            "type": "scatter"
           }
          ]
         }
        },
        "barmode": "group",
        "yaxis": {
         "title": {
          "text": "Total hogares (%)"
         }
        },
        "title": {
         "text": "<b>Distribución de hogares con y sin presencia de personas menores de 18 años,<br>según quintiles de ingreso"
        }
       },
       "config": {
        "plotlyServerURL": "https://plot.ly"
       }
      },
      "text/html": "<div>                            <div id=\"6d3bc077-2f8c-49ab-8ae7-379e594cb7db\" class=\"plotly-graph-div\" style=\"height:525px; width:100%;\"></div>            <script type=\"text/javascript\">                require([\"plotly\"], function(Plotly) {                    window.PLOTLYENV=window.PLOTLYENV || {};                                    if (document.getElementById(\"6d3bc077-2f8c-49ab-8ae7-379e594cb7db\")) {                    Plotly.newPlot(                        \"6d3bc077-2f8c-49ab-8ae7-379e594cb7db\",                        [{\"error_y\":{\"array\":[0.0254664302579511,0.0398897217004505,0.0656023847474988,0.0989079202494778,0.1102277875880345,0.0264136872081937,0.0417314666542142,0.0685772913743309,0.0981969858104991,0.1141167333836769,0.0313483547681177,0.0463612808314301,0.0765134313489855,0.0955638051040104,0.1121839577723362,0.0306795040577545,0.0450215118307093,0.0726844310082219,0.089074321479675,0.1150216006524153,0.0340677852108658,0.0440335828230623,0.0734469598490742,0.0899071273003676,0.1179726592587239,0.0289195646242407,0.0447980497337526,0.07552458925531,0.0995912476177523,0.1209154985942924,0.040548775713546,0.0499183762564152,0.077328630108842,0.0983473504761969,0.1244942891669122,0.068759010727875,0.0668512307013564,0.084102782575411,0.1050694407715616,0.1344630306829265,0.0752244733228246,0.0812787760883181,0.098670244536638,0.1267223044982548,0.150761556129407,0.082201416521176,0.0818910786744967,0.1006942030836446,0.1274929863937504,0.1516942356513292,0.0910932156672561,0.0945106513804184,0.1097009479848511,0.1352510353323954,0.1560637327999761,0.108191262628139,0.0922478256762149,0.1133750309631891,0.1324795818890743,0.1494448831169161],\"arrayminus\":[0.0210486544359143,0.0343215916341863,0.0584267495949924,0.0898199728472595,0.1001963538505415,0.0226170524717041,0.0367261610333272,0.0621279785570169,0.0900648893240059,0.1051991245401832,0.0270922407691351,0.0412999745032925,0.069602002811115,0.0876221075277489,0.1031086541455237,0.0248489958117284,0.0389945940444934,0.0645072254884982,0.079026686776405,0.1018310588602803,0.029575441879396,0.0391685540275188,0.0670257755006906,0.0818942803950166,0.1075521178203042,0.0249875787338855,0.0398616231562948,0.0665486994714577,0.0906088720498307,0.1090102942892946,0.0364193769468331,0.0444300869861972,0.0707061075015326,0.0903087833713002,0.1138242102464373,0.0634759699635841,0.0613126576646828,0.0775683753657014,0.0971223855981957,0.1217079004047251,0.0686496383632931,0.0727707452278624,0.0909521664687192,0.1161477530411661,0.1355730021101613,0.076510309348085,0.0760981848280538,0.0944676966296586,0.1195012116484846,0.1368846360032766,0.0850674230588415,0.0882597504301584,0.1027056661905474,0.1271178179441207,0.1414600142856403,0.1014711496947634,0.0860238235824291,0.1061958875000211,0.1245967594586316,0.1377236931399476],\"color\":\"black\",\"symmetric\":false,\"thickness\":3,\"type\":\"data\",\"width\":6},\"name\":\"sin menores\",\"x\":[[1990,1990,1990,1990,1990,1992,1992,1992,1992,1992,1994,1994,1994,1994,1994,1996,1996,1996,1996,1996,1998,1998,1998,1998,1998,2000,2000,2000,2000,2000,2003,2003,2003,2003,2003,2009,2009,2009,2009,2009,2013,2013,2013,2013,2013,2015,2015,2015,2015,2015,2017,2017,2017,2017,2017,2020,2020,2020,2020,2020],[\"I\",\"II\",\"III\",\"IV\",\"V\",\"I\",\"II\",\"III\",\"IV\",\"V\",\"I\",\"II\",\"III\",\"IV\",\"V\",\"I\",\"II\",\"III\",\"IV\",\"V\",\"I\",\"II\",\"III\",\"IV\",\"V\",\"I\",\"II\",\"III\",\"IV\",\"V\",\"I\",\"II\",\"III\",\"IV\",\"V\",\"I\",\"II\",\"III\",\"IV\",\"V\",\"I\",\"II\",\"III\",\"IV\",\"V\",\"I\",\"II\",\"III\",\"IV\",\"V\",\"I\",\"II\",\"III\",\"IV\",\"V\",\"I\",\"II\",\"III\",\"IV\",\"V\"]],\"y\":[2.3,3.7,6.2,9.4,10.5,2.4,3.9,6.5,9.4,11.0,2.9,4.4,7.3,9.2,10.8,2.8,4.2,6.8,8.4,10.8,3.2,4.2,7.0,8.6,11.3,2.7,4.2,7.1,9.5,11.5,3.8,4.7,7.4,9.4,11.9,6.6,6.4,8.1,10.1,12.8,7.2,7.7,9.5,12.1,14.3,7.9,7.9,9.8,12.3,14.4,8.8,9.1,10.6,13.1,14.9,10.5,8.9,11.0,12.8,14.3],\"type\":\"bar\"},{\"error_y\":{\"array\":[0.1824991045889202,0.1686355201376823,0.1434569348688665,0.1106215480739723,0.0998071883121885,0.1804723494044122,0.1657300663677163,0.1394119362462815,0.1104632877058131,0.094647515569095,0.175947217795708,0.1603498733261814,0.1317575110678676,0.1131116459605291,0.0969211603078567,0.1787617784789126,0.1644958897270633,0.1379032921442407,0.1224950791958709,0.0981204876069837,0.172901305367659,0.1635939790717231,0.1345140818529153,0.1190076297697043,0.0920523952736457,0.1782468837336384,0.1626524246601794,0.1365202240113507,0.1106287649591375,0.0907170435206304,0.1662459722099999,0.1585063568109906,0.1307123542787041,0.111392075078053,0.0855375146091168,0.1378670375981075,0.1403023366481425,0.1235033597831355,0.1030766609616716,0.0767045929584477,0.1309418894647408,0.1315038726142916,0.1103626909323105,0.0834242617086739,0.0618257042904989,0.1245995034096216,0.1247935720797888,0.1061228668421246,0.0799854328606201,0.0597737888871655,0.1105547667370046,0.1186219120989128,0.0982118067645717,0.0720769814914028,0.0558325643885192,0.0988614063842149,0.1149960258099734,0.1045532745069164,0.0721432146796897,0.0600482105920198],\"arrayminus\":[0.1712760709648961,0.1575511561502573,0.1328773468274977,0.1010464458004232,0.0901991691055621,0.1708149466666924,0.1560074138760284,0.130115290144499,0.1016513411366882,0.0863667029284008,0.1666860979857454,0.1510818665794306,0.1227083673237962,0.1041286033685575,0.0880782066269598,0.1661842554408693,0.1518957572756472,0.1254131151451416,0.1098562216254596,0.0858455439926374,0.1633582863436504,0.1538446334212883,0.1252520849628728,0.1096012345944787,0.0827957642038154,0.1682621450988433,0.1526129450777563,0.1220064981720949,0.0997560964731611,0.0799747638448703,0.1564508054822457,0.1480076034176929,0.1215248664933396,0.1013379964848129,0.0756125894296333,0.1300885619620287,0.1318207397037006,0.1153439464516307,0.0946905074551999,0.0676569366676103,0.1206702431015001,0.119765804490191,0.1003105854097048,0.0741643787783605,0.052539280795103,0.1168726729431223,0.1174496086881509,0.0988287487653737,0.0733276177266133,0.0522076808815931,0.1023817943455677,0.1106647082499345,0.0888622331179671,0.0652160057028513,0.0479512901453057,0.0917104748153129,0.1072766069073293,0.0830187179495503,0.0652727839331801,0.0527023426735293],\"color\":\"black\",\"symmetric\":false,\"thickness\":3,\"type\":\"data\",\"width\":6},\"name\":\"con menores\",\"x\":[[1990,1990,1990,1990,1990,1992,1992,1992,1992,1992,1994,1994,1994,1994,1994,1996,1996,1996,1996,1996,1998,1998,1998,1998,1998,2000,2000,2000,2000,2000,2003,2003,2003,2003,2003,2009,2009,2009,2009,2009,2013,2013,2013,2013,2013,2015,2015,2015,2015,2015,2017,2017,2017,2017,2017,2020,2020,2020,2020,2020],[\"I\",\"II\",\"III\",\"IV\",\"V\",\"I\",\"II\",\"III\",\"IV\",\"V\",\"I\",\"II\",\"III\",\"IV\",\"V\",\"I\",\"II\",\"III\",\"IV\",\"V\",\"I\",\"II\",\"III\",\"IV\",\"V\",\"I\",\"II\",\"III\",\"IV\",\"V\",\"I\",\"II\",\"III\",\"IV\",\"V\",\"I\",\"II\",\"III\",\"IV\",\"V\",\"I\",\"II\",\"III\",\"IV\",\"V\",\"I\",\"II\",\"III\",\"IV\",\"V\",\"I\",\"II\",\"III\",\"IV\",\"V\",\"I\",\"II\",\"III\",\"IV\",\"V\"]],\"y\":[17.7,16.3,13.8,10.6,9.5,17.6,16.1,13.5,10.6,9.0,17.1,15.6,12.7,10.9,9.2,17.2,15.8,13.2,11.6,9.2,16.8,15.9,13.0,11.4,8.7,17.3,15.8,12.9,10.5,8.5,16.1,15.3,12.6,10.6,8.0,13.4,13.6,11.9,9.9,7.2,12.6,12.6,10.5,7.9,5.7,12.1,12.1,10.2,7.7,5.6,10.6,11.5,9.3,6.9,5.2,9.5,11.1,9.3,6.9,5.6],\"type\":\"bar\"}],                        {\"template\":{\"data\":{\"scatter\":[{\"type\":\"scatter\"}]}},\"barmode\":\"group\",\"yaxis\":{\"title\":{\"text\":\"Total hogares (%)\"}},\"title\":{\"text\":\"<b>Distribuci\\u00f3n de hogares con y sin presencia de personas menores de 18 a\\u00f1os,<br>seg\\u00fan quintiles de ingreso\"}},                        {\"responsive\": true}                    ).then(function(){\n                            \nvar gd = document.getElementById('6d3bc077-2f8c-49ab-8ae7-379e594cb7db');\nvar x = new MutationObserver(function (mutations, observer) {{\n        var display = window.getComputedStyle(gd).display;\n        if (!display || display === 'none') {{\n            console.log([gd, 'removed!']);\n            Plotly.purge(gd);\n            observer.disconnect();\n        }}\n}});\n\n// Listen for the removal of the full notebook cells\nvar notebookContainer = gd.closest('#notebook-container');\nif (notebookContainer) {{\n    x.observe(notebookContainer, {childList: true});\n}}\n\n// Listen for the clearing of the current output cell\nvar outputEl = gd.closest('.output');\nif (outputEl) {{\n    x.observe(outputEl, {childList: true});\n}}\n\n                        })                };                });            </script>        </div>"
     },
     "metadata": {},
     "output_type": "display_data"
    }
   ],
   "source": [
    "df02 = pd.read_csv(rutas[1])\n",
    "# df02 = cambio_cat_estimacion(df02)\n",
    "grafico_agrupado_2x(\n",
    "    data=df02,\n",
    "    var_estimacion='tipo_est',\n",
    "    valor_estimacion='proporcion',\n",
    "    var_y='dato',\n",
    "    var_trazas='menor_18',\n",
    "    vars_x=['anio', 'quintil'],\n",
    "    var_ic_alto='ic_alto',\n",
    "    var_ic_bajo='ic_bajo',\n",
    "    title='<b>Distribución de hogares con y sin presencia de personas menores de 18 años,<br>según '\n",
    "          'quintiles de ingreso',\n",
    "    title_yaxes='Total hogares (%)',\n",
    "    nombre_graf='02_02'\n",
    ")\n",
    "# df02.head(20)"
   ],
   "metadata": {
    "collapsed": false,
    "pycharm": {
     "name": "#%%\n"
    }
   }
  },
  {
   "cell_type": "code",
   "execution_count": 35,
   "outputs": [
    {
     "data": {
      "application/vnd.plotly.v1+json": {
       "data": [
        {
         "alignmentgroup": "True",
         "error_y": {
          "array": [
           0.0254664302579511,
           0.0398897217004505,
           0.0656023847474988,
           0.0989079202494778,
           0.1102277875880345
          ],
          "arrayminus": [
           0.0210486544359143,
           0.0343215916341863,
           0.0584267495949924,
           0.0898199728472595,
           0.1001963538505415
          ]
         },
         "hovertemplate": "<b>Presencia de <br>menores</b>=sin menores<br>anio=1990<br>quintil=%{x}<br>Hogares(%)=%{text}<extra></extra>",
         "legendgroup": "sin menores",
         "marker": {
          "color": "#2471A3",
          "pattern": {
           "shape": ""
          }
         },
         "name": "sin menores",
         "offsetgroup": "sin menores",
         "orientation": "v",
         "showlegend": true,
         "text": [
          2.3,
          3.7,
          6.2,
          9.4,
          10.5
         ],
         "textposition": "auto",
         "x": [
          "I",
          "II",
          "III",
          "IV",
          "V"
         ],
         "xaxis": "x7",
         "y": [
          2.3,
          3.7,
          6.2,
          9.4,
          10.5
         ],
         "yaxis": "y7",
         "type": "bar"
        },
        {
         "alignmentgroup": "True",
         "error_y": {
          "array": [
           0.0264136872081937,
           0.0417314666542142,
           0.0685772913743309,
           0.0981969858104991,
           0.1141167333836769
          ],
          "arrayminus": [
           0.0226170524717041,
           0.0367261610333272,
           0.0621279785570169,
           0.0900648893240059,
           0.1051991245401832
          ]
         },
         "hovertemplate": "<b>Presencia de <br>menores</b>=sin menores<br>anio=1992<br>quintil=%{x}<br>Hogares(%)=%{text}<extra></extra>",
         "legendgroup": "sin menores",
         "marker": {
          "color": "#2471A3",
          "pattern": {
           "shape": ""
          }
         },
         "name": "sin menores",
         "offsetgroup": "sin menores",
         "orientation": "v",
         "showlegend": false,
         "text": [
          2.4,
          3.9,
          6.5,
          9.4,
          11.0
         ],
         "textposition": "auto",
         "x": [
          "I",
          "II",
          "III",
          "IV",
          "V"
         ],
         "xaxis": "x8",
         "y": [
          2.4,
          3.9,
          6.5,
          9.4,
          11.0
         ],
         "yaxis": "y8",
         "type": "bar"
        },
        {
         "alignmentgroup": "True",
         "error_y": {
          "array": [
           0.0313483547681177,
           0.0463612808314301,
           0.0765134313489855,
           0.0955638051040104,
           0.1121839577723362
          ],
          "arrayminus": [
           0.0270922407691351,
           0.0412999745032925,
           0.069602002811115,
           0.0876221075277489,
           0.1031086541455237
          ]
         },
         "hovertemplate": "<b>Presencia de <br>menores</b>=sin menores<br>anio=1994<br>quintil=%{x}<br>Hogares(%)=%{text}<extra></extra>",
         "legendgroup": "sin menores",
         "marker": {
          "color": "#2471A3",
          "pattern": {
           "shape": ""
          }
         },
         "name": "sin menores",
         "offsetgroup": "sin menores",
         "orientation": "v",
         "showlegend": false,
         "text": [
          2.9,
          4.4,
          7.3,
          9.2,
          10.8
         ],
         "textposition": "auto",
         "x": [
          "I",
          "II",
          "III",
          "IV",
          "V"
         ],
         "xaxis": "x9",
         "y": [
          2.9,
          4.4,
          7.3,
          9.2,
          10.8
         ],
         "yaxis": "y9",
         "type": "bar"
        },
        {
         "alignmentgroup": "True",
         "error_y": {
          "array": [
           0.0306795040577545,
           0.0450215118307093,
           0.0726844310082219,
           0.089074321479675,
           0.1150216006524153
          ],
          "arrayminus": [
           0.0248489958117284,
           0.0389945940444934,
           0.0645072254884982,
           0.079026686776405,
           0.1018310588602803
          ]
         },
         "hovertemplate": "<b>Presencia de <br>menores</b>=sin menores<br>anio=1996<br>quintil=%{x}<br>Hogares(%)=%{text}<extra></extra>",
         "legendgroup": "sin menores",
         "marker": {
          "color": "#2471A3",
          "pattern": {
           "shape": ""
          }
         },
         "name": "sin menores",
         "offsetgroup": "sin menores",
         "orientation": "v",
         "showlegend": false,
         "text": [
          2.8,
          4.2,
          6.8,
          8.4,
          10.8
         ],
         "textposition": "auto",
         "x": [
          "I",
          "II",
          "III",
          "IV",
          "V"
         ],
         "xaxis": "x10",
         "y": [
          2.8,
          4.2,
          6.8,
          8.4,
          10.8
         ],
         "yaxis": "y10",
         "type": "bar"
        },
        {
         "alignmentgroup": "True",
         "error_y": {
          "array": [
           0.0340677852108658,
           0.0440335828230623,
           0.0734469598490742,
           0.0899071273003676,
           0.1179726592587239
          ],
          "arrayminus": [
           0.029575441879396,
           0.0391685540275188,
           0.0670257755006906,
           0.0818942803950166,
           0.1075521178203042
          ]
         },
         "hovertemplate": "<b>Presencia de <br>menores</b>=sin menores<br>anio=1998<br>quintil=%{x}<br>Hogares(%)=%{text}<extra></extra>",
         "legendgroup": "sin menores",
         "marker": {
          "color": "#2471A3",
          "pattern": {
           "shape": ""
          }
         },
         "name": "sin menores",
         "offsetgroup": "sin menores",
         "orientation": "v",
         "showlegend": false,
         "text": [
          3.2,
          4.2,
          7.0,
          8.6,
          11.3
         ],
         "textposition": "auto",
         "x": [
          "I",
          "II",
          "III",
          "IV",
          "V"
         ],
         "xaxis": "x11",
         "y": [
          3.2,
          4.2,
          7.0,
          8.6,
          11.3
         ],
         "yaxis": "y11",
         "type": "bar"
        },
        {
         "alignmentgroup": "True",
         "error_y": {
          "array": [
           0.0289195646242407,
           0.0447980497337526,
           0.07552458925531,
           0.0995912476177523,
           0.1209154985942924
          ],
          "arrayminus": [
           0.0249875787338855,
           0.0398616231562948,
           0.0665486994714577,
           0.0906088720498307,
           0.1090102942892946
          ]
         },
         "hovertemplate": "<b>Presencia de <br>menores</b>=sin menores<br>anio=2000<br>quintil=%{x}<br>Hogares(%)=%{text}<extra></extra>",
         "legendgroup": "sin menores",
         "marker": {
          "color": "#2471A3",
          "pattern": {
           "shape": ""
          }
         },
         "name": "sin menores",
         "offsetgroup": "sin menores",
         "orientation": "v",
         "showlegend": false,
         "text": [
          2.7,
          4.2,
          7.1,
          9.5,
          11.5
         ],
         "textposition": "auto",
         "x": [
          "I",
          "II",
          "III",
          "IV",
          "V"
         ],
         "xaxis": "x12",
         "y": [
          2.7,
          4.2,
          7.1,
          9.5,
          11.5
         ],
         "yaxis": "y12",
         "type": "bar"
        },
        {
         "alignmentgroup": "True",
         "error_y": {
          "array": [
           0.040548775713546,
           0.0499183762564152,
           0.077328630108842,
           0.0983473504761969,
           0.1244942891669122
          ],
          "arrayminus": [
           0.0364193769468331,
           0.0444300869861972,
           0.0707061075015326,
           0.0903087833713002,
           0.1138242102464373
          ]
         },
         "hovertemplate": "<b>Presencia de <br>menores</b>=sin menores<br>anio=2003<br>quintil=%{x}<br>Hogares(%)=%{text}<extra></extra>",
         "legendgroup": "sin menores",
         "marker": {
          "color": "#2471A3",
          "pattern": {
           "shape": ""
          }
         },
         "name": "sin menores",
         "offsetgroup": "sin menores",
         "orientation": "v",
         "showlegend": false,
         "text": [
          3.8,
          4.7,
          7.4,
          9.4,
          11.9
         ],
         "textposition": "auto",
         "x": [
          "I",
          "II",
          "III",
          "IV",
          "V"
         ],
         "xaxis": "x",
         "y": [
          3.8,
          4.7,
          7.4,
          9.4,
          11.9
         ],
         "yaxis": "y",
         "type": "bar"
        },
        {
         "alignmentgroup": "True",
         "error_y": {
          "array": [
           0.068759010727875,
           0.0668512307013564,
           0.084102782575411,
           0.1050694407715616,
           0.1344630306829265
          ],
          "arrayminus": [
           0.0634759699635841,
           0.0613126576646828,
           0.0775683753657014,
           0.0971223855981957,
           0.1217079004047251
          ]
         },
         "hovertemplate": "<b>Presencia de <br>menores</b>=sin menores<br>anio=2009<br>quintil=%{x}<br>Hogares(%)=%{text}<extra></extra>",
         "legendgroup": "sin menores",
         "marker": {
          "color": "#2471A3",
          "pattern": {
           "shape": ""
          }
         },
         "name": "sin menores",
         "offsetgroup": "sin menores",
         "orientation": "v",
         "showlegend": false,
         "text": [
          6.6,
          6.4,
          8.1,
          10.1,
          12.8
         ],
         "textposition": "auto",
         "x": [
          "I",
          "II",
          "III",
          "IV",
          "V"
         ],
         "xaxis": "x2",
         "y": [
          6.6,
          6.4,
          8.1,
          10.1,
          12.8
         ],
         "yaxis": "y2",
         "type": "bar"
        },
        {
         "alignmentgroup": "True",
         "error_y": {
          "array": [
           0.0752244733228246,
           0.0812787760883181,
           0.098670244536638,
           0.1267223044982548,
           0.150761556129407
          ],
          "arrayminus": [
           0.0686496383632931,
           0.0727707452278624,
           0.0909521664687192,
           0.1161477530411661,
           0.1355730021101613
          ]
         },
         "hovertemplate": "<b>Presencia de <br>menores</b>=sin menores<br>anio=2013<br>quintil=%{x}<br>Hogares(%)=%{text}<extra></extra>",
         "legendgroup": "sin menores",
         "marker": {
          "color": "#2471A3",
          "pattern": {
           "shape": ""
          }
         },
         "name": "sin menores",
         "offsetgroup": "sin menores",
         "orientation": "v",
         "showlegend": false,
         "text": [
          7.2,
          7.7,
          9.5,
          12.1,
          14.3
         ],
         "textposition": "auto",
         "x": [
          "I",
          "II",
          "III",
          "IV",
          "V"
         ],
         "xaxis": "x3",
         "y": [
          7.2,
          7.7,
          9.5,
          12.1,
          14.3
         ],
         "yaxis": "y3",
         "type": "bar"
        },
        {
         "alignmentgroup": "True",
         "error_y": {
          "array": [
           0.082201416521176,
           0.0818910786744967,
           0.1006942030836446,
           0.1274929863937504,
           0.1516942356513292
          ],
          "arrayminus": [
           0.076510309348085,
           0.0760981848280538,
           0.0944676966296586,
           0.1195012116484846,
           0.1368846360032766
          ]
         },
         "hovertemplate": "<b>Presencia de <br>menores</b>=sin menores<br>anio=2015<br>quintil=%{x}<br>Hogares(%)=%{text}<extra></extra>",
         "legendgroup": "sin menores",
         "marker": {
          "color": "#2471A3",
          "pattern": {
           "shape": ""
          }
         },
         "name": "sin menores",
         "offsetgroup": "sin menores",
         "orientation": "v",
         "showlegend": false,
         "text": [
          7.9,
          7.9,
          9.8,
          12.3,
          14.4
         ],
         "textposition": "auto",
         "x": [
          "I",
          "II",
          "III",
          "IV",
          "V"
         ],
         "xaxis": "x4",
         "y": [
          7.9,
          7.9,
          9.8,
          12.3,
          14.4
         ],
         "yaxis": "y4",
         "type": "bar"
        },
        {
         "alignmentgroup": "True",
         "error_y": {
          "array": [
           0.0910932156672561,
           0.0945106513804184,
           0.1097009479848511,
           0.1352510353323954,
           0.1560637327999761
          ],
          "arrayminus": [
           0.0850674230588415,
           0.0882597504301584,
           0.1027056661905474,
           0.1271178179441207,
           0.1414600142856403
          ]
         },
         "hovertemplate": "<b>Presencia de <br>menores</b>=sin menores<br>anio=2017<br>quintil=%{x}<br>Hogares(%)=%{text}<extra></extra>",
         "legendgroup": "sin menores",
         "marker": {
          "color": "#2471A3",
          "pattern": {
           "shape": ""
          }
         },
         "name": "sin menores",
         "offsetgroup": "sin menores",
         "orientation": "v",
         "showlegend": false,
         "text": [
          8.8,
          9.1,
          10.6,
          13.1,
          14.9
         ],
         "textposition": "auto",
         "x": [
          "I",
          "II",
          "III",
          "IV",
          "V"
         ],
         "xaxis": "x5",
         "y": [
          8.8,
          9.1,
          10.6,
          13.1,
          14.9
         ],
         "yaxis": "y5",
         "type": "bar"
        },
        {
         "alignmentgroup": "True",
         "error_y": {
          "array": [
           0.108191262628139,
           0.0922478256762149,
           0.1133750309631891,
           0.1324795818890743,
           0.1494448831169161
          ],
          "arrayminus": [
           0.1014711496947634,
           0.0860238235824291,
           0.1061958875000211,
           0.1245967594586316,
           0.1377236931399476
          ]
         },
         "hovertemplate": "<b>Presencia de <br>menores</b>=sin menores<br>anio=2020<br>quintil=%{x}<br>Hogares(%)=%{text}<extra></extra>",
         "legendgroup": "sin menores",
         "marker": {
          "color": "#2471A3",
          "pattern": {
           "shape": ""
          }
         },
         "name": "sin menores",
         "offsetgroup": "sin menores",
         "orientation": "v",
         "showlegend": false,
         "text": [
          10.5,
          8.9,
          11.0,
          12.8,
          14.3
         ],
         "textposition": "auto",
         "x": [
          "I",
          "II",
          "III",
          "IV",
          "V"
         ],
         "xaxis": "x6",
         "y": [
          10.5,
          8.9,
          11.0,
          12.8,
          14.3
         ],
         "yaxis": "y6",
         "type": "bar"
        },
        {
         "alignmentgroup": "True",
         "error_y": {
          "array": [
           0.1824991045889202,
           0.1686355201376823,
           0.1434569348688665,
           0.1106215480739723,
           0.0998071883121885
          ],
          "arrayminus": [
           0.1712760709648961,
           0.1575511561502573,
           0.1328773468274977,
           0.1010464458004232,
           0.0901991691055621
          ]
         },
         "hovertemplate": "<b>Presencia de <br>menores</b>=con menores<br>anio=1990<br>quintil=%{x}<br>Hogares(%)=%{text}<extra></extra>",
         "legendgroup": "con menores",
         "marker": {
          "color": "#E67E22",
          "pattern": {
           "shape": ""
          }
         },
         "name": "con menores",
         "offsetgroup": "con menores",
         "orientation": "v",
         "showlegend": true,
         "text": [
          17.7,
          16.3,
          13.8,
          10.6,
          9.5
         ],
         "textposition": "auto",
         "x": [
          "I",
          "II",
          "III",
          "IV",
          "V"
         ],
         "xaxis": "x7",
         "y": [
          17.7,
          16.3,
          13.8,
          10.6,
          9.5
         ],
         "yaxis": "y7",
         "type": "bar"
        },
        {
         "alignmentgroup": "True",
         "error_y": {
          "array": [
           0.1804723494044122,
           0.1657300663677163,
           0.1394119362462815,
           0.1104632877058131,
           0.094647515569095
          ],
          "arrayminus": [
           0.1708149466666924,
           0.1560074138760284,
           0.130115290144499,
           0.1016513411366882,
           0.0863667029284008
          ]
         },
         "hovertemplate": "<b>Presencia de <br>menores</b>=con menores<br>anio=1992<br>quintil=%{x}<br>Hogares(%)=%{text}<extra></extra>",
         "legendgroup": "con menores",
         "marker": {
          "color": "#E67E22",
          "pattern": {
           "shape": ""
          }
         },
         "name": "con menores",
         "offsetgroup": "con menores",
         "orientation": "v",
         "showlegend": false,
         "text": [
          17.6,
          16.1,
          13.5,
          10.6,
          9.0
         ],
         "textposition": "auto",
         "x": [
          "I",
          "II",
          "III",
          "IV",
          "V"
         ],
         "xaxis": "x8",
         "y": [
          17.6,
          16.1,
          13.5,
          10.6,
          9.0
         ],
         "yaxis": "y8",
         "type": "bar"
        },
        {
         "alignmentgroup": "True",
         "error_y": {
          "array": [
           0.175947217795708,
           0.1603498733261814,
           0.1317575110678676,
           0.1131116459605291,
           0.0969211603078567
          ],
          "arrayminus": [
           0.1666860979857454,
           0.1510818665794306,
           0.1227083673237962,
           0.1041286033685575,
           0.0880782066269598
          ]
         },
         "hovertemplate": "<b>Presencia de <br>menores</b>=con menores<br>anio=1994<br>quintil=%{x}<br>Hogares(%)=%{text}<extra></extra>",
         "legendgroup": "con menores",
         "marker": {
          "color": "#E67E22",
          "pattern": {
           "shape": ""
          }
         },
         "name": "con menores",
         "offsetgroup": "con menores",
         "orientation": "v",
         "showlegend": false,
         "text": [
          17.1,
          15.6,
          12.7,
          10.9,
          9.2
         ],
         "textposition": "auto",
         "x": [
          "I",
          "II",
          "III",
          "IV",
          "V"
         ],
         "xaxis": "x9",
         "y": [
          17.1,
          15.6,
          12.7,
          10.9,
          9.2
         ],
         "yaxis": "y9",
         "type": "bar"
        },
        {
         "alignmentgroup": "True",
         "error_y": {
          "array": [
           0.1787617784789126,
           0.1644958897270633,
           0.1379032921442407,
           0.1224950791958709,
           0.0981204876069837
          ],
          "arrayminus": [
           0.1661842554408693,
           0.1518957572756472,
           0.1254131151451416,
           0.1098562216254596,
           0.0858455439926374
          ]
         },
         "hovertemplate": "<b>Presencia de <br>menores</b>=con menores<br>anio=1996<br>quintil=%{x}<br>Hogares(%)=%{text}<extra></extra>",
         "legendgroup": "con menores",
         "marker": {
          "color": "#E67E22",
          "pattern": {
           "shape": ""
          }
         },
         "name": "con menores",
         "offsetgroup": "con menores",
         "orientation": "v",
         "showlegend": false,
         "text": [
          17.2,
          15.8,
          13.2,
          11.6,
          9.2
         ],
         "textposition": "auto",
         "x": [
          "I",
          "II",
          "III",
          "IV",
          "V"
         ],
         "xaxis": "x10",
         "y": [
          17.2,
          15.8,
          13.2,
          11.6,
          9.2
         ],
         "yaxis": "y10",
         "type": "bar"
        },
        {
         "alignmentgroup": "True",
         "error_y": {
          "array": [
           0.172901305367659,
           0.1635939790717231,
           0.1345140818529153,
           0.1190076297697043,
           0.0920523952736457
          ],
          "arrayminus": [
           0.1633582863436504,
           0.1538446334212883,
           0.1252520849628728,
           0.1096012345944787,
           0.0827957642038154
          ]
         },
         "hovertemplate": "<b>Presencia de <br>menores</b>=con menores<br>anio=1998<br>quintil=%{x}<br>Hogares(%)=%{text}<extra></extra>",
         "legendgroup": "con menores",
         "marker": {
          "color": "#E67E22",
          "pattern": {
           "shape": ""
          }
         },
         "name": "con menores",
         "offsetgroup": "con menores",
         "orientation": "v",
         "showlegend": false,
         "text": [
          16.8,
          15.9,
          13.0,
          11.4,
          8.7
         ],
         "textposition": "auto",
         "x": [
          "I",
          "II",
          "III",
          "IV",
          "V"
         ],
         "xaxis": "x11",
         "y": [
          16.8,
          15.9,
          13.0,
          11.4,
          8.7
         ],
         "yaxis": "y11",
         "type": "bar"
        },
        {
         "alignmentgroup": "True",
         "error_y": {
          "array": [
           0.1782468837336384,
           0.1626524246601794,
           0.1365202240113507,
           0.1106287649591375,
           0.0907170435206304
          ],
          "arrayminus": [
           0.1682621450988433,
           0.1526129450777563,
           0.1220064981720949,
           0.0997560964731611,
           0.0799747638448703
          ]
         },
         "hovertemplate": "<b>Presencia de <br>menores</b>=con menores<br>anio=2000<br>quintil=%{x}<br>Hogares(%)=%{text}<extra></extra>",
         "legendgroup": "con menores",
         "marker": {
          "color": "#E67E22",
          "pattern": {
           "shape": ""
          }
         },
         "name": "con menores",
         "offsetgroup": "con menores",
         "orientation": "v",
         "showlegend": false,
         "text": [
          17.3,
          15.8,
          12.9,
          10.5,
          8.5
         ],
         "textposition": "auto",
         "x": [
          "I",
          "II",
          "III",
          "IV",
          "V"
         ],
         "xaxis": "x12",
         "y": [
          17.3,
          15.8,
          12.9,
          10.5,
          8.5
         ],
         "yaxis": "y12",
         "type": "bar"
        },
        {
         "alignmentgroup": "True",
         "error_y": {
          "array": [
           0.1662459722099999,
           0.1585063568109906,
           0.1307123542787041,
           0.111392075078053,
           0.0855375146091168
          ],
          "arrayminus": [
           0.1564508054822457,
           0.1480076034176929,
           0.1215248664933396,
           0.1013379964848129,
           0.0756125894296333
          ]
         },
         "hovertemplate": "<b>Presencia de <br>menores</b>=con menores<br>anio=2003<br>quintil=%{x}<br>Hogares(%)=%{text}<extra></extra>",
         "legendgroup": "con menores",
         "marker": {
          "color": "#E67E22",
          "pattern": {
           "shape": ""
          }
         },
         "name": "con menores",
         "offsetgroup": "con menores",
         "orientation": "v",
         "showlegend": false,
         "text": [
          16.1,
          15.3,
          12.6,
          10.6,
          8.0
         ],
         "textposition": "auto",
         "x": [
          "I",
          "II",
          "III",
          "IV",
          "V"
         ],
         "xaxis": "x",
         "y": [
          16.1,
          15.3,
          12.6,
          10.6,
          8.0
         ],
         "yaxis": "y",
         "type": "bar"
        },
        {
         "alignmentgroup": "True",
         "error_y": {
          "array": [
           0.1378670375981075,
           0.1403023366481425,
           0.1235033597831355,
           0.1030766609616716,
           0.0767045929584477
          ],
          "arrayminus": [
           0.1300885619620287,
           0.1318207397037006,
           0.1153439464516307,
           0.0946905074551999,
           0.0676569366676103
          ]
         },
         "hovertemplate": "<b>Presencia de <br>menores</b>=con menores<br>anio=2009<br>quintil=%{x}<br>Hogares(%)=%{text}<extra></extra>",
         "legendgroup": "con menores",
         "marker": {
          "color": "#E67E22",
          "pattern": {
           "shape": ""
          }
         },
         "name": "con menores",
         "offsetgroup": "con menores",
         "orientation": "v",
         "showlegend": false,
         "text": [
          13.4,
          13.6,
          11.9,
          9.9,
          7.2
         ],
         "textposition": "auto",
         "x": [
          "I",
          "II",
          "III",
          "IV",
          "V"
         ],
         "xaxis": "x2",
         "y": [
          13.4,
          13.6,
          11.9,
          9.9,
          7.2
         ],
         "yaxis": "y2",
         "type": "bar"
        },
        {
         "alignmentgroup": "True",
         "error_y": {
          "array": [
           0.1309418894647408,
           0.1315038726142916,
           0.1103626909323105,
           0.0834242617086739,
           0.0618257042904989
          ],
          "arrayminus": [
           0.1206702431015001,
           0.119765804490191,
           0.1003105854097048,
           0.0741643787783605,
           0.052539280795103
          ]
         },
         "hovertemplate": "<b>Presencia de <br>menores</b>=con menores<br>anio=2013<br>quintil=%{x}<br>Hogares(%)=%{text}<extra></extra>",
         "legendgroup": "con menores",
         "marker": {
          "color": "#E67E22",
          "pattern": {
           "shape": ""
          }
         },
         "name": "con menores",
         "offsetgroup": "con menores",
         "orientation": "v",
         "showlegend": false,
         "text": [
          12.6,
          12.6,
          10.5,
          7.9,
          5.7
         ],
         "textposition": "auto",
         "x": [
          "I",
          "II",
          "III",
          "IV",
          "V"
         ],
         "xaxis": "x3",
         "y": [
          12.6,
          12.6,
          10.5,
          7.9,
          5.7
         ],
         "yaxis": "y3",
         "type": "bar"
        },
        {
         "alignmentgroup": "True",
         "error_y": {
          "array": [
           0.1245995034096216,
           0.1247935720797888,
           0.1061228668421246,
           0.0799854328606201,
           0.0597737888871655
          ],
          "arrayminus": [
           0.1168726729431223,
           0.1174496086881509,
           0.0988287487653737,
           0.0733276177266133,
           0.0522076808815931
          ]
         },
         "hovertemplate": "<b>Presencia de <br>menores</b>=con menores<br>anio=2015<br>quintil=%{x}<br>Hogares(%)=%{text}<extra></extra>",
         "legendgroup": "con menores",
         "marker": {
          "color": "#E67E22",
          "pattern": {
           "shape": ""
          }
         },
         "name": "con menores",
         "offsetgroup": "con menores",
         "orientation": "v",
         "showlegend": false,
         "text": [
          12.1,
          12.1,
          10.2,
          7.7,
          5.6
         ],
         "textposition": "auto",
         "x": [
          "I",
          "II",
          "III",
          "IV",
          "V"
         ],
         "xaxis": "x4",
         "y": [
          12.1,
          12.1,
          10.2,
          7.7,
          5.6
         ],
         "yaxis": "y4",
         "type": "bar"
        },
        {
         "alignmentgroup": "True",
         "error_y": {
          "array": [
           0.1105547667370046,
           0.1186219120989128,
           0.0982118067645717,
           0.0720769814914028,
           0.0558325643885192
          ],
          "arrayminus": [
           0.1023817943455677,
           0.1106647082499345,
           0.0888622331179671,
           0.0652160057028513,
           0.0479512901453057
          ]
         },
         "hovertemplate": "<b>Presencia de <br>menores</b>=con menores<br>anio=2017<br>quintil=%{x}<br>Hogares(%)=%{text}<extra></extra>",
         "legendgroup": "con menores",
         "marker": {
          "color": "#E67E22",
          "pattern": {
           "shape": ""
          }
         },
         "name": "con menores",
         "offsetgroup": "con menores",
         "orientation": "v",
         "showlegend": false,
         "text": [
          10.6,
          11.5,
          9.3,
          6.9,
          5.2
         ],
         "textposition": "auto",
         "x": [
          "I",
          "II",
          "III",
          "IV",
          "V"
         ],
         "xaxis": "x5",
         "y": [
          10.6,
          11.5,
          9.3,
          6.9,
          5.2
         ],
         "yaxis": "y5",
         "type": "bar"
        },
        {
         "alignmentgroup": "True",
         "error_y": {
          "array": [
           0.0988614063842149,
           0.1149960258099734,
           0.1045532745069164,
           0.0721432146796897,
           0.0600482105920198
          ],
          "arrayminus": [
           0.0917104748153129,
           0.1072766069073293,
           0.0830187179495503,
           0.0652727839331801,
           0.0527023426735293
          ]
         },
         "hovertemplate": "<b>Presencia de <br>menores</b>=con menores<br>anio=2020<br>quintil=%{x}<br>Hogares(%)=%{text}<extra></extra>",
         "legendgroup": "con menores",
         "marker": {
          "color": "#E67E22",
          "pattern": {
           "shape": ""
          }
         },
         "name": "con menores",
         "offsetgroup": "con menores",
         "orientation": "v",
         "showlegend": false,
         "text": [
          9.5,
          11.1,
          9.3,
          6.9,
          5.6
         ],
         "textposition": "auto",
         "x": [
          "I",
          "II",
          "III",
          "IV",
          "V"
         ],
         "xaxis": "x6",
         "y": [
          9.5,
          11.1,
          9.3,
          6.9,
          5.6
         ],
         "yaxis": "y6",
         "type": "bar"
        }
       ],
       "layout": {
        "template": {
         "data": {
          "barpolar": [
           {
            "marker": {
             "line": {
              "color": "#E5ECF6",
              "width": 0.5
             },
             "pattern": {
              "fillmode": "overlay",
              "size": 10,
              "solidity": 0.2
             }
            },
            "type": "barpolar"
           }
          ],
          "bar": [
           {
            "error_x": {
             "color": "#2a3f5f"
            },
            "error_y": {
             "color": "#2a3f5f"
            },
            "marker": {
             "line": {
              "color": "#E5ECF6",
              "width": 0.5
             },
             "pattern": {
              "fillmode": "overlay",
              "size": 10,
              "solidity": 0.2
             }
            },
            "type": "bar"
           }
          ],
          "carpet": [
           {
            "aaxis": {
             "endlinecolor": "#2a3f5f",
             "gridcolor": "white",
             "linecolor": "white",
             "minorgridcolor": "white",
             "startlinecolor": "#2a3f5f"
            },
            "baxis": {
             "endlinecolor": "#2a3f5f",
             "gridcolor": "white",
             "linecolor": "white",
             "minorgridcolor": "white",
             "startlinecolor": "#2a3f5f"
            },
            "type": "carpet"
           }
          ],
          "choropleth": [
           {
            "colorbar": {
             "outlinewidth": 0,
             "ticks": ""
            },
            "type": "choropleth"
           }
          ],
          "contourcarpet": [
           {
            "colorbar": {
             "outlinewidth": 0,
             "ticks": ""
            },
            "type": "contourcarpet"
           }
          ],
          "contour": [
           {
            "colorbar": {
             "outlinewidth": 0,
             "ticks": ""
            },
            "colorscale": [
             [
              0.0,
              "#0d0887"
             ],
             [
              0.1111111111111111,
              "#46039f"
             ],
             [
              0.2222222222222222,
              "#7201a8"
             ],
             [
              0.3333333333333333,
              "#9c179e"
             ],
             [
              0.4444444444444444,
              "#bd3786"
             ],
             [
              0.5555555555555556,
              "#d8576b"
             ],
             [
              0.6666666666666666,
              "#ed7953"
             ],
             [
              0.7777777777777778,
              "#fb9f3a"
             ],
             [
              0.8888888888888888,
              "#fdca26"
             ],
             [
              1.0,
              "#f0f921"
             ]
            ],
            "type": "contour"
           }
          ],
          "heatmapgl": [
           {
            "colorbar": {
             "outlinewidth": 0,
             "ticks": ""
            },
            "colorscale": [
             [
              0.0,
              "#0d0887"
             ],
             [
              0.1111111111111111,
              "#46039f"
             ],
             [
              0.2222222222222222,
              "#7201a8"
             ],
             [
              0.3333333333333333,
              "#9c179e"
             ],
             [
              0.4444444444444444,
              "#bd3786"
             ],
             [
              0.5555555555555556,
              "#d8576b"
             ],
             [
              0.6666666666666666,
              "#ed7953"
             ],
             [
              0.7777777777777778,
              "#fb9f3a"
             ],
             [
              0.8888888888888888,
              "#fdca26"
             ],
             [
              1.0,
              "#f0f921"
             ]
            ],
            "type": "heatmapgl"
           }
          ],
          "heatmap": [
           {
            "colorbar": {
             "outlinewidth": 0,
             "ticks": ""
            },
            "colorscale": [
             [
              0.0,
              "#0d0887"
             ],
             [
              0.1111111111111111,
              "#46039f"
             ],
             [
              0.2222222222222222,
              "#7201a8"
             ],
             [
              0.3333333333333333,
              "#9c179e"
             ],
             [
              0.4444444444444444,
              "#bd3786"
             ],
             [
              0.5555555555555556,
              "#d8576b"
             ],
             [
              0.6666666666666666,
              "#ed7953"
             ],
             [
              0.7777777777777778,
              "#fb9f3a"
             ],
             [
              0.8888888888888888,
              "#fdca26"
             ],
             [
              1.0,
              "#f0f921"
             ]
            ],
            "type": "heatmap"
           }
          ],
          "histogram2dcontour": [
           {
            "colorbar": {
             "outlinewidth": 0,
             "ticks": ""
            },
            "colorscale": [
             [
              0.0,
              "#0d0887"
             ],
             [
              0.1111111111111111,
              "#46039f"
             ],
             [
              0.2222222222222222,
              "#7201a8"
             ],
             [
              0.3333333333333333,
              "#9c179e"
             ],
             [
              0.4444444444444444,
              "#bd3786"
             ],
             [
              0.5555555555555556,
              "#d8576b"
             ],
             [
              0.6666666666666666,
              "#ed7953"
             ],
             [
              0.7777777777777778,
              "#fb9f3a"
             ],
             [
              0.8888888888888888,
              "#fdca26"
             ],
             [
              1.0,
              "#f0f921"
             ]
            ],
            "type": "histogram2dcontour"
           }
          ],
          "histogram2d": [
           {
            "colorbar": {
             "outlinewidth": 0,
             "ticks": ""
            },
            "colorscale": [
             [
              0.0,
              "#0d0887"
             ],
             [
              0.1111111111111111,
              "#46039f"
             ],
             [
              0.2222222222222222,
              "#7201a8"
             ],
             [
              0.3333333333333333,
              "#9c179e"
             ],
             [
              0.4444444444444444,
              "#bd3786"
             ],
             [
              0.5555555555555556,
              "#d8576b"
             ],
             [
              0.6666666666666666,
              "#ed7953"
             ],
             [
              0.7777777777777778,
              "#fb9f3a"
             ],
             [
              0.8888888888888888,
              "#fdca26"
             ],
             [
              1.0,
              "#f0f921"
             ]
            ],
            "type": "histogram2d"
           }
          ],
          "histogram": [
           {
            "marker": {
             "pattern": {
              "fillmode": "overlay",
              "size": 10,
              "solidity": 0.2
             }
            },
            "type": "histogram"
           }
          ],
          "mesh3d": [
           {
            "colorbar": {
             "outlinewidth": 0,
             "ticks": ""
            },
            "type": "mesh3d"
           }
          ],
          "parcoords": [
           {
            "line": {
             "colorbar": {
              "outlinewidth": 0,
              "ticks": ""
             }
            },
            "type": "parcoords"
           }
          ],
          "pie": [
           {
            "automargin": true,
            "type": "pie"
           }
          ],
          "scatter3d": [
           {
            "line": {
             "colorbar": {
              "outlinewidth": 0,
              "ticks": ""
             }
            },
            "marker": {
             "colorbar": {
              "outlinewidth": 0,
              "ticks": ""
             }
            },
            "type": "scatter3d"
           }
          ],
          "scattercarpet": [
           {
            "marker": {
             "colorbar": {
              "outlinewidth": 0,
              "ticks": ""
             }
            },
            "type": "scattercarpet"
           }
          ],
          "scattergeo": [
           {
            "marker": {
             "colorbar": {
              "outlinewidth": 0,
              "ticks": ""
             }
            },
            "type": "scattergeo"
           }
          ],
          "scattergl": [
           {
            "marker": {
             "colorbar": {
              "outlinewidth": 0,
              "ticks": ""
             }
            },
            "type": "scattergl"
           }
          ],
          "scattermapbox": [
           {
            "marker": {
             "colorbar": {
              "outlinewidth": 0,
              "ticks": ""
             }
            },
            "type": "scattermapbox"
           }
          ],
          "scatterpolargl": [
           {
            "marker": {
             "colorbar": {
              "outlinewidth": 0,
              "ticks": ""
             }
            },
            "type": "scatterpolargl"
           }
          ],
          "scatterpolar": [
           {
            "marker": {
             "colorbar": {
              "outlinewidth": 0,
              "ticks": ""
             }
            },
            "type": "scatterpolar"
           }
          ],
          "scatter": [
           {
            "marker": {
             "colorbar": {
              "outlinewidth": 0,
              "ticks": ""
             }
            },
            "type": "scatter"
           }
          ],
          "scatterternary": [
           {
            "marker": {
             "colorbar": {
              "outlinewidth": 0,
              "ticks": ""
             }
            },
            "type": "scatterternary"
           }
          ],
          "surface": [
           {
            "colorbar": {
             "outlinewidth": 0,
             "ticks": ""
            },
            "colorscale": [
             [
              0.0,
              "#0d0887"
             ],
             [
              0.1111111111111111,
              "#46039f"
             ],
             [
              0.2222222222222222,
              "#7201a8"
             ],
             [
              0.3333333333333333,
              "#9c179e"
             ],
             [
              0.4444444444444444,
              "#bd3786"
             ],
             [
              0.5555555555555556,
              "#d8576b"
             ],
             [
              0.6666666666666666,
              "#ed7953"
             ],
             [
              0.7777777777777778,
              "#fb9f3a"
             ],
             [
              0.8888888888888888,
              "#fdca26"
             ],
             [
              1.0,
              "#f0f921"
             ]
            ],
            "type": "surface"
           }
          ],
          "table": [
           {
            "cells": {
             "fill": {
              "color": "#EBF0F8"
             },
             "line": {
              "color": "white"
             }
            },
            "header": {
             "fill": {
              "color": "#C8D4E3"
             },
             "line": {
              "color": "white"
             }
            },
            "type": "table"
           }
          ]
         },
         "layout": {
          "annotationdefaults": {
           "arrowcolor": "#2a3f5f",
           "arrowhead": 0,
           "arrowwidth": 1
          },
          "autotypenumbers": "strict",
          "coloraxis": {
           "colorbar": {
            "outlinewidth": 0,
            "ticks": ""
           }
          },
          "colorscale": {
           "diverging": [
            [
             0,
             "#8e0152"
            ],
            [
             0.1,
             "#c51b7d"
            ],
            [
             0.2,
             "#de77ae"
            ],
            [
             0.3,
             "#f1b6da"
            ],
            [
             0.4,
             "#fde0ef"
            ],
            [
             0.5,
             "#f7f7f7"
            ],
            [
             0.6,
             "#e6f5d0"
            ],
            [
             0.7,
             "#b8e186"
            ],
            [
             0.8,
             "#7fbc41"
            ],
            [
             0.9,
             "#4d9221"
            ],
            [
             1,
             "#276419"
            ]
           ],
           "sequential": [
            [
             0.0,
             "#0d0887"
            ],
            [
             0.1111111111111111,
             "#46039f"
            ],
            [
             0.2222222222222222,
             "#7201a8"
            ],
            [
             0.3333333333333333,
             "#9c179e"
            ],
            [
             0.4444444444444444,
             "#bd3786"
            ],
            [
             0.5555555555555556,
             "#d8576b"
            ],
            [
             0.6666666666666666,
             "#ed7953"
            ],
            [
             0.7777777777777778,
             "#fb9f3a"
            ],
            [
             0.8888888888888888,
             "#fdca26"
            ],
            [
             1.0,
             "#f0f921"
            ]
           ],
           "sequentialminus": [
            [
             0.0,
             "#0d0887"
            ],
            [
             0.1111111111111111,
             "#46039f"
            ],
            [
             0.2222222222222222,
             "#7201a8"
            ],
            [
             0.3333333333333333,
             "#9c179e"
            ],
            [
             0.4444444444444444,
             "#bd3786"
            ],
            [
             0.5555555555555556,
             "#d8576b"
            ],
            [
             0.6666666666666666,
             "#ed7953"
            ],
            [
             0.7777777777777778,
             "#fb9f3a"
            ],
            [
             0.8888888888888888,
             "#fdca26"
            ],
            [
             1.0,
             "#f0f921"
            ]
           ]
          },
          "colorway": [
           "#636efa",
           "#EF553B",
           "#00cc96",
           "#ab63fa",
           "#FFA15A",
           "#19d3f3",
           "#FF6692",
           "#B6E880",
           "#FF97FF",
           "#FECB52"
          ],
          "font": {
           "color": "#2a3f5f"
          },
          "geo": {
           "bgcolor": "white",
           "lakecolor": "white",
           "landcolor": "#E5ECF6",
           "showlakes": true,
           "showland": true,
           "subunitcolor": "white"
          },
          "hoverlabel": {
           "align": "left"
          },
          "hovermode": "closest",
          "mapbox": {
           "style": "light"
          },
          "paper_bgcolor": "white",
          "plot_bgcolor": "#E5ECF6",
          "polar": {
           "angularaxis": {
            "gridcolor": "white",
            "linecolor": "white",
            "ticks": ""
           },
           "bgcolor": "#E5ECF6",
           "radialaxis": {
            "gridcolor": "white",
            "linecolor": "white",
            "ticks": ""
           }
          },
          "scene": {
           "xaxis": {
            "backgroundcolor": "#E5ECF6",
            "gridcolor": "white",
            "gridwidth": 2,
            "linecolor": "white",
            "showbackground": true,
            "ticks": "",
            "zerolinecolor": "white"
           },
           "yaxis": {
            "backgroundcolor": "#E5ECF6",
            "gridcolor": "white",
            "gridwidth": 2,
            "linecolor": "white",
            "showbackground": true,
            "ticks": "",
            "zerolinecolor": "white"
           },
           "zaxis": {
            "backgroundcolor": "#E5ECF6",
            "gridcolor": "white",
            "gridwidth": 2,
            "linecolor": "white",
            "showbackground": true,
            "ticks": "",
            "zerolinecolor": "white"
           }
          },
          "shapedefaults": {
           "line": {
            "color": "#2a3f5f"
           }
          },
          "ternary": {
           "aaxis": {
            "gridcolor": "white",
            "linecolor": "white",
            "ticks": ""
           },
           "baxis": {
            "gridcolor": "white",
            "linecolor": "white",
            "ticks": ""
           },
           "bgcolor": "#E5ECF6",
           "caxis": {
            "gridcolor": "white",
            "linecolor": "white",
            "ticks": ""
           }
          },
          "title": {
           "x": 0.05
          },
          "xaxis": {
           "automargin": true,
           "gridcolor": "white",
           "linecolor": "white",
           "ticks": "",
           "title": {
            "standoff": 15
           },
           "zerolinecolor": "white",
           "zerolinewidth": 2
          },
          "yaxis": {
           "automargin": true,
           "gridcolor": "white",
           "linecolor": "white",
           "ticks": "",
           "title": {
            "standoff": 15
           },
           "zerolinecolor": "white",
           "zerolinewidth": 2
          }
         }
        },
        "xaxis": {
         "anchor": "y",
         "domain": [
          0.0,
          0.15
         ],
         "title": {},
         "showgrid": true,
         "tickangle": 0
        },
        "yaxis": {
         "anchor": "x",
         "domain": [
          0.0,
          0.46499999999999997
         ],
         "title": {
          "text": "Hogares(%)",
          "font": {
           "size": 10
          },
          "standoff": 8
         }
        },
        "xaxis2": {
         "anchor": "y2",
         "domain": [
          0.16999999999999998,
          0.31999999999999995
         ],
         "matches": "x",
         "title": {},
         "showgrid": true,
         "tickangle": 0
        },
        "yaxis2": {
         "anchor": "x2",
         "domain": [
          0.0,
          0.46499999999999997
         ],
         "matches": "y",
         "showticklabels": false,
         "title": {
          "font": {
           "size": 10
          },
          "standoff": 8
         }
        },
        "xaxis3": {
         "anchor": "y3",
         "domain": [
          0.33999999999999997,
          0.49
         ],
         "matches": "x",
         "title": {},
         "showgrid": true,
         "tickangle": 0
        },
        "yaxis3": {
         "anchor": "x3",
         "domain": [
          0.0,
          0.46499999999999997
         ],
         "matches": "y",
         "showticklabels": false,
         "title": {
          "font": {
           "size": 10
          },
          "standoff": 8
         }
        },
        "xaxis4": {
         "anchor": "y4",
         "domain": [
          0.51,
          0.66
         ],
         "matches": "x",
         "title": {},
         "showgrid": true,
         "tickangle": 0
        },
        "yaxis4": {
         "anchor": "x4",
         "domain": [
          0.0,
          0.46499999999999997
         ],
         "matches": "y",
         "showticklabels": false,
         "title": {
          "font": {
           "size": 10
          },
          "standoff": 8
         }
        },
        "xaxis5": {
         "anchor": "y5",
         "domain": [
          0.6799999999999999,
          0.83
         ],
         "matches": "x",
         "title": {},
         "showgrid": true,
         "tickangle": 0
        },
        "yaxis5": {
         "anchor": "x5",
         "domain": [
          0.0,
          0.46499999999999997
         ],
         "matches": "y",
         "showticklabels": false,
         "title": {
          "font": {
           "size": 10
          },
          "standoff": 8
         }
        },
        "xaxis6": {
         "anchor": "y6",
         "domain": [
          0.85,
          1.0
         ],
         "matches": "x",
         "title": {},
         "showgrid": true,
         "tickangle": 0
        },
        "yaxis6": {
         "anchor": "x6",
         "domain": [
          0.0,
          0.46499999999999997
         ],
         "matches": "y",
         "showticklabels": false,
         "title": {
          "font": {
           "size": 10
          },
          "standoff": 8
         }
        },
        "xaxis7": {
         "anchor": "y7",
         "domain": [
          0.0,
          0.15
         ],
         "matches": "x",
         "showticklabels": false,
         "title": {},
         "showgrid": true,
         "tickangle": 0
        },
        "yaxis7": {
         "anchor": "x7",
         "domain": [
          0.5349999999999999,
          0.9999999999999999
         ],
         "matches": "y",
         "title": {
          "text": "Hogares(%)",
          "font": {
           "size": 10
          },
          "standoff": 8
         }
        },
        "xaxis8": {
         "anchor": "y8",
         "domain": [
          0.16999999999999998,
          0.31999999999999995
         ],
         "matches": "x",
         "showticklabels": false,
         "title": {},
         "showgrid": true,
         "tickangle": 0
        },
        "yaxis8": {
         "anchor": "x8",
         "domain": [
          0.5349999999999999,
          0.9999999999999999
         ],
         "matches": "y",
         "showticklabels": false,
         "title": {
          "font": {
           "size": 10
          },
          "standoff": 8
         }
        },
        "xaxis9": {
         "anchor": "y9",
         "domain": [
          0.33999999999999997,
          0.49
         ],
         "matches": "x",
         "showticklabels": false,
         "title": {},
         "showgrid": true,
         "tickangle": 0
        },
        "yaxis9": {
         "anchor": "x9",
         "domain": [
          0.5349999999999999,
          0.9999999999999999
         ],
         "matches": "y",
         "showticklabels": false,
         "title": {
          "font": {
           "size": 10
          },
          "standoff": 8
         }
        },
        "xaxis10": {
         "anchor": "y10",
         "domain": [
          0.51,
          0.66
         ],
         "matches": "x",
         "showticklabels": false,
         "title": {},
         "showgrid": true,
         "tickangle": 0
        },
        "yaxis10": {
         "anchor": "x10",
         "domain": [
          0.5349999999999999,
          0.9999999999999999
         ],
         "matches": "y",
         "showticklabels": false,
         "title": {
          "font": {
           "size": 10
          },
          "standoff": 8
         }
        },
        "xaxis11": {
         "anchor": "y11",
         "domain": [
          0.6799999999999999,
          0.83
         ],
         "matches": "x",
         "showticklabels": false,
         "title": {},
         "showgrid": true,
         "tickangle": 0
        },
        "yaxis11": {
         "anchor": "x11",
         "domain": [
          0.5349999999999999,
          0.9999999999999999
         ],
         "matches": "y",
         "showticklabels": false,
         "title": {
          "font": {
           "size": 10
          },
          "standoff": 8
         }
        },
        "xaxis12": {
         "anchor": "y12",
         "domain": [
          0.85,
          1.0
         ],
         "matches": "x",
         "showticklabels": false,
         "title": {},
         "showgrid": true,
         "tickangle": 0
        },
        "yaxis12": {
         "anchor": "x12",
         "domain": [
          0.5349999999999999,
          0.9999999999999999
         ],
         "matches": "y",
         "showticklabels": false,
         "title": {
          "font": {
           "size": 10
          },
          "standoff": 8
         }
        },
        "annotations": [
         {
          "font": {},
          "showarrow": false,
          "text": "2003",
          "x": 0.075,
          "xanchor": "center",
          "xref": "paper",
          "y": 0.46499999999999997,
          "yanchor": "bottom",
          "yref": "paper"
         },
         {
          "font": {},
          "showarrow": false,
          "text": "2009",
          "x": 0.24499999999999997,
          "xanchor": "center",
          "xref": "paper",
          "y": 0.46499999999999997,
          "yanchor": "bottom",
          "yref": "paper"
         },
         {
          "font": {},
          "showarrow": false,
          "text": "2013",
          "x": 0.415,
          "xanchor": "center",
          "xref": "paper",
          "y": 0.46499999999999997,
          "yanchor": "bottom",
          "yref": "paper"
         },
         {
          "font": {},
          "showarrow": false,
          "text": "2015",
          "x": 0.585,
          "xanchor": "center",
          "xref": "paper",
          "y": 0.46499999999999997,
          "yanchor": "bottom",
          "yref": "paper"
         },
         {
          "font": {},
          "showarrow": false,
          "text": "2017",
          "x": 0.7549999999999999,
          "xanchor": "center",
          "xref": "paper",
          "y": 0.46499999999999997,
          "yanchor": "bottom",
          "yref": "paper"
         },
         {
          "font": {},
          "showarrow": false,
          "text": "2020",
          "x": 0.925,
          "xanchor": "center",
          "xref": "paper",
          "y": 0.46499999999999997,
          "yanchor": "bottom",
          "yref": "paper"
         },
         {
          "font": {},
          "showarrow": false,
          "text": "1990",
          "x": 0.075,
          "xanchor": "center",
          "xref": "paper",
          "y": 0.9999999999999999,
          "yanchor": "bottom",
          "yref": "paper"
         },
         {
          "font": {},
          "showarrow": false,
          "text": "1992",
          "x": 0.24499999999999997,
          "xanchor": "center",
          "xref": "paper",
          "y": 0.9999999999999999,
          "yanchor": "bottom",
          "yref": "paper"
         },
         {
          "font": {},
          "showarrow": false,
          "text": "1994",
          "x": 0.415,
          "xanchor": "center",
          "xref": "paper",
          "y": 0.9999999999999999,
          "yanchor": "bottom",
          "yref": "paper"
         },
         {
          "font": {},
          "showarrow": false,
          "text": "1996",
          "x": 0.585,
          "xanchor": "center",
          "xref": "paper",
          "y": 0.9999999999999999,
          "yanchor": "bottom",
          "yref": "paper"
         },
         {
          "font": {},
          "showarrow": false,
          "text": "1998",
          "x": 0.7549999999999999,
          "xanchor": "center",
          "xref": "paper",
          "y": 0.9999999999999999,
          "yanchor": "bottom",
          "yref": "paper"
         },
         {
          "font": {},
          "showarrow": false,
          "text": "2000",
          "x": 0.925,
          "xanchor": "center",
          "xref": "paper",
          "y": 0.9999999999999999,
          "yanchor": "bottom",
          "yref": "paper"
         }
        ],
        "legend": {
         "title": {
          "text": "<b>Presencia de <br>menores</b>"
         },
         "tracegroupgap": 0,
         "orientation": "h",
         "y": 1.02,
         "yanchor": "bottom",
         "x": 0.2,
         "xanchor": "center"
        },
        "margin": {
         "t": 20,
         "l": 20,
         "r": 20,
         "b": 20
        },
        "barmode": "group",
        "height": 600
       },
       "config": {
        "plotlyServerURL": "https://plot.ly"
       }
      },
      "text/html": "<div>                            <div id=\"80184c50-ac53-4ce4-a01c-4ad804e4818c\" class=\"plotly-graph-div\" style=\"height:600px; width:100%;\"></div>            <script type=\"text/javascript\">                require([\"plotly\"], function(Plotly) {                    window.PLOTLYENV=window.PLOTLYENV || {};                                    if (document.getElementById(\"80184c50-ac53-4ce4-a01c-4ad804e4818c\")) {                    Plotly.newPlot(                        \"80184c50-ac53-4ce4-a01c-4ad804e4818c\",                        [{\"alignmentgroup\":\"True\",\"error_y\":{\"array\":[0.0254664302579511,0.0398897217004505,0.0656023847474988,0.0989079202494778,0.1102277875880345],\"arrayminus\":[0.0210486544359143,0.0343215916341863,0.0584267495949924,0.0898199728472595,0.1001963538505415]},\"hovertemplate\":\"<b>Presencia de <br>menores</b>=sin menores<br>anio=1990<br>quintil=%{x}<br>Hogares(%)=%{text}<extra></extra>\",\"legendgroup\":\"sin menores\",\"marker\":{\"color\":\"#2471A3\",\"pattern\":{\"shape\":\"\"}},\"name\":\"sin menores\",\"offsetgroup\":\"sin menores\",\"orientation\":\"v\",\"showlegend\":true,\"text\":[2.3,3.7,6.2,9.4,10.5],\"textposition\":\"auto\",\"x\":[\"I\",\"II\",\"III\",\"IV\",\"V\"],\"xaxis\":\"x7\",\"y\":[2.3,3.7,6.2,9.4,10.5],\"yaxis\":\"y7\",\"type\":\"bar\"},{\"alignmentgroup\":\"True\",\"error_y\":{\"array\":[0.0264136872081937,0.0417314666542142,0.0685772913743309,0.0981969858104991,0.1141167333836769],\"arrayminus\":[0.0226170524717041,0.0367261610333272,0.0621279785570169,0.0900648893240059,0.1051991245401832]},\"hovertemplate\":\"<b>Presencia de <br>menores</b>=sin menores<br>anio=1992<br>quintil=%{x}<br>Hogares(%)=%{text}<extra></extra>\",\"legendgroup\":\"sin menores\",\"marker\":{\"color\":\"#2471A3\",\"pattern\":{\"shape\":\"\"}},\"name\":\"sin menores\",\"offsetgroup\":\"sin menores\",\"orientation\":\"v\",\"showlegend\":false,\"text\":[2.4,3.9,6.5,9.4,11.0],\"textposition\":\"auto\",\"x\":[\"I\",\"II\",\"III\",\"IV\",\"V\"],\"xaxis\":\"x8\",\"y\":[2.4,3.9,6.5,9.4,11.0],\"yaxis\":\"y8\",\"type\":\"bar\"},{\"alignmentgroup\":\"True\",\"error_y\":{\"array\":[0.0313483547681177,0.0463612808314301,0.0765134313489855,0.0955638051040104,0.1121839577723362],\"arrayminus\":[0.0270922407691351,0.0412999745032925,0.069602002811115,0.0876221075277489,0.1031086541455237]},\"hovertemplate\":\"<b>Presencia de <br>menores</b>=sin menores<br>anio=1994<br>quintil=%{x}<br>Hogares(%)=%{text}<extra></extra>\",\"legendgroup\":\"sin menores\",\"marker\":{\"color\":\"#2471A3\",\"pattern\":{\"shape\":\"\"}},\"name\":\"sin menores\",\"offsetgroup\":\"sin menores\",\"orientation\":\"v\",\"showlegend\":false,\"text\":[2.9,4.4,7.3,9.2,10.8],\"textposition\":\"auto\",\"x\":[\"I\",\"II\",\"III\",\"IV\",\"V\"],\"xaxis\":\"x9\",\"y\":[2.9,4.4,7.3,9.2,10.8],\"yaxis\":\"y9\",\"type\":\"bar\"},{\"alignmentgroup\":\"True\",\"error_y\":{\"array\":[0.0306795040577545,0.0450215118307093,0.0726844310082219,0.089074321479675,0.1150216006524153],\"arrayminus\":[0.0248489958117284,0.0389945940444934,0.0645072254884982,0.079026686776405,0.1018310588602803]},\"hovertemplate\":\"<b>Presencia de <br>menores</b>=sin menores<br>anio=1996<br>quintil=%{x}<br>Hogares(%)=%{text}<extra></extra>\",\"legendgroup\":\"sin menores\",\"marker\":{\"color\":\"#2471A3\",\"pattern\":{\"shape\":\"\"}},\"name\":\"sin menores\",\"offsetgroup\":\"sin menores\",\"orientation\":\"v\",\"showlegend\":false,\"text\":[2.8,4.2,6.8,8.4,10.8],\"textposition\":\"auto\",\"x\":[\"I\",\"II\",\"III\",\"IV\",\"V\"],\"xaxis\":\"x10\",\"y\":[2.8,4.2,6.8,8.4,10.8],\"yaxis\":\"y10\",\"type\":\"bar\"},{\"alignmentgroup\":\"True\",\"error_y\":{\"array\":[0.0340677852108658,0.0440335828230623,0.0734469598490742,0.0899071273003676,0.1179726592587239],\"arrayminus\":[0.029575441879396,0.0391685540275188,0.0670257755006906,0.0818942803950166,0.1075521178203042]},\"hovertemplate\":\"<b>Presencia de <br>menores</b>=sin menores<br>anio=1998<br>quintil=%{x}<br>Hogares(%)=%{text}<extra></extra>\",\"legendgroup\":\"sin menores\",\"marker\":{\"color\":\"#2471A3\",\"pattern\":{\"shape\":\"\"}},\"name\":\"sin menores\",\"offsetgroup\":\"sin menores\",\"orientation\":\"v\",\"showlegend\":false,\"text\":[3.2,4.2,7.0,8.6,11.3],\"textposition\":\"auto\",\"x\":[\"I\",\"II\",\"III\",\"IV\",\"V\"],\"xaxis\":\"x11\",\"y\":[3.2,4.2,7.0,8.6,11.3],\"yaxis\":\"y11\",\"type\":\"bar\"},{\"alignmentgroup\":\"True\",\"error_y\":{\"array\":[0.0289195646242407,0.0447980497337526,0.07552458925531,0.0995912476177523,0.1209154985942924],\"arrayminus\":[0.0249875787338855,0.0398616231562948,0.0665486994714577,0.0906088720498307,0.1090102942892946]},\"hovertemplate\":\"<b>Presencia de <br>menores</b>=sin menores<br>anio=2000<br>quintil=%{x}<br>Hogares(%)=%{text}<extra></extra>\",\"legendgroup\":\"sin menores\",\"marker\":{\"color\":\"#2471A3\",\"pattern\":{\"shape\":\"\"}},\"name\":\"sin menores\",\"offsetgroup\":\"sin menores\",\"orientation\":\"v\",\"showlegend\":false,\"text\":[2.7,4.2,7.1,9.5,11.5],\"textposition\":\"auto\",\"x\":[\"I\",\"II\",\"III\",\"IV\",\"V\"],\"xaxis\":\"x12\",\"y\":[2.7,4.2,7.1,9.5,11.5],\"yaxis\":\"y12\",\"type\":\"bar\"},{\"alignmentgroup\":\"True\",\"error_y\":{\"array\":[0.040548775713546,0.0499183762564152,0.077328630108842,0.0983473504761969,0.1244942891669122],\"arrayminus\":[0.0364193769468331,0.0444300869861972,0.0707061075015326,0.0903087833713002,0.1138242102464373]},\"hovertemplate\":\"<b>Presencia de <br>menores</b>=sin menores<br>anio=2003<br>quintil=%{x}<br>Hogares(%)=%{text}<extra></extra>\",\"legendgroup\":\"sin menores\",\"marker\":{\"color\":\"#2471A3\",\"pattern\":{\"shape\":\"\"}},\"name\":\"sin menores\",\"offsetgroup\":\"sin menores\",\"orientation\":\"v\",\"showlegend\":false,\"text\":[3.8,4.7,7.4,9.4,11.9],\"textposition\":\"auto\",\"x\":[\"I\",\"II\",\"III\",\"IV\",\"V\"],\"xaxis\":\"x\",\"y\":[3.8,4.7,7.4,9.4,11.9],\"yaxis\":\"y\",\"type\":\"bar\"},{\"alignmentgroup\":\"True\",\"error_y\":{\"array\":[0.068759010727875,0.0668512307013564,0.084102782575411,0.1050694407715616,0.1344630306829265],\"arrayminus\":[0.0634759699635841,0.0613126576646828,0.0775683753657014,0.0971223855981957,0.1217079004047251]},\"hovertemplate\":\"<b>Presencia de <br>menores</b>=sin menores<br>anio=2009<br>quintil=%{x}<br>Hogares(%)=%{text}<extra></extra>\",\"legendgroup\":\"sin menores\",\"marker\":{\"color\":\"#2471A3\",\"pattern\":{\"shape\":\"\"}},\"name\":\"sin menores\",\"offsetgroup\":\"sin menores\",\"orientation\":\"v\",\"showlegend\":false,\"text\":[6.6,6.4,8.1,10.1,12.8],\"textposition\":\"auto\",\"x\":[\"I\",\"II\",\"III\",\"IV\",\"V\"],\"xaxis\":\"x2\",\"y\":[6.6,6.4,8.1,10.1,12.8],\"yaxis\":\"y2\",\"type\":\"bar\"},{\"alignmentgroup\":\"True\",\"error_y\":{\"array\":[0.0752244733228246,0.0812787760883181,0.098670244536638,0.1267223044982548,0.150761556129407],\"arrayminus\":[0.0686496383632931,0.0727707452278624,0.0909521664687192,0.1161477530411661,0.1355730021101613]},\"hovertemplate\":\"<b>Presencia de <br>menores</b>=sin menores<br>anio=2013<br>quintil=%{x}<br>Hogares(%)=%{text}<extra></extra>\",\"legendgroup\":\"sin menores\",\"marker\":{\"color\":\"#2471A3\",\"pattern\":{\"shape\":\"\"}},\"name\":\"sin menores\",\"offsetgroup\":\"sin menores\",\"orientation\":\"v\",\"showlegend\":false,\"text\":[7.2,7.7,9.5,12.1,14.3],\"textposition\":\"auto\",\"x\":[\"I\",\"II\",\"III\",\"IV\",\"V\"],\"xaxis\":\"x3\",\"y\":[7.2,7.7,9.5,12.1,14.3],\"yaxis\":\"y3\",\"type\":\"bar\"},{\"alignmentgroup\":\"True\",\"error_y\":{\"array\":[0.082201416521176,0.0818910786744967,0.1006942030836446,0.1274929863937504,0.1516942356513292],\"arrayminus\":[0.076510309348085,0.0760981848280538,0.0944676966296586,0.1195012116484846,0.1368846360032766]},\"hovertemplate\":\"<b>Presencia de <br>menores</b>=sin menores<br>anio=2015<br>quintil=%{x}<br>Hogares(%)=%{text}<extra></extra>\",\"legendgroup\":\"sin menores\",\"marker\":{\"color\":\"#2471A3\",\"pattern\":{\"shape\":\"\"}},\"name\":\"sin menores\",\"offsetgroup\":\"sin menores\",\"orientation\":\"v\",\"showlegend\":false,\"text\":[7.9,7.9,9.8,12.3,14.4],\"textposition\":\"auto\",\"x\":[\"I\",\"II\",\"III\",\"IV\",\"V\"],\"xaxis\":\"x4\",\"y\":[7.9,7.9,9.8,12.3,14.4],\"yaxis\":\"y4\",\"type\":\"bar\"},{\"alignmentgroup\":\"True\",\"error_y\":{\"array\":[0.0910932156672561,0.0945106513804184,0.1097009479848511,0.1352510353323954,0.1560637327999761],\"arrayminus\":[0.0850674230588415,0.0882597504301584,0.1027056661905474,0.1271178179441207,0.1414600142856403]},\"hovertemplate\":\"<b>Presencia de <br>menores</b>=sin menores<br>anio=2017<br>quintil=%{x}<br>Hogares(%)=%{text}<extra></extra>\",\"legendgroup\":\"sin menores\",\"marker\":{\"color\":\"#2471A3\",\"pattern\":{\"shape\":\"\"}},\"name\":\"sin menores\",\"offsetgroup\":\"sin menores\",\"orientation\":\"v\",\"showlegend\":false,\"text\":[8.8,9.1,10.6,13.1,14.9],\"textposition\":\"auto\",\"x\":[\"I\",\"II\",\"III\",\"IV\",\"V\"],\"xaxis\":\"x5\",\"y\":[8.8,9.1,10.6,13.1,14.9],\"yaxis\":\"y5\",\"type\":\"bar\"},{\"alignmentgroup\":\"True\",\"error_y\":{\"array\":[0.108191262628139,0.0922478256762149,0.1133750309631891,0.1324795818890743,0.1494448831169161],\"arrayminus\":[0.1014711496947634,0.0860238235824291,0.1061958875000211,0.1245967594586316,0.1377236931399476]},\"hovertemplate\":\"<b>Presencia de <br>menores</b>=sin menores<br>anio=2020<br>quintil=%{x}<br>Hogares(%)=%{text}<extra></extra>\",\"legendgroup\":\"sin menores\",\"marker\":{\"color\":\"#2471A3\",\"pattern\":{\"shape\":\"\"}},\"name\":\"sin menores\",\"offsetgroup\":\"sin menores\",\"orientation\":\"v\",\"showlegend\":false,\"text\":[10.5,8.9,11.0,12.8,14.3],\"textposition\":\"auto\",\"x\":[\"I\",\"II\",\"III\",\"IV\",\"V\"],\"xaxis\":\"x6\",\"y\":[10.5,8.9,11.0,12.8,14.3],\"yaxis\":\"y6\",\"type\":\"bar\"},{\"alignmentgroup\":\"True\",\"error_y\":{\"array\":[0.1824991045889202,0.1686355201376823,0.1434569348688665,0.1106215480739723,0.0998071883121885],\"arrayminus\":[0.1712760709648961,0.1575511561502573,0.1328773468274977,0.1010464458004232,0.0901991691055621]},\"hovertemplate\":\"<b>Presencia de <br>menores</b>=con menores<br>anio=1990<br>quintil=%{x}<br>Hogares(%)=%{text}<extra></extra>\",\"legendgroup\":\"con menores\",\"marker\":{\"color\":\"#E67E22\",\"pattern\":{\"shape\":\"\"}},\"name\":\"con menores\",\"offsetgroup\":\"con menores\",\"orientation\":\"v\",\"showlegend\":true,\"text\":[17.7,16.3,13.8,10.6,9.5],\"textposition\":\"auto\",\"x\":[\"I\",\"II\",\"III\",\"IV\",\"V\"],\"xaxis\":\"x7\",\"y\":[17.7,16.3,13.8,10.6,9.5],\"yaxis\":\"y7\",\"type\":\"bar\"},{\"alignmentgroup\":\"True\",\"error_y\":{\"array\":[0.1804723494044122,0.1657300663677163,0.1394119362462815,0.1104632877058131,0.094647515569095],\"arrayminus\":[0.1708149466666924,0.1560074138760284,0.130115290144499,0.1016513411366882,0.0863667029284008]},\"hovertemplate\":\"<b>Presencia de <br>menores</b>=con menores<br>anio=1992<br>quintil=%{x}<br>Hogares(%)=%{text}<extra></extra>\",\"legendgroup\":\"con menores\",\"marker\":{\"color\":\"#E67E22\",\"pattern\":{\"shape\":\"\"}},\"name\":\"con menores\",\"offsetgroup\":\"con menores\",\"orientation\":\"v\",\"showlegend\":false,\"text\":[17.6,16.1,13.5,10.6,9.0],\"textposition\":\"auto\",\"x\":[\"I\",\"II\",\"III\",\"IV\",\"V\"],\"xaxis\":\"x8\",\"y\":[17.6,16.1,13.5,10.6,9.0],\"yaxis\":\"y8\",\"type\":\"bar\"},{\"alignmentgroup\":\"True\",\"error_y\":{\"array\":[0.175947217795708,0.1603498733261814,0.1317575110678676,0.1131116459605291,0.0969211603078567],\"arrayminus\":[0.1666860979857454,0.1510818665794306,0.1227083673237962,0.1041286033685575,0.0880782066269598]},\"hovertemplate\":\"<b>Presencia de <br>menores</b>=con menores<br>anio=1994<br>quintil=%{x}<br>Hogares(%)=%{text}<extra></extra>\",\"legendgroup\":\"con menores\",\"marker\":{\"color\":\"#E67E22\",\"pattern\":{\"shape\":\"\"}},\"name\":\"con menores\",\"offsetgroup\":\"con menores\",\"orientation\":\"v\",\"showlegend\":false,\"text\":[17.1,15.6,12.7,10.9,9.2],\"textposition\":\"auto\",\"x\":[\"I\",\"II\",\"III\",\"IV\",\"V\"],\"xaxis\":\"x9\",\"y\":[17.1,15.6,12.7,10.9,9.2],\"yaxis\":\"y9\",\"type\":\"bar\"},{\"alignmentgroup\":\"True\",\"error_y\":{\"array\":[0.1787617784789126,0.1644958897270633,0.1379032921442407,0.1224950791958709,0.0981204876069837],\"arrayminus\":[0.1661842554408693,0.1518957572756472,0.1254131151451416,0.1098562216254596,0.0858455439926374]},\"hovertemplate\":\"<b>Presencia de <br>menores</b>=con menores<br>anio=1996<br>quintil=%{x}<br>Hogares(%)=%{text}<extra></extra>\",\"legendgroup\":\"con menores\",\"marker\":{\"color\":\"#E67E22\",\"pattern\":{\"shape\":\"\"}},\"name\":\"con menores\",\"offsetgroup\":\"con menores\",\"orientation\":\"v\",\"showlegend\":false,\"text\":[17.2,15.8,13.2,11.6,9.2],\"textposition\":\"auto\",\"x\":[\"I\",\"II\",\"III\",\"IV\",\"V\"],\"xaxis\":\"x10\",\"y\":[17.2,15.8,13.2,11.6,9.2],\"yaxis\":\"y10\",\"type\":\"bar\"},{\"alignmentgroup\":\"True\",\"error_y\":{\"array\":[0.172901305367659,0.1635939790717231,0.1345140818529153,0.1190076297697043,0.0920523952736457],\"arrayminus\":[0.1633582863436504,0.1538446334212883,0.1252520849628728,0.1096012345944787,0.0827957642038154]},\"hovertemplate\":\"<b>Presencia de <br>menores</b>=con menores<br>anio=1998<br>quintil=%{x}<br>Hogares(%)=%{text}<extra></extra>\",\"legendgroup\":\"con menores\",\"marker\":{\"color\":\"#E67E22\",\"pattern\":{\"shape\":\"\"}},\"name\":\"con menores\",\"offsetgroup\":\"con menores\",\"orientation\":\"v\",\"showlegend\":false,\"text\":[16.8,15.9,13.0,11.4,8.7],\"textposition\":\"auto\",\"x\":[\"I\",\"II\",\"III\",\"IV\",\"V\"],\"xaxis\":\"x11\",\"y\":[16.8,15.9,13.0,11.4,8.7],\"yaxis\":\"y11\",\"type\":\"bar\"},{\"alignmentgroup\":\"True\",\"error_y\":{\"array\":[0.1782468837336384,0.1626524246601794,0.1365202240113507,0.1106287649591375,0.0907170435206304],\"arrayminus\":[0.1682621450988433,0.1526129450777563,0.1220064981720949,0.0997560964731611,0.0799747638448703]},\"hovertemplate\":\"<b>Presencia de <br>menores</b>=con menores<br>anio=2000<br>quintil=%{x}<br>Hogares(%)=%{text}<extra></extra>\",\"legendgroup\":\"con menores\",\"marker\":{\"color\":\"#E67E22\",\"pattern\":{\"shape\":\"\"}},\"name\":\"con menores\",\"offsetgroup\":\"con menores\",\"orientation\":\"v\",\"showlegend\":false,\"text\":[17.3,15.8,12.9,10.5,8.5],\"textposition\":\"auto\",\"x\":[\"I\",\"II\",\"III\",\"IV\",\"V\"],\"xaxis\":\"x12\",\"y\":[17.3,15.8,12.9,10.5,8.5],\"yaxis\":\"y12\",\"type\":\"bar\"},{\"alignmentgroup\":\"True\",\"error_y\":{\"array\":[0.1662459722099999,0.1585063568109906,0.1307123542787041,0.111392075078053,0.0855375146091168],\"arrayminus\":[0.1564508054822457,0.1480076034176929,0.1215248664933396,0.1013379964848129,0.0756125894296333]},\"hovertemplate\":\"<b>Presencia de <br>menores</b>=con menores<br>anio=2003<br>quintil=%{x}<br>Hogares(%)=%{text}<extra></extra>\",\"legendgroup\":\"con menores\",\"marker\":{\"color\":\"#E67E22\",\"pattern\":{\"shape\":\"\"}},\"name\":\"con menores\",\"offsetgroup\":\"con menores\",\"orientation\":\"v\",\"showlegend\":false,\"text\":[16.1,15.3,12.6,10.6,8.0],\"textposition\":\"auto\",\"x\":[\"I\",\"II\",\"III\",\"IV\",\"V\"],\"xaxis\":\"x\",\"y\":[16.1,15.3,12.6,10.6,8.0],\"yaxis\":\"y\",\"type\":\"bar\"},{\"alignmentgroup\":\"True\",\"error_y\":{\"array\":[0.1378670375981075,0.1403023366481425,0.1235033597831355,0.1030766609616716,0.0767045929584477],\"arrayminus\":[0.1300885619620287,0.1318207397037006,0.1153439464516307,0.0946905074551999,0.0676569366676103]},\"hovertemplate\":\"<b>Presencia de <br>menores</b>=con menores<br>anio=2009<br>quintil=%{x}<br>Hogares(%)=%{text}<extra></extra>\",\"legendgroup\":\"con menores\",\"marker\":{\"color\":\"#E67E22\",\"pattern\":{\"shape\":\"\"}},\"name\":\"con menores\",\"offsetgroup\":\"con menores\",\"orientation\":\"v\",\"showlegend\":false,\"text\":[13.4,13.6,11.9,9.9,7.2],\"textposition\":\"auto\",\"x\":[\"I\",\"II\",\"III\",\"IV\",\"V\"],\"xaxis\":\"x2\",\"y\":[13.4,13.6,11.9,9.9,7.2],\"yaxis\":\"y2\",\"type\":\"bar\"},{\"alignmentgroup\":\"True\",\"error_y\":{\"array\":[0.1309418894647408,0.1315038726142916,0.1103626909323105,0.0834242617086739,0.0618257042904989],\"arrayminus\":[0.1206702431015001,0.119765804490191,0.1003105854097048,0.0741643787783605,0.052539280795103]},\"hovertemplate\":\"<b>Presencia de <br>menores</b>=con menores<br>anio=2013<br>quintil=%{x}<br>Hogares(%)=%{text}<extra></extra>\",\"legendgroup\":\"con menores\",\"marker\":{\"color\":\"#E67E22\",\"pattern\":{\"shape\":\"\"}},\"name\":\"con menores\",\"offsetgroup\":\"con menores\",\"orientation\":\"v\",\"showlegend\":false,\"text\":[12.6,12.6,10.5,7.9,5.7],\"textposition\":\"auto\",\"x\":[\"I\",\"II\",\"III\",\"IV\",\"V\"],\"xaxis\":\"x3\",\"y\":[12.6,12.6,10.5,7.9,5.7],\"yaxis\":\"y3\",\"type\":\"bar\"},{\"alignmentgroup\":\"True\",\"error_y\":{\"array\":[0.1245995034096216,0.1247935720797888,0.1061228668421246,0.0799854328606201,0.0597737888871655],\"arrayminus\":[0.1168726729431223,0.1174496086881509,0.0988287487653737,0.0733276177266133,0.0522076808815931]},\"hovertemplate\":\"<b>Presencia de <br>menores</b>=con menores<br>anio=2015<br>quintil=%{x}<br>Hogares(%)=%{text}<extra></extra>\",\"legendgroup\":\"con menores\",\"marker\":{\"color\":\"#E67E22\",\"pattern\":{\"shape\":\"\"}},\"name\":\"con menores\",\"offsetgroup\":\"con menores\",\"orientation\":\"v\",\"showlegend\":false,\"text\":[12.1,12.1,10.2,7.7,5.6],\"textposition\":\"auto\",\"x\":[\"I\",\"II\",\"III\",\"IV\",\"V\"],\"xaxis\":\"x4\",\"y\":[12.1,12.1,10.2,7.7,5.6],\"yaxis\":\"y4\",\"type\":\"bar\"},{\"alignmentgroup\":\"True\",\"error_y\":{\"array\":[0.1105547667370046,0.1186219120989128,0.0982118067645717,0.0720769814914028,0.0558325643885192],\"arrayminus\":[0.1023817943455677,0.1106647082499345,0.0888622331179671,0.0652160057028513,0.0479512901453057]},\"hovertemplate\":\"<b>Presencia de <br>menores</b>=con menores<br>anio=2017<br>quintil=%{x}<br>Hogares(%)=%{text}<extra></extra>\",\"legendgroup\":\"con menores\",\"marker\":{\"color\":\"#E67E22\",\"pattern\":{\"shape\":\"\"}},\"name\":\"con menores\",\"offsetgroup\":\"con menores\",\"orientation\":\"v\",\"showlegend\":false,\"text\":[10.6,11.5,9.3,6.9,5.2],\"textposition\":\"auto\",\"x\":[\"I\",\"II\",\"III\",\"IV\",\"V\"],\"xaxis\":\"x5\",\"y\":[10.6,11.5,9.3,6.9,5.2],\"yaxis\":\"y5\",\"type\":\"bar\"},{\"alignmentgroup\":\"True\",\"error_y\":{\"array\":[0.0988614063842149,0.1149960258099734,0.1045532745069164,0.0721432146796897,0.0600482105920198],\"arrayminus\":[0.0917104748153129,0.1072766069073293,0.0830187179495503,0.0652727839331801,0.0527023426735293]},\"hovertemplate\":\"<b>Presencia de <br>menores</b>=con menores<br>anio=2020<br>quintil=%{x}<br>Hogares(%)=%{text}<extra></extra>\",\"legendgroup\":\"con menores\",\"marker\":{\"color\":\"#E67E22\",\"pattern\":{\"shape\":\"\"}},\"name\":\"con menores\",\"offsetgroup\":\"con menores\",\"orientation\":\"v\",\"showlegend\":false,\"text\":[9.5,11.1,9.3,6.9,5.6],\"textposition\":\"auto\",\"x\":[\"I\",\"II\",\"III\",\"IV\",\"V\"],\"xaxis\":\"x6\",\"y\":[9.5,11.1,9.3,6.9,5.6],\"yaxis\":\"y6\",\"type\":\"bar\"}],                        {\"template\":{\"data\":{\"barpolar\":[{\"marker\":{\"line\":{\"color\":\"#E5ECF6\",\"width\":0.5},\"pattern\":{\"fillmode\":\"overlay\",\"size\":10,\"solidity\":0.2}},\"type\":\"barpolar\"}],\"bar\":[{\"error_x\":{\"color\":\"#2a3f5f\"},\"error_y\":{\"color\":\"#2a3f5f\"},\"marker\":{\"line\":{\"color\":\"#E5ECF6\",\"width\":0.5},\"pattern\":{\"fillmode\":\"overlay\",\"size\":10,\"solidity\":0.2}},\"type\":\"bar\"}],\"carpet\":[{\"aaxis\":{\"endlinecolor\":\"#2a3f5f\",\"gridcolor\":\"white\",\"linecolor\":\"white\",\"minorgridcolor\":\"white\",\"startlinecolor\":\"#2a3f5f\"},\"baxis\":{\"endlinecolor\":\"#2a3f5f\",\"gridcolor\":\"white\",\"linecolor\":\"white\",\"minorgridcolor\":\"white\",\"startlinecolor\":\"#2a3f5f\"},\"type\":\"carpet\"}],\"choropleth\":[{\"colorbar\":{\"outlinewidth\":0,\"ticks\":\"\"},\"type\":\"choropleth\"}],\"contourcarpet\":[{\"colorbar\":{\"outlinewidth\":0,\"ticks\":\"\"},\"type\":\"contourcarpet\"}],\"contour\":[{\"colorbar\":{\"outlinewidth\":0,\"ticks\":\"\"},\"colorscale\":[[0.0,\"#0d0887\"],[0.1111111111111111,\"#46039f\"],[0.2222222222222222,\"#7201a8\"],[0.3333333333333333,\"#9c179e\"],[0.4444444444444444,\"#bd3786\"],[0.5555555555555556,\"#d8576b\"],[0.6666666666666666,\"#ed7953\"],[0.7777777777777778,\"#fb9f3a\"],[0.8888888888888888,\"#fdca26\"],[1.0,\"#f0f921\"]],\"type\":\"contour\"}],\"heatmapgl\":[{\"colorbar\":{\"outlinewidth\":0,\"ticks\":\"\"},\"colorscale\":[[0.0,\"#0d0887\"],[0.1111111111111111,\"#46039f\"],[0.2222222222222222,\"#7201a8\"],[0.3333333333333333,\"#9c179e\"],[0.4444444444444444,\"#bd3786\"],[0.5555555555555556,\"#d8576b\"],[0.6666666666666666,\"#ed7953\"],[0.7777777777777778,\"#fb9f3a\"],[0.8888888888888888,\"#fdca26\"],[1.0,\"#f0f921\"]],\"type\":\"heatmapgl\"}],\"heatmap\":[{\"colorbar\":{\"outlinewidth\":0,\"ticks\":\"\"},\"colorscale\":[[0.0,\"#0d0887\"],[0.1111111111111111,\"#46039f\"],[0.2222222222222222,\"#7201a8\"],[0.3333333333333333,\"#9c179e\"],[0.4444444444444444,\"#bd3786\"],[0.5555555555555556,\"#d8576b\"],[0.6666666666666666,\"#ed7953\"],[0.7777777777777778,\"#fb9f3a\"],[0.8888888888888888,\"#fdca26\"],[1.0,\"#f0f921\"]],\"type\":\"heatmap\"}],\"histogram2dcontour\":[{\"colorbar\":{\"outlinewidth\":0,\"ticks\":\"\"},\"colorscale\":[[0.0,\"#0d0887\"],[0.1111111111111111,\"#46039f\"],[0.2222222222222222,\"#7201a8\"],[0.3333333333333333,\"#9c179e\"],[0.4444444444444444,\"#bd3786\"],[0.5555555555555556,\"#d8576b\"],[0.6666666666666666,\"#ed7953\"],[0.7777777777777778,\"#fb9f3a\"],[0.8888888888888888,\"#fdca26\"],[1.0,\"#f0f921\"]],\"type\":\"histogram2dcontour\"}],\"histogram2d\":[{\"colorbar\":{\"outlinewidth\":0,\"ticks\":\"\"},\"colorscale\":[[0.0,\"#0d0887\"],[0.1111111111111111,\"#46039f\"],[0.2222222222222222,\"#7201a8\"],[0.3333333333333333,\"#9c179e\"],[0.4444444444444444,\"#bd3786\"],[0.5555555555555556,\"#d8576b\"],[0.6666666666666666,\"#ed7953\"],[0.7777777777777778,\"#fb9f3a\"],[0.8888888888888888,\"#fdca26\"],[1.0,\"#f0f921\"]],\"type\":\"histogram2d\"}],\"histogram\":[{\"marker\":{\"pattern\":{\"fillmode\":\"overlay\",\"size\":10,\"solidity\":0.2}},\"type\":\"histogram\"}],\"mesh3d\":[{\"colorbar\":{\"outlinewidth\":0,\"ticks\":\"\"},\"type\":\"mesh3d\"}],\"parcoords\":[{\"line\":{\"colorbar\":{\"outlinewidth\":0,\"ticks\":\"\"}},\"type\":\"parcoords\"}],\"pie\":[{\"automargin\":true,\"type\":\"pie\"}],\"scatter3d\":[{\"line\":{\"colorbar\":{\"outlinewidth\":0,\"ticks\":\"\"}},\"marker\":{\"colorbar\":{\"outlinewidth\":0,\"ticks\":\"\"}},\"type\":\"scatter3d\"}],\"scattercarpet\":[{\"marker\":{\"colorbar\":{\"outlinewidth\":0,\"ticks\":\"\"}},\"type\":\"scattercarpet\"}],\"scattergeo\":[{\"marker\":{\"colorbar\":{\"outlinewidth\":0,\"ticks\":\"\"}},\"type\":\"scattergeo\"}],\"scattergl\":[{\"marker\":{\"colorbar\":{\"outlinewidth\":0,\"ticks\":\"\"}},\"type\":\"scattergl\"}],\"scattermapbox\":[{\"marker\":{\"colorbar\":{\"outlinewidth\":0,\"ticks\":\"\"}},\"type\":\"scattermapbox\"}],\"scatterpolargl\":[{\"marker\":{\"colorbar\":{\"outlinewidth\":0,\"ticks\":\"\"}},\"type\":\"scatterpolargl\"}],\"scatterpolar\":[{\"marker\":{\"colorbar\":{\"outlinewidth\":0,\"ticks\":\"\"}},\"type\":\"scatterpolar\"}],\"scatter\":[{\"marker\":{\"colorbar\":{\"outlinewidth\":0,\"ticks\":\"\"}},\"type\":\"scatter\"}],\"scatterternary\":[{\"marker\":{\"colorbar\":{\"outlinewidth\":0,\"ticks\":\"\"}},\"type\":\"scatterternary\"}],\"surface\":[{\"colorbar\":{\"outlinewidth\":0,\"ticks\":\"\"},\"colorscale\":[[0.0,\"#0d0887\"],[0.1111111111111111,\"#46039f\"],[0.2222222222222222,\"#7201a8\"],[0.3333333333333333,\"#9c179e\"],[0.4444444444444444,\"#bd3786\"],[0.5555555555555556,\"#d8576b\"],[0.6666666666666666,\"#ed7953\"],[0.7777777777777778,\"#fb9f3a\"],[0.8888888888888888,\"#fdca26\"],[1.0,\"#f0f921\"]],\"type\":\"surface\"}],\"table\":[{\"cells\":{\"fill\":{\"color\":\"#EBF0F8\"},\"line\":{\"color\":\"white\"}},\"header\":{\"fill\":{\"color\":\"#C8D4E3\"},\"line\":{\"color\":\"white\"}},\"type\":\"table\"}]},\"layout\":{\"annotationdefaults\":{\"arrowcolor\":\"#2a3f5f\",\"arrowhead\":0,\"arrowwidth\":1},\"autotypenumbers\":\"strict\",\"coloraxis\":{\"colorbar\":{\"outlinewidth\":0,\"ticks\":\"\"}},\"colorscale\":{\"diverging\":[[0,\"#8e0152\"],[0.1,\"#c51b7d\"],[0.2,\"#de77ae\"],[0.3,\"#f1b6da\"],[0.4,\"#fde0ef\"],[0.5,\"#f7f7f7\"],[0.6,\"#e6f5d0\"],[0.7,\"#b8e186\"],[0.8,\"#7fbc41\"],[0.9,\"#4d9221\"],[1,\"#276419\"]],\"sequential\":[[0.0,\"#0d0887\"],[0.1111111111111111,\"#46039f\"],[0.2222222222222222,\"#7201a8\"],[0.3333333333333333,\"#9c179e\"],[0.4444444444444444,\"#bd3786\"],[0.5555555555555556,\"#d8576b\"],[0.6666666666666666,\"#ed7953\"],[0.7777777777777778,\"#fb9f3a\"],[0.8888888888888888,\"#fdca26\"],[1.0,\"#f0f921\"]],\"sequentialminus\":[[0.0,\"#0d0887\"],[0.1111111111111111,\"#46039f\"],[0.2222222222222222,\"#7201a8\"],[0.3333333333333333,\"#9c179e\"],[0.4444444444444444,\"#bd3786\"],[0.5555555555555556,\"#d8576b\"],[0.6666666666666666,\"#ed7953\"],[0.7777777777777778,\"#fb9f3a\"],[0.8888888888888888,\"#fdca26\"],[1.0,\"#f0f921\"]]},\"colorway\":[\"#636efa\",\"#EF553B\",\"#00cc96\",\"#ab63fa\",\"#FFA15A\",\"#19d3f3\",\"#FF6692\",\"#B6E880\",\"#FF97FF\",\"#FECB52\"],\"font\":{\"color\":\"#2a3f5f\"},\"geo\":{\"bgcolor\":\"white\",\"lakecolor\":\"white\",\"landcolor\":\"#E5ECF6\",\"showlakes\":true,\"showland\":true,\"subunitcolor\":\"white\"},\"hoverlabel\":{\"align\":\"left\"},\"hovermode\":\"closest\",\"mapbox\":{\"style\":\"light\"},\"paper_bgcolor\":\"white\",\"plot_bgcolor\":\"#E5ECF6\",\"polar\":{\"angularaxis\":{\"gridcolor\":\"white\",\"linecolor\":\"white\",\"ticks\":\"\"},\"bgcolor\":\"#E5ECF6\",\"radialaxis\":{\"gridcolor\":\"white\",\"linecolor\":\"white\",\"ticks\":\"\"}},\"scene\":{\"xaxis\":{\"backgroundcolor\":\"#E5ECF6\",\"gridcolor\":\"white\",\"gridwidth\":2,\"linecolor\":\"white\",\"showbackground\":true,\"ticks\":\"\",\"zerolinecolor\":\"white\"},\"yaxis\":{\"backgroundcolor\":\"#E5ECF6\",\"gridcolor\":\"white\",\"gridwidth\":2,\"linecolor\":\"white\",\"showbackground\":true,\"ticks\":\"\",\"zerolinecolor\":\"white\"},\"zaxis\":{\"backgroundcolor\":\"#E5ECF6\",\"gridcolor\":\"white\",\"gridwidth\":2,\"linecolor\":\"white\",\"showbackground\":true,\"ticks\":\"\",\"zerolinecolor\":\"white\"}},\"shapedefaults\":{\"line\":{\"color\":\"#2a3f5f\"}},\"ternary\":{\"aaxis\":{\"gridcolor\":\"white\",\"linecolor\":\"white\",\"ticks\":\"\"},\"baxis\":{\"gridcolor\":\"white\",\"linecolor\":\"white\",\"ticks\":\"\"},\"bgcolor\":\"#E5ECF6\",\"caxis\":{\"gridcolor\":\"white\",\"linecolor\":\"white\",\"ticks\":\"\"}},\"title\":{\"x\":0.05},\"xaxis\":{\"automargin\":true,\"gridcolor\":\"white\",\"linecolor\":\"white\",\"ticks\":\"\",\"title\":{\"standoff\":15},\"zerolinecolor\":\"white\",\"zerolinewidth\":2},\"yaxis\":{\"automargin\":true,\"gridcolor\":\"white\",\"linecolor\":\"white\",\"ticks\":\"\",\"title\":{\"standoff\":15},\"zerolinecolor\":\"white\",\"zerolinewidth\":2}}},\"xaxis\":{\"anchor\":\"y\",\"domain\":[0.0,0.15],\"title\":{},\"showgrid\":true,\"tickangle\":0},\"yaxis\":{\"anchor\":\"x\",\"domain\":[0.0,0.46499999999999997],\"title\":{\"text\":\"Hogares(%)\",\"font\":{\"size\":10},\"standoff\":8}},\"xaxis2\":{\"anchor\":\"y2\",\"domain\":[0.16999999999999998,0.31999999999999995],\"matches\":\"x\",\"title\":{},\"showgrid\":true,\"tickangle\":0},\"yaxis2\":{\"anchor\":\"x2\",\"domain\":[0.0,0.46499999999999997],\"matches\":\"y\",\"showticklabels\":false,\"title\":{\"font\":{\"size\":10},\"standoff\":8}},\"xaxis3\":{\"anchor\":\"y3\",\"domain\":[0.33999999999999997,0.49],\"matches\":\"x\",\"title\":{},\"showgrid\":true,\"tickangle\":0},\"yaxis3\":{\"anchor\":\"x3\",\"domain\":[0.0,0.46499999999999997],\"matches\":\"y\",\"showticklabels\":false,\"title\":{\"font\":{\"size\":10},\"standoff\":8}},\"xaxis4\":{\"anchor\":\"y4\",\"domain\":[0.51,0.66],\"matches\":\"x\",\"title\":{},\"showgrid\":true,\"tickangle\":0},\"yaxis4\":{\"anchor\":\"x4\",\"domain\":[0.0,0.46499999999999997],\"matches\":\"y\",\"showticklabels\":false,\"title\":{\"font\":{\"size\":10},\"standoff\":8}},\"xaxis5\":{\"anchor\":\"y5\",\"domain\":[0.6799999999999999,0.83],\"matches\":\"x\",\"title\":{},\"showgrid\":true,\"tickangle\":0},\"yaxis5\":{\"anchor\":\"x5\",\"domain\":[0.0,0.46499999999999997],\"matches\":\"y\",\"showticklabels\":false,\"title\":{\"font\":{\"size\":10},\"standoff\":8}},\"xaxis6\":{\"anchor\":\"y6\",\"domain\":[0.85,1.0],\"matches\":\"x\",\"title\":{},\"showgrid\":true,\"tickangle\":0},\"yaxis6\":{\"anchor\":\"x6\",\"domain\":[0.0,0.46499999999999997],\"matches\":\"y\",\"showticklabels\":false,\"title\":{\"font\":{\"size\":10},\"standoff\":8}},\"xaxis7\":{\"anchor\":\"y7\",\"domain\":[0.0,0.15],\"matches\":\"x\",\"showticklabels\":false,\"title\":{},\"showgrid\":true,\"tickangle\":0},\"yaxis7\":{\"anchor\":\"x7\",\"domain\":[0.5349999999999999,0.9999999999999999],\"matches\":\"y\",\"title\":{\"text\":\"Hogares(%)\",\"font\":{\"size\":10},\"standoff\":8}},\"xaxis8\":{\"anchor\":\"y8\",\"domain\":[0.16999999999999998,0.31999999999999995],\"matches\":\"x\",\"showticklabels\":false,\"title\":{},\"showgrid\":true,\"tickangle\":0},\"yaxis8\":{\"anchor\":\"x8\",\"domain\":[0.5349999999999999,0.9999999999999999],\"matches\":\"y\",\"showticklabels\":false,\"title\":{\"font\":{\"size\":10},\"standoff\":8}},\"xaxis9\":{\"anchor\":\"y9\",\"domain\":[0.33999999999999997,0.49],\"matches\":\"x\",\"showticklabels\":false,\"title\":{},\"showgrid\":true,\"tickangle\":0},\"yaxis9\":{\"anchor\":\"x9\",\"domain\":[0.5349999999999999,0.9999999999999999],\"matches\":\"y\",\"showticklabels\":false,\"title\":{\"font\":{\"size\":10},\"standoff\":8}},\"xaxis10\":{\"anchor\":\"y10\",\"domain\":[0.51,0.66],\"matches\":\"x\",\"showticklabels\":false,\"title\":{},\"showgrid\":true,\"tickangle\":0},\"yaxis10\":{\"anchor\":\"x10\",\"domain\":[0.5349999999999999,0.9999999999999999],\"matches\":\"y\",\"showticklabels\":false,\"title\":{\"font\":{\"size\":10},\"standoff\":8}},\"xaxis11\":{\"anchor\":\"y11\",\"domain\":[0.6799999999999999,0.83],\"matches\":\"x\",\"showticklabels\":false,\"title\":{},\"showgrid\":true,\"tickangle\":0},\"yaxis11\":{\"anchor\":\"x11\",\"domain\":[0.5349999999999999,0.9999999999999999],\"matches\":\"y\",\"showticklabels\":false,\"title\":{\"font\":{\"size\":10},\"standoff\":8}},\"xaxis12\":{\"anchor\":\"y12\",\"domain\":[0.85,1.0],\"matches\":\"x\",\"showticklabels\":false,\"title\":{},\"showgrid\":true,\"tickangle\":0},\"yaxis12\":{\"anchor\":\"x12\",\"domain\":[0.5349999999999999,0.9999999999999999],\"matches\":\"y\",\"showticklabels\":false,\"title\":{\"font\":{\"size\":10},\"standoff\":8}},\"annotations\":[{\"font\":{},\"showarrow\":false,\"text\":\"2003\",\"x\":0.075,\"xanchor\":\"center\",\"xref\":\"paper\",\"y\":0.46499999999999997,\"yanchor\":\"bottom\",\"yref\":\"paper\"},{\"font\":{},\"showarrow\":false,\"text\":\"2009\",\"x\":0.24499999999999997,\"xanchor\":\"center\",\"xref\":\"paper\",\"y\":0.46499999999999997,\"yanchor\":\"bottom\",\"yref\":\"paper\"},{\"font\":{},\"showarrow\":false,\"text\":\"2013\",\"x\":0.415,\"xanchor\":\"center\",\"xref\":\"paper\",\"y\":0.46499999999999997,\"yanchor\":\"bottom\",\"yref\":\"paper\"},{\"font\":{},\"showarrow\":false,\"text\":\"2015\",\"x\":0.585,\"xanchor\":\"center\",\"xref\":\"paper\",\"y\":0.46499999999999997,\"yanchor\":\"bottom\",\"yref\":\"paper\"},{\"font\":{},\"showarrow\":false,\"text\":\"2017\",\"x\":0.7549999999999999,\"xanchor\":\"center\",\"xref\":\"paper\",\"y\":0.46499999999999997,\"yanchor\":\"bottom\",\"yref\":\"paper\"},{\"font\":{},\"showarrow\":false,\"text\":\"2020\",\"x\":0.925,\"xanchor\":\"center\",\"xref\":\"paper\",\"y\":0.46499999999999997,\"yanchor\":\"bottom\",\"yref\":\"paper\"},{\"font\":{},\"showarrow\":false,\"text\":\"1990\",\"x\":0.075,\"xanchor\":\"center\",\"xref\":\"paper\",\"y\":0.9999999999999999,\"yanchor\":\"bottom\",\"yref\":\"paper\"},{\"font\":{},\"showarrow\":false,\"text\":\"1992\",\"x\":0.24499999999999997,\"xanchor\":\"center\",\"xref\":\"paper\",\"y\":0.9999999999999999,\"yanchor\":\"bottom\",\"yref\":\"paper\"},{\"font\":{},\"showarrow\":false,\"text\":\"1994\",\"x\":0.415,\"xanchor\":\"center\",\"xref\":\"paper\",\"y\":0.9999999999999999,\"yanchor\":\"bottom\",\"yref\":\"paper\"},{\"font\":{},\"showarrow\":false,\"text\":\"1996\",\"x\":0.585,\"xanchor\":\"center\",\"xref\":\"paper\",\"y\":0.9999999999999999,\"yanchor\":\"bottom\",\"yref\":\"paper\"},{\"font\":{},\"showarrow\":false,\"text\":\"1998\",\"x\":0.7549999999999999,\"xanchor\":\"center\",\"xref\":\"paper\",\"y\":0.9999999999999999,\"yanchor\":\"bottom\",\"yref\":\"paper\"},{\"font\":{},\"showarrow\":false,\"text\":\"2000\",\"x\":0.925,\"xanchor\":\"center\",\"xref\":\"paper\",\"y\":0.9999999999999999,\"yanchor\":\"bottom\",\"yref\":\"paper\"}],\"legend\":{\"title\":{\"text\":\"<b>Presencia de <br>menores</b>\"},\"tracegroupgap\":0,\"orientation\":\"h\",\"y\":1.02,\"yanchor\":\"bottom\",\"x\":0.2,\"xanchor\":\"center\"},\"margin\":{\"t\":20,\"l\":20,\"r\":20,\"b\":20},\"barmode\":\"group\",\"height\":600},                        {\"responsive\": true}                    ).then(function(){\n                            \nvar gd = document.getElementById('80184c50-ac53-4ce4-a01c-4ad804e4818c');\nvar x = new MutationObserver(function (mutations, observer) {{\n        var display = window.getComputedStyle(gd).display;\n        if (!display || display === 'none') {{\n            console.log([gd, 'removed!']);\n            Plotly.purge(gd);\n            observer.disconnect();\n        }}\n}});\n\n// Listen for the removal of the full notebook cells\nvar notebookContainer = gd.closest('#notebook-container');\nif (notebookContainer) {{\n    x.observe(notebookContainer, {childList: true});\n}}\n\n// Listen for the clearing of the current output cell\nvar outputEl = gd.closest('.output');\nif (outputEl) {{\n    x.observe(outputEl, {childList: true});\n}}\n\n                        })                };                });            </script>        </div>"
     },
     "metadata": {},
     "output_type": "display_data"
    }
   ],
   "source": [
    "df02 = pd.read_csv(rutas[1])\n",
    "fig = px.bar(df02.loc[df02.tipo_est == 'proporcion'],\n",
    "             x =  'quintil' ,\n",
    "             y = 'dato', facet_col= 'anio',\n",
    "             color = 'menor_18',\n",
    "             facet_col_wrap=6,\n",
    "             labels = {\n",
    "                 'menor_18': '<b>Presencia de <br>menores</b>',\n",
    "                 'dato': 'Hogares(%)',\n",
    "                 # 'pobreza': None\n",
    "                 # 'anio': 'Periodo'\n",
    "             },\n",
    "             error_y_minus='ic_bajo',\n",
    "             error_y='ic_alto',\n",
    "             # error_y={\n",
    "             #     \"type\": \"data\",\n",
    "             #     \"symmetric\": False,\n",
    "             #     \"array\": 'ic_alto',\n",
    "             #     \"arrayminus\": 'ic_bajo',\n",
    "             #     \"color\": 'black',\n",
    "             #     \"thickness\":3,\n",
    "             #     \"width\":2\n",
    "             # },\n",
    "             # category_orders={\n",
    "             #     'pobreza': ['no pobre','pobre no extremo', 'pobre extremo']\n",
    "             # },\n",
    "\n",
    "             color_discrete_map={\n",
    "                 'sin menores': '#2471A3',\n",
    "                 'con menores': '#E67E22'\n",
    "             },\n",
    "             text ='dato'\n",
    "\n",
    "\n",
    "             )\n",
    "fig.for_each_annotation(lambda a: a.update(text=a.text.split('=')[-1]),\n",
    "                        # x=0.2, xref='x domain',\n",
    "                        # y=0.8, yref='y domain'\n",
    "                        )\n",
    "fig.update_layout(template='plotly',\n",
    "                  # title ='<b>Evolución de la distribución de hogares con y sin menores de 18 años, según situación de '\n",
    "                  #        'pobreza</b>',\n",
    "                  height=600,\n",
    "                  # width=1100\n",
    "                  margin=\n",
    "                  dict(\n",
    "                      l=20,\n",
    "                      r=20,\n",
    "                      b=20,\n",
    "                      t=20\n",
    "                  ),\n",
    "                  barmode='group',\n",
    "                  legend=dict(\n",
    "                      # title=None,\n",
    "                      orientation='h', y=1.02, yanchor='bottom', x=0.2, xanchor='center'\n",
    "                  )\n",
    "                  )\n",
    "fig.update_xaxes(title=None,\n",
    "                 showgrid=True,\n",
    "                 tickangle=0,\n",
    "\n",
    "\n",
    "                 )\n",
    "fig.update_yaxes(\n",
    "    title_font_size = 10,\n",
    "    title_standoff = 8\n",
    ")\n",
    "fig.write_image('resultados/img/02_02_px.jpeg')\n",
    "\n",
    "fig.show()"
   ],
   "metadata": {
    "collapsed": false,
    "pycharm": {
     "name": "#%%\n"
    }
   }
  },
  {
   "cell_type": "code",
   "execution_count": 23,
   "outputs": [],
   "source": [
    "df03 = pd.read_csv(rutas[2])\n",
    "# grafico_agrupado_2x(\n",
    "#     data=df03,\n",
    "#     var_estimacion='tipo_est',\n",
    "#     valor_estimacion='proporcion',\n",
    "#     var_y='dato',\n",
    "#     var_trazas='menor_18',\n",
    "#     vars_x=['anio', 'pobreza'],\n",
    "#     var_ic_alto='ic_alto',\n",
    "#     var_ic_bajo='ic_bajo',\n",
    "#     title='<b>Distribución de hogares con y sin presencia de personas menores de 18 años,<br>según '\n",
    "#           'pobreza por ingreso',\n",
    "#     title_yaxes='Total hogares (%)',\n",
    "#     nombre_graf='02_03'\n",
    "# )\n",
    "# # df03.head(10)"
   ],
   "metadata": {
    "collapsed": false,
    "pycharm": {
     "name": "#%%\n"
    }
   }
  },
  {
   "cell_type": "code",
   "execution_count": 25,
   "outputs": [
    {
     "data": {
      "application/vnd.plotly.v1+json": {
       "data": [
        {
         "alignmentgroup": "True",
         "error_y": {
          "array": [
           0.2903907868097357,
           0.0109009423395553,
           0.0313206504289104
          ],
          "arrayminus": [
           0.2763788199360089,
           0.0081317153773519,
           0.0262953382982493
          ]
         },
         "hovertemplate": "<b>Presencia de <br>menores</b>=sin menores<br>anio=1990<br>pobreza=%{x}<br>Hogares(%)=%{text}<extra></extra>",
         "legendgroup": "sin menores",
         "marker": {
          "color": "#2471A3",
          "pattern": {
           "shape": ""
          }
         },
         "name": "sin menores",
         "offsetgroup": "sin menores",
         "orientation": "v",
         "showlegend": true,
         "text": [
          28.3,
          0.9,
          2.9
         ],
         "textposition": "auto",
         "x": [
          "no pobre",
          "pobre extremo",
          "pobre no extremo"
         ],
         "xaxis": "x10",
         "y": [
          28.3,
          0.9,
          2.9
         ],
         "yaxis": "y10",
         "type": "bar"
        },
        {
         "alignmentgroup": "True",
         "error_y": {
          "array": [
           0.3088249030255242,
           0.0083930902658851,
           0.0247928151530685
          ],
          "arrayminus": [
           0.2962762427452598,
           0.0061861779361014,
           0.0209362709484069
          ]
         },
         "hovertemplate": "<b>Presencia de <br>menores</b>=sin menores<br>anio=1992<br>pobreza=%{x}<br>Hogares(%)=%{text}<extra></extra>",
         "legendgroup": "sin menores",
         "marker": {
          "color": "#2471A3",
          "pattern": {
           "shape": ""
          }
         },
         "name": "sin menores",
         "offsetgroup": "sin menores",
         "orientation": "v",
         "showlegend": false,
         "text": [
          30.3,
          0.7,
          2.3
         ],
         "textposition": "auto",
         "x": [
          "no pobre",
          "pobre extremo",
          "pobre no extremo"
         ],
         "xaxis": "x11",
         "y": [
          30.3,
          0.7,
          2.3
         ],
         "yaxis": "y11",
         "type": "bar"
        },
        {
         "alignmentgroup": "True",
         "error_y": {
          "array": [
           0.3239363075591567,
           0.0088125735463235,
           0.0217046040560941
          ],
          "arrayminus": [
           0.3112084597653654,
           0.0065683878073214,
           0.0180939004220735
          ]
         },
         "hovertemplate": "<b>Presencia de <br>menores</b>=sin menores<br>anio=1994<br>pobreza=%{x}<br>Hogares(%)=%{text}<extra></extra>",
         "legendgroup": "sin menores",
         "marker": {
          "color": "#2471A3",
          "pattern": {
           "shape": ""
          }
         },
         "name": "sin menores",
         "offsetgroup": "sin menores",
         "orientation": "v",
         "showlegend": false,
         "text": [
          31.8,
          0.8,
          2.0
         ],
         "textposition": "auto",
         "x": [
          "no pobre",
          "pobre extremo",
          "pobre no extremo"
         ],
         "xaxis": "x12",
         "y": [
          31.8,
          0.8,
          2.0
         ],
         "yaxis": "y12",
         "type": "bar"
        },
        {
         "alignmentgroup": "True",
         "error_y": {
          "array": [
           0.3184878886090749,
           0.0070042905669565,
           0.0163414000669958
          ],
          "arrayminus": [
           0.3012904319942849,
           0.0048664824113297,
           0.0128707413365338
          ]
         },
         "hovertemplate": "<b>Presencia de <br>menores</b>=sin menores<br>anio=1996<br>pobreza=%{x}<br>Hogares(%)=%{text}<extra></extra>",
         "legendgroup": "sin menores",
         "marker": {
          "color": "#2471A3",
          "pattern": {
           "shape": ""
          }
         },
         "name": "sin menores",
         "offsetgroup": "sin menores",
         "orientation": "v",
         "showlegend": false,
         "text": [
          31.0,
          0.6,
          1.5
         ],
         "textposition": "auto",
         "x": [
          "no pobre",
          "pobre extremo",
          "pobre no extremo"
         ],
         "xaxis": "x7",
         "y": [
          31.0,
          0.6,
          1.5
         ],
         "yaxis": "y7",
         "type": "bar"
        },
        {
         "alignmentgroup": "True",
         "error_y": {
          "array": [
           0.3295547192318508,
           0.0072274970982909,
           0.0145864972202659
          ],
          "arrayminus": [
           0.3161603317554526,
           0.0050416527188707,
           0.0116937688294752
          ]
         },
         "hovertemplate": "<b>Presencia de <br>menores</b>=sin menores<br>anio=1998<br>pobreza=%{x}<br>Hogares(%)=%{text}<extra></extra>",
         "legendgroup": "sin menores",
         "marker": {
          "color": "#2471A3",
          "pattern": {
           "shape": ""
          }
         },
         "name": "sin menores",
         "offsetgroup": "sin menores",
         "orientation": "v",
         "showlegend": false,
         "text": [
          32.3,
          0.6,
          1.3
         ],
         "textposition": "auto",
         "x": [
          "no pobre",
          "pobre extremo",
          "pobre no extremo"
         ],
         "xaxis": "x8",
         "y": [
          32.3,
          0.6,
          1.3
         ],
         "yaxis": "y8",
         "type": "bar"
        },
        {
         "alignmentgroup": "True",
         "error_y": {
          "array": [
           0.3419177597001733,
           0.0063390920842339,
           0.0119253442543497
          ],
          "arrayminus": [
           0.3262200918161329,
           0.0042389255757436,
           0.0095578333453404
          ]
         },
         "hovertemplate": "<b>Presencia de <br>menores</b>=sin menores<br>anio=2000<br>pobreza=%{x}<br>Hogares(%)=%{text}<extra></extra>",
         "legendgroup": "sin menores",
         "marker": {
          "color": "#2471A3",
          "pattern": {
           "shape": ""
          }
         },
         "name": "sin menores",
         "offsetgroup": "sin menores",
         "orientation": "v",
         "showlegend": false,
         "text": [
          33.4,
          0.5,
          1.1
         ],
         "textposition": "auto",
         "x": [
          "no pobre",
          "pobre extremo",
          "pobre no extremo"
         ],
         "xaxis": "x9",
         "y": [
          33.4,
          0.5,
          1.1
         ],
         "yaxis": "y9",
         "type": "bar"
        },
        {
         "alignmentgroup": "True",
         "error_y": {
          "array": [
           0.3596538095611244,
           0.0060874790666749,
           0.0163067757849029
          ],
          "arrayminus": [
           0.3456509094067821,
           0.0045730309348435,
           0.0135916436764437
          ]
         },
         "hovertemplate": "<b>Presencia de <br>menores</b>=sin menores<br>anio=2003<br>pobreza=%{x}<br>Hogares(%)=%{text}<extra></extra>",
         "legendgroup": "sin menores",
         "marker": {
          "color": "#2471A3",
          "pattern": {
           "shape": ""
          }
         },
         "name": "sin menores",
         "offsetgroup": "sin menores",
         "orientation": "v",
         "showlegend": false,
         "text": [
          35.3,
          0.5,
          1.5
         ],
         "textposition": "auto",
         "x": [
          "no pobre",
          "pobre extremo",
          "pobre no extremo"
         ],
         "xaxis": "x4",
         "y": [
          35.3,
          0.5,
          1.5
         ],
         "yaxis": "y4",
         "type": "bar"
        },
        {
         "alignmentgroup": "True",
         "error_y": {
          "array": [
           0.4193429387776369,
           0.0109454646443592,
           0.0192252250736685
          ],
          "arrayminus": [
           0.4054483940483313,
           0.0087268158203173,
           0.0162830769269931
          ]
         },
         "hovertemplate": "<b>Presencia de <br>menores</b>=sin menores<br>anio=2009<br>pobreza=%{x}<br>Hogares(%)=%{text}<extra></extra>",
         "legendgroup": "sin menores",
         "marker": {
          "color": "#2471A3",
          "pattern": {
           "shape": ""
          }
         },
         "name": "sin menores",
         "offsetgroup": "sin menores",
         "orientation": "v",
         "showlegend": false,
         "text": [
          41.2,
          1.0,
          1.8
         ],
         "textposition": "auto",
         "x": [
          "no pobre",
          "pobre extremo",
          "pobre no extremo"
         ],
         "xaxis": "x5",
         "y": [
          41.2,
          1.0,
          1.8
         ],
         "yaxis": "y5",
         "type": "bar"
        },
        {
         "alignmentgroup": "True",
         "error_y": {
          "array": [
           0.4799539715207159,
           0.0106203480909099,
           0.0275419790550695
          ],
          "arrayminus": [
           0.4650613994017286,
           0.0087601316564644,
           0.0240028561762045
          ]
         },
         "hovertemplate": "<b>Presencia de <br>menores</b>=sin menores<br>anio=2013<br>pobreza=%{x}<br>Hogares(%)=%{text}<extra></extra>",
         "legendgroup": "sin menores",
         "marker": {
          "color": "#2471A3",
          "pattern": {
           "shape": ""
          }
         },
         "name": "sin menores",
         "offsetgroup": "sin menores",
         "orientation": "v",
         "showlegend": false,
         "text": [
          47.3,
          1.0,
          2.6
         ],
         "textposition": "auto",
         "x": [
          "no pobre",
          "pobre extremo",
          "pobre no extremo"
         ],
         "xaxis": "x6",
         "y": [
          47.3,
          1.0,
          2.6
         ],
         "yaxis": "y6",
         "type": "bar"
        },
        {
         "alignmentgroup": "True",
         "error_y": {
          "array": [
           0.4991082088785785,
           0.0108245297998123,
           0.0237674176898614
          ],
          "arrayminus": [
           0.4847123058514814,
           0.0084636704378873,
           0.0201466368938302
          ]
         },
         "hovertemplate": "<b>Presencia de <br>menores</b>=sin menores<br>anio=2015<br>pobreza=%{x}<br>Hogares(%)=%{text}<extra></extra>",
         "legendgroup": "sin menores",
         "marker": {
          "color": "#2471A3",
          "pattern": {
           "shape": ""
          }
         },
         "name": "sin menores",
         "offsetgroup": "sin menores",
         "orientation": "v",
         "showlegend": false,
         "text": [
          49.2,
          1.0,
          2.2
         ],
         "textposition": "auto",
         "x": [
          "no pobre",
          "pobre extremo",
          "pobre no extremo"
         ],
         "xaxis": "x",
         "y": [
          49.2,
          1.0,
          2.2
         ],
         "yaxis": "y",
         "type": "bar"
        },
        {
         "alignmentgroup": "True",
         "error_y": {
          "array": [
           0.5473983415743071,
           0.0094357207024632,
           0.0182449286063422
          ],
          "arrayminus": [
           0.5326961232014173,
           0.0072884291902213,
           0.0156874720283331
          ]
         },
         "hovertemplate": "<b>Presencia de <br>menores</b>=sin menores<br>anio=2017<br>pobreza=%{x}<br>Hogares(%)=%{text}<extra></extra>",
         "legendgroup": "sin menores",
         "marker": {
          "color": "#2471A3",
          "pattern": {
           "shape": ""
          }
         },
         "name": "sin menores",
         "offsetgroup": "sin menores",
         "orientation": "v",
         "showlegend": false,
         "text": [
          54.0,
          0.8,
          1.7
         ],
         "textposition": "auto",
         "x": [
          "no pobre",
          "pobre extremo",
          "pobre no extremo"
         ],
         "xaxis": "x2",
         "y": [
          54.0,
          0.8,
          1.7
         ],
         "yaxis": "y2",
         "type": "bar"
        },
        {
         "alignmentgroup": "True",
         "error_y": {
          "array": [
           0.5482523597099416,
           0.0177668416858192,
           0.0213003966293128
          ],
          "arrayminus": [
           0.5301721901796244,
           0.0152629525449302,
           0.0185570373788913
          ]
         },
         "hovertemplate": "<b>Presencia de <br>menores</b>=sin menores<br>anio=2020<br>pobreza=%{x}<br>Hogares(%)=%{text}<extra></extra>",
         "legendgroup": "sin menores",
         "marker": {
          "color": "#2471A3",
          "pattern": {
           "shape": ""
          }
         },
         "name": "sin menores",
         "offsetgroup": "sin menores",
         "orientation": "v",
         "showlegend": false,
         "text": [
          53.9,
          1.6,
          2.0
         ],
         "textposition": "auto",
         "x": [
          "no pobre",
          "pobre extremo",
          "pobre no extremo"
         ],
         "xaxis": "x3",
         "y": [
          53.9,
          1.6,
          2.0
         ],
         "yaxis": "y3",
         "type": "bar"
        },
        {
         "alignmentgroup": "True",
         "error_y": {
          "array": [
           0.3913303083325076,
           0.101557514028948,
           0.203712575707527
          ],
          "arrayminus": [
           0.3763364152168996,
           0.0927852828464231,
           0.1917465660881165
          ]
         },
         "hovertemplate": "<b>Presencia de <br>menores</b>=con menores<br>anio=1990<br>pobreza=%{x}<br>Hogares(%)=%{text}<extra></extra>",
         "legendgroup": "con menores",
         "marker": {
          "color": "#E67E22",
          "pattern": {
           "shape": ""
          }
         },
         "name": "con menores",
         "offsetgroup": "con menores",
         "orientation": "v",
         "showlegend": true,
         "text": [
          38.4,
          9.7,
          19.8
         ],
         "textposition": "auto",
         "x": [
          "no pobre",
          "pobre extremo",
          "pobre no extremo"
         ],
         "xaxis": "x10",
         "y": [
          38.4,
          9.7,
          19.8
         ],
         "yaxis": "y10",
         "type": "bar"
        },
        {
         "alignmentgroup": "True",
         "error_y": {
          "array": [
           0.4246024620287052,
           0.0696563618540372,
           0.1883526791130259
          ],
          "arrayminus": [
           0.4111815103448935,
           0.0633227429633822,
           0.1781549814418643
          ]
         },
         "hovertemplate": "<b>Presencia de <br>menores</b>=con menores<br>anio=1992<br>pobreza=%{x}<br>Hogares(%)=%{text}<extra></extra>",
         "legendgroup": "con menores",
         "marker": {
          "color": "#E67E22",
          "pattern": {
           "shape": ""
          }
         },
         "name": "con menores",
         "offsetgroup": "con menores",
         "orientation": "v",
         "showlegend": false,
         "text": [
          41.8,
          6.6,
          18.3
         ],
         "textposition": "auto",
         "x": [
          "no pobre",
          "pobre extremo",
          "pobre no extremo"
         ],
         "xaxis": "x11",
         "y": [
          41.8,
          6.6,
          18.3
         ],
         "yaxis": "y11",
         "type": "bar"
        },
        {
         "alignmentgroup": "True",
         "error_y": {
          "array": [
           0.4558247377799101,
           0.0575253467511345,
           0.1558462811164472
          ],
          "arrayminus": [
           0.4423070999548629,
           0.0520059275048891,
           0.1468192787137494
          ]
         },
         "hovertemplate": "<b>Presencia de <br>menores</b>=con menores<br>anio=1994<br>pobreza=%{x}<br>Hogares(%)=%{text}<extra></extra>",
         "legendgroup": "con menores",
         "marker": {
          "color": "#E67E22",
          "pattern": {
           "shape": ""
          }
         },
         "name": "con menores",
         "offsetgroup": "con menores",
         "orientation": "v",
         "showlegend": false,
         "text": [
          44.9,
          5.5,
          15.1
         ],
         "textposition": "auto",
         "x": [
          "no pobre",
          "pobre extremo",
          "pobre no extremo"
         ],
         "xaxis": "x12",
         "y": [
          44.9,
          5.5,
          15.1
         ],
         "yaxis": "y12",
         "type": "bar"
        },
        {
         "alignmentgroup": "True",
         "error_y": {
          "array": [
           0.5024700751259573,
           0.0456502385743252,
           0.139772828813638
          ],
          "arrayminus": [
           0.4840798880199258,
           0.0399789338171441,
           0.1281138954812713
          ]
         },
         "hovertemplate": "<b>Presencia de <br>menores</b>=con menores<br>anio=1996<br>pobreza=%{x}<br>Hogares(%)=%{text}<extra></extra>",
         "legendgroup": "con menores",
         "marker": {
          "color": "#E67E22",
          "pattern": {
           "shape": ""
          }
         },
         "name": "con menores",
         "offsetgroup": "con menores",
         "orientation": "v",
         "showlegend": false,
         "text": [
          49.3,
          4.3,
          13.4
         ],
         "textposition": "auto",
         "x": [
          "no pobre",
          "pobre extremo",
          "pobre no extremo"
         ],
         "xaxis": "x7",
         "y": [
          49.3,
          4.3,
          13.4
         ],
         "yaxis": "y7",
         "type": "bar"
        },
        {
         "alignmentgroup": "True",
         "error_y": {
          "array": [
           0.5066622849475041,
           0.0428562899986242,
           0.1224014947282362
          ],
          "arrayminus": [
           0.4925692729683043,
           0.0379091061952391,
           0.1140360942339445
          ]
         },
         "hovertemplate": "<b>Presencia de <br>menores</b>=con menores<br>anio=1998<br>pobreza=%{x}<br>Hogares(%)=%{text}<extra></extra>",
         "legendgroup": "con menores",
         "marker": {
          "color": "#E67E22",
          "pattern": {
           "shape": ""
          }
         },
         "name": "con menores",
         "offsetgroup": "con menores",
         "orientation": "v",
         "showlegend": false,
         "text": [
          50.0,
          4.0,
          11.8
         ],
         "textposition": "auto",
         "x": [
          "no pobre",
          "pobre extremo",
          "pobre no extremo"
         ],
         "xaxis": "x8",
         "y": [
          50.0,
          4.0,
          11.8
         ],
         "yaxis": "y8",
         "type": "bar"
        },
        {
         "alignmentgroup": "True",
         "error_y": {
          "array": [
           0.5111288203377822,
           0.0425485059025341,
           0.1113209920888132
          ],
          "arrayminus": [
           0.4944862767540618,
           0.0376815239658935,
           0.1033364237693303
          ]
         },
         "hovertemplate": "<b>Presencia de <br>menores</b>=con menores<br>anio=2000<br>pobreza=%{x}<br>Hogares(%)=%{text}<extra></extra>",
         "legendgroup": "con menores",
         "marker": {
          "color": "#E67E22",
          "pattern": {
           "shape": ""
          }
         },
         "name": "con menores",
         "offsetgroup": "con menores",
         "orientation": "v",
         "showlegend": false,
         "text": [
          50.3,
          4.0,
          10.7
         ],
         "textposition": "auto",
         "x": [
          "no pobre",
          "pobre extremo",
          "pobre no extremo"
         ],
         "xaxis": "x9",
         "y": [
          50.3,
          4.0,
          10.7
         ],
         "yaxis": "y9",
         "type": "bar"
        },
        {
         "alignmentgroup": "True",
         "error_y": {
          "array": [
           0.5018756482680745,
           0.035657065691987,
           0.1031896493782085
          ],
          "arrayminus": [
           0.4871404029459844,
           0.0313050385677697,
           0.0955314689389712
          ]
         },
         "hovertemplate": "<b>Presencia de <br>menores</b>=con menores<br>anio=2003<br>pobreza=%{x}<br>Hogares(%)=%{text}<extra></extra>",
         "legendgroup": "con menores",
         "marker": {
          "color": "#E67E22",
          "pattern": {
           "shape": ""
          }
         },
         "name": "con menores",
         "offsetgroup": "con menores",
         "orientation": "v",
         "showlegend": false,
         "text": [
          49.5,
          3.3,
          9.9
         ],
         "textposition": "auto",
         "x": [
          "no pobre",
          "pobre extremo",
          "pobre no extremo"
         ],
         "xaxis": "x4",
         "y": [
          49.5,
          3.3,
          9.9
         ],
         "yaxis": "y4",
         "type": "bar"
        },
        {
         "alignmentgroup": "True",
         "error_y": {
          "array": [
           0.4670657512221682,
           0.0264282866216233,
           0.0784306482045407
          ],
          "arrayminus": [
           0.4533559214902251,
           0.0230083550556918,
           0.0722646191417851
          ]
         },
         "hovertemplate": "<b>Presencia de <br>menores</b>=con menores<br>anio=2009<br>pobreza=%{x}<br>Hogares(%)=%{text}<extra></extra>",
         "legendgroup": "con menores",
         "marker": {
          "color": "#E67E22",
          "pattern": {
           "shape": ""
          }
         },
         "name": "con menores",
         "offsetgroup": "con menores",
         "orientation": "v",
         "showlegend": false,
         "text": [
          46.0,
          2.5,
          7.5
         ],
         "textposition": "auto",
         "x": [
          "no pobre",
          "pobre extremo",
          "pobre no extremo"
         ],
         "xaxis": "x5",
         "y": [
          46.0,
          2.5,
          7.5
         ],
         "yaxis": "y5",
         "type": "bar"
        },
        {
         "alignmentgroup": "True",
         "error_y": {
          "array": [
           0.4063857139005858,
           0.0318549762316633,
           0.0662423158647343
          ],
          "arrayminus": [
           0.392896842816613,
           0.0277360103680951,
           0.0595073451869954
          ]
         },
         "hovertemplate": "<b>Presencia de <br>menores</b>=con menores<br>anio=2013<br>pobreza=%{x}<br>Hogares(%)=%{text}<extra></extra>",
         "legendgroup": "con menores",
         "marker": {
          "color": "#E67E22",
          "pattern": {
           "shape": ""
          }
         },
         "name": "con menores",
         "offsetgroup": "con menores",
         "orientation": "v",
         "showlegend": false,
         "text": [
          40.0,
          3.0,
          6.3
         ],
         "textposition": "auto",
         "x": [
          "no pobre",
          "pobre extremo",
          "pobre no extremo"
         ],
         "xaxis": "x6",
         "y": [
          40.0,
          3.0,
          6.3
         ],
         "yaxis": "y6",
         "type": "bar"
        },
        {
         "alignmentgroup": "True",
         "error_y": {
          "array": [
           0.4108971187629744,
           0.0237559336006714,
           0.0526118583495774
          ],
          "arrayminus": [
           0.3972032187695161,
           0.0209294595677022,
           0.0480936460586477
          ]
         },
         "hovertemplate": "<b>Presencia de <br>menores</b>=con menores<br>anio=2015<br>pobreza=%{x}<br>Hogares(%)=%{text}<extra></extra>",
         "legendgroup": "con menores",
         "marker": {
          "color": "#E67E22",
          "pattern": {
           "shape": ""
          }
         },
         "name": "con menores",
         "offsetgroup": "con menores",
         "orientation": "v",
         "showlegend": false,
         "text": [
          40.4,
          2.2,
          5.0
         ],
         "textposition": "auto",
         "x": [
          "no pobre",
          "pobre extremo",
          "pobre no extremo"
         ],
         "xaxis": "x",
         "y": [
          40.4,
          2.2,
          5.0
         ],
         "yaxis": "y",
         "type": "bar"
        },
        {
         "alignmentgroup": "True",
         "error_y": {
          "array": [
           0.3910628252039732,
           0.0152374794317098,
           0.0389666062006809
          ],
          "arrayminus": [
           0.3770355069645681,
           0.0125181633158155,
           0.0349291412383603
          ]
         },
         "hovertemplate": "<b>Presencia de <br>menores</b>=con menores<br>anio=2017<br>pobreza=%{x}<br>Hogares(%)=%{text}<extra></extra>",
         "legendgroup": "con menores",
         "marker": {
          "color": "#E67E22",
          "pattern": {
           "shape": ""
          }
         },
         "name": "con menores",
         "offsetgroup": "con menores",
         "orientation": "v",
         "showlegend": false,
         "text": [
          38.4,
          1.4,
          3.7
         ],
         "textposition": "auto",
         "x": [
          "no pobre",
          "pobre extremo",
          "pobre no extremo"
         ],
         "xaxis": "x2",
         "y": [
          38.4,
          1.4,
          3.7
         ],
         "yaxis": "y2",
         "type": "bar"
        },
        {
         "alignmentgroup": "True",
         "error_y": {
          "array": [
           0.3758183519267278,
           0.0241349404886353,
           0.0379391456260032
          ],
          "arrayminus": [
           0.3564244675225394,
           0.0209875321572033,
           0.0338709845424561
          ]
         },
         "hovertemplate": "<b>Presencia de <br>menores</b>=con menores<br>anio=2020<br>pobreza=%{x}<br>Hogares(%)=%{text}<extra></extra>",
         "legendgroup": "con menores",
         "marker": {
          "color": "#E67E22",
          "pattern": {
           "shape": ""
          }
         },
         "name": "con menores",
         "offsetgroup": "con menores",
         "orientation": "v",
         "showlegend": false,
         "text": [
          36.6,
          2.3,
          3.6
         ],
         "textposition": "auto",
         "x": [
          "no pobre",
          "pobre extremo",
          "pobre no extremo"
         ],
         "xaxis": "x3",
         "y": [
          36.6,
          2.3,
          3.6
         ],
         "yaxis": "y3",
         "type": "bar"
        }
       ],
       "layout": {
        "template": {
         "data": {
          "barpolar": [
           {
            "marker": {
             "line": {
              "color": "#E5ECF6",
              "width": 0.5
             },
             "pattern": {
              "fillmode": "overlay",
              "size": 10,
              "solidity": 0.2
             }
            },
            "type": "barpolar"
           }
          ],
          "bar": [
           {
            "error_x": {
             "color": "#2a3f5f"
            },
            "error_y": {
             "color": "#2a3f5f"
            },
            "marker": {
             "line": {
              "color": "#E5ECF6",
              "width": 0.5
             },
             "pattern": {
              "fillmode": "overlay",
              "size": 10,
              "solidity": 0.2
             }
            },
            "type": "bar"
           }
          ],
          "carpet": [
           {
            "aaxis": {
             "endlinecolor": "#2a3f5f",
             "gridcolor": "white",
             "linecolor": "white",
             "minorgridcolor": "white",
             "startlinecolor": "#2a3f5f"
            },
            "baxis": {
             "endlinecolor": "#2a3f5f",
             "gridcolor": "white",
             "linecolor": "white",
             "minorgridcolor": "white",
             "startlinecolor": "#2a3f5f"
            },
            "type": "carpet"
           }
          ],
          "choropleth": [
           {
            "colorbar": {
             "outlinewidth": 0,
             "ticks": ""
            },
            "type": "choropleth"
           }
          ],
          "contourcarpet": [
           {
            "colorbar": {
             "outlinewidth": 0,
             "ticks": ""
            },
            "type": "contourcarpet"
           }
          ],
          "contour": [
           {
            "colorbar": {
             "outlinewidth": 0,
             "ticks": ""
            },
            "colorscale": [
             [
              0.0,
              "#0d0887"
             ],
             [
              0.1111111111111111,
              "#46039f"
             ],
             [
              0.2222222222222222,
              "#7201a8"
             ],
             [
              0.3333333333333333,
              "#9c179e"
             ],
             [
              0.4444444444444444,
              "#bd3786"
             ],
             [
              0.5555555555555556,
              "#d8576b"
             ],
             [
              0.6666666666666666,
              "#ed7953"
             ],
             [
              0.7777777777777778,
              "#fb9f3a"
             ],
             [
              0.8888888888888888,
              "#fdca26"
             ],
             [
              1.0,
              "#f0f921"
             ]
            ],
            "type": "contour"
           }
          ],
          "heatmapgl": [
           {
            "colorbar": {
             "outlinewidth": 0,
             "ticks": ""
            },
            "colorscale": [
             [
              0.0,
              "#0d0887"
             ],
             [
              0.1111111111111111,
              "#46039f"
             ],
             [
              0.2222222222222222,
              "#7201a8"
             ],
             [
              0.3333333333333333,
              "#9c179e"
             ],
             [
              0.4444444444444444,
              "#bd3786"
             ],
             [
              0.5555555555555556,
              "#d8576b"
             ],
             [
              0.6666666666666666,
              "#ed7953"
             ],
             [
              0.7777777777777778,
              "#fb9f3a"
             ],
             [
              0.8888888888888888,
              "#fdca26"
             ],
             [
              1.0,
              "#f0f921"
             ]
            ],
            "type": "heatmapgl"
           }
          ],
          "heatmap": [
           {
            "colorbar": {
             "outlinewidth": 0,
             "ticks": ""
            },
            "colorscale": [
             [
              0.0,
              "#0d0887"
             ],
             [
              0.1111111111111111,
              "#46039f"
             ],
             [
              0.2222222222222222,
              "#7201a8"
             ],
             [
              0.3333333333333333,
              "#9c179e"
             ],
             [
              0.4444444444444444,
              "#bd3786"
             ],
             [
              0.5555555555555556,
              "#d8576b"
             ],
             [
              0.6666666666666666,
              "#ed7953"
             ],
             [
              0.7777777777777778,
              "#fb9f3a"
             ],
             [
              0.8888888888888888,
              "#fdca26"
             ],
             [
              1.0,
              "#f0f921"
             ]
            ],
            "type": "heatmap"
           }
          ],
          "histogram2dcontour": [
           {
            "colorbar": {
             "outlinewidth": 0,
             "ticks": ""
            },
            "colorscale": [
             [
              0.0,
              "#0d0887"
             ],
             [
              0.1111111111111111,
              "#46039f"
             ],
             [
              0.2222222222222222,
              "#7201a8"
             ],
             [
              0.3333333333333333,
              "#9c179e"
             ],
             [
              0.4444444444444444,
              "#bd3786"
             ],
             [
              0.5555555555555556,
              "#d8576b"
             ],
             [
              0.6666666666666666,
              "#ed7953"
             ],
             [
              0.7777777777777778,
              "#fb9f3a"
             ],
             [
              0.8888888888888888,
              "#fdca26"
             ],
             [
              1.0,
              "#f0f921"
             ]
            ],
            "type": "histogram2dcontour"
           }
          ],
          "histogram2d": [
           {
            "colorbar": {
             "outlinewidth": 0,
             "ticks": ""
            },
            "colorscale": [
             [
              0.0,
              "#0d0887"
             ],
             [
              0.1111111111111111,
              "#46039f"
             ],
             [
              0.2222222222222222,
              "#7201a8"
             ],
             [
              0.3333333333333333,
              "#9c179e"
             ],
             [
              0.4444444444444444,
              "#bd3786"
             ],
             [
              0.5555555555555556,
              "#d8576b"
             ],
             [
              0.6666666666666666,
              "#ed7953"
             ],
             [
              0.7777777777777778,
              "#fb9f3a"
             ],
             [
              0.8888888888888888,
              "#fdca26"
             ],
             [
              1.0,
              "#f0f921"
             ]
            ],
            "type": "histogram2d"
           }
          ],
          "histogram": [
           {
            "marker": {
             "pattern": {
              "fillmode": "overlay",
              "size": 10,
              "solidity": 0.2
             }
            },
            "type": "histogram"
           }
          ],
          "mesh3d": [
           {
            "colorbar": {
             "outlinewidth": 0,
             "ticks": ""
            },
            "type": "mesh3d"
           }
          ],
          "parcoords": [
           {
            "line": {
             "colorbar": {
              "outlinewidth": 0,
              "ticks": ""
             }
            },
            "type": "parcoords"
           }
          ],
          "pie": [
           {
            "automargin": true,
            "type": "pie"
           }
          ],
          "scatter3d": [
           {
            "line": {
             "colorbar": {
              "outlinewidth": 0,
              "ticks": ""
             }
            },
            "marker": {
             "colorbar": {
              "outlinewidth": 0,
              "ticks": ""
             }
            },
            "type": "scatter3d"
           }
          ],
          "scattercarpet": [
           {
            "marker": {
             "colorbar": {
              "outlinewidth": 0,
              "ticks": ""
             }
            },
            "type": "scattercarpet"
           }
          ],
          "scattergeo": [
           {
            "marker": {
             "colorbar": {
              "outlinewidth": 0,
              "ticks": ""
             }
            },
            "type": "scattergeo"
           }
          ],
          "scattergl": [
           {
            "marker": {
             "colorbar": {
              "outlinewidth": 0,
              "ticks": ""
             }
            },
            "type": "scattergl"
           }
          ],
          "scattermapbox": [
           {
            "marker": {
             "colorbar": {
              "outlinewidth": 0,
              "ticks": ""
             }
            },
            "type": "scattermapbox"
           }
          ],
          "scatterpolargl": [
           {
            "marker": {
             "colorbar": {
              "outlinewidth": 0,
              "ticks": ""
             }
            },
            "type": "scatterpolargl"
           }
          ],
          "scatterpolar": [
           {
            "marker": {
             "colorbar": {
              "outlinewidth": 0,
              "ticks": ""
             }
            },
            "type": "scatterpolar"
           }
          ],
          "scatter": [
           {
            "marker": {
             "colorbar": {
              "outlinewidth": 0,
              "ticks": ""
             }
            },
            "type": "scatter"
           }
          ],
          "scatterternary": [
           {
            "marker": {
             "colorbar": {
              "outlinewidth": 0,
              "ticks": ""
             }
            },
            "type": "scatterternary"
           }
          ],
          "surface": [
           {
            "colorbar": {
             "outlinewidth": 0,
             "ticks": ""
            },
            "colorscale": [
             [
              0.0,
              "#0d0887"
             ],
             [
              0.1111111111111111,
              "#46039f"
             ],
             [
              0.2222222222222222,
              "#7201a8"
             ],
             [
              0.3333333333333333,
              "#9c179e"
             ],
             [
              0.4444444444444444,
              "#bd3786"
             ],
             [
              0.5555555555555556,
              "#d8576b"
             ],
             [
              0.6666666666666666,
              "#ed7953"
             ],
             [
              0.7777777777777778,
              "#fb9f3a"
             ],
             [
              0.8888888888888888,
              "#fdca26"
             ],
             [
              1.0,
              "#f0f921"
             ]
            ],
            "type": "surface"
           }
          ],
          "table": [
           {
            "cells": {
             "fill": {
              "color": "#EBF0F8"
             },
             "line": {
              "color": "white"
             }
            },
            "header": {
             "fill": {
              "color": "#C8D4E3"
             },
             "line": {
              "color": "white"
             }
            },
            "type": "table"
           }
          ]
         },
         "layout": {
          "annotationdefaults": {
           "arrowcolor": "#2a3f5f",
           "arrowhead": 0,
           "arrowwidth": 1
          },
          "autotypenumbers": "strict",
          "coloraxis": {
           "colorbar": {
            "outlinewidth": 0,
            "ticks": ""
           }
          },
          "colorscale": {
           "diverging": [
            [
             0,
             "#8e0152"
            ],
            [
             0.1,
             "#c51b7d"
            ],
            [
             0.2,
             "#de77ae"
            ],
            [
             0.3,
             "#f1b6da"
            ],
            [
             0.4,
             "#fde0ef"
            ],
            [
             0.5,
             "#f7f7f7"
            ],
            [
             0.6,
             "#e6f5d0"
            ],
            [
             0.7,
             "#b8e186"
            ],
            [
             0.8,
             "#7fbc41"
            ],
            [
             0.9,
             "#4d9221"
            ],
            [
             1,
             "#276419"
            ]
           ],
           "sequential": [
            [
             0.0,
             "#0d0887"
            ],
            [
             0.1111111111111111,
             "#46039f"
            ],
            [
             0.2222222222222222,
             "#7201a8"
            ],
            [
             0.3333333333333333,
             "#9c179e"
            ],
            [
             0.4444444444444444,
             "#bd3786"
            ],
            [
             0.5555555555555556,
             "#d8576b"
            ],
            [
             0.6666666666666666,
             "#ed7953"
            ],
            [
             0.7777777777777778,
             "#fb9f3a"
            ],
            [
             0.8888888888888888,
             "#fdca26"
            ],
            [
             1.0,
             "#f0f921"
            ]
           ],
           "sequentialminus": [
            [
             0.0,
             "#0d0887"
            ],
            [
             0.1111111111111111,
             "#46039f"
            ],
            [
             0.2222222222222222,
             "#7201a8"
            ],
            [
             0.3333333333333333,
             "#9c179e"
            ],
            [
             0.4444444444444444,
             "#bd3786"
            ],
            [
             0.5555555555555556,
             "#d8576b"
            ],
            [
             0.6666666666666666,
             "#ed7953"
            ],
            [
             0.7777777777777778,
             "#fb9f3a"
            ],
            [
             0.8888888888888888,
             "#fdca26"
            ],
            [
             1.0,
             "#f0f921"
            ]
           ]
          },
          "colorway": [
           "#636efa",
           "#EF553B",
           "#00cc96",
           "#ab63fa",
           "#FFA15A",
           "#19d3f3",
           "#FF6692",
           "#B6E880",
           "#FF97FF",
           "#FECB52"
          ],
          "font": {
           "color": "#2a3f5f"
          },
          "geo": {
           "bgcolor": "white",
           "lakecolor": "white",
           "landcolor": "#E5ECF6",
           "showlakes": true,
           "showland": true,
           "subunitcolor": "white"
          },
          "hoverlabel": {
           "align": "left"
          },
          "hovermode": "closest",
          "mapbox": {
           "style": "light"
          },
          "paper_bgcolor": "white",
          "plot_bgcolor": "#E5ECF6",
          "polar": {
           "angularaxis": {
            "gridcolor": "white",
            "linecolor": "white",
            "ticks": ""
           },
           "bgcolor": "#E5ECF6",
           "radialaxis": {
            "gridcolor": "white",
            "linecolor": "white",
            "ticks": ""
           }
          },
          "scene": {
           "xaxis": {
            "backgroundcolor": "#E5ECF6",
            "gridcolor": "white",
            "gridwidth": 2,
            "linecolor": "white",
            "showbackground": true,
            "ticks": "",
            "zerolinecolor": "white"
           },
           "yaxis": {
            "backgroundcolor": "#E5ECF6",
            "gridcolor": "white",
            "gridwidth": 2,
            "linecolor": "white",
            "showbackground": true,
            "ticks": "",
            "zerolinecolor": "white"
           },
           "zaxis": {
            "backgroundcolor": "#E5ECF6",
            "gridcolor": "white",
            "gridwidth": 2,
            "linecolor": "white",
            "showbackground": true,
            "ticks": "",
            "zerolinecolor": "white"
           }
          },
          "shapedefaults": {
           "line": {
            "color": "#2a3f5f"
           }
          },
          "ternary": {
           "aaxis": {
            "gridcolor": "white",
            "linecolor": "white",
            "ticks": ""
           },
           "baxis": {
            "gridcolor": "white",
            "linecolor": "white",
            "ticks": ""
           },
           "bgcolor": "#E5ECF6",
           "caxis": {
            "gridcolor": "white",
            "linecolor": "white",
            "ticks": ""
           }
          },
          "title": {
           "x": 0.05
          },
          "xaxis": {
           "automargin": true,
           "gridcolor": "white",
           "linecolor": "white",
           "ticks": "",
           "title": {
            "standoff": 15
           },
           "zerolinecolor": "white",
           "zerolinewidth": 2
          },
          "yaxis": {
           "automargin": true,
           "gridcolor": "white",
           "linecolor": "white",
           "ticks": "",
           "title": {
            "standoff": 15
           },
           "zerolinecolor": "white",
           "zerolinewidth": 2
          }
         }
        },
        "xaxis": {
         "anchor": "y",
         "domain": [
          0.0,
          0.31999999999999995
         ],
         "title": {},
         "categoryorder": "array",
         "categoryarray": [
          "no pobre",
          "pobre no extremo",
          "pobre extremo"
         ],
         "showgrid": true,
         "tickangle": 0
        },
        "yaxis": {
         "anchor": "x",
         "domain": [
          0.0,
          0.1975
         ],
         "title": {
          "text": "Hogares(%)",
          "font": {
           "size": 10
          },
          "standoff": 8
         }
        },
        "xaxis2": {
         "anchor": "y2",
         "domain": [
          0.33999999999999997,
          0.6599999999999999
         ],
         "matches": "x",
         "title": {},
         "categoryorder": "array",
         "categoryarray": [
          "no pobre",
          "pobre no extremo",
          "pobre extremo"
         ],
         "showgrid": true,
         "tickangle": 0
        },
        "yaxis2": {
         "anchor": "x2",
         "domain": [
          0.0,
          0.1975
         ],
         "matches": "y",
         "showticklabels": false,
         "title": {
          "font": {
           "size": 10
          },
          "standoff": 8
         }
        },
        "xaxis3": {
         "anchor": "y3",
         "domain": [
          0.6799999999999999,
          0.9999999999999999
         ],
         "matches": "x",
         "title": {},
         "categoryorder": "array",
         "categoryarray": [
          "no pobre",
          "pobre no extremo",
          "pobre extremo"
         ],
         "showgrid": true,
         "tickangle": 0
        },
        "yaxis3": {
         "anchor": "x3",
         "domain": [
          0.0,
          0.1975
         ],
         "matches": "y",
         "showticklabels": false,
         "title": {
          "font": {
           "size": 10
          },
          "standoff": 8
         }
        },
        "xaxis4": {
         "anchor": "y4",
         "domain": [
          0.0,
          0.31999999999999995
         ],
         "matches": "x",
         "showticklabels": false,
         "title": {},
         "showgrid": true,
         "tickangle": 0
        },
        "yaxis4": {
         "anchor": "x4",
         "domain": [
          0.2675,
          0.465
         ],
         "matches": "y",
         "title": {
          "text": "Hogares(%)",
          "font": {
           "size": 10
          },
          "standoff": 8
         }
        },
        "xaxis5": {
         "anchor": "y5",
         "domain": [
          0.33999999999999997,
          0.6599999999999999
         ],
         "matches": "x",
         "showticklabels": false,
         "title": {},
         "showgrid": true,
         "tickangle": 0
        },
        "yaxis5": {
         "anchor": "x5",
         "domain": [
          0.2675,
          0.465
         ],
         "matches": "y",
         "showticklabels": false,
         "title": {
          "font": {
           "size": 10
          },
          "standoff": 8
         }
        },
        "xaxis6": {
         "anchor": "y6",
         "domain": [
          0.6799999999999999,
          0.9999999999999999
         ],
         "matches": "x",
         "showticklabels": false,
         "title": {},
         "showgrid": true,
         "tickangle": 0
        },
        "yaxis6": {
         "anchor": "x6",
         "domain": [
          0.2675,
          0.465
         ],
         "matches": "y",
         "showticklabels": false,
         "title": {
          "font": {
           "size": 10
          },
          "standoff": 8
         }
        },
        "xaxis7": {
         "anchor": "y7",
         "domain": [
          0.0,
          0.31999999999999995
         ],
         "matches": "x",
         "showticklabels": false,
         "title": {},
         "showgrid": true,
         "tickangle": 0
        },
        "yaxis7": {
         "anchor": "x7",
         "domain": [
          0.535,
          0.7325
         ],
         "matches": "y",
         "title": {
          "text": "Hogares(%)",
          "font": {
           "size": 10
          },
          "standoff": 8
         }
        },
        "xaxis8": {
         "anchor": "y8",
         "domain": [
          0.33999999999999997,
          0.6599999999999999
         ],
         "matches": "x",
         "showticklabels": false,
         "title": {},
         "showgrid": true,
         "tickangle": 0
        },
        "yaxis8": {
         "anchor": "x8",
         "domain": [
          0.535,
          0.7325
         ],
         "matches": "y",
         "showticklabels": false,
         "title": {
          "font": {
           "size": 10
          },
          "standoff": 8
         }
        },
        "xaxis9": {
         "anchor": "y9",
         "domain": [
          0.6799999999999999,
          0.9999999999999999
         ],
         "matches": "x",
         "showticklabels": false,
         "title": {},
         "showgrid": true,
         "tickangle": 0
        },
        "yaxis9": {
         "anchor": "x9",
         "domain": [
          0.535,
          0.7325
         ],
         "matches": "y",
         "showticklabels": false,
         "title": {
          "font": {
           "size": 10
          },
          "standoff": 8
         }
        },
        "xaxis10": {
         "anchor": "y10",
         "domain": [
          0.0,
          0.31999999999999995
         ],
         "matches": "x",
         "showticklabels": false,
         "title": {},
         "showgrid": true,
         "tickangle": 0
        },
        "yaxis10": {
         "anchor": "x10",
         "domain": [
          0.8025,
          1.0
         ],
         "matches": "y",
         "title": {
          "text": "Hogares(%)",
          "font": {
           "size": 10
          },
          "standoff": 8
         }
        },
        "xaxis11": {
         "anchor": "y11",
         "domain": [
          0.33999999999999997,
          0.6599999999999999
         ],
         "matches": "x",
         "showticklabels": false,
         "title": {},
         "showgrid": true,
         "tickangle": 0
        },
        "yaxis11": {
         "anchor": "x11",
         "domain": [
          0.8025,
          1.0
         ],
         "matches": "y",
         "showticklabels": false,
         "title": {
          "font": {
           "size": 10
          },
          "standoff": 8
         }
        },
        "xaxis12": {
         "anchor": "y12",
         "domain": [
          0.6799999999999999,
          0.9999999999999999
         ],
         "matches": "x",
         "showticklabels": false,
         "title": {},
         "showgrid": true,
         "tickangle": 0
        },
        "yaxis12": {
         "anchor": "x12",
         "domain": [
          0.8025,
          1.0
         ],
         "matches": "y",
         "showticklabels": false,
         "title": {
          "font": {
           "size": 10
          },
          "standoff": 8
         }
        },
        "annotations": [
         {
          "font": {},
          "showarrow": false,
          "text": "2015",
          "x": 0.15999999999999998,
          "xanchor": "center",
          "xref": "paper",
          "y": 0.1975,
          "yanchor": "bottom",
          "yref": "paper"
         },
         {
          "font": {},
          "showarrow": false,
          "text": "2017",
          "x": 0.49999999999999994,
          "xanchor": "center",
          "xref": "paper",
          "y": 0.1975,
          "yanchor": "bottom",
          "yref": "paper"
         },
         {
          "font": {},
          "showarrow": false,
          "text": "2020",
          "x": 0.8399999999999999,
          "xanchor": "center",
          "xref": "paper",
          "y": 0.1975,
          "yanchor": "bottom",
          "yref": "paper"
         },
         {
          "font": {},
          "showarrow": false,
          "text": "2003",
          "x": 0.15999999999999998,
          "xanchor": "center",
          "xref": "paper",
          "y": 0.465,
          "yanchor": "bottom",
          "yref": "paper"
         },
         {
          "font": {},
          "showarrow": false,
          "text": "2009",
          "x": 0.49999999999999994,
          "xanchor": "center",
          "xref": "paper",
          "y": 0.465,
          "yanchor": "bottom",
          "yref": "paper"
         },
         {
          "font": {},
          "showarrow": false,
          "text": "2013",
          "x": 0.8399999999999999,
          "xanchor": "center",
          "xref": "paper",
          "y": 0.465,
          "yanchor": "bottom",
          "yref": "paper"
         },
         {
          "font": {},
          "showarrow": false,
          "text": "1996",
          "x": 0.15999999999999998,
          "xanchor": "center",
          "xref": "paper",
          "y": 0.7325,
          "yanchor": "bottom",
          "yref": "paper"
         },
         {
          "font": {},
          "showarrow": false,
          "text": "1998",
          "x": 0.49999999999999994,
          "xanchor": "center",
          "xref": "paper",
          "y": 0.7325,
          "yanchor": "bottom",
          "yref": "paper"
         },
         {
          "font": {},
          "showarrow": false,
          "text": "2000",
          "x": 0.8399999999999999,
          "xanchor": "center",
          "xref": "paper",
          "y": 0.7325,
          "yanchor": "bottom",
          "yref": "paper"
         },
         {
          "font": {},
          "showarrow": false,
          "text": "1990",
          "x": 0.15999999999999998,
          "xanchor": "center",
          "xref": "paper",
          "y": 1.0,
          "yanchor": "bottom",
          "yref": "paper"
         },
         {
          "font": {},
          "showarrow": false,
          "text": "1992",
          "x": 0.49999999999999994,
          "xanchor": "center",
          "xref": "paper",
          "y": 1.0,
          "yanchor": "bottom",
          "yref": "paper"
         },
         {
          "font": {},
          "showarrow": false,
          "text": "1994",
          "x": 0.8399999999999999,
          "xanchor": "center",
          "xref": "paper",
          "y": 1.0,
          "yanchor": "bottom",
          "yref": "paper"
         }
        ],
        "legend": {
         "title": {
          "text": "<b>Presencia de <br>menores</b>"
         },
         "tracegroupgap": 0,
         "orientation": "h",
         "y": 1,
         "yanchor": "bottom",
         "x": 0.2,
         "xanchor": "center"
        },
        "margin": {
         "t": 15,
         "l": 5,
         "r": 5,
         "b": 20
        },
        "barmode": "group",
        "height": 600,
        "width": 1600
       },
       "config": {
        "plotlyServerURL": "https://plot.ly"
       }
      },
      "text/html": "<div>                            <div id=\"c706a42a-3130-4889-a337-3a96dc3dd94f\" class=\"plotly-graph-div\" style=\"height:600px; width:1600px;\"></div>            <script type=\"text/javascript\">                require([\"plotly\"], function(Plotly) {                    window.PLOTLYENV=window.PLOTLYENV || {};                                    if (document.getElementById(\"c706a42a-3130-4889-a337-3a96dc3dd94f\")) {                    Plotly.newPlot(                        \"c706a42a-3130-4889-a337-3a96dc3dd94f\",                        [{\"alignmentgroup\":\"True\",\"error_y\":{\"array\":[0.2903907868097357,0.0109009423395553,0.0313206504289104],\"arrayminus\":[0.2763788199360089,0.0081317153773519,0.0262953382982493]},\"hovertemplate\":\"<b>Presencia de <br>menores</b>=sin menores<br>anio=1990<br>pobreza=%{x}<br>Hogares(%)=%{text}<extra></extra>\",\"legendgroup\":\"sin menores\",\"marker\":{\"color\":\"#2471A3\",\"pattern\":{\"shape\":\"\"}},\"name\":\"sin menores\",\"offsetgroup\":\"sin menores\",\"orientation\":\"v\",\"showlegend\":true,\"text\":[28.3,0.9,2.9],\"textposition\":\"auto\",\"x\":[\"no pobre\",\"pobre extremo\",\"pobre no extremo\"],\"xaxis\":\"x10\",\"y\":[28.3,0.9,2.9],\"yaxis\":\"y10\",\"type\":\"bar\"},{\"alignmentgroup\":\"True\",\"error_y\":{\"array\":[0.3088249030255242,0.0083930902658851,0.0247928151530685],\"arrayminus\":[0.2962762427452598,0.0061861779361014,0.0209362709484069]},\"hovertemplate\":\"<b>Presencia de <br>menores</b>=sin menores<br>anio=1992<br>pobreza=%{x}<br>Hogares(%)=%{text}<extra></extra>\",\"legendgroup\":\"sin menores\",\"marker\":{\"color\":\"#2471A3\",\"pattern\":{\"shape\":\"\"}},\"name\":\"sin menores\",\"offsetgroup\":\"sin menores\",\"orientation\":\"v\",\"showlegend\":false,\"text\":[30.3,0.7,2.3],\"textposition\":\"auto\",\"x\":[\"no pobre\",\"pobre extremo\",\"pobre no extremo\"],\"xaxis\":\"x11\",\"y\":[30.3,0.7,2.3],\"yaxis\":\"y11\",\"type\":\"bar\"},{\"alignmentgroup\":\"True\",\"error_y\":{\"array\":[0.3239363075591567,0.0088125735463235,0.0217046040560941],\"arrayminus\":[0.3112084597653654,0.0065683878073214,0.0180939004220735]},\"hovertemplate\":\"<b>Presencia de <br>menores</b>=sin menores<br>anio=1994<br>pobreza=%{x}<br>Hogares(%)=%{text}<extra></extra>\",\"legendgroup\":\"sin menores\",\"marker\":{\"color\":\"#2471A3\",\"pattern\":{\"shape\":\"\"}},\"name\":\"sin menores\",\"offsetgroup\":\"sin menores\",\"orientation\":\"v\",\"showlegend\":false,\"text\":[31.8,0.8,2.0],\"textposition\":\"auto\",\"x\":[\"no pobre\",\"pobre extremo\",\"pobre no extremo\"],\"xaxis\":\"x12\",\"y\":[31.8,0.8,2.0],\"yaxis\":\"y12\",\"type\":\"bar\"},{\"alignmentgroup\":\"True\",\"error_y\":{\"array\":[0.3184878886090749,0.0070042905669565,0.0163414000669958],\"arrayminus\":[0.3012904319942849,0.0048664824113297,0.0128707413365338]},\"hovertemplate\":\"<b>Presencia de <br>menores</b>=sin menores<br>anio=1996<br>pobreza=%{x}<br>Hogares(%)=%{text}<extra></extra>\",\"legendgroup\":\"sin menores\",\"marker\":{\"color\":\"#2471A3\",\"pattern\":{\"shape\":\"\"}},\"name\":\"sin menores\",\"offsetgroup\":\"sin menores\",\"orientation\":\"v\",\"showlegend\":false,\"text\":[31.0,0.6,1.5],\"textposition\":\"auto\",\"x\":[\"no pobre\",\"pobre extremo\",\"pobre no extremo\"],\"xaxis\":\"x7\",\"y\":[31.0,0.6,1.5],\"yaxis\":\"y7\",\"type\":\"bar\"},{\"alignmentgroup\":\"True\",\"error_y\":{\"array\":[0.3295547192318508,0.0072274970982909,0.0145864972202659],\"arrayminus\":[0.3161603317554526,0.0050416527188707,0.0116937688294752]},\"hovertemplate\":\"<b>Presencia de <br>menores</b>=sin menores<br>anio=1998<br>pobreza=%{x}<br>Hogares(%)=%{text}<extra></extra>\",\"legendgroup\":\"sin menores\",\"marker\":{\"color\":\"#2471A3\",\"pattern\":{\"shape\":\"\"}},\"name\":\"sin menores\",\"offsetgroup\":\"sin menores\",\"orientation\":\"v\",\"showlegend\":false,\"text\":[32.3,0.6,1.3],\"textposition\":\"auto\",\"x\":[\"no pobre\",\"pobre extremo\",\"pobre no extremo\"],\"xaxis\":\"x8\",\"y\":[32.3,0.6,1.3],\"yaxis\":\"y8\",\"type\":\"bar\"},{\"alignmentgroup\":\"True\",\"error_y\":{\"array\":[0.3419177597001733,0.0063390920842339,0.0119253442543497],\"arrayminus\":[0.3262200918161329,0.0042389255757436,0.0095578333453404]},\"hovertemplate\":\"<b>Presencia de <br>menores</b>=sin menores<br>anio=2000<br>pobreza=%{x}<br>Hogares(%)=%{text}<extra></extra>\",\"legendgroup\":\"sin menores\",\"marker\":{\"color\":\"#2471A3\",\"pattern\":{\"shape\":\"\"}},\"name\":\"sin menores\",\"offsetgroup\":\"sin menores\",\"orientation\":\"v\",\"showlegend\":false,\"text\":[33.4,0.5,1.1],\"textposition\":\"auto\",\"x\":[\"no pobre\",\"pobre extremo\",\"pobre no extremo\"],\"xaxis\":\"x9\",\"y\":[33.4,0.5,1.1],\"yaxis\":\"y9\",\"type\":\"bar\"},{\"alignmentgroup\":\"True\",\"error_y\":{\"array\":[0.3596538095611244,0.0060874790666749,0.0163067757849029],\"arrayminus\":[0.3456509094067821,0.0045730309348435,0.0135916436764437]},\"hovertemplate\":\"<b>Presencia de <br>menores</b>=sin menores<br>anio=2003<br>pobreza=%{x}<br>Hogares(%)=%{text}<extra></extra>\",\"legendgroup\":\"sin menores\",\"marker\":{\"color\":\"#2471A3\",\"pattern\":{\"shape\":\"\"}},\"name\":\"sin menores\",\"offsetgroup\":\"sin menores\",\"orientation\":\"v\",\"showlegend\":false,\"text\":[35.3,0.5,1.5],\"textposition\":\"auto\",\"x\":[\"no pobre\",\"pobre extremo\",\"pobre no extremo\"],\"xaxis\":\"x4\",\"y\":[35.3,0.5,1.5],\"yaxis\":\"y4\",\"type\":\"bar\"},{\"alignmentgroup\":\"True\",\"error_y\":{\"array\":[0.4193429387776369,0.0109454646443592,0.0192252250736685],\"arrayminus\":[0.4054483940483313,0.0087268158203173,0.0162830769269931]},\"hovertemplate\":\"<b>Presencia de <br>menores</b>=sin menores<br>anio=2009<br>pobreza=%{x}<br>Hogares(%)=%{text}<extra></extra>\",\"legendgroup\":\"sin menores\",\"marker\":{\"color\":\"#2471A3\",\"pattern\":{\"shape\":\"\"}},\"name\":\"sin menores\",\"offsetgroup\":\"sin menores\",\"orientation\":\"v\",\"showlegend\":false,\"text\":[41.2,1.0,1.8],\"textposition\":\"auto\",\"x\":[\"no pobre\",\"pobre extremo\",\"pobre no extremo\"],\"xaxis\":\"x5\",\"y\":[41.2,1.0,1.8],\"yaxis\":\"y5\",\"type\":\"bar\"},{\"alignmentgroup\":\"True\",\"error_y\":{\"array\":[0.4799539715207159,0.0106203480909099,0.0275419790550695],\"arrayminus\":[0.4650613994017286,0.0087601316564644,0.0240028561762045]},\"hovertemplate\":\"<b>Presencia de <br>menores</b>=sin menores<br>anio=2013<br>pobreza=%{x}<br>Hogares(%)=%{text}<extra></extra>\",\"legendgroup\":\"sin menores\",\"marker\":{\"color\":\"#2471A3\",\"pattern\":{\"shape\":\"\"}},\"name\":\"sin menores\",\"offsetgroup\":\"sin menores\",\"orientation\":\"v\",\"showlegend\":false,\"text\":[47.3,1.0,2.6],\"textposition\":\"auto\",\"x\":[\"no pobre\",\"pobre extremo\",\"pobre no extremo\"],\"xaxis\":\"x6\",\"y\":[47.3,1.0,2.6],\"yaxis\":\"y6\",\"type\":\"bar\"},{\"alignmentgroup\":\"True\",\"error_y\":{\"array\":[0.4991082088785785,0.0108245297998123,0.0237674176898614],\"arrayminus\":[0.4847123058514814,0.0084636704378873,0.0201466368938302]},\"hovertemplate\":\"<b>Presencia de <br>menores</b>=sin menores<br>anio=2015<br>pobreza=%{x}<br>Hogares(%)=%{text}<extra></extra>\",\"legendgroup\":\"sin menores\",\"marker\":{\"color\":\"#2471A3\",\"pattern\":{\"shape\":\"\"}},\"name\":\"sin menores\",\"offsetgroup\":\"sin menores\",\"orientation\":\"v\",\"showlegend\":false,\"text\":[49.2,1.0,2.2],\"textposition\":\"auto\",\"x\":[\"no pobre\",\"pobre extremo\",\"pobre no extremo\"],\"xaxis\":\"x\",\"y\":[49.2,1.0,2.2],\"yaxis\":\"y\",\"type\":\"bar\"},{\"alignmentgroup\":\"True\",\"error_y\":{\"array\":[0.5473983415743071,0.0094357207024632,0.0182449286063422],\"arrayminus\":[0.5326961232014173,0.0072884291902213,0.0156874720283331]},\"hovertemplate\":\"<b>Presencia de <br>menores</b>=sin menores<br>anio=2017<br>pobreza=%{x}<br>Hogares(%)=%{text}<extra></extra>\",\"legendgroup\":\"sin menores\",\"marker\":{\"color\":\"#2471A3\",\"pattern\":{\"shape\":\"\"}},\"name\":\"sin menores\",\"offsetgroup\":\"sin menores\",\"orientation\":\"v\",\"showlegend\":false,\"text\":[54.0,0.8,1.7],\"textposition\":\"auto\",\"x\":[\"no pobre\",\"pobre extremo\",\"pobre no extremo\"],\"xaxis\":\"x2\",\"y\":[54.0,0.8,1.7],\"yaxis\":\"y2\",\"type\":\"bar\"},{\"alignmentgroup\":\"True\",\"error_y\":{\"array\":[0.5482523597099416,0.0177668416858192,0.0213003966293128],\"arrayminus\":[0.5301721901796244,0.0152629525449302,0.0185570373788913]},\"hovertemplate\":\"<b>Presencia de <br>menores</b>=sin menores<br>anio=2020<br>pobreza=%{x}<br>Hogares(%)=%{text}<extra></extra>\",\"legendgroup\":\"sin menores\",\"marker\":{\"color\":\"#2471A3\",\"pattern\":{\"shape\":\"\"}},\"name\":\"sin menores\",\"offsetgroup\":\"sin menores\",\"orientation\":\"v\",\"showlegend\":false,\"text\":[53.9,1.6,2.0],\"textposition\":\"auto\",\"x\":[\"no pobre\",\"pobre extremo\",\"pobre no extremo\"],\"xaxis\":\"x3\",\"y\":[53.9,1.6,2.0],\"yaxis\":\"y3\",\"type\":\"bar\"},{\"alignmentgroup\":\"True\",\"error_y\":{\"array\":[0.3913303083325076,0.101557514028948,0.203712575707527],\"arrayminus\":[0.3763364152168996,0.0927852828464231,0.1917465660881165]},\"hovertemplate\":\"<b>Presencia de <br>menores</b>=con menores<br>anio=1990<br>pobreza=%{x}<br>Hogares(%)=%{text}<extra></extra>\",\"legendgroup\":\"con menores\",\"marker\":{\"color\":\"#E67E22\",\"pattern\":{\"shape\":\"\"}},\"name\":\"con menores\",\"offsetgroup\":\"con menores\",\"orientation\":\"v\",\"showlegend\":true,\"text\":[38.4,9.7,19.8],\"textposition\":\"auto\",\"x\":[\"no pobre\",\"pobre extremo\",\"pobre no extremo\"],\"xaxis\":\"x10\",\"y\":[38.4,9.7,19.8],\"yaxis\":\"y10\",\"type\":\"bar\"},{\"alignmentgroup\":\"True\",\"error_y\":{\"array\":[0.4246024620287052,0.0696563618540372,0.1883526791130259],\"arrayminus\":[0.4111815103448935,0.0633227429633822,0.1781549814418643]},\"hovertemplate\":\"<b>Presencia de <br>menores</b>=con menores<br>anio=1992<br>pobreza=%{x}<br>Hogares(%)=%{text}<extra></extra>\",\"legendgroup\":\"con menores\",\"marker\":{\"color\":\"#E67E22\",\"pattern\":{\"shape\":\"\"}},\"name\":\"con menores\",\"offsetgroup\":\"con menores\",\"orientation\":\"v\",\"showlegend\":false,\"text\":[41.8,6.6,18.3],\"textposition\":\"auto\",\"x\":[\"no pobre\",\"pobre extremo\",\"pobre no extremo\"],\"xaxis\":\"x11\",\"y\":[41.8,6.6,18.3],\"yaxis\":\"y11\",\"type\":\"bar\"},{\"alignmentgroup\":\"True\",\"error_y\":{\"array\":[0.4558247377799101,0.0575253467511345,0.1558462811164472],\"arrayminus\":[0.4423070999548629,0.0520059275048891,0.1468192787137494]},\"hovertemplate\":\"<b>Presencia de <br>menores</b>=con menores<br>anio=1994<br>pobreza=%{x}<br>Hogares(%)=%{text}<extra></extra>\",\"legendgroup\":\"con menores\",\"marker\":{\"color\":\"#E67E22\",\"pattern\":{\"shape\":\"\"}},\"name\":\"con menores\",\"offsetgroup\":\"con menores\",\"orientation\":\"v\",\"showlegend\":false,\"text\":[44.9,5.5,15.1],\"textposition\":\"auto\",\"x\":[\"no pobre\",\"pobre extremo\",\"pobre no extremo\"],\"xaxis\":\"x12\",\"y\":[44.9,5.5,15.1],\"yaxis\":\"y12\",\"type\":\"bar\"},{\"alignmentgroup\":\"True\",\"error_y\":{\"array\":[0.5024700751259573,0.0456502385743252,0.139772828813638],\"arrayminus\":[0.4840798880199258,0.0399789338171441,0.1281138954812713]},\"hovertemplate\":\"<b>Presencia de <br>menores</b>=con menores<br>anio=1996<br>pobreza=%{x}<br>Hogares(%)=%{text}<extra></extra>\",\"legendgroup\":\"con menores\",\"marker\":{\"color\":\"#E67E22\",\"pattern\":{\"shape\":\"\"}},\"name\":\"con menores\",\"offsetgroup\":\"con menores\",\"orientation\":\"v\",\"showlegend\":false,\"text\":[49.3,4.3,13.4],\"textposition\":\"auto\",\"x\":[\"no pobre\",\"pobre extremo\",\"pobre no extremo\"],\"xaxis\":\"x7\",\"y\":[49.3,4.3,13.4],\"yaxis\":\"y7\",\"type\":\"bar\"},{\"alignmentgroup\":\"True\",\"error_y\":{\"array\":[0.5066622849475041,0.0428562899986242,0.1224014947282362],\"arrayminus\":[0.4925692729683043,0.0379091061952391,0.1140360942339445]},\"hovertemplate\":\"<b>Presencia de <br>menores</b>=con menores<br>anio=1998<br>pobreza=%{x}<br>Hogares(%)=%{text}<extra></extra>\",\"legendgroup\":\"con menores\",\"marker\":{\"color\":\"#E67E22\",\"pattern\":{\"shape\":\"\"}},\"name\":\"con menores\",\"offsetgroup\":\"con menores\",\"orientation\":\"v\",\"showlegend\":false,\"text\":[50.0,4.0,11.8],\"textposition\":\"auto\",\"x\":[\"no pobre\",\"pobre extremo\",\"pobre no extremo\"],\"xaxis\":\"x8\",\"y\":[50.0,4.0,11.8],\"yaxis\":\"y8\",\"type\":\"bar\"},{\"alignmentgroup\":\"True\",\"error_y\":{\"array\":[0.5111288203377822,0.0425485059025341,0.1113209920888132],\"arrayminus\":[0.4944862767540618,0.0376815239658935,0.1033364237693303]},\"hovertemplate\":\"<b>Presencia de <br>menores</b>=con menores<br>anio=2000<br>pobreza=%{x}<br>Hogares(%)=%{text}<extra></extra>\",\"legendgroup\":\"con menores\",\"marker\":{\"color\":\"#E67E22\",\"pattern\":{\"shape\":\"\"}},\"name\":\"con menores\",\"offsetgroup\":\"con menores\",\"orientation\":\"v\",\"showlegend\":false,\"text\":[50.3,4.0,10.7],\"textposition\":\"auto\",\"x\":[\"no pobre\",\"pobre extremo\",\"pobre no extremo\"],\"xaxis\":\"x9\",\"y\":[50.3,4.0,10.7],\"yaxis\":\"y9\",\"type\":\"bar\"},{\"alignmentgroup\":\"True\",\"error_y\":{\"array\":[0.5018756482680745,0.035657065691987,0.1031896493782085],\"arrayminus\":[0.4871404029459844,0.0313050385677697,0.0955314689389712]},\"hovertemplate\":\"<b>Presencia de <br>menores</b>=con menores<br>anio=2003<br>pobreza=%{x}<br>Hogares(%)=%{text}<extra></extra>\",\"legendgroup\":\"con menores\",\"marker\":{\"color\":\"#E67E22\",\"pattern\":{\"shape\":\"\"}},\"name\":\"con menores\",\"offsetgroup\":\"con menores\",\"orientation\":\"v\",\"showlegend\":false,\"text\":[49.5,3.3,9.9],\"textposition\":\"auto\",\"x\":[\"no pobre\",\"pobre extremo\",\"pobre no extremo\"],\"xaxis\":\"x4\",\"y\":[49.5,3.3,9.9],\"yaxis\":\"y4\",\"type\":\"bar\"},{\"alignmentgroup\":\"True\",\"error_y\":{\"array\":[0.4670657512221682,0.0264282866216233,0.0784306482045407],\"arrayminus\":[0.4533559214902251,0.0230083550556918,0.0722646191417851]},\"hovertemplate\":\"<b>Presencia de <br>menores</b>=con menores<br>anio=2009<br>pobreza=%{x}<br>Hogares(%)=%{text}<extra></extra>\",\"legendgroup\":\"con menores\",\"marker\":{\"color\":\"#E67E22\",\"pattern\":{\"shape\":\"\"}},\"name\":\"con menores\",\"offsetgroup\":\"con menores\",\"orientation\":\"v\",\"showlegend\":false,\"text\":[46.0,2.5,7.5],\"textposition\":\"auto\",\"x\":[\"no pobre\",\"pobre extremo\",\"pobre no extremo\"],\"xaxis\":\"x5\",\"y\":[46.0,2.5,7.5],\"yaxis\":\"y5\",\"type\":\"bar\"},{\"alignmentgroup\":\"True\",\"error_y\":{\"array\":[0.4063857139005858,0.0318549762316633,0.0662423158647343],\"arrayminus\":[0.392896842816613,0.0277360103680951,0.0595073451869954]},\"hovertemplate\":\"<b>Presencia de <br>menores</b>=con menores<br>anio=2013<br>pobreza=%{x}<br>Hogares(%)=%{text}<extra></extra>\",\"legendgroup\":\"con menores\",\"marker\":{\"color\":\"#E67E22\",\"pattern\":{\"shape\":\"\"}},\"name\":\"con menores\",\"offsetgroup\":\"con menores\",\"orientation\":\"v\",\"showlegend\":false,\"text\":[40.0,3.0,6.3],\"textposition\":\"auto\",\"x\":[\"no pobre\",\"pobre extremo\",\"pobre no extremo\"],\"xaxis\":\"x6\",\"y\":[40.0,3.0,6.3],\"yaxis\":\"y6\",\"type\":\"bar\"},{\"alignmentgroup\":\"True\",\"error_y\":{\"array\":[0.4108971187629744,0.0237559336006714,0.0526118583495774],\"arrayminus\":[0.3972032187695161,0.0209294595677022,0.0480936460586477]},\"hovertemplate\":\"<b>Presencia de <br>menores</b>=con menores<br>anio=2015<br>pobreza=%{x}<br>Hogares(%)=%{text}<extra></extra>\",\"legendgroup\":\"con menores\",\"marker\":{\"color\":\"#E67E22\",\"pattern\":{\"shape\":\"\"}},\"name\":\"con menores\",\"offsetgroup\":\"con menores\",\"orientation\":\"v\",\"showlegend\":false,\"text\":[40.4,2.2,5.0],\"textposition\":\"auto\",\"x\":[\"no pobre\",\"pobre extremo\",\"pobre no extremo\"],\"xaxis\":\"x\",\"y\":[40.4,2.2,5.0],\"yaxis\":\"y\",\"type\":\"bar\"},{\"alignmentgroup\":\"True\",\"error_y\":{\"array\":[0.3910628252039732,0.0152374794317098,0.0389666062006809],\"arrayminus\":[0.3770355069645681,0.0125181633158155,0.0349291412383603]},\"hovertemplate\":\"<b>Presencia de <br>menores</b>=con menores<br>anio=2017<br>pobreza=%{x}<br>Hogares(%)=%{text}<extra></extra>\",\"legendgroup\":\"con menores\",\"marker\":{\"color\":\"#E67E22\",\"pattern\":{\"shape\":\"\"}},\"name\":\"con menores\",\"offsetgroup\":\"con menores\",\"orientation\":\"v\",\"showlegend\":false,\"text\":[38.4,1.4,3.7],\"textposition\":\"auto\",\"x\":[\"no pobre\",\"pobre extremo\",\"pobre no extremo\"],\"xaxis\":\"x2\",\"y\":[38.4,1.4,3.7],\"yaxis\":\"y2\",\"type\":\"bar\"},{\"alignmentgroup\":\"True\",\"error_y\":{\"array\":[0.3758183519267278,0.0241349404886353,0.0379391456260032],\"arrayminus\":[0.3564244675225394,0.0209875321572033,0.0338709845424561]},\"hovertemplate\":\"<b>Presencia de <br>menores</b>=con menores<br>anio=2020<br>pobreza=%{x}<br>Hogares(%)=%{text}<extra></extra>\",\"legendgroup\":\"con menores\",\"marker\":{\"color\":\"#E67E22\",\"pattern\":{\"shape\":\"\"}},\"name\":\"con menores\",\"offsetgroup\":\"con menores\",\"orientation\":\"v\",\"showlegend\":false,\"text\":[36.6,2.3,3.6],\"textposition\":\"auto\",\"x\":[\"no pobre\",\"pobre extremo\",\"pobre no extremo\"],\"xaxis\":\"x3\",\"y\":[36.6,2.3,3.6],\"yaxis\":\"y3\",\"type\":\"bar\"}],                        {\"template\":{\"data\":{\"barpolar\":[{\"marker\":{\"line\":{\"color\":\"#E5ECF6\",\"width\":0.5},\"pattern\":{\"fillmode\":\"overlay\",\"size\":10,\"solidity\":0.2}},\"type\":\"barpolar\"}],\"bar\":[{\"error_x\":{\"color\":\"#2a3f5f\"},\"error_y\":{\"color\":\"#2a3f5f\"},\"marker\":{\"line\":{\"color\":\"#E5ECF6\",\"width\":0.5},\"pattern\":{\"fillmode\":\"overlay\",\"size\":10,\"solidity\":0.2}},\"type\":\"bar\"}],\"carpet\":[{\"aaxis\":{\"endlinecolor\":\"#2a3f5f\",\"gridcolor\":\"white\",\"linecolor\":\"white\",\"minorgridcolor\":\"white\",\"startlinecolor\":\"#2a3f5f\"},\"baxis\":{\"endlinecolor\":\"#2a3f5f\",\"gridcolor\":\"white\",\"linecolor\":\"white\",\"minorgridcolor\":\"white\",\"startlinecolor\":\"#2a3f5f\"},\"type\":\"carpet\"}],\"choropleth\":[{\"colorbar\":{\"outlinewidth\":0,\"ticks\":\"\"},\"type\":\"choropleth\"}],\"contourcarpet\":[{\"colorbar\":{\"outlinewidth\":0,\"ticks\":\"\"},\"type\":\"contourcarpet\"}],\"contour\":[{\"colorbar\":{\"outlinewidth\":0,\"ticks\":\"\"},\"colorscale\":[[0.0,\"#0d0887\"],[0.1111111111111111,\"#46039f\"],[0.2222222222222222,\"#7201a8\"],[0.3333333333333333,\"#9c179e\"],[0.4444444444444444,\"#bd3786\"],[0.5555555555555556,\"#d8576b\"],[0.6666666666666666,\"#ed7953\"],[0.7777777777777778,\"#fb9f3a\"],[0.8888888888888888,\"#fdca26\"],[1.0,\"#f0f921\"]],\"type\":\"contour\"}],\"heatmapgl\":[{\"colorbar\":{\"outlinewidth\":0,\"ticks\":\"\"},\"colorscale\":[[0.0,\"#0d0887\"],[0.1111111111111111,\"#46039f\"],[0.2222222222222222,\"#7201a8\"],[0.3333333333333333,\"#9c179e\"],[0.4444444444444444,\"#bd3786\"],[0.5555555555555556,\"#d8576b\"],[0.6666666666666666,\"#ed7953\"],[0.7777777777777778,\"#fb9f3a\"],[0.8888888888888888,\"#fdca26\"],[1.0,\"#f0f921\"]],\"type\":\"heatmapgl\"}],\"heatmap\":[{\"colorbar\":{\"outlinewidth\":0,\"ticks\":\"\"},\"colorscale\":[[0.0,\"#0d0887\"],[0.1111111111111111,\"#46039f\"],[0.2222222222222222,\"#7201a8\"],[0.3333333333333333,\"#9c179e\"],[0.4444444444444444,\"#bd3786\"],[0.5555555555555556,\"#d8576b\"],[0.6666666666666666,\"#ed7953\"],[0.7777777777777778,\"#fb9f3a\"],[0.8888888888888888,\"#fdca26\"],[1.0,\"#f0f921\"]],\"type\":\"heatmap\"}],\"histogram2dcontour\":[{\"colorbar\":{\"outlinewidth\":0,\"ticks\":\"\"},\"colorscale\":[[0.0,\"#0d0887\"],[0.1111111111111111,\"#46039f\"],[0.2222222222222222,\"#7201a8\"],[0.3333333333333333,\"#9c179e\"],[0.4444444444444444,\"#bd3786\"],[0.5555555555555556,\"#d8576b\"],[0.6666666666666666,\"#ed7953\"],[0.7777777777777778,\"#fb9f3a\"],[0.8888888888888888,\"#fdca26\"],[1.0,\"#f0f921\"]],\"type\":\"histogram2dcontour\"}],\"histogram2d\":[{\"colorbar\":{\"outlinewidth\":0,\"ticks\":\"\"},\"colorscale\":[[0.0,\"#0d0887\"],[0.1111111111111111,\"#46039f\"],[0.2222222222222222,\"#7201a8\"],[0.3333333333333333,\"#9c179e\"],[0.4444444444444444,\"#bd3786\"],[0.5555555555555556,\"#d8576b\"],[0.6666666666666666,\"#ed7953\"],[0.7777777777777778,\"#fb9f3a\"],[0.8888888888888888,\"#fdca26\"],[1.0,\"#f0f921\"]],\"type\":\"histogram2d\"}],\"histogram\":[{\"marker\":{\"pattern\":{\"fillmode\":\"overlay\",\"size\":10,\"solidity\":0.2}},\"type\":\"histogram\"}],\"mesh3d\":[{\"colorbar\":{\"outlinewidth\":0,\"ticks\":\"\"},\"type\":\"mesh3d\"}],\"parcoords\":[{\"line\":{\"colorbar\":{\"outlinewidth\":0,\"ticks\":\"\"}},\"type\":\"parcoords\"}],\"pie\":[{\"automargin\":true,\"type\":\"pie\"}],\"scatter3d\":[{\"line\":{\"colorbar\":{\"outlinewidth\":0,\"ticks\":\"\"}},\"marker\":{\"colorbar\":{\"outlinewidth\":0,\"ticks\":\"\"}},\"type\":\"scatter3d\"}],\"scattercarpet\":[{\"marker\":{\"colorbar\":{\"outlinewidth\":0,\"ticks\":\"\"}},\"type\":\"scattercarpet\"}],\"scattergeo\":[{\"marker\":{\"colorbar\":{\"outlinewidth\":0,\"ticks\":\"\"}},\"type\":\"scattergeo\"}],\"scattergl\":[{\"marker\":{\"colorbar\":{\"outlinewidth\":0,\"ticks\":\"\"}},\"type\":\"scattergl\"}],\"scattermapbox\":[{\"marker\":{\"colorbar\":{\"outlinewidth\":0,\"ticks\":\"\"}},\"type\":\"scattermapbox\"}],\"scatterpolargl\":[{\"marker\":{\"colorbar\":{\"outlinewidth\":0,\"ticks\":\"\"}},\"type\":\"scatterpolargl\"}],\"scatterpolar\":[{\"marker\":{\"colorbar\":{\"outlinewidth\":0,\"ticks\":\"\"}},\"type\":\"scatterpolar\"}],\"scatter\":[{\"marker\":{\"colorbar\":{\"outlinewidth\":0,\"ticks\":\"\"}},\"type\":\"scatter\"}],\"scatterternary\":[{\"marker\":{\"colorbar\":{\"outlinewidth\":0,\"ticks\":\"\"}},\"type\":\"scatterternary\"}],\"surface\":[{\"colorbar\":{\"outlinewidth\":0,\"ticks\":\"\"},\"colorscale\":[[0.0,\"#0d0887\"],[0.1111111111111111,\"#46039f\"],[0.2222222222222222,\"#7201a8\"],[0.3333333333333333,\"#9c179e\"],[0.4444444444444444,\"#bd3786\"],[0.5555555555555556,\"#d8576b\"],[0.6666666666666666,\"#ed7953\"],[0.7777777777777778,\"#fb9f3a\"],[0.8888888888888888,\"#fdca26\"],[1.0,\"#f0f921\"]],\"type\":\"surface\"}],\"table\":[{\"cells\":{\"fill\":{\"color\":\"#EBF0F8\"},\"line\":{\"color\":\"white\"}},\"header\":{\"fill\":{\"color\":\"#C8D4E3\"},\"line\":{\"color\":\"white\"}},\"type\":\"table\"}]},\"layout\":{\"annotationdefaults\":{\"arrowcolor\":\"#2a3f5f\",\"arrowhead\":0,\"arrowwidth\":1},\"autotypenumbers\":\"strict\",\"coloraxis\":{\"colorbar\":{\"outlinewidth\":0,\"ticks\":\"\"}},\"colorscale\":{\"diverging\":[[0,\"#8e0152\"],[0.1,\"#c51b7d\"],[0.2,\"#de77ae\"],[0.3,\"#f1b6da\"],[0.4,\"#fde0ef\"],[0.5,\"#f7f7f7\"],[0.6,\"#e6f5d0\"],[0.7,\"#b8e186\"],[0.8,\"#7fbc41\"],[0.9,\"#4d9221\"],[1,\"#276419\"]],\"sequential\":[[0.0,\"#0d0887\"],[0.1111111111111111,\"#46039f\"],[0.2222222222222222,\"#7201a8\"],[0.3333333333333333,\"#9c179e\"],[0.4444444444444444,\"#bd3786\"],[0.5555555555555556,\"#d8576b\"],[0.6666666666666666,\"#ed7953\"],[0.7777777777777778,\"#fb9f3a\"],[0.8888888888888888,\"#fdca26\"],[1.0,\"#f0f921\"]],\"sequentialminus\":[[0.0,\"#0d0887\"],[0.1111111111111111,\"#46039f\"],[0.2222222222222222,\"#7201a8\"],[0.3333333333333333,\"#9c179e\"],[0.4444444444444444,\"#bd3786\"],[0.5555555555555556,\"#d8576b\"],[0.6666666666666666,\"#ed7953\"],[0.7777777777777778,\"#fb9f3a\"],[0.8888888888888888,\"#fdca26\"],[1.0,\"#f0f921\"]]},\"colorway\":[\"#636efa\",\"#EF553B\",\"#00cc96\",\"#ab63fa\",\"#FFA15A\",\"#19d3f3\",\"#FF6692\",\"#B6E880\",\"#FF97FF\",\"#FECB52\"],\"font\":{\"color\":\"#2a3f5f\"},\"geo\":{\"bgcolor\":\"white\",\"lakecolor\":\"white\",\"landcolor\":\"#E5ECF6\",\"showlakes\":true,\"showland\":true,\"subunitcolor\":\"white\"},\"hoverlabel\":{\"align\":\"left\"},\"hovermode\":\"closest\",\"mapbox\":{\"style\":\"light\"},\"paper_bgcolor\":\"white\",\"plot_bgcolor\":\"#E5ECF6\",\"polar\":{\"angularaxis\":{\"gridcolor\":\"white\",\"linecolor\":\"white\",\"ticks\":\"\"},\"bgcolor\":\"#E5ECF6\",\"radialaxis\":{\"gridcolor\":\"white\",\"linecolor\":\"white\",\"ticks\":\"\"}},\"scene\":{\"xaxis\":{\"backgroundcolor\":\"#E5ECF6\",\"gridcolor\":\"white\",\"gridwidth\":2,\"linecolor\":\"white\",\"showbackground\":true,\"ticks\":\"\",\"zerolinecolor\":\"white\"},\"yaxis\":{\"backgroundcolor\":\"#E5ECF6\",\"gridcolor\":\"white\",\"gridwidth\":2,\"linecolor\":\"white\",\"showbackground\":true,\"ticks\":\"\",\"zerolinecolor\":\"white\"},\"zaxis\":{\"backgroundcolor\":\"#E5ECF6\",\"gridcolor\":\"white\",\"gridwidth\":2,\"linecolor\":\"white\",\"showbackground\":true,\"ticks\":\"\",\"zerolinecolor\":\"white\"}},\"shapedefaults\":{\"line\":{\"color\":\"#2a3f5f\"}},\"ternary\":{\"aaxis\":{\"gridcolor\":\"white\",\"linecolor\":\"white\",\"ticks\":\"\"},\"baxis\":{\"gridcolor\":\"white\",\"linecolor\":\"white\",\"ticks\":\"\"},\"bgcolor\":\"#E5ECF6\",\"caxis\":{\"gridcolor\":\"white\",\"linecolor\":\"white\",\"ticks\":\"\"}},\"title\":{\"x\":0.05},\"xaxis\":{\"automargin\":true,\"gridcolor\":\"white\",\"linecolor\":\"white\",\"ticks\":\"\",\"title\":{\"standoff\":15},\"zerolinecolor\":\"white\",\"zerolinewidth\":2},\"yaxis\":{\"automargin\":true,\"gridcolor\":\"white\",\"linecolor\":\"white\",\"ticks\":\"\",\"title\":{\"standoff\":15},\"zerolinecolor\":\"white\",\"zerolinewidth\":2}}},\"xaxis\":{\"anchor\":\"y\",\"domain\":[0.0,0.31999999999999995],\"title\":{},\"categoryorder\":\"array\",\"categoryarray\":[\"no pobre\",\"pobre no extremo\",\"pobre extremo\"],\"showgrid\":true,\"tickangle\":0},\"yaxis\":{\"anchor\":\"x\",\"domain\":[0.0,0.1975],\"title\":{\"text\":\"Hogares(%)\",\"font\":{\"size\":10},\"standoff\":8}},\"xaxis2\":{\"anchor\":\"y2\",\"domain\":[0.33999999999999997,0.6599999999999999],\"matches\":\"x\",\"title\":{},\"categoryorder\":\"array\",\"categoryarray\":[\"no pobre\",\"pobre no extremo\",\"pobre extremo\"],\"showgrid\":true,\"tickangle\":0},\"yaxis2\":{\"anchor\":\"x2\",\"domain\":[0.0,0.1975],\"matches\":\"y\",\"showticklabels\":false,\"title\":{\"font\":{\"size\":10},\"standoff\":8}},\"xaxis3\":{\"anchor\":\"y3\",\"domain\":[0.6799999999999999,0.9999999999999999],\"matches\":\"x\",\"title\":{},\"categoryorder\":\"array\",\"categoryarray\":[\"no pobre\",\"pobre no extremo\",\"pobre extremo\"],\"showgrid\":true,\"tickangle\":0},\"yaxis3\":{\"anchor\":\"x3\",\"domain\":[0.0,0.1975],\"matches\":\"y\",\"showticklabels\":false,\"title\":{\"font\":{\"size\":10},\"standoff\":8}},\"xaxis4\":{\"anchor\":\"y4\",\"domain\":[0.0,0.31999999999999995],\"matches\":\"x\",\"showticklabels\":false,\"title\":{},\"showgrid\":true,\"tickangle\":0},\"yaxis4\":{\"anchor\":\"x4\",\"domain\":[0.2675,0.465],\"matches\":\"y\",\"title\":{\"text\":\"Hogares(%)\",\"font\":{\"size\":10},\"standoff\":8}},\"xaxis5\":{\"anchor\":\"y5\",\"domain\":[0.33999999999999997,0.6599999999999999],\"matches\":\"x\",\"showticklabels\":false,\"title\":{},\"showgrid\":true,\"tickangle\":0},\"yaxis5\":{\"anchor\":\"x5\",\"domain\":[0.2675,0.465],\"matches\":\"y\",\"showticklabels\":false,\"title\":{\"font\":{\"size\":10},\"standoff\":8}},\"xaxis6\":{\"anchor\":\"y6\",\"domain\":[0.6799999999999999,0.9999999999999999],\"matches\":\"x\",\"showticklabels\":false,\"title\":{},\"showgrid\":true,\"tickangle\":0},\"yaxis6\":{\"anchor\":\"x6\",\"domain\":[0.2675,0.465],\"matches\":\"y\",\"showticklabels\":false,\"title\":{\"font\":{\"size\":10},\"standoff\":8}},\"xaxis7\":{\"anchor\":\"y7\",\"domain\":[0.0,0.31999999999999995],\"matches\":\"x\",\"showticklabels\":false,\"title\":{},\"showgrid\":true,\"tickangle\":0},\"yaxis7\":{\"anchor\":\"x7\",\"domain\":[0.535,0.7325],\"matches\":\"y\",\"title\":{\"text\":\"Hogares(%)\",\"font\":{\"size\":10},\"standoff\":8}},\"xaxis8\":{\"anchor\":\"y8\",\"domain\":[0.33999999999999997,0.6599999999999999],\"matches\":\"x\",\"showticklabels\":false,\"title\":{},\"showgrid\":true,\"tickangle\":0},\"yaxis8\":{\"anchor\":\"x8\",\"domain\":[0.535,0.7325],\"matches\":\"y\",\"showticklabels\":false,\"title\":{\"font\":{\"size\":10},\"standoff\":8}},\"xaxis9\":{\"anchor\":\"y9\",\"domain\":[0.6799999999999999,0.9999999999999999],\"matches\":\"x\",\"showticklabels\":false,\"title\":{},\"showgrid\":true,\"tickangle\":0},\"yaxis9\":{\"anchor\":\"x9\",\"domain\":[0.535,0.7325],\"matches\":\"y\",\"showticklabels\":false,\"title\":{\"font\":{\"size\":10},\"standoff\":8}},\"xaxis10\":{\"anchor\":\"y10\",\"domain\":[0.0,0.31999999999999995],\"matches\":\"x\",\"showticklabels\":false,\"title\":{},\"showgrid\":true,\"tickangle\":0},\"yaxis10\":{\"anchor\":\"x10\",\"domain\":[0.8025,1.0],\"matches\":\"y\",\"title\":{\"text\":\"Hogares(%)\",\"font\":{\"size\":10},\"standoff\":8}},\"xaxis11\":{\"anchor\":\"y11\",\"domain\":[0.33999999999999997,0.6599999999999999],\"matches\":\"x\",\"showticklabels\":false,\"title\":{},\"showgrid\":true,\"tickangle\":0},\"yaxis11\":{\"anchor\":\"x11\",\"domain\":[0.8025,1.0],\"matches\":\"y\",\"showticklabels\":false,\"title\":{\"font\":{\"size\":10},\"standoff\":8}},\"xaxis12\":{\"anchor\":\"y12\",\"domain\":[0.6799999999999999,0.9999999999999999],\"matches\":\"x\",\"showticklabels\":false,\"title\":{},\"showgrid\":true,\"tickangle\":0},\"yaxis12\":{\"anchor\":\"x12\",\"domain\":[0.8025,1.0],\"matches\":\"y\",\"showticklabels\":false,\"title\":{\"font\":{\"size\":10},\"standoff\":8}},\"annotations\":[{\"font\":{},\"showarrow\":false,\"text\":\"2015\",\"x\":0.15999999999999998,\"xanchor\":\"center\",\"xref\":\"paper\",\"y\":0.1975,\"yanchor\":\"bottom\",\"yref\":\"paper\"},{\"font\":{},\"showarrow\":false,\"text\":\"2017\",\"x\":0.49999999999999994,\"xanchor\":\"center\",\"xref\":\"paper\",\"y\":0.1975,\"yanchor\":\"bottom\",\"yref\":\"paper\"},{\"font\":{},\"showarrow\":false,\"text\":\"2020\",\"x\":0.8399999999999999,\"xanchor\":\"center\",\"xref\":\"paper\",\"y\":0.1975,\"yanchor\":\"bottom\",\"yref\":\"paper\"},{\"font\":{},\"showarrow\":false,\"text\":\"2003\",\"x\":0.15999999999999998,\"xanchor\":\"center\",\"xref\":\"paper\",\"y\":0.465,\"yanchor\":\"bottom\",\"yref\":\"paper\"},{\"font\":{},\"showarrow\":false,\"text\":\"2009\",\"x\":0.49999999999999994,\"xanchor\":\"center\",\"xref\":\"paper\",\"y\":0.465,\"yanchor\":\"bottom\",\"yref\":\"paper\"},{\"font\":{},\"showarrow\":false,\"text\":\"2013\",\"x\":0.8399999999999999,\"xanchor\":\"center\",\"xref\":\"paper\",\"y\":0.465,\"yanchor\":\"bottom\",\"yref\":\"paper\"},{\"font\":{},\"showarrow\":false,\"text\":\"1996\",\"x\":0.15999999999999998,\"xanchor\":\"center\",\"xref\":\"paper\",\"y\":0.7325,\"yanchor\":\"bottom\",\"yref\":\"paper\"},{\"font\":{},\"showarrow\":false,\"text\":\"1998\",\"x\":0.49999999999999994,\"xanchor\":\"center\",\"xref\":\"paper\",\"y\":0.7325,\"yanchor\":\"bottom\",\"yref\":\"paper\"},{\"font\":{},\"showarrow\":false,\"text\":\"2000\",\"x\":0.8399999999999999,\"xanchor\":\"center\",\"xref\":\"paper\",\"y\":0.7325,\"yanchor\":\"bottom\",\"yref\":\"paper\"},{\"font\":{},\"showarrow\":false,\"text\":\"1990\",\"x\":0.15999999999999998,\"xanchor\":\"center\",\"xref\":\"paper\",\"y\":1.0,\"yanchor\":\"bottom\",\"yref\":\"paper\"},{\"font\":{},\"showarrow\":false,\"text\":\"1992\",\"x\":0.49999999999999994,\"xanchor\":\"center\",\"xref\":\"paper\",\"y\":1.0,\"yanchor\":\"bottom\",\"yref\":\"paper\"},{\"font\":{},\"showarrow\":false,\"text\":\"1994\",\"x\":0.8399999999999999,\"xanchor\":\"center\",\"xref\":\"paper\",\"y\":1.0,\"yanchor\":\"bottom\",\"yref\":\"paper\"}],\"legend\":{\"title\":{\"text\":\"<b>Presencia de <br>menores</b>\"},\"tracegroupgap\":0,\"orientation\":\"h\",\"y\":1,\"yanchor\":\"bottom\",\"x\":0.2,\"xanchor\":\"center\"},\"margin\":{\"t\":15,\"l\":5,\"r\":5,\"b\":20},\"barmode\":\"group\",\"height\":600,\"width\":1600},                        {\"responsive\": true}                    ).then(function(){\n                            \nvar gd = document.getElementById('c706a42a-3130-4889-a337-3a96dc3dd94f');\nvar x = new MutationObserver(function (mutations, observer) {{\n        var display = window.getComputedStyle(gd).display;\n        if (!display || display === 'none') {{\n            console.log([gd, 'removed!']);\n            Plotly.purge(gd);\n            observer.disconnect();\n        }}\n}});\n\n// Listen for the removal of the full notebook cells\nvar notebookContainer = gd.closest('#notebook-container');\nif (notebookContainer) {{\n    x.observe(notebookContainer, {childList: true});\n}}\n\n// Listen for the clearing of the current output cell\nvar outputEl = gd.closest('.output');\nif (outputEl) {{\n    x.observe(outputEl, {childList: true});\n}}\n\n                        })                };                });            </script>        </div>"
     },
     "metadata": {},
     "output_type": "display_data"
    }
   ],
   "source": [
    "fig = px.bar(df03.loc[df03.tipo_est == 'proporcion'],\n",
    "             x =  'pobreza',\n",
    "             y = 'dato', facet_col= 'anio',\n",
    "             color = 'menor_18',\n",
    "             facet_col_wrap=3,\n",
    "             labels = {\n",
    "                 'menor_18': '<b>Presencia de <br>menores</b>',\n",
    "                 'dato': 'Hogares(%)',\n",
    "                 # 'pobreza': None\n",
    "                 # 'anio': 'Periodo'\n",
    "             },\n",
    "             error_y_minus='ic_bajo',\n",
    "             error_y='ic_alto',\n",
    "\n",
    "             category_orders={\n",
    "                 'pobreza': ['no pobre', 'pobre no extremo', 'pobre extremo']\n",
    "             },\n",
    "\n",
    "             color_discrete_map={\n",
    "                 'sin menores': '#2471A3',\n",
    "                 'con menores': '#E67E22'\n",
    "             },\n",
    "             text ='dato'\n",
    "\n",
    "\n",
    "             )\n",
    "fig.for_each_annotation(lambda a: a.update(text=a.text.split('=')[-1]),\n",
    "\n",
    "                        )\n",
    "fig.update_layout(template='plotly',\n",
    "                  # title ='<b>Evolución de la distribución de hogares con y sin menores de 18 años, según situación de '\n",
    "                  #        'pobreza</b>',\n",
    "                  height=600,\n",
    "                  width=1600,\n",
    "\n",
    "                  margin=\n",
    "                  dict(\n",
    "                      l=5,\n",
    "                      r=5,\n",
    "                      b=20,\n",
    "                      t=15\n",
    "                  ),\n",
    "                  barmode='group',\n",
    "                  legend=dict(\n",
    "                      # title=None,\n",
    "                      orientation='h', y=1, yanchor='bottom', x=0.2, xanchor='center'\n",
    "                  )\n",
    "                  )\n",
    "fig.update_xaxes(title=None,\n",
    "                 showgrid=True,\n",
    "                 tickangle=0,\n",
    "\n",
    "\n",
    "                 )\n",
    "fig.update_yaxes(\n",
    "    title_font_size = 10,\n",
    "    title_standoff = 8\n",
    ")\n",
    "fig.write_image('resultados/img/02_03_px.jpeg')\n",
    "\n",
    "fig.show()"
   ],
   "metadata": {
    "collapsed": false,
    "pycharm": {
     "name": "#%%\n"
    }
   }
  },
  {
   "cell_type": "code",
   "execution_count": 26,
   "outputs": [
    {
     "data": {
      "application/vnd.plotly.v1+json": {
       "data": [
        {
         "alignmentgroup": "True",
         "error_y": {
          "array": [
           0.0767182328672184,
           0.1843546080794879,
           0.0106661430384031,
           0.0098110459294661
          ],
          "arrayminus": [
           0.0682098923536791,
           0.1719266759483847,
           0.0074888894952416,
           0.0067998948816685
          ]
         },
         "hovertemplate": "<b>Presencia de <br>menores</b>=sin menores<br>anio=1990<br>thogar=%{x}<br>Hogares(%)=%{text}<extra></extra>",
         "legendgroup": "sin menores",
         "marker": {
          "color": "#2471A3",
          "pattern": {
           "shape": ""
          }
         },
         "name": "sin menores",
         "offsetgroup": "sin menores",
         "orientation": "v",
         "showlegend": true,
         "text": [
          7.2,
          17.8,
          0.9,
          0.8
         ],
         "textposition": "auto",
         "x": [
          "nuclear monoparental",
          "nuclear biparental",
          "extenso monoparental",
          "extenso biparental"
         ],
         "xaxis": "x12",
         "y": [
          7.2,
          17.8,
          0.9,
          0.8
         ],
         "yaxis": "y12",
         "type": "bar"
        },
        {
         "alignmentgroup": "True",
         "error_y": {
          "array": [
           0.0738824761661274,
           0.192478847487021,
           0.0087249931057861,
           0.0094825894422241
          ],
          "arrayminus": [
           0.0666511195123286,
           0.1812811039664112,
           0.0062187129294638,
           0.0068336050884945
          ]
         },
         "hovertemplate": "<b>Presencia de <br>menores</b>=sin menores<br>anio=1992<br>thogar=%{x}<br>Hogares(%)=%{text}<extra></extra>",
         "legendgroup": "sin menores",
         "marker": {
          "color": "#2471A3",
          "pattern": {
           "shape": ""
          }
         },
         "name": "sin menores",
         "offsetgroup": "sin menores",
         "orientation": "v",
         "showlegend": false,
         "text": [
          7.0,
          18.7,
          0.7,
          0.8
         ],
         "textposition": "auto",
         "x": [
          "nuclear monoparental",
          "nuclear biparental",
          "extenso monoparental",
          "extenso biparental"
         ],
         "xaxis": "x11",
         "y": [
          7.0,
          18.7,
          0.7,
          0.8
         ],
         "yaxis": "y11",
         "type": "bar"
        },
        {
         "alignmentgroup": "True",
         "error_y": {
          "array": [
           0.0797766840813854,
           0.1962825679471912,
           0.0094624976569748,
           0.0114802476631873
          ],
          "arrayminus": [
           0.0720266845009726,
           0.185007438669712,
           0.0069037844215096,
           0.008751612441543
          ]
         },
         "hovertemplate": "<b>Presencia de <br>menores</b>=sin menores<br>anio=1994<br>thogar=%{x}<br>Hogares(%)=%{text}<extra></extra>",
         "legendgroup": "sin menores",
         "marker": {
          "color": "#2471A3",
          "pattern": {
           "shape": ""
          }
         },
         "name": "sin menores",
         "offsetgroup": "sin menores",
         "orientation": "v",
         "showlegend": false,
         "text": [
          7.6,
          19.1,
          0.8,
          1.0
         ],
         "textposition": "auto",
         "x": [
          "nuclear monoparental",
          "nuclear biparental",
          "extenso monoparental",
          "extenso biparental"
         ],
         "xaxis": "x10",
         "y": [
          7.6,
          19.1,
          0.8,
          1.0
         ],
         "yaxis": "y10",
         "type": "bar"
        },
        {
         "alignmentgroup": "True",
         "error_y": {
          "array": [
           0.0762463718575228,
           0.1925911074943898,
           0.0123689302772123,
           0.0132130454068274
          ],
          "arrayminus": [
           0.0659168793036139,
           0.1775869361230022,
           0.0086466881910019,
           0.009359014540877
          ]
         },
         "hovertemplate": "<b>Presencia de <br>menores</b>=sin menores<br>anio=1996<br>thogar=%{x}<br>Hogares(%)=%{text}<extra></extra>",
         "legendgroup": "sin menores",
         "marker": {
          "color": "#2471A3",
          "pattern": {
           "shape": ""
          }
         },
         "name": "sin menores",
         "offsetgroup": "sin menores",
         "orientation": "v",
         "showlegend": false,
         "text": [
          7.1,
          18.5,
          1.0,
          1.1
         ],
         "textposition": "auto",
         "x": [
          "nuclear monoparental",
          "nuclear biparental",
          "extenso monoparental",
          "extenso biparental"
         ],
         "xaxis": "x9",
         "y": [
          7.1,
          18.5,
          1.0,
          1.1
         ],
         "yaxis": "y9",
         "type": "bar"
        },
        {
         "alignmentgroup": "True",
         "error_y": {
          "array": [
           0.0807500816016034,
           0.1957673897131077,
           0.0117922228329893,
           0.0106769749759904
          ],
          "arrayminus": [
           0.0725467972264741,
           0.1841551269050222,
           0.0087932582665772,
           0.0079266429097138
          ]
         },
         "hovertemplate": "<b>Presencia de <br>menores</b>=sin menores<br>anio=1998<br>thogar=%{x}<br>Hogares(%)=%{text}<extra></extra>",
         "legendgroup": "sin menores",
         "marker": {
          "color": "#2471A3",
          "pattern": {
           "shape": ""
          }
         },
         "name": "sin menores",
         "offsetgroup": "sin menores",
         "orientation": "v",
         "showlegend": false,
         "text": [
          7.7,
          19.0,
          1.0,
          0.9
         ],
         "textposition": "auto",
         "x": [
          "nuclear monoparental",
          "nuclear biparental",
          "extenso monoparental",
          "extenso biparental"
         ],
         "xaxis": "x8",
         "y": [
          7.7,
          19.0,
          1.0,
          0.9
         ],
         "yaxis": "y8",
         "type": "bar"
        },
        {
         "alignmentgroup": "True",
         "error_y": {
          "array": [
           0.0771753318352629,
           0.2044721224533209,
           0.0118949946340893,
           0.0102955015326763
          ],
          "arrayminus": [
           0.0687341571138911,
           0.1907332640636325,
           0.0090034249901356,
           0.0076966716686119
          ]
         },
         "hovertemplate": "<b>Presencia de <br>menores</b>=sin menores<br>anio=2000<br>thogar=%{x}<br>Hogares(%)=%{text}<extra></extra>",
         "legendgroup": "sin menores",
         "marker": {
          "color": "#2471A3",
          "pattern": {
           "shape": ""
          }
         },
         "name": "sin menores",
         "offsetgroup": "sin menores",
         "orientation": "v",
         "showlegend": false,
         "text": [
          7.3,
          19.8,
          1.0,
          0.9
         ],
         "textposition": "auto",
         "x": [
          "nuclear monoparental",
          "nuclear biparental",
          "extenso monoparental",
          "extenso biparental"
         ],
         "xaxis": "x7",
         "y": [
          7.3,
          19.8,
          1.0,
          0.9
         ],
         "yaxis": "y7",
         "type": "bar"
        },
        {
         "alignmentgroup": "True",
         "error_y": {
          "array": [
           0.0854781038103503,
           0.2087812381979445,
           0.0131271682170317,
           0.0142417236673761
          ],
          "arrayminus": [
           0.0776530248446852,
           0.1971463338321859,
           0.0100640572853533,
           0.0105903649525103
          ]
         },
         "hovertemplate": "<b>Presencia de <br>menores</b>=sin menores<br>anio=2003<br>thogar=%{x}<br>Hogares(%)=%{text}<extra></extra>",
         "legendgroup": "sin menores",
         "marker": {
          "color": "#2471A3",
          "pattern": {
           "shape": ""
          }
         },
         "name": "sin menores",
         "offsetgroup": "sin menores",
         "orientation": "v",
         "showlegend": false,
         "text": [
          8.1,
          20.3,
          1.1,
          1.2
         ],
         "textposition": "auto",
         "x": [
          "nuclear monoparental",
          "nuclear biparental",
          "extenso monoparental",
          "extenso biparental"
         ],
         "xaxis": "x6",
         "y": [
          8.1,
          20.3,
          1.1,
          1.2
         ],
         "yaxis": "y6",
         "type": "bar"
        },
        {
         "alignmentgroup": "True",
         "error_y": {
          "array": [
           0.1085082736607221,
           0.2487458333980417,
           0.0170711116949282,
           0.0161352614124416
          ],
          "arrayminus": [
           0.0991897469317847,
           0.2356534404236645,
           0.0123082313465959,
           0.0130284815831889
          ]
         },
         "hovertemplate": "<b>Presencia de <br>menores</b>=sin menores<br>anio=2009<br>thogar=%{x}<br>Hogares(%)=%{text}<extra></extra>",
         "legendgroup": "sin menores",
         "marker": {
          "color": "#2471A3",
          "pattern": {
           "shape": ""
          }
         },
         "name": "sin menores",
         "offsetgroup": "sin menores",
         "orientation": "v",
         "showlegend": false,
         "text": [
          10.4,
          24.2,
          1.4,
          1.5
         ],
         "textposition": "auto",
         "x": [
          "nuclear monoparental",
          "nuclear biparental",
          "extenso monoparental",
          "extenso biparental"
         ],
         "xaxis": "x5",
         "y": [
          10.4,
          24.2,
          1.4,
          1.5
         ],
         "yaxis": "y5",
         "type": "bar"
        },
        {
         "alignmentgroup": "True",
         "error_y": {
          "array": [
           0.1346734177237158,
           0.2816725565333786,
           0.0160936722472149,
           0.0178354460392086
          ],
          "arrayminus": [
           0.1235424132138086,
           0.2678254620977919,
           0.0114878982070137,
           0.0137016639946735
          ]
         },
         "hovertemplate": "<b>Presencia de <br>menores</b>=sin menores<br>anio=2013<br>thogar=%{x}<br>Hogares(%)=%{text}<extra></extra>",
         "legendgroup": "sin menores",
         "marker": {
          "color": "#2471A3",
          "pattern": {
           "shape": ""
          }
         },
         "name": "sin menores",
         "offsetgroup": "sin menores",
         "orientation": "v",
         "showlegend": false,
         "text": [
          12.9,
          27.5,
          1.4,
          1.6
         ],
         "textposition": "auto",
         "x": [
          "nuclear monoparental",
          "nuclear biparental",
          "extenso monoparental",
          "extenso biparental"
         ],
         "xaxis": "x4",
         "y": [
          12.9,
          27.5,
          1.4,
          1.6
         ],
         "yaxis": "y4",
         "type": "bar"
        },
        {
         "alignmentgroup": "True",
         "error_y": {
          "array": [
           0.1319818791430871,
           0.2845578089407117,
           0.0184208843749055,
           0.0209232756784791
          ],
          "arrayminus": [
           0.1243371663423252,
           0.2734224914895214,
           0.0151707454115956,
           0.0172850258248504
          ]
         },
         "hovertemplate": "<b>Presencia de <br>menores</b>=sin menores<br>anio=2015<br>thogar=%{x}<br>Hogares(%)=%{text}<extra></extra>",
         "legendgroup": "sin menores",
         "marker": {
          "color": "#2471A3",
          "pattern": {
           "shape": ""
          }
         },
         "name": "sin menores",
         "offsetgroup": "sin menores",
         "orientation": "v",
         "showlegend": false,
         "text": [
          12.8,
          27.9,
          1.7,
          1.9
         ],
         "textposition": "auto",
         "x": [
          "nuclear monoparental",
          "nuclear biparental",
          "extenso monoparental",
          "extenso biparental"
         ],
         "xaxis": "x3",
         "y": [
          12.8,
          27.9,
          1.7,
          1.9
         ],
         "yaxis": "y3",
         "type": "bar"
        },
        {
         "alignmentgroup": "True",
         "error_y": {
          "array": [
           0.1446270944295702,
           0.3095458855725836,
           0.0211655424648719,
           0.0225154786640046
          ],
          "arrayminus": [
           0.1361964339870476,
           0.2969393609511074,
           0.0175470042444841,
           0.0169129551102902
          ]
         },
         "hovertemplate": "<b>Presencia de <br>menores</b>=sin menores<br>anio=2017<br>thogar=%{x}<br>Hogares(%)=%{text}<extra></extra>",
         "legendgroup": "sin menores",
         "marker": {
          "color": "#2471A3",
          "pattern": {
           "shape": ""
          }
         },
         "name": "sin menores",
         "offsetgroup": "sin menores",
         "orientation": "v",
         "showlegend": false,
         "text": [
          14.0,
          30.3,
          1.9,
          2.0
         ],
         "textposition": "auto",
         "x": [
          "nuclear monoparental",
          "nuclear biparental",
          "extenso monoparental",
          "extenso biparental"
         ],
         "xaxis": "x2",
         "y": [
          14.0,
          30.3,
          1.9,
          2.0
         ],
         "yaxis": "y2",
         "type": "bar"
        },
        {
         "alignmentgroup": "True",
         "error_y": {
          "array": [
           0.126179528650612,
           0.2994275347318405,
           0.0351005596221454,
           0.0318464904468979
          ],
          "arrayminus": [
           0.1174732666869166,
           0.2843145161619927,
           0.0309024875800031,
           0.0280208876242858
          ]
         },
         "hovertemplate": "<b>Presencia de <br>menores</b>=sin menores<br>anio=2020<br>thogar=%{x}<br>Hogares(%)=%{text}<extra></extra>",
         "legendgroup": "sin menores",
         "marker": {
          "color": "#2471A3",
          "pattern": {
           "shape": ""
          }
         },
         "name": "sin menores",
         "offsetgroup": "sin menores",
         "orientation": "v",
         "showlegend": false,
         "text": [
          12.2,
          29.2,
          3.3,
          3.0
         ],
         "textposition": "auto",
         "x": [
          "nuclear monoparental",
          "nuclear biparental",
          "extenso monoparental",
          "extenso biparental"
         ],
         "xaxis": "x",
         "y": [
          12.2,
          29.2,
          3.3,
          3.0
         ],
         "yaxis": "y",
         "type": "bar"
        },
        {
         "alignmentgroup": "True",
         "error_y": {
          "array": [
           0.0741846318195012,
           0.5131246301568402,
           0.0667397129670768,
           0.0992410558517407
          ],
          "arrayminus": [
           0.0661492360186922,
           0.4971395345666993,
           0.0590385382668768,
           0.0899912285947429
          ]
         },
         "hovertemplate": "<b>Presencia de <br>menores</b>=con menores<br>anio=1990<br>thogar=%{x}<br>Hogares(%)=%{text}<extra></extra>",
         "legendgroup": "con menores",
         "marker": {
          "color": "#E67E22",
          "pattern": {
           "shape": ""
          }
         },
         "name": "con menores",
         "offsetgroup": "con menores",
         "orientation": "v",
         "showlegend": true,
         "text": [
          7.0,
          50.5,
          6.3,
          9.5
         ],
         "textposition": "auto",
         "x": [
          "nuclear monoparental",
          "nuclear biparental",
          "extenso monoparental",
          "extenso biparental"
         ],
         "xaxis": "x12",
         "y": [
          7.0,
          50.5,
          6.3,
          9.5
         ],
         "yaxis": "y12",
         "type": "bar"
        },
        {
         "alignmentgroup": "True",
         "error_y": {
          "array": [
           0.0800685878031495,
           0.5192394605886902,
           0.0592125447101204,
           0.0870673872269497
          ],
          "arrayminus": [
           0.0725225827778027,
           0.5050923942195307,
           0.0528634112706804,
           0.0795944864418058
          ]
         },
         "hovertemplate": "<b>Presencia de <br>menores</b>=con menores<br>anio=1992<br>thogar=%{x}<br>Hogares(%)=%{text}<extra></extra>",
         "legendgroup": "con menores",
         "marker": {
          "color": "#E67E22",
          "pattern": {
           "shape": ""
          }
         },
         "name": "con menores",
         "offsetgroup": "con menores",
         "orientation": "v",
         "showlegend": false,
         "text": [
          7.6,
          51.2,
          5.6,
          8.3
         ],
         "textposition": "auto",
         "x": [
          "nuclear monoparental",
          "nuclear biparental",
          "extenso monoparental",
          "extenso biparental"
         ],
         "xaxis": "x11",
         "y": [
          7.6,
          51.2,
          5.6,
          8.3
         ],
         "yaxis": "y11",
         "type": "bar"
        },
        {
         "alignmentgroup": "True",
         "error_y": {
          "array": [
           0.076167775524096,
           0.4938953409347585,
           0.060805283787844,
           0.1030568591055827
          ],
          "arrayminus": [
           0.0688500029121345,
           0.4797622827387925,
           0.0542486745242991,
           0.094721672659474
          ]
         },
         "hovertemplate": "<b>Presencia de <br>menores</b>=con menores<br>anio=1994<br>thogar=%{x}<br>Hogares(%)=%{text}<extra></extra>",
         "legendgroup": "con menores",
         "marker": {
          "color": "#E67E22",
          "pattern": {
           "shape": ""
          }
         },
         "name": "con menores",
         "offsetgroup": "con menores",
         "orientation": "v",
         "showlegend": false,
         "text": [
          7.2,
          48.7,
          5.7,
          9.9
         ],
         "textposition": "auto",
         "x": [
          "nuclear monoparental",
          "nuclear biparental",
          "extenso monoparental",
          "extenso biparental"
         ],
         "xaxis": "x10",
         "y": [
          7.2,
          48.7,
          5.7,
          9.9
         ],
         "yaxis": "y10",
         "type": "bar"
        },
        {
         "alignmentgroup": "True",
         "error_y": {
          "array": [
           0.0684549767737576,
           0.5135138345179047,
           0.0571345780524921,
           0.1071268509706123
          ],
          "arrayminus": [
           0.0594688558380234,
           0.4943715208989823,
           0.0498983654338293,
           0.0961276444097221
          ]
         },
         "hovertemplate": "<b>Presencia de <br>menores</b>=con menores<br>anio=1996<br>thogar=%{x}<br>Hogares(%)=%{text}<extra></extra>",
         "legendgroup": "con menores",
         "marker": {
          "color": "#E67E22",
          "pattern": {
           "shape": ""
          }
         },
         "name": "con menores",
         "offsetgroup": "con menores",
         "orientation": "v",
         "showlegend": false,
         "text": [
          6.4,
          50.4,
          5.3,
          10.1
         ],
         "textposition": "auto",
         "x": [
          "nuclear monoparental",
          "nuclear biparental",
          "extenso monoparental",
          "extenso biparental"
         ],
         "xaxis": "x9",
         "y": [
          6.4,
          50.4,
          5.3,
          10.1
         ],
         "yaxis": "y9",
         "type": "bar"
        },
        {
         "alignmentgroup": "True",
         "error_y": {
          "array": [
           0.0738976953058075,
           0.490792646610403,
           0.064657303183325,
           0.1037294025177975
          ],
          "arrayminus": [
           0.0661920239932153,
           0.4761655284697415,
           0.0579937804252272,
           0.0954461604892022
          ]
         },
         "hovertemplate": "<b>Presencia de <br>menores</b>=con menores<br>anio=1998<br>thogar=%{x}<br>Hogares(%)=%{text}<extra></extra>",
         "legendgroup": "con menores",
         "marker": {
          "color": "#E67E22",
          "pattern": {
           "shape": ""
          }
         },
         "name": "con menores",
         "offsetgroup": "con menores",
         "orientation": "v",
         "showlegend": false,
         "text": [
          7.0,
          48.3,
          6.1,
          10.0
         ],
         "textposition": "auto",
         "x": [
          "nuclear monoparental",
          "nuclear biparental",
          "extenso monoparental",
          "extenso biparental"
         ],
         "xaxis": "x8",
         "y": [
          7.0,
          48.3,
          6.1,
          10.0
         ],
         "yaxis": "y8",
         "type": "bar"
        },
        {
         "alignmentgroup": "True",
         "error_y": {
          "array": [
           0.0696118398863087,
           0.4831520508121381,
           0.0700254097268786,
           0.1085297623789005
          ],
          "arrayminus": [
           0.0619374558923073,
           0.4657097731070228,
           0.0622290926668214,
           0.1001757240544828
          ]
         },
         "hovertemplate": "<b>Presencia de <br>menores</b>=con menores<br>anio=2000<br>thogar=%{x}<br>Hogares(%)=%{text}<extra></extra>",
         "legendgroup": "con menores",
         "marker": {
          "color": "#E67E22",
          "pattern": {
           "shape": ""
          }
         },
         "name": "con menores",
         "offsetgroup": "con menores",
         "orientation": "v",
         "showlegend": false,
         "text": [
          6.6,
          47.4,
          6.6,
          10.4
         ],
         "textposition": "auto",
         "x": [
          "nuclear monoparental",
          "nuclear biparental",
          "extenso monoparental",
          "extenso biparental"
         ],
         "xaxis": "x7",
         "y": [
          6.6,
          47.4,
          6.6,
          10.4
         ],
         "yaxis": "y7",
         "type": "bar"
        },
        {
         "alignmentgroup": "True",
         "error_y": {
          "array": [
           0.0778419689136428,
           0.4555115475092377,
           0.0643852105929396,
           0.1138394708634435
          ],
          "arrayminus": [
           0.0702201727923049,
           0.4396323021227718,
           0.0576143122296539,
           0.105169611642023
          ]
         },
         "hovertemplate": "<b>Presencia de <br>menores</b>=con menores<br>anio=2003<br>thogar=%{x}<br>Hogares(%)=%{text}<extra></extra>",
         "legendgroup": "con menores",
         "marker": {
          "color": "#E67E22",
          "pattern": {
           "shape": ""
          }
         },
         "name": "con menores",
         "offsetgroup": "con menores",
         "orientation": "v",
         "showlegend": false,
         "text": [
          7.4,
          44.8,
          6.1,
          10.9
         ],
         "textposition": "auto",
         "x": [
          "nuclear monoparental",
          "nuclear biparental",
          "extenso monoparental",
          "extenso biparental"
         ],
         "xaxis": "x6",
         "y": [
          7.4,
          44.8,
          6.1,
          10.9
         ],
         "yaxis": "y6",
         "type": "bar"
        },
        {
         "alignmentgroup": "True",
         "error_y": {
          "array": [
           0.1054652832855635,
           0.3719639174187901,
           0.0681135424666068,
           0.0981547141331341
          ],
          "arrayminus": [
           0.0970391104305005,
           0.3581346603934678,
           0.0616412104540057,
           0.0902108001290748
          ]
         },
         "hovertemplate": "<b>Presencia de <br>menores</b>=con menores<br>anio=2009<br>thogar=%{x}<br>Hogares(%)=%{text}<extra></extra>",
         "legendgroup": "con menores",
         "marker": {
          "color": "#E67E22",
          "pattern": {
           "shape": ""
          }
         },
         "name": "con menores",
         "offsetgroup": "con menores",
         "orientation": "v",
         "showlegend": false,
         "text": [
          10.1,
          36.5,
          6.5,
          9.4
         ],
         "textposition": "auto",
         "x": [
          "nuclear monoparental",
          "nuclear biparental",
          "extenso monoparental",
          "extenso biparental"
         ],
         "xaxis": "x5",
         "y": [
          10.1,
          36.5,
          6.5,
          9.4
         ],
         "yaxis": "y5",
         "type": "bar"
        },
        {
         "alignmentgroup": "True",
         "error_y": {
          "array": [
           0.1129024906713715,
           0.31097408230951,
           0.0675431441242978,
           0.0971407127730775
          ],
          "arrayminus": [
           0.1030524595595853,
           0.2957577540650133,
           0.0590401434534746,
           0.08847302309619
          ]
         },
         "hovertemplate": "<b>Presencia de <br>menores</b>=con menores<br>anio=2013<br>thogar=%{x}<br>Hogares(%)=%{text}<extra></extra>",
         "legendgroup": "con menores",
         "marker": {
          "color": "#E67E22",
          "pattern": {
           "shape": ""
          }
         },
         "name": "con menores",
         "offsetgroup": "con menores",
         "orientation": "v",
         "showlegend": false,
         "text": [
          10.8,
          30.3,
          6.3,
          9.3
         ],
         "textposition": "auto",
         "x": [
          "nuclear monoparental",
          "nuclear biparental",
          "extenso monoparental",
          "extenso biparental"
         ],
         "xaxis": "x4",
         "y": [
          10.8,
          30.3,
          6.3,
          9.3
         ],
         "yaxis": "y4",
         "type": "bar"
        },
        {
         "alignmentgroup": "True",
         "error_y": {
          "array": [
           0.107337415774319,
           0.2970564033291329,
           0.0715755548513048,
           0.0974768235225213
          ],
          "arrayminus": [
           0.0998713282060527,
           0.2852177305533507,
           0.0655402811397606,
           0.0907370012482067
          ]
         },
         "hovertemplate": "<b>Presencia de <br>menores</b>=con menores<br>anio=2015<br>thogar=%{x}<br>Hogares(%)=%{text}<extra></extra>",
         "legendgroup": "con menores",
         "marker": {
          "color": "#E67E22",
          "pattern": {
           "shape": ""
          }
         },
         "name": "con menores",
         "offsetgroup": "con menores",
         "orientation": "v",
         "showlegend": false,
         "text": [
          10.4,
          29.1,
          6.8,
          9.4
         ],
         "textposition": "auto",
         "x": [
          "nuclear monoparental",
          "nuclear biparental",
          "extenso monoparental",
          "extenso biparental"
         ],
         "xaxis": "x3",
         "y": [
          10.4,
          29.1,
          6.8,
          9.4
         ],
         "yaxis": "y3",
         "type": "bar"
        },
        {
         "alignmentgroup": "True",
         "error_y": {
          "array": [
           0.1101339938230257,
           0.2770677041538104,
           0.0639978512639502,
           0.0836456442472521
          ],
          "arrayminus": [
           0.1005004785145759,
           0.2649602351424959,
           0.0581850735582829,
           0.0773197462061979
          ]
         },
         "hovertemplate": "<b>Presencia de <br>menores</b>=con menores<br>anio=2017<br>thogar=%{x}<br>Hogares(%)=%{text}<extra></extra>",
         "legendgroup": "con menores",
         "marker": {
          "color": "#E67E22",
          "pattern": {
           "shape": ""
          }
         },
         "name": "con menores",
         "offsetgroup": "con menores",
         "orientation": "v",
         "showlegend": false,
         "text": [
          10.5,
          27.1,
          6.1,
          8.0
         ],
         "textposition": "auto",
         "x": [
          "nuclear monoparental",
          "nuclear biparental",
          "extenso monoparental",
          "extenso biparental"
         ],
         "xaxis": "x2",
         "y": [
          10.5,
          27.1,
          6.1,
          8.0
         ],
         "yaxis": "y2",
         "type": "bar"
        },
        {
         "alignmentgroup": "True",
         "error_y": {
          "array": [
           0.1397684288168105,
           0.2610854091044975,
           0.0749752314259288,
           0.0721391219250702
          ],
          "arrayminus": [
           0.1289785644975782,
           0.2364516186751978,
           0.0685137803697957,
           0.0661645611236952
          ]
         },
         "hovertemplate": "<b>Presencia de <br>menores</b>=con menores<br>anio=2020<br>thogar=%{x}<br>Hogares(%)=%{text}<extra></extra>",
         "legendgroup": "con menores",
         "marker": {
          "color": "#E67E22",
          "pattern": {
           "shape": ""
          }
         },
         "name": "con menores",
         "offsetgroup": "con menores",
         "orientation": "v",
         "showlegend": false,
         "text": [
          13.4,
          24.9,
          7.2,
          6.9
         ],
         "textposition": "auto",
         "x": [
          "nuclear monoparental",
          "nuclear biparental",
          "extenso monoparental",
          "extenso biparental"
         ],
         "xaxis": "x",
         "y": [
          13.4,
          24.9,
          7.2,
          6.9
         ],
         "yaxis": "y",
         "type": "bar"
        }
       ],
       "layout": {
        "template": {
         "data": {
          "barpolar": [
           {
            "marker": {
             "line": {
              "color": "#E5ECF6",
              "width": 0.5
             },
             "pattern": {
              "fillmode": "overlay",
              "size": 10,
              "solidity": 0.2
             }
            },
            "type": "barpolar"
           }
          ],
          "bar": [
           {
            "error_x": {
             "color": "#2a3f5f"
            },
            "error_y": {
             "color": "#2a3f5f"
            },
            "marker": {
             "line": {
              "color": "#E5ECF6",
              "width": 0.5
             },
             "pattern": {
              "fillmode": "overlay",
              "size": 10,
              "solidity": 0.2
             }
            },
            "type": "bar"
           }
          ],
          "carpet": [
           {
            "aaxis": {
             "endlinecolor": "#2a3f5f",
             "gridcolor": "white",
             "linecolor": "white",
             "minorgridcolor": "white",
             "startlinecolor": "#2a3f5f"
            },
            "baxis": {
             "endlinecolor": "#2a3f5f",
             "gridcolor": "white",
             "linecolor": "white",
             "minorgridcolor": "white",
             "startlinecolor": "#2a3f5f"
            },
            "type": "carpet"
           }
          ],
          "choropleth": [
           {
            "colorbar": {
             "outlinewidth": 0,
             "ticks": ""
            },
            "type": "choropleth"
           }
          ],
          "contourcarpet": [
           {
            "colorbar": {
             "outlinewidth": 0,
             "ticks": ""
            },
            "type": "contourcarpet"
           }
          ],
          "contour": [
           {
            "colorbar": {
             "outlinewidth": 0,
             "ticks": ""
            },
            "colorscale": [
             [
              0.0,
              "#0d0887"
             ],
             [
              0.1111111111111111,
              "#46039f"
             ],
             [
              0.2222222222222222,
              "#7201a8"
             ],
             [
              0.3333333333333333,
              "#9c179e"
             ],
             [
              0.4444444444444444,
              "#bd3786"
             ],
             [
              0.5555555555555556,
              "#d8576b"
             ],
             [
              0.6666666666666666,
              "#ed7953"
             ],
             [
              0.7777777777777778,
              "#fb9f3a"
             ],
             [
              0.8888888888888888,
              "#fdca26"
             ],
             [
              1.0,
              "#f0f921"
             ]
            ],
            "type": "contour"
           }
          ],
          "heatmapgl": [
           {
            "colorbar": {
             "outlinewidth": 0,
             "ticks": ""
            },
            "colorscale": [
             [
              0.0,
              "#0d0887"
             ],
             [
              0.1111111111111111,
              "#46039f"
             ],
             [
              0.2222222222222222,
              "#7201a8"
             ],
             [
              0.3333333333333333,
              "#9c179e"
             ],
             [
              0.4444444444444444,
              "#bd3786"
             ],
             [
              0.5555555555555556,
              "#d8576b"
             ],
             [
              0.6666666666666666,
              "#ed7953"
             ],
             [
              0.7777777777777778,
              "#fb9f3a"
             ],
             [
              0.8888888888888888,
              "#fdca26"
             ],
             [
              1.0,
              "#f0f921"
             ]
            ],
            "type": "heatmapgl"
           }
          ],
          "heatmap": [
           {
            "colorbar": {
             "outlinewidth": 0,
             "ticks": ""
            },
            "colorscale": [
             [
              0.0,
              "#0d0887"
             ],
             [
              0.1111111111111111,
              "#46039f"
             ],
             [
              0.2222222222222222,
              "#7201a8"
             ],
             [
              0.3333333333333333,
              "#9c179e"
             ],
             [
              0.4444444444444444,
              "#bd3786"
             ],
             [
              0.5555555555555556,
              "#d8576b"
             ],
             [
              0.6666666666666666,
              "#ed7953"
             ],
             [
              0.7777777777777778,
              "#fb9f3a"
             ],
             [
              0.8888888888888888,
              "#fdca26"
             ],
             [
              1.0,
              "#f0f921"
             ]
            ],
            "type": "heatmap"
           }
          ],
          "histogram2dcontour": [
           {
            "colorbar": {
             "outlinewidth": 0,
             "ticks": ""
            },
            "colorscale": [
             [
              0.0,
              "#0d0887"
             ],
             [
              0.1111111111111111,
              "#46039f"
             ],
             [
              0.2222222222222222,
              "#7201a8"
             ],
             [
              0.3333333333333333,
              "#9c179e"
             ],
             [
              0.4444444444444444,
              "#bd3786"
             ],
             [
              0.5555555555555556,
              "#d8576b"
             ],
             [
              0.6666666666666666,
              "#ed7953"
             ],
             [
              0.7777777777777778,
              "#fb9f3a"
             ],
             [
              0.8888888888888888,
              "#fdca26"
             ],
             [
              1.0,
              "#f0f921"
             ]
            ],
            "type": "histogram2dcontour"
           }
          ],
          "histogram2d": [
           {
            "colorbar": {
             "outlinewidth": 0,
             "ticks": ""
            },
            "colorscale": [
             [
              0.0,
              "#0d0887"
             ],
             [
              0.1111111111111111,
              "#46039f"
             ],
             [
              0.2222222222222222,
              "#7201a8"
             ],
             [
              0.3333333333333333,
              "#9c179e"
             ],
             [
              0.4444444444444444,
              "#bd3786"
             ],
             [
              0.5555555555555556,
              "#d8576b"
             ],
             [
              0.6666666666666666,
              "#ed7953"
             ],
             [
              0.7777777777777778,
              "#fb9f3a"
             ],
             [
              0.8888888888888888,
              "#fdca26"
             ],
             [
              1.0,
              "#f0f921"
             ]
            ],
            "type": "histogram2d"
           }
          ],
          "histogram": [
           {
            "marker": {
             "pattern": {
              "fillmode": "overlay",
              "size": 10,
              "solidity": 0.2
             }
            },
            "type": "histogram"
           }
          ],
          "mesh3d": [
           {
            "colorbar": {
             "outlinewidth": 0,
             "ticks": ""
            },
            "type": "mesh3d"
           }
          ],
          "parcoords": [
           {
            "line": {
             "colorbar": {
              "outlinewidth": 0,
              "ticks": ""
             }
            },
            "type": "parcoords"
           }
          ],
          "pie": [
           {
            "automargin": true,
            "type": "pie"
           }
          ],
          "scatter3d": [
           {
            "line": {
             "colorbar": {
              "outlinewidth": 0,
              "ticks": ""
             }
            },
            "marker": {
             "colorbar": {
              "outlinewidth": 0,
              "ticks": ""
             }
            },
            "type": "scatter3d"
           }
          ],
          "scattercarpet": [
           {
            "marker": {
             "colorbar": {
              "outlinewidth": 0,
              "ticks": ""
             }
            },
            "type": "scattercarpet"
           }
          ],
          "scattergeo": [
           {
            "marker": {
             "colorbar": {
              "outlinewidth": 0,
              "ticks": ""
             }
            },
            "type": "scattergeo"
           }
          ],
          "scattergl": [
           {
            "marker": {
             "colorbar": {
              "outlinewidth": 0,
              "ticks": ""
             }
            },
            "type": "scattergl"
           }
          ],
          "scattermapbox": [
           {
            "marker": {
             "colorbar": {
              "outlinewidth": 0,
              "ticks": ""
             }
            },
            "type": "scattermapbox"
           }
          ],
          "scatterpolargl": [
           {
            "marker": {
             "colorbar": {
              "outlinewidth": 0,
              "ticks": ""
             }
            },
            "type": "scatterpolargl"
           }
          ],
          "scatterpolar": [
           {
            "marker": {
             "colorbar": {
              "outlinewidth": 0,
              "ticks": ""
             }
            },
            "type": "scatterpolar"
           }
          ],
          "scatter": [
           {
            "marker": {
             "colorbar": {
              "outlinewidth": 0,
              "ticks": ""
             }
            },
            "type": "scatter"
           }
          ],
          "scatterternary": [
           {
            "marker": {
             "colorbar": {
              "outlinewidth": 0,
              "ticks": ""
             }
            },
            "type": "scatterternary"
           }
          ],
          "surface": [
           {
            "colorbar": {
             "outlinewidth": 0,
             "ticks": ""
            },
            "colorscale": [
             [
              0.0,
              "#0d0887"
             ],
             [
              0.1111111111111111,
              "#46039f"
             ],
             [
              0.2222222222222222,
              "#7201a8"
             ],
             [
              0.3333333333333333,
              "#9c179e"
             ],
             [
              0.4444444444444444,
              "#bd3786"
             ],
             [
              0.5555555555555556,
              "#d8576b"
             ],
             [
              0.6666666666666666,
              "#ed7953"
             ],
             [
              0.7777777777777778,
              "#fb9f3a"
             ],
             [
              0.8888888888888888,
              "#fdca26"
             ],
             [
              1.0,
              "#f0f921"
             ]
            ],
            "type": "surface"
           }
          ],
          "table": [
           {
            "cells": {
             "fill": {
              "color": "#EBF0F8"
             },
             "line": {
              "color": "white"
             }
            },
            "header": {
             "fill": {
              "color": "#C8D4E3"
             },
             "line": {
              "color": "white"
             }
            },
            "type": "table"
           }
          ]
         },
         "layout": {
          "annotationdefaults": {
           "arrowcolor": "#2a3f5f",
           "arrowhead": 0,
           "arrowwidth": 1
          },
          "autotypenumbers": "strict",
          "coloraxis": {
           "colorbar": {
            "outlinewidth": 0,
            "ticks": ""
           }
          },
          "colorscale": {
           "diverging": [
            [
             0,
             "#8e0152"
            ],
            [
             0.1,
             "#c51b7d"
            ],
            [
             0.2,
             "#de77ae"
            ],
            [
             0.3,
             "#f1b6da"
            ],
            [
             0.4,
             "#fde0ef"
            ],
            [
             0.5,
             "#f7f7f7"
            ],
            [
             0.6,
             "#e6f5d0"
            ],
            [
             0.7,
             "#b8e186"
            ],
            [
             0.8,
             "#7fbc41"
            ],
            [
             0.9,
             "#4d9221"
            ],
            [
             1,
             "#276419"
            ]
           ],
           "sequential": [
            [
             0.0,
             "#0d0887"
            ],
            [
             0.1111111111111111,
             "#46039f"
            ],
            [
             0.2222222222222222,
             "#7201a8"
            ],
            [
             0.3333333333333333,
             "#9c179e"
            ],
            [
             0.4444444444444444,
             "#bd3786"
            ],
            [
             0.5555555555555556,
             "#d8576b"
            ],
            [
             0.6666666666666666,
             "#ed7953"
            ],
            [
             0.7777777777777778,
             "#fb9f3a"
            ],
            [
             0.8888888888888888,
             "#fdca26"
            ],
            [
             1.0,
             "#f0f921"
            ]
           ],
           "sequentialminus": [
            [
             0.0,
             "#0d0887"
            ],
            [
             0.1111111111111111,
             "#46039f"
            ],
            [
             0.2222222222222222,
             "#7201a8"
            ],
            [
             0.3333333333333333,
             "#9c179e"
            ],
            [
             0.4444444444444444,
             "#bd3786"
            ],
            [
             0.5555555555555556,
             "#d8576b"
            ],
            [
             0.6666666666666666,
             "#ed7953"
            ],
            [
             0.7777777777777778,
             "#fb9f3a"
            ],
            [
             0.8888888888888888,
             "#fdca26"
            ],
            [
             1.0,
             "#f0f921"
            ]
           ]
          },
          "colorway": [
           "#636efa",
           "#EF553B",
           "#00cc96",
           "#ab63fa",
           "#FFA15A",
           "#19d3f3",
           "#FF6692",
           "#B6E880",
           "#FF97FF",
           "#FECB52"
          ],
          "font": {
           "color": "#2a3f5f"
          },
          "geo": {
           "bgcolor": "white",
           "lakecolor": "white",
           "landcolor": "#E5ECF6",
           "showlakes": true,
           "showland": true,
           "subunitcolor": "white"
          },
          "hoverlabel": {
           "align": "left"
          },
          "hovermode": "closest",
          "mapbox": {
           "style": "light"
          },
          "paper_bgcolor": "white",
          "plot_bgcolor": "#E5ECF6",
          "polar": {
           "angularaxis": {
            "gridcolor": "white",
            "linecolor": "white",
            "ticks": ""
           },
           "bgcolor": "#E5ECF6",
           "radialaxis": {
            "gridcolor": "white",
            "linecolor": "white",
            "ticks": ""
           }
          },
          "scene": {
           "xaxis": {
            "backgroundcolor": "#E5ECF6",
            "gridcolor": "white",
            "gridwidth": 2,
            "linecolor": "white",
            "showbackground": true,
            "ticks": "",
            "zerolinecolor": "white"
           },
           "yaxis": {
            "backgroundcolor": "#E5ECF6",
            "gridcolor": "white",
            "gridwidth": 2,
            "linecolor": "white",
            "showbackground": true,
            "ticks": "",
            "zerolinecolor": "white"
           },
           "zaxis": {
            "backgroundcolor": "#E5ECF6",
            "gridcolor": "white",
            "gridwidth": 2,
            "linecolor": "white",
            "showbackground": true,
            "ticks": "",
            "zerolinecolor": "white"
           }
          },
          "shapedefaults": {
           "line": {
            "color": "#2a3f5f"
           }
          },
          "ternary": {
           "aaxis": {
            "gridcolor": "white",
            "linecolor": "white",
            "ticks": ""
           },
           "baxis": {
            "gridcolor": "white",
            "linecolor": "white",
            "ticks": ""
           },
           "bgcolor": "#E5ECF6",
           "caxis": {
            "gridcolor": "white",
            "linecolor": "white",
            "ticks": ""
           }
          },
          "title": {
           "x": 0.05
          },
          "xaxis": {
           "automargin": true,
           "gridcolor": "white",
           "linecolor": "white",
           "ticks": "",
           "title": {
            "standoff": 15
           },
           "zerolinecolor": "white",
           "zerolinewidth": 2
          },
          "yaxis": {
           "automargin": true,
           "gridcolor": "white",
           "linecolor": "white",
           "ticks": "",
           "title": {
            "standoff": 15
           },
           "zerolinecolor": "white",
           "zerolinewidth": 2
          }
         }
        },
        "xaxis": {
         "anchor": "y",
         "domain": [
          0.0,
          0.98
         ],
         "title": {},
         "showgrid": true,
         "tickangle": 0
        },
        "yaxis": {
         "anchor": "x",
         "domain": [
          0.0,
          0.05583333333333333
         ],
         "title": {
          "text": "Hogares(%)",
          "font": {
           "size": 10
          },
          "standoff": 8
         }
        },
        "xaxis2": {
         "anchor": "y2",
         "domain": [
          0.0,
          0.98
         ],
         "matches": "x",
         "showticklabels": false,
         "title": {},
         "showgrid": true,
         "tickangle": 0
        },
        "yaxis2": {
         "anchor": "x2",
         "domain": [
          0.08583333333333333,
          0.14166666666666666
         ],
         "matches": "y",
         "title": {
          "text": "Hogares(%)",
          "font": {
           "size": 10
          },
          "standoff": 8
         }
        },
        "xaxis3": {
         "anchor": "y3",
         "domain": [
          0.0,
          0.98
         ],
         "matches": "x",
         "showticklabels": false,
         "title": {},
         "showgrid": true,
         "tickangle": 0
        },
        "yaxis3": {
         "anchor": "x3",
         "domain": [
          0.17166666666666666,
          0.22749999999999998
         ],
         "matches": "y",
         "title": {
          "text": "Hogares(%)",
          "font": {
           "size": 10
          },
          "standoff": 8
         }
        },
        "xaxis4": {
         "anchor": "y4",
         "domain": [
          0.0,
          0.98
         ],
         "matches": "x",
         "showticklabels": false,
         "title": {},
         "showgrid": true,
         "tickangle": 0
        },
        "yaxis4": {
         "anchor": "x4",
         "domain": [
          0.25749999999999995,
          0.3133333333333333
         ],
         "matches": "y",
         "title": {
          "text": "Hogares(%)",
          "font": {
           "size": 10
          },
          "standoff": 8
         }
        },
        "xaxis5": {
         "anchor": "y5",
         "domain": [
          0.0,
          0.98
         ],
         "matches": "x",
         "showticklabels": false,
         "title": {},
         "showgrid": true,
         "tickangle": 0
        },
        "yaxis5": {
         "anchor": "x5",
         "domain": [
          0.3433333333333333,
          0.39916666666666667
         ],
         "matches": "y",
         "title": {
          "text": "Hogares(%)",
          "font": {
           "size": 10
          },
          "standoff": 8
         }
        },
        "xaxis6": {
         "anchor": "y6",
         "domain": [
          0.0,
          0.98
         ],
         "matches": "x",
         "showticklabels": false,
         "title": {},
         "showgrid": true,
         "tickangle": 0
        },
        "yaxis6": {
         "anchor": "x6",
         "domain": [
          0.4291666666666667,
          0.48500000000000004
         ],
         "matches": "y",
         "title": {
          "text": "Hogares(%)",
          "font": {
           "size": 10
          },
          "standoff": 8
         }
        },
        "xaxis7": {
         "anchor": "y7",
         "domain": [
          0.0,
          0.98
         ],
         "matches": "x",
         "showticklabels": false,
         "title": {},
         "showgrid": true,
         "tickangle": 0
        },
        "yaxis7": {
         "anchor": "x7",
         "domain": [
          0.515,
          0.5708333333333333
         ],
         "matches": "y",
         "title": {
          "text": "Hogares(%)",
          "font": {
           "size": 10
          },
          "standoff": 8
         }
        },
        "xaxis8": {
         "anchor": "y8",
         "domain": [
          0.0,
          0.98
         ],
         "matches": "x",
         "showticklabels": false,
         "title": {},
         "showgrid": true,
         "tickangle": 0
        },
        "yaxis8": {
         "anchor": "x8",
         "domain": [
          0.6008333333333333,
          0.6566666666666666
         ],
         "matches": "y",
         "title": {
          "text": "Hogares(%)",
          "font": {
           "size": 10
          },
          "standoff": 8
         }
        },
        "xaxis9": {
         "anchor": "y9",
         "domain": [
          0.0,
          0.98
         ],
         "matches": "x",
         "showticklabels": false,
         "title": {},
         "showgrid": true,
         "tickangle": 0
        },
        "yaxis9": {
         "anchor": "x9",
         "domain": [
          0.6866666666666668,
          0.7425
         ],
         "matches": "y",
         "title": {
          "text": "Hogares(%)",
          "font": {
           "size": 10
          },
          "standoff": 8
         }
        },
        "xaxis10": {
         "anchor": "y10",
         "domain": [
          0.0,
          0.98
         ],
         "matches": "x",
         "showticklabels": false,
         "title": {},
         "showgrid": true,
         "tickangle": 0
        },
        "yaxis10": {
         "anchor": "x10",
         "domain": [
          0.7725000000000001,
          0.8283333333333334
         ],
         "matches": "y",
         "title": {
          "text": "Hogares(%)",
          "font": {
           "size": 10
          },
          "standoff": 8
         }
        },
        "xaxis11": {
         "anchor": "y11",
         "domain": [
          0.0,
          0.98
         ],
         "matches": "x",
         "showticklabels": false,
         "title": {},
         "showgrid": true,
         "tickangle": 0
        },
        "yaxis11": {
         "anchor": "x11",
         "domain": [
          0.8583333333333334,
          0.9141666666666667
         ],
         "matches": "y",
         "title": {
          "text": "Hogares(%)",
          "font": {
           "size": 10
          },
          "standoff": 8
         }
        },
        "xaxis12": {
         "anchor": "y12",
         "domain": [
          0.0,
          0.98
         ],
         "matches": "x",
         "showticklabels": false,
         "title": {},
         "showgrid": true,
         "tickangle": 0
        },
        "yaxis12": {
         "anchor": "x12",
         "domain": [
          0.9441666666666666,
          0.9999999999999999
         ],
         "matches": "y",
         "title": {
          "text": "Hogares(%)",
          "font": {
           "size": 10
          },
          "standoff": 8
         }
        },
        "annotations": [
         {
          "font": {},
          "showarrow": false,
          "text": "2020",
          "textangle": 90,
          "x": 0.98,
          "xanchor": "left",
          "xref": "paper",
          "y": 0.027916666666666666,
          "yanchor": "middle",
          "yref": "paper"
         },
         {
          "font": {},
          "showarrow": false,
          "text": "2017",
          "textangle": 90,
          "x": 0.98,
          "xanchor": "left",
          "xref": "paper",
          "y": 0.11374999999999999,
          "yanchor": "middle",
          "yref": "paper"
         },
         {
          "font": {},
          "showarrow": false,
          "text": "2015",
          "textangle": 90,
          "x": 0.98,
          "xanchor": "left",
          "xref": "paper",
          "y": 0.19958333333333333,
          "yanchor": "middle",
          "yref": "paper"
         },
         {
          "font": {},
          "showarrow": false,
          "text": "2013",
          "textangle": 90,
          "x": 0.98,
          "xanchor": "left",
          "xref": "paper",
          "y": 0.28541666666666665,
          "yanchor": "middle",
          "yref": "paper"
         },
         {
          "font": {},
          "showarrow": false,
          "text": "2009",
          "textangle": 90,
          "x": 0.98,
          "xanchor": "left",
          "xref": "paper",
          "y": 0.37124999999999997,
          "yanchor": "middle",
          "yref": "paper"
         },
         {
          "font": {},
          "showarrow": false,
          "text": "2003",
          "textangle": 90,
          "x": 0.98,
          "xanchor": "left",
          "xref": "paper",
          "y": 0.4570833333333334,
          "yanchor": "middle",
          "yref": "paper"
         },
         {
          "font": {},
          "showarrow": false,
          "text": "2000",
          "textangle": 90,
          "x": 0.98,
          "xanchor": "left",
          "xref": "paper",
          "y": 0.5429166666666667,
          "yanchor": "middle",
          "yref": "paper"
         },
         {
          "font": {},
          "showarrow": false,
          "text": "1998",
          "textangle": 90,
          "x": 0.98,
          "xanchor": "left",
          "xref": "paper",
          "y": 0.6287499999999999,
          "yanchor": "middle",
          "yref": "paper"
         },
         {
          "font": {},
          "showarrow": false,
          "text": "1996",
          "textangle": 90,
          "x": 0.98,
          "xanchor": "left",
          "xref": "paper",
          "y": 0.7145833333333333,
          "yanchor": "middle",
          "yref": "paper"
         },
         {
          "font": {},
          "showarrow": false,
          "text": "1994",
          "textangle": 90,
          "x": 0.98,
          "xanchor": "left",
          "xref": "paper",
          "y": 0.8004166666666668,
          "yanchor": "middle",
          "yref": "paper"
         },
         {
          "font": {},
          "showarrow": false,
          "text": "1992",
          "textangle": 90,
          "x": 0.98,
          "xanchor": "left",
          "xref": "paper",
          "y": 0.88625,
          "yanchor": "middle",
          "yref": "paper"
         },
         {
          "font": {},
          "showarrow": false,
          "text": "1990",
          "textangle": 90,
          "x": 0.98,
          "xanchor": "left",
          "xref": "paper",
          "y": 0.9720833333333332,
          "yanchor": "middle",
          "yref": "paper"
         }
        ],
        "legend": {
         "title": {
          "text": "<b>Presencia de <br>menores</b>"
         },
         "tracegroupgap": 0,
         "orientation": "h",
         "y": 1,
         "yanchor": "bottom",
         "x": 0.2,
         "xanchor": "center"
        },
        "margin": {
         "t": 25,
         "l": 10,
         "r": 10,
         "b": 10
        },
        "barmode": "group",
        "height": 900
       },
       "config": {
        "plotlyServerURL": "https://plot.ly"
       }
      },
      "text/html": "<div>                            <div id=\"59d6937b-f6e7-40ef-a4c7-de0c7bc410ba\" class=\"plotly-graph-div\" style=\"height:900px; width:100%;\"></div>            <script type=\"text/javascript\">                require([\"plotly\"], function(Plotly) {                    window.PLOTLYENV=window.PLOTLYENV || {};                                    if (document.getElementById(\"59d6937b-f6e7-40ef-a4c7-de0c7bc410ba\")) {                    Plotly.newPlot(                        \"59d6937b-f6e7-40ef-a4c7-de0c7bc410ba\",                        [{\"alignmentgroup\":\"True\",\"error_y\":{\"array\":[0.0767182328672184,0.1843546080794879,0.0106661430384031,0.0098110459294661],\"arrayminus\":[0.0682098923536791,0.1719266759483847,0.0074888894952416,0.0067998948816685]},\"hovertemplate\":\"<b>Presencia de <br>menores</b>=sin menores<br>anio=1990<br>thogar=%{x}<br>Hogares(%)=%{text}<extra></extra>\",\"legendgroup\":\"sin menores\",\"marker\":{\"color\":\"#2471A3\",\"pattern\":{\"shape\":\"\"}},\"name\":\"sin menores\",\"offsetgroup\":\"sin menores\",\"orientation\":\"v\",\"showlegend\":true,\"text\":[7.2,17.8,0.9,0.8],\"textposition\":\"auto\",\"x\":[\"nuclear monoparental\",\"nuclear biparental\",\"extenso monoparental\",\"extenso biparental\"],\"xaxis\":\"x12\",\"y\":[7.2,17.8,0.9,0.8],\"yaxis\":\"y12\",\"type\":\"bar\"},{\"alignmentgroup\":\"True\",\"error_y\":{\"array\":[0.0738824761661274,0.192478847487021,0.0087249931057861,0.0094825894422241],\"arrayminus\":[0.0666511195123286,0.1812811039664112,0.0062187129294638,0.0068336050884945]},\"hovertemplate\":\"<b>Presencia de <br>menores</b>=sin menores<br>anio=1992<br>thogar=%{x}<br>Hogares(%)=%{text}<extra></extra>\",\"legendgroup\":\"sin menores\",\"marker\":{\"color\":\"#2471A3\",\"pattern\":{\"shape\":\"\"}},\"name\":\"sin menores\",\"offsetgroup\":\"sin menores\",\"orientation\":\"v\",\"showlegend\":false,\"text\":[7.0,18.7,0.7,0.8],\"textposition\":\"auto\",\"x\":[\"nuclear monoparental\",\"nuclear biparental\",\"extenso monoparental\",\"extenso biparental\"],\"xaxis\":\"x11\",\"y\":[7.0,18.7,0.7,0.8],\"yaxis\":\"y11\",\"type\":\"bar\"},{\"alignmentgroup\":\"True\",\"error_y\":{\"array\":[0.0797766840813854,0.1962825679471912,0.0094624976569748,0.0114802476631873],\"arrayminus\":[0.0720266845009726,0.185007438669712,0.0069037844215096,0.008751612441543]},\"hovertemplate\":\"<b>Presencia de <br>menores</b>=sin menores<br>anio=1994<br>thogar=%{x}<br>Hogares(%)=%{text}<extra></extra>\",\"legendgroup\":\"sin menores\",\"marker\":{\"color\":\"#2471A3\",\"pattern\":{\"shape\":\"\"}},\"name\":\"sin menores\",\"offsetgroup\":\"sin menores\",\"orientation\":\"v\",\"showlegend\":false,\"text\":[7.6,19.1,0.8,1.0],\"textposition\":\"auto\",\"x\":[\"nuclear monoparental\",\"nuclear biparental\",\"extenso monoparental\",\"extenso biparental\"],\"xaxis\":\"x10\",\"y\":[7.6,19.1,0.8,1.0],\"yaxis\":\"y10\",\"type\":\"bar\"},{\"alignmentgroup\":\"True\",\"error_y\":{\"array\":[0.0762463718575228,0.1925911074943898,0.0123689302772123,0.0132130454068274],\"arrayminus\":[0.0659168793036139,0.1775869361230022,0.0086466881910019,0.009359014540877]},\"hovertemplate\":\"<b>Presencia de <br>menores</b>=sin menores<br>anio=1996<br>thogar=%{x}<br>Hogares(%)=%{text}<extra></extra>\",\"legendgroup\":\"sin menores\",\"marker\":{\"color\":\"#2471A3\",\"pattern\":{\"shape\":\"\"}},\"name\":\"sin menores\",\"offsetgroup\":\"sin menores\",\"orientation\":\"v\",\"showlegend\":false,\"text\":[7.1,18.5,1.0,1.1],\"textposition\":\"auto\",\"x\":[\"nuclear monoparental\",\"nuclear biparental\",\"extenso monoparental\",\"extenso biparental\"],\"xaxis\":\"x9\",\"y\":[7.1,18.5,1.0,1.1],\"yaxis\":\"y9\",\"type\":\"bar\"},{\"alignmentgroup\":\"True\",\"error_y\":{\"array\":[0.0807500816016034,0.1957673897131077,0.0117922228329893,0.0106769749759904],\"arrayminus\":[0.0725467972264741,0.1841551269050222,0.0087932582665772,0.0079266429097138]},\"hovertemplate\":\"<b>Presencia de <br>menores</b>=sin menores<br>anio=1998<br>thogar=%{x}<br>Hogares(%)=%{text}<extra></extra>\",\"legendgroup\":\"sin menores\",\"marker\":{\"color\":\"#2471A3\",\"pattern\":{\"shape\":\"\"}},\"name\":\"sin menores\",\"offsetgroup\":\"sin menores\",\"orientation\":\"v\",\"showlegend\":false,\"text\":[7.7,19.0,1.0,0.9],\"textposition\":\"auto\",\"x\":[\"nuclear monoparental\",\"nuclear biparental\",\"extenso monoparental\",\"extenso biparental\"],\"xaxis\":\"x8\",\"y\":[7.7,19.0,1.0,0.9],\"yaxis\":\"y8\",\"type\":\"bar\"},{\"alignmentgroup\":\"True\",\"error_y\":{\"array\":[0.0771753318352629,0.2044721224533209,0.0118949946340893,0.0102955015326763],\"arrayminus\":[0.0687341571138911,0.1907332640636325,0.0090034249901356,0.0076966716686119]},\"hovertemplate\":\"<b>Presencia de <br>menores</b>=sin menores<br>anio=2000<br>thogar=%{x}<br>Hogares(%)=%{text}<extra></extra>\",\"legendgroup\":\"sin menores\",\"marker\":{\"color\":\"#2471A3\",\"pattern\":{\"shape\":\"\"}},\"name\":\"sin menores\",\"offsetgroup\":\"sin menores\",\"orientation\":\"v\",\"showlegend\":false,\"text\":[7.3,19.8,1.0,0.9],\"textposition\":\"auto\",\"x\":[\"nuclear monoparental\",\"nuclear biparental\",\"extenso monoparental\",\"extenso biparental\"],\"xaxis\":\"x7\",\"y\":[7.3,19.8,1.0,0.9],\"yaxis\":\"y7\",\"type\":\"bar\"},{\"alignmentgroup\":\"True\",\"error_y\":{\"array\":[0.0854781038103503,0.2087812381979445,0.0131271682170317,0.0142417236673761],\"arrayminus\":[0.0776530248446852,0.1971463338321859,0.0100640572853533,0.0105903649525103]},\"hovertemplate\":\"<b>Presencia de <br>menores</b>=sin menores<br>anio=2003<br>thogar=%{x}<br>Hogares(%)=%{text}<extra></extra>\",\"legendgroup\":\"sin menores\",\"marker\":{\"color\":\"#2471A3\",\"pattern\":{\"shape\":\"\"}},\"name\":\"sin menores\",\"offsetgroup\":\"sin menores\",\"orientation\":\"v\",\"showlegend\":false,\"text\":[8.1,20.3,1.1,1.2],\"textposition\":\"auto\",\"x\":[\"nuclear monoparental\",\"nuclear biparental\",\"extenso monoparental\",\"extenso biparental\"],\"xaxis\":\"x6\",\"y\":[8.1,20.3,1.1,1.2],\"yaxis\":\"y6\",\"type\":\"bar\"},{\"alignmentgroup\":\"True\",\"error_y\":{\"array\":[0.1085082736607221,0.2487458333980417,0.0170711116949282,0.0161352614124416],\"arrayminus\":[0.0991897469317847,0.2356534404236645,0.0123082313465959,0.0130284815831889]},\"hovertemplate\":\"<b>Presencia de <br>menores</b>=sin menores<br>anio=2009<br>thogar=%{x}<br>Hogares(%)=%{text}<extra></extra>\",\"legendgroup\":\"sin menores\",\"marker\":{\"color\":\"#2471A3\",\"pattern\":{\"shape\":\"\"}},\"name\":\"sin menores\",\"offsetgroup\":\"sin menores\",\"orientation\":\"v\",\"showlegend\":false,\"text\":[10.4,24.2,1.4,1.5],\"textposition\":\"auto\",\"x\":[\"nuclear monoparental\",\"nuclear biparental\",\"extenso monoparental\",\"extenso biparental\"],\"xaxis\":\"x5\",\"y\":[10.4,24.2,1.4,1.5],\"yaxis\":\"y5\",\"type\":\"bar\"},{\"alignmentgroup\":\"True\",\"error_y\":{\"array\":[0.1346734177237158,0.2816725565333786,0.0160936722472149,0.0178354460392086],\"arrayminus\":[0.1235424132138086,0.2678254620977919,0.0114878982070137,0.0137016639946735]},\"hovertemplate\":\"<b>Presencia de <br>menores</b>=sin menores<br>anio=2013<br>thogar=%{x}<br>Hogares(%)=%{text}<extra></extra>\",\"legendgroup\":\"sin menores\",\"marker\":{\"color\":\"#2471A3\",\"pattern\":{\"shape\":\"\"}},\"name\":\"sin menores\",\"offsetgroup\":\"sin menores\",\"orientation\":\"v\",\"showlegend\":false,\"text\":[12.9,27.5,1.4,1.6],\"textposition\":\"auto\",\"x\":[\"nuclear monoparental\",\"nuclear biparental\",\"extenso monoparental\",\"extenso biparental\"],\"xaxis\":\"x4\",\"y\":[12.9,27.5,1.4,1.6],\"yaxis\":\"y4\",\"type\":\"bar\"},{\"alignmentgroup\":\"True\",\"error_y\":{\"array\":[0.1319818791430871,0.2845578089407117,0.0184208843749055,0.0209232756784791],\"arrayminus\":[0.1243371663423252,0.2734224914895214,0.0151707454115956,0.0172850258248504]},\"hovertemplate\":\"<b>Presencia de <br>menores</b>=sin menores<br>anio=2015<br>thogar=%{x}<br>Hogares(%)=%{text}<extra></extra>\",\"legendgroup\":\"sin menores\",\"marker\":{\"color\":\"#2471A3\",\"pattern\":{\"shape\":\"\"}},\"name\":\"sin menores\",\"offsetgroup\":\"sin menores\",\"orientation\":\"v\",\"showlegend\":false,\"text\":[12.8,27.9,1.7,1.9],\"textposition\":\"auto\",\"x\":[\"nuclear monoparental\",\"nuclear biparental\",\"extenso monoparental\",\"extenso biparental\"],\"xaxis\":\"x3\",\"y\":[12.8,27.9,1.7,1.9],\"yaxis\":\"y3\",\"type\":\"bar\"},{\"alignmentgroup\":\"True\",\"error_y\":{\"array\":[0.1446270944295702,0.3095458855725836,0.0211655424648719,0.0225154786640046],\"arrayminus\":[0.1361964339870476,0.2969393609511074,0.0175470042444841,0.0169129551102902]},\"hovertemplate\":\"<b>Presencia de <br>menores</b>=sin menores<br>anio=2017<br>thogar=%{x}<br>Hogares(%)=%{text}<extra></extra>\",\"legendgroup\":\"sin menores\",\"marker\":{\"color\":\"#2471A3\",\"pattern\":{\"shape\":\"\"}},\"name\":\"sin menores\",\"offsetgroup\":\"sin menores\",\"orientation\":\"v\",\"showlegend\":false,\"text\":[14.0,30.3,1.9,2.0],\"textposition\":\"auto\",\"x\":[\"nuclear monoparental\",\"nuclear biparental\",\"extenso monoparental\",\"extenso biparental\"],\"xaxis\":\"x2\",\"y\":[14.0,30.3,1.9,2.0],\"yaxis\":\"y2\",\"type\":\"bar\"},{\"alignmentgroup\":\"True\",\"error_y\":{\"array\":[0.126179528650612,0.2994275347318405,0.0351005596221454,0.0318464904468979],\"arrayminus\":[0.1174732666869166,0.2843145161619927,0.0309024875800031,0.0280208876242858]},\"hovertemplate\":\"<b>Presencia de <br>menores</b>=sin menores<br>anio=2020<br>thogar=%{x}<br>Hogares(%)=%{text}<extra></extra>\",\"legendgroup\":\"sin menores\",\"marker\":{\"color\":\"#2471A3\",\"pattern\":{\"shape\":\"\"}},\"name\":\"sin menores\",\"offsetgroup\":\"sin menores\",\"orientation\":\"v\",\"showlegend\":false,\"text\":[12.2,29.2,3.3,3.0],\"textposition\":\"auto\",\"x\":[\"nuclear monoparental\",\"nuclear biparental\",\"extenso monoparental\",\"extenso biparental\"],\"xaxis\":\"x\",\"y\":[12.2,29.2,3.3,3.0],\"yaxis\":\"y\",\"type\":\"bar\"},{\"alignmentgroup\":\"True\",\"error_y\":{\"array\":[0.0741846318195012,0.5131246301568402,0.0667397129670768,0.0992410558517407],\"arrayminus\":[0.0661492360186922,0.4971395345666993,0.0590385382668768,0.0899912285947429]},\"hovertemplate\":\"<b>Presencia de <br>menores</b>=con menores<br>anio=1990<br>thogar=%{x}<br>Hogares(%)=%{text}<extra></extra>\",\"legendgroup\":\"con menores\",\"marker\":{\"color\":\"#E67E22\",\"pattern\":{\"shape\":\"\"}},\"name\":\"con menores\",\"offsetgroup\":\"con menores\",\"orientation\":\"v\",\"showlegend\":true,\"text\":[7.0,50.5,6.3,9.5],\"textposition\":\"auto\",\"x\":[\"nuclear monoparental\",\"nuclear biparental\",\"extenso monoparental\",\"extenso biparental\"],\"xaxis\":\"x12\",\"y\":[7.0,50.5,6.3,9.5],\"yaxis\":\"y12\",\"type\":\"bar\"},{\"alignmentgroup\":\"True\",\"error_y\":{\"array\":[0.0800685878031495,0.5192394605886902,0.0592125447101204,0.0870673872269497],\"arrayminus\":[0.0725225827778027,0.5050923942195307,0.0528634112706804,0.0795944864418058]},\"hovertemplate\":\"<b>Presencia de <br>menores</b>=con menores<br>anio=1992<br>thogar=%{x}<br>Hogares(%)=%{text}<extra></extra>\",\"legendgroup\":\"con menores\",\"marker\":{\"color\":\"#E67E22\",\"pattern\":{\"shape\":\"\"}},\"name\":\"con menores\",\"offsetgroup\":\"con menores\",\"orientation\":\"v\",\"showlegend\":false,\"text\":[7.6,51.2,5.6,8.3],\"textposition\":\"auto\",\"x\":[\"nuclear monoparental\",\"nuclear biparental\",\"extenso monoparental\",\"extenso biparental\"],\"xaxis\":\"x11\",\"y\":[7.6,51.2,5.6,8.3],\"yaxis\":\"y11\",\"type\":\"bar\"},{\"alignmentgroup\":\"True\",\"error_y\":{\"array\":[0.076167775524096,0.4938953409347585,0.060805283787844,0.1030568591055827],\"arrayminus\":[0.0688500029121345,0.4797622827387925,0.0542486745242991,0.094721672659474]},\"hovertemplate\":\"<b>Presencia de <br>menores</b>=con menores<br>anio=1994<br>thogar=%{x}<br>Hogares(%)=%{text}<extra></extra>\",\"legendgroup\":\"con menores\",\"marker\":{\"color\":\"#E67E22\",\"pattern\":{\"shape\":\"\"}},\"name\":\"con menores\",\"offsetgroup\":\"con menores\",\"orientation\":\"v\",\"showlegend\":false,\"text\":[7.2,48.7,5.7,9.9],\"textposition\":\"auto\",\"x\":[\"nuclear monoparental\",\"nuclear biparental\",\"extenso monoparental\",\"extenso biparental\"],\"xaxis\":\"x10\",\"y\":[7.2,48.7,5.7,9.9],\"yaxis\":\"y10\",\"type\":\"bar\"},{\"alignmentgroup\":\"True\",\"error_y\":{\"array\":[0.0684549767737576,0.5135138345179047,0.0571345780524921,0.1071268509706123],\"arrayminus\":[0.0594688558380234,0.4943715208989823,0.0498983654338293,0.0961276444097221]},\"hovertemplate\":\"<b>Presencia de <br>menores</b>=con menores<br>anio=1996<br>thogar=%{x}<br>Hogares(%)=%{text}<extra></extra>\",\"legendgroup\":\"con menores\",\"marker\":{\"color\":\"#E67E22\",\"pattern\":{\"shape\":\"\"}},\"name\":\"con menores\",\"offsetgroup\":\"con menores\",\"orientation\":\"v\",\"showlegend\":false,\"text\":[6.4,50.4,5.3,10.1],\"textposition\":\"auto\",\"x\":[\"nuclear monoparental\",\"nuclear biparental\",\"extenso monoparental\",\"extenso biparental\"],\"xaxis\":\"x9\",\"y\":[6.4,50.4,5.3,10.1],\"yaxis\":\"y9\",\"type\":\"bar\"},{\"alignmentgroup\":\"True\",\"error_y\":{\"array\":[0.0738976953058075,0.490792646610403,0.064657303183325,0.1037294025177975],\"arrayminus\":[0.0661920239932153,0.4761655284697415,0.0579937804252272,0.0954461604892022]},\"hovertemplate\":\"<b>Presencia de <br>menores</b>=con menores<br>anio=1998<br>thogar=%{x}<br>Hogares(%)=%{text}<extra></extra>\",\"legendgroup\":\"con menores\",\"marker\":{\"color\":\"#E67E22\",\"pattern\":{\"shape\":\"\"}},\"name\":\"con menores\",\"offsetgroup\":\"con menores\",\"orientation\":\"v\",\"showlegend\":false,\"text\":[7.0,48.3,6.1,10.0],\"textposition\":\"auto\",\"x\":[\"nuclear monoparental\",\"nuclear biparental\",\"extenso monoparental\",\"extenso biparental\"],\"xaxis\":\"x8\",\"y\":[7.0,48.3,6.1,10.0],\"yaxis\":\"y8\",\"type\":\"bar\"},{\"alignmentgroup\":\"True\",\"error_y\":{\"array\":[0.0696118398863087,0.4831520508121381,0.0700254097268786,0.1085297623789005],\"arrayminus\":[0.0619374558923073,0.4657097731070228,0.0622290926668214,0.1001757240544828]},\"hovertemplate\":\"<b>Presencia de <br>menores</b>=con menores<br>anio=2000<br>thogar=%{x}<br>Hogares(%)=%{text}<extra></extra>\",\"legendgroup\":\"con menores\",\"marker\":{\"color\":\"#E67E22\",\"pattern\":{\"shape\":\"\"}},\"name\":\"con menores\",\"offsetgroup\":\"con menores\",\"orientation\":\"v\",\"showlegend\":false,\"text\":[6.6,47.4,6.6,10.4],\"textposition\":\"auto\",\"x\":[\"nuclear monoparental\",\"nuclear biparental\",\"extenso monoparental\",\"extenso biparental\"],\"xaxis\":\"x7\",\"y\":[6.6,47.4,6.6,10.4],\"yaxis\":\"y7\",\"type\":\"bar\"},{\"alignmentgroup\":\"True\",\"error_y\":{\"array\":[0.0778419689136428,0.4555115475092377,0.0643852105929396,0.1138394708634435],\"arrayminus\":[0.0702201727923049,0.4396323021227718,0.0576143122296539,0.105169611642023]},\"hovertemplate\":\"<b>Presencia de <br>menores</b>=con menores<br>anio=2003<br>thogar=%{x}<br>Hogares(%)=%{text}<extra></extra>\",\"legendgroup\":\"con menores\",\"marker\":{\"color\":\"#E67E22\",\"pattern\":{\"shape\":\"\"}},\"name\":\"con menores\",\"offsetgroup\":\"con menores\",\"orientation\":\"v\",\"showlegend\":false,\"text\":[7.4,44.8,6.1,10.9],\"textposition\":\"auto\",\"x\":[\"nuclear monoparental\",\"nuclear biparental\",\"extenso monoparental\",\"extenso biparental\"],\"xaxis\":\"x6\",\"y\":[7.4,44.8,6.1,10.9],\"yaxis\":\"y6\",\"type\":\"bar\"},{\"alignmentgroup\":\"True\",\"error_y\":{\"array\":[0.1054652832855635,0.3719639174187901,0.0681135424666068,0.0981547141331341],\"arrayminus\":[0.0970391104305005,0.3581346603934678,0.0616412104540057,0.0902108001290748]},\"hovertemplate\":\"<b>Presencia de <br>menores</b>=con menores<br>anio=2009<br>thogar=%{x}<br>Hogares(%)=%{text}<extra></extra>\",\"legendgroup\":\"con menores\",\"marker\":{\"color\":\"#E67E22\",\"pattern\":{\"shape\":\"\"}},\"name\":\"con menores\",\"offsetgroup\":\"con menores\",\"orientation\":\"v\",\"showlegend\":false,\"text\":[10.1,36.5,6.5,9.4],\"textposition\":\"auto\",\"x\":[\"nuclear monoparental\",\"nuclear biparental\",\"extenso monoparental\",\"extenso biparental\"],\"xaxis\":\"x5\",\"y\":[10.1,36.5,6.5,9.4],\"yaxis\":\"y5\",\"type\":\"bar\"},{\"alignmentgroup\":\"True\",\"error_y\":{\"array\":[0.1129024906713715,0.31097408230951,0.0675431441242978,0.0971407127730775],\"arrayminus\":[0.1030524595595853,0.2957577540650133,0.0590401434534746,0.08847302309619]},\"hovertemplate\":\"<b>Presencia de <br>menores</b>=con menores<br>anio=2013<br>thogar=%{x}<br>Hogares(%)=%{text}<extra></extra>\",\"legendgroup\":\"con menores\",\"marker\":{\"color\":\"#E67E22\",\"pattern\":{\"shape\":\"\"}},\"name\":\"con menores\",\"offsetgroup\":\"con menores\",\"orientation\":\"v\",\"showlegend\":false,\"text\":[10.8,30.3,6.3,9.3],\"textposition\":\"auto\",\"x\":[\"nuclear monoparental\",\"nuclear biparental\",\"extenso monoparental\",\"extenso biparental\"],\"xaxis\":\"x4\",\"y\":[10.8,30.3,6.3,9.3],\"yaxis\":\"y4\",\"type\":\"bar\"},{\"alignmentgroup\":\"True\",\"error_y\":{\"array\":[0.107337415774319,0.2970564033291329,0.0715755548513048,0.0974768235225213],\"arrayminus\":[0.0998713282060527,0.2852177305533507,0.0655402811397606,0.0907370012482067]},\"hovertemplate\":\"<b>Presencia de <br>menores</b>=con menores<br>anio=2015<br>thogar=%{x}<br>Hogares(%)=%{text}<extra></extra>\",\"legendgroup\":\"con menores\",\"marker\":{\"color\":\"#E67E22\",\"pattern\":{\"shape\":\"\"}},\"name\":\"con menores\",\"offsetgroup\":\"con menores\",\"orientation\":\"v\",\"showlegend\":false,\"text\":[10.4,29.1,6.8,9.4],\"textposition\":\"auto\",\"x\":[\"nuclear monoparental\",\"nuclear biparental\",\"extenso monoparental\",\"extenso biparental\"],\"xaxis\":\"x3\",\"y\":[10.4,29.1,6.8,9.4],\"yaxis\":\"y3\",\"type\":\"bar\"},{\"alignmentgroup\":\"True\",\"error_y\":{\"array\":[0.1101339938230257,0.2770677041538104,0.0639978512639502,0.0836456442472521],\"arrayminus\":[0.1005004785145759,0.2649602351424959,0.0581850735582829,0.0773197462061979]},\"hovertemplate\":\"<b>Presencia de <br>menores</b>=con menores<br>anio=2017<br>thogar=%{x}<br>Hogares(%)=%{text}<extra></extra>\",\"legendgroup\":\"con menores\",\"marker\":{\"color\":\"#E67E22\",\"pattern\":{\"shape\":\"\"}},\"name\":\"con menores\",\"offsetgroup\":\"con menores\",\"orientation\":\"v\",\"showlegend\":false,\"text\":[10.5,27.1,6.1,8.0],\"textposition\":\"auto\",\"x\":[\"nuclear monoparental\",\"nuclear biparental\",\"extenso monoparental\",\"extenso biparental\"],\"xaxis\":\"x2\",\"y\":[10.5,27.1,6.1,8.0],\"yaxis\":\"y2\",\"type\":\"bar\"},{\"alignmentgroup\":\"True\",\"error_y\":{\"array\":[0.1397684288168105,0.2610854091044975,0.0749752314259288,0.0721391219250702],\"arrayminus\":[0.1289785644975782,0.2364516186751978,0.0685137803697957,0.0661645611236952]},\"hovertemplate\":\"<b>Presencia de <br>menores</b>=con menores<br>anio=2020<br>thogar=%{x}<br>Hogares(%)=%{text}<extra></extra>\",\"legendgroup\":\"con menores\",\"marker\":{\"color\":\"#E67E22\",\"pattern\":{\"shape\":\"\"}},\"name\":\"con menores\",\"offsetgroup\":\"con menores\",\"orientation\":\"v\",\"showlegend\":false,\"text\":[13.4,24.9,7.2,6.9],\"textposition\":\"auto\",\"x\":[\"nuclear monoparental\",\"nuclear biparental\",\"extenso monoparental\",\"extenso biparental\"],\"xaxis\":\"x\",\"y\":[13.4,24.9,7.2,6.9],\"yaxis\":\"y\",\"type\":\"bar\"}],                        {\"template\":{\"data\":{\"barpolar\":[{\"marker\":{\"line\":{\"color\":\"#E5ECF6\",\"width\":0.5},\"pattern\":{\"fillmode\":\"overlay\",\"size\":10,\"solidity\":0.2}},\"type\":\"barpolar\"}],\"bar\":[{\"error_x\":{\"color\":\"#2a3f5f\"},\"error_y\":{\"color\":\"#2a3f5f\"},\"marker\":{\"line\":{\"color\":\"#E5ECF6\",\"width\":0.5},\"pattern\":{\"fillmode\":\"overlay\",\"size\":10,\"solidity\":0.2}},\"type\":\"bar\"}],\"carpet\":[{\"aaxis\":{\"endlinecolor\":\"#2a3f5f\",\"gridcolor\":\"white\",\"linecolor\":\"white\",\"minorgridcolor\":\"white\",\"startlinecolor\":\"#2a3f5f\"},\"baxis\":{\"endlinecolor\":\"#2a3f5f\",\"gridcolor\":\"white\",\"linecolor\":\"white\",\"minorgridcolor\":\"white\",\"startlinecolor\":\"#2a3f5f\"},\"type\":\"carpet\"}],\"choropleth\":[{\"colorbar\":{\"outlinewidth\":0,\"ticks\":\"\"},\"type\":\"choropleth\"}],\"contourcarpet\":[{\"colorbar\":{\"outlinewidth\":0,\"ticks\":\"\"},\"type\":\"contourcarpet\"}],\"contour\":[{\"colorbar\":{\"outlinewidth\":0,\"ticks\":\"\"},\"colorscale\":[[0.0,\"#0d0887\"],[0.1111111111111111,\"#46039f\"],[0.2222222222222222,\"#7201a8\"],[0.3333333333333333,\"#9c179e\"],[0.4444444444444444,\"#bd3786\"],[0.5555555555555556,\"#d8576b\"],[0.6666666666666666,\"#ed7953\"],[0.7777777777777778,\"#fb9f3a\"],[0.8888888888888888,\"#fdca26\"],[1.0,\"#f0f921\"]],\"type\":\"contour\"}],\"heatmapgl\":[{\"colorbar\":{\"outlinewidth\":0,\"ticks\":\"\"},\"colorscale\":[[0.0,\"#0d0887\"],[0.1111111111111111,\"#46039f\"],[0.2222222222222222,\"#7201a8\"],[0.3333333333333333,\"#9c179e\"],[0.4444444444444444,\"#bd3786\"],[0.5555555555555556,\"#d8576b\"],[0.6666666666666666,\"#ed7953\"],[0.7777777777777778,\"#fb9f3a\"],[0.8888888888888888,\"#fdca26\"],[1.0,\"#f0f921\"]],\"type\":\"heatmapgl\"}],\"heatmap\":[{\"colorbar\":{\"outlinewidth\":0,\"ticks\":\"\"},\"colorscale\":[[0.0,\"#0d0887\"],[0.1111111111111111,\"#46039f\"],[0.2222222222222222,\"#7201a8\"],[0.3333333333333333,\"#9c179e\"],[0.4444444444444444,\"#bd3786\"],[0.5555555555555556,\"#d8576b\"],[0.6666666666666666,\"#ed7953\"],[0.7777777777777778,\"#fb9f3a\"],[0.8888888888888888,\"#fdca26\"],[1.0,\"#f0f921\"]],\"type\":\"heatmap\"}],\"histogram2dcontour\":[{\"colorbar\":{\"outlinewidth\":0,\"ticks\":\"\"},\"colorscale\":[[0.0,\"#0d0887\"],[0.1111111111111111,\"#46039f\"],[0.2222222222222222,\"#7201a8\"],[0.3333333333333333,\"#9c179e\"],[0.4444444444444444,\"#bd3786\"],[0.5555555555555556,\"#d8576b\"],[0.6666666666666666,\"#ed7953\"],[0.7777777777777778,\"#fb9f3a\"],[0.8888888888888888,\"#fdca26\"],[1.0,\"#f0f921\"]],\"type\":\"histogram2dcontour\"}],\"histogram2d\":[{\"colorbar\":{\"outlinewidth\":0,\"ticks\":\"\"},\"colorscale\":[[0.0,\"#0d0887\"],[0.1111111111111111,\"#46039f\"],[0.2222222222222222,\"#7201a8\"],[0.3333333333333333,\"#9c179e\"],[0.4444444444444444,\"#bd3786\"],[0.5555555555555556,\"#d8576b\"],[0.6666666666666666,\"#ed7953\"],[0.7777777777777778,\"#fb9f3a\"],[0.8888888888888888,\"#fdca26\"],[1.0,\"#f0f921\"]],\"type\":\"histogram2d\"}],\"histogram\":[{\"marker\":{\"pattern\":{\"fillmode\":\"overlay\",\"size\":10,\"solidity\":0.2}},\"type\":\"histogram\"}],\"mesh3d\":[{\"colorbar\":{\"outlinewidth\":0,\"ticks\":\"\"},\"type\":\"mesh3d\"}],\"parcoords\":[{\"line\":{\"colorbar\":{\"outlinewidth\":0,\"ticks\":\"\"}},\"type\":\"parcoords\"}],\"pie\":[{\"automargin\":true,\"type\":\"pie\"}],\"scatter3d\":[{\"line\":{\"colorbar\":{\"outlinewidth\":0,\"ticks\":\"\"}},\"marker\":{\"colorbar\":{\"outlinewidth\":0,\"ticks\":\"\"}},\"type\":\"scatter3d\"}],\"scattercarpet\":[{\"marker\":{\"colorbar\":{\"outlinewidth\":0,\"ticks\":\"\"}},\"type\":\"scattercarpet\"}],\"scattergeo\":[{\"marker\":{\"colorbar\":{\"outlinewidth\":0,\"ticks\":\"\"}},\"type\":\"scattergeo\"}],\"scattergl\":[{\"marker\":{\"colorbar\":{\"outlinewidth\":0,\"ticks\":\"\"}},\"type\":\"scattergl\"}],\"scattermapbox\":[{\"marker\":{\"colorbar\":{\"outlinewidth\":0,\"ticks\":\"\"}},\"type\":\"scattermapbox\"}],\"scatterpolargl\":[{\"marker\":{\"colorbar\":{\"outlinewidth\":0,\"ticks\":\"\"}},\"type\":\"scatterpolargl\"}],\"scatterpolar\":[{\"marker\":{\"colorbar\":{\"outlinewidth\":0,\"ticks\":\"\"}},\"type\":\"scatterpolar\"}],\"scatter\":[{\"marker\":{\"colorbar\":{\"outlinewidth\":0,\"ticks\":\"\"}},\"type\":\"scatter\"}],\"scatterternary\":[{\"marker\":{\"colorbar\":{\"outlinewidth\":0,\"ticks\":\"\"}},\"type\":\"scatterternary\"}],\"surface\":[{\"colorbar\":{\"outlinewidth\":0,\"ticks\":\"\"},\"colorscale\":[[0.0,\"#0d0887\"],[0.1111111111111111,\"#46039f\"],[0.2222222222222222,\"#7201a8\"],[0.3333333333333333,\"#9c179e\"],[0.4444444444444444,\"#bd3786\"],[0.5555555555555556,\"#d8576b\"],[0.6666666666666666,\"#ed7953\"],[0.7777777777777778,\"#fb9f3a\"],[0.8888888888888888,\"#fdca26\"],[1.0,\"#f0f921\"]],\"type\":\"surface\"}],\"table\":[{\"cells\":{\"fill\":{\"color\":\"#EBF0F8\"},\"line\":{\"color\":\"white\"}},\"header\":{\"fill\":{\"color\":\"#C8D4E3\"},\"line\":{\"color\":\"white\"}},\"type\":\"table\"}]},\"layout\":{\"annotationdefaults\":{\"arrowcolor\":\"#2a3f5f\",\"arrowhead\":0,\"arrowwidth\":1},\"autotypenumbers\":\"strict\",\"coloraxis\":{\"colorbar\":{\"outlinewidth\":0,\"ticks\":\"\"}},\"colorscale\":{\"diverging\":[[0,\"#8e0152\"],[0.1,\"#c51b7d\"],[0.2,\"#de77ae\"],[0.3,\"#f1b6da\"],[0.4,\"#fde0ef\"],[0.5,\"#f7f7f7\"],[0.6,\"#e6f5d0\"],[0.7,\"#b8e186\"],[0.8,\"#7fbc41\"],[0.9,\"#4d9221\"],[1,\"#276419\"]],\"sequential\":[[0.0,\"#0d0887\"],[0.1111111111111111,\"#46039f\"],[0.2222222222222222,\"#7201a8\"],[0.3333333333333333,\"#9c179e\"],[0.4444444444444444,\"#bd3786\"],[0.5555555555555556,\"#d8576b\"],[0.6666666666666666,\"#ed7953\"],[0.7777777777777778,\"#fb9f3a\"],[0.8888888888888888,\"#fdca26\"],[1.0,\"#f0f921\"]],\"sequentialminus\":[[0.0,\"#0d0887\"],[0.1111111111111111,\"#46039f\"],[0.2222222222222222,\"#7201a8\"],[0.3333333333333333,\"#9c179e\"],[0.4444444444444444,\"#bd3786\"],[0.5555555555555556,\"#d8576b\"],[0.6666666666666666,\"#ed7953\"],[0.7777777777777778,\"#fb9f3a\"],[0.8888888888888888,\"#fdca26\"],[1.0,\"#f0f921\"]]},\"colorway\":[\"#636efa\",\"#EF553B\",\"#00cc96\",\"#ab63fa\",\"#FFA15A\",\"#19d3f3\",\"#FF6692\",\"#B6E880\",\"#FF97FF\",\"#FECB52\"],\"font\":{\"color\":\"#2a3f5f\"},\"geo\":{\"bgcolor\":\"white\",\"lakecolor\":\"white\",\"landcolor\":\"#E5ECF6\",\"showlakes\":true,\"showland\":true,\"subunitcolor\":\"white\"},\"hoverlabel\":{\"align\":\"left\"},\"hovermode\":\"closest\",\"mapbox\":{\"style\":\"light\"},\"paper_bgcolor\":\"white\",\"plot_bgcolor\":\"#E5ECF6\",\"polar\":{\"angularaxis\":{\"gridcolor\":\"white\",\"linecolor\":\"white\",\"ticks\":\"\"},\"bgcolor\":\"#E5ECF6\",\"radialaxis\":{\"gridcolor\":\"white\",\"linecolor\":\"white\",\"ticks\":\"\"}},\"scene\":{\"xaxis\":{\"backgroundcolor\":\"#E5ECF6\",\"gridcolor\":\"white\",\"gridwidth\":2,\"linecolor\":\"white\",\"showbackground\":true,\"ticks\":\"\",\"zerolinecolor\":\"white\"},\"yaxis\":{\"backgroundcolor\":\"#E5ECF6\",\"gridcolor\":\"white\",\"gridwidth\":2,\"linecolor\":\"white\",\"showbackground\":true,\"ticks\":\"\",\"zerolinecolor\":\"white\"},\"zaxis\":{\"backgroundcolor\":\"#E5ECF6\",\"gridcolor\":\"white\",\"gridwidth\":2,\"linecolor\":\"white\",\"showbackground\":true,\"ticks\":\"\",\"zerolinecolor\":\"white\"}},\"shapedefaults\":{\"line\":{\"color\":\"#2a3f5f\"}},\"ternary\":{\"aaxis\":{\"gridcolor\":\"white\",\"linecolor\":\"white\",\"ticks\":\"\"},\"baxis\":{\"gridcolor\":\"white\",\"linecolor\":\"white\",\"ticks\":\"\"},\"bgcolor\":\"#E5ECF6\",\"caxis\":{\"gridcolor\":\"white\",\"linecolor\":\"white\",\"ticks\":\"\"}},\"title\":{\"x\":0.05},\"xaxis\":{\"automargin\":true,\"gridcolor\":\"white\",\"linecolor\":\"white\",\"ticks\":\"\",\"title\":{\"standoff\":15},\"zerolinecolor\":\"white\",\"zerolinewidth\":2},\"yaxis\":{\"automargin\":true,\"gridcolor\":\"white\",\"linecolor\":\"white\",\"ticks\":\"\",\"title\":{\"standoff\":15},\"zerolinecolor\":\"white\",\"zerolinewidth\":2}}},\"xaxis\":{\"anchor\":\"y\",\"domain\":[0.0,0.98],\"title\":{},\"showgrid\":true,\"tickangle\":0},\"yaxis\":{\"anchor\":\"x\",\"domain\":[0.0,0.05583333333333333],\"title\":{\"text\":\"Hogares(%)\",\"font\":{\"size\":10},\"standoff\":8}},\"xaxis2\":{\"anchor\":\"y2\",\"domain\":[0.0,0.98],\"matches\":\"x\",\"showticklabels\":false,\"title\":{},\"showgrid\":true,\"tickangle\":0},\"yaxis2\":{\"anchor\":\"x2\",\"domain\":[0.08583333333333333,0.14166666666666666],\"matches\":\"y\",\"title\":{\"text\":\"Hogares(%)\",\"font\":{\"size\":10},\"standoff\":8}},\"xaxis3\":{\"anchor\":\"y3\",\"domain\":[0.0,0.98],\"matches\":\"x\",\"showticklabels\":false,\"title\":{},\"showgrid\":true,\"tickangle\":0},\"yaxis3\":{\"anchor\":\"x3\",\"domain\":[0.17166666666666666,0.22749999999999998],\"matches\":\"y\",\"title\":{\"text\":\"Hogares(%)\",\"font\":{\"size\":10},\"standoff\":8}},\"xaxis4\":{\"anchor\":\"y4\",\"domain\":[0.0,0.98],\"matches\":\"x\",\"showticklabels\":false,\"title\":{},\"showgrid\":true,\"tickangle\":0},\"yaxis4\":{\"anchor\":\"x4\",\"domain\":[0.25749999999999995,0.3133333333333333],\"matches\":\"y\",\"title\":{\"text\":\"Hogares(%)\",\"font\":{\"size\":10},\"standoff\":8}},\"xaxis5\":{\"anchor\":\"y5\",\"domain\":[0.0,0.98],\"matches\":\"x\",\"showticklabels\":false,\"title\":{},\"showgrid\":true,\"tickangle\":0},\"yaxis5\":{\"anchor\":\"x5\",\"domain\":[0.3433333333333333,0.39916666666666667],\"matches\":\"y\",\"title\":{\"text\":\"Hogares(%)\",\"font\":{\"size\":10},\"standoff\":8}},\"xaxis6\":{\"anchor\":\"y6\",\"domain\":[0.0,0.98],\"matches\":\"x\",\"showticklabels\":false,\"title\":{},\"showgrid\":true,\"tickangle\":0},\"yaxis6\":{\"anchor\":\"x6\",\"domain\":[0.4291666666666667,0.48500000000000004],\"matches\":\"y\",\"title\":{\"text\":\"Hogares(%)\",\"font\":{\"size\":10},\"standoff\":8}},\"xaxis7\":{\"anchor\":\"y7\",\"domain\":[0.0,0.98],\"matches\":\"x\",\"showticklabels\":false,\"title\":{},\"showgrid\":true,\"tickangle\":0},\"yaxis7\":{\"anchor\":\"x7\",\"domain\":[0.515,0.5708333333333333],\"matches\":\"y\",\"title\":{\"text\":\"Hogares(%)\",\"font\":{\"size\":10},\"standoff\":8}},\"xaxis8\":{\"anchor\":\"y8\",\"domain\":[0.0,0.98],\"matches\":\"x\",\"showticklabels\":false,\"title\":{},\"showgrid\":true,\"tickangle\":0},\"yaxis8\":{\"anchor\":\"x8\",\"domain\":[0.6008333333333333,0.6566666666666666],\"matches\":\"y\",\"title\":{\"text\":\"Hogares(%)\",\"font\":{\"size\":10},\"standoff\":8}},\"xaxis9\":{\"anchor\":\"y9\",\"domain\":[0.0,0.98],\"matches\":\"x\",\"showticklabels\":false,\"title\":{},\"showgrid\":true,\"tickangle\":0},\"yaxis9\":{\"anchor\":\"x9\",\"domain\":[0.6866666666666668,0.7425],\"matches\":\"y\",\"title\":{\"text\":\"Hogares(%)\",\"font\":{\"size\":10},\"standoff\":8}},\"xaxis10\":{\"anchor\":\"y10\",\"domain\":[0.0,0.98],\"matches\":\"x\",\"showticklabels\":false,\"title\":{},\"showgrid\":true,\"tickangle\":0},\"yaxis10\":{\"anchor\":\"x10\",\"domain\":[0.7725000000000001,0.8283333333333334],\"matches\":\"y\",\"title\":{\"text\":\"Hogares(%)\",\"font\":{\"size\":10},\"standoff\":8}},\"xaxis11\":{\"anchor\":\"y11\",\"domain\":[0.0,0.98],\"matches\":\"x\",\"showticklabels\":false,\"title\":{},\"showgrid\":true,\"tickangle\":0},\"yaxis11\":{\"anchor\":\"x11\",\"domain\":[0.8583333333333334,0.9141666666666667],\"matches\":\"y\",\"title\":{\"text\":\"Hogares(%)\",\"font\":{\"size\":10},\"standoff\":8}},\"xaxis12\":{\"anchor\":\"y12\",\"domain\":[0.0,0.98],\"matches\":\"x\",\"showticklabels\":false,\"title\":{},\"showgrid\":true,\"tickangle\":0},\"yaxis12\":{\"anchor\":\"x12\",\"domain\":[0.9441666666666666,0.9999999999999999],\"matches\":\"y\",\"title\":{\"text\":\"Hogares(%)\",\"font\":{\"size\":10},\"standoff\":8}},\"annotations\":[{\"font\":{},\"showarrow\":false,\"text\":\"2020\",\"textangle\":90,\"x\":0.98,\"xanchor\":\"left\",\"xref\":\"paper\",\"y\":0.027916666666666666,\"yanchor\":\"middle\",\"yref\":\"paper\"},{\"font\":{},\"showarrow\":false,\"text\":\"2017\",\"textangle\":90,\"x\":0.98,\"xanchor\":\"left\",\"xref\":\"paper\",\"y\":0.11374999999999999,\"yanchor\":\"middle\",\"yref\":\"paper\"},{\"font\":{},\"showarrow\":false,\"text\":\"2015\",\"textangle\":90,\"x\":0.98,\"xanchor\":\"left\",\"xref\":\"paper\",\"y\":0.19958333333333333,\"yanchor\":\"middle\",\"yref\":\"paper\"},{\"font\":{},\"showarrow\":false,\"text\":\"2013\",\"textangle\":90,\"x\":0.98,\"xanchor\":\"left\",\"xref\":\"paper\",\"y\":0.28541666666666665,\"yanchor\":\"middle\",\"yref\":\"paper\"},{\"font\":{},\"showarrow\":false,\"text\":\"2009\",\"textangle\":90,\"x\":0.98,\"xanchor\":\"left\",\"xref\":\"paper\",\"y\":0.37124999999999997,\"yanchor\":\"middle\",\"yref\":\"paper\"},{\"font\":{},\"showarrow\":false,\"text\":\"2003\",\"textangle\":90,\"x\":0.98,\"xanchor\":\"left\",\"xref\":\"paper\",\"y\":0.4570833333333334,\"yanchor\":\"middle\",\"yref\":\"paper\"},{\"font\":{},\"showarrow\":false,\"text\":\"2000\",\"textangle\":90,\"x\":0.98,\"xanchor\":\"left\",\"xref\":\"paper\",\"y\":0.5429166666666667,\"yanchor\":\"middle\",\"yref\":\"paper\"},{\"font\":{},\"showarrow\":false,\"text\":\"1998\",\"textangle\":90,\"x\":0.98,\"xanchor\":\"left\",\"xref\":\"paper\",\"y\":0.6287499999999999,\"yanchor\":\"middle\",\"yref\":\"paper\"},{\"font\":{},\"showarrow\":false,\"text\":\"1996\",\"textangle\":90,\"x\":0.98,\"xanchor\":\"left\",\"xref\":\"paper\",\"y\":0.7145833333333333,\"yanchor\":\"middle\",\"yref\":\"paper\"},{\"font\":{},\"showarrow\":false,\"text\":\"1994\",\"textangle\":90,\"x\":0.98,\"xanchor\":\"left\",\"xref\":\"paper\",\"y\":0.8004166666666668,\"yanchor\":\"middle\",\"yref\":\"paper\"},{\"font\":{},\"showarrow\":false,\"text\":\"1992\",\"textangle\":90,\"x\":0.98,\"xanchor\":\"left\",\"xref\":\"paper\",\"y\":0.88625,\"yanchor\":\"middle\",\"yref\":\"paper\"},{\"font\":{},\"showarrow\":false,\"text\":\"1990\",\"textangle\":90,\"x\":0.98,\"xanchor\":\"left\",\"xref\":\"paper\",\"y\":0.9720833333333332,\"yanchor\":\"middle\",\"yref\":\"paper\"}],\"legend\":{\"title\":{\"text\":\"<b>Presencia de <br>menores</b>\"},\"tracegroupgap\":0,\"orientation\":\"h\",\"y\":1,\"yanchor\":\"bottom\",\"x\":0.2,\"xanchor\":\"center\"},\"margin\":{\"t\":25,\"l\":10,\"r\":10,\"b\":10},\"barmode\":\"group\",\"height\":900},                        {\"responsive\": true}                    ).then(function(){\n                            \nvar gd = document.getElementById('59d6937b-f6e7-40ef-a4c7-de0c7bc410ba');\nvar x = new MutationObserver(function (mutations, observer) {{\n        var display = window.getComputedStyle(gd).display;\n        if (!display || display === 'none') {{\n            console.log([gd, 'removed!']);\n            Plotly.purge(gd);\n            observer.disconnect();\n        }}\n}});\n\n// Listen for the removal of the full notebook cells\nvar notebookContainer = gd.closest('#notebook-container');\nif (notebookContainer) {{\n    x.observe(notebookContainer, {childList: true});\n}}\n\n// Listen for the clearing of the current output cell\nvar outputEl = gd.closest('.output');\nif (outputEl) {{\n    x.observe(outputEl, {childList: true});\n}}\n\n                        })                };                });            </script>        </div>"
     },
     "metadata": {},
     "output_type": "display_data"
    }
   ],
   "source": [
    "df04 = pd.read_csv(rutas[3])\n",
    "fig = px.bar(df04.loc[df04.tipo_est == 'proporcion'],\n",
    "             x =  'thogar' ,\n",
    "             y = 'dato', facet_row= 'anio',\n",
    "             color = 'menor_18',\n",
    "             # facet_col_wrap=2,\n",
    "             labels = {\n",
    "                 'menor_18': '<b>Presencia de <br>menores</b>',\n",
    "                 'dato': 'Hogares(%)',\n",
    "                 # 'pobreza': None\n",
    "                 # 'anio': 'Periodo'\n",
    "             },\n",
    "             error_y_minus='ic_bajo',\n",
    "             error_y='ic_alto',\n",
    "\n",
    "             color_discrete_map={\n",
    "                 'sin menores': '#2471A3',\n",
    "                 'con menores': '#E67E22'\n",
    "             },\n",
    "             text ='dato'\n",
    "\n",
    "\n",
    "             )\n",
    "fig.for_each_annotation(lambda a: a.update(text=a.text.split('=')[-1]),\n",
    "\n",
    "                        )\n",
    "fig.update_layout(template='plotly',\n",
    "\n",
    "                  height=900,\n",
    "                  # width=1100\n",
    "                  margin=\n",
    "                  dict(\n",
    "                      l=10,\n",
    "                      r=10,\n",
    "                      b=10,\n",
    "                      t=25\n",
    "                  ),\n",
    "                  barmode='group',\n",
    "                  legend=dict(\n",
    "                      # title=None,\n",
    "                      orientation='h', y=1, yanchor='bottom', x=0.2, xanchor='center'\n",
    "                  )\n",
    "                  )\n",
    "fig.update_xaxes(title=None,\n",
    "                 showgrid=True,\n",
    "                 tickangle=0,\n",
    "\n",
    "\n",
    "                 )\n",
    "fig.update_yaxes(\n",
    "    title_font_size = 10,\n",
    "    title_standoff = 8\n",
    ")\n",
    "fig.write_image('resultados/img/02_04_px.jpeg')\n",
    "fig.show()"
   ],
   "metadata": {
    "collapsed": false,
    "pycharm": {
     "name": "#%%\n"
    }
   }
  },
  {
   "cell_type": "code",
   "execution_count": 27,
   "outputs": [
    {
     "data": {
      "application/vnd.plotly.v1+json": {
       "data": [
        {
         "alignmentgroup": "True",
         "error_y": {
          "array": [
           0.0126872173809583,
           0.6946636759072536,
           0.0226130025236652,
           0.1338230585681405
          ],
          "arrayminus": [
           0.009096240791252,
           0.677512733950073,
           0.0174731011446409,
           0.1215042374271646
          ]
         },
         "hovertemplate": "<b>Sexo de jefatura del hogar</b>=hombre<br>anio=1990<br>thogar=%{x}<br>Hogares(%)=%{text}<extra></extra>",
         "legendgroup": "hombre",
         "marker": {
          "color": "#00cc96",
          "pattern": {
           "shape": ""
          }
         },
         "name": "hombre",
         "offsetgroup": "hombre",
         "orientation": "v",
         "showlegend": true,
         "text": [
          1.1,
          68.6,
          2.0,
          12.8
         ],
         "textposition": "auto",
         "x": [
          "nuclear monoparental",
          "nuclear biparental",
          "extenso monoparental",
          "extenso biparental"
         ],
         "xaxis": "x12",
         "y": [
          1.1,
          68.6,
          2.0,
          12.8
         ],
         "yaxis": "y12",
         "type": "bar"
        },
        {
         "alignmentgroup": "True",
         "error_y": {
          "array": [
           0.0147786501261832,
           0.7047889263873922,
           0.0181767478831259,
           0.1169964102059858
          ],
          "arrayminus": [
           0.01121546143941,
           0.689748895758217,
           0.0142046067261087,
           0.106999081521202
          ]
         },
         "hovertemplate": "<b>Sexo de jefatura del hogar</b>=hombre<br>anio=1992<br>thogar=%{x}<br>Hogares(%)=%{text}<extra></extra>",
         "legendgroup": "hombre",
         "marker": {
          "color": "#00cc96",
          "pattern": {
           "shape": ""
          }
         },
         "name": "hombre",
         "offsetgroup": "hombre",
         "orientation": "v",
         "showlegend": false,
         "text": [
          1.3,
          69.7,
          1.6,
          11.2
         ],
         "textposition": "auto",
         "x": [
          "nuclear monoparental",
          "nuclear biparental",
          "extenso monoparental",
          "extenso biparental"
         ],
         "xaxis": "x11",
         "y": [
          1.3,
          69.7,
          1.6,
          11.2
         ],
         "yaxis": "y11",
         "type": "bar"
        },
        {
         "alignmentgroup": "True",
         "error_y": {
          "array": [
           0.0154964778069281,
           0.6764539128555851,
           0.0213439312284481,
           0.1389674450069046
          ],
          "arrayminus": [
           0.0116928859634741,
           0.6608318488540961,
           0.0168937335536305,
           0.1277591652453915
          ]
         },
         "hovertemplate": "<b>Sexo de jefatura del hogar</b>=hombre<br>anio=1994<br>thogar=%{x}<br>Hogares(%)=%{text}<extra></extra>",
         "legendgroup": "hombre",
         "marker": {
          "color": "#00cc96",
          "pattern": {
           "shape": ""
          }
         },
         "name": "hombre",
         "offsetgroup": "hombre",
         "orientation": "v",
         "showlegend": false,
         "text": [
          1.3,
          66.9,
          1.9,
          13.3
         ],
         "textposition": "auto",
         "x": [
          "nuclear monoparental",
          "nuclear biparental",
          "extenso monoparental",
          "extenso biparental"
         ],
         "xaxis": "x10",
         "y": [
          1.3,
          66.9,
          1.9,
          13.3
         ],
         "yaxis": "y10",
         "type": "bar"
        },
        {
         "alignmentgroup": "True",
         "error_y": {
          "array": [
           0.0139178309902446,
           0.6857622648330394,
           0.0169339578891688,
           0.1408561351764034
          ],
          "arrayminus": [
           0.0095392062335909,
           0.6654432586592418,
           0.0129475362550512,
           0.1262733602428531
          ]
         },
         "hovertemplate": "<b>Sexo de jefatura del hogar</b>=hombre<br>anio=1996<br>thogar=%{x}<br>Hogares(%)=%{text}<extra></extra>",
         "legendgroup": "hombre",
         "marker": {
          "color": "#00cc96",
          "pattern": {
           "shape": ""
          }
         },
         "name": "hombre",
         "offsetgroup": "hombre",
         "orientation": "v",
         "showlegend": false,
         "text": [
          1.2,
          67.6,
          1.5,
          13.3
         ],
         "textposition": "auto",
         "x": [
          "nuclear monoparental",
          "nuclear biparental",
          "extenso monoparental",
          "extenso biparental"
         ],
         "xaxis": "x9",
         "y": [
          1.2,
          67.6,
          1.5,
          13.3
         ],
         "yaxis": "y9",
         "type": "bar"
        },
        {
         "alignmentgroup": "True",
         "error_y": {
          "array": [
           0.0120512584593987,
           0.6672595456058449,
           0.0187089929177549,
           0.1389882912281582
          ],
          "arrayminus": [
           0.0088008591369594,
           0.6510988953671025,
           0.0146881291009839,
           0.1278006042305647
          ]
         },
         "hovertemplate": "<b>Sexo de jefatura del hogar</b>=hombre<br>anio=1998<br>thogar=%{x}<br>Hogares(%)=%{text}<extra></extra>",
         "legendgroup": "hombre",
         "marker": {
          "color": "#00cc96",
          "pattern": {
           "shape": ""
          }
         },
         "name": "hombre",
         "offsetgroup": "hombre",
         "orientation": "v",
         "showlegend": false,
         "text": [
          1.0,
          65.9,
          1.7,
          13.3
         ],
         "textposition": "auto",
         "x": [
          "nuclear monoparental",
          "nuclear biparental",
          "extenso monoparental",
          "extenso biparental"
         ],
         "xaxis": "x8",
         "y": [
          1.0,
          65.9,
          1.7,
          13.3
         ],
         "yaxis": "y8",
         "type": "bar"
        },
        {
         "alignmentgroup": "True",
         "error_y": {
          "array": [
           0.0143150512475818,
           0.6537835095451144,
           0.0195413246452623,
           0.1428441229719263
          ],
          "arrayminus": [
           0.0098315947383965,
           0.6353252702245045,
           0.0158760145311574,
           0.1314951294240024
          ]
         },
         "hovertemplate": "<b>Sexo de jefatura del hogar</b>=hombre<br>anio=2000<br>thogar=%{x}<br>Hogares(%)=%{text}<extra></extra>",
         "legendgroup": "hombre",
         "marker": {
          "color": "#00cc96",
          "pattern": {
           "shape": ""
          }
         },
         "name": "hombre",
         "offsetgroup": "hombre",
         "orientation": "v",
         "showlegend": false,
         "text": [
          1.2,
          64.5,
          1.8,
          13.7
         ],
         "textposition": "auto",
         "x": [
          "nuclear monoparental",
          "nuclear biparental",
          "extenso monoparental",
          "extenso biparental"
         ],
         "xaxis": "x7",
         "y": [
          1.2,
          64.5,
          1.8,
          13.7
         ],
         "yaxis": "y7",
         "type": "bar"
        },
        {
         "alignmentgroup": "True",
         "error_y": {
          "array": [
           0.0135519914245819,
           0.6206664025907895,
           0.0199347598346586,
           0.1519808399658938
          ],
          "arrayminus": [
           0.0100514908967731,
           0.6028604636368192,
           0.0147661326418771,
           0.1400436475501005
          ]
         },
         "hovertemplate": "<b>Sexo de jefatura del hogar</b>=hombre<br>anio=2003<br>thogar=%{x}<br>Hogares(%)=%{text}<extra></extra>",
         "legendgroup": "hombre",
         "marker": {
          "color": "#00cc96",
          "pattern": {
           "shape": ""
          }
         },
         "name": "hombre",
         "offsetgroup": "hombre",
         "orientation": "v",
         "showlegend": false,
         "text": [
          1.2,
          61.2,
          1.7,
          14.6
         ],
         "textposition": "auto",
         "x": [
          "nuclear monoparental",
          "nuclear biparental",
          "extenso monoparental",
          "extenso biparental"
         ],
         "xaxis": "x6",
         "y": [
          1.2,
          61.2,
          1.7,
          14.6
         ],
         "yaxis": "y6",
         "type": "bar"
        },
        {
         "alignmentgroup": "True",
         "error_y": {
          "array": [
           0.0215725542205925,
           0.5349044016213262,
           0.0237790446359721,
           0.1395374949349574
          ],
          "arrayminus": [
           0.0155155402573039,
           0.5174309674680361,
           0.0187641492420691,
           0.1277862988100624
          ]
         },
         "hovertemplate": "<b>Sexo de jefatura del hogar</b>=hombre<br>anio=2009<br>thogar=%{x}<br>Hogares(%)=%{text}<extra></extra>",
         "legendgroup": "hombre",
         "marker": {
          "color": "#00cc96",
          "pattern": {
           "shape": ""
          }
         },
         "name": "hombre",
         "offsetgroup": "hombre",
         "orientation": "v",
         "showlegend": false,
         "text": [
          1.8,
          52.6,
          2.1,
          13.4
         ],
         "textposition": "auto",
         "x": [
          "nuclear monoparental",
          "nuclear biparental",
          "extenso monoparental",
          "extenso biparental"
         ],
         "xaxis": "x5",
         "y": [
          1.8,
          52.6,
          2.1,
          13.4
         ],
         "yaxis": "y5",
         "type": "bar"
        },
        {
         "alignmentgroup": "True",
         "error_y": {
          "array": [
           0.0148248257784151,
           0.4763008083658586,
           0.0208563233035835,
           0.147196082646902
          ],
          "arrayminus": [
           0.0114187897077308,
           0.4547409707389648,
           0.014758105210494,
           0.132703565322929
          ]
         },
         "hovertemplate": "<b>Sexo de jefatura del hogar</b>=hombre<br>anio=2013<br>thogar=%{x}<br>Hogares(%)=%{text}<extra></extra>",
         "legendgroup": "hombre",
         "marker": {
          "color": "#00cc96",
          "pattern": {
           "shape": ""
          }
         },
         "name": "hombre",
         "offsetgroup": "hombre",
         "orientation": "v",
         "showlegend": false,
         "text": [
          1.3,
          46.6,
          1.8,
          14.0
         ],
         "textposition": "auto",
         "x": [
          "nuclear monoparental",
          "nuclear biparental",
          "extenso monoparental",
          "extenso biparental"
         ],
         "xaxis": "x4",
         "y": [
          1.3,
          46.6,
          1.8,
          14.0
         ],
         "yaxis": "y4",
         "type": "bar"
        },
        {
         "alignmentgroup": "True",
         "error_y": {
          "array": [
           0.0136333916972166,
           0.4564765059800021,
           0.0222322158862912,
           0.1464122541508132
          ],
          "arrayminus": [
           0.0108092824519295,
           0.4398480161587026,
           0.0183123597278465,
           0.1360503338261069
          ]
         },
         "hovertemplate": "<b>Sexo de jefatura del hogar</b>=hombre<br>anio=2015<br>thogar=%{x}<br>Hogares(%)=%{text}<extra></extra>",
         "legendgroup": "hombre",
         "marker": {
          "color": "#00cc96",
          "pattern": {
           "shape": ""
          }
         },
         "name": "hombre",
         "offsetgroup": "hombre",
         "orientation": "v",
         "showlegend": false,
         "text": [
          1.2,
          44.8,
          2.0,
          14.1
         ],
         "textposition": "auto",
         "x": [
          "nuclear monoparental",
          "nuclear biparental",
          "extenso monoparental",
          "extenso biparental"
         ],
         "xaxis": "x3",
         "y": [
          1.2,
          44.8,
          2.0,
          14.1
         ],
         "yaxis": "y3",
         "type": "bar"
        },
        {
         "alignmentgroup": "True",
         "error_y": {
          "array": [
           0.0161228944199166,
           0.4284042088110698,
           0.0220971576621259,
           0.1278697451971759
          ],
          "arrayminus": [
           0.0125833211278829,
           0.4105255999541884,
           0.0179090565621168,
           0.117537050980586
          ]
         },
         "hovertemplate": "<b>Sexo de jefatura del hogar</b>=hombre<br>anio=2017<br>thogar=%{x}<br>Hogares(%)=%{text}<extra></extra>",
         "legendgroup": "hombre",
         "marker": {
          "color": "#00cc96",
          "pattern": {
           "shape": ""
          }
         },
         "name": "hombre",
         "offsetgroup": "hombre",
         "orientation": "v",
         "showlegend": false,
         "text": [
          1.4,
          41.9,
          2.0,
          12.3
         ],
         "textposition": "auto",
         "x": [
          "nuclear monoparental",
          "nuclear biparental",
          "extenso monoparental",
          "extenso biparental"
         ],
         "xaxis": "x2",
         "y": [
          1.4,
          41.9,
          2.0,
          12.3
         ],
         "yaxis": "y2",
         "type": "bar"
        },
        {
         "alignmentgroup": "True",
         "error_y": {
          "array": [
           0.016437515598382,
           0.3675587901453143,
           0.0239747201472544,
           0.1001952648274266
          ],
          "arrayminus": [
           0.012712511134839,
           0.3285400538636914,
           0.0191710718845926,
           0.0898705964486088
          ]
         },
         "hovertemplate": "<b>Sexo de jefatura del hogar</b>=hombre<br>anio=2020<br>thogar=%{x}<br>Hogares(%)=%{text}<extra></extra>",
         "legendgroup": "hombre",
         "marker": {
          "color": "#00cc96",
          "pattern": {
           "shape": ""
          }
         },
         "name": "hombre",
         "offsetgroup": "hombre",
         "orientation": "v",
         "showlegend": false,
         "text": [
          1.4,
          34.8,
          2.1,
          9.5
         ],
         "textposition": "auto",
         "x": [
          "nuclear monoparental",
          "nuclear biparental",
          "extenso monoparental",
          "extenso biparental"
         ],
         "xaxis": "x",
         "y": [
          1.4,
          34.8,
          2.1,
          9.5
         ],
         "yaxis": "y",
         "type": "bar"
        },
        {
         "alignmentgroup": "True",
         "error_y": {
          "array": [
           0.0902005597233014,
           0.0048494351546967,
           0.0705845345921739,
           0.0023520350620015
          ],
          "arrayminus": [
           0.0798892101029161,
           0.0024700304053927,
           0.0613664064923237,
           9.511662469105E-4
          ]
         },
         "hovertemplate": "<b>Sexo de jefatura del hogar</b>=mujer<br>anio=1990<br>thogar=%{x}<br>Hogares(%)=%{text}<extra></extra>",
         "legendgroup": "mujer",
         "marker": {
          "color": "#ab63fa",
          "pattern": {
           "shape": ""
          }
         },
         "name": "mujer",
         "offsetgroup": "mujer",
         "orientation": "v",
         "showlegend": true,
         "text": [
          8.5,
          0.3,
          6.6,
          0.1
         ],
         "textposition": "auto",
         "x": [
          "nuclear monoparental",
          "nuclear biparental",
          "extenso monoparental",
          "extenso biparental"
         ],
         "xaxis": "x12",
         "y": [
          8.5,
          0.3,
          6.6,
          0.1
         ],
         "yaxis": "y12",
         "type": "bar"
        },
        {
         "alignmentgroup": "True",
         "error_y": {
          "array": [
           0.0968270452916574,
           0.0083630178075817,
           0.0648429402953169,
           0.0035086010116105
          ],
          "arrayminus": [
           0.0871375239346407,
           0.0052164307873477,
           0.0570544978853291,
           0.0018176689551654
          ]
         },
         "hovertemplate": "<b>Sexo de jefatura del hogar</b>=mujer<br>anio=1992<br>thogar=%{x}<br>Hogares(%)=%{text}<extra></extra>",
         "legendgroup": "mujer",
         "marker": {
          "color": "#ab63fa",
          "pattern": {
           "shape": ""
          }
         },
         "name": "mujer",
         "offsetgroup": "mujer",
         "orientation": "v",
         "showlegend": false,
         "text": [
          9.2,
          0.7,
          6.1,
          0.3
         ],
         "textposition": "auto",
         "x": [
          "nuclear monoparental",
          "nuclear biparental",
          "extenso monoparental",
          "extenso biparental"
         ],
         "xaxis": "x11",
         "y": [
          9.2,
          0.7,
          6.1,
          0.3
         ],
         "yaxis": "y11",
         "type": "bar"
        },
        {
         "alignmentgroup": "True",
         "error_y": {
          "array": [
           0.0926006659679738,
           0.013740730975311,
           0.0654298273301851,
           0.0061501240410461
          ],
          "arrayminus": [
           0.0831459481375806,
           0.0099772148199955,
           0.0573902862370134,
           0.0038032351826548
          ]
         },
         "hovertemplate": "<b>Sexo de jefatura del hogar</b>=mujer<br>anio=1994<br>thogar=%{x}<br>Hogares(%)=%{text}<extra></extra>",
         "legendgroup": "mujer",
         "marker": {
          "color": "#ab63fa",
          "pattern": {
           "shape": ""
          }
         },
         "name": "mujer",
         "offsetgroup": "mujer",
         "orientation": "v",
         "showlegend": false,
         "text": [
          8.8,
          1.2,
          6.1,
          0.5
         ],
         "textposition": "auto",
         "x": [
          "nuclear monoparental",
          "nuclear biparental",
          "extenso monoparental",
          "extenso biparental"
         ],
         "xaxis": "x10",
         "y": [
          8.8,
          1.2,
          6.1,
          0.5
         ],
         "yaxis": "y10",
         "type": "bar"
        },
        {
         "alignmentgroup": "True",
         "error_y": {
          "array": [
           0.0827810773794569,
           0.0256343836514724,
           0.0638387419554395,
           0.0090840909592578
          ],
          "arrayminus": [
           0.0711822760797929,
           0.0182995751568981,
           0.0546669590924094,
           0.0054709984983757
          ]
         },
         "hovertemplate": "<b>Sexo de jefatura del hogar</b>=mujer<br>anio=1996<br>thogar=%{x}<br>Hogares(%)=%{text}<extra></extra>",
         "legendgroup": "mujer",
         "marker": {
          "color": "#ab63fa",
          "pattern": {
           "shape": ""
          }
         },
         "name": "mujer",
         "offsetgroup": "mujer",
         "orientation": "v",
         "showlegend": false,
         "text": [
          7.7,
          2.2,
          5.9,
          0.7
         ],
         "textposition": "auto",
         "x": [
          "nuclear monoparental",
          "nuclear biparental",
          "extenso monoparental",
          "extenso biparental"
         ],
         "xaxis": "x9",
         "y": [
          7.7,
          2.2,
          5.9,
          0.7
         ],
         "yaxis": "y9",
         "type": "bar"
        },
        {
         "alignmentgroup": "True",
         "error_y": {
          "array": [
           0.0928750051448472,
           0.0205034357671639,
           0.0734989302248842,
           0.0072633491138098
          ],
          "arrayminus": [
           0.0826747677602254,
           0.0153532505532845,
           0.065080872328689,
           0.0050252664891316
          ]
         },
         "hovertemplate": "<b>Sexo de jefatura del hogar</b>=mujer<br>anio=1998<br>thogar=%{x}<br>Hogares(%)=%{text}<extra></extra>",
         "legendgroup": "mujer",
         "marker": {
          "color": "#ab63fa",
          "pattern": {
           "shape": ""
          }
         },
         "name": "mujer",
         "offsetgroup": "mujer",
         "orientation": "v",
         "showlegend": false,
         "text": [
          8.8,
          1.8,
          6.9,
          0.6
         ],
         "textposition": "auto",
         "x": [
          "nuclear monoparental",
          "nuclear biparental",
          "extenso monoparental",
          "extenso biparental"
         ],
         "xaxis": "x8",
         "y": [
          8.8,
          1.8,
          6.9,
          0.6
         ],
         "yaxis": "y8",
         "type": "bar"
        },
        {
         "alignmentgroup": "True",
         "error_y": {
          "array": [
           0.0856424299870275,
           0.0261877845506007,
           0.0806353116455933,
           0.0113783981317365
          ],
          "arrayminus": [
           0.0757856029516265,
           0.0205883710840008,
           0.070327782611551,
           0.0083004996296881
          ]
         },
         "hovertemplate": "<b>Sexo de jefatura del hogar</b>=mujer<br>anio=2000<br>thogar=%{x}<br>Hogares(%)=%{text}<extra></extra>",
         "legendgroup": "mujer",
         "marker": {
          "color": "#ab63fa",
          "pattern": {
           "shape": ""
          }
         },
         "name": "mujer",
         "offsetgroup": "mujer",
         "orientation": "v",
         "showlegend": false,
         "text": [
          8.1,
          2.3,
          7.5,
          1.0
         ],
         "textposition": "auto",
         "x": [
          "nuclear monoparental",
          "nuclear biparental",
          "extenso monoparental",
          "extenso biparental"
         ],
         "xaxis": "x7",
         "y": [
          8.1,
          2.3,
          7.5,
          1.0
         ],
         "yaxis": "y7",
         "type": "bar"
        },
        {
         "alignmentgroup": "True",
         "error_y": {
          "array": [
           0.1005163071612669,
           0.0383075952266827,
           0.0753108862784612,
           0.0141444253494985
          ],
          "arrayminus": [
           0.0901421844843217,
           0.0321715186696229,
           0.0666931863279856,
           0.0106247747952646
          ]
         },
         "hovertemplate": "<b>Sexo de jefatura del hogar</b>=mujer<br>anio=2003<br>thogar=%{x}<br>Hogares(%)=%{text}<extra></extra>",
         "legendgroup": "mujer",
         "marker": {
          "color": "#ab63fa",
          "pattern": {
           "shape": ""
          }
         },
         "name": "mujer",
         "offsetgroup": "mujer",
         "orientation": "v",
         "showlegend": false,
         "text": [
          9.5,
          3.5,
          7.1,
          1.2
         ],
         "textposition": "auto",
         "x": [
          "nuclear monoparental",
          "nuclear biparental",
          "extenso monoparental",
          "extenso biparental"
         ],
         "xaxis": "x6",
         "y": [
          9.5,
          3.5,
          7.1,
          1.2
         ],
         "yaxis": "y6",
         "type": "bar"
        },
        {
         "alignmentgroup": "True",
         "error_y": {
          "array": [
           0.1495971243714593,
           0.0619251204026167,
           0.0871546471492313,
           0.0191541876172059
          ],
          "arrayminus": [
           0.1377114268236572,
           0.0538586736600741,
           0.0781478374507605,
           0.0150740508993514
          ]
         },
         "hovertemplate": "<b>Sexo de jefatura del hogar</b>=mujer<br>anio=2009<br>thogar=%{x}<br>Hogares(%)=%{text}<extra></extra>",
         "legendgroup": "mujer",
         "marker": {
          "color": "#ab63fa",
          "pattern": {
           "shape": ""
          }
         },
         "name": "mujer",
         "offsetgroup": "mujer",
         "orientation": "v",
         "showlegend": false,
         "text": [
          14.4,
          5.8,
          8.3,
          1.7
         ],
         "textposition": "auto",
         "x": [
          "nuclear monoparental",
          "nuclear biparental",
          "extenso monoparental",
          "extenso biparental"
         ],
         "xaxis": "x5",
         "y": [
          14.4,
          5.8,
          8.3,
          1.7
         ],
         "yaxis": "y5",
         "type": "bar"
        },
        {
         "alignmentgroup": "True",
         "error_y": {
          "array": [
           0.1856966073351226,
           0.0743256921760544,
           0.0998518842078121,
           0.0264238157337533
          ],
          "arrayminus": [
           0.1690656648230269,
           0.0647324155374049,
           0.088133176251192,
           0.0212667744549641
          ]
         },
         "hovertemplate": "<b>Sexo de jefatura del hogar</b>=mujer<br>anio=2013<br>thogar=%{x}<br>Hogares(%)=%{text}<extra></extra>",
         "legendgroup": "mujer",
         "marker": {
          "color": "#ab63fa",
          "pattern": {
           "shape": ""
          }
         },
         "name": "mujer",
         "offsetgroup": "mujer",
         "orientation": "v",
         "showlegend": false,
         "text": [
          17.7,
          6.9,
          9.4,
          2.4
         ],
         "textposition": "auto",
         "x": [
          "nuclear monoparental",
          "nuclear biparental",
          "extenso monoparental",
          "extenso biparental"
         ],
         "xaxis": "x4",
         "y": [
          17.7,
          6.9,
          9.4,
          2.4
         ],
         "yaxis": "y4",
         "type": "bar"
        },
        {
         "alignmentgroup": "True",
         "error_y": {
          "array": [
           0.1796629169821865,
           0.0782807612569411,
           0.1076765934618216,
           0.0302254908708431
          ],
          "arrayminus": [
           0.1678782469856833,
           0.0704924248748561,
           0.0980264674081595,
           0.0252789046982438
          ]
         },
         "hovertemplate": "<b>Sexo de jefatura del hogar</b>=mujer<br>anio=2015<br>thogar=%{x}<br>Hogares(%)=%{text}<extra></extra>",
         "legendgroup": "mujer",
         "marker": {
          "color": "#ab63fa",
          "pattern": {
           "shape": ""
          }
         },
         "name": "mujer",
         "offsetgroup": "mujer",
         "orientation": "v",
         "showlegend": false,
         "text": [
          17.4,
          7.4,
          10.3,
          2.8
         ],
         "textposition": "auto",
         "x": [
          "nuclear monoparental",
          "nuclear biparental",
          "extenso monoparental",
          "extenso biparental"
         ],
         "xaxis": "x3",
         "y": [
          17.4,
          7.4,
          10.3,
          2.8
         ],
         "yaxis": "y3",
         "type": "bar"
        },
        {
         "alignmentgroup": "True",
         "error_y": {
          "array": [
           0.1970545246791717,
           0.1093378977403557,
           0.1032931182655267,
           0.0360350279823306
          ],
          "arrayminus": [
           0.181242693635539,
           0.0989550668386327,
           0.0929459455034614,
           0.0297723111397785
          ]
         },
         "hovertemplate": "<b>Sexo de jefatura del hogar</b>=mujer<br>anio=2017<br>thogar=%{x}<br>Hogares(%)=%{text}<extra></extra>",
         "legendgroup": "mujer",
         "marker": {
          "color": "#ab63fa",
          "pattern": {
           "shape": ""
          }
         },
         "name": "mujer",
         "offsetgroup": "mujer",
         "orientation": "v",
         "showlegend": false,
         "text": [
          18.9,
          10.4,
          9.8,
          3.3
         ],
         "textposition": "auto",
         "x": [
          "nuclear monoparental",
          "nuclear biparental",
          "extenso monoparental",
          "extenso biparental"
         ],
         "xaxis": "x2",
         "y": [
          18.9,
          10.4,
          9.8,
          3.3
         ],
         "yaxis": "y2",
         "type": "bar"
        },
        {
         "alignmentgroup": "True",
         "error_y": {
          "array": [
           0.2527666451506578,
           0.1336622122969262,
           0.121710120090601,
           0.0403427297036251
          ],
          "arrayminus": [
           0.2315383460139108,
           0.1204581412741219,
           0.1094669631231581,
           0.0340064520845447
          ]
         },
         "hovertemplate": "<b>Sexo de jefatura del hogar</b>=mujer<br>anio=2020<br>thogar=%{x}<br>Hogares(%)=%{text}<extra></extra>",
         "legendgroup": "mujer",
         "marker": {
          "color": "#ab63fa",
          "pattern": {
           "shape": ""
          }
         },
         "name": "mujer",
         "offsetgroup": "mujer",
         "orientation": "v",
         "showlegend": false,
         "text": [
          24.2,
          12.7,
          11.5,
          3.7
         ],
         "textposition": "auto",
         "x": [
          "nuclear monoparental",
          "nuclear biparental",
          "extenso monoparental",
          "extenso biparental"
         ],
         "xaxis": "x",
         "y": [
          24.2,
          12.7,
          11.5,
          3.7
         ],
         "yaxis": "y",
         "type": "bar"
        }
       ],
       "layout": {
        "template": {
         "data": {
          "barpolar": [
           {
            "marker": {
             "line": {
              "color": "#E5ECF6",
              "width": 0.5
             },
             "pattern": {
              "fillmode": "overlay",
              "size": 10,
              "solidity": 0.2
             }
            },
            "type": "barpolar"
           }
          ],
          "bar": [
           {
            "error_x": {
             "color": "#2a3f5f"
            },
            "error_y": {
             "color": "#2a3f5f"
            },
            "marker": {
             "line": {
              "color": "#E5ECF6",
              "width": 0.5
             },
             "pattern": {
              "fillmode": "overlay",
              "size": 10,
              "solidity": 0.2
             }
            },
            "type": "bar"
           }
          ],
          "carpet": [
           {
            "aaxis": {
             "endlinecolor": "#2a3f5f",
             "gridcolor": "white",
             "linecolor": "white",
             "minorgridcolor": "white",
             "startlinecolor": "#2a3f5f"
            },
            "baxis": {
             "endlinecolor": "#2a3f5f",
             "gridcolor": "white",
             "linecolor": "white",
             "minorgridcolor": "white",
             "startlinecolor": "#2a3f5f"
            },
            "type": "carpet"
           }
          ],
          "choropleth": [
           {
            "colorbar": {
             "outlinewidth": 0,
             "ticks": ""
            },
            "type": "choropleth"
           }
          ],
          "contourcarpet": [
           {
            "colorbar": {
             "outlinewidth": 0,
             "ticks": ""
            },
            "type": "contourcarpet"
           }
          ],
          "contour": [
           {
            "colorbar": {
             "outlinewidth": 0,
             "ticks": ""
            },
            "colorscale": [
             [
              0.0,
              "#0d0887"
             ],
             [
              0.1111111111111111,
              "#46039f"
             ],
             [
              0.2222222222222222,
              "#7201a8"
             ],
             [
              0.3333333333333333,
              "#9c179e"
             ],
             [
              0.4444444444444444,
              "#bd3786"
             ],
             [
              0.5555555555555556,
              "#d8576b"
             ],
             [
              0.6666666666666666,
              "#ed7953"
             ],
             [
              0.7777777777777778,
              "#fb9f3a"
             ],
             [
              0.8888888888888888,
              "#fdca26"
             ],
             [
              1.0,
              "#f0f921"
             ]
            ],
            "type": "contour"
           }
          ],
          "heatmapgl": [
           {
            "colorbar": {
             "outlinewidth": 0,
             "ticks": ""
            },
            "colorscale": [
             [
              0.0,
              "#0d0887"
             ],
             [
              0.1111111111111111,
              "#46039f"
             ],
             [
              0.2222222222222222,
              "#7201a8"
             ],
             [
              0.3333333333333333,
              "#9c179e"
             ],
             [
              0.4444444444444444,
              "#bd3786"
             ],
             [
              0.5555555555555556,
              "#d8576b"
             ],
             [
              0.6666666666666666,
              "#ed7953"
             ],
             [
              0.7777777777777778,
              "#fb9f3a"
             ],
             [
              0.8888888888888888,
              "#fdca26"
             ],
             [
              1.0,
              "#f0f921"
             ]
            ],
            "type": "heatmapgl"
           }
          ],
          "heatmap": [
           {
            "colorbar": {
             "outlinewidth": 0,
             "ticks": ""
            },
            "colorscale": [
             [
              0.0,
              "#0d0887"
             ],
             [
              0.1111111111111111,
              "#46039f"
             ],
             [
              0.2222222222222222,
              "#7201a8"
             ],
             [
              0.3333333333333333,
              "#9c179e"
             ],
             [
              0.4444444444444444,
              "#bd3786"
             ],
             [
              0.5555555555555556,
              "#d8576b"
             ],
             [
              0.6666666666666666,
              "#ed7953"
             ],
             [
              0.7777777777777778,
              "#fb9f3a"
             ],
             [
              0.8888888888888888,
              "#fdca26"
             ],
             [
              1.0,
              "#f0f921"
             ]
            ],
            "type": "heatmap"
           }
          ],
          "histogram2dcontour": [
           {
            "colorbar": {
             "outlinewidth": 0,
             "ticks": ""
            },
            "colorscale": [
             [
              0.0,
              "#0d0887"
             ],
             [
              0.1111111111111111,
              "#46039f"
             ],
             [
              0.2222222222222222,
              "#7201a8"
             ],
             [
              0.3333333333333333,
              "#9c179e"
             ],
             [
              0.4444444444444444,
              "#bd3786"
             ],
             [
              0.5555555555555556,
              "#d8576b"
             ],
             [
              0.6666666666666666,
              "#ed7953"
             ],
             [
              0.7777777777777778,
              "#fb9f3a"
             ],
             [
              0.8888888888888888,
              "#fdca26"
             ],
             [
              1.0,
              "#f0f921"
             ]
            ],
            "type": "histogram2dcontour"
           }
          ],
          "histogram2d": [
           {
            "colorbar": {
             "outlinewidth": 0,
             "ticks": ""
            },
            "colorscale": [
             [
              0.0,
              "#0d0887"
             ],
             [
              0.1111111111111111,
              "#46039f"
             ],
             [
              0.2222222222222222,
              "#7201a8"
             ],
             [
              0.3333333333333333,
              "#9c179e"
             ],
             [
              0.4444444444444444,
              "#bd3786"
             ],
             [
              0.5555555555555556,
              "#d8576b"
             ],
             [
              0.6666666666666666,
              "#ed7953"
             ],
             [
              0.7777777777777778,
              "#fb9f3a"
             ],
             [
              0.8888888888888888,
              "#fdca26"
             ],
             [
              1.0,
              "#f0f921"
             ]
            ],
            "type": "histogram2d"
           }
          ],
          "histogram": [
           {
            "marker": {
             "pattern": {
              "fillmode": "overlay",
              "size": 10,
              "solidity": 0.2
             }
            },
            "type": "histogram"
           }
          ],
          "mesh3d": [
           {
            "colorbar": {
             "outlinewidth": 0,
             "ticks": ""
            },
            "type": "mesh3d"
           }
          ],
          "parcoords": [
           {
            "line": {
             "colorbar": {
              "outlinewidth": 0,
              "ticks": ""
             }
            },
            "type": "parcoords"
           }
          ],
          "pie": [
           {
            "automargin": true,
            "type": "pie"
           }
          ],
          "scatter3d": [
           {
            "line": {
             "colorbar": {
              "outlinewidth": 0,
              "ticks": ""
             }
            },
            "marker": {
             "colorbar": {
              "outlinewidth": 0,
              "ticks": ""
             }
            },
            "type": "scatter3d"
           }
          ],
          "scattercarpet": [
           {
            "marker": {
             "colorbar": {
              "outlinewidth": 0,
              "ticks": ""
             }
            },
            "type": "scattercarpet"
           }
          ],
          "scattergeo": [
           {
            "marker": {
             "colorbar": {
              "outlinewidth": 0,
              "ticks": ""
             }
            },
            "type": "scattergeo"
           }
          ],
          "scattergl": [
           {
            "marker": {
             "colorbar": {
              "outlinewidth": 0,
              "ticks": ""
             }
            },
            "type": "scattergl"
           }
          ],
          "scattermapbox": [
           {
            "marker": {
             "colorbar": {
              "outlinewidth": 0,
              "ticks": ""
             }
            },
            "type": "scattermapbox"
           }
          ],
          "scatterpolargl": [
           {
            "marker": {
             "colorbar": {
              "outlinewidth": 0,
              "ticks": ""
             }
            },
            "type": "scatterpolargl"
           }
          ],
          "scatterpolar": [
           {
            "marker": {
             "colorbar": {
              "outlinewidth": 0,
              "ticks": ""
             }
            },
            "type": "scatterpolar"
           }
          ],
          "scatter": [
           {
            "marker": {
             "colorbar": {
              "outlinewidth": 0,
              "ticks": ""
             }
            },
            "type": "scatter"
           }
          ],
          "scatterternary": [
           {
            "marker": {
             "colorbar": {
              "outlinewidth": 0,
              "ticks": ""
             }
            },
            "type": "scatterternary"
           }
          ],
          "surface": [
           {
            "colorbar": {
             "outlinewidth": 0,
             "ticks": ""
            },
            "colorscale": [
             [
              0.0,
              "#0d0887"
             ],
             [
              0.1111111111111111,
              "#46039f"
             ],
             [
              0.2222222222222222,
              "#7201a8"
             ],
             [
              0.3333333333333333,
              "#9c179e"
             ],
             [
              0.4444444444444444,
              "#bd3786"
             ],
             [
              0.5555555555555556,
              "#d8576b"
             ],
             [
              0.6666666666666666,
              "#ed7953"
             ],
             [
              0.7777777777777778,
              "#fb9f3a"
             ],
             [
              0.8888888888888888,
              "#fdca26"
             ],
             [
              1.0,
              "#f0f921"
             ]
            ],
            "type": "surface"
           }
          ],
          "table": [
           {
            "cells": {
             "fill": {
              "color": "#EBF0F8"
             },
             "line": {
              "color": "white"
             }
            },
            "header": {
             "fill": {
              "color": "#C8D4E3"
             },
             "line": {
              "color": "white"
             }
            },
            "type": "table"
           }
          ]
         },
         "layout": {
          "annotationdefaults": {
           "arrowcolor": "#2a3f5f",
           "arrowhead": 0,
           "arrowwidth": 1
          },
          "autotypenumbers": "strict",
          "coloraxis": {
           "colorbar": {
            "outlinewidth": 0,
            "ticks": ""
           }
          },
          "colorscale": {
           "diverging": [
            [
             0,
             "#8e0152"
            ],
            [
             0.1,
             "#c51b7d"
            ],
            [
             0.2,
             "#de77ae"
            ],
            [
             0.3,
             "#f1b6da"
            ],
            [
             0.4,
             "#fde0ef"
            ],
            [
             0.5,
             "#f7f7f7"
            ],
            [
             0.6,
             "#e6f5d0"
            ],
            [
             0.7,
             "#b8e186"
            ],
            [
             0.8,
             "#7fbc41"
            ],
            [
             0.9,
             "#4d9221"
            ],
            [
             1,
             "#276419"
            ]
           ],
           "sequential": [
            [
             0.0,
             "#0d0887"
            ],
            [
             0.1111111111111111,
             "#46039f"
            ],
            [
             0.2222222222222222,
             "#7201a8"
            ],
            [
             0.3333333333333333,
             "#9c179e"
            ],
            [
             0.4444444444444444,
             "#bd3786"
            ],
            [
             0.5555555555555556,
             "#d8576b"
            ],
            [
             0.6666666666666666,
             "#ed7953"
            ],
            [
             0.7777777777777778,
             "#fb9f3a"
            ],
            [
             0.8888888888888888,
             "#fdca26"
            ],
            [
             1.0,
             "#f0f921"
            ]
           ],
           "sequentialminus": [
            [
             0.0,
             "#0d0887"
            ],
            [
             0.1111111111111111,
             "#46039f"
            ],
            [
             0.2222222222222222,
             "#7201a8"
            ],
            [
             0.3333333333333333,
             "#9c179e"
            ],
            [
             0.4444444444444444,
             "#bd3786"
            ],
            [
             0.5555555555555556,
             "#d8576b"
            ],
            [
             0.6666666666666666,
             "#ed7953"
            ],
            [
             0.7777777777777778,
             "#fb9f3a"
            ],
            [
             0.8888888888888888,
             "#fdca26"
            ],
            [
             1.0,
             "#f0f921"
            ]
           ]
          },
          "colorway": [
           "#636efa",
           "#EF553B",
           "#00cc96",
           "#ab63fa",
           "#FFA15A",
           "#19d3f3",
           "#FF6692",
           "#B6E880",
           "#FF97FF",
           "#FECB52"
          ],
          "font": {
           "color": "#2a3f5f"
          },
          "geo": {
           "bgcolor": "white",
           "lakecolor": "white",
           "landcolor": "#E5ECF6",
           "showlakes": true,
           "showland": true,
           "subunitcolor": "white"
          },
          "hoverlabel": {
           "align": "left"
          },
          "hovermode": "closest",
          "mapbox": {
           "style": "light"
          },
          "paper_bgcolor": "white",
          "plot_bgcolor": "#E5ECF6",
          "polar": {
           "angularaxis": {
            "gridcolor": "white",
            "linecolor": "white",
            "ticks": ""
           },
           "bgcolor": "#E5ECF6",
           "radialaxis": {
            "gridcolor": "white",
            "linecolor": "white",
            "ticks": ""
           }
          },
          "scene": {
           "xaxis": {
            "backgroundcolor": "#E5ECF6",
            "gridcolor": "white",
            "gridwidth": 2,
            "linecolor": "white",
            "showbackground": true,
            "ticks": "",
            "zerolinecolor": "white"
           },
           "yaxis": {
            "backgroundcolor": "#E5ECF6",
            "gridcolor": "white",
            "gridwidth": 2,
            "linecolor": "white",
            "showbackground": true,
            "ticks": "",
            "zerolinecolor": "white"
           },
           "zaxis": {
            "backgroundcolor": "#E5ECF6",
            "gridcolor": "white",
            "gridwidth": 2,
            "linecolor": "white",
            "showbackground": true,
            "ticks": "",
            "zerolinecolor": "white"
           }
          },
          "shapedefaults": {
           "line": {
            "color": "#2a3f5f"
           }
          },
          "ternary": {
           "aaxis": {
            "gridcolor": "white",
            "linecolor": "white",
            "ticks": ""
           },
           "baxis": {
            "gridcolor": "white",
            "linecolor": "white",
            "ticks": ""
           },
           "bgcolor": "#E5ECF6",
           "caxis": {
            "gridcolor": "white",
            "linecolor": "white",
            "ticks": ""
           }
          },
          "title": {
           "x": 0.05
          },
          "xaxis": {
           "automargin": true,
           "gridcolor": "white",
           "linecolor": "white",
           "ticks": "",
           "title": {
            "standoff": 15
           },
           "zerolinecolor": "white",
           "zerolinewidth": 2
          },
          "yaxis": {
           "automargin": true,
           "gridcolor": "white",
           "linecolor": "white",
           "ticks": "",
           "title": {
            "standoff": 15
           },
           "zerolinecolor": "white",
           "zerolinewidth": 2
          }
         }
        },
        "xaxis": {
         "anchor": "y",
         "domain": [
          0.0,
          0.98
         ],
         "title": {},
         "showgrid": true,
         "tickangle": 0
        },
        "yaxis": {
         "anchor": "x",
         "domain": [
          0.0,
          0.05583333333333333
         ],
         "title": {
          "text": "Hogares(%)",
          "font": {
           "size": 10
          },
          "standoff": 8
         }
        },
        "xaxis2": {
         "anchor": "y2",
         "domain": [
          0.0,
          0.98
         ],
         "matches": "x",
         "showticklabels": false,
         "title": {},
         "showgrid": true,
         "tickangle": 0
        },
        "yaxis2": {
         "anchor": "x2",
         "domain": [
          0.08583333333333333,
          0.14166666666666666
         ],
         "matches": "y",
         "title": {
          "text": "Hogares(%)",
          "font": {
           "size": 10
          },
          "standoff": 8
         }
        },
        "xaxis3": {
         "anchor": "y3",
         "domain": [
          0.0,
          0.98
         ],
         "matches": "x",
         "showticklabels": false,
         "title": {},
         "showgrid": true,
         "tickangle": 0
        },
        "yaxis3": {
         "anchor": "x3",
         "domain": [
          0.17166666666666666,
          0.22749999999999998
         ],
         "matches": "y",
         "title": {
          "text": "Hogares(%)",
          "font": {
           "size": 10
          },
          "standoff": 8
         }
        },
        "xaxis4": {
         "anchor": "y4",
         "domain": [
          0.0,
          0.98
         ],
         "matches": "x",
         "showticklabels": false,
         "title": {},
         "showgrid": true,
         "tickangle": 0
        },
        "yaxis4": {
         "anchor": "x4",
         "domain": [
          0.25749999999999995,
          0.3133333333333333
         ],
         "matches": "y",
         "title": {
          "text": "Hogares(%)",
          "font": {
           "size": 10
          },
          "standoff": 8
         }
        },
        "xaxis5": {
         "anchor": "y5",
         "domain": [
          0.0,
          0.98
         ],
         "matches": "x",
         "showticklabels": false,
         "title": {},
         "showgrid": true,
         "tickangle": 0
        },
        "yaxis5": {
         "anchor": "x5",
         "domain": [
          0.3433333333333333,
          0.39916666666666667
         ],
         "matches": "y",
         "title": {
          "text": "Hogares(%)",
          "font": {
           "size": 10
          },
          "standoff": 8
         }
        },
        "xaxis6": {
         "anchor": "y6",
         "domain": [
          0.0,
          0.98
         ],
         "matches": "x",
         "showticklabels": false,
         "title": {},
         "showgrid": true,
         "tickangle": 0
        },
        "yaxis6": {
         "anchor": "x6",
         "domain": [
          0.4291666666666667,
          0.48500000000000004
         ],
         "matches": "y",
         "title": {
          "text": "Hogares(%)",
          "font": {
           "size": 10
          },
          "standoff": 8
         }
        },
        "xaxis7": {
         "anchor": "y7",
         "domain": [
          0.0,
          0.98
         ],
         "matches": "x",
         "showticklabels": false,
         "title": {},
         "showgrid": true,
         "tickangle": 0
        },
        "yaxis7": {
         "anchor": "x7",
         "domain": [
          0.515,
          0.5708333333333333
         ],
         "matches": "y",
         "title": {
          "text": "Hogares(%)",
          "font": {
           "size": 10
          },
          "standoff": 8
         }
        },
        "xaxis8": {
         "anchor": "y8",
         "domain": [
          0.0,
          0.98
         ],
         "matches": "x",
         "showticklabels": false,
         "title": {},
         "showgrid": true,
         "tickangle": 0
        },
        "yaxis8": {
         "anchor": "x8",
         "domain": [
          0.6008333333333333,
          0.6566666666666666
         ],
         "matches": "y",
         "title": {
          "text": "Hogares(%)",
          "font": {
           "size": 10
          },
          "standoff": 8
         }
        },
        "xaxis9": {
         "anchor": "y9",
         "domain": [
          0.0,
          0.98
         ],
         "matches": "x",
         "showticklabels": false,
         "title": {},
         "showgrid": true,
         "tickangle": 0
        },
        "yaxis9": {
         "anchor": "x9",
         "domain": [
          0.6866666666666668,
          0.7425
         ],
         "matches": "y",
         "title": {
          "text": "Hogares(%)",
          "font": {
           "size": 10
          },
          "standoff": 8
         }
        },
        "xaxis10": {
         "anchor": "y10",
         "domain": [
          0.0,
          0.98
         ],
         "matches": "x",
         "showticklabels": false,
         "title": {},
         "showgrid": true,
         "tickangle": 0
        },
        "yaxis10": {
         "anchor": "x10",
         "domain": [
          0.7725000000000001,
          0.8283333333333334
         ],
         "matches": "y",
         "title": {
          "text": "Hogares(%)",
          "font": {
           "size": 10
          },
          "standoff": 8
         }
        },
        "xaxis11": {
         "anchor": "y11",
         "domain": [
          0.0,
          0.98
         ],
         "matches": "x",
         "showticklabels": false,
         "title": {},
         "showgrid": true,
         "tickangle": 0
        },
        "yaxis11": {
         "anchor": "x11",
         "domain": [
          0.8583333333333334,
          0.9141666666666667
         ],
         "matches": "y",
         "title": {
          "text": "Hogares(%)",
          "font": {
           "size": 10
          },
          "standoff": 8
         }
        },
        "xaxis12": {
         "anchor": "y12",
         "domain": [
          0.0,
          0.98
         ],
         "matches": "x",
         "showticklabels": false,
         "title": {},
         "showgrid": true,
         "tickangle": 0
        },
        "yaxis12": {
         "anchor": "x12",
         "domain": [
          0.9441666666666666,
          0.9999999999999999
         ],
         "matches": "y",
         "title": {
          "text": "Hogares(%)",
          "font": {
           "size": 10
          },
          "standoff": 8
         }
        },
        "annotations": [
         {
          "font": {},
          "showarrow": false,
          "text": "2020",
          "textangle": 90,
          "x": 0.98,
          "xanchor": "left",
          "xref": "paper",
          "y": 0.027916666666666666,
          "yanchor": "middle",
          "yref": "paper"
         },
         {
          "font": {},
          "showarrow": false,
          "text": "2017",
          "textangle": 90,
          "x": 0.98,
          "xanchor": "left",
          "xref": "paper",
          "y": 0.11374999999999999,
          "yanchor": "middle",
          "yref": "paper"
         },
         {
          "font": {},
          "showarrow": false,
          "text": "2015",
          "textangle": 90,
          "x": 0.98,
          "xanchor": "left",
          "xref": "paper",
          "y": 0.19958333333333333,
          "yanchor": "middle",
          "yref": "paper"
         },
         {
          "font": {},
          "showarrow": false,
          "text": "2013",
          "textangle": 90,
          "x": 0.98,
          "xanchor": "left",
          "xref": "paper",
          "y": 0.28541666666666665,
          "yanchor": "middle",
          "yref": "paper"
         },
         {
          "font": {},
          "showarrow": false,
          "text": "2009",
          "textangle": 90,
          "x": 0.98,
          "xanchor": "left",
          "xref": "paper",
          "y": 0.37124999999999997,
          "yanchor": "middle",
          "yref": "paper"
         },
         {
          "font": {},
          "showarrow": false,
          "text": "2003",
          "textangle": 90,
          "x": 0.98,
          "xanchor": "left",
          "xref": "paper",
          "y": 0.4570833333333334,
          "yanchor": "middle",
          "yref": "paper"
         },
         {
          "font": {},
          "showarrow": false,
          "text": "2000",
          "textangle": 90,
          "x": 0.98,
          "xanchor": "left",
          "xref": "paper",
          "y": 0.5429166666666667,
          "yanchor": "middle",
          "yref": "paper"
         },
         {
          "font": {},
          "showarrow": false,
          "text": "1998",
          "textangle": 90,
          "x": 0.98,
          "xanchor": "left",
          "xref": "paper",
          "y": 0.6287499999999999,
          "yanchor": "middle",
          "yref": "paper"
         },
         {
          "font": {},
          "showarrow": false,
          "text": "1996",
          "textangle": 90,
          "x": 0.98,
          "xanchor": "left",
          "xref": "paper",
          "y": 0.7145833333333333,
          "yanchor": "middle",
          "yref": "paper"
         },
         {
          "font": {},
          "showarrow": false,
          "text": "1994",
          "textangle": 90,
          "x": 0.98,
          "xanchor": "left",
          "xref": "paper",
          "y": 0.8004166666666668,
          "yanchor": "middle",
          "yref": "paper"
         },
         {
          "font": {},
          "showarrow": false,
          "text": "1992",
          "textangle": 90,
          "x": 0.98,
          "xanchor": "left",
          "xref": "paper",
          "y": 0.88625,
          "yanchor": "middle",
          "yref": "paper"
         },
         {
          "font": {},
          "showarrow": false,
          "text": "1990",
          "textangle": 90,
          "x": 0.98,
          "xanchor": "left",
          "xref": "paper",
          "y": 0.9720833333333332,
          "yanchor": "middle",
          "yref": "paper"
         }
        ],
        "legend": {
         "title": {
          "text": "<b>Sexo de jefatura del hogar</b>"
         },
         "tracegroupgap": 0,
         "orientation": "h",
         "y": 1,
         "yanchor": "bottom",
         "x": 0.2,
         "xanchor": "center"
        },
        "margin": {
         "t": 15,
         "l": 10,
         "r": 10,
         "b": 10
        },
        "barmode": "group",
        "height": 900
       },
       "config": {
        "plotlyServerURL": "https://plot.ly"
       }
      },
      "text/html": "<div>                            <div id=\"3cffe7fd-6252-42b5-933a-4be8f4c227a9\" class=\"plotly-graph-div\" style=\"height:900px; width:100%;\"></div>            <script type=\"text/javascript\">                require([\"plotly\"], function(Plotly) {                    window.PLOTLYENV=window.PLOTLYENV || {};                                    if (document.getElementById(\"3cffe7fd-6252-42b5-933a-4be8f4c227a9\")) {                    Plotly.newPlot(                        \"3cffe7fd-6252-42b5-933a-4be8f4c227a9\",                        [{\"alignmentgroup\":\"True\",\"error_y\":{\"array\":[0.0126872173809583,0.6946636759072536,0.0226130025236652,0.1338230585681405],\"arrayminus\":[0.009096240791252,0.677512733950073,0.0174731011446409,0.1215042374271646]},\"hovertemplate\":\"<b>Sexo de jefatura del hogar</b>=hombre<br>anio=1990<br>thogar=%{x}<br>Hogares(%)=%{text}<extra></extra>\",\"legendgroup\":\"hombre\",\"marker\":{\"color\":\"#00cc96\",\"pattern\":{\"shape\":\"\"}},\"name\":\"hombre\",\"offsetgroup\":\"hombre\",\"orientation\":\"v\",\"showlegend\":true,\"text\":[1.1,68.6,2.0,12.8],\"textposition\":\"auto\",\"x\":[\"nuclear monoparental\",\"nuclear biparental\",\"extenso monoparental\",\"extenso biparental\"],\"xaxis\":\"x12\",\"y\":[1.1,68.6,2.0,12.8],\"yaxis\":\"y12\",\"type\":\"bar\"},{\"alignmentgroup\":\"True\",\"error_y\":{\"array\":[0.0147786501261832,0.7047889263873922,0.0181767478831259,0.1169964102059858],\"arrayminus\":[0.01121546143941,0.689748895758217,0.0142046067261087,0.106999081521202]},\"hovertemplate\":\"<b>Sexo de jefatura del hogar</b>=hombre<br>anio=1992<br>thogar=%{x}<br>Hogares(%)=%{text}<extra></extra>\",\"legendgroup\":\"hombre\",\"marker\":{\"color\":\"#00cc96\",\"pattern\":{\"shape\":\"\"}},\"name\":\"hombre\",\"offsetgroup\":\"hombre\",\"orientation\":\"v\",\"showlegend\":false,\"text\":[1.3,69.7,1.6,11.2],\"textposition\":\"auto\",\"x\":[\"nuclear monoparental\",\"nuclear biparental\",\"extenso monoparental\",\"extenso biparental\"],\"xaxis\":\"x11\",\"y\":[1.3,69.7,1.6,11.2],\"yaxis\":\"y11\",\"type\":\"bar\"},{\"alignmentgroup\":\"True\",\"error_y\":{\"array\":[0.0154964778069281,0.6764539128555851,0.0213439312284481,0.1389674450069046],\"arrayminus\":[0.0116928859634741,0.6608318488540961,0.0168937335536305,0.1277591652453915]},\"hovertemplate\":\"<b>Sexo de jefatura del hogar</b>=hombre<br>anio=1994<br>thogar=%{x}<br>Hogares(%)=%{text}<extra></extra>\",\"legendgroup\":\"hombre\",\"marker\":{\"color\":\"#00cc96\",\"pattern\":{\"shape\":\"\"}},\"name\":\"hombre\",\"offsetgroup\":\"hombre\",\"orientation\":\"v\",\"showlegend\":false,\"text\":[1.3,66.9,1.9,13.3],\"textposition\":\"auto\",\"x\":[\"nuclear monoparental\",\"nuclear biparental\",\"extenso monoparental\",\"extenso biparental\"],\"xaxis\":\"x10\",\"y\":[1.3,66.9,1.9,13.3],\"yaxis\":\"y10\",\"type\":\"bar\"},{\"alignmentgroup\":\"True\",\"error_y\":{\"array\":[0.0139178309902446,0.6857622648330394,0.0169339578891688,0.1408561351764034],\"arrayminus\":[0.0095392062335909,0.6654432586592418,0.0129475362550512,0.1262733602428531]},\"hovertemplate\":\"<b>Sexo de jefatura del hogar</b>=hombre<br>anio=1996<br>thogar=%{x}<br>Hogares(%)=%{text}<extra></extra>\",\"legendgroup\":\"hombre\",\"marker\":{\"color\":\"#00cc96\",\"pattern\":{\"shape\":\"\"}},\"name\":\"hombre\",\"offsetgroup\":\"hombre\",\"orientation\":\"v\",\"showlegend\":false,\"text\":[1.2,67.6,1.5,13.3],\"textposition\":\"auto\",\"x\":[\"nuclear monoparental\",\"nuclear biparental\",\"extenso monoparental\",\"extenso biparental\"],\"xaxis\":\"x9\",\"y\":[1.2,67.6,1.5,13.3],\"yaxis\":\"y9\",\"type\":\"bar\"},{\"alignmentgroup\":\"True\",\"error_y\":{\"array\":[0.0120512584593987,0.6672595456058449,0.0187089929177549,0.1389882912281582],\"arrayminus\":[0.0088008591369594,0.6510988953671025,0.0146881291009839,0.1278006042305647]},\"hovertemplate\":\"<b>Sexo de jefatura del hogar</b>=hombre<br>anio=1998<br>thogar=%{x}<br>Hogares(%)=%{text}<extra></extra>\",\"legendgroup\":\"hombre\",\"marker\":{\"color\":\"#00cc96\",\"pattern\":{\"shape\":\"\"}},\"name\":\"hombre\",\"offsetgroup\":\"hombre\",\"orientation\":\"v\",\"showlegend\":false,\"text\":[1.0,65.9,1.7,13.3],\"textposition\":\"auto\",\"x\":[\"nuclear monoparental\",\"nuclear biparental\",\"extenso monoparental\",\"extenso biparental\"],\"xaxis\":\"x8\",\"y\":[1.0,65.9,1.7,13.3],\"yaxis\":\"y8\",\"type\":\"bar\"},{\"alignmentgroup\":\"True\",\"error_y\":{\"array\":[0.0143150512475818,0.6537835095451144,0.0195413246452623,0.1428441229719263],\"arrayminus\":[0.0098315947383965,0.6353252702245045,0.0158760145311574,0.1314951294240024]},\"hovertemplate\":\"<b>Sexo de jefatura del hogar</b>=hombre<br>anio=2000<br>thogar=%{x}<br>Hogares(%)=%{text}<extra></extra>\",\"legendgroup\":\"hombre\",\"marker\":{\"color\":\"#00cc96\",\"pattern\":{\"shape\":\"\"}},\"name\":\"hombre\",\"offsetgroup\":\"hombre\",\"orientation\":\"v\",\"showlegend\":false,\"text\":[1.2,64.5,1.8,13.7],\"textposition\":\"auto\",\"x\":[\"nuclear monoparental\",\"nuclear biparental\",\"extenso monoparental\",\"extenso biparental\"],\"xaxis\":\"x7\",\"y\":[1.2,64.5,1.8,13.7],\"yaxis\":\"y7\",\"type\":\"bar\"},{\"alignmentgroup\":\"True\",\"error_y\":{\"array\":[0.0135519914245819,0.6206664025907895,0.0199347598346586,0.1519808399658938],\"arrayminus\":[0.0100514908967731,0.6028604636368192,0.0147661326418771,0.1400436475501005]},\"hovertemplate\":\"<b>Sexo de jefatura del hogar</b>=hombre<br>anio=2003<br>thogar=%{x}<br>Hogares(%)=%{text}<extra></extra>\",\"legendgroup\":\"hombre\",\"marker\":{\"color\":\"#00cc96\",\"pattern\":{\"shape\":\"\"}},\"name\":\"hombre\",\"offsetgroup\":\"hombre\",\"orientation\":\"v\",\"showlegend\":false,\"text\":[1.2,61.2,1.7,14.6],\"textposition\":\"auto\",\"x\":[\"nuclear monoparental\",\"nuclear biparental\",\"extenso monoparental\",\"extenso biparental\"],\"xaxis\":\"x6\",\"y\":[1.2,61.2,1.7,14.6],\"yaxis\":\"y6\",\"type\":\"bar\"},{\"alignmentgroup\":\"True\",\"error_y\":{\"array\":[0.0215725542205925,0.5349044016213262,0.0237790446359721,0.1395374949349574],\"arrayminus\":[0.0155155402573039,0.5174309674680361,0.0187641492420691,0.1277862988100624]},\"hovertemplate\":\"<b>Sexo de jefatura del hogar</b>=hombre<br>anio=2009<br>thogar=%{x}<br>Hogares(%)=%{text}<extra></extra>\",\"legendgroup\":\"hombre\",\"marker\":{\"color\":\"#00cc96\",\"pattern\":{\"shape\":\"\"}},\"name\":\"hombre\",\"offsetgroup\":\"hombre\",\"orientation\":\"v\",\"showlegend\":false,\"text\":[1.8,52.6,2.1,13.4],\"textposition\":\"auto\",\"x\":[\"nuclear monoparental\",\"nuclear biparental\",\"extenso monoparental\",\"extenso biparental\"],\"xaxis\":\"x5\",\"y\":[1.8,52.6,2.1,13.4],\"yaxis\":\"y5\",\"type\":\"bar\"},{\"alignmentgroup\":\"True\",\"error_y\":{\"array\":[0.0148248257784151,0.4763008083658586,0.0208563233035835,0.147196082646902],\"arrayminus\":[0.0114187897077308,0.4547409707389648,0.014758105210494,0.132703565322929]},\"hovertemplate\":\"<b>Sexo de jefatura del hogar</b>=hombre<br>anio=2013<br>thogar=%{x}<br>Hogares(%)=%{text}<extra></extra>\",\"legendgroup\":\"hombre\",\"marker\":{\"color\":\"#00cc96\",\"pattern\":{\"shape\":\"\"}},\"name\":\"hombre\",\"offsetgroup\":\"hombre\",\"orientation\":\"v\",\"showlegend\":false,\"text\":[1.3,46.6,1.8,14.0],\"textposition\":\"auto\",\"x\":[\"nuclear monoparental\",\"nuclear biparental\",\"extenso monoparental\",\"extenso biparental\"],\"xaxis\":\"x4\",\"y\":[1.3,46.6,1.8,14.0],\"yaxis\":\"y4\",\"type\":\"bar\"},{\"alignmentgroup\":\"True\",\"error_y\":{\"array\":[0.0136333916972166,0.4564765059800021,0.0222322158862912,0.1464122541508132],\"arrayminus\":[0.0108092824519295,0.4398480161587026,0.0183123597278465,0.1360503338261069]},\"hovertemplate\":\"<b>Sexo de jefatura del hogar</b>=hombre<br>anio=2015<br>thogar=%{x}<br>Hogares(%)=%{text}<extra></extra>\",\"legendgroup\":\"hombre\",\"marker\":{\"color\":\"#00cc96\",\"pattern\":{\"shape\":\"\"}},\"name\":\"hombre\",\"offsetgroup\":\"hombre\",\"orientation\":\"v\",\"showlegend\":false,\"text\":[1.2,44.8,2.0,14.1],\"textposition\":\"auto\",\"x\":[\"nuclear monoparental\",\"nuclear biparental\",\"extenso monoparental\",\"extenso biparental\"],\"xaxis\":\"x3\",\"y\":[1.2,44.8,2.0,14.1],\"yaxis\":\"y3\",\"type\":\"bar\"},{\"alignmentgroup\":\"True\",\"error_y\":{\"array\":[0.0161228944199166,0.4284042088110698,0.0220971576621259,0.1278697451971759],\"arrayminus\":[0.0125833211278829,0.4105255999541884,0.0179090565621168,0.117537050980586]},\"hovertemplate\":\"<b>Sexo de jefatura del hogar</b>=hombre<br>anio=2017<br>thogar=%{x}<br>Hogares(%)=%{text}<extra></extra>\",\"legendgroup\":\"hombre\",\"marker\":{\"color\":\"#00cc96\",\"pattern\":{\"shape\":\"\"}},\"name\":\"hombre\",\"offsetgroup\":\"hombre\",\"orientation\":\"v\",\"showlegend\":false,\"text\":[1.4,41.9,2.0,12.3],\"textposition\":\"auto\",\"x\":[\"nuclear monoparental\",\"nuclear biparental\",\"extenso monoparental\",\"extenso biparental\"],\"xaxis\":\"x2\",\"y\":[1.4,41.9,2.0,12.3],\"yaxis\":\"y2\",\"type\":\"bar\"},{\"alignmentgroup\":\"True\",\"error_y\":{\"array\":[0.016437515598382,0.3675587901453143,0.0239747201472544,0.1001952648274266],\"arrayminus\":[0.012712511134839,0.3285400538636914,0.0191710718845926,0.0898705964486088]},\"hovertemplate\":\"<b>Sexo de jefatura del hogar</b>=hombre<br>anio=2020<br>thogar=%{x}<br>Hogares(%)=%{text}<extra></extra>\",\"legendgroup\":\"hombre\",\"marker\":{\"color\":\"#00cc96\",\"pattern\":{\"shape\":\"\"}},\"name\":\"hombre\",\"offsetgroup\":\"hombre\",\"orientation\":\"v\",\"showlegend\":false,\"text\":[1.4,34.8,2.1,9.5],\"textposition\":\"auto\",\"x\":[\"nuclear monoparental\",\"nuclear biparental\",\"extenso monoparental\",\"extenso biparental\"],\"xaxis\":\"x\",\"y\":[1.4,34.8,2.1,9.5],\"yaxis\":\"y\",\"type\":\"bar\"},{\"alignmentgroup\":\"True\",\"error_y\":{\"array\":[0.0902005597233014,0.0048494351546967,0.0705845345921739,0.0023520350620015],\"arrayminus\":[0.0798892101029161,0.0024700304053927,0.0613664064923237,0.0009511662469105]},\"hovertemplate\":\"<b>Sexo de jefatura del hogar</b>=mujer<br>anio=1990<br>thogar=%{x}<br>Hogares(%)=%{text}<extra></extra>\",\"legendgroup\":\"mujer\",\"marker\":{\"color\":\"#ab63fa\",\"pattern\":{\"shape\":\"\"}},\"name\":\"mujer\",\"offsetgroup\":\"mujer\",\"orientation\":\"v\",\"showlegend\":true,\"text\":[8.5,0.3,6.6,0.1],\"textposition\":\"auto\",\"x\":[\"nuclear monoparental\",\"nuclear biparental\",\"extenso monoparental\",\"extenso biparental\"],\"xaxis\":\"x12\",\"y\":[8.5,0.3,6.6,0.1],\"yaxis\":\"y12\",\"type\":\"bar\"},{\"alignmentgroup\":\"True\",\"error_y\":{\"array\":[0.0968270452916574,0.0083630178075817,0.0648429402953169,0.0035086010116105],\"arrayminus\":[0.0871375239346407,0.0052164307873477,0.0570544978853291,0.0018176689551654]},\"hovertemplate\":\"<b>Sexo de jefatura del hogar</b>=mujer<br>anio=1992<br>thogar=%{x}<br>Hogares(%)=%{text}<extra></extra>\",\"legendgroup\":\"mujer\",\"marker\":{\"color\":\"#ab63fa\",\"pattern\":{\"shape\":\"\"}},\"name\":\"mujer\",\"offsetgroup\":\"mujer\",\"orientation\":\"v\",\"showlegend\":false,\"text\":[9.2,0.7,6.1,0.3],\"textposition\":\"auto\",\"x\":[\"nuclear monoparental\",\"nuclear biparental\",\"extenso monoparental\",\"extenso biparental\"],\"xaxis\":\"x11\",\"y\":[9.2,0.7,6.1,0.3],\"yaxis\":\"y11\",\"type\":\"bar\"},{\"alignmentgroup\":\"True\",\"error_y\":{\"array\":[0.0926006659679738,0.013740730975311,0.0654298273301851,0.0061501240410461],\"arrayminus\":[0.0831459481375806,0.0099772148199955,0.0573902862370134,0.0038032351826548]},\"hovertemplate\":\"<b>Sexo de jefatura del hogar</b>=mujer<br>anio=1994<br>thogar=%{x}<br>Hogares(%)=%{text}<extra></extra>\",\"legendgroup\":\"mujer\",\"marker\":{\"color\":\"#ab63fa\",\"pattern\":{\"shape\":\"\"}},\"name\":\"mujer\",\"offsetgroup\":\"mujer\",\"orientation\":\"v\",\"showlegend\":false,\"text\":[8.8,1.2,6.1,0.5],\"textposition\":\"auto\",\"x\":[\"nuclear monoparental\",\"nuclear biparental\",\"extenso monoparental\",\"extenso biparental\"],\"xaxis\":\"x10\",\"y\":[8.8,1.2,6.1,0.5],\"yaxis\":\"y10\",\"type\":\"bar\"},{\"alignmentgroup\":\"True\",\"error_y\":{\"array\":[0.0827810773794569,0.0256343836514724,0.0638387419554395,0.0090840909592578],\"arrayminus\":[0.0711822760797929,0.0182995751568981,0.0546669590924094,0.0054709984983757]},\"hovertemplate\":\"<b>Sexo de jefatura del hogar</b>=mujer<br>anio=1996<br>thogar=%{x}<br>Hogares(%)=%{text}<extra></extra>\",\"legendgroup\":\"mujer\",\"marker\":{\"color\":\"#ab63fa\",\"pattern\":{\"shape\":\"\"}},\"name\":\"mujer\",\"offsetgroup\":\"mujer\",\"orientation\":\"v\",\"showlegend\":false,\"text\":[7.7,2.2,5.9,0.7],\"textposition\":\"auto\",\"x\":[\"nuclear monoparental\",\"nuclear biparental\",\"extenso monoparental\",\"extenso biparental\"],\"xaxis\":\"x9\",\"y\":[7.7,2.2,5.9,0.7],\"yaxis\":\"y9\",\"type\":\"bar\"},{\"alignmentgroup\":\"True\",\"error_y\":{\"array\":[0.0928750051448472,0.0205034357671639,0.0734989302248842,0.0072633491138098],\"arrayminus\":[0.0826747677602254,0.0153532505532845,0.065080872328689,0.0050252664891316]},\"hovertemplate\":\"<b>Sexo de jefatura del hogar</b>=mujer<br>anio=1998<br>thogar=%{x}<br>Hogares(%)=%{text}<extra></extra>\",\"legendgroup\":\"mujer\",\"marker\":{\"color\":\"#ab63fa\",\"pattern\":{\"shape\":\"\"}},\"name\":\"mujer\",\"offsetgroup\":\"mujer\",\"orientation\":\"v\",\"showlegend\":false,\"text\":[8.8,1.8,6.9,0.6],\"textposition\":\"auto\",\"x\":[\"nuclear monoparental\",\"nuclear biparental\",\"extenso monoparental\",\"extenso biparental\"],\"xaxis\":\"x8\",\"y\":[8.8,1.8,6.9,0.6],\"yaxis\":\"y8\",\"type\":\"bar\"},{\"alignmentgroup\":\"True\",\"error_y\":{\"array\":[0.0856424299870275,0.0261877845506007,0.0806353116455933,0.0113783981317365],\"arrayminus\":[0.0757856029516265,0.0205883710840008,0.070327782611551,0.0083004996296881]},\"hovertemplate\":\"<b>Sexo de jefatura del hogar</b>=mujer<br>anio=2000<br>thogar=%{x}<br>Hogares(%)=%{text}<extra></extra>\",\"legendgroup\":\"mujer\",\"marker\":{\"color\":\"#ab63fa\",\"pattern\":{\"shape\":\"\"}},\"name\":\"mujer\",\"offsetgroup\":\"mujer\",\"orientation\":\"v\",\"showlegend\":false,\"text\":[8.1,2.3,7.5,1.0],\"textposition\":\"auto\",\"x\":[\"nuclear monoparental\",\"nuclear biparental\",\"extenso monoparental\",\"extenso biparental\"],\"xaxis\":\"x7\",\"y\":[8.1,2.3,7.5,1.0],\"yaxis\":\"y7\",\"type\":\"bar\"},{\"alignmentgroup\":\"True\",\"error_y\":{\"array\":[0.1005163071612669,0.0383075952266827,0.0753108862784612,0.0141444253494985],\"arrayminus\":[0.0901421844843217,0.0321715186696229,0.0666931863279856,0.0106247747952646]},\"hovertemplate\":\"<b>Sexo de jefatura del hogar</b>=mujer<br>anio=2003<br>thogar=%{x}<br>Hogares(%)=%{text}<extra></extra>\",\"legendgroup\":\"mujer\",\"marker\":{\"color\":\"#ab63fa\",\"pattern\":{\"shape\":\"\"}},\"name\":\"mujer\",\"offsetgroup\":\"mujer\",\"orientation\":\"v\",\"showlegend\":false,\"text\":[9.5,3.5,7.1,1.2],\"textposition\":\"auto\",\"x\":[\"nuclear monoparental\",\"nuclear biparental\",\"extenso monoparental\",\"extenso biparental\"],\"xaxis\":\"x6\",\"y\":[9.5,3.5,7.1,1.2],\"yaxis\":\"y6\",\"type\":\"bar\"},{\"alignmentgroup\":\"True\",\"error_y\":{\"array\":[0.1495971243714593,0.0619251204026167,0.0871546471492313,0.0191541876172059],\"arrayminus\":[0.1377114268236572,0.0538586736600741,0.0781478374507605,0.0150740508993514]},\"hovertemplate\":\"<b>Sexo de jefatura del hogar</b>=mujer<br>anio=2009<br>thogar=%{x}<br>Hogares(%)=%{text}<extra></extra>\",\"legendgroup\":\"mujer\",\"marker\":{\"color\":\"#ab63fa\",\"pattern\":{\"shape\":\"\"}},\"name\":\"mujer\",\"offsetgroup\":\"mujer\",\"orientation\":\"v\",\"showlegend\":false,\"text\":[14.4,5.8,8.3,1.7],\"textposition\":\"auto\",\"x\":[\"nuclear monoparental\",\"nuclear biparental\",\"extenso monoparental\",\"extenso biparental\"],\"xaxis\":\"x5\",\"y\":[14.4,5.8,8.3,1.7],\"yaxis\":\"y5\",\"type\":\"bar\"},{\"alignmentgroup\":\"True\",\"error_y\":{\"array\":[0.1856966073351226,0.0743256921760544,0.0998518842078121,0.0264238157337533],\"arrayminus\":[0.1690656648230269,0.0647324155374049,0.088133176251192,0.0212667744549641]},\"hovertemplate\":\"<b>Sexo de jefatura del hogar</b>=mujer<br>anio=2013<br>thogar=%{x}<br>Hogares(%)=%{text}<extra></extra>\",\"legendgroup\":\"mujer\",\"marker\":{\"color\":\"#ab63fa\",\"pattern\":{\"shape\":\"\"}},\"name\":\"mujer\",\"offsetgroup\":\"mujer\",\"orientation\":\"v\",\"showlegend\":false,\"text\":[17.7,6.9,9.4,2.4],\"textposition\":\"auto\",\"x\":[\"nuclear monoparental\",\"nuclear biparental\",\"extenso monoparental\",\"extenso biparental\"],\"xaxis\":\"x4\",\"y\":[17.7,6.9,9.4,2.4],\"yaxis\":\"y4\",\"type\":\"bar\"},{\"alignmentgroup\":\"True\",\"error_y\":{\"array\":[0.1796629169821865,0.0782807612569411,0.1076765934618216,0.0302254908708431],\"arrayminus\":[0.1678782469856833,0.0704924248748561,0.0980264674081595,0.0252789046982438]},\"hovertemplate\":\"<b>Sexo de jefatura del hogar</b>=mujer<br>anio=2015<br>thogar=%{x}<br>Hogares(%)=%{text}<extra></extra>\",\"legendgroup\":\"mujer\",\"marker\":{\"color\":\"#ab63fa\",\"pattern\":{\"shape\":\"\"}},\"name\":\"mujer\",\"offsetgroup\":\"mujer\",\"orientation\":\"v\",\"showlegend\":false,\"text\":[17.4,7.4,10.3,2.8],\"textposition\":\"auto\",\"x\":[\"nuclear monoparental\",\"nuclear biparental\",\"extenso monoparental\",\"extenso biparental\"],\"xaxis\":\"x3\",\"y\":[17.4,7.4,10.3,2.8],\"yaxis\":\"y3\",\"type\":\"bar\"},{\"alignmentgroup\":\"True\",\"error_y\":{\"array\":[0.1970545246791717,0.1093378977403557,0.1032931182655267,0.0360350279823306],\"arrayminus\":[0.181242693635539,0.0989550668386327,0.0929459455034614,0.0297723111397785]},\"hovertemplate\":\"<b>Sexo de jefatura del hogar</b>=mujer<br>anio=2017<br>thogar=%{x}<br>Hogares(%)=%{text}<extra></extra>\",\"legendgroup\":\"mujer\",\"marker\":{\"color\":\"#ab63fa\",\"pattern\":{\"shape\":\"\"}},\"name\":\"mujer\",\"offsetgroup\":\"mujer\",\"orientation\":\"v\",\"showlegend\":false,\"text\":[18.9,10.4,9.8,3.3],\"textposition\":\"auto\",\"x\":[\"nuclear monoparental\",\"nuclear biparental\",\"extenso monoparental\",\"extenso biparental\"],\"xaxis\":\"x2\",\"y\":[18.9,10.4,9.8,3.3],\"yaxis\":\"y2\",\"type\":\"bar\"},{\"alignmentgroup\":\"True\",\"error_y\":{\"array\":[0.2527666451506578,0.1336622122969262,0.121710120090601,0.0403427297036251],\"arrayminus\":[0.2315383460139108,0.1204581412741219,0.1094669631231581,0.0340064520845447]},\"hovertemplate\":\"<b>Sexo de jefatura del hogar</b>=mujer<br>anio=2020<br>thogar=%{x}<br>Hogares(%)=%{text}<extra></extra>\",\"legendgroup\":\"mujer\",\"marker\":{\"color\":\"#ab63fa\",\"pattern\":{\"shape\":\"\"}},\"name\":\"mujer\",\"offsetgroup\":\"mujer\",\"orientation\":\"v\",\"showlegend\":false,\"text\":[24.2,12.7,11.5,3.7],\"textposition\":\"auto\",\"x\":[\"nuclear monoparental\",\"nuclear biparental\",\"extenso monoparental\",\"extenso biparental\"],\"xaxis\":\"x\",\"y\":[24.2,12.7,11.5,3.7],\"yaxis\":\"y\",\"type\":\"bar\"}],                        {\"template\":{\"data\":{\"barpolar\":[{\"marker\":{\"line\":{\"color\":\"#E5ECF6\",\"width\":0.5},\"pattern\":{\"fillmode\":\"overlay\",\"size\":10,\"solidity\":0.2}},\"type\":\"barpolar\"}],\"bar\":[{\"error_x\":{\"color\":\"#2a3f5f\"},\"error_y\":{\"color\":\"#2a3f5f\"},\"marker\":{\"line\":{\"color\":\"#E5ECF6\",\"width\":0.5},\"pattern\":{\"fillmode\":\"overlay\",\"size\":10,\"solidity\":0.2}},\"type\":\"bar\"}],\"carpet\":[{\"aaxis\":{\"endlinecolor\":\"#2a3f5f\",\"gridcolor\":\"white\",\"linecolor\":\"white\",\"minorgridcolor\":\"white\",\"startlinecolor\":\"#2a3f5f\"},\"baxis\":{\"endlinecolor\":\"#2a3f5f\",\"gridcolor\":\"white\",\"linecolor\":\"white\",\"minorgridcolor\":\"white\",\"startlinecolor\":\"#2a3f5f\"},\"type\":\"carpet\"}],\"choropleth\":[{\"colorbar\":{\"outlinewidth\":0,\"ticks\":\"\"},\"type\":\"choropleth\"}],\"contourcarpet\":[{\"colorbar\":{\"outlinewidth\":0,\"ticks\":\"\"},\"type\":\"contourcarpet\"}],\"contour\":[{\"colorbar\":{\"outlinewidth\":0,\"ticks\":\"\"},\"colorscale\":[[0.0,\"#0d0887\"],[0.1111111111111111,\"#46039f\"],[0.2222222222222222,\"#7201a8\"],[0.3333333333333333,\"#9c179e\"],[0.4444444444444444,\"#bd3786\"],[0.5555555555555556,\"#d8576b\"],[0.6666666666666666,\"#ed7953\"],[0.7777777777777778,\"#fb9f3a\"],[0.8888888888888888,\"#fdca26\"],[1.0,\"#f0f921\"]],\"type\":\"contour\"}],\"heatmapgl\":[{\"colorbar\":{\"outlinewidth\":0,\"ticks\":\"\"},\"colorscale\":[[0.0,\"#0d0887\"],[0.1111111111111111,\"#46039f\"],[0.2222222222222222,\"#7201a8\"],[0.3333333333333333,\"#9c179e\"],[0.4444444444444444,\"#bd3786\"],[0.5555555555555556,\"#d8576b\"],[0.6666666666666666,\"#ed7953\"],[0.7777777777777778,\"#fb9f3a\"],[0.8888888888888888,\"#fdca26\"],[1.0,\"#f0f921\"]],\"type\":\"heatmapgl\"}],\"heatmap\":[{\"colorbar\":{\"outlinewidth\":0,\"ticks\":\"\"},\"colorscale\":[[0.0,\"#0d0887\"],[0.1111111111111111,\"#46039f\"],[0.2222222222222222,\"#7201a8\"],[0.3333333333333333,\"#9c179e\"],[0.4444444444444444,\"#bd3786\"],[0.5555555555555556,\"#d8576b\"],[0.6666666666666666,\"#ed7953\"],[0.7777777777777778,\"#fb9f3a\"],[0.8888888888888888,\"#fdca26\"],[1.0,\"#f0f921\"]],\"type\":\"heatmap\"}],\"histogram2dcontour\":[{\"colorbar\":{\"outlinewidth\":0,\"ticks\":\"\"},\"colorscale\":[[0.0,\"#0d0887\"],[0.1111111111111111,\"#46039f\"],[0.2222222222222222,\"#7201a8\"],[0.3333333333333333,\"#9c179e\"],[0.4444444444444444,\"#bd3786\"],[0.5555555555555556,\"#d8576b\"],[0.6666666666666666,\"#ed7953\"],[0.7777777777777778,\"#fb9f3a\"],[0.8888888888888888,\"#fdca26\"],[1.0,\"#f0f921\"]],\"type\":\"histogram2dcontour\"}],\"histogram2d\":[{\"colorbar\":{\"outlinewidth\":0,\"ticks\":\"\"},\"colorscale\":[[0.0,\"#0d0887\"],[0.1111111111111111,\"#46039f\"],[0.2222222222222222,\"#7201a8\"],[0.3333333333333333,\"#9c179e\"],[0.4444444444444444,\"#bd3786\"],[0.5555555555555556,\"#d8576b\"],[0.6666666666666666,\"#ed7953\"],[0.7777777777777778,\"#fb9f3a\"],[0.8888888888888888,\"#fdca26\"],[1.0,\"#f0f921\"]],\"type\":\"histogram2d\"}],\"histogram\":[{\"marker\":{\"pattern\":{\"fillmode\":\"overlay\",\"size\":10,\"solidity\":0.2}},\"type\":\"histogram\"}],\"mesh3d\":[{\"colorbar\":{\"outlinewidth\":0,\"ticks\":\"\"},\"type\":\"mesh3d\"}],\"parcoords\":[{\"line\":{\"colorbar\":{\"outlinewidth\":0,\"ticks\":\"\"}},\"type\":\"parcoords\"}],\"pie\":[{\"automargin\":true,\"type\":\"pie\"}],\"scatter3d\":[{\"line\":{\"colorbar\":{\"outlinewidth\":0,\"ticks\":\"\"}},\"marker\":{\"colorbar\":{\"outlinewidth\":0,\"ticks\":\"\"}},\"type\":\"scatter3d\"}],\"scattercarpet\":[{\"marker\":{\"colorbar\":{\"outlinewidth\":0,\"ticks\":\"\"}},\"type\":\"scattercarpet\"}],\"scattergeo\":[{\"marker\":{\"colorbar\":{\"outlinewidth\":0,\"ticks\":\"\"}},\"type\":\"scattergeo\"}],\"scattergl\":[{\"marker\":{\"colorbar\":{\"outlinewidth\":0,\"ticks\":\"\"}},\"type\":\"scattergl\"}],\"scattermapbox\":[{\"marker\":{\"colorbar\":{\"outlinewidth\":0,\"ticks\":\"\"}},\"type\":\"scattermapbox\"}],\"scatterpolargl\":[{\"marker\":{\"colorbar\":{\"outlinewidth\":0,\"ticks\":\"\"}},\"type\":\"scatterpolargl\"}],\"scatterpolar\":[{\"marker\":{\"colorbar\":{\"outlinewidth\":0,\"ticks\":\"\"}},\"type\":\"scatterpolar\"}],\"scatter\":[{\"marker\":{\"colorbar\":{\"outlinewidth\":0,\"ticks\":\"\"}},\"type\":\"scatter\"}],\"scatterternary\":[{\"marker\":{\"colorbar\":{\"outlinewidth\":0,\"ticks\":\"\"}},\"type\":\"scatterternary\"}],\"surface\":[{\"colorbar\":{\"outlinewidth\":0,\"ticks\":\"\"},\"colorscale\":[[0.0,\"#0d0887\"],[0.1111111111111111,\"#46039f\"],[0.2222222222222222,\"#7201a8\"],[0.3333333333333333,\"#9c179e\"],[0.4444444444444444,\"#bd3786\"],[0.5555555555555556,\"#d8576b\"],[0.6666666666666666,\"#ed7953\"],[0.7777777777777778,\"#fb9f3a\"],[0.8888888888888888,\"#fdca26\"],[1.0,\"#f0f921\"]],\"type\":\"surface\"}],\"table\":[{\"cells\":{\"fill\":{\"color\":\"#EBF0F8\"},\"line\":{\"color\":\"white\"}},\"header\":{\"fill\":{\"color\":\"#C8D4E3\"},\"line\":{\"color\":\"white\"}},\"type\":\"table\"}]},\"layout\":{\"annotationdefaults\":{\"arrowcolor\":\"#2a3f5f\",\"arrowhead\":0,\"arrowwidth\":1},\"autotypenumbers\":\"strict\",\"coloraxis\":{\"colorbar\":{\"outlinewidth\":0,\"ticks\":\"\"}},\"colorscale\":{\"diverging\":[[0,\"#8e0152\"],[0.1,\"#c51b7d\"],[0.2,\"#de77ae\"],[0.3,\"#f1b6da\"],[0.4,\"#fde0ef\"],[0.5,\"#f7f7f7\"],[0.6,\"#e6f5d0\"],[0.7,\"#b8e186\"],[0.8,\"#7fbc41\"],[0.9,\"#4d9221\"],[1,\"#276419\"]],\"sequential\":[[0.0,\"#0d0887\"],[0.1111111111111111,\"#46039f\"],[0.2222222222222222,\"#7201a8\"],[0.3333333333333333,\"#9c179e\"],[0.4444444444444444,\"#bd3786\"],[0.5555555555555556,\"#d8576b\"],[0.6666666666666666,\"#ed7953\"],[0.7777777777777778,\"#fb9f3a\"],[0.8888888888888888,\"#fdca26\"],[1.0,\"#f0f921\"]],\"sequentialminus\":[[0.0,\"#0d0887\"],[0.1111111111111111,\"#46039f\"],[0.2222222222222222,\"#7201a8\"],[0.3333333333333333,\"#9c179e\"],[0.4444444444444444,\"#bd3786\"],[0.5555555555555556,\"#d8576b\"],[0.6666666666666666,\"#ed7953\"],[0.7777777777777778,\"#fb9f3a\"],[0.8888888888888888,\"#fdca26\"],[1.0,\"#f0f921\"]]},\"colorway\":[\"#636efa\",\"#EF553B\",\"#00cc96\",\"#ab63fa\",\"#FFA15A\",\"#19d3f3\",\"#FF6692\",\"#B6E880\",\"#FF97FF\",\"#FECB52\"],\"font\":{\"color\":\"#2a3f5f\"},\"geo\":{\"bgcolor\":\"white\",\"lakecolor\":\"white\",\"landcolor\":\"#E5ECF6\",\"showlakes\":true,\"showland\":true,\"subunitcolor\":\"white\"},\"hoverlabel\":{\"align\":\"left\"},\"hovermode\":\"closest\",\"mapbox\":{\"style\":\"light\"},\"paper_bgcolor\":\"white\",\"plot_bgcolor\":\"#E5ECF6\",\"polar\":{\"angularaxis\":{\"gridcolor\":\"white\",\"linecolor\":\"white\",\"ticks\":\"\"},\"bgcolor\":\"#E5ECF6\",\"radialaxis\":{\"gridcolor\":\"white\",\"linecolor\":\"white\",\"ticks\":\"\"}},\"scene\":{\"xaxis\":{\"backgroundcolor\":\"#E5ECF6\",\"gridcolor\":\"white\",\"gridwidth\":2,\"linecolor\":\"white\",\"showbackground\":true,\"ticks\":\"\",\"zerolinecolor\":\"white\"},\"yaxis\":{\"backgroundcolor\":\"#E5ECF6\",\"gridcolor\":\"white\",\"gridwidth\":2,\"linecolor\":\"white\",\"showbackground\":true,\"ticks\":\"\",\"zerolinecolor\":\"white\"},\"zaxis\":{\"backgroundcolor\":\"#E5ECF6\",\"gridcolor\":\"white\",\"gridwidth\":2,\"linecolor\":\"white\",\"showbackground\":true,\"ticks\":\"\",\"zerolinecolor\":\"white\"}},\"shapedefaults\":{\"line\":{\"color\":\"#2a3f5f\"}},\"ternary\":{\"aaxis\":{\"gridcolor\":\"white\",\"linecolor\":\"white\",\"ticks\":\"\"},\"baxis\":{\"gridcolor\":\"white\",\"linecolor\":\"white\",\"ticks\":\"\"},\"bgcolor\":\"#E5ECF6\",\"caxis\":{\"gridcolor\":\"white\",\"linecolor\":\"white\",\"ticks\":\"\"}},\"title\":{\"x\":0.05},\"xaxis\":{\"automargin\":true,\"gridcolor\":\"white\",\"linecolor\":\"white\",\"ticks\":\"\",\"title\":{\"standoff\":15},\"zerolinecolor\":\"white\",\"zerolinewidth\":2},\"yaxis\":{\"automargin\":true,\"gridcolor\":\"white\",\"linecolor\":\"white\",\"ticks\":\"\",\"title\":{\"standoff\":15},\"zerolinecolor\":\"white\",\"zerolinewidth\":2}}},\"xaxis\":{\"anchor\":\"y\",\"domain\":[0.0,0.98],\"title\":{},\"showgrid\":true,\"tickangle\":0},\"yaxis\":{\"anchor\":\"x\",\"domain\":[0.0,0.05583333333333333],\"title\":{\"text\":\"Hogares(%)\",\"font\":{\"size\":10},\"standoff\":8}},\"xaxis2\":{\"anchor\":\"y2\",\"domain\":[0.0,0.98],\"matches\":\"x\",\"showticklabels\":false,\"title\":{},\"showgrid\":true,\"tickangle\":0},\"yaxis2\":{\"anchor\":\"x2\",\"domain\":[0.08583333333333333,0.14166666666666666],\"matches\":\"y\",\"title\":{\"text\":\"Hogares(%)\",\"font\":{\"size\":10},\"standoff\":8}},\"xaxis3\":{\"anchor\":\"y3\",\"domain\":[0.0,0.98],\"matches\":\"x\",\"showticklabels\":false,\"title\":{},\"showgrid\":true,\"tickangle\":0},\"yaxis3\":{\"anchor\":\"x3\",\"domain\":[0.17166666666666666,0.22749999999999998],\"matches\":\"y\",\"title\":{\"text\":\"Hogares(%)\",\"font\":{\"size\":10},\"standoff\":8}},\"xaxis4\":{\"anchor\":\"y4\",\"domain\":[0.0,0.98],\"matches\":\"x\",\"showticklabels\":false,\"title\":{},\"showgrid\":true,\"tickangle\":0},\"yaxis4\":{\"anchor\":\"x4\",\"domain\":[0.25749999999999995,0.3133333333333333],\"matches\":\"y\",\"title\":{\"text\":\"Hogares(%)\",\"font\":{\"size\":10},\"standoff\":8}},\"xaxis5\":{\"anchor\":\"y5\",\"domain\":[0.0,0.98],\"matches\":\"x\",\"showticklabels\":false,\"title\":{},\"showgrid\":true,\"tickangle\":0},\"yaxis5\":{\"anchor\":\"x5\",\"domain\":[0.3433333333333333,0.39916666666666667],\"matches\":\"y\",\"title\":{\"text\":\"Hogares(%)\",\"font\":{\"size\":10},\"standoff\":8}},\"xaxis6\":{\"anchor\":\"y6\",\"domain\":[0.0,0.98],\"matches\":\"x\",\"showticklabels\":false,\"title\":{},\"showgrid\":true,\"tickangle\":0},\"yaxis6\":{\"anchor\":\"x6\",\"domain\":[0.4291666666666667,0.48500000000000004],\"matches\":\"y\",\"title\":{\"text\":\"Hogares(%)\",\"font\":{\"size\":10},\"standoff\":8}},\"xaxis7\":{\"anchor\":\"y7\",\"domain\":[0.0,0.98],\"matches\":\"x\",\"showticklabels\":false,\"title\":{},\"showgrid\":true,\"tickangle\":0},\"yaxis7\":{\"anchor\":\"x7\",\"domain\":[0.515,0.5708333333333333],\"matches\":\"y\",\"title\":{\"text\":\"Hogares(%)\",\"font\":{\"size\":10},\"standoff\":8}},\"xaxis8\":{\"anchor\":\"y8\",\"domain\":[0.0,0.98],\"matches\":\"x\",\"showticklabels\":false,\"title\":{},\"showgrid\":true,\"tickangle\":0},\"yaxis8\":{\"anchor\":\"x8\",\"domain\":[0.6008333333333333,0.6566666666666666],\"matches\":\"y\",\"title\":{\"text\":\"Hogares(%)\",\"font\":{\"size\":10},\"standoff\":8}},\"xaxis9\":{\"anchor\":\"y9\",\"domain\":[0.0,0.98],\"matches\":\"x\",\"showticklabels\":false,\"title\":{},\"showgrid\":true,\"tickangle\":0},\"yaxis9\":{\"anchor\":\"x9\",\"domain\":[0.6866666666666668,0.7425],\"matches\":\"y\",\"title\":{\"text\":\"Hogares(%)\",\"font\":{\"size\":10},\"standoff\":8}},\"xaxis10\":{\"anchor\":\"y10\",\"domain\":[0.0,0.98],\"matches\":\"x\",\"showticklabels\":false,\"title\":{},\"showgrid\":true,\"tickangle\":0},\"yaxis10\":{\"anchor\":\"x10\",\"domain\":[0.7725000000000001,0.8283333333333334],\"matches\":\"y\",\"title\":{\"text\":\"Hogares(%)\",\"font\":{\"size\":10},\"standoff\":8}},\"xaxis11\":{\"anchor\":\"y11\",\"domain\":[0.0,0.98],\"matches\":\"x\",\"showticklabels\":false,\"title\":{},\"showgrid\":true,\"tickangle\":0},\"yaxis11\":{\"anchor\":\"x11\",\"domain\":[0.8583333333333334,0.9141666666666667],\"matches\":\"y\",\"title\":{\"text\":\"Hogares(%)\",\"font\":{\"size\":10},\"standoff\":8}},\"xaxis12\":{\"anchor\":\"y12\",\"domain\":[0.0,0.98],\"matches\":\"x\",\"showticklabels\":false,\"title\":{},\"showgrid\":true,\"tickangle\":0},\"yaxis12\":{\"anchor\":\"x12\",\"domain\":[0.9441666666666666,0.9999999999999999],\"matches\":\"y\",\"title\":{\"text\":\"Hogares(%)\",\"font\":{\"size\":10},\"standoff\":8}},\"annotations\":[{\"font\":{},\"showarrow\":false,\"text\":\"2020\",\"textangle\":90,\"x\":0.98,\"xanchor\":\"left\",\"xref\":\"paper\",\"y\":0.027916666666666666,\"yanchor\":\"middle\",\"yref\":\"paper\"},{\"font\":{},\"showarrow\":false,\"text\":\"2017\",\"textangle\":90,\"x\":0.98,\"xanchor\":\"left\",\"xref\":\"paper\",\"y\":0.11374999999999999,\"yanchor\":\"middle\",\"yref\":\"paper\"},{\"font\":{},\"showarrow\":false,\"text\":\"2015\",\"textangle\":90,\"x\":0.98,\"xanchor\":\"left\",\"xref\":\"paper\",\"y\":0.19958333333333333,\"yanchor\":\"middle\",\"yref\":\"paper\"},{\"font\":{},\"showarrow\":false,\"text\":\"2013\",\"textangle\":90,\"x\":0.98,\"xanchor\":\"left\",\"xref\":\"paper\",\"y\":0.28541666666666665,\"yanchor\":\"middle\",\"yref\":\"paper\"},{\"font\":{},\"showarrow\":false,\"text\":\"2009\",\"textangle\":90,\"x\":0.98,\"xanchor\":\"left\",\"xref\":\"paper\",\"y\":0.37124999999999997,\"yanchor\":\"middle\",\"yref\":\"paper\"},{\"font\":{},\"showarrow\":false,\"text\":\"2003\",\"textangle\":90,\"x\":0.98,\"xanchor\":\"left\",\"xref\":\"paper\",\"y\":0.4570833333333334,\"yanchor\":\"middle\",\"yref\":\"paper\"},{\"font\":{},\"showarrow\":false,\"text\":\"2000\",\"textangle\":90,\"x\":0.98,\"xanchor\":\"left\",\"xref\":\"paper\",\"y\":0.5429166666666667,\"yanchor\":\"middle\",\"yref\":\"paper\"},{\"font\":{},\"showarrow\":false,\"text\":\"1998\",\"textangle\":90,\"x\":0.98,\"xanchor\":\"left\",\"xref\":\"paper\",\"y\":0.6287499999999999,\"yanchor\":\"middle\",\"yref\":\"paper\"},{\"font\":{},\"showarrow\":false,\"text\":\"1996\",\"textangle\":90,\"x\":0.98,\"xanchor\":\"left\",\"xref\":\"paper\",\"y\":0.7145833333333333,\"yanchor\":\"middle\",\"yref\":\"paper\"},{\"font\":{},\"showarrow\":false,\"text\":\"1994\",\"textangle\":90,\"x\":0.98,\"xanchor\":\"left\",\"xref\":\"paper\",\"y\":0.8004166666666668,\"yanchor\":\"middle\",\"yref\":\"paper\"},{\"font\":{},\"showarrow\":false,\"text\":\"1992\",\"textangle\":90,\"x\":0.98,\"xanchor\":\"left\",\"xref\":\"paper\",\"y\":0.88625,\"yanchor\":\"middle\",\"yref\":\"paper\"},{\"font\":{},\"showarrow\":false,\"text\":\"1990\",\"textangle\":90,\"x\":0.98,\"xanchor\":\"left\",\"xref\":\"paper\",\"y\":0.9720833333333332,\"yanchor\":\"middle\",\"yref\":\"paper\"}],\"legend\":{\"title\":{\"text\":\"<b>Sexo de jefatura del hogar</b>\"},\"tracegroupgap\":0,\"orientation\":\"h\",\"y\":1,\"yanchor\":\"bottom\",\"x\":0.2,\"xanchor\":\"center\"},\"margin\":{\"t\":15,\"l\":10,\"r\":10,\"b\":10},\"barmode\":\"group\",\"height\":900},                        {\"responsive\": true}                    ).then(function(){\n                            \nvar gd = document.getElementById('3cffe7fd-6252-42b5-933a-4be8f4c227a9');\nvar x = new MutationObserver(function (mutations, observer) {{\n        var display = window.getComputedStyle(gd).display;\n        if (!display || display === 'none') {{\n            console.log([gd, 'removed!']);\n            Plotly.purge(gd);\n            observer.disconnect();\n        }}\n}});\n\n// Listen for the removal of the full notebook cells\nvar notebookContainer = gd.closest('#notebook-container');\nif (notebookContainer) {{\n    x.observe(notebookContainer, {childList: true});\n}}\n\n// Listen for the clearing of the current output cell\nvar outputEl = gd.closest('.output');\nif (outputEl) {{\n    x.observe(outputEl, {childList: true});\n}}\n\n                        })                };                });            </script>        </div>"
     },
     "metadata": {},
     "output_type": "display_data"
    }
   ],
   "source": [
    "df05 = pd.read_csv(rutas[4])\n",
    "fig = px.bar(df05.loc[df05.tipo_est == 'proporcion'],\n",
    "             x =  'thogar' ,\n",
    "             y = 'dato', facet_row= 'anio',\n",
    "             color = 'sexo_jefatura',\n",
    "             # facet_col_wrap=2,\n",
    "             labels = {\n",
    "                 'sexo_jefatura': '<b>Sexo de jefatura del hogar</b>',\n",
    "                 'dato': 'Hogares(%)',\n",
    "                 # 'pobreza': None\n",
    "                 # 'anio': 'Periodo'\n",
    "             },\n",
    "             error_y_minus='ic_bajo',\n",
    "             error_y='ic_alto',\n",
    "\n",
    "             color_discrete_map={\n",
    "                 'sin menores': '#2471A3',\n",
    "                 'con menores': '#E67E22'\n",
    "             },\n",
    "             text ='dato'\n",
    "\n",
    "\n",
    "             )\n",
    "fig.for_each_annotation(lambda a: a.update(text=a.text.split('=')[-1]),\n",
    "\n",
    "                        )\n",
    "fig.update_layout(template='plotly',\n",
    "\n",
    "                  height=900,\n",
    "                  # width=1100\n",
    "                  margin=\n",
    "                  dict(\n",
    "                      l=10,\n",
    "                      r=10,\n",
    "                      b=10,\n",
    "                      t=15\n",
    "                  ),\n",
    "                  barmode='group',\n",
    "                  legend=dict(\n",
    "                      # title=None,\n",
    "                      orientation='h', y=1, yanchor='bottom', x=0.2, xanchor='center'\n",
    "                  )\n",
    "                  )\n",
    "fig.update_xaxes(title=None,\n",
    "                 showgrid=True,\n",
    "                 tickangle=0,\n",
    "\n",
    "\n",
    "                 )\n",
    "fig.update_yaxes(\n",
    "    title_font_size = 10,\n",
    "    title_standoff = 8\n",
    ")\n",
    "fig.write_image('resultados/img/02_05_px.jpeg')\n",
    "fig.show()"
   ],
   "metadata": {
    "collapsed": false,
    "pycharm": {
     "name": "#%%\n"
    }
   }
  },
  {
   "cell_type": "code",
   "execution_count": 28,
   "outputs": [
    {
     "data": {
      "application/vnd.plotly.v1+json": {
       "data": [
        {
         "alignmentgroup": "True",
         "error_y": {
          "array": [
           0.0524019158815193,
           0.3979063237249701,
           0.0524453898754352,
           0.0852775330248788
          ],
          "arrayminus": [
           0.0443992890213103,
           0.3797307624248998,
           0.0443459042005883,
           0.0750836850520803
          ]
         },
         "hovertemplate": "pobreza=no pobre<br>anio=1990<br>thogar=%{x}<br>Hogares(%)=%{text}<extra></extra>",
         "legendgroup": "no pobre",
         "marker": {
          "color": "#00cc96",
          "pattern": {
           "shape": ""
          }
         },
         "name": "no pobre",
         "offsetgroup": "no pobre",
         "orientation": "v",
         "showlegend": true,
         "text": [
          4.8,
          38.9,
          4.8,
          8.0
         ],
         "textposition": "auto",
         "x": [
          "nuclear monoparental",
          "nuclear biparental",
          "extenso monoparental",
          "extenso biparental"
         ],
         "xaxis": "x12",
         "y": [
          4.8,
          38.9,
          4.8,
          8.0
         ],
         "yaxis": "y12",
         "type": "bar"
        },
        {
         "alignmentgroup": "True",
         "error_y": {
          "array": [
           0.0644852389892342,
           0.4467651936227226,
           0.0511376647586617,
           0.0839451402102082
          ],
          "arrayminus": [
           0.0564744761094402,
           0.4302809687507405,
           0.0441024677814834,
           0.0751700230148463
          ]
         },
         "hovertemplate": "pobreza=no pobre<br>anio=1992<br>thogar=%{x}<br>Hogares(%)=%{text}<extra></extra>",
         "legendgroup": "no pobre",
         "marker": {
          "color": "#00cc96",
          "pattern": {
           "shape": ""
          }
         },
         "name": "no pobre",
         "offsetgroup": "no pobre",
         "orientation": "v",
         "showlegend": false,
         "text": [
          6.0,
          43.9,
          4.7,
          7.9
         ],
         "textposition": "auto",
         "x": [
          "nuclear monoparental",
          "nuclear biparental",
          "extenso monoparental",
          "extenso biparental"
         ],
         "xaxis": "x11",
         "y": [
          6.0,
          43.9,
          4.7,
          7.9
         ],
         "yaxis": "y11",
         "type": "bar"
        },
        {
         "alignmentgroup": "True",
         "error_y": {
          "array": [
           0.0665072681838784,
           0.4776887736124053,
           0.0581883061004928,
           0.1047517342590564
          ],
          "arrayminus": [
           0.0582517535194391,
           0.4610674805894373,
           0.0504291976804233,
           0.0946787400752265
          ]
         },
         "hovertemplate": "pobreza=no pobre<br>anio=1994<br>thogar=%{x}<br>Hogares(%)=%{text}<extra></extra>",
         "legendgroup": "no pobre",
         "marker": {
          "color": "#00cc96",
          "pattern": {
           "shape": ""
          }
         },
         "name": "no pobre",
         "offsetgroup": "no pobre",
         "orientation": "v",
         "showlegend": false,
         "text": [
          6.2,
          46.9,
          5.4,
          10.0
         ],
         "textposition": "auto",
         "x": [
          "nuclear monoparental",
          "nuclear biparental",
          "extenso monoparental",
          "extenso biparental"
         ],
         "xaxis": "x10",
         "y": [
          6.2,
          46.9,
          5.4,
          10.0
         ],
         "yaxis": "y10",
         "type": "bar"
        },
        {
         "alignmentgroup": "True",
         "error_y": {
          "array": [
           0.0615922045309264,
           0.528845036401184,
           0.0593135604823479,
           0.1144956073482321
          ],
          "arrayminus": [
           0.0515422592363282,
           0.5066169774845309,
           0.05050457022186,
           0.100805611066706
          ]
         },
         "hovertemplate": "pobreza=no pobre<br>anio=1996<br>thogar=%{x}<br>Hogares(%)=%{text}<extra></extra>",
         "legendgroup": "no pobre",
         "marker": {
          "color": "#00cc96",
          "pattern": {
           "shape": ""
          }
         },
         "name": "no pobre",
         "offsetgroup": "no pobre",
         "orientation": "v",
         "showlegend": false,
         "text": [
          5.6,
          51.8,
          5.5,
          10.7
         ],
         "textposition": "auto",
         "x": [
          "nuclear monoparental",
          "nuclear biparental",
          "extenso monoparental",
          "extenso biparental"
         ],
         "xaxis": "x9",
         "y": [
          5.6,
          51.8,
          5.5,
          10.7
         ],
         "yaxis": "y9",
         "type": "bar"
        },
        {
         "alignmentgroup": "True",
         "error_y": {
          "array": [
           0.0751579634304204,
           0.5247841080765969,
           0.0685689453318669,
           0.1135160200396468
          ],
          "arrayminus": [
           0.0656692319278508,
           0.5076986531285868,
           0.0604228734168064,
           0.1032213863308399
          ]
         },
         "hovertemplate": "pobreza=no pobre<br>anio=1998<br>thogar=%{x}<br>Hogares(%)=%{text}<extra></extra>",
         "legendgroup": "no pobre",
         "marker": {
          "color": "#00cc96",
          "pattern": {
           "shape": ""
          }
         },
         "name": "no pobre",
         "offsetgroup": "no pobre",
         "orientation": "v",
         "showlegend": false,
         "text": [
          7.0,
          51.6,
          6.4,
          10.8
         ],
         "textposition": "auto",
         "x": [
          "nuclear monoparental",
          "nuclear biparental",
          "extenso monoparental",
          "extenso biparental"
         ],
         "xaxis": "x8",
         "y": [
          7.0,
          51.6,
          6.4,
          10.8
         ],
         "yaxis": "y8",
         "type": "bar"
        },
        {
         "alignmentgroup": "True",
         "error_y": {
          "array": [
           0.071039353345106,
           0.5310363871125359,
           0.0763165665257762,
           0.1205502656863785
          ],
          "arrayminus": [
           0.0617245209716078,
           0.5105736154881968,
           0.0662594529615175,
           0.1100588271304985
          ]
         },
         "hovertemplate": "pobreza=no pobre<br>anio=2000<br>thogar=%{x}<br>Hogares(%)=%{text}<extra></extra>",
         "legendgroup": "no pobre",
         "marker": {
          "color": "#00cc96",
          "pattern": {
           "shape": ""
          }
         },
         "name": "no pobre",
         "offsetgroup": "no pobre",
         "orientation": "v",
         "showlegend": false,
         "text": [
          6.6,
          52.1,
          7.1,
          11.5
         ],
         "textposition": "auto",
         "x": [
          "nuclear monoparental",
          "nuclear biparental",
          "extenso monoparental",
          "extenso biparental"
         ],
         "xaxis": "x7",
         "y": [
          6.6,
          52.1,
          7.1,
          11.5
         ],
         "yaxis": "y7",
         "type": "bar"
        },
        {
         "alignmentgroup": "True",
         "error_y": {
          "array": [
           0.0826363076814998,
           0.5270677029002019,
           0.070803797065463,
           0.1324260024989657
          ],
          "arrayminus": [
           0.0728544224036125,
           0.5079223338018294,
           0.0624721931492697,
           0.1213088505663288
          ]
         },
         "hovertemplate": "pobreza=no pobre<br>anio=2003<br>thogar=%{x}<br>Hogares(%)=%{text}<extra></extra>",
         "legendgroup": "no pobre",
         "marker": {
          "color": "#00cc96",
          "pattern": {
           "shape": ""
          }
         },
         "name": "no pobre",
         "offsetgroup": "no pobre",
         "orientation": "v",
         "showlegend": false,
         "text": [
          7.8,
          51.8,
          6.7,
          12.7
         ],
         "textposition": "auto",
         "x": [
          "nuclear monoparental",
          "nuclear biparental",
          "extenso monoparental",
          "extenso biparental"
         ],
         "xaxis": "x6",
         "y": [
          7.8,
          51.8,
          6.7,
          12.7
         ],
         "yaxis": "y6",
         "type": "bar"
        },
        {
         "alignmentgroup": "True",
         "error_y": {
          "array": [
           0.1212444619355506,
           0.507640166342907,
           0.085107151502394,
           0.1331116255675138
          ],
          "arrayminus": [
           0.1095511302809897,
           0.4900997941479377,
           0.0759098599118782,
           0.1215529395297125
          ]
         },
         "hovertemplate": "pobreza=no pobre<br>anio=2009<br>thogar=%{x}<br>Hogares(%)=%{text}<extra></extra>",
         "legendgroup": "no pobre",
         "marker": {
          "color": "#00cc96",
          "pattern": {
           "shape": ""
          }
         },
         "name": "no pobre",
         "offsetgroup": "no pobre",
         "orientation": "v",
         "showlegend": false,
         "text": [
          11.5,
          49.9,
          8.0,
          12.7
         ],
         "textposition": "auto",
         "x": [
          "nuclear monoparental",
          "nuclear biparental",
          "extenso monoparental",
          "extenso biparental"
         ],
         "xaxis": "x5",
         "y": [
          11.5,
          49.9,
          8.0,
          12.7
         ],
         "yaxis": "y5",
         "type": "bar"
        },
        {
         "alignmentgroup": "True",
         "error_y": {
          "array": [
           0.1449330225625469,
           0.4528673040059724,
           0.0966499351591652,
           0.1510740954841143
          ],
          "arrayminus": [
           0.129362551554261,
           0.4301400430471287,
           0.0831189743538288,
           0.1370515623875533
          ]
         },
         "hovertemplate": "pobreza=no pobre<br>anio=2013<br>thogar=%{x}<br>Hogares(%)=%{text}<extra></extra>",
         "legendgroup": "no pobre",
         "marker": {
          "color": "#00cc96",
          "pattern": {
           "shape": ""
          }
         },
         "name": "no pobre",
         "offsetgroup": "no pobre",
         "orientation": "v",
         "showlegend": false,
         "text": [
          13.7,
          44.1,
          9.0,
          14.4
         ],
         "textposition": "auto",
         "x": [
          "nuclear monoparental",
          "nuclear biparental",
          "extenso monoparental",
          "extenso biparental"
         ],
         "xaxis": "x4",
         "y": [
          13.7,
          44.1,
          9.0,
          14.4
         ],
         "yaxis": "y4",
         "type": "bar"
        },
        {
         "alignmentgroup": "True",
         "error_y": {
          "array": [
           0.1449770101661924,
           0.4606735055039375,
           0.1084591991503898,
           0.1585804579580838
          ],
          "arrayminus": [
           0.1340345723626139,
           0.4429604734214336,
           0.0986734880956188,
           0.1476330173227725
          ]
         },
         "hovertemplate": "pobreza=no pobre<br>anio=2015<br>thogar=%{x}<br>Hogares(%)=%{text}<extra></extra>",
         "legendgroup": "no pobre",
         "marker": {
          "color": "#00cc96",
          "pattern": {
           "shape": ""
          }
         },
         "name": "no pobre",
         "offsetgroup": "no pobre",
         "orientation": "v",
         "showlegend": false,
         "text": [
          13.9,
          45.2,
          10.3,
          15.3
         ],
         "textposition": "auto",
         "x": [
          "nuclear monoparental",
          "nuclear biparental",
          "extenso monoparental",
          "extenso biparental"
         ],
         "xaxis": "x3",
         "y": [
          13.9,
          45.2,
          10.3,
          15.3
         ],
         "yaxis": "y3",
         "type": "bar"
        },
        {
         "alignmentgroup": "True",
         "error_y": {
          "array": [
           0.1725793341153955,
           0.477538423843532,
           0.1101775273115139,
           0.151324851004179
          ],
          "arrayminus": [
           0.1574702353605978,
           0.459853502104488,
           0.0992713739734205,
           0.1392573161240135
          ]
         },
         "hovertemplate": "pobreza=no pobre<br>anio=2017<br>thogar=%{x}<br>Hogares(%)=%{text}<extra></extra>",
         "legendgroup": "no pobre",
         "marker": {
          "color": "#00cc96",
          "pattern": {
           "shape": ""
          }
         },
         "name": "no pobre",
         "offsetgroup": "no pobre",
         "orientation": "v",
         "showlegend": false,
         "text": [
          16.5,
          46.9,
          10.5,
          14.5
         ],
         "textposition": "auto",
         "x": [
          "nuclear monoparental",
          "nuclear biparental",
          "extenso monoparental",
          "extenso biparental"
         ],
         "xaxis": "x2",
         "y": [
          16.5,
          46.9,
          10.5,
          14.5
         ],
         "yaxis": "y2",
         "type": "bar"
        },
        {
         "alignmentgroup": "True",
         "error_y": {
          "array": [
           0.2154462600132955,
           0.4419055922513219,
           0.1225510361910101,
           0.1230399322720762
          ],
          "arrayminus": [
           0.1958870196548588,
           0.4057039076296292,
           0.1102687774767973,
           0.1112466129176042
          ]
         },
         "hovertemplate": "pobreza=no pobre<br>anio=2020<br>thogar=%{x}<br>Hogares(%)=%{text}<extra></extra>",
         "legendgroup": "no pobre",
         "marker": {
          "color": "#00cc96",
          "pattern": {
           "shape": ""
          }
         },
         "name": "no pobre",
         "offsetgroup": "no pobre",
         "orientation": "v",
         "showlegend": false,
         "text": [
          20.5,
          42.4,
          11.6,
          11.7
         ],
         "textposition": "auto",
         "x": [
          "nuclear monoparental",
          "nuclear biparental",
          "extenso monoparental",
          "extenso biparental"
         ],
         "xaxis": "x",
         "y": [
          20.5,
          42.4,
          11.6,
          11.7
         ],
         "yaxis": "y",
         "type": "bar"
        },
        {
         "alignmentgroup": "True",
         "error_y": {
          "array": [
           0.0213410812623446,
           0.1033055115865809,
           0.0144467810413679,
           0.0165544303399866
          ],
          "arrayminus": [
           0.0165359743112388,
           0.092597135649338,
           0.010568906397263,
           0.0122057126029124
          ]
         },
         "hovertemplate": "pobreza=pobre extremo<br>anio=1990<br>thogar=%{x}<br>Hogares(%)=%{text}<extra></extra>",
         "legendgroup": "pobre extremo",
         "marker": {
          "color": "#ab63fa",
          "pattern": {
           "shape": ""
          }
         },
         "name": "pobre extremo",
         "offsetgroup": "pobre extremo",
         "orientation": "v",
         "showlegend": true,
         "text": [
          1.9,
          9.8,
          1.2,
          1.4
         ],
         "textposition": "auto",
         "x": [
          "nuclear monoparental",
          "nuclear biparental",
          "extenso monoparental",
          "extenso biparental"
         ],
         "xaxis": "x12",
         "y": [
          1.9,
          9.8,
          1.2,
          1.4
         ],
         "yaxis": "y12",
         "type": "bar"
        },
        {
         "alignmentgroup": "True",
         "error_y": {
          "array": [
           0.0172792846439773,
           0.0736597977839714,
           0.00767419851871,
           0.0098615368250505
          ],
          "arrayminus": [
           0.0133384613464566,
           0.0657059059060419,
           0.0053427521872432,
           0.0071835101492564
          ]
         },
         "hovertemplate": "pobreza=pobre extremo<br>anio=1992<br>thogar=%{x}<br>Hogares(%)=%{text}<extra></extra>",
         "legendgroup": "pobre extremo",
         "marker": {
          "color": "#ab63fa",
          "pattern": {
           "shape": ""
          }
         },
         "name": "pobre extremo",
         "offsetgroup": "pobre extremo",
         "orientation": "v",
         "showlegend": false,
         "text": [
          1.5,
          7.0,
          0.6,
          0.8
         ],
         "textposition": "auto",
         "x": [
          "nuclear monoparental",
          "nuclear biparental",
          "extenso monoparental",
          "extenso biparental"
         ],
         "xaxis": "x11",
         "y": [
          1.5,
          7.0,
          0.6,
          0.8
         ],
         "yaxis": "y11",
         "type": "bar"
        },
        {
         "alignmentgroup": "True",
         "error_y": {
          "array": [
           0.0157101338908561,
           0.0565184605166644,
           0.0091184806990068,
           0.0105734951459338
          ],
          "arrayminus": [
           0.0120607316013264,
           0.0499665300846146,
           0.0064195745564536,
           0.0075903976519776
          ]
         },
         "hovertemplate": "pobreza=pobre extremo<br>anio=1994<br>thogar=%{x}<br>Hogares(%)=%{text}<extra></extra>",
         "legendgroup": "pobre extremo",
         "marker": {
          "color": "#ab63fa",
          "pattern": {
           "shape": ""
          }
         },
         "name": "pobre extremo",
         "offsetgroup": "pobre extremo",
         "orientation": "v",
         "showlegend": false,
         "text": [
          1.4,
          5.3,
          0.8,
          0.9
         ],
         "textposition": "auto",
         "x": [
          "nuclear monoparental",
          "nuclear biparental",
          "extenso monoparental",
          "extenso biparental"
         ],
         "xaxis": "x10",
         "y": [
          1.4,
          5.3,
          0.8,
          0.9
         ],
         "yaxis": "y10",
         "type": "bar"
        },
        {
         "alignmentgroup": "True",
         "error_y": {
          "array": [
           0.0116503921310154,
           0.0467866575488698,
           0.0055256117093063,
           0.0079454567912653
          ],
          "arrayminus": [
           0.0084361411860076,
           0.0397048222311884,
           0.0034694283894126,
           0.0052252777318975
          ]
         },
         "hovertemplate": "pobreza=pobre extremo<br>anio=1996<br>thogar=%{x}<br>Hogares(%)=%{text}<extra></extra>",
         "legendgroup": "pobre extremo",
         "marker": {
          "color": "#ab63fa",
          "pattern": {
           "shape": ""
          }
         },
         "name": "pobre extremo",
         "offsetgroup": "pobre extremo",
         "orientation": "v",
         "showlegend": false,
         "text": [
          1.0,
          4.3,
          0.4,
          0.6
         ],
         "textposition": "auto",
         "x": [
          "nuclear monoparental",
          "nuclear biparental",
          "extenso monoparental",
          "extenso biparental"
         ],
         "xaxis": "x9",
         "y": [
          1.0,
          4.3,
          0.4,
          0.6
         ],
         "yaxis": "y9",
         "type": "bar"
        },
        {
         "alignmentgroup": "True",
         "error_y": {
          "array": [
           0.010796787309433,
           0.04423799981452,
           0.0061680081852725,
           0.0073248657812114
          ],
          "arrayminus": [
           0.0077752802649951,
           0.0380489861263129,
           0.003925082263305,
           0.0051714293472146
          ]
         },
         "hovertemplate": "pobreza=pobre extremo<br>anio=1998<br>thogar=%{x}<br>Hogares(%)=%{text}<extra></extra>",
         "legendgroup": "pobre extremo",
         "marker": {
          "color": "#ab63fa",
          "pattern": {
           "shape": ""
          }
         },
         "name": "pobre extremo",
         "offsetgroup": "pobre extremo",
         "orientation": "v",
         "showlegend": false,
         "text": [
          0.9,
          4.1,
          0.5,
          0.6
         ],
         "textposition": "auto",
         "x": [
          "nuclear monoparental",
          "nuclear biparental",
          "extenso monoparental",
          "extenso biparental"
         ],
         "xaxis": "x8",
         "y": [
          0.9,
          4.1,
          0.5,
          0.6
         ],
         "yaxis": "y8",
         "type": "bar"
        },
        {
         "alignmentgroup": "True",
         "error_y": {
          "array": [
           0.0122408162018685,
           0.0412277578547551,
           0.0061617861949874,
           0.0094034020016339
          ],
          "arrayminus": [
           0.0083716640915786,
           0.0355902103814734,
           0.0041961351853629,
           0.006950195309418
          ]
         },
         "hovertemplate": "pobreza=pobre extremo<br>anio=2000<br>thogar=%{x}<br>Hogares(%)=%{text}<extra></extra>",
         "legendgroup": "pobre extremo",
         "marker": {
          "color": "#ab63fa",
          "pattern": {
           "shape": ""
          }
         },
         "name": "pobre extremo",
         "offsetgroup": "pobre extremo",
         "orientation": "v",
         "showlegend": false,
         "text": [
          1.0,
          3.8,
          0.5,
          0.8
         ],
         "textposition": "auto",
         "x": [
          "nuclear monoparental",
          "nuclear biparental",
          "extenso monoparental",
          "extenso biparental"
         ],
         "xaxis": "x7",
         "y": [
          1.0,
          3.8,
          0.5,
          0.8
         ],
         "yaxis": "y7",
         "type": "bar"
        },
        {
         "alignmentgroup": "True",
         "error_y": {
          "array": [
           0.0119642766544959,
           0.0333203132588416,
           0.006676406607634,
           0.0080098455467207
          ],
          "arrayminus": [
           0.0091652426181261,
           0.0284491189686183,
           0.0043270113219344,
           0.0055219721261996
          ]
         },
         "hovertemplate": "pobreza=pobre extremo<br>anio=2003<br>thogar=%{x}<br>Hogares(%)=%{text}<extra></extra>",
         "legendgroup": "pobre extremo",
         "marker": {
          "color": "#ab63fa",
          "pattern": {
           "shape": ""
          }
         },
         "name": "pobre extremo",
         "offsetgroup": "pobre extremo",
         "orientation": "v",
         "showlegend": false,
         "text": [
          1.0,
          3.1,
          0.5,
          0.7
         ],
         "textposition": "auto",
         "x": [
          "nuclear monoparental",
          "nuclear biparental",
          "extenso monoparental",
          "extenso biparental"
         ],
         "xaxis": "x6",
         "y": [
          1.0,
          3.1,
          0.5,
          0.7
         ],
         "yaxis": "y6",
         "type": "bar"
        },
        {
         "alignmentgroup": "True",
         "error_y": {
          "array": [
           0.0169766946075679,
           0.0213708115836758,
           0.0063572148335034,
           0.0055709991249589
          ],
          "arrayminus": [
           0.0133380394121914,
           0.0175096676119526,
           0.0040587703492448,
           0.0035522399219722
          ]
         },
         "hovertemplate": "pobreza=pobre extremo<br>anio=2009<br>thogar=%{x}<br>Hogares(%)=%{text}<extra></extra>",
         "legendgroup": "pobre extremo",
         "marker": {
          "color": "#ab63fa",
          "pattern": {
           "shape": ""
          }
         },
         "name": "pobre extremo",
         "offsetgroup": "pobre extremo",
         "orientation": "v",
         "showlegend": false,
         "text": [
          1.5,
          1.9,
          0.5,
          0.4
         ],
         "textposition": "auto",
         "x": [
          "nuclear monoparental",
          "nuclear biparental",
          "extenso monoparental",
          "extenso biparental"
         ],
         "xaxis": "x5",
         "y": [
          1.5,
          1.9,
          0.5,
          0.4
         ],
         "yaxis": "y5",
         "type": "bar"
        },
        {
         "alignmentgroup": "True",
         "error_y": {
          "array": [
           0.0229757573259935,
           0.0295709554954825,
           0.0090806880115373,
           0.0062993477296869
          ],
          "arrayminus": [
           0.0184752923199494,
           0.0247481607177195,
           0.0060988884970232,
           0.0044616117040436
          ]
         },
         "hovertemplate": "pobreza=pobre extremo<br>anio=2013<br>thogar=%{x}<br>Hogares(%)=%{text}<extra></extra>",
         "legendgroup": "pobre extremo",
         "marker": {
          "color": "#ab63fa",
          "pattern": {
           "shape": ""
          }
         },
         "name": "pobre extremo",
         "offsetgroup": "pobre extremo",
         "orientation": "v",
         "showlegend": false,
         "text": [
          2.1,
          2.7,
          0.7,
          0.5
         ],
         "textposition": "auto",
         "x": [
          "nuclear monoparental",
          "nuclear biparental",
          "extenso monoparental",
          "extenso biparental"
         ],
         "xaxis": "x4",
         "y": [
          2.1,
          2.7,
          0.7,
          0.5
         ],
         "yaxis": "y4",
         "type": "bar"
        },
        {
         "alignmentgroup": "True",
         "error_y": {
          "array": [
           0.0192628247784743,
           0.0215369348971381,
           0.0067883908380806,
           0.004855984897895
          ],
          "arrayminus": [
           0.0154677212198615,
           0.0180711349722207,
           0.0048971156892587,
           0.0032567285771659
          ]
         },
         "hovertemplate": "pobreza=pobre extremo<br>anio=2015<br>thogar=%{x}<br>Hogares(%)=%{text}<extra></extra>",
         "legendgroup": "pobre extremo",
         "marker": {
          "color": "#ab63fa",
          "pattern": {
           "shape": ""
          }
         },
         "name": "pobre extremo",
         "offsetgroup": "pobre extremo",
         "orientation": "v",
         "showlegend": false,
         "text": [
          1.7,
          2.0,
          0.6,
          0.4
         ],
         "textposition": "auto",
         "x": [
          "nuclear monoparental",
          "nuclear biparental",
          "extenso monoparental",
          "extenso biparental"
         ],
         "xaxis": "x3",
         "y": [
          1.7,
          2.0,
          0.6,
          0.4
         ],
         "yaxis": "y3",
         "type": "bar"
        },
        {
         "alignmentgroup": "True",
         "error_y": {
          "array": [
           0.0150789504936053,
           0.0149066652891934,
           0.0045298440956359,
           0.0028639070249094
          ],
          "arrayminus": [
           0.0108428546931812,
           0.0118911712135223,
           0.0026220990724038,
           0.0017225990400483
          ]
         },
         "hovertemplate": "pobreza=pobre extremo<br>anio=2017<br>thogar=%{x}<br>Hogares(%)=%{text}<extra></extra>",
         "legendgroup": "pobre extremo",
         "marker": {
          "color": "#ab63fa",
          "pattern": {
           "shape": ""
          }
         },
         "name": "pobre extremo",
         "offsetgroup": "pobre extremo",
         "orientation": "v",
         "showlegend": false,
         "text": [
          1.3,
          1.3,
          0.3,
          0.2
         ],
         "textposition": "auto",
         "x": [
          "nuclear monoparental",
          "nuclear biparental",
          "extenso monoparental",
          "extenso biparental"
         ],
         "xaxis": "x2",
         "y": [
          1.3,
          1.3,
          0.3,
          0.2
         ],
         "yaxis": "y2",
         "type": "bar"
        },
        {
         "alignmentgroup": "True",
         "error_y": {
          "array": [
           0.0224500147353362,
           0.0221951519138254,
           0.0088282759490865,
           0.0073031978379926
          ],
          "arrayminus": [
           0.0177629464695299,
           0.018031217595745,
           0.0061678830841682,
           0.0044385324240331
          ]
         },
         "hovertemplate": "pobreza=pobre extremo<br>anio=2020<br>thogar=%{x}<br>Hogares(%)=%{text}<extra></extra>",
         "legendgroup": "pobre extremo",
         "marker": {
          "color": "#ab63fa",
          "pattern": {
           "shape": ""
          }
         },
         "name": "pobre extremo",
         "offsetgroup": "pobre extremo",
         "orientation": "v",
         "showlegend": false,
         "text": [
          2.0,
          2.0,
          0.7,
          0.6
         ],
         "textposition": "auto",
         "x": [
          "nuclear monoparental",
          "nuclear biparental",
          "extenso monoparental",
          "extenso biparental"
         ],
         "xaxis": "x",
         "y": [
          2.0,
          2.0,
          0.7,
          0.6
         ],
         "yaxis": "y",
         "type": "bar"
        },
        {
         "alignmentgroup": "True",
         "error_y": {
          "array": [
           0.0318330604299625,
           0.2104459044269858,
           0.0281447045387617,
           0.0381733904515021
          ],
          "arrayminus": [
           0.0257146066117511,
           0.1957770860835928,
           0.022401327902431,
           0.0316837946135976
          ]
         },
         "hovertemplate": "pobreza=pobre no extremo<br>anio=1990<br>thogar=%{x}<br>Hogares(%)=%{text}<extra></extra>",
         "legendgroup": "pobre no extremo",
         "marker": {
          "color": "#FFA15A",
          "pattern": {
           "shape": ""
          }
         },
         "name": "pobre no extremo",
         "offsetgroup": "pobre no extremo",
         "orientation": "v",
         "showlegend": true,
         "text": [
          2.9,
          20.3,
          2.5,
          3.5
         ],
         "textposition": "auto",
         "x": [
          "nuclear monoparental",
          "nuclear biparental",
          "extenso monoparental",
          "extenso biparental"
         ],
         "xaxis": "x12",
         "y": [
          2.9,
          20.3,
          2.5,
          3.5
         ],
         "yaxis": "y12",
         "type": "bar"
        },
        {
         "alignmentgroup": "True",
         "error_y": {
          "array": [
           0.0321422646207279,
           0.2023472565474255,
           0.0255006496946065,
           0.0290659362966565
          ],
          "arrayminus": [
           0.0265276731376637,
           0.1895002037504683,
           0.0207434836197639,
           0.0242672598694178
          ]
         },
         "hovertemplate": "pobreza=pobre no extremo<br>anio=1992<br>thogar=%{x}<br>Hogares(%)=%{text}<extra></extra>",
         "legendgroup": "pobre no extremo",
         "marker": {
          "color": "#FFA15A",
          "pattern": {
           "shape": ""
          }
         },
         "name": "pobre no extremo",
         "offsetgroup": "pobre no extremo",
         "orientation": "v",
         "showlegend": false,
         "text": [
          2.9,
          19.6,
          2.3,
          2.7
         ],
         "textposition": "auto",
         "x": [
          "nuclear monoparental",
          "nuclear biparental",
          "extenso monoparental",
          "extenso biparental"
         ],
         "xaxis": "x11",
         "y": [
          2.9,
          19.6,
          2.3,
          2.7
         ],
         "yaxis": "y11",
         "type": "bar"
        },
        {
         "alignmentgroup": "True",
         "error_y": {
          "array": [
           0.0278668925374335,
           0.1635803560086392,
           0.0206681763313797,
           0.0322732890226758
          ],
          "arrayminus": [
           0.022786985817977,
           0.152347795506596,
           0.0164633424223042,
           0.0270296657021293
          ]
         },
         "hovertemplate": "pobreza=pobre no extremo<br>anio=1994<br>thogar=%{x}<br>Hogares(%)=%{text}<extra></extra>",
         "legendgroup": "pobre no extremo",
         "marker": {
          "color": "#FFA15A",
          "pattern": {
           "shape": ""
          }
         },
         "name": "pobre no extremo",
         "offsetgroup": "pobre no extremo",
         "orientation": "v",
         "showlegend": false,
         "text": [
          2.5,
          15.8,
          1.8,
          3.0
         ],
         "textposition": "auto",
         "x": [
          "nuclear monoparental",
          "nuclear biparental",
          "extenso monoparental",
          "extenso biparental"
         ],
         "xaxis": "x10",
         "y": [
          2.5,
          15.8,
          1.8,
          3.0
         ],
         "yaxis": "y10",
         "type": "bar"
        },
        {
         "alignmentgroup": "True",
         "error_y": {
          "array": [
           0.0256980564590032,
           0.1439015690619212,
           0.0170950814358527,
           0.0297702934358678
          ],
          "arrayminus": [
           0.0188818791422124,
           0.1294295222080247,
           0.0127642271160384,
           0.023659373381565
          ]
         },
         "hovertemplate": "pobreza=pobre no extremo<br>anio=1996<br>thogar=%{x}<br>Hogares(%)=%{text}<extra></extra>",
         "legendgroup": "pobre no extremo",
         "marker": {
          "color": "#FFA15A",
          "pattern": {
           "shape": ""
          }
         },
         "name": "pobre no extremo",
         "offsetgroup": "pobre no extremo",
         "orientation": "v",
         "showlegend": false,
         "text": [
          2.2,
          13.7,
          1.5,
          2.7
         ],
         "textposition": "auto",
         "x": [
          "nuclear monoparental",
          "nuclear biparental",
          "extenso monoparental",
          "extenso biparental"
         ],
         "xaxis": "x9",
         "y": [
          2.2,
          13.7,
          1.5,
          2.7
         ],
         "yaxis": "y9",
         "type": "bar"
        },
        {
         "alignmentgroup": "True",
         "error_y": {
          "array": [
           0.0207826037125931,
           0.1249534100971027,
           0.018596232347685,
           0.027512136516283
          ],
          "arrayminus": [
           0.0164846519893333,
           0.1146254839044626,
           0.0145541487733761,
           0.0225679303914937
          ]
         },
         "hovertemplate": "pobreza=pobre no extremo<br>anio=1998<br>thogar=%{x}<br>Hogares(%)=%{text}<extra></extra>",
         "legendgroup": "pobre no extremo",
         "marker": {
          "color": "#FFA15A",
          "pattern": {
           "shape": ""
          }
         },
         "name": "pobre no extremo",
         "offsetgroup": "pobre no extremo",
         "orientation": "v",
         "showlegend": false,
         "text": [
          1.9,
          12.0,
          1.6,
          2.5
         ],
         "textposition": "auto",
         "x": [
          "nuclear monoparental",
          "nuclear biparental",
          "extenso monoparental",
          "extenso biparental"
         ],
         "xaxis": "x8",
         "y": [
          1.9,
          12.0,
          1.6,
          2.5
         ],
         "yaxis": "y8",
         "type": "bar"
        },
        {
         "alignmentgroup": "True",
         "error_y": {
          "array": [
           0.0182359093726032,
           0.1137547976694605,
           0.0187983439898479,
           0.0260157430709906
          ],
          "arrayminus": [
           0.0141887884203402,
           0.1038603757009137,
           0.0148780642163362,
           0.0212306788046464
          ]
         },
         "hovertemplate": "pobreza=pobre no extremo<br>anio=2000<br>thogar=%{x}<br>Hogares(%)=%{text}<extra></extra>",
         "legendgroup": "pobre no extremo",
         "marker": {
          "color": "#FFA15A",
          "pattern": {
           "shape": ""
          }
         },
         "name": "pobre no extremo",
         "offsetgroup": "pobre no extremo",
         "orientation": "v",
         "showlegend": false,
         "text": [
          1.6,
          10.9,
          1.7,
          2.4
         ],
         "textposition": "auto",
         "x": [
          "nuclear monoparental",
          "nuclear biparental",
          "extenso monoparental",
          "extenso biparental"
         ],
         "xaxis": "x7",
         "y": [
          1.6,
          10.9,
          1.7,
          2.4
         ],
         "yaxis": "y7",
         "type": "bar"
        },
        {
         "alignmentgroup": "True",
         "error_y": {
          "array": [
           0.0208841011708987,
           0.1032762964779581,
           0.019000801836499,
           0.0271921497479077
          ],
          "arrayminus": [
           0.0169179318676289,
           0.0941483991108874,
           0.0137191813720718,
           0.0225347141357863
          ]
         },
         "hovertemplate": "pobreza=pobre no extremo<br>anio=2003<br>thogar=%{x}<br>Hogares(%)=%{text}<extra></extra>",
         "legendgroup": "pobre no extremo",
         "marker": {
          "color": "#FFA15A",
          "pattern": {
           "shape": ""
          }
         },
         "name": "pobre no extremo",
         "offsetgroup": "pobre no extremo",
         "orientation": "v",
         "showlegend": false,
         "text": [
          1.9,
          9.9,
          1.6,
          2.5
         ],
         "textposition": "auto",
         "x": [
          "nuclear monoparental",
          "nuclear biparental",
          "extenso monoparental",
          "extenso biparental"
         ],
         "xaxis": "x6",
         "y": [
          1.9,
          9.9,
          1.6,
          2.5
         ],
         "yaxis": "y6",
         "type": "bar"
        },
        {
         "alignmentgroup": "True",
         "error_y": {
          "array": [
           0.0343665634213541,
           0.0696479960805665,
           0.0203078314261379,
           0.0211520010665336
          ],
          "arrayminus": [
           0.0289265669209843,
           0.061998552964615,
           0.0163022495839359,
           0.0168435063965292
          ]
         },
         "hovertemplate": "pobreza=pobre no extremo<br>anio=2009<br>thogar=%{x}<br>Hogares(%)=%{text}<extra></extra>",
         "legendgroup": "pobre no extremo",
         "marker": {
          "color": "#FFA15A",
          "pattern": {
           "shape": ""
          }
         },
         "name": "pobre no extremo",
         "offsetgroup": "pobre no extremo",
         "orientation": "v",
         "showlegend": false,
         "text": [
          3.2,
          6.6,
          1.8,
          1.9
         ],
         "textposition": "auto",
         "x": [
          "nuclear monoparental",
          "nuclear biparental",
          "extenso monoparental",
          "extenso biparental"
         ],
         "xaxis": "x5",
         "y": [
          3.2,
          6.6,
          1.8,
          1.9
         ],
         "yaxis": "y5",
         "type": "bar"
        },
        {
         "alignmentgroup": "True",
         "error_y": {
          "array": [
           0.0359366461287357,
           0.0708739036554218,
           0.0165701641011569,
           0.0179305343288601
          ],
          "arrayminus": [
           0.0296967861758248,
           0.0620997500211134,
           0.0123023252780205,
           0.0113621749261835
          ]
         },
         "hovertemplate": "pobreza=pobre no extremo<br>anio=2013<br>thogar=%{x}<br>Hogares(%)=%{text}<extra></extra>",
         "legendgroup": "pobre no extremo",
         "marker": {
          "color": "#FFA15A",
          "pattern": {
           "shape": ""
          }
         },
         "name": "pobre no extremo",
         "offsetgroup": "pobre no extremo",
         "orientation": "v",
         "showlegend": false,
         "text": [
          3.3,
          6.6,
          1.4,
          1.4
         ],
         "textposition": "auto",
         "x": [
          "nuclear monoparental",
          "nuclear biparental",
          "extenso monoparental",
          "extenso biparental"
         ],
         "xaxis": "x4",
         "y": [
          3.3,
          6.6,
          1.4,
          1.4
         ],
         "yaxis": "y4",
         "type": "bar"
        },
        {
         "alignmentgroup": "True",
         "error_y": {
          "array": [
           0.0316494917739094,
           0.0538332568276988,
           0.0154036482490467,
           0.01332296224469
          ],
          "arrayminus": [
           0.0268483188732879,
           0.0481359259055276,
           0.0121830172718656,
           0.0104371222264946
          ]
         },
         "hovertemplate": "pobreza=pobre no extremo<br>anio=2015<br>thogar=%{x}<br>Hogares(%)=%{text}<extra></extra>",
         "legendgroup": "pobre no extremo",
         "marker": {
          "color": "#FFA15A",
          "pattern": {
           "shape": ""
          }
         },
         "name": "pobre no extremo",
         "offsetgroup": "pobre no extremo",
         "orientation": "v",
         "showlegend": false,
         "text": [
          2.9,
          5.1,
          1.4,
          1.2
         ],
         "textposition": "auto",
         "x": [
          "nuclear monoparental",
          "nuclear biparental",
          "extenso monoparental",
          "extenso biparental"
         ],
         "xaxis": "x3",
         "y": [
          2.9,
          5.1,
          1.4,
          1.2
         ],
         "yaxis": "y3",
         "type": "bar"
        },
        {
         "alignmentgroup": "True",
         "error_y": {
          "array": [
           0.0284646727275967,
           0.0444275563852373,
           0.0112720732206893,
           0.0092069645521004
          ],
          "arrayminus": [
           0.0230026317466527,
           0.0387002660656542,
           0.0086013436728498,
           0.0068822546334162
          ]
         },
         "hovertemplate": "pobreza=pobre no extremo<br>anio=2017<br>thogar=%{x}<br>Hogares(%)=%{text}<extra></extra>",
         "legendgroup": "pobre no extremo",
         "marker": {
          "color": "#FFA15A",
          "pattern": {
           "shape": ""
          }
         },
         "name": "pobre no extremo",
         "offsetgroup": "pobre no extremo",
         "orientation": "v",
         "showlegend": false,
         "text": [
          2.6,
          4.1,
          1.0,
          0.8
         ],
         "textposition": "auto",
         "x": [
          "nuclear monoparental",
          "nuclear biparental",
          "extenso monoparental",
          "extenso biparental"
         ],
         "xaxis": "x2",
         "y": [
          2.6,
          4.1,
          1.0,
          0.8
         ],
         "yaxis": "y2",
         "type": "bar"
        },
        {
         "alignmentgroup": "True",
         "error_y": {
          "array": [
           0.0339868546221047,
           0.0339464304466577,
           0.0152851959327019,
           0.0107484157546711
          ],
          "arrayminus": [
           0.0282404231356169,
           0.0282978642646862,
           0.0114653564153761,
           0.0079466557361828
          ]
         },
         "hovertemplate": "pobreza=pobre no extremo<br>anio=2020<br>thogar=%{x}<br>Hogares(%)=%{text}<extra></extra>",
         "legendgroup": "pobre no extremo",
         "marker": {
          "color": "#FFA15A",
          "pattern": {
           "shape": ""
          }
         },
         "name": "pobre no extremo",
         "offsetgroup": "pobre no extremo",
         "orientation": "v",
         "showlegend": false,
         "text": [
          3.1,
          3.1,
          1.3,
          0.9
         ],
         "textposition": "auto",
         "x": [
          "nuclear monoparental",
          "nuclear biparental",
          "extenso monoparental",
          "extenso biparental"
         ],
         "xaxis": "x",
         "y": [
          3.1,
          3.1,
          1.3,
          0.9
         ],
         "yaxis": "y",
         "type": "bar"
        }
       ],
       "layout": {
        "template": {
         "data": {
          "barpolar": [
           {
            "marker": {
             "line": {
              "color": "#E5ECF6",
              "width": 0.5
             },
             "pattern": {
              "fillmode": "overlay",
              "size": 10,
              "solidity": 0.2
             }
            },
            "type": "barpolar"
           }
          ],
          "bar": [
           {
            "error_x": {
             "color": "#2a3f5f"
            },
            "error_y": {
             "color": "#2a3f5f"
            },
            "marker": {
             "line": {
              "color": "#E5ECF6",
              "width": 0.5
             },
             "pattern": {
              "fillmode": "overlay",
              "size": 10,
              "solidity": 0.2
             }
            },
            "type": "bar"
           }
          ],
          "carpet": [
           {
            "aaxis": {
             "endlinecolor": "#2a3f5f",
             "gridcolor": "white",
             "linecolor": "white",
             "minorgridcolor": "white",
             "startlinecolor": "#2a3f5f"
            },
            "baxis": {
             "endlinecolor": "#2a3f5f",
             "gridcolor": "white",
             "linecolor": "white",
             "minorgridcolor": "white",
             "startlinecolor": "#2a3f5f"
            },
            "type": "carpet"
           }
          ],
          "choropleth": [
           {
            "colorbar": {
             "outlinewidth": 0,
             "ticks": ""
            },
            "type": "choropleth"
           }
          ],
          "contourcarpet": [
           {
            "colorbar": {
             "outlinewidth": 0,
             "ticks": ""
            },
            "type": "contourcarpet"
           }
          ],
          "contour": [
           {
            "colorbar": {
             "outlinewidth": 0,
             "ticks": ""
            },
            "colorscale": [
             [
              0.0,
              "#0d0887"
             ],
             [
              0.1111111111111111,
              "#46039f"
             ],
             [
              0.2222222222222222,
              "#7201a8"
             ],
             [
              0.3333333333333333,
              "#9c179e"
             ],
             [
              0.4444444444444444,
              "#bd3786"
             ],
             [
              0.5555555555555556,
              "#d8576b"
             ],
             [
              0.6666666666666666,
              "#ed7953"
             ],
             [
              0.7777777777777778,
              "#fb9f3a"
             ],
             [
              0.8888888888888888,
              "#fdca26"
             ],
             [
              1.0,
              "#f0f921"
             ]
            ],
            "type": "contour"
           }
          ],
          "heatmapgl": [
           {
            "colorbar": {
             "outlinewidth": 0,
             "ticks": ""
            },
            "colorscale": [
             [
              0.0,
              "#0d0887"
             ],
             [
              0.1111111111111111,
              "#46039f"
             ],
             [
              0.2222222222222222,
              "#7201a8"
             ],
             [
              0.3333333333333333,
              "#9c179e"
             ],
             [
              0.4444444444444444,
              "#bd3786"
             ],
             [
              0.5555555555555556,
              "#d8576b"
             ],
             [
              0.6666666666666666,
              "#ed7953"
             ],
             [
              0.7777777777777778,
              "#fb9f3a"
             ],
             [
              0.8888888888888888,
              "#fdca26"
             ],
             [
              1.0,
              "#f0f921"
             ]
            ],
            "type": "heatmapgl"
           }
          ],
          "heatmap": [
           {
            "colorbar": {
             "outlinewidth": 0,
             "ticks": ""
            },
            "colorscale": [
             [
              0.0,
              "#0d0887"
             ],
             [
              0.1111111111111111,
              "#46039f"
             ],
             [
              0.2222222222222222,
              "#7201a8"
             ],
             [
              0.3333333333333333,
              "#9c179e"
             ],
             [
              0.4444444444444444,
              "#bd3786"
             ],
             [
              0.5555555555555556,
              "#d8576b"
             ],
             [
              0.6666666666666666,
              "#ed7953"
             ],
             [
              0.7777777777777778,
              "#fb9f3a"
             ],
             [
              0.8888888888888888,
              "#fdca26"
             ],
             [
              1.0,
              "#f0f921"
             ]
            ],
            "type": "heatmap"
           }
          ],
          "histogram2dcontour": [
           {
            "colorbar": {
             "outlinewidth": 0,
             "ticks": ""
            },
            "colorscale": [
             [
              0.0,
              "#0d0887"
             ],
             [
              0.1111111111111111,
              "#46039f"
             ],
             [
              0.2222222222222222,
              "#7201a8"
             ],
             [
              0.3333333333333333,
              "#9c179e"
             ],
             [
              0.4444444444444444,
              "#bd3786"
             ],
             [
              0.5555555555555556,
              "#d8576b"
             ],
             [
              0.6666666666666666,
              "#ed7953"
             ],
             [
              0.7777777777777778,
              "#fb9f3a"
             ],
             [
              0.8888888888888888,
              "#fdca26"
             ],
             [
              1.0,
              "#f0f921"
             ]
            ],
            "type": "histogram2dcontour"
           }
          ],
          "histogram2d": [
           {
            "colorbar": {
             "outlinewidth": 0,
             "ticks": ""
            },
            "colorscale": [
             [
              0.0,
              "#0d0887"
             ],
             [
              0.1111111111111111,
              "#46039f"
             ],
             [
              0.2222222222222222,
              "#7201a8"
             ],
             [
              0.3333333333333333,
              "#9c179e"
             ],
             [
              0.4444444444444444,
              "#bd3786"
             ],
             [
              0.5555555555555556,
              "#d8576b"
             ],
             [
              0.6666666666666666,
              "#ed7953"
             ],
             [
              0.7777777777777778,
              "#fb9f3a"
             ],
             [
              0.8888888888888888,
              "#fdca26"
             ],
             [
              1.0,
              "#f0f921"
             ]
            ],
            "type": "histogram2d"
           }
          ],
          "histogram": [
           {
            "marker": {
             "pattern": {
              "fillmode": "overlay",
              "size": 10,
              "solidity": 0.2
             }
            },
            "type": "histogram"
           }
          ],
          "mesh3d": [
           {
            "colorbar": {
             "outlinewidth": 0,
             "ticks": ""
            },
            "type": "mesh3d"
           }
          ],
          "parcoords": [
           {
            "line": {
             "colorbar": {
              "outlinewidth": 0,
              "ticks": ""
             }
            },
            "type": "parcoords"
           }
          ],
          "pie": [
           {
            "automargin": true,
            "type": "pie"
           }
          ],
          "scatter3d": [
           {
            "line": {
             "colorbar": {
              "outlinewidth": 0,
              "ticks": ""
             }
            },
            "marker": {
             "colorbar": {
              "outlinewidth": 0,
              "ticks": ""
             }
            },
            "type": "scatter3d"
           }
          ],
          "scattercarpet": [
           {
            "marker": {
             "colorbar": {
              "outlinewidth": 0,
              "ticks": ""
             }
            },
            "type": "scattercarpet"
           }
          ],
          "scattergeo": [
           {
            "marker": {
             "colorbar": {
              "outlinewidth": 0,
              "ticks": ""
             }
            },
            "type": "scattergeo"
           }
          ],
          "scattergl": [
           {
            "marker": {
             "colorbar": {
              "outlinewidth": 0,
              "ticks": ""
             }
            },
            "type": "scattergl"
           }
          ],
          "scattermapbox": [
           {
            "marker": {
             "colorbar": {
              "outlinewidth": 0,
              "ticks": ""
             }
            },
            "type": "scattermapbox"
           }
          ],
          "scatterpolargl": [
           {
            "marker": {
             "colorbar": {
              "outlinewidth": 0,
              "ticks": ""
             }
            },
            "type": "scatterpolargl"
           }
          ],
          "scatterpolar": [
           {
            "marker": {
             "colorbar": {
              "outlinewidth": 0,
              "ticks": ""
             }
            },
            "type": "scatterpolar"
           }
          ],
          "scatter": [
           {
            "marker": {
             "colorbar": {
              "outlinewidth": 0,
              "ticks": ""
             }
            },
            "type": "scatter"
           }
          ],
          "scatterternary": [
           {
            "marker": {
             "colorbar": {
              "outlinewidth": 0,
              "ticks": ""
             }
            },
            "type": "scatterternary"
           }
          ],
          "surface": [
           {
            "colorbar": {
             "outlinewidth": 0,
             "ticks": ""
            },
            "colorscale": [
             [
              0.0,
              "#0d0887"
             ],
             [
              0.1111111111111111,
              "#46039f"
             ],
             [
              0.2222222222222222,
              "#7201a8"
             ],
             [
              0.3333333333333333,
              "#9c179e"
             ],
             [
              0.4444444444444444,
              "#bd3786"
             ],
             [
              0.5555555555555556,
              "#d8576b"
             ],
             [
              0.6666666666666666,
              "#ed7953"
             ],
             [
              0.7777777777777778,
              "#fb9f3a"
             ],
             [
              0.8888888888888888,
              "#fdca26"
             ],
             [
              1.0,
              "#f0f921"
             ]
            ],
            "type": "surface"
           }
          ],
          "table": [
           {
            "cells": {
             "fill": {
              "color": "#EBF0F8"
             },
             "line": {
              "color": "white"
             }
            },
            "header": {
             "fill": {
              "color": "#C8D4E3"
             },
             "line": {
              "color": "white"
             }
            },
            "type": "table"
           }
          ]
         },
         "layout": {
          "annotationdefaults": {
           "arrowcolor": "#2a3f5f",
           "arrowhead": 0,
           "arrowwidth": 1
          },
          "autotypenumbers": "strict",
          "coloraxis": {
           "colorbar": {
            "outlinewidth": 0,
            "ticks": ""
           }
          },
          "colorscale": {
           "diverging": [
            [
             0,
             "#8e0152"
            ],
            [
             0.1,
             "#c51b7d"
            ],
            [
             0.2,
             "#de77ae"
            ],
            [
             0.3,
             "#f1b6da"
            ],
            [
             0.4,
             "#fde0ef"
            ],
            [
             0.5,
             "#f7f7f7"
            ],
            [
             0.6,
             "#e6f5d0"
            ],
            [
             0.7,
             "#b8e186"
            ],
            [
             0.8,
             "#7fbc41"
            ],
            [
             0.9,
             "#4d9221"
            ],
            [
             1,
             "#276419"
            ]
           ],
           "sequential": [
            [
             0.0,
             "#0d0887"
            ],
            [
             0.1111111111111111,
             "#46039f"
            ],
            [
             0.2222222222222222,
             "#7201a8"
            ],
            [
             0.3333333333333333,
             "#9c179e"
            ],
            [
             0.4444444444444444,
             "#bd3786"
            ],
            [
             0.5555555555555556,
             "#d8576b"
            ],
            [
             0.6666666666666666,
             "#ed7953"
            ],
            [
             0.7777777777777778,
             "#fb9f3a"
            ],
            [
             0.8888888888888888,
             "#fdca26"
            ],
            [
             1.0,
             "#f0f921"
            ]
           ],
           "sequentialminus": [
            [
             0.0,
             "#0d0887"
            ],
            [
             0.1111111111111111,
             "#46039f"
            ],
            [
             0.2222222222222222,
             "#7201a8"
            ],
            [
             0.3333333333333333,
             "#9c179e"
            ],
            [
             0.4444444444444444,
             "#bd3786"
            ],
            [
             0.5555555555555556,
             "#d8576b"
            ],
            [
             0.6666666666666666,
             "#ed7953"
            ],
            [
             0.7777777777777778,
             "#fb9f3a"
            ],
            [
             0.8888888888888888,
             "#fdca26"
            ],
            [
             1.0,
             "#f0f921"
            ]
           ]
          },
          "colorway": [
           "#636efa",
           "#EF553B",
           "#00cc96",
           "#ab63fa",
           "#FFA15A",
           "#19d3f3",
           "#FF6692",
           "#B6E880",
           "#FF97FF",
           "#FECB52"
          ],
          "font": {
           "color": "#2a3f5f"
          },
          "geo": {
           "bgcolor": "white",
           "lakecolor": "white",
           "landcolor": "#E5ECF6",
           "showlakes": true,
           "showland": true,
           "subunitcolor": "white"
          },
          "hoverlabel": {
           "align": "left"
          },
          "hovermode": "closest",
          "mapbox": {
           "style": "light"
          },
          "paper_bgcolor": "white",
          "plot_bgcolor": "#E5ECF6",
          "polar": {
           "angularaxis": {
            "gridcolor": "white",
            "linecolor": "white",
            "ticks": ""
           },
           "bgcolor": "#E5ECF6",
           "radialaxis": {
            "gridcolor": "white",
            "linecolor": "white",
            "ticks": ""
           }
          },
          "scene": {
           "xaxis": {
            "backgroundcolor": "#E5ECF6",
            "gridcolor": "white",
            "gridwidth": 2,
            "linecolor": "white",
            "showbackground": true,
            "ticks": "",
            "zerolinecolor": "white"
           },
           "yaxis": {
            "backgroundcolor": "#E5ECF6",
            "gridcolor": "white",
            "gridwidth": 2,
            "linecolor": "white",
            "showbackground": true,
            "ticks": "",
            "zerolinecolor": "white"
           },
           "zaxis": {
            "backgroundcolor": "#E5ECF6",
            "gridcolor": "white",
            "gridwidth": 2,
            "linecolor": "white",
            "showbackground": true,
            "ticks": "",
            "zerolinecolor": "white"
           }
          },
          "shapedefaults": {
           "line": {
            "color": "#2a3f5f"
           }
          },
          "ternary": {
           "aaxis": {
            "gridcolor": "white",
            "linecolor": "white",
            "ticks": ""
           },
           "baxis": {
            "gridcolor": "white",
            "linecolor": "white",
            "ticks": ""
           },
           "bgcolor": "#E5ECF6",
           "caxis": {
            "gridcolor": "white",
            "linecolor": "white",
            "ticks": ""
           }
          },
          "title": {
           "x": 0.05
          },
          "xaxis": {
           "automargin": true,
           "gridcolor": "white",
           "linecolor": "white",
           "ticks": "",
           "title": {
            "standoff": 15
           },
           "zerolinecolor": "white",
           "zerolinewidth": 2
          },
          "yaxis": {
           "automargin": true,
           "gridcolor": "white",
           "linecolor": "white",
           "ticks": "",
           "title": {
            "standoff": 15
           },
           "zerolinecolor": "white",
           "zerolinewidth": 2
          }
         }
        },
        "xaxis": {
         "anchor": "y",
         "domain": [
          0.0,
          0.98
         ],
         "title": {},
         "showgrid": true,
         "tickangle": 0
        },
        "yaxis": {
         "anchor": "x",
         "domain": [
          0.0,
          0.05583333333333333
         ],
         "title": {
          "text": "Hogares(%)",
          "font": {
           "size": 10
          },
          "standoff": 8
         }
        },
        "xaxis2": {
         "anchor": "y2",
         "domain": [
          0.0,
          0.98
         ],
         "matches": "x",
         "showticklabels": false,
         "title": {},
         "showgrid": true,
         "tickangle": 0
        },
        "yaxis2": {
         "anchor": "x2",
         "domain": [
          0.08583333333333333,
          0.14166666666666666
         ],
         "matches": "y",
         "title": {
          "text": "Hogares(%)",
          "font": {
           "size": 10
          },
          "standoff": 8
         }
        },
        "xaxis3": {
         "anchor": "y3",
         "domain": [
          0.0,
          0.98
         ],
         "matches": "x",
         "showticklabels": false,
         "title": {},
         "showgrid": true,
         "tickangle": 0
        },
        "yaxis3": {
         "anchor": "x3",
         "domain": [
          0.17166666666666666,
          0.22749999999999998
         ],
         "matches": "y",
         "title": {
          "text": "Hogares(%)",
          "font": {
           "size": 10
          },
          "standoff": 8
         }
        },
        "xaxis4": {
         "anchor": "y4",
         "domain": [
          0.0,
          0.98
         ],
         "matches": "x",
         "showticklabels": false,
         "title": {},
         "showgrid": true,
         "tickangle": 0
        },
        "yaxis4": {
         "anchor": "x4",
         "domain": [
          0.25749999999999995,
          0.3133333333333333
         ],
         "matches": "y",
         "title": {
          "text": "Hogares(%)",
          "font": {
           "size": 10
          },
          "standoff": 8
         }
        },
        "xaxis5": {
         "anchor": "y5",
         "domain": [
          0.0,
          0.98
         ],
         "matches": "x",
         "showticklabels": false,
         "title": {},
         "showgrid": true,
         "tickangle": 0
        },
        "yaxis5": {
         "anchor": "x5",
         "domain": [
          0.3433333333333333,
          0.39916666666666667
         ],
         "matches": "y",
         "title": {
          "text": "Hogares(%)",
          "font": {
           "size": 10
          },
          "standoff": 8
         }
        },
        "xaxis6": {
         "anchor": "y6",
         "domain": [
          0.0,
          0.98
         ],
         "matches": "x",
         "showticklabels": false,
         "title": {},
         "showgrid": true,
         "tickangle": 0
        },
        "yaxis6": {
         "anchor": "x6",
         "domain": [
          0.4291666666666667,
          0.48500000000000004
         ],
         "matches": "y",
         "title": {
          "text": "Hogares(%)",
          "font": {
           "size": 10
          },
          "standoff": 8
         }
        },
        "xaxis7": {
         "anchor": "y7",
         "domain": [
          0.0,
          0.98
         ],
         "matches": "x",
         "showticklabels": false,
         "title": {},
         "showgrid": true,
         "tickangle": 0
        },
        "yaxis7": {
         "anchor": "x7",
         "domain": [
          0.515,
          0.5708333333333333
         ],
         "matches": "y",
         "title": {
          "text": "Hogares(%)",
          "font": {
           "size": 10
          },
          "standoff": 8
         }
        },
        "xaxis8": {
         "anchor": "y8",
         "domain": [
          0.0,
          0.98
         ],
         "matches": "x",
         "showticklabels": false,
         "title": {},
         "showgrid": true,
         "tickangle": 0
        },
        "yaxis8": {
         "anchor": "x8",
         "domain": [
          0.6008333333333333,
          0.6566666666666666
         ],
         "matches": "y",
         "title": {
          "text": "Hogares(%)",
          "font": {
           "size": 10
          },
          "standoff": 8
         }
        },
        "xaxis9": {
         "anchor": "y9",
         "domain": [
          0.0,
          0.98
         ],
         "matches": "x",
         "showticklabels": false,
         "title": {},
         "showgrid": true,
         "tickangle": 0
        },
        "yaxis9": {
         "anchor": "x9",
         "domain": [
          0.6866666666666668,
          0.7425
         ],
         "matches": "y",
         "title": {
          "text": "Hogares(%)",
          "font": {
           "size": 10
          },
          "standoff": 8
         }
        },
        "xaxis10": {
         "anchor": "y10",
         "domain": [
          0.0,
          0.98
         ],
         "matches": "x",
         "showticklabels": false,
         "title": {},
         "showgrid": true,
         "tickangle": 0
        },
        "yaxis10": {
         "anchor": "x10",
         "domain": [
          0.7725000000000001,
          0.8283333333333334
         ],
         "matches": "y",
         "title": {
          "text": "Hogares(%)",
          "font": {
           "size": 10
          },
          "standoff": 8
         }
        },
        "xaxis11": {
         "anchor": "y11",
         "domain": [
          0.0,
          0.98
         ],
         "matches": "x",
         "showticklabels": false,
         "title": {},
         "showgrid": true,
         "tickangle": 0
        },
        "yaxis11": {
         "anchor": "x11",
         "domain": [
          0.8583333333333334,
          0.9141666666666667
         ],
         "matches": "y",
         "title": {
          "text": "Hogares(%)",
          "font": {
           "size": 10
          },
          "standoff": 8
         }
        },
        "xaxis12": {
         "anchor": "y12",
         "domain": [
          0.0,
          0.98
         ],
         "matches": "x",
         "showticklabels": false,
         "title": {},
         "showgrid": true,
         "tickangle": 0
        },
        "yaxis12": {
         "anchor": "x12",
         "domain": [
          0.9441666666666666,
          0.9999999999999999
         ],
         "matches": "y",
         "title": {
          "text": "Hogares(%)",
          "font": {
           "size": 10
          },
          "standoff": 8
         }
        },
        "annotations": [
         {
          "font": {},
          "showarrow": false,
          "text": "2020",
          "textangle": 90,
          "x": 0.98,
          "xanchor": "left",
          "xref": "paper",
          "y": 0.027916666666666666,
          "yanchor": "middle",
          "yref": "paper"
         },
         {
          "font": {},
          "showarrow": false,
          "text": "2017",
          "textangle": 90,
          "x": 0.98,
          "xanchor": "left",
          "xref": "paper",
          "y": 0.11374999999999999,
          "yanchor": "middle",
          "yref": "paper"
         },
         {
          "font": {},
          "showarrow": false,
          "text": "2015",
          "textangle": 90,
          "x": 0.98,
          "xanchor": "left",
          "xref": "paper",
          "y": 0.19958333333333333,
          "yanchor": "middle",
          "yref": "paper"
         },
         {
          "font": {},
          "showarrow": false,
          "text": "2013",
          "textangle": 90,
          "x": 0.98,
          "xanchor": "left",
          "xref": "paper",
          "y": 0.28541666666666665,
          "yanchor": "middle",
          "yref": "paper"
         },
         {
          "font": {},
          "showarrow": false,
          "text": "2009",
          "textangle": 90,
          "x": 0.98,
          "xanchor": "left",
          "xref": "paper",
          "y": 0.37124999999999997,
          "yanchor": "middle",
          "yref": "paper"
         },
         {
          "font": {},
          "showarrow": false,
          "text": "2003",
          "textangle": 90,
          "x": 0.98,
          "xanchor": "left",
          "xref": "paper",
          "y": 0.4570833333333334,
          "yanchor": "middle",
          "yref": "paper"
         },
         {
          "font": {},
          "showarrow": false,
          "text": "2000",
          "textangle": 90,
          "x": 0.98,
          "xanchor": "left",
          "xref": "paper",
          "y": 0.5429166666666667,
          "yanchor": "middle",
          "yref": "paper"
         },
         {
          "font": {},
          "showarrow": false,
          "text": "1998",
          "textangle": 90,
          "x": 0.98,
          "xanchor": "left",
          "xref": "paper",
          "y": 0.6287499999999999,
          "yanchor": "middle",
          "yref": "paper"
         },
         {
          "font": {},
          "showarrow": false,
          "text": "1996",
          "textangle": 90,
          "x": 0.98,
          "xanchor": "left",
          "xref": "paper",
          "y": 0.7145833333333333,
          "yanchor": "middle",
          "yref": "paper"
         },
         {
          "font": {},
          "showarrow": false,
          "text": "1994",
          "textangle": 90,
          "x": 0.98,
          "xanchor": "left",
          "xref": "paper",
          "y": 0.8004166666666668,
          "yanchor": "middle",
          "yref": "paper"
         },
         {
          "font": {},
          "showarrow": false,
          "text": "1992",
          "textangle": 90,
          "x": 0.98,
          "xanchor": "left",
          "xref": "paper",
          "y": 0.88625,
          "yanchor": "middle",
          "yref": "paper"
         },
         {
          "font": {},
          "showarrow": false,
          "text": "1990",
          "textangle": 90,
          "x": 0.98,
          "xanchor": "left",
          "xref": "paper",
          "y": 0.9720833333333332,
          "yanchor": "middle",
          "yref": "paper"
         }
        ],
        "legend": {
         "title": {
          "text": "pobreza"
         },
         "tracegroupgap": 0,
         "orientation": "h",
         "y": 1,
         "yanchor": "bottom",
         "x": 0.2,
         "xanchor": "center"
        },
        "margin": {
         "t": 15,
         "l": 10,
         "r": 10,
         "b": 10
        },
        "barmode": "group",
        "height": 900
       },
       "config": {
        "plotlyServerURL": "https://plot.ly"
       }
      },
      "text/html": "<div>                            <div id=\"a484e3cb-5de5-4325-be3c-aa3dab8d3f86\" class=\"plotly-graph-div\" style=\"height:900px; width:100%;\"></div>            <script type=\"text/javascript\">                require([\"plotly\"], function(Plotly) {                    window.PLOTLYENV=window.PLOTLYENV || {};                                    if (document.getElementById(\"a484e3cb-5de5-4325-be3c-aa3dab8d3f86\")) {                    Plotly.newPlot(                        \"a484e3cb-5de5-4325-be3c-aa3dab8d3f86\",                        [{\"alignmentgroup\":\"True\",\"error_y\":{\"array\":[0.0524019158815193,0.3979063237249701,0.0524453898754352,0.0852775330248788],\"arrayminus\":[0.0443992890213103,0.3797307624248998,0.0443459042005883,0.0750836850520803]},\"hovertemplate\":\"pobreza=no pobre<br>anio=1990<br>thogar=%{x}<br>Hogares(%)=%{text}<extra></extra>\",\"legendgroup\":\"no pobre\",\"marker\":{\"color\":\"#00cc96\",\"pattern\":{\"shape\":\"\"}},\"name\":\"no pobre\",\"offsetgroup\":\"no pobre\",\"orientation\":\"v\",\"showlegend\":true,\"text\":[4.8,38.9,4.8,8.0],\"textposition\":\"auto\",\"x\":[\"nuclear monoparental\",\"nuclear biparental\",\"extenso monoparental\",\"extenso biparental\"],\"xaxis\":\"x12\",\"y\":[4.8,38.9,4.8,8.0],\"yaxis\":\"y12\",\"type\":\"bar\"},{\"alignmentgroup\":\"True\",\"error_y\":{\"array\":[0.0644852389892342,0.4467651936227226,0.0511376647586617,0.0839451402102082],\"arrayminus\":[0.0564744761094402,0.4302809687507405,0.0441024677814834,0.0751700230148463]},\"hovertemplate\":\"pobreza=no pobre<br>anio=1992<br>thogar=%{x}<br>Hogares(%)=%{text}<extra></extra>\",\"legendgroup\":\"no pobre\",\"marker\":{\"color\":\"#00cc96\",\"pattern\":{\"shape\":\"\"}},\"name\":\"no pobre\",\"offsetgroup\":\"no pobre\",\"orientation\":\"v\",\"showlegend\":false,\"text\":[6.0,43.9,4.7,7.9],\"textposition\":\"auto\",\"x\":[\"nuclear monoparental\",\"nuclear biparental\",\"extenso monoparental\",\"extenso biparental\"],\"xaxis\":\"x11\",\"y\":[6.0,43.9,4.7,7.9],\"yaxis\":\"y11\",\"type\":\"bar\"},{\"alignmentgroup\":\"True\",\"error_y\":{\"array\":[0.0665072681838784,0.4776887736124053,0.0581883061004928,0.1047517342590564],\"arrayminus\":[0.0582517535194391,0.4610674805894373,0.0504291976804233,0.0946787400752265]},\"hovertemplate\":\"pobreza=no pobre<br>anio=1994<br>thogar=%{x}<br>Hogares(%)=%{text}<extra></extra>\",\"legendgroup\":\"no pobre\",\"marker\":{\"color\":\"#00cc96\",\"pattern\":{\"shape\":\"\"}},\"name\":\"no pobre\",\"offsetgroup\":\"no pobre\",\"orientation\":\"v\",\"showlegend\":false,\"text\":[6.2,46.9,5.4,10.0],\"textposition\":\"auto\",\"x\":[\"nuclear monoparental\",\"nuclear biparental\",\"extenso monoparental\",\"extenso biparental\"],\"xaxis\":\"x10\",\"y\":[6.2,46.9,5.4,10.0],\"yaxis\":\"y10\",\"type\":\"bar\"},{\"alignmentgroup\":\"True\",\"error_y\":{\"array\":[0.0615922045309264,0.528845036401184,0.0593135604823479,0.1144956073482321],\"arrayminus\":[0.0515422592363282,0.5066169774845309,0.05050457022186,0.100805611066706]},\"hovertemplate\":\"pobreza=no pobre<br>anio=1996<br>thogar=%{x}<br>Hogares(%)=%{text}<extra></extra>\",\"legendgroup\":\"no pobre\",\"marker\":{\"color\":\"#00cc96\",\"pattern\":{\"shape\":\"\"}},\"name\":\"no pobre\",\"offsetgroup\":\"no pobre\",\"orientation\":\"v\",\"showlegend\":false,\"text\":[5.6,51.8,5.5,10.7],\"textposition\":\"auto\",\"x\":[\"nuclear monoparental\",\"nuclear biparental\",\"extenso monoparental\",\"extenso biparental\"],\"xaxis\":\"x9\",\"y\":[5.6,51.8,5.5,10.7],\"yaxis\":\"y9\",\"type\":\"bar\"},{\"alignmentgroup\":\"True\",\"error_y\":{\"array\":[0.0751579634304204,0.5247841080765969,0.0685689453318669,0.1135160200396468],\"arrayminus\":[0.0656692319278508,0.5076986531285868,0.0604228734168064,0.1032213863308399]},\"hovertemplate\":\"pobreza=no pobre<br>anio=1998<br>thogar=%{x}<br>Hogares(%)=%{text}<extra></extra>\",\"legendgroup\":\"no pobre\",\"marker\":{\"color\":\"#00cc96\",\"pattern\":{\"shape\":\"\"}},\"name\":\"no pobre\",\"offsetgroup\":\"no pobre\",\"orientation\":\"v\",\"showlegend\":false,\"text\":[7.0,51.6,6.4,10.8],\"textposition\":\"auto\",\"x\":[\"nuclear monoparental\",\"nuclear biparental\",\"extenso monoparental\",\"extenso biparental\"],\"xaxis\":\"x8\",\"y\":[7.0,51.6,6.4,10.8],\"yaxis\":\"y8\",\"type\":\"bar\"},{\"alignmentgroup\":\"True\",\"error_y\":{\"array\":[0.071039353345106,0.5310363871125359,0.0763165665257762,0.1205502656863785],\"arrayminus\":[0.0617245209716078,0.5105736154881968,0.0662594529615175,0.1100588271304985]},\"hovertemplate\":\"pobreza=no pobre<br>anio=2000<br>thogar=%{x}<br>Hogares(%)=%{text}<extra></extra>\",\"legendgroup\":\"no pobre\",\"marker\":{\"color\":\"#00cc96\",\"pattern\":{\"shape\":\"\"}},\"name\":\"no pobre\",\"offsetgroup\":\"no pobre\",\"orientation\":\"v\",\"showlegend\":false,\"text\":[6.6,52.1,7.1,11.5],\"textposition\":\"auto\",\"x\":[\"nuclear monoparental\",\"nuclear biparental\",\"extenso monoparental\",\"extenso biparental\"],\"xaxis\":\"x7\",\"y\":[6.6,52.1,7.1,11.5],\"yaxis\":\"y7\",\"type\":\"bar\"},{\"alignmentgroup\":\"True\",\"error_y\":{\"array\":[0.0826363076814998,0.5270677029002019,0.070803797065463,0.1324260024989657],\"arrayminus\":[0.0728544224036125,0.5079223338018294,0.0624721931492697,0.1213088505663288]},\"hovertemplate\":\"pobreza=no pobre<br>anio=2003<br>thogar=%{x}<br>Hogares(%)=%{text}<extra></extra>\",\"legendgroup\":\"no pobre\",\"marker\":{\"color\":\"#00cc96\",\"pattern\":{\"shape\":\"\"}},\"name\":\"no pobre\",\"offsetgroup\":\"no pobre\",\"orientation\":\"v\",\"showlegend\":false,\"text\":[7.8,51.8,6.7,12.7],\"textposition\":\"auto\",\"x\":[\"nuclear monoparental\",\"nuclear biparental\",\"extenso monoparental\",\"extenso biparental\"],\"xaxis\":\"x6\",\"y\":[7.8,51.8,6.7,12.7],\"yaxis\":\"y6\",\"type\":\"bar\"},{\"alignmentgroup\":\"True\",\"error_y\":{\"array\":[0.1212444619355506,0.507640166342907,0.085107151502394,0.1331116255675138],\"arrayminus\":[0.1095511302809897,0.4900997941479377,0.0759098599118782,0.1215529395297125]},\"hovertemplate\":\"pobreza=no pobre<br>anio=2009<br>thogar=%{x}<br>Hogares(%)=%{text}<extra></extra>\",\"legendgroup\":\"no pobre\",\"marker\":{\"color\":\"#00cc96\",\"pattern\":{\"shape\":\"\"}},\"name\":\"no pobre\",\"offsetgroup\":\"no pobre\",\"orientation\":\"v\",\"showlegend\":false,\"text\":[11.5,49.9,8.0,12.7],\"textposition\":\"auto\",\"x\":[\"nuclear monoparental\",\"nuclear biparental\",\"extenso monoparental\",\"extenso biparental\"],\"xaxis\":\"x5\",\"y\":[11.5,49.9,8.0,12.7],\"yaxis\":\"y5\",\"type\":\"bar\"},{\"alignmentgroup\":\"True\",\"error_y\":{\"array\":[0.1449330225625469,0.4528673040059724,0.0966499351591652,0.1510740954841143],\"arrayminus\":[0.129362551554261,0.4301400430471287,0.0831189743538288,0.1370515623875533]},\"hovertemplate\":\"pobreza=no pobre<br>anio=2013<br>thogar=%{x}<br>Hogares(%)=%{text}<extra></extra>\",\"legendgroup\":\"no pobre\",\"marker\":{\"color\":\"#00cc96\",\"pattern\":{\"shape\":\"\"}},\"name\":\"no pobre\",\"offsetgroup\":\"no pobre\",\"orientation\":\"v\",\"showlegend\":false,\"text\":[13.7,44.1,9.0,14.4],\"textposition\":\"auto\",\"x\":[\"nuclear monoparental\",\"nuclear biparental\",\"extenso monoparental\",\"extenso biparental\"],\"xaxis\":\"x4\",\"y\":[13.7,44.1,9.0,14.4],\"yaxis\":\"y4\",\"type\":\"bar\"},{\"alignmentgroup\":\"True\",\"error_y\":{\"array\":[0.1449770101661924,0.4606735055039375,0.1084591991503898,0.1585804579580838],\"arrayminus\":[0.1340345723626139,0.4429604734214336,0.0986734880956188,0.1476330173227725]},\"hovertemplate\":\"pobreza=no pobre<br>anio=2015<br>thogar=%{x}<br>Hogares(%)=%{text}<extra></extra>\",\"legendgroup\":\"no pobre\",\"marker\":{\"color\":\"#00cc96\",\"pattern\":{\"shape\":\"\"}},\"name\":\"no pobre\",\"offsetgroup\":\"no pobre\",\"orientation\":\"v\",\"showlegend\":false,\"text\":[13.9,45.2,10.3,15.3],\"textposition\":\"auto\",\"x\":[\"nuclear monoparental\",\"nuclear biparental\",\"extenso monoparental\",\"extenso biparental\"],\"xaxis\":\"x3\",\"y\":[13.9,45.2,10.3,15.3],\"yaxis\":\"y3\",\"type\":\"bar\"},{\"alignmentgroup\":\"True\",\"error_y\":{\"array\":[0.1725793341153955,0.477538423843532,0.1101775273115139,0.151324851004179],\"arrayminus\":[0.1574702353605978,0.459853502104488,0.0992713739734205,0.1392573161240135]},\"hovertemplate\":\"pobreza=no pobre<br>anio=2017<br>thogar=%{x}<br>Hogares(%)=%{text}<extra></extra>\",\"legendgroup\":\"no pobre\",\"marker\":{\"color\":\"#00cc96\",\"pattern\":{\"shape\":\"\"}},\"name\":\"no pobre\",\"offsetgroup\":\"no pobre\",\"orientation\":\"v\",\"showlegend\":false,\"text\":[16.5,46.9,10.5,14.5],\"textposition\":\"auto\",\"x\":[\"nuclear monoparental\",\"nuclear biparental\",\"extenso monoparental\",\"extenso biparental\"],\"xaxis\":\"x2\",\"y\":[16.5,46.9,10.5,14.5],\"yaxis\":\"y2\",\"type\":\"bar\"},{\"alignmentgroup\":\"True\",\"error_y\":{\"array\":[0.2154462600132955,0.4419055922513219,0.1225510361910101,0.1230399322720762],\"arrayminus\":[0.1958870196548588,0.4057039076296292,0.1102687774767973,0.1112466129176042]},\"hovertemplate\":\"pobreza=no pobre<br>anio=2020<br>thogar=%{x}<br>Hogares(%)=%{text}<extra></extra>\",\"legendgroup\":\"no pobre\",\"marker\":{\"color\":\"#00cc96\",\"pattern\":{\"shape\":\"\"}},\"name\":\"no pobre\",\"offsetgroup\":\"no pobre\",\"orientation\":\"v\",\"showlegend\":false,\"text\":[20.5,42.4,11.6,11.7],\"textposition\":\"auto\",\"x\":[\"nuclear monoparental\",\"nuclear biparental\",\"extenso monoparental\",\"extenso biparental\"],\"xaxis\":\"x\",\"y\":[20.5,42.4,11.6,11.7],\"yaxis\":\"y\",\"type\":\"bar\"},{\"alignmentgroup\":\"True\",\"error_y\":{\"array\":[0.0213410812623446,0.1033055115865809,0.0144467810413679,0.0165544303399866],\"arrayminus\":[0.0165359743112388,0.092597135649338,0.010568906397263,0.0122057126029124]},\"hovertemplate\":\"pobreza=pobre extremo<br>anio=1990<br>thogar=%{x}<br>Hogares(%)=%{text}<extra></extra>\",\"legendgroup\":\"pobre extremo\",\"marker\":{\"color\":\"#ab63fa\",\"pattern\":{\"shape\":\"\"}},\"name\":\"pobre extremo\",\"offsetgroup\":\"pobre extremo\",\"orientation\":\"v\",\"showlegend\":true,\"text\":[1.9,9.8,1.2,1.4],\"textposition\":\"auto\",\"x\":[\"nuclear monoparental\",\"nuclear biparental\",\"extenso monoparental\",\"extenso biparental\"],\"xaxis\":\"x12\",\"y\":[1.9,9.8,1.2,1.4],\"yaxis\":\"y12\",\"type\":\"bar\"},{\"alignmentgroup\":\"True\",\"error_y\":{\"array\":[0.0172792846439773,0.0736597977839714,0.00767419851871,0.0098615368250505],\"arrayminus\":[0.0133384613464566,0.0657059059060419,0.0053427521872432,0.0071835101492564]},\"hovertemplate\":\"pobreza=pobre extremo<br>anio=1992<br>thogar=%{x}<br>Hogares(%)=%{text}<extra></extra>\",\"legendgroup\":\"pobre extremo\",\"marker\":{\"color\":\"#ab63fa\",\"pattern\":{\"shape\":\"\"}},\"name\":\"pobre extremo\",\"offsetgroup\":\"pobre extremo\",\"orientation\":\"v\",\"showlegend\":false,\"text\":[1.5,7.0,0.6,0.8],\"textposition\":\"auto\",\"x\":[\"nuclear monoparental\",\"nuclear biparental\",\"extenso monoparental\",\"extenso biparental\"],\"xaxis\":\"x11\",\"y\":[1.5,7.0,0.6,0.8],\"yaxis\":\"y11\",\"type\":\"bar\"},{\"alignmentgroup\":\"True\",\"error_y\":{\"array\":[0.0157101338908561,0.0565184605166644,0.0091184806990068,0.0105734951459338],\"arrayminus\":[0.0120607316013264,0.0499665300846146,0.0064195745564536,0.0075903976519776]},\"hovertemplate\":\"pobreza=pobre extremo<br>anio=1994<br>thogar=%{x}<br>Hogares(%)=%{text}<extra></extra>\",\"legendgroup\":\"pobre extremo\",\"marker\":{\"color\":\"#ab63fa\",\"pattern\":{\"shape\":\"\"}},\"name\":\"pobre extremo\",\"offsetgroup\":\"pobre extremo\",\"orientation\":\"v\",\"showlegend\":false,\"text\":[1.4,5.3,0.8,0.9],\"textposition\":\"auto\",\"x\":[\"nuclear monoparental\",\"nuclear biparental\",\"extenso monoparental\",\"extenso biparental\"],\"xaxis\":\"x10\",\"y\":[1.4,5.3,0.8,0.9],\"yaxis\":\"y10\",\"type\":\"bar\"},{\"alignmentgroup\":\"True\",\"error_y\":{\"array\":[0.0116503921310154,0.0467866575488698,0.0055256117093063,0.0079454567912653],\"arrayminus\":[0.0084361411860076,0.0397048222311884,0.0034694283894126,0.0052252777318975]},\"hovertemplate\":\"pobreza=pobre extremo<br>anio=1996<br>thogar=%{x}<br>Hogares(%)=%{text}<extra></extra>\",\"legendgroup\":\"pobre extremo\",\"marker\":{\"color\":\"#ab63fa\",\"pattern\":{\"shape\":\"\"}},\"name\":\"pobre extremo\",\"offsetgroup\":\"pobre extremo\",\"orientation\":\"v\",\"showlegend\":false,\"text\":[1.0,4.3,0.4,0.6],\"textposition\":\"auto\",\"x\":[\"nuclear monoparental\",\"nuclear biparental\",\"extenso monoparental\",\"extenso biparental\"],\"xaxis\":\"x9\",\"y\":[1.0,4.3,0.4,0.6],\"yaxis\":\"y9\",\"type\":\"bar\"},{\"alignmentgroup\":\"True\",\"error_y\":{\"array\":[0.010796787309433,0.04423799981452,0.0061680081852725,0.0073248657812114],\"arrayminus\":[0.0077752802649951,0.0380489861263129,0.003925082263305,0.0051714293472146]},\"hovertemplate\":\"pobreza=pobre extremo<br>anio=1998<br>thogar=%{x}<br>Hogares(%)=%{text}<extra></extra>\",\"legendgroup\":\"pobre extremo\",\"marker\":{\"color\":\"#ab63fa\",\"pattern\":{\"shape\":\"\"}},\"name\":\"pobre extremo\",\"offsetgroup\":\"pobre extremo\",\"orientation\":\"v\",\"showlegend\":false,\"text\":[0.9,4.1,0.5,0.6],\"textposition\":\"auto\",\"x\":[\"nuclear monoparental\",\"nuclear biparental\",\"extenso monoparental\",\"extenso biparental\"],\"xaxis\":\"x8\",\"y\":[0.9,4.1,0.5,0.6],\"yaxis\":\"y8\",\"type\":\"bar\"},{\"alignmentgroup\":\"True\",\"error_y\":{\"array\":[0.0122408162018685,0.0412277578547551,0.0061617861949874,0.0094034020016339],\"arrayminus\":[0.0083716640915786,0.0355902103814734,0.0041961351853629,0.006950195309418]},\"hovertemplate\":\"pobreza=pobre extremo<br>anio=2000<br>thogar=%{x}<br>Hogares(%)=%{text}<extra></extra>\",\"legendgroup\":\"pobre extremo\",\"marker\":{\"color\":\"#ab63fa\",\"pattern\":{\"shape\":\"\"}},\"name\":\"pobre extremo\",\"offsetgroup\":\"pobre extremo\",\"orientation\":\"v\",\"showlegend\":false,\"text\":[1.0,3.8,0.5,0.8],\"textposition\":\"auto\",\"x\":[\"nuclear monoparental\",\"nuclear biparental\",\"extenso monoparental\",\"extenso biparental\"],\"xaxis\":\"x7\",\"y\":[1.0,3.8,0.5,0.8],\"yaxis\":\"y7\",\"type\":\"bar\"},{\"alignmentgroup\":\"True\",\"error_y\":{\"array\":[0.0119642766544959,0.0333203132588416,0.006676406607634,0.0080098455467207],\"arrayminus\":[0.0091652426181261,0.0284491189686183,0.0043270113219344,0.0055219721261996]},\"hovertemplate\":\"pobreza=pobre extremo<br>anio=2003<br>thogar=%{x}<br>Hogares(%)=%{text}<extra></extra>\",\"legendgroup\":\"pobre extremo\",\"marker\":{\"color\":\"#ab63fa\",\"pattern\":{\"shape\":\"\"}},\"name\":\"pobre extremo\",\"offsetgroup\":\"pobre extremo\",\"orientation\":\"v\",\"showlegend\":false,\"text\":[1.0,3.1,0.5,0.7],\"textposition\":\"auto\",\"x\":[\"nuclear monoparental\",\"nuclear biparental\",\"extenso monoparental\",\"extenso biparental\"],\"xaxis\":\"x6\",\"y\":[1.0,3.1,0.5,0.7],\"yaxis\":\"y6\",\"type\":\"bar\"},{\"alignmentgroup\":\"True\",\"error_y\":{\"array\":[0.0169766946075679,0.0213708115836758,0.0063572148335034,0.0055709991249589],\"arrayminus\":[0.0133380394121914,0.0175096676119526,0.0040587703492448,0.0035522399219722]},\"hovertemplate\":\"pobreza=pobre extremo<br>anio=2009<br>thogar=%{x}<br>Hogares(%)=%{text}<extra></extra>\",\"legendgroup\":\"pobre extremo\",\"marker\":{\"color\":\"#ab63fa\",\"pattern\":{\"shape\":\"\"}},\"name\":\"pobre extremo\",\"offsetgroup\":\"pobre extremo\",\"orientation\":\"v\",\"showlegend\":false,\"text\":[1.5,1.9,0.5,0.4],\"textposition\":\"auto\",\"x\":[\"nuclear monoparental\",\"nuclear biparental\",\"extenso monoparental\",\"extenso biparental\"],\"xaxis\":\"x5\",\"y\":[1.5,1.9,0.5,0.4],\"yaxis\":\"y5\",\"type\":\"bar\"},{\"alignmentgroup\":\"True\",\"error_y\":{\"array\":[0.0229757573259935,0.0295709554954825,0.0090806880115373,0.0062993477296869],\"arrayminus\":[0.0184752923199494,0.0247481607177195,0.0060988884970232,0.0044616117040436]},\"hovertemplate\":\"pobreza=pobre extremo<br>anio=2013<br>thogar=%{x}<br>Hogares(%)=%{text}<extra></extra>\",\"legendgroup\":\"pobre extremo\",\"marker\":{\"color\":\"#ab63fa\",\"pattern\":{\"shape\":\"\"}},\"name\":\"pobre extremo\",\"offsetgroup\":\"pobre extremo\",\"orientation\":\"v\",\"showlegend\":false,\"text\":[2.1,2.7,0.7,0.5],\"textposition\":\"auto\",\"x\":[\"nuclear monoparental\",\"nuclear biparental\",\"extenso monoparental\",\"extenso biparental\"],\"xaxis\":\"x4\",\"y\":[2.1,2.7,0.7,0.5],\"yaxis\":\"y4\",\"type\":\"bar\"},{\"alignmentgroup\":\"True\",\"error_y\":{\"array\":[0.0192628247784743,0.0215369348971381,0.0067883908380806,0.004855984897895],\"arrayminus\":[0.0154677212198615,0.0180711349722207,0.0048971156892587,0.0032567285771659]},\"hovertemplate\":\"pobreza=pobre extremo<br>anio=2015<br>thogar=%{x}<br>Hogares(%)=%{text}<extra></extra>\",\"legendgroup\":\"pobre extremo\",\"marker\":{\"color\":\"#ab63fa\",\"pattern\":{\"shape\":\"\"}},\"name\":\"pobre extremo\",\"offsetgroup\":\"pobre extremo\",\"orientation\":\"v\",\"showlegend\":false,\"text\":[1.7,2.0,0.6,0.4],\"textposition\":\"auto\",\"x\":[\"nuclear monoparental\",\"nuclear biparental\",\"extenso monoparental\",\"extenso biparental\"],\"xaxis\":\"x3\",\"y\":[1.7,2.0,0.6,0.4],\"yaxis\":\"y3\",\"type\":\"bar\"},{\"alignmentgroup\":\"True\",\"error_y\":{\"array\":[0.0150789504936053,0.0149066652891934,0.0045298440956359,0.0028639070249094],\"arrayminus\":[0.0108428546931812,0.0118911712135223,0.0026220990724038,0.0017225990400483]},\"hovertemplate\":\"pobreza=pobre extremo<br>anio=2017<br>thogar=%{x}<br>Hogares(%)=%{text}<extra></extra>\",\"legendgroup\":\"pobre extremo\",\"marker\":{\"color\":\"#ab63fa\",\"pattern\":{\"shape\":\"\"}},\"name\":\"pobre extremo\",\"offsetgroup\":\"pobre extremo\",\"orientation\":\"v\",\"showlegend\":false,\"text\":[1.3,1.3,0.3,0.2],\"textposition\":\"auto\",\"x\":[\"nuclear monoparental\",\"nuclear biparental\",\"extenso monoparental\",\"extenso biparental\"],\"xaxis\":\"x2\",\"y\":[1.3,1.3,0.3,0.2],\"yaxis\":\"y2\",\"type\":\"bar\"},{\"alignmentgroup\":\"True\",\"error_y\":{\"array\":[0.0224500147353362,0.0221951519138254,0.0088282759490865,0.0073031978379926],\"arrayminus\":[0.0177629464695299,0.018031217595745,0.0061678830841682,0.0044385324240331]},\"hovertemplate\":\"pobreza=pobre extremo<br>anio=2020<br>thogar=%{x}<br>Hogares(%)=%{text}<extra></extra>\",\"legendgroup\":\"pobre extremo\",\"marker\":{\"color\":\"#ab63fa\",\"pattern\":{\"shape\":\"\"}},\"name\":\"pobre extremo\",\"offsetgroup\":\"pobre extremo\",\"orientation\":\"v\",\"showlegend\":false,\"text\":[2.0,2.0,0.7,0.6],\"textposition\":\"auto\",\"x\":[\"nuclear monoparental\",\"nuclear biparental\",\"extenso monoparental\",\"extenso biparental\"],\"xaxis\":\"x\",\"y\":[2.0,2.0,0.7,0.6],\"yaxis\":\"y\",\"type\":\"bar\"},{\"alignmentgroup\":\"True\",\"error_y\":{\"array\":[0.0318330604299625,0.2104459044269858,0.0281447045387617,0.0381733904515021],\"arrayminus\":[0.0257146066117511,0.1957770860835928,0.022401327902431,0.0316837946135976]},\"hovertemplate\":\"pobreza=pobre no extremo<br>anio=1990<br>thogar=%{x}<br>Hogares(%)=%{text}<extra></extra>\",\"legendgroup\":\"pobre no extremo\",\"marker\":{\"color\":\"#FFA15A\",\"pattern\":{\"shape\":\"\"}},\"name\":\"pobre no extremo\",\"offsetgroup\":\"pobre no extremo\",\"orientation\":\"v\",\"showlegend\":true,\"text\":[2.9,20.3,2.5,3.5],\"textposition\":\"auto\",\"x\":[\"nuclear monoparental\",\"nuclear biparental\",\"extenso monoparental\",\"extenso biparental\"],\"xaxis\":\"x12\",\"y\":[2.9,20.3,2.5,3.5],\"yaxis\":\"y12\",\"type\":\"bar\"},{\"alignmentgroup\":\"True\",\"error_y\":{\"array\":[0.0321422646207279,0.2023472565474255,0.0255006496946065,0.0290659362966565],\"arrayminus\":[0.0265276731376637,0.1895002037504683,0.0207434836197639,0.0242672598694178]},\"hovertemplate\":\"pobreza=pobre no extremo<br>anio=1992<br>thogar=%{x}<br>Hogares(%)=%{text}<extra></extra>\",\"legendgroup\":\"pobre no extremo\",\"marker\":{\"color\":\"#FFA15A\",\"pattern\":{\"shape\":\"\"}},\"name\":\"pobre no extremo\",\"offsetgroup\":\"pobre no extremo\",\"orientation\":\"v\",\"showlegend\":false,\"text\":[2.9,19.6,2.3,2.7],\"textposition\":\"auto\",\"x\":[\"nuclear monoparental\",\"nuclear biparental\",\"extenso monoparental\",\"extenso biparental\"],\"xaxis\":\"x11\",\"y\":[2.9,19.6,2.3,2.7],\"yaxis\":\"y11\",\"type\":\"bar\"},{\"alignmentgroup\":\"True\",\"error_y\":{\"array\":[0.0278668925374335,0.1635803560086392,0.0206681763313797,0.0322732890226758],\"arrayminus\":[0.022786985817977,0.152347795506596,0.0164633424223042,0.0270296657021293]},\"hovertemplate\":\"pobreza=pobre no extremo<br>anio=1994<br>thogar=%{x}<br>Hogares(%)=%{text}<extra></extra>\",\"legendgroup\":\"pobre no extremo\",\"marker\":{\"color\":\"#FFA15A\",\"pattern\":{\"shape\":\"\"}},\"name\":\"pobre no extremo\",\"offsetgroup\":\"pobre no extremo\",\"orientation\":\"v\",\"showlegend\":false,\"text\":[2.5,15.8,1.8,3.0],\"textposition\":\"auto\",\"x\":[\"nuclear monoparental\",\"nuclear biparental\",\"extenso monoparental\",\"extenso biparental\"],\"xaxis\":\"x10\",\"y\":[2.5,15.8,1.8,3.0],\"yaxis\":\"y10\",\"type\":\"bar\"},{\"alignmentgroup\":\"True\",\"error_y\":{\"array\":[0.0256980564590032,0.1439015690619212,0.0170950814358527,0.0297702934358678],\"arrayminus\":[0.0188818791422124,0.1294295222080247,0.0127642271160384,0.023659373381565]},\"hovertemplate\":\"pobreza=pobre no extremo<br>anio=1996<br>thogar=%{x}<br>Hogares(%)=%{text}<extra></extra>\",\"legendgroup\":\"pobre no extremo\",\"marker\":{\"color\":\"#FFA15A\",\"pattern\":{\"shape\":\"\"}},\"name\":\"pobre no extremo\",\"offsetgroup\":\"pobre no extremo\",\"orientation\":\"v\",\"showlegend\":false,\"text\":[2.2,13.7,1.5,2.7],\"textposition\":\"auto\",\"x\":[\"nuclear monoparental\",\"nuclear biparental\",\"extenso monoparental\",\"extenso biparental\"],\"xaxis\":\"x9\",\"y\":[2.2,13.7,1.5,2.7],\"yaxis\":\"y9\",\"type\":\"bar\"},{\"alignmentgroup\":\"True\",\"error_y\":{\"array\":[0.0207826037125931,0.1249534100971027,0.018596232347685,0.027512136516283],\"arrayminus\":[0.0164846519893333,0.1146254839044626,0.0145541487733761,0.0225679303914937]},\"hovertemplate\":\"pobreza=pobre no extremo<br>anio=1998<br>thogar=%{x}<br>Hogares(%)=%{text}<extra></extra>\",\"legendgroup\":\"pobre no extremo\",\"marker\":{\"color\":\"#FFA15A\",\"pattern\":{\"shape\":\"\"}},\"name\":\"pobre no extremo\",\"offsetgroup\":\"pobre no extremo\",\"orientation\":\"v\",\"showlegend\":false,\"text\":[1.9,12.0,1.6,2.5],\"textposition\":\"auto\",\"x\":[\"nuclear monoparental\",\"nuclear biparental\",\"extenso monoparental\",\"extenso biparental\"],\"xaxis\":\"x8\",\"y\":[1.9,12.0,1.6,2.5],\"yaxis\":\"y8\",\"type\":\"bar\"},{\"alignmentgroup\":\"True\",\"error_y\":{\"array\":[0.0182359093726032,0.1137547976694605,0.0187983439898479,0.0260157430709906],\"arrayminus\":[0.0141887884203402,0.1038603757009137,0.0148780642163362,0.0212306788046464]},\"hovertemplate\":\"pobreza=pobre no extremo<br>anio=2000<br>thogar=%{x}<br>Hogares(%)=%{text}<extra></extra>\",\"legendgroup\":\"pobre no extremo\",\"marker\":{\"color\":\"#FFA15A\",\"pattern\":{\"shape\":\"\"}},\"name\":\"pobre no extremo\",\"offsetgroup\":\"pobre no extremo\",\"orientation\":\"v\",\"showlegend\":false,\"text\":[1.6,10.9,1.7,2.4],\"textposition\":\"auto\",\"x\":[\"nuclear monoparental\",\"nuclear biparental\",\"extenso monoparental\",\"extenso biparental\"],\"xaxis\":\"x7\",\"y\":[1.6,10.9,1.7,2.4],\"yaxis\":\"y7\",\"type\":\"bar\"},{\"alignmentgroup\":\"True\",\"error_y\":{\"array\":[0.0208841011708987,0.1032762964779581,0.019000801836499,0.0271921497479077],\"arrayminus\":[0.0169179318676289,0.0941483991108874,0.0137191813720718,0.0225347141357863]},\"hovertemplate\":\"pobreza=pobre no extremo<br>anio=2003<br>thogar=%{x}<br>Hogares(%)=%{text}<extra></extra>\",\"legendgroup\":\"pobre no extremo\",\"marker\":{\"color\":\"#FFA15A\",\"pattern\":{\"shape\":\"\"}},\"name\":\"pobre no extremo\",\"offsetgroup\":\"pobre no extremo\",\"orientation\":\"v\",\"showlegend\":false,\"text\":[1.9,9.9,1.6,2.5],\"textposition\":\"auto\",\"x\":[\"nuclear monoparental\",\"nuclear biparental\",\"extenso monoparental\",\"extenso biparental\"],\"xaxis\":\"x6\",\"y\":[1.9,9.9,1.6,2.5],\"yaxis\":\"y6\",\"type\":\"bar\"},{\"alignmentgroup\":\"True\",\"error_y\":{\"array\":[0.0343665634213541,0.0696479960805665,0.0203078314261379,0.0211520010665336],\"arrayminus\":[0.0289265669209843,0.061998552964615,0.0163022495839359,0.0168435063965292]},\"hovertemplate\":\"pobreza=pobre no extremo<br>anio=2009<br>thogar=%{x}<br>Hogares(%)=%{text}<extra></extra>\",\"legendgroup\":\"pobre no extremo\",\"marker\":{\"color\":\"#FFA15A\",\"pattern\":{\"shape\":\"\"}},\"name\":\"pobre no extremo\",\"offsetgroup\":\"pobre no extremo\",\"orientation\":\"v\",\"showlegend\":false,\"text\":[3.2,6.6,1.8,1.9],\"textposition\":\"auto\",\"x\":[\"nuclear monoparental\",\"nuclear biparental\",\"extenso monoparental\",\"extenso biparental\"],\"xaxis\":\"x5\",\"y\":[3.2,6.6,1.8,1.9],\"yaxis\":\"y5\",\"type\":\"bar\"},{\"alignmentgroup\":\"True\",\"error_y\":{\"array\":[0.0359366461287357,0.0708739036554218,0.0165701641011569,0.0179305343288601],\"arrayminus\":[0.0296967861758248,0.0620997500211134,0.0123023252780205,0.0113621749261835]},\"hovertemplate\":\"pobreza=pobre no extremo<br>anio=2013<br>thogar=%{x}<br>Hogares(%)=%{text}<extra></extra>\",\"legendgroup\":\"pobre no extremo\",\"marker\":{\"color\":\"#FFA15A\",\"pattern\":{\"shape\":\"\"}},\"name\":\"pobre no extremo\",\"offsetgroup\":\"pobre no extremo\",\"orientation\":\"v\",\"showlegend\":false,\"text\":[3.3,6.6,1.4,1.4],\"textposition\":\"auto\",\"x\":[\"nuclear monoparental\",\"nuclear biparental\",\"extenso monoparental\",\"extenso biparental\"],\"xaxis\":\"x4\",\"y\":[3.3,6.6,1.4,1.4],\"yaxis\":\"y4\",\"type\":\"bar\"},{\"alignmentgroup\":\"True\",\"error_y\":{\"array\":[0.0316494917739094,0.0538332568276988,0.0154036482490467,0.01332296224469],\"arrayminus\":[0.0268483188732879,0.0481359259055276,0.0121830172718656,0.0104371222264946]},\"hovertemplate\":\"pobreza=pobre no extremo<br>anio=2015<br>thogar=%{x}<br>Hogares(%)=%{text}<extra></extra>\",\"legendgroup\":\"pobre no extremo\",\"marker\":{\"color\":\"#FFA15A\",\"pattern\":{\"shape\":\"\"}},\"name\":\"pobre no extremo\",\"offsetgroup\":\"pobre no extremo\",\"orientation\":\"v\",\"showlegend\":false,\"text\":[2.9,5.1,1.4,1.2],\"textposition\":\"auto\",\"x\":[\"nuclear monoparental\",\"nuclear biparental\",\"extenso monoparental\",\"extenso biparental\"],\"xaxis\":\"x3\",\"y\":[2.9,5.1,1.4,1.2],\"yaxis\":\"y3\",\"type\":\"bar\"},{\"alignmentgroup\":\"True\",\"error_y\":{\"array\":[0.0284646727275967,0.0444275563852373,0.0112720732206893,0.0092069645521004],\"arrayminus\":[0.0230026317466527,0.0387002660656542,0.0086013436728498,0.0068822546334162]},\"hovertemplate\":\"pobreza=pobre no extremo<br>anio=2017<br>thogar=%{x}<br>Hogares(%)=%{text}<extra></extra>\",\"legendgroup\":\"pobre no extremo\",\"marker\":{\"color\":\"#FFA15A\",\"pattern\":{\"shape\":\"\"}},\"name\":\"pobre no extremo\",\"offsetgroup\":\"pobre no extremo\",\"orientation\":\"v\",\"showlegend\":false,\"text\":[2.6,4.1,1.0,0.8],\"textposition\":\"auto\",\"x\":[\"nuclear monoparental\",\"nuclear biparental\",\"extenso monoparental\",\"extenso biparental\"],\"xaxis\":\"x2\",\"y\":[2.6,4.1,1.0,0.8],\"yaxis\":\"y2\",\"type\":\"bar\"},{\"alignmentgroup\":\"True\",\"error_y\":{\"array\":[0.0339868546221047,0.0339464304466577,0.0152851959327019,0.0107484157546711],\"arrayminus\":[0.0282404231356169,0.0282978642646862,0.0114653564153761,0.0079466557361828]},\"hovertemplate\":\"pobreza=pobre no extremo<br>anio=2020<br>thogar=%{x}<br>Hogares(%)=%{text}<extra></extra>\",\"legendgroup\":\"pobre no extremo\",\"marker\":{\"color\":\"#FFA15A\",\"pattern\":{\"shape\":\"\"}},\"name\":\"pobre no extremo\",\"offsetgroup\":\"pobre no extremo\",\"orientation\":\"v\",\"showlegend\":false,\"text\":[3.1,3.1,1.3,0.9],\"textposition\":\"auto\",\"x\":[\"nuclear monoparental\",\"nuclear biparental\",\"extenso monoparental\",\"extenso biparental\"],\"xaxis\":\"x\",\"y\":[3.1,3.1,1.3,0.9],\"yaxis\":\"y\",\"type\":\"bar\"}],                        {\"template\":{\"data\":{\"barpolar\":[{\"marker\":{\"line\":{\"color\":\"#E5ECF6\",\"width\":0.5},\"pattern\":{\"fillmode\":\"overlay\",\"size\":10,\"solidity\":0.2}},\"type\":\"barpolar\"}],\"bar\":[{\"error_x\":{\"color\":\"#2a3f5f\"},\"error_y\":{\"color\":\"#2a3f5f\"},\"marker\":{\"line\":{\"color\":\"#E5ECF6\",\"width\":0.5},\"pattern\":{\"fillmode\":\"overlay\",\"size\":10,\"solidity\":0.2}},\"type\":\"bar\"}],\"carpet\":[{\"aaxis\":{\"endlinecolor\":\"#2a3f5f\",\"gridcolor\":\"white\",\"linecolor\":\"white\",\"minorgridcolor\":\"white\",\"startlinecolor\":\"#2a3f5f\"},\"baxis\":{\"endlinecolor\":\"#2a3f5f\",\"gridcolor\":\"white\",\"linecolor\":\"white\",\"minorgridcolor\":\"white\",\"startlinecolor\":\"#2a3f5f\"},\"type\":\"carpet\"}],\"choropleth\":[{\"colorbar\":{\"outlinewidth\":0,\"ticks\":\"\"},\"type\":\"choropleth\"}],\"contourcarpet\":[{\"colorbar\":{\"outlinewidth\":0,\"ticks\":\"\"},\"type\":\"contourcarpet\"}],\"contour\":[{\"colorbar\":{\"outlinewidth\":0,\"ticks\":\"\"},\"colorscale\":[[0.0,\"#0d0887\"],[0.1111111111111111,\"#46039f\"],[0.2222222222222222,\"#7201a8\"],[0.3333333333333333,\"#9c179e\"],[0.4444444444444444,\"#bd3786\"],[0.5555555555555556,\"#d8576b\"],[0.6666666666666666,\"#ed7953\"],[0.7777777777777778,\"#fb9f3a\"],[0.8888888888888888,\"#fdca26\"],[1.0,\"#f0f921\"]],\"type\":\"contour\"}],\"heatmapgl\":[{\"colorbar\":{\"outlinewidth\":0,\"ticks\":\"\"},\"colorscale\":[[0.0,\"#0d0887\"],[0.1111111111111111,\"#46039f\"],[0.2222222222222222,\"#7201a8\"],[0.3333333333333333,\"#9c179e\"],[0.4444444444444444,\"#bd3786\"],[0.5555555555555556,\"#d8576b\"],[0.6666666666666666,\"#ed7953\"],[0.7777777777777778,\"#fb9f3a\"],[0.8888888888888888,\"#fdca26\"],[1.0,\"#f0f921\"]],\"type\":\"heatmapgl\"}],\"heatmap\":[{\"colorbar\":{\"outlinewidth\":0,\"ticks\":\"\"},\"colorscale\":[[0.0,\"#0d0887\"],[0.1111111111111111,\"#46039f\"],[0.2222222222222222,\"#7201a8\"],[0.3333333333333333,\"#9c179e\"],[0.4444444444444444,\"#bd3786\"],[0.5555555555555556,\"#d8576b\"],[0.6666666666666666,\"#ed7953\"],[0.7777777777777778,\"#fb9f3a\"],[0.8888888888888888,\"#fdca26\"],[1.0,\"#f0f921\"]],\"type\":\"heatmap\"}],\"histogram2dcontour\":[{\"colorbar\":{\"outlinewidth\":0,\"ticks\":\"\"},\"colorscale\":[[0.0,\"#0d0887\"],[0.1111111111111111,\"#46039f\"],[0.2222222222222222,\"#7201a8\"],[0.3333333333333333,\"#9c179e\"],[0.4444444444444444,\"#bd3786\"],[0.5555555555555556,\"#d8576b\"],[0.6666666666666666,\"#ed7953\"],[0.7777777777777778,\"#fb9f3a\"],[0.8888888888888888,\"#fdca26\"],[1.0,\"#f0f921\"]],\"type\":\"histogram2dcontour\"}],\"histogram2d\":[{\"colorbar\":{\"outlinewidth\":0,\"ticks\":\"\"},\"colorscale\":[[0.0,\"#0d0887\"],[0.1111111111111111,\"#46039f\"],[0.2222222222222222,\"#7201a8\"],[0.3333333333333333,\"#9c179e\"],[0.4444444444444444,\"#bd3786\"],[0.5555555555555556,\"#d8576b\"],[0.6666666666666666,\"#ed7953\"],[0.7777777777777778,\"#fb9f3a\"],[0.8888888888888888,\"#fdca26\"],[1.0,\"#f0f921\"]],\"type\":\"histogram2d\"}],\"histogram\":[{\"marker\":{\"pattern\":{\"fillmode\":\"overlay\",\"size\":10,\"solidity\":0.2}},\"type\":\"histogram\"}],\"mesh3d\":[{\"colorbar\":{\"outlinewidth\":0,\"ticks\":\"\"},\"type\":\"mesh3d\"}],\"parcoords\":[{\"line\":{\"colorbar\":{\"outlinewidth\":0,\"ticks\":\"\"}},\"type\":\"parcoords\"}],\"pie\":[{\"automargin\":true,\"type\":\"pie\"}],\"scatter3d\":[{\"line\":{\"colorbar\":{\"outlinewidth\":0,\"ticks\":\"\"}},\"marker\":{\"colorbar\":{\"outlinewidth\":0,\"ticks\":\"\"}},\"type\":\"scatter3d\"}],\"scattercarpet\":[{\"marker\":{\"colorbar\":{\"outlinewidth\":0,\"ticks\":\"\"}},\"type\":\"scattercarpet\"}],\"scattergeo\":[{\"marker\":{\"colorbar\":{\"outlinewidth\":0,\"ticks\":\"\"}},\"type\":\"scattergeo\"}],\"scattergl\":[{\"marker\":{\"colorbar\":{\"outlinewidth\":0,\"ticks\":\"\"}},\"type\":\"scattergl\"}],\"scattermapbox\":[{\"marker\":{\"colorbar\":{\"outlinewidth\":0,\"ticks\":\"\"}},\"type\":\"scattermapbox\"}],\"scatterpolargl\":[{\"marker\":{\"colorbar\":{\"outlinewidth\":0,\"ticks\":\"\"}},\"type\":\"scatterpolargl\"}],\"scatterpolar\":[{\"marker\":{\"colorbar\":{\"outlinewidth\":0,\"ticks\":\"\"}},\"type\":\"scatterpolar\"}],\"scatter\":[{\"marker\":{\"colorbar\":{\"outlinewidth\":0,\"ticks\":\"\"}},\"type\":\"scatter\"}],\"scatterternary\":[{\"marker\":{\"colorbar\":{\"outlinewidth\":0,\"ticks\":\"\"}},\"type\":\"scatterternary\"}],\"surface\":[{\"colorbar\":{\"outlinewidth\":0,\"ticks\":\"\"},\"colorscale\":[[0.0,\"#0d0887\"],[0.1111111111111111,\"#46039f\"],[0.2222222222222222,\"#7201a8\"],[0.3333333333333333,\"#9c179e\"],[0.4444444444444444,\"#bd3786\"],[0.5555555555555556,\"#d8576b\"],[0.6666666666666666,\"#ed7953\"],[0.7777777777777778,\"#fb9f3a\"],[0.8888888888888888,\"#fdca26\"],[1.0,\"#f0f921\"]],\"type\":\"surface\"}],\"table\":[{\"cells\":{\"fill\":{\"color\":\"#EBF0F8\"},\"line\":{\"color\":\"white\"}},\"header\":{\"fill\":{\"color\":\"#C8D4E3\"},\"line\":{\"color\":\"white\"}},\"type\":\"table\"}]},\"layout\":{\"annotationdefaults\":{\"arrowcolor\":\"#2a3f5f\",\"arrowhead\":0,\"arrowwidth\":1},\"autotypenumbers\":\"strict\",\"coloraxis\":{\"colorbar\":{\"outlinewidth\":0,\"ticks\":\"\"}},\"colorscale\":{\"diverging\":[[0,\"#8e0152\"],[0.1,\"#c51b7d\"],[0.2,\"#de77ae\"],[0.3,\"#f1b6da\"],[0.4,\"#fde0ef\"],[0.5,\"#f7f7f7\"],[0.6,\"#e6f5d0\"],[0.7,\"#b8e186\"],[0.8,\"#7fbc41\"],[0.9,\"#4d9221\"],[1,\"#276419\"]],\"sequential\":[[0.0,\"#0d0887\"],[0.1111111111111111,\"#46039f\"],[0.2222222222222222,\"#7201a8\"],[0.3333333333333333,\"#9c179e\"],[0.4444444444444444,\"#bd3786\"],[0.5555555555555556,\"#d8576b\"],[0.6666666666666666,\"#ed7953\"],[0.7777777777777778,\"#fb9f3a\"],[0.8888888888888888,\"#fdca26\"],[1.0,\"#f0f921\"]],\"sequentialminus\":[[0.0,\"#0d0887\"],[0.1111111111111111,\"#46039f\"],[0.2222222222222222,\"#7201a8\"],[0.3333333333333333,\"#9c179e\"],[0.4444444444444444,\"#bd3786\"],[0.5555555555555556,\"#d8576b\"],[0.6666666666666666,\"#ed7953\"],[0.7777777777777778,\"#fb9f3a\"],[0.8888888888888888,\"#fdca26\"],[1.0,\"#f0f921\"]]},\"colorway\":[\"#636efa\",\"#EF553B\",\"#00cc96\",\"#ab63fa\",\"#FFA15A\",\"#19d3f3\",\"#FF6692\",\"#B6E880\",\"#FF97FF\",\"#FECB52\"],\"font\":{\"color\":\"#2a3f5f\"},\"geo\":{\"bgcolor\":\"white\",\"lakecolor\":\"white\",\"landcolor\":\"#E5ECF6\",\"showlakes\":true,\"showland\":true,\"subunitcolor\":\"white\"},\"hoverlabel\":{\"align\":\"left\"},\"hovermode\":\"closest\",\"mapbox\":{\"style\":\"light\"},\"paper_bgcolor\":\"white\",\"plot_bgcolor\":\"#E5ECF6\",\"polar\":{\"angularaxis\":{\"gridcolor\":\"white\",\"linecolor\":\"white\",\"ticks\":\"\"},\"bgcolor\":\"#E5ECF6\",\"radialaxis\":{\"gridcolor\":\"white\",\"linecolor\":\"white\",\"ticks\":\"\"}},\"scene\":{\"xaxis\":{\"backgroundcolor\":\"#E5ECF6\",\"gridcolor\":\"white\",\"gridwidth\":2,\"linecolor\":\"white\",\"showbackground\":true,\"ticks\":\"\",\"zerolinecolor\":\"white\"},\"yaxis\":{\"backgroundcolor\":\"#E5ECF6\",\"gridcolor\":\"white\",\"gridwidth\":2,\"linecolor\":\"white\",\"showbackground\":true,\"ticks\":\"\",\"zerolinecolor\":\"white\"},\"zaxis\":{\"backgroundcolor\":\"#E5ECF6\",\"gridcolor\":\"white\",\"gridwidth\":2,\"linecolor\":\"white\",\"showbackground\":true,\"ticks\":\"\",\"zerolinecolor\":\"white\"}},\"shapedefaults\":{\"line\":{\"color\":\"#2a3f5f\"}},\"ternary\":{\"aaxis\":{\"gridcolor\":\"white\",\"linecolor\":\"white\",\"ticks\":\"\"},\"baxis\":{\"gridcolor\":\"white\",\"linecolor\":\"white\",\"ticks\":\"\"},\"bgcolor\":\"#E5ECF6\",\"caxis\":{\"gridcolor\":\"white\",\"linecolor\":\"white\",\"ticks\":\"\"}},\"title\":{\"x\":0.05},\"xaxis\":{\"automargin\":true,\"gridcolor\":\"white\",\"linecolor\":\"white\",\"ticks\":\"\",\"title\":{\"standoff\":15},\"zerolinecolor\":\"white\",\"zerolinewidth\":2},\"yaxis\":{\"automargin\":true,\"gridcolor\":\"white\",\"linecolor\":\"white\",\"ticks\":\"\",\"title\":{\"standoff\":15},\"zerolinecolor\":\"white\",\"zerolinewidth\":2}}},\"xaxis\":{\"anchor\":\"y\",\"domain\":[0.0,0.98],\"title\":{},\"showgrid\":true,\"tickangle\":0},\"yaxis\":{\"anchor\":\"x\",\"domain\":[0.0,0.05583333333333333],\"title\":{\"text\":\"Hogares(%)\",\"font\":{\"size\":10},\"standoff\":8}},\"xaxis2\":{\"anchor\":\"y2\",\"domain\":[0.0,0.98],\"matches\":\"x\",\"showticklabels\":false,\"title\":{},\"showgrid\":true,\"tickangle\":0},\"yaxis2\":{\"anchor\":\"x2\",\"domain\":[0.08583333333333333,0.14166666666666666],\"matches\":\"y\",\"title\":{\"text\":\"Hogares(%)\",\"font\":{\"size\":10},\"standoff\":8}},\"xaxis3\":{\"anchor\":\"y3\",\"domain\":[0.0,0.98],\"matches\":\"x\",\"showticklabels\":false,\"title\":{},\"showgrid\":true,\"tickangle\":0},\"yaxis3\":{\"anchor\":\"x3\",\"domain\":[0.17166666666666666,0.22749999999999998],\"matches\":\"y\",\"title\":{\"text\":\"Hogares(%)\",\"font\":{\"size\":10},\"standoff\":8}},\"xaxis4\":{\"anchor\":\"y4\",\"domain\":[0.0,0.98],\"matches\":\"x\",\"showticklabels\":false,\"title\":{},\"showgrid\":true,\"tickangle\":0},\"yaxis4\":{\"anchor\":\"x4\",\"domain\":[0.25749999999999995,0.3133333333333333],\"matches\":\"y\",\"title\":{\"text\":\"Hogares(%)\",\"font\":{\"size\":10},\"standoff\":8}},\"xaxis5\":{\"anchor\":\"y5\",\"domain\":[0.0,0.98],\"matches\":\"x\",\"showticklabels\":false,\"title\":{},\"showgrid\":true,\"tickangle\":0},\"yaxis5\":{\"anchor\":\"x5\",\"domain\":[0.3433333333333333,0.39916666666666667],\"matches\":\"y\",\"title\":{\"text\":\"Hogares(%)\",\"font\":{\"size\":10},\"standoff\":8}},\"xaxis6\":{\"anchor\":\"y6\",\"domain\":[0.0,0.98],\"matches\":\"x\",\"showticklabels\":false,\"title\":{},\"showgrid\":true,\"tickangle\":0},\"yaxis6\":{\"anchor\":\"x6\",\"domain\":[0.4291666666666667,0.48500000000000004],\"matches\":\"y\",\"title\":{\"text\":\"Hogares(%)\",\"font\":{\"size\":10},\"standoff\":8}},\"xaxis7\":{\"anchor\":\"y7\",\"domain\":[0.0,0.98],\"matches\":\"x\",\"showticklabels\":false,\"title\":{},\"showgrid\":true,\"tickangle\":0},\"yaxis7\":{\"anchor\":\"x7\",\"domain\":[0.515,0.5708333333333333],\"matches\":\"y\",\"title\":{\"text\":\"Hogares(%)\",\"font\":{\"size\":10},\"standoff\":8}},\"xaxis8\":{\"anchor\":\"y8\",\"domain\":[0.0,0.98],\"matches\":\"x\",\"showticklabels\":false,\"title\":{},\"showgrid\":true,\"tickangle\":0},\"yaxis8\":{\"anchor\":\"x8\",\"domain\":[0.6008333333333333,0.6566666666666666],\"matches\":\"y\",\"title\":{\"text\":\"Hogares(%)\",\"font\":{\"size\":10},\"standoff\":8}},\"xaxis9\":{\"anchor\":\"y9\",\"domain\":[0.0,0.98],\"matches\":\"x\",\"showticklabels\":false,\"title\":{},\"showgrid\":true,\"tickangle\":0},\"yaxis9\":{\"anchor\":\"x9\",\"domain\":[0.6866666666666668,0.7425],\"matches\":\"y\",\"title\":{\"text\":\"Hogares(%)\",\"font\":{\"size\":10},\"standoff\":8}},\"xaxis10\":{\"anchor\":\"y10\",\"domain\":[0.0,0.98],\"matches\":\"x\",\"showticklabels\":false,\"title\":{},\"showgrid\":true,\"tickangle\":0},\"yaxis10\":{\"anchor\":\"x10\",\"domain\":[0.7725000000000001,0.8283333333333334],\"matches\":\"y\",\"title\":{\"text\":\"Hogares(%)\",\"font\":{\"size\":10},\"standoff\":8}},\"xaxis11\":{\"anchor\":\"y11\",\"domain\":[0.0,0.98],\"matches\":\"x\",\"showticklabels\":false,\"title\":{},\"showgrid\":true,\"tickangle\":0},\"yaxis11\":{\"anchor\":\"x11\",\"domain\":[0.8583333333333334,0.9141666666666667],\"matches\":\"y\",\"title\":{\"text\":\"Hogares(%)\",\"font\":{\"size\":10},\"standoff\":8}},\"xaxis12\":{\"anchor\":\"y12\",\"domain\":[0.0,0.98],\"matches\":\"x\",\"showticklabels\":false,\"title\":{},\"showgrid\":true,\"tickangle\":0},\"yaxis12\":{\"anchor\":\"x12\",\"domain\":[0.9441666666666666,0.9999999999999999],\"matches\":\"y\",\"title\":{\"text\":\"Hogares(%)\",\"font\":{\"size\":10},\"standoff\":8}},\"annotations\":[{\"font\":{},\"showarrow\":false,\"text\":\"2020\",\"textangle\":90,\"x\":0.98,\"xanchor\":\"left\",\"xref\":\"paper\",\"y\":0.027916666666666666,\"yanchor\":\"middle\",\"yref\":\"paper\"},{\"font\":{},\"showarrow\":false,\"text\":\"2017\",\"textangle\":90,\"x\":0.98,\"xanchor\":\"left\",\"xref\":\"paper\",\"y\":0.11374999999999999,\"yanchor\":\"middle\",\"yref\":\"paper\"},{\"font\":{},\"showarrow\":false,\"text\":\"2015\",\"textangle\":90,\"x\":0.98,\"xanchor\":\"left\",\"xref\":\"paper\",\"y\":0.19958333333333333,\"yanchor\":\"middle\",\"yref\":\"paper\"},{\"font\":{},\"showarrow\":false,\"text\":\"2013\",\"textangle\":90,\"x\":0.98,\"xanchor\":\"left\",\"xref\":\"paper\",\"y\":0.28541666666666665,\"yanchor\":\"middle\",\"yref\":\"paper\"},{\"font\":{},\"showarrow\":false,\"text\":\"2009\",\"textangle\":90,\"x\":0.98,\"xanchor\":\"left\",\"xref\":\"paper\",\"y\":0.37124999999999997,\"yanchor\":\"middle\",\"yref\":\"paper\"},{\"font\":{},\"showarrow\":false,\"text\":\"2003\",\"textangle\":90,\"x\":0.98,\"xanchor\":\"left\",\"xref\":\"paper\",\"y\":0.4570833333333334,\"yanchor\":\"middle\",\"yref\":\"paper\"},{\"font\":{},\"showarrow\":false,\"text\":\"2000\",\"textangle\":90,\"x\":0.98,\"xanchor\":\"left\",\"xref\":\"paper\",\"y\":0.5429166666666667,\"yanchor\":\"middle\",\"yref\":\"paper\"},{\"font\":{},\"showarrow\":false,\"text\":\"1998\",\"textangle\":90,\"x\":0.98,\"xanchor\":\"left\",\"xref\":\"paper\",\"y\":0.6287499999999999,\"yanchor\":\"middle\",\"yref\":\"paper\"},{\"font\":{},\"showarrow\":false,\"text\":\"1996\",\"textangle\":90,\"x\":0.98,\"xanchor\":\"left\",\"xref\":\"paper\",\"y\":0.7145833333333333,\"yanchor\":\"middle\",\"yref\":\"paper\"},{\"font\":{},\"showarrow\":false,\"text\":\"1994\",\"textangle\":90,\"x\":0.98,\"xanchor\":\"left\",\"xref\":\"paper\",\"y\":0.8004166666666668,\"yanchor\":\"middle\",\"yref\":\"paper\"},{\"font\":{},\"showarrow\":false,\"text\":\"1992\",\"textangle\":90,\"x\":0.98,\"xanchor\":\"left\",\"xref\":\"paper\",\"y\":0.88625,\"yanchor\":\"middle\",\"yref\":\"paper\"},{\"font\":{},\"showarrow\":false,\"text\":\"1990\",\"textangle\":90,\"x\":0.98,\"xanchor\":\"left\",\"xref\":\"paper\",\"y\":0.9720833333333332,\"yanchor\":\"middle\",\"yref\":\"paper\"}],\"legend\":{\"title\":{\"text\":\"pobreza\"},\"tracegroupgap\":0,\"orientation\":\"h\",\"y\":1,\"yanchor\":\"bottom\",\"x\":0.2,\"xanchor\":\"center\"},\"margin\":{\"t\":15,\"l\":10,\"r\":10,\"b\":10},\"barmode\":\"group\",\"height\":900},                        {\"responsive\": true}                    ).then(function(){\n                            \nvar gd = document.getElementById('a484e3cb-5de5-4325-be3c-aa3dab8d3f86');\nvar x = new MutationObserver(function (mutations, observer) {{\n        var display = window.getComputedStyle(gd).display;\n        if (!display || display === 'none') {{\n            console.log([gd, 'removed!']);\n            Plotly.purge(gd);\n            observer.disconnect();\n        }}\n}});\n\n// Listen for the removal of the full notebook cells\nvar notebookContainer = gd.closest('#notebook-container');\nif (notebookContainer) {{\n    x.observe(notebookContainer, {childList: true});\n}}\n\n// Listen for the clearing of the current output cell\nvar outputEl = gd.closest('.output');\nif (outputEl) {{\n    x.observe(outputEl, {childList: true});\n}}\n\n                        })                };                });            </script>        </div>"
     },
     "metadata": {},
     "output_type": "display_data"
    }
   ],
   "source": [
    "df06 = pd.read_csv(rutas[5])\n",
    "\n",
    "fig = px.bar(df06.loc[df06.tipo_est == 'proporcion'],\n",
    "             x =  'thogar' ,\n",
    "             y = 'dato', facet_row= 'anio',\n",
    "             color = 'pobreza',\n",
    "             # facet_col_wrap=2,\n",
    "             labels = {\n",
    "                 '': '<b>Situación de pobreza</b>',\n",
    "                 'dato': 'Hogares(%)',\n",
    "                 # 'pobreza': None\n",
    "                 # 'anio': 'Periodo'\n",
    "             },\n",
    "             error_y_minus='ic_bajo',\n",
    "             error_y='ic_alto',\n",
    "\n",
    "             color_discrete_map={\n",
    "                 'sin menores': '#2471A3',\n",
    "                 'con menores': '#E67E22'\n",
    "             },\n",
    "             text ='dato'\n",
    "\n",
    "\n",
    "             )\n",
    "fig.for_each_annotation(lambda a: a.update(text=a.text.split('=')[-1]),\n",
    "\n",
    "                        )\n",
    "fig.update_layout(template='plotly',\n",
    "\n",
    "                  height=900,\n",
    "                  # width=1100\n",
    "                  margin=\n",
    "                  dict(\n",
    "                      l=10,\n",
    "                      r=10,\n",
    "                      b=10,\n",
    "                      t=15\n",
    "                  ),\n",
    "                  barmode='group',\n",
    "                  legend=dict(\n",
    "                      # title=None,\n",
    "                      orientation='h', y=1, yanchor='bottom', x=0.2, xanchor='center'\n",
    "                  )\n",
    "                  )\n",
    "fig.update_xaxes(title=None,\n",
    "                 showgrid=True,\n",
    "                 tickangle=0,\n",
    "\n",
    "\n",
    "                 )\n",
    "fig.update_yaxes(\n",
    "    title_font_size = 10,\n",
    "    title_standoff = 8\n",
    ")\n",
    "fig.write_image('resultados/img/02_06_px.jpeg')\n",
    "fig.show()"
   ],
   "metadata": {
    "collapsed": false,
    "pycharm": {
     "name": "#%%\n"
    }
   }
  },
  {
   "cell_type": "code",
   "execution_count": 29,
   "outputs": [
    {
     "data": {
      "application/vnd.plotly.v1+json": {
       "data": [
        {
         "alignmentgroup": "True",
         "error_y": {
          "array": [
           0.034499242716676,
           0.187577342492884,
           0.0257225194159657,
           0.0289661614701107
          ],
          "arrayminus": [
           0.0283355993113886,
           0.1738723960360101,
           0.0203827789217002,
           0.023308078034445
          ]
         },
         "hovertemplate": "<b>Quintiles de ingreso</b>=I<br>anio=1990<br>thogar=%{x}<br>Hogares(%)=%{text}<extra></extra>",
         "legendgroup": "I",
         "marker": {
          "color": "#00cc96",
          "pattern": {
           "shape": ""
          }
         },
         "name": "I",
         "offsetgroup": "I",
         "orientation": "v",
         "showlegend": true,
         "text": [
          3.1,
          18.1,
          2.3,
          2.6
         ],
         "textposition": "auto",
         "x": [
          "nuclear monoparental",
          "nuclear biparental",
          "extenso monoparental",
          "extenso biparental"
         ],
         "xaxis": "x12",
         "y": [
          3.1,
          18.1,
          2.3,
          2.6
         ],
         "yaxis": "y12",
         "type": "bar"
        },
        {
         "alignmentgroup": "True",
         "error_y": {
          "array": [
           0.0363436261446841,
           0.1932233178015568,
           0.0214192599235579,
           0.0257463011149974
          ],
          "arrayminus": [
           0.0306112075902085,
           0.1811070537830877,
           0.0172865982536481,
           0.0213349290051359
          ]
         },
         "hovertemplate": "<b>Quintiles de ingreso</b>=I<br>anio=1992<br>thogar=%{x}<br>Hogares(%)=%{text}<extra></extra>",
         "legendgroup": "I",
         "marker": {
          "color": "#00cc96",
          "pattern": {
           "shape": ""
          }
         },
         "name": "I",
         "offsetgroup": "I",
         "orientation": "v",
         "showlegend": false,
         "text": [
          3.3,
          18.7,
          1.9,
          2.3
         ],
         "textposition": "auto",
         "x": [
          "nuclear monoparental",
          "nuclear biparental",
          "extenso monoparental",
          "extenso biparental"
         ],
         "xaxis": "x11",
         "y": [
          3.3,
          18.7,
          1.9,
          2.3
         ],
         "yaxis": "y11",
         "type": "bar"
        },
        {
         "alignmentgroup": "True",
         "error_y": {
          "array": [
           0.0358162655770445,
           0.1816963115261124,
           0.0245059339023577,
           0.0333195510007859
          ],
          "arrayminus": [
           0.0301772663267184,
           0.1703338709663348,
           0.0200370669843669,
           0.0280264956610216
          ]
         },
         "hovertemplate": "<b>Quintiles de ingreso</b>=I<br>anio=1994<br>thogar=%{x}<br>Hogares(%)=%{text}<extra></extra>",
         "legendgroup": "I",
         "marker": {
          "color": "#00cc96",
          "pattern": {
           "shape": ""
          }
         },
         "name": "I",
         "offsetgroup": "I",
         "orientation": "v",
         "showlegend": false,
         "text": [
          3.3,
          17.6,
          2.2,
          3.1
         ],
         "textposition": "auto",
         "x": [
          "nuclear monoparental",
          "nuclear biparental",
          "extenso monoparental",
          "extenso biparental"
         ],
         "xaxis": "x10",
         "y": [
          3.3,
          17.6,
          2.2,
          3.1
         ],
         "yaxis": "y10",
         "type": "bar"
        },
        {
         "alignmentgroup": "True",
         "error_y": {
          "array": [
           0.0341319050158421,
           0.1834167100799864,
           0.0222504362535424,
           0.0354984487245619
          ],
          "arrayminus": [
           0.0269681161392468,
           0.1677726041506353,
           0.0173438191156588,
           0.0289466143956625
          ]
         },
         "hovertemplate": "<b>Quintiles de ingreso</b>=I<br>anio=1996<br>thogar=%{x}<br>Hogares(%)=%{text}<extra></extra>",
         "legendgroup": "I",
         "marker": {
          "color": "#00cc96",
          "pattern": {
           "shape": ""
          }
         },
         "name": "I",
         "offsetgroup": "I",
         "orientation": "v",
         "showlegend": false,
         "text": [
          3.0,
          17.5,
          2.0,
          3.2
         ],
         "textposition": "auto",
         "x": [
          "nuclear monoparental",
          "nuclear biparental",
          "extenso monoparental",
          "extenso biparental"
         ],
         "xaxis": "x9",
         "y": [
          3.0,
          17.5,
          2.0,
          3.2
         ],
         "yaxis": "y9",
         "type": "bar"
        },
        {
         "alignmentgroup": "True",
         "error_y": {
          "array": [
           0.0320806148430875,
           0.1764683568658051,
           0.0257307215152383,
           0.0351258027424726
          ],
          "arrayminus": [
           0.0267989516404911,
           0.1646749964436795,
           0.0210111593468797,
           0.0298391814188621
          ]
         },
         "hovertemplate": "<b>Quintiles de ingreso</b>=I<br>anio=1998<br>thogar=%{x}<br>Hogares(%)=%{text}<extra></extra>",
         "legendgroup": "I",
         "marker": {
          "color": "#00cc96",
          "pattern": {
           "shape": ""
          }
         },
         "name": "I",
         "offsetgroup": "I",
         "orientation": "v",
         "showlegend": false,
         "text": [
          2.9,
          17.0,
          2.3,
          3.2
         ],
         "textposition": "auto",
         "x": [
          "nuclear monoparental",
          "nuclear biparental",
          "extenso monoparental",
          "extenso biparental"
         ],
         "xaxis": "x8",
         "y": [
          2.9,
          17.0,
          2.3,
          3.2
         ],
         "yaxis": "y8",
         "type": "bar"
        },
        {
         "alignmentgroup": "True",
         "error_y": {
          "array": [
           0.0323053897440725,
           0.1803143700363178,
           0.0281929969227923,
           0.0402624699846626
          ],
          "arrayminus": [
           0.026504523089726,
           0.1679676969360825,
           0.0235728053360779,
           0.0346246996191928
          ]
         },
         "hovertemplate": "<b>Quintiles de ingreso</b>=I<br>anio=2000<br>thogar=%{x}<br>Hogares(%)=%{text}<extra></extra>",
         "legendgroup": "I",
         "marker": {
          "color": "#00cc96",
          "pattern": {
           "shape": ""
          }
         },
         "name": "I",
         "offsetgroup": "I",
         "orientation": "v",
         "showlegend": false,
         "text": [
          2.9,
          17.4,
          2.6,
          3.7
         ],
         "textposition": "auto",
         "x": [
          "nuclear monoparental",
          "nuclear biparental",
          "extenso monoparental",
          "extenso biparental"
         ],
         "xaxis": "x7",
         "y": [
          2.9,
          17.4,
          2.6,
          3.7
         ],
         "yaxis": "y7",
         "type": "bar"
        },
        {
         "alignmentgroup": "True",
         "error_y": {
          "array": [
           0.0372607220871732,
           0.1639711377558302,
           0.0299344723172847,
           0.0406361815725717
          ],
          "arrayminus": [
           0.0319150484741048,
           0.1526086336836173,
           0.0239558376259547,
           0.035005081863116
          ]
         },
         "hovertemplate": "<b>Quintiles de ingreso</b>=I<br>anio=2003<br>thogar=%{x}<br>Hogares(%)=%{text}<extra></extra>",
         "legendgroup": "I",
         "marker": {
          "color": "#00cc96",
          "pattern": {
           "shape": ""
          }
         },
         "name": "I",
         "offsetgroup": "I",
         "orientation": "v",
         "showlegend": false,
         "text": [
          3.4,
          15.8,
          2.7,
          3.8
         ],
         "textposition": "auto",
         "x": [
          "nuclear monoparental",
          "nuclear biparental",
          "extenso monoparental",
          "extenso biparental"
         ],
         "xaxis": "x6",
         "y": [
          3.4,
          15.8,
          2.7,
          3.8
         ],
         "yaxis": "y6",
         "type": "bar"
        },
        {
         "alignmentgroup": "True",
         "error_y": {
          "array": [
           0.0591102176454262,
           0.1247907074575469,
           0.0332047700209571,
           0.0358607706990566
          ],
          "arrayminus": [
           0.0521775992297166,
           0.1152032699981521,
           0.028037089890545,
           0.0304891348551575
          ]
         },
         "hovertemplate": "<b>Quintiles de ingreso</b>=I<br>anio=2009<br>thogar=%{x}<br>Hogares(%)=%{text}<extra></extra>",
         "legendgroup": "I",
         "marker": {
          "color": "#00cc96",
          "pattern": {
           "shape": ""
          }
         },
         "name": "I",
         "offsetgroup": "I",
         "orientation": "v",
         "showlegend": false,
         "text": [
          5.6,
          12.0,
          3.1,
          3.3
         ],
         "textposition": "auto",
         "x": [
          "nuclear monoparental",
          "nuclear biparental",
          "extenso monoparental",
          "extenso biparental"
         ],
         "xaxis": "x5",
         "y": [
          5.6,
          12.0,
          3.1,
          3.3
         ],
         "yaxis": "y5",
         "type": "bar"
        },
        {
         "alignmentgroup": "True",
         "error_y": {
          "array": [
           0.0720784972047422,
           0.1244178274800172,
           0.0373589109093441,
           0.0399473335641999
          ],
          "arrayminus": [
           0.0630875994389048,
           0.1128377563180887,
           0.0304431329339974,
           0.0320194606771147
          ]
         },
         "hovertemplate": "<b>Quintiles de ingreso</b>=I<br>anio=2013<br>thogar=%{x}<br>Hogares(%)=%{text}<extra></extra>",
         "legendgroup": "I",
         "marker": {
          "color": "#00cc96",
          "pattern": {
           "shape": ""
          }
         },
         "name": "I",
         "offsetgroup": "I",
         "orientation": "v",
         "showlegend": false,
         "text": [
          6.7,
          11.9,
          3.4,
          3.6
         ],
         "textposition": "auto",
         "x": [
          "nuclear monoparental",
          "nuclear biparental",
          "extenso monoparental",
          "extenso biparental"
         ],
         "xaxis": "x4",
         "y": [
          6.7,
          11.9,
          3.4,
          3.6
         ],
         "yaxis": "y4",
         "type": "bar"
        },
        {
         "alignmentgroup": "True",
         "error_y": {
          "array": [
           0.0697928479690851,
           0.1182455513813845,
           0.0401997550095357,
           0.0387171147930886
          ],
          "arrayminus": [
           0.0626064618849787,
           0.1090342513877856,
           0.0349319682975495,
           0.0335284170626357
          ]
         },
         "hovertemplate": "<b>Quintiles de ingreso</b>=I<br>anio=2015<br>thogar=%{x}<br>Hogares(%)=%{text}<extra></extra>",
         "legendgroup": "I",
         "marker": {
          "color": "#00cc96",
          "pattern": {
           "shape": ""
          }
         },
         "name": "I",
         "offsetgroup": "I",
         "orientation": "v",
         "showlegend": false,
         "text": [
          6.6,
          11.4,
          3.7,
          3.6
         ],
         "textposition": "auto",
         "x": [
          "nuclear monoparental",
          "nuclear biparental",
          "extenso monoparental",
          "extenso biparental"
         ],
         "xaxis": "x3",
         "y": [
          6.6,
          11.4,
          3.7,
          3.6
         ],
         "yaxis": "y3",
         "type": "bar"
        },
        {
         "alignmentgroup": "True",
         "error_y": {
          "array": [
           0.0749207269486801,
           0.1129273042457788,
           0.0357294681398075,
           0.036177875187912
          ],
          "arrayminus": [
           0.0660801652210702,
           0.1028146552593282,
           0.0304136275604539,
           0.0312839227987648
          ]
         },
         "hovertemplate": "<b>Quintiles de ingreso</b>=I<br>anio=2017<br>thogar=%{x}<br>Hogares(%)=%{text}<extra></extra>",
         "legendgroup": "I",
         "marker": {
          "color": "#00cc96",
          "pattern": {
           "shape": ""
          }
         },
         "name": "I",
         "offsetgroup": "I",
         "orientation": "v",
         "showlegend": false,
         "text": [
          7.0,
          10.8,
          3.3,
          3.4
         ],
         "textposition": "auto",
         "x": [
          "nuclear monoparental",
          "nuclear biparental",
          "extenso monoparental",
          "extenso biparental"
         ],
         "xaxis": "x2",
         "y": [
          7.0,
          10.8,
          3.3,
          3.4
         ],
         "yaxis": "y2",
         "type": "bar"
        },
        {
         "alignmentgroup": "True",
         "error_y": {
          "array": [
           0.0919152859983558,
           0.078246014771778,
           0.0414585510356337,
           0.0294942436962532
          ],
          "arrayminus": [
           0.0806593125124947,
           0.0686232419866325,
           0.0351043711476714,
           0.0241829492878466
          ]
         },
         "hovertemplate": "<b>Quintiles de ingreso</b>=I<br>anio=2020<br>thogar=%{x}<br>Hogares(%)=%{text}<extra></extra>",
         "legendgroup": "I",
         "marker": {
          "color": "#00cc96",
          "pattern": {
           "shape": ""
          }
         },
         "name": "I",
         "offsetgroup": "I",
         "orientation": "v",
         "showlegend": false,
         "text": [
          8.6,
          7.3,
          3.8,
          2.7
         ],
         "textposition": "auto",
         "x": [
          "nuclear monoparental",
          "nuclear biparental",
          "extenso monoparental",
          "extenso biparental"
         ],
         "xaxis": "x",
         "y": [
          8.6,
          7.3,
          3.8,
          2.7
         ],
         "yaxis": "y",
         "type": "bar"
        },
        {
         "alignmentgroup": "True",
         "error_y": {
          "array": [
           0.0282705818993319,
           0.1674925495654054,
           0.0243892497516358,
           0.0362677285292686
          ],
          "arrayminus": [
           0.0224598424821369,
           0.1541282062674517,
           0.0191629571684942,
           0.0298476650472315
          ]
         },
         "hovertemplate": "<b>Quintiles de ingreso</b>=II<br>anio=1990<br>thogar=%{x}<br>Hogares(%)=%{text}<extra></extra>",
         "legendgroup": "II",
         "marker": {
          "color": "#ab63fa",
          "pattern": {
           "shape": ""
          }
         },
         "name": "II",
         "offsetgroup": "II",
         "orientation": "v",
         "showlegend": true,
         "text": [
          2.5,
          16.1,
          2.2,
          3.3
         ],
         "textposition": "auto",
         "x": [
          "nuclear monoparental",
          "nuclear biparental",
          "extenso monoparental",
          "extenso biparental"
         ],
         "xaxis": "x12",
         "y": [
          2.5,
          16.1,
          2.2,
          3.3
         ],
         "yaxis": "y12",
         "type": "bar"
        },
        {
         "alignmentgroup": "True",
         "error_y": {
          "array": [
           0.0264912491904518,
           0.1722031840118345,
           0.0235563930196253,
           0.0326818888573868
          ],
          "arrayminus": [
           0.0214060636376285,
           0.1600401305185496,
           0.0190016542189794,
           0.0276062931789454
          ]
         },
         "hovertemplate": "<b>Quintiles de ingreso</b>=II<br>anio=1992<br>thogar=%{x}<br>Hogares(%)=%{text}<extra></extra>",
         "legendgroup": "II",
         "marker": {
          "color": "#ab63fa",
          "pattern": {
           "shape": ""
          }
         },
         "name": "II",
         "offsetgroup": "II",
         "orientation": "v",
         "showlegend": false,
         "text": [
          2.4,
          16.6,
          2.1,
          3.0
         ],
         "textposition": "auto",
         "x": [
          "nuclear monoparental",
          "nuclear biparental",
          "extenso monoparental",
          "extenso biparental"
         ],
         "xaxis": "x11",
         "y": [
          2.4,
          16.6,
          2.1,
          3.0
         ],
         "yaxis": "y11",
         "type": "bar"
        },
        {
         "alignmentgroup": "True",
         "error_y": {
          "array": [
           0.027023990523244,
           0.1600209302815512,
           0.0251219087680349,
           0.03943904744131
          ],
          "arrayminus": [
           0.0221553104996282,
           0.1486073971156133,
           0.0202974601691547,
           0.033793047933739
          ]
         },
         "hovertemplate": "<b>Quintiles de ingreso</b>=II<br>anio=1994<br>thogar=%{x}<br>Hogares(%)=%{text}<extra></extra>",
         "legendgroup": "II",
         "marker": {
          "color": "#ab63fa",
          "pattern": {
           "shape": ""
          }
         },
         "name": "II",
         "offsetgroup": "II",
         "orientation": "v",
         "showlegend": false,
         "text": [
          2.4,
          15.4,
          2.3,
          3.7
         ],
         "textposition": "auto",
         "x": [
          "nuclear monoparental",
          "nuclear biparental",
          "extenso monoparental",
          "extenso biparental"
         ],
         "xaxis": "x10",
         "y": [
          2.4,
          15.4,
          2.3,
          3.7
         ],
         "yaxis": "y10",
         "type": "bar"
        },
        {
         "alignmentgroup": "True",
         "error_y": {
          "array": [
           0.0225199984768624,
           0.1649553578433335,
           0.0235183979734739,
           0.0433342670713665
          ],
          "arrayminus": [
           0.0172478167426659,
           0.14967746714602,
           0.0182480928879934,
           0.0343471501989582
          ]
         },
         "hovertemplate": "<b>Quintiles de ingreso</b>=II<br>anio=1996<br>thogar=%{x}<br>Hogares(%)=%{text}<extra></extra>",
         "legendgroup": "II",
         "marker": {
          "color": "#ab63fa",
          "pattern": {
           "shape": ""
          }
         },
         "name": "II",
         "offsetgroup": "II",
         "orientation": "v",
         "showlegend": false,
         "text": [
          2.0,
          15.7,
          2.1,
          3.9
         ],
         "textposition": "auto",
         "x": [
          "nuclear monoparental",
          "nuclear biparental",
          "extenso monoparental",
          "extenso biparental"
         ],
         "xaxis": "x9",
         "y": [
          2.0,
          15.7,
          2.1,
          3.9
         ],
         "yaxis": "y9",
         "type": "bar"
        },
        {
         "alignmentgroup": "True",
         "error_y": {
          "array": [
           0.0246383486375421,
           0.1638926248484779,
           0.0259494473183291,
           0.0408967196843101
          ],
          "arrayminus": [
           0.0198557720453593,
           0.1517668772332859,
           0.021185204149921,
           0.0350097989116494
          ]
         },
         "hovertemplate": "<b>Quintiles de ingreso</b>=II<br>anio=1998<br>thogar=%{x}<br>Hogares(%)=%{text}<extra></extra>",
         "legendgroup": "II",
         "marker": {
          "color": "#ab63fa",
          "pattern": {
           "shape": ""
          }
         },
         "name": "II",
         "offsetgroup": "II",
         "orientation": "v",
         "showlegend": false,
         "text": [
          2.2,
          15.8,
          2.3,
          3.8
         ],
         "textposition": "auto",
         "x": [
          "nuclear monoparental",
          "nuclear biparental",
          "extenso monoparental",
          "extenso biparental"
         ],
         "xaxis": "x8",
         "y": [
          2.2,
          15.8,
          2.3,
          3.8
         ],
         "yaxis": "y8",
         "type": "bar"
        },
        {
         "alignmentgroup": "True",
         "error_y": {
          "array": [
           0.022382827776468,
           0.1597284807168805,
           0.0305823046197353,
           0.044302679588962
          ],
          "arrayminus": [
           0.0180541931543841,
           0.1471445343009289,
           0.0251833524907999,
           0.0383559415498331
          ]
         },
         "hovertemplate": "<b>Quintiles de ingreso</b>=II<br>anio=2000<br>thogar=%{x}<br>Hogares(%)=%{text}<extra></extra>",
         "legendgroup": "II",
         "marker": {
          "color": "#ab63fa",
          "pattern": {
           "shape": ""
          }
         },
         "name": "II",
         "offsetgroup": "II",
         "orientation": "v",
         "showlegend": false,
         "text": [
          2.0,
          15.3,
          2.8,
          4.1
         ],
         "textposition": "auto",
         "x": [
          "nuclear monoparental",
          "nuclear biparental",
          "extenso monoparental",
          "extenso biparental"
         ],
         "xaxis": "x7",
         "y": [
          2.0,
          15.3,
          2.8,
          4.1
         ],
         "yaxis": "y7",
         "type": "bar"
        },
        {
         "alignmentgroup": "True",
         "error_y": {
          "array": [
           0.028273142415445,
           0.1583348832002793,
           0.0274675431116056,
           0.0457134891168417
          ],
          "arrayminus": [
           0.0232189016446855,
           0.1453051057353694,
           0.0224403871747157,
           0.0388552011858732
          ]
         },
         "hovertemplate": "<b>Quintiles de ingreso</b>=II<br>anio=2003<br>thogar=%{x}<br>Hogares(%)=%{text}<extra></extra>",
         "legendgroup": "II",
         "marker": {
          "color": "#ab63fa",
          "pattern": {
           "shape": ""
          }
         },
         "name": "II",
         "offsetgroup": "II",
         "orientation": "v",
         "showlegend": false,
         "text": [
          2.6,
          15.2,
          2.5,
          4.2
         ],
         "textposition": "auto",
         "x": [
          "nuclear monoparental",
          "nuclear biparental",
          "extenso monoparental",
          "extenso biparental"
         ],
         "xaxis": "x6",
         "y": [
          2.6,
          15.2,
          2.5,
          4.2
         ],
         "yaxis": "y6",
         "type": "bar"
        },
        {
         "alignmentgroup": "True",
         "error_y": {
          "array": [
           0.0430868285219276,
           0.1400176282593766,
           0.0318143414752052,
           0.042910867467588
          ],
          "arrayminus": [
           0.0366430347237329,
           0.1287472205016664,
           0.0263609893467278,
           0.0369317585730012
          ]
         },
         "hovertemplate": "<b>Quintiles de ingreso</b>=II<br>anio=2009<br>thogar=%{x}<br>Hogares(%)=%{text}<extra></extra>",
         "legendgroup": "II",
         "marker": {
          "color": "#ab63fa",
          "pattern": {
           "shape": ""
          }
         },
         "name": "II",
         "offsetgroup": "II",
         "orientation": "v",
         "showlegend": false,
         "text": [
          4.0,
          13.4,
          2.9,
          4.0
         ],
         "textposition": "auto",
         "x": [
          "nuclear monoparental",
          "nuclear biparental",
          "extenso monoparental",
          "extenso biparental"
         ],
         "xaxis": "x5",
         "y": [
          4.0,
          13.4,
          2.9,
          4.0
         ],
         "yaxis": "y5",
         "type": "bar"
        },
        {
         "alignmentgroup": "True",
         "error_y": {
          "array": [
           0.0541718789009605,
           0.1358018626787167,
           0.0346595136831108,
           0.0508328289279155
          ],
          "arrayminus": [
           0.046410563266907,
           0.11918866629454,
           0.0288158977201191,
           0.0416754764379284
          ]
         },
         "hovertemplate": "<b>Quintiles de ingreso</b>=II<br>anio=2013<br>thogar=%{x}<br>Hogares(%)=%{text}<extra></extra>",
         "legendgroup": "II",
         "marker": {
          "color": "#ab63fa",
          "pattern": {
           "shape": ""
          }
         },
         "name": "II",
         "offsetgroup": "II",
         "orientation": "v",
         "showlegend": false,
         "text": [
          5.0,
          12.7,
          3.2,
          4.6
         ],
         "textposition": "auto",
         "x": [
          "nuclear monoparental",
          "nuclear biparental",
          "extenso monoparental",
          "extenso biparental"
         ],
         "xaxis": "x4",
         "y": [
          5.0,
          12.7,
          3.2,
          4.6
         ],
         "yaxis": "y4",
         "type": "bar"
        },
        {
         "alignmentgroup": "True",
         "error_y": {
          "array": [
           0.0520472065128872,
           0.1272319693550283,
           0.0380875033746223,
           0.0508569182368858
          ],
          "arrayminus": [
           0.0455152555110643,
           0.117411709099526,
           0.0326763102803783,
           0.0450232442688201
          ]
         },
         "hovertemplate": "<b>Quintiles de ingreso</b>=II<br>anio=2015<br>thogar=%{x}<br>Hogares(%)=%{text}<extra></extra>",
         "legendgroup": "II",
         "marker": {
          "color": "#ab63fa",
          "pattern": {
           "shape": ""
          }
         },
         "name": "II",
         "offsetgroup": "II",
         "orientation": "v",
         "showlegend": false,
         "text": [
          4.9,
          12.2,
          3.5,
          4.8
         ],
         "textposition": "auto",
         "x": [
          "nuclear monoparental",
          "nuclear biparental",
          "extenso monoparental",
          "extenso biparental"
         ],
         "xaxis": "x3",
         "y": [
          4.9,
          12.2,
          3.5,
          4.8
         ],
         "yaxis": "y3",
         "type": "bar"
        },
        {
         "alignmentgroup": "True",
         "error_y": {
          "array": [
           0.0598366613021309,
           0.1306561760461471,
           0.0375760251091134,
           0.0509252814033731
          ],
          "arrayminus": [
           0.0520293923759266,
           0.1200073844967829,
           0.032331432558537,
           0.0446315511745496
          ]
         },
         "hovertemplate": "<b>Quintiles de ingreso</b>=II<br>anio=2017<br>thogar=%{x}<br>Hogares(%)=%{text}<extra></extra>",
         "legendgroup": "II",
         "marker": {
          "color": "#ab63fa",
          "pattern": {
           "shape": ""
          }
         },
         "name": "II",
         "offsetgroup": "II",
         "orientation": "v",
         "showlegend": false,
         "text": [
          5.6,
          12.5,
          3.5,
          4.8
         ],
         "textposition": "auto",
         "x": [
          "nuclear monoparental",
          "nuclear biparental",
          "extenso monoparental",
          "extenso biparental"
         ],
         "xaxis": "x2",
         "y": [
          5.6,
          12.5,
          3.5,
          4.8
         ],
         "yaxis": "y2",
         "type": "bar"
        },
        {
         "alignmentgroup": "True",
         "error_y": {
          "array": [
           0.0753944595090662,
           0.1148468750064488,
           0.048081022730799,
           0.0414730459234838
          ],
          "arrayminus": [
           0.0647771195754995,
           0.1033301796407641,
           0.0408822200727033,
           0.0357562613127573
          ]
         },
         "hovertemplate": "<b>Quintiles de ingreso</b>=II<br>anio=2020<br>thogar=%{x}<br>Hogares(%)=%{text}<extra></extra>",
         "legendgroup": "II",
         "marker": {
          "color": "#ab63fa",
          "pattern": {
           "shape": ""
          }
         },
         "name": "II",
         "offsetgroup": "II",
         "orientation": "v",
         "showlegend": false,
         "text": [
          7.0,
          10.9,
          4.4,
          3.9
         ],
         "textposition": "auto",
         "x": [
          "nuclear monoparental",
          "nuclear biparental",
          "extenso monoparental",
          "extenso biparental"
         ],
         "xaxis": "x",
         "y": [
          7.0,
          10.9,
          4.4,
          3.9
         ],
         "yaxis": "y",
         "type": "bar"
        },
        {
         "alignmentgroup": "True",
         "error_y": {
          "array": [
           0.0199371392185063,
           0.1403241840919201,
           0.0221247157863779,
           0.0363927771711751
          ],
          "arrayminus": [
           0.0151703179299269,
           0.1275059311256085,
           0.0171578893238992,
           0.0298900868321045
          ]
         },
         "hovertemplate": "<b>Quintiles de ingreso</b>=III<br>anio=1990<br>thogar=%{x}<br>Hogares(%)=%{text}<extra></extra>",
         "legendgroup": "III",
         "marker": {
          "color": "#FFA15A",
          "pattern": {
           "shape": ""
          }
         },
         "name": "III",
         "offsetgroup": "III",
         "orientation": "v",
         "showlegend": true,
         "text": [
          1.7,
          13.4,
          1.9,
          3.3
         ],
         "textposition": "auto",
         "x": [
          "nuclear monoparental",
          "nuclear biparental",
          "extenso monoparental",
          "extenso biparental"
         ],
         "xaxis": "x12",
         "y": [
          1.7,
          13.4,
          1.9,
          3.3
         ],
         "yaxis": "y12",
         "type": "bar"
        },
        {
         "alignmentgroup": "True",
         "error_y": {
          "array": [
           0.0243804320914676,
           0.1393056987254025,
           0.0207661650027186,
           0.030997602725525
          ],
          "arrayminus": [
           0.0194829721153649,
           0.127881534021838,
           0.0164116123736503,
           0.0256122695872294
          ]
         },
         "hovertemplate": "<b>Quintiles de ingreso</b>=III<br>anio=1992<br>thogar=%{x}<br>Hogares(%)=%{text}<extra></extra>",
         "legendgroup": "III",
         "marker": {
          "color": "#FFA15A",
          "pattern": {
           "shape": ""
          }
         },
         "name": "III",
         "offsetgroup": "III",
         "orientation": "v",
         "showlegend": false,
         "text": [
          2.2,
          13.3,
          1.8,
          2.8
         ],
         "textposition": "auto",
         "x": [
          "nuclear monoparental",
          "nuclear biparental",
          "extenso monoparental",
          "extenso biparental"
         ],
         "xaxis": "x11",
         "y": [
          2.2,
          13.3,
          1.8,
          2.8
         ],
         "yaxis": "y11",
         "type": "bar"
        },
        {
         "alignmentgroup": "True",
         "error_y": {
          "array": [
           0.0196272620677938,
           0.1336351834567608,
           0.0184266704988808,
           0.0357456607111276
          ],
          "arrayminus": [
           0.0153724251720894,
           0.1224822747475601,
           0.0140465583235472,
           0.0296706868421396
          ]
         },
         "hovertemplate": "<b>Quintiles de ingreso</b>=III<br>anio=1994<br>thogar=%{x}<br>Hogares(%)=%{text}<extra></extra>",
         "legendgroup": "III",
         "marker": {
          "color": "#FFA15A",
          "pattern": {
           "shape": ""
          }
         },
         "name": "III",
         "offsetgroup": "III",
         "orientation": "v",
         "showlegend": false,
         "text": [
          1.7,
          12.8,
          1.6,
          3.3
         ],
         "textposition": "auto",
         "x": [
          "nuclear monoparental",
          "nuclear biparental",
          "extenso monoparental",
          "extenso biparental"
         ],
         "xaxis": "x10",
         "y": [
          1.7,
          12.8,
          1.6,
          3.3
         ],
         "yaxis": "y10",
         "type": "bar"
        },
        {
         "alignmentgroup": "True",
         "error_y": {
          "array": [
           0.0193143423447682,
           0.1415327167260809,
           0.0187212069454786,
           0.0345813609532554
          ],
          "arrayminus": [
           0.0132806930990405,
           0.1257476428668952,
           0.0139389429812337,
           0.0275154377300443
          ]
         },
         "hovertemplate": "<b>Quintiles de ingreso</b>=III<br>anio=1996<br>thogar=%{x}<br>Hogares(%)=%{text}<extra></extra>",
         "legendgroup": "III",
         "marker": {
          "color": "#FFA15A",
          "pattern": {
           "shape": ""
          }
         },
         "name": "III",
         "offsetgroup": "III",
         "orientation": "v",
         "showlegend": false,
         "text": [
          1.6,
          13.3,
          1.6,
          3.1
         ],
         "textposition": "auto",
         "x": [
          "nuclear monoparental",
          "nuclear biparental",
          "extenso monoparental",
          "extenso biparental"
         ],
         "xaxis": "x9",
         "y": [
          1.6,
          13.3,
          1.6,
          3.1
         ],
         "yaxis": "y9",
         "type": "bar"
        },
        {
         "alignmentgroup": "True",
         "error_y": {
          "array": [
           0.0197797246081265,
           0.1332777068525314,
           0.0241814256716167,
           0.0336291481345443
          ],
          "arrayminus": [
           0.0154865774153864,
           0.1217727259137632,
           0.0191943136373112,
           0.0282189402546505
          ]
         },
         "hovertemplate": "<b>Quintiles de ingreso</b>=III<br>anio=1998<br>thogar=%{x}<br>Hogares(%)=%{text}<extra></extra>",
         "legendgroup": "III",
         "marker": {
          "color": "#FFA15A",
          "pattern": {
           "shape": ""
          }
         },
         "name": "III",
         "offsetgroup": "III",
         "orientation": "v",
         "showlegend": false,
         "text": [
          1.8,
          12.7,
          2.2,
          3.1
         ],
         "textposition": "auto",
         "x": [
          "nuclear monoparental",
          "nuclear biparental",
          "extenso monoparental",
          "extenso biparental"
         ],
         "xaxis": "x8",
         "y": [
          1.8,
          12.7,
          2.2,
          3.1
         ],
         "yaxis": "y8",
         "type": "bar"
        },
        {
         "alignmentgroup": "True",
         "error_y": {
          "array": [
           0.0182214225579619,
           0.1403554050646979,
           0.0247276964880122,
           0.0347885299229091
          ],
          "arrayminus": [
           0.0139736407825696,
           0.1201830122979838,
           0.0174629224217997,
           0.0292259832437273
          ]
         },
         "hovertemplate": "<b>Quintiles de ingreso</b>=III<br>anio=2000<br>thogar=%{x}<br>Hogares(%)=%{text}<extra></extra>",
         "legendgroup": "III",
         "marker": {
          "color": "#FFA15A",
          "pattern": {
           "shape": ""
          }
         },
         "name": "III",
         "offsetgroup": "III",
         "orientation": "v",
         "showlegend": false,
         "text": [
          1.6,
          13.0,
          2.1,
          3.2
         ],
         "textposition": "auto",
         "x": [
          "nuclear monoparental",
          "nuclear biparental",
          "extenso monoparental",
          "extenso biparental"
         ],
         "xaxis": "x7",
         "y": [
          1.6,
          13.0,
          2.1,
          3.2
         ],
         "yaxis": "y7",
         "type": "bar"
        },
        {
         "alignmentgroup": "True",
         "error_y": {
          "array": [
           0.0204789447989795,
           0.1329625702869617,
           0.0211069357910719,
           0.0403443188578053
          ],
          "arrayminus": [
           0.0156131590519992,
           0.1211701768066498,
           0.0168407060990314,
           0.0343985474483816
          ]
         },
         "hovertemplate": "<b>Quintiles de ingreso</b>=III<br>anio=2003<br>thogar=%{x}<br>Hogares(%)=%{text}<extra></extra>",
         "legendgroup": "III",
         "marker": {
          "color": "#FFA15A",
          "pattern": {
           "shape": ""
          }
         },
         "name": "III",
         "offsetgroup": "III",
         "orientation": "v",
         "showlegend": false,
         "text": [
          1.8,
          12.7,
          1.9,
          3.7
         ],
         "textposition": "auto",
         "x": [
          "nuclear monoparental",
          "nuclear biparental",
          "extenso monoparental",
          "extenso biparental"
         ],
         "xaxis": "x6",
         "y": [
          1.8,
          12.7,
          1.9,
          3.7
         ],
         "yaxis": "y6",
         "type": "bar"
        },
        {
         "alignmentgroup": "True",
         "error_y": {
          "array": [
           0.0330937117883781,
           0.1307616700881974,
           0.025210373688388,
           0.0382322544347941
          ],
          "arrayminus": [
           0.0274885462213091,
           0.1194995650938778,
           0.0202873789977257,
           0.032542724991744
          ]
         },
         "hovertemplate": "<b>Quintiles de ingreso</b>=III<br>anio=2009<br>thogar=%{x}<br>Hogares(%)=%{text}<extra></extra>",
         "legendgroup": "III",
         "marker": {
          "color": "#FFA15A",
          "pattern": {
           "shape": ""
          }
         },
         "name": "III",
         "offsetgroup": "III",
         "orientation": "v",
         "showlegend": false,
         "text": [
          3.0,
          12.5,
          2.3,
          3.5
         ],
         "textposition": "auto",
         "x": [
          "nuclear monoparental",
          "nuclear biparental",
          "extenso monoparental",
          "extenso biparental"
         ],
         "xaxis": "x5",
         "y": [
          3.0,
          12.5,
          2.3,
          3.5
         ],
         "yaxis": "y5",
         "type": "bar"
        },
        {
         "alignmentgroup": "True",
         "error_y": {
          "array": [
           0.0434012788101545,
           0.1144521867204538,
           0.0310003990145259,
           0.046432289239039
          ],
          "arrayminus": [
           0.0320188726137112,
           0.1022893667381392,
           0.0219314615925244,
           0.0384003213059814
          ]
         },
         "hovertemplate": "<b>Quintiles de ingreso</b>=III<br>anio=2013<br>thogar=%{x}<br>Hogares(%)=%{text}<extra></extra>",
         "legendgroup": "III",
         "marker": {
          "color": "#FFA15A",
          "pattern": {
           "shape": ""
          }
         },
         "name": "III",
         "offsetgroup": "III",
         "orientation": "v",
         "showlegend": false,
         "text": [
          3.7,
          10.8,
          2.6,
          4.2
         ],
         "textposition": "auto",
         "x": [
          "nuclear monoparental",
          "nuclear biparental",
          "extenso monoparental",
          "extenso biparental"
         ],
         "xaxis": "x4",
         "y": [
          3.7,
          10.8,
          2.6,
          4.2
         ],
         "yaxis": "y4",
         "type": "bar"
        },
        {
         "alignmentgroup": "True",
         "error_y": {
          "array": [
           0.0385400478727892,
           0.1161484891262718,
           0.0300068413585507,
           0.0449067404700995
          ],
          "arrayminus": [
           0.0325138666846943,
           0.1044077335479652,
           0.025003701020068,
           0.0392136882251607
          ]
         },
         "hovertemplate": "<b>Quintiles de ingreso</b>=III<br>anio=2015<br>thogar=%{x}<br>Hogares(%)=%{text}<extra></extra>",
         "legendgroup": "III",
         "marker": {
          "color": "#FFA15A",
          "pattern": {
           "shape": ""
          }
         },
         "name": "III",
         "offsetgroup": "III",
         "orientation": "v",
         "showlegend": false,
         "text": [
          3.5,
          11.0,
          2.7,
          4.2
         ],
         "textposition": "auto",
         "x": [
          "nuclear monoparental",
          "nuclear biparental",
          "extenso monoparental",
          "extenso biparental"
         ],
         "xaxis": "x3",
         "y": [
          3.5,
          11.0,
          2.7,
          4.2
         ],
         "yaxis": "y3",
         "type": "bar"
        },
        {
         "alignmentgroup": "True",
         "error_y": {
          "array": [
           0.0434433671766935,
           0.1162964282252685,
           0.0312894478803397,
           0.0411764283047597
          ],
          "arrayminus": [
           0.0340210090324172,
           0.1043861896551801,
           0.0254551679839173,
           0.0351359918259897
          ]
         },
         "hovertemplate": "<b>Quintiles de ingreso</b>=III<br>anio=2017<br>thogar=%{x}<br>Hogares(%)=%{text}<extra></extra>",
         "legendgroup": "III",
         "marker": {
          "color": "#FFA15A",
          "pattern": {
           "shape": ""
          }
         },
         "name": "III",
         "offsetgroup": "III",
         "orientation": "v",
         "showlegend": false,
         "text": [
          3.8,
          11.0,
          2.8,
          3.8
         ],
         "textposition": "auto",
         "x": [
          "nuclear monoparental",
          "nuclear biparental",
          "extenso monoparental",
          "extenso biparental"
         ],
         "xaxis": "x2",
         "y": [
          3.8,
          11.0,
          2.8,
          3.8
         ],
         "yaxis": "y2",
         "type": "bar"
        },
        {
         "alignmentgroup": "True",
         "error_y": {
          "array": [
           0.053527936337387,
           0.1339530840144135,
           0.033035865317482,
           0.0366600962220746
          ],
          "arrayminus": [
           0.0454800031565272,
           0.0848760076024105,
           0.026995512004736,
           0.0306003915092268
          ]
         },
         "hovertemplate": "<b>Quintiles de ingreso</b>=III<br>anio=2020<br>thogar=%{x}<br>Hogares(%)=%{text}<extra></extra>",
         "legendgroup": "III",
         "marker": {
          "color": "#FFA15A",
          "pattern": {
           "shape": ""
          }
         },
         "name": "III",
         "offsetgroup": "III",
         "orientation": "v",
         "showlegend": false,
         "text": [
          4.9,
          10.7,
          3.0,
          3.3
         ],
         "textposition": "auto",
         "x": [
          "nuclear monoparental",
          "nuclear biparental",
          "extenso monoparental",
          "extenso biparental"
         ],
         "xaxis": "x",
         "y": [
          4.9,
          10.7,
          3.0,
          3.3
         ],
         "yaxis": "y",
         "type": "bar"
        },
        {
         "alignmentgroup": "True",
         "error_y": {
          "array": [
           0.0136850746321723,
           0.1127680708951065,
           0.0182918423599015,
           0.0248643996933161
          ],
          "arrayminus": [
           0.0096880635799017,
           0.1011872609661028,
           0.0131604681986154,
           0.01939024248272
          ]
         },
         "hovertemplate": "<b>Quintiles de ingreso</b>=IV<br>anio=1990<br>thogar=%{x}<br>Hogares(%)=%{text}<extra></extra>",
         "legendgroup": "IV",
         "marker": {
          "color": "#19d3f3",
          "pattern": {
           "shape": ""
          }
         },
         "name": "IV",
         "offsetgroup": "IV",
         "orientation": "v",
         "showlegend": true,
         "text": [
          1.2,
          10.7,
          1.6,
          2.2
         ],
         "textposition": "auto",
         "x": [
          "nuclear monoparental",
          "nuclear biparental",
          "extenso monoparental",
          "extenso biparental"
         ],
         "xaxis": "x12",
         "y": [
          1.2,
          10.7,
          1.6,
          2.2
         ],
         "yaxis": "y12",
         "type": "bar"
        },
        {
         "alignmentgroup": "True",
         "error_y": {
          "array": [
           0.0168509338439787,
           0.1157755327911665,
           0.014137535113573,
           0.0247424430267166
          ],
          "arrayminus": [
           0.0127331778283691,
           0.1047287433295681,
           0.0102254760954965,
           0.0197014002545033
          ]
         },
         "hovertemplate": "<b>Quintiles de ingreso</b>=IV<br>anio=1992<br>thogar=%{x}<br>Hogares(%)=%{text}<extra></extra>",
         "legendgroup": "IV",
         "marker": {
          "color": "#19d3f3",
          "pattern": {
           "shape": ""
          }
         },
         "name": "IV",
         "offsetgroup": "IV",
         "orientation": "v",
         "showlegend": false,
         "text": [
          1.5,
          11.0,
          1.2,
          2.2
         ],
         "textposition": "auto",
         "x": [
          "nuclear monoparental",
          "nuclear biparental",
          "extenso monoparental",
          "extenso biparental"
         ],
         "xaxis": "x11",
         "y": [
          1.5,
          11.0,
          1.2,
          2.2
         ],
         "yaxis": "y11",
         "type": "bar"
        },
        {
         "alignmentgroup": "True",
         "error_y": {
          "array": [
           0.0164766761556761,
           0.1202433902799029,
           0.0145190609022566,
           0.0273452465320244
          ],
          "arrayminus": [
           0.0121997825701088,
           0.1088199725332416,
           0.0106257519289002,
           0.0219021368936365
          ]
         },
         "hovertemplate": "<b>Quintiles de ingreso</b>=IV<br>anio=1994<br>thogar=%{x}<br>Hogares(%)=%{text}<extra></extra>",
         "legendgroup": "IV",
         "marker": {
          "color": "#19d3f3",
          "pattern": {
           "shape": ""
          }
         },
         "name": "IV",
         "offsetgroup": "IV",
         "orientation": "v",
         "showlegend": false,
         "text": [
          1.4,
          11.4,
          1.2,
          2.4
         ],
         "textposition": "auto",
         "x": [
          "nuclear monoparental",
          "nuclear biparental",
          "extenso monoparental",
          "extenso biparental"
         ],
         "xaxis": "x10",
         "y": [
          1.4,
          11.4,
          1.2,
          2.4
         ],
         "yaxis": "y10",
         "type": "bar"
        },
        {
         "alignmentgroup": "True",
         "error_y": {
          "array": [
           0.0129620457977688,
           0.1327696796041205,
           0.0142188865649209,
           0.0302796551463178
          ],
          "arrayminus": [
           0.0088222915545937,
           0.1161730794208444,
           0.0100026546123426,
           0.0231819014740566
          ]
         },
         "hovertemplate": "<b>Quintiles de ingreso</b>=IV<br>anio=1996<br>thogar=%{x}<br>Hogares(%)=%{text}<extra></extra>",
         "legendgroup": "IV",
         "marker": {
          "color": "#19d3f3",
          "pattern": {
           "shape": ""
          }
         },
         "name": "IV",
         "offsetgroup": "IV",
         "orientation": "v",
         "showlegend": false,
         "text": [
          1.1,
          12.4,
          1.2,
          2.7
         ],
         "textposition": "auto",
         "x": [
          "nuclear monoparental",
          "nuclear biparental",
          "extenso monoparental",
          "extenso biparental"
         ],
         "xaxis": "x9",
         "y": [
          1.1,
          12.4,
          1.2,
          2.7
         ],
         "yaxis": "y9",
         "type": "bar"
        },
        {
         "alignmentgroup": "True",
         "error_y": {
          "array": [
           0.0186474919963414,
           0.1239727055403252,
           0.0142601820171048,
           0.0305815034443055
          ],
          "arrayminus": [
           0.01340673724154,
           0.1123494424441356,
           0.0105689298484218,
           0.0245863740920831
          ]
         },
         "hovertemplate": "<b>Quintiles de ingreso</b>=IV<br>anio=1998<br>thogar=%{x}<br>Hogares(%)=%{text}<extra></extra>",
         "legendgroup": "IV",
         "marker": {
          "color": "#19d3f3",
          "pattern": {
           "shape": ""
          }
         },
         "name": "IV",
         "offsetgroup": "IV",
         "orientation": "v",
         "showlegend": false,
         "text": [
          1.6,
          11.8,
          1.2,
          2.7
         ],
         "textposition": "auto",
         "x": [
          "nuclear monoparental",
          "nuclear biparental",
          "extenso monoparental",
          "extenso biparental"
         ],
         "xaxis": "x8",
         "y": [
          1.6,
          11.8,
          1.2,
          2.7
         ],
         "yaxis": "y8",
         "type": "bar"
        },
        {
         "alignmentgroup": "True",
         "error_y": {
          "array": [
           0.0160803801371612,
           0.1164190263793158,
           0.0159212748783039,
           0.0281375312406183
          ],
          "arrayminus": [
           0.0117371483307034,
           0.1016145933643167,
           0.0118972495097442,
           0.0228181637820288
          ]
         },
         "hovertemplate": "<b>Quintiles de ingreso</b>=IV<br>anio=2000<br>thogar=%{x}<br>Hogares(%)=%{text}<extra></extra>",
         "legendgroup": "IV",
         "marker": {
          "color": "#19d3f3",
          "pattern": {
           "shape": ""
          }
         },
         "name": "IV",
         "offsetgroup": "IV",
         "orientation": "v",
         "showlegend": false,
         "text": [
          1.4,
          10.9,
          1.4,
          2.5
         ],
         "textposition": "auto",
         "x": [
          "nuclear monoparental",
          "nuclear biparental",
          "extenso monoparental",
          "extenso biparental"
         ],
         "xaxis": "x7",
         "y": [
          1.4,
          10.9,
          1.4,
          2.5
         ],
         "yaxis": "y7",
         "type": "bar"
        },
        {
         "alignmentgroup": "True",
         "error_y": {
          "array": [
           0.0207506968457762,
           0.1167592312797007,
           0.0144801838965653,
           0.0326617532339455
          ],
          "arrayminus": [
           0.0154263119356522,
           0.1030227566783086,
           0.0106556776339448,
           0.0264368062977792
          ]
         },
         "hovertemplate": "<b>Quintiles de ingreso</b>=IV<br>anio=2003<br>thogar=%{x}<br>Hogares(%)=%{text}<extra></extra>",
         "legendgroup": "IV",
         "marker": {
          "color": "#19d3f3",
          "pattern": {
           "shape": ""
          }
         },
         "name": "IV",
         "offsetgroup": "IV",
         "orientation": "v",
         "showlegend": false,
         "text": [
          1.8,
          11.0,
          1.2,
          2.9
         ],
         "textposition": "auto",
         "x": [
          "nuclear monoparental",
          "nuclear biparental",
          "extenso monoparental",
          "extenso biparental"
         ],
         "xaxis": "x6",
         "y": [
          1.8,
          11.0,
          1.2,
          2.9
         ],
         "yaxis": "y6",
         "type": "bar"
        },
        {
         "alignmentgroup": "True",
         "error_y": {
          "array": [
           0.0240748404336404,
           0.1165955032906154,
           0.0172733797064601,
           0.0330781862686038
          ],
          "arrayminus": [
           0.0186303860516249,
           0.1048942227536438,
           0.0130674927889841,
           0.0264480562374275
          ]
         },
         "hovertemplate": "<b>Quintiles de ingreso</b>=IV<br>anio=2009<br>thogar=%{x}<br>Hogares(%)=%{text}<extra></extra>",
         "legendgroup": "IV",
         "marker": {
          "color": "#19d3f3",
          "pattern": {
           "shape": ""
          }
         },
         "name": "IV",
         "offsetgroup": "IV",
         "orientation": "v",
         "showlegend": false,
         "text": [
          2.1,
          11.1,
          1.5,
          3.0
         ],
         "textposition": "auto",
         "x": [
          "nuclear monoparental",
          "nuclear biparental",
          "extenso monoparental",
          "extenso biparental"
         ],
         "xaxis": "x5",
         "y": [
          2.1,
          11.1,
          1.5,
          3.0
         ],
         "yaxis": "y5",
         "type": "bar"
        },
        {
         "alignmentgroup": "True",
         "error_y": {
          "array": [
           0.0250411082029246,
           0.1028032780001614,
           0.0187078466721224,
           0.0301443211452473
          ],
          "arrayminus": [
           0.0176442505494736,
           0.089632889579772,
           0.0132364490421122,
           0.0242651581091033
          ]
         },
         "hovertemplate": "<b>Quintiles de ingreso</b>=IV<br>anio=2013<br>thogar=%{x}<br>Hogares(%)=%{text}<extra></extra>",
         "legendgroup": "IV",
         "marker": {
          "color": "#19d3f3",
          "pattern": {
           "shape": ""
          }
         },
         "name": "IV",
         "offsetgroup": "IV",
         "orientation": "v",
         "showlegend": false,
         "text": [
          2.1,
          9.6,
          1.6,
          2.7
         ],
         "textposition": "auto",
         "x": [
          "nuclear monoparental",
          "nuclear biparental",
          "extenso monoparental",
          "extenso biparental"
         ],
         "xaxis": "x4",
         "y": [
          2.1,
          9.6,
          1.6,
          2.7
         ],
         "yaxis": "y4",
         "type": "bar"
        },
        {
         "alignmentgroup": "True",
         "error_y": {
          "array": [
           0.0252188675732221,
           0.0985156104203598,
           0.0172219686543754,
           0.0321230440664495
          ],
          "arrayminus": [
           0.0205268043559948,
           0.0883341424220013,
           0.0135098589007634,
           0.0269030488734167
          ]
         },
         "hovertemplate": "<b>Quintiles de ingreso</b>=IV<br>anio=2015<br>thogar=%{x}<br>Hogares(%)=%{text}<extra></extra>",
         "legendgroup": "IV",
         "marker": {
          "color": "#19d3f3",
          "pattern": {
           "shape": ""
          }
         },
         "name": "IV",
         "offsetgroup": "IV",
         "orientation": "v",
         "showlegend": false,
         "text": [
          2.3,
          9.3,
          1.5,
          2.9
         ],
         "textposition": "auto",
         "x": [
          "nuclear monoparental",
          "nuclear biparental",
          "extenso monoparental",
          "extenso biparental"
         ],
         "xaxis": "x3",
         "y": [
          2.3,
          9.3,
          1.5,
          2.9
         ],
         "yaxis": "y3",
         "type": "bar"
        },
        {
         "alignmentgroup": "True",
         "error_y": {
          "array": [
           0.030332567375856,
           0.0968485260602809,
           0.0187814335957613,
           0.0282820929367085
          ],
          "arrayminus": [
           0.0199829131728849,
           0.0862971896585161,
           0.014143234726366,
           0.0226840522475423
          ]
         },
         "hovertemplate": "<b>Quintiles de ingreso</b>=IV<br>anio=2017<br>thogar=%{x}<br>Hogares(%)=%{text}<extra></extra>",
         "legendgroup": "IV",
         "marker": {
          "color": "#19d3f3",
          "pattern": {
           "shape": ""
          }
         },
         "name": "IV",
         "offsetgroup": "IV",
         "orientation": "v",
         "showlegend": false,
         "text": [
          2.5,
          9.1,
          1.6,
          2.5
         ],
         "textposition": "auto",
         "x": [
          "nuclear monoparental",
          "nuclear biparental",
          "extenso monoparental",
          "extenso biparental"
         ],
         "xaxis": "x2",
         "y": [
          2.5,
          9.1,
          1.6,
          2.5
         ],
         "yaxis": "y2",
         "type": "bar"
        },
        {
         "alignmentgroup": "True",
         "error_y": {
          "array": [
           0.0393814620424238,
           0.0944106594231896,
           0.0200549293349248,
           0.024344314025268
          ],
          "arrayminus": [
           0.0285149975876343,
           0.0831177527459464,
           0.0156300436542258,
           0.0196645323191856
          ]
         },
         "hovertemplate": "<b>Quintiles de ingreso</b>=IV<br>anio=2020<br>thogar=%{x}<br>Hogares(%)=%{text}<extra></extra>",
         "legendgroup": "IV",
         "marker": {
          "color": "#19d3f3",
          "pattern": {
           "shape": ""
          }
         },
         "name": "IV",
         "offsetgroup": "IV",
         "orientation": "v",
         "showlegend": false,
         "text": [
          3.4,
          8.9,
          1.8,
          2.2
         ],
         "textposition": "auto",
         "x": [
          "nuclear monoparental",
          "nuclear biparental",
          "extenso monoparental",
          "extenso biparental"
         ],
         "xaxis": "x",
         "y": [
          3.4,
          8.9,
          1.8,
          2.2
         ],
         "yaxis": "y",
         "type": "bar"
        },
        {
         "alignmentgroup": "True",
         "error_y": {
          "array": [
           0.0124924002664283,
           0.1139533370688513,
           0.0079038141764595,
           0.0179583265924365
          ],
          "arrayminus": [
           0.0084288228675781,
           0.1016874160670933,
           0.0048266327630375,
           0.0128428322802668
          ]
         },
         "hovertemplate": "<b>Quintiles de ingreso</b>=V<br>anio=1990<br>thogar=%{x}<br>Hogares(%)=%{text}<extra></extra>",
         "legendgroup": "V",
         "marker": {
          "color": "#FF6692",
          "pattern": {
           "shape": ""
          }
         },
         "name": "V",
         "offsetgroup": "V",
         "orientation": "v",
         "showlegend": true,
         "text": [
          1.0,
          10.8,
          0.6,
          1.5
         ],
         "textposition": "auto",
         "x": [
          "nuclear monoparental",
          "nuclear biparental",
          "extenso monoparental",
          "extenso biparental"
         ],
         "xaxis": "x12",
         "y": [
          1.0,
          10.8,
          0.6,
          1.5
         ],
         "yaxis": "y12",
         "type": "bar"
        },
        {
         "alignmentgroup": "True",
         "error_y": {
          "array": [
           0.0131920834487408,
           0.1127816407933351,
           0.0075261813938068,
           0.0125696084628022
          ],
          "arrayminus": [
           0.0093708229740007,
           0.1018335953099108,
           0.0047978231865413,
           0.0090785685026764
          ]
         },
         "hovertemplate": "<b>Quintiles de ingreso</b>=V<br>anio=1992<br>thogar=%{x}<br>Hogares(%)=%{text}<extra></extra>",
         "legendgroup": "V",
         "marker": {
          "color": "#FF6692",
          "pattern": {
           "shape": ""
          }
         },
         "name": "V",
         "offsetgroup": "V",
         "orientation": "v",
         "showlegend": false,
         "text": [
          1.1,
          10.7,
          0.6,
          1.1
         ],
         "textposition": "auto",
         "x": [
          "nuclear monoparental",
          "nuclear biparental",
          "extenso monoparental",
          "extenso biparental"
         ],
         "xaxis": "x11",
         "y": [
          1.1,
          10.7,
          0.6,
          1.1
         ],
         "yaxis": "y11",
         "type": "bar"
        },
        {
         "alignmentgroup": "True",
         "error_y": {
          "array": [
           0.0146783166678223,
           0.1138283097568558,
           0.0088141813398243,
           0.0163876209988077
          ],
          "arrayminus": [
           0.0103307807355183,
           0.1021806701601323,
           0.0055876495681891,
           0.0119201423692238
          ]
         },
         "hovertemplate": "<b>Quintiles de ingreso</b>=V<br>anio=1994<br>thogar=%{x}<br>Hogares(%)=%{text}<extra></extra>",
         "legendgroup": "V",
         "marker": {
          "color": "#FF6692",
          "pattern": {
           "shape": ""
          }
         },
         "name": "V",
         "offsetgroup": "V",
         "orientation": "v",
         "showlegend": false,
         "text": [
          1.2,
          10.8,
          0.7,
          1.4
         ],
         "textposition": "auto",
         "x": [
          "nuclear monoparental",
          "nuclear biparental",
          "extenso monoparental",
          "extenso biparental"
         ],
         "xaxis": "x10",
         "y": [
          1.2,
          10.8,
          0.7,
          1.4
         ],
         "yaxis": "y10",
         "type": "bar"
        },
        {
         "alignmentgroup": "True",
         "error_y": {
          "array": [
           0.0145794498491148,
           0.115543448110566,
           0.0073128866512493,
           0.0151461235530264
          ],
          "arrayminus": [
           0.009115308980304,
           0.0991138044120194,
           0.0040492540460079,
           0.0102162872202649
          ]
         },
         "hovertemplate": "<b>Quintiles de ingreso</b>=V<br>anio=1996<br>thogar=%{x}<br>Hogares(%)=%{text}<extra></extra>",
         "legendgroup": "V",
         "marker": {
          "color": "#FF6692",
          "pattern": {
           "shape": ""
          }
         },
         "name": "V",
         "offsetgroup": "V",
         "orientation": "v",
         "showlegend": false,
         "text": [
          1.2,
          10.7,
          0.5,
          1.2
         ],
         "textposition": "auto",
         "x": [
          "nuclear monoparental",
          "nuclear biparental",
          "extenso monoparental",
          "extenso biparental"
         ],
         "xaxis": "x9",
         "y": [
          1.2,
          10.7,
          0.5,
          1.2
         ],
         "yaxis": "y9",
         "type": "bar"
        },
        {
         "alignmentgroup": "True",
         "error_y": {
          "array": [
           0.0160423690253301,
           0.1095547055015551,
           0.0067524534216132,
           0.0130666369842251
          ],
          "arrayminus": [
           0.0108157295925699,
           0.0973519135227584,
           0.0040357791286716,
           0.0090576903280783
          ]
         },
         "hovertemplate": "<b>Quintiles de ingreso</b>=V<br>anio=1998<br>thogar=%{x}<br>Hogares(%)=%{text}<extra></extra>",
         "legendgroup": "V",
         "marker": {
          "color": "#FF6692",
          "pattern": {
           "shape": ""
          }
         },
         "name": "V",
         "offsetgroup": "V",
         "orientation": "v",
         "showlegend": false,
         "text": [
          1.3,
          10.3,
          0.5,
          1.1
         ],
         "textposition": "auto",
         "x": [
          "nuclear monoparental",
          "nuclear biparental",
          "extenso monoparental",
          "extenso biparental"
         ],
         "xaxis": "x8",
         "y": [
          1.3,
          10.3,
          0.5,
          1.1
         ],
         "yaxis": "y8",
         "type": "bar"
        },
        {
         "alignmentgroup": "True",
         "error_y": {
          "array": [
           0.0165224298307979,
           0.1093412390061175,
           0.0062528578020516,
           0.0131291642632393
          ],
          "arrayminus": [
           0.0108160914508265,
           0.094562490463497,
           0.0037532103725272,
           0.0091956092187035
          ]
         },
         "hovertemplate": "<b>Quintiles de ingreso</b>=V<br>anio=2000<br>thogar=%{x}<br>Hogares(%)=%{text}<extra></extra>",
         "legendgroup": "V",
         "marker": {
          "color": "#FF6692",
          "pattern": {
           "shape": ""
          }
         },
         "name": "V",
         "offsetgroup": "V",
         "orientation": "v",
         "showlegend": false,
         "text": [
          1.3,
          10.2,
          0.5,
          1.1
         ],
         "textposition": "auto",
         "x": [
          "nuclear monoparental",
          "nuclear biparental",
          "extenso monoparental",
          "extenso biparental"
         ],
         "xaxis": "x7",
         "y": [
          1.3,
          10.2,
          0.5,
          1.1
         ],
         "yaxis": "y7",
         "type": "bar"
        },
        {
         "alignmentgroup": "True",
         "error_y": {
          "array": [
           0.0133839051699733,
           0.1072331934984388,
           0.0065094235962659,
           0.0138944128142979
          ],
          "arrayminus": [
           0.009009053761906,
           0.0938567267438256,
           0.004070892267175,
           0.0097697231693424
          ]
         },
         "hovertemplate": "<b>Quintiles de ingreso</b>=V<br>anio=2003<br>thogar=%{x}<br>Hogares(%)=%{text}<extra></extra>",
         "legendgroup": "V",
         "marker": {
          "color": "#FF6692",
          "pattern": {
           "shape": ""
          }
         },
         "name": "V",
         "offsetgroup": "V",
         "orientation": "v",
         "showlegend": false,
         "text": [
          1.1,
          10.0,
          0.5,
          1.2
         ],
         "textposition": "auto",
         "x": [
          "nuclear monoparental",
          "nuclear biparental",
          "extenso monoparental",
          "extenso biparental"
         ],
         "xaxis": "x6",
         "y": [
          1.1,
          10.0,
          0.5,
          1.2
         ],
         "yaxis": "y6",
         "type": "bar"
        },
        {
         "alignmentgroup": "True",
         "error_y": {
          "array": [
           0.0189096652213436,
           0.1009304407714186,
           0.0085696741361388,
           0.0158534970570128
          ],
          "arrayminus": [
           0.012244719066436,
           0.0877004962516295,
           0.0049929458875331,
           0.0103324140743623
          ]
         },
         "hovertemplate": "<b>Quintiles de ingreso</b>=V<br>anio=2009<br>thogar=%{x}<br>Hogares(%)=%{text}<extra></extra>",
         "legendgroup": "V",
         "marker": {
          "color": "#FF6692",
          "pattern": {
           "shape": ""
          }
         },
         "name": "V",
         "offsetgroup": "V",
         "orientation": "v",
         "showlegend": false,
         "text": [
          1.5,
          9.4,
          0.7,
          1.3
         ],
         "textposition": "auto",
         "x": [
          "nuclear monoparental",
          "nuclear biparental",
          "extenso monoparental",
          "extenso biparental"
         ],
         "xaxis": "x5",
         "y": [
          1.5,
          9.4,
          0.7,
          1.3
         ],
         "yaxis": "y5",
         "type": "bar"
        },
        {
         "alignmentgroup": "True",
         "error_y": {
          "array": [
           0.0175475923088253,
           0.093272502835943,
           0.0053667226947731,
           0.0147782433765214
          ],
          "arrayminus": [
           0.0116878846082014,
           0.0771674677646898,
           0.0033094641001181,
           0.0104121580134277
          ]
         },
         "hovertemplate": "<b>Quintiles de ingreso</b>=V<br>anio=2013<br>thogar=%{x}<br>Hogares(%)=%{text}<extra></extra>",
         "legendgroup": "V",
         "marker": {
          "color": "#FF6692",
          "pattern": {
           "shape": ""
          }
         },
         "name": "V",
         "offsetgroup": "V",
         "orientation": "v",
         "showlegend": false,
         "text": [
          1.4,
          8.5,
          0.4,
          1.2
         ],
         "textposition": "auto",
         "x": [
          "nuclear monoparental",
          "nuclear biparental",
          "extenso monoparental",
          "extenso biparental"
         ],
         "xaxis": "x4",
         "y": [
          1.4,
          8.5,
          0.4,
          1.2
         ],
         "yaxis": "y4",
         "type": "bar"
        },
        {
         "alignmentgroup": "True",
         "error_y": {
          "array": [
           0.0148443076779379,
           0.0899322801545623,
           0.0090795534491846,
           0.0155000158445551
          ],
          "arrayminus": [
           0.0111850780460538,
           0.0769358037777224,
           0.0062296099224068,
           0.0118233617707367
          ]
         },
         "hovertemplate": "<b>Quintiles de ingreso</b>=V<br>anio=2015<br>thogar=%{x}<br>Hogares(%)=%{text}<extra></extra>",
         "legendgroup": "V",
         "marker": {
          "color": "#FF6692",
          "pattern": {
           "shape": ""
          }
         },
         "name": "V",
         "offsetgroup": "V",
         "orientation": "v",
         "showlegend": false,
         "text": [
          1.3,
          8.3,
          0.8,
          1.4
         ],
         "textposition": "auto",
         "x": [
          "nuclear monoparental",
          "nuclear biparental",
          "extenso monoparental",
          "extenso biparental"
         ],
         "xaxis": "x3",
         "y": [
          1.3,
          8.3,
          0.8,
          1.4
         ],
         "yaxis": "y3",
         "type": "bar"
        },
        {
         "alignmentgroup": "True",
         "error_y": {
          "array": [
           0.0162439541134823,
           0.0971682502446931,
           0.0069323362290578,
           0.012481516702413
          ],
          "arrayminus": [
           0.0120632687995737,
           0.0811475162779578,
           0.0044246264732502,
           0.0091191011995891
          ]
         },
         "hovertemplate": "<b>Quintiles de ingreso</b>=V<br>anio=2017<br>thogar=%{x}<br>Hogares(%)=%{text}<extra></extra>",
         "legendgroup": "V",
         "marker": {
          "color": "#FF6692",
          "pattern": {
           "shape": ""
          }
         },
         "name": "V",
         "offsetgroup": "V",
         "orientation": "v",
         "showlegend": false,
         "text": [
          1.4,
          8.9,
          0.6,
          1.1
         ],
         "textposition": "auto",
         "x": [
          "nuclear monoparental",
          "nuclear biparental",
          "extenso monoparental",
          "extenso biparental"
         ],
         "xaxis": "x2",
         "y": [
          1.4,
          8.9,
          0.6,
          1.1
         ],
         "yaxis": "y2",
         "type": "bar"
        },
        {
         "alignmentgroup": "True",
         "error_y": {
          "array": [
           0.0201492256936189,
           0.1047647444887961,
           0.0084582486437652,
           0.0132204813066389
          ],
          "arrayminus": [
           0.0152920386967036,
           0.0895658636637575,
           0.0054920447648592,
           0.0097376698930263
          ]
         },
         "hovertemplate": "<b>Quintiles de ingreso</b>=V<br>anio=2020<br>thogar=%{x}<br>Hogares(%)=%{text}<extra></extra>",
         "legendgroup": "V",
         "marker": {
          "color": "#FF6692",
          "pattern": {
           "shape": ""
          }
         },
         "name": "V",
         "offsetgroup": "V",
         "orientation": "v",
         "showlegend": false,
         "text": [
          1.8,
          9.7,
          0.7,
          1.1
         ],
         "textposition": "auto",
         "x": [
          "nuclear monoparental",
          "nuclear biparental",
          "extenso monoparental",
          "extenso biparental"
         ],
         "xaxis": "x",
         "y": [
          1.8,
          9.7,
          0.7,
          1.1
         ],
         "yaxis": "y",
         "type": "bar"
        }
       ],
       "layout": {
        "template": {
         "data": {
          "barpolar": [
           {
            "marker": {
             "line": {
              "color": "#E5ECF6",
              "width": 0.5
             },
             "pattern": {
              "fillmode": "overlay",
              "size": 10,
              "solidity": 0.2
             }
            },
            "type": "barpolar"
           }
          ],
          "bar": [
           {
            "error_x": {
             "color": "#2a3f5f"
            },
            "error_y": {
             "color": "#2a3f5f"
            },
            "marker": {
             "line": {
              "color": "#E5ECF6",
              "width": 0.5
             },
             "pattern": {
              "fillmode": "overlay",
              "size": 10,
              "solidity": 0.2
             }
            },
            "type": "bar"
           }
          ],
          "carpet": [
           {
            "aaxis": {
             "endlinecolor": "#2a3f5f",
             "gridcolor": "white",
             "linecolor": "white",
             "minorgridcolor": "white",
             "startlinecolor": "#2a3f5f"
            },
            "baxis": {
             "endlinecolor": "#2a3f5f",
             "gridcolor": "white",
             "linecolor": "white",
             "minorgridcolor": "white",
             "startlinecolor": "#2a3f5f"
            },
            "type": "carpet"
           }
          ],
          "choropleth": [
           {
            "colorbar": {
             "outlinewidth": 0,
             "ticks": ""
            },
            "type": "choropleth"
           }
          ],
          "contourcarpet": [
           {
            "colorbar": {
             "outlinewidth": 0,
             "ticks": ""
            },
            "type": "contourcarpet"
           }
          ],
          "contour": [
           {
            "colorbar": {
             "outlinewidth": 0,
             "ticks": ""
            },
            "colorscale": [
             [
              0.0,
              "#0d0887"
             ],
             [
              0.1111111111111111,
              "#46039f"
             ],
             [
              0.2222222222222222,
              "#7201a8"
             ],
             [
              0.3333333333333333,
              "#9c179e"
             ],
             [
              0.4444444444444444,
              "#bd3786"
             ],
             [
              0.5555555555555556,
              "#d8576b"
             ],
             [
              0.6666666666666666,
              "#ed7953"
             ],
             [
              0.7777777777777778,
              "#fb9f3a"
             ],
             [
              0.8888888888888888,
              "#fdca26"
             ],
             [
              1.0,
              "#f0f921"
             ]
            ],
            "type": "contour"
           }
          ],
          "heatmapgl": [
           {
            "colorbar": {
             "outlinewidth": 0,
             "ticks": ""
            },
            "colorscale": [
             [
              0.0,
              "#0d0887"
             ],
             [
              0.1111111111111111,
              "#46039f"
             ],
             [
              0.2222222222222222,
              "#7201a8"
             ],
             [
              0.3333333333333333,
              "#9c179e"
             ],
             [
              0.4444444444444444,
              "#bd3786"
             ],
             [
              0.5555555555555556,
              "#d8576b"
             ],
             [
              0.6666666666666666,
              "#ed7953"
             ],
             [
              0.7777777777777778,
              "#fb9f3a"
             ],
             [
              0.8888888888888888,
              "#fdca26"
             ],
             [
              1.0,
              "#f0f921"
             ]
            ],
            "type": "heatmapgl"
           }
          ],
          "heatmap": [
           {
            "colorbar": {
             "outlinewidth": 0,
             "ticks": ""
            },
            "colorscale": [
             [
              0.0,
              "#0d0887"
             ],
             [
              0.1111111111111111,
              "#46039f"
             ],
             [
              0.2222222222222222,
              "#7201a8"
             ],
             [
              0.3333333333333333,
              "#9c179e"
             ],
             [
              0.4444444444444444,
              "#bd3786"
             ],
             [
              0.5555555555555556,
              "#d8576b"
             ],
             [
              0.6666666666666666,
              "#ed7953"
             ],
             [
              0.7777777777777778,
              "#fb9f3a"
             ],
             [
              0.8888888888888888,
              "#fdca26"
             ],
             [
              1.0,
              "#f0f921"
             ]
            ],
            "type": "heatmap"
           }
          ],
          "histogram2dcontour": [
           {
            "colorbar": {
             "outlinewidth": 0,
             "ticks": ""
            },
            "colorscale": [
             [
              0.0,
              "#0d0887"
             ],
             [
              0.1111111111111111,
              "#46039f"
             ],
             [
              0.2222222222222222,
              "#7201a8"
             ],
             [
              0.3333333333333333,
              "#9c179e"
             ],
             [
              0.4444444444444444,
              "#bd3786"
             ],
             [
              0.5555555555555556,
              "#d8576b"
             ],
             [
              0.6666666666666666,
              "#ed7953"
             ],
             [
              0.7777777777777778,
              "#fb9f3a"
             ],
             [
              0.8888888888888888,
              "#fdca26"
             ],
             [
              1.0,
              "#f0f921"
             ]
            ],
            "type": "histogram2dcontour"
           }
          ],
          "histogram2d": [
           {
            "colorbar": {
             "outlinewidth": 0,
             "ticks": ""
            },
            "colorscale": [
             [
              0.0,
              "#0d0887"
             ],
             [
              0.1111111111111111,
              "#46039f"
             ],
             [
              0.2222222222222222,
              "#7201a8"
             ],
             [
              0.3333333333333333,
              "#9c179e"
             ],
             [
              0.4444444444444444,
              "#bd3786"
             ],
             [
              0.5555555555555556,
              "#d8576b"
             ],
             [
              0.6666666666666666,
              "#ed7953"
             ],
             [
              0.7777777777777778,
              "#fb9f3a"
             ],
             [
              0.8888888888888888,
              "#fdca26"
             ],
             [
              1.0,
              "#f0f921"
             ]
            ],
            "type": "histogram2d"
           }
          ],
          "histogram": [
           {
            "marker": {
             "pattern": {
              "fillmode": "overlay",
              "size": 10,
              "solidity": 0.2
             }
            },
            "type": "histogram"
           }
          ],
          "mesh3d": [
           {
            "colorbar": {
             "outlinewidth": 0,
             "ticks": ""
            },
            "type": "mesh3d"
           }
          ],
          "parcoords": [
           {
            "line": {
             "colorbar": {
              "outlinewidth": 0,
              "ticks": ""
             }
            },
            "type": "parcoords"
           }
          ],
          "pie": [
           {
            "automargin": true,
            "type": "pie"
           }
          ],
          "scatter3d": [
           {
            "line": {
             "colorbar": {
              "outlinewidth": 0,
              "ticks": ""
             }
            },
            "marker": {
             "colorbar": {
              "outlinewidth": 0,
              "ticks": ""
             }
            },
            "type": "scatter3d"
           }
          ],
          "scattercarpet": [
           {
            "marker": {
             "colorbar": {
              "outlinewidth": 0,
              "ticks": ""
             }
            },
            "type": "scattercarpet"
           }
          ],
          "scattergeo": [
           {
            "marker": {
             "colorbar": {
              "outlinewidth": 0,
              "ticks": ""
             }
            },
            "type": "scattergeo"
           }
          ],
          "scattergl": [
           {
            "marker": {
             "colorbar": {
              "outlinewidth": 0,
              "ticks": ""
             }
            },
            "type": "scattergl"
           }
          ],
          "scattermapbox": [
           {
            "marker": {
             "colorbar": {
              "outlinewidth": 0,
              "ticks": ""
             }
            },
            "type": "scattermapbox"
           }
          ],
          "scatterpolargl": [
           {
            "marker": {
             "colorbar": {
              "outlinewidth": 0,
              "ticks": ""
             }
            },
            "type": "scatterpolargl"
           }
          ],
          "scatterpolar": [
           {
            "marker": {
             "colorbar": {
              "outlinewidth": 0,
              "ticks": ""
             }
            },
            "type": "scatterpolar"
           }
          ],
          "scatter": [
           {
            "marker": {
             "colorbar": {
              "outlinewidth": 0,
              "ticks": ""
             }
            },
            "type": "scatter"
           }
          ],
          "scatterternary": [
           {
            "marker": {
             "colorbar": {
              "outlinewidth": 0,
              "ticks": ""
             }
            },
            "type": "scatterternary"
           }
          ],
          "surface": [
           {
            "colorbar": {
             "outlinewidth": 0,
             "ticks": ""
            },
            "colorscale": [
             [
              0.0,
              "#0d0887"
             ],
             [
              0.1111111111111111,
              "#46039f"
             ],
             [
              0.2222222222222222,
              "#7201a8"
             ],
             [
              0.3333333333333333,
              "#9c179e"
             ],
             [
              0.4444444444444444,
              "#bd3786"
             ],
             [
              0.5555555555555556,
              "#d8576b"
             ],
             [
              0.6666666666666666,
              "#ed7953"
             ],
             [
              0.7777777777777778,
              "#fb9f3a"
             ],
             [
              0.8888888888888888,
              "#fdca26"
             ],
             [
              1.0,
              "#f0f921"
             ]
            ],
            "type": "surface"
           }
          ],
          "table": [
           {
            "cells": {
             "fill": {
              "color": "#EBF0F8"
             },
             "line": {
              "color": "white"
             }
            },
            "header": {
             "fill": {
              "color": "#C8D4E3"
             },
             "line": {
              "color": "white"
             }
            },
            "type": "table"
           }
          ]
         },
         "layout": {
          "annotationdefaults": {
           "arrowcolor": "#2a3f5f",
           "arrowhead": 0,
           "arrowwidth": 1
          },
          "autotypenumbers": "strict",
          "coloraxis": {
           "colorbar": {
            "outlinewidth": 0,
            "ticks": ""
           }
          },
          "colorscale": {
           "diverging": [
            [
             0,
             "#8e0152"
            ],
            [
             0.1,
             "#c51b7d"
            ],
            [
             0.2,
             "#de77ae"
            ],
            [
             0.3,
             "#f1b6da"
            ],
            [
             0.4,
             "#fde0ef"
            ],
            [
             0.5,
             "#f7f7f7"
            ],
            [
             0.6,
             "#e6f5d0"
            ],
            [
             0.7,
             "#b8e186"
            ],
            [
             0.8,
             "#7fbc41"
            ],
            [
             0.9,
             "#4d9221"
            ],
            [
             1,
             "#276419"
            ]
           ],
           "sequential": [
            [
             0.0,
             "#0d0887"
            ],
            [
             0.1111111111111111,
             "#46039f"
            ],
            [
             0.2222222222222222,
             "#7201a8"
            ],
            [
             0.3333333333333333,
             "#9c179e"
            ],
            [
             0.4444444444444444,
             "#bd3786"
            ],
            [
             0.5555555555555556,
             "#d8576b"
            ],
            [
             0.6666666666666666,
             "#ed7953"
            ],
            [
             0.7777777777777778,
             "#fb9f3a"
            ],
            [
             0.8888888888888888,
             "#fdca26"
            ],
            [
             1.0,
             "#f0f921"
            ]
           ],
           "sequentialminus": [
            [
             0.0,
             "#0d0887"
            ],
            [
             0.1111111111111111,
             "#46039f"
            ],
            [
             0.2222222222222222,
             "#7201a8"
            ],
            [
             0.3333333333333333,
             "#9c179e"
            ],
            [
             0.4444444444444444,
             "#bd3786"
            ],
            [
             0.5555555555555556,
             "#d8576b"
            ],
            [
             0.6666666666666666,
             "#ed7953"
            ],
            [
             0.7777777777777778,
             "#fb9f3a"
            ],
            [
             0.8888888888888888,
             "#fdca26"
            ],
            [
             1.0,
             "#f0f921"
            ]
           ]
          },
          "colorway": [
           "#636efa",
           "#EF553B",
           "#00cc96",
           "#ab63fa",
           "#FFA15A",
           "#19d3f3",
           "#FF6692",
           "#B6E880",
           "#FF97FF",
           "#FECB52"
          ],
          "font": {
           "color": "#2a3f5f"
          },
          "geo": {
           "bgcolor": "white",
           "lakecolor": "white",
           "landcolor": "#E5ECF6",
           "showlakes": true,
           "showland": true,
           "subunitcolor": "white"
          },
          "hoverlabel": {
           "align": "left"
          },
          "hovermode": "closest",
          "mapbox": {
           "style": "light"
          },
          "paper_bgcolor": "white",
          "plot_bgcolor": "#E5ECF6",
          "polar": {
           "angularaxis": {
            "gridcolor": "white",
            "linecolor": "white",
            "ticks": ""
           },
           "bgcolor": "#E5ECF6",
           "radialaxis": {
            "gridcolor": "white",
            "linecolor": "white",
            "ticks": ""
           }
          },
          "scene": {
           "xaxis": {
            "backgroundcolor": "#E5ECF6",
            "gridcolor": "white",
            "gridwidth": 2,
            "linecolor": "white",
            "showbackground": true,
            "ticks": "",
            "zerolinecolor": "white"
           },
           "yaxis": {
            "backgroundcolor": "#E5ECF6",
            "gridcolor": "white",
            "gridwidth": 2,
            "linecolor": "white",
            "showbackground": true,
            "ticks": "",
            "zerolinecolor": "white"
           },
           "zaxis": {
            "backgroundcolor": "#E5ECF6",
            "gridcolor": "white",
            "gridwidth": 2,
            "linecolor": "white",
            "showbackground": true,
            "ticks": "",
            "zerolinecolor": "white"
           }
          },
          "shapedefaults": {
           "line": {
            "color": "#2a3f5f"
           }
          },
          "ternary": {
           "aaxis": {
            "gridcolor": "white",
            "linecolor": "white",
            "ticks": ""
           },
           "baxis": {
            "gridcolor": "white",
            "linecolor": "white",
            "ticks": ""
           },
           "bgcolor": "#E5ECF6",
           "caxis": {
            "gridcolor": "white",
            "linecolor": "white",
            "ticks": ""
           }
          },
          "title": {
           "x": 0.05
          },
          "xaxis": {
           "automargin": true,
           "gridcolor": "white",
           "linecolor": "white",
           "ticks": "",
           "title": {
            "standoff": 15
           },
           "zerolinecolor": "white",
           "zerolinewidth": 2
          },
          "yaxis": {
           "automargin": true,
           "gridcolor": "white",
           "linecolor": "white",
           "ticks": "",
           "title": {
            "standoff": 15
           },
           "zerolinecolor": "white",
           "zerolinewidth": 2
          }
         }
        },
        "xaxis": {
         "anchor": "y",
         "domain": [
          0.0,
          0.98
         ],
         "title": {},
         "showgrid": true,
         "tickangle": 0
        },
        "yaxis": {
         "anchor": "x",
         "domain": [
          0.0,
          0.05583333333333333
         ],
         "title": {
          "text": "Hogares(%)",
          "font": {
           "size": 10
          },
          "standoff": 8
         }
        },
        "xaxis2": {
         "anchor": "y2",
         "domain": [
          0.0,
          0.98
         ],
         "matches": "x",
         "showticklabels": false,
         "title": {},
         "showgrid": true,
         "tickangle": 0
        },
        "yaxis2": {
         "anchor": "x2",
         "domain": [
          0.08583333333333333,
          0.14166666666666666
         ],
         "matches": "y",
         "title": {
          "text": "Hogares(%)",
          "font": {
           "size": 10
          },
          "standoff": 8
         }
        },
        "xaxis3": {
         "anchor": "y3",
         "domain": [
          0.0,
          0.98
         ],
         "matches": "x",
         "showticklabels": false,
         "title": {},
         "showgrid": true,
         "tickangle": 0
        },
        "yaxis3": {
         "anchor": "x3",
         "domain": [
          0.17166666666666666,
          0.22749999999999998
         ],
         "matches": "y",
         "title": {
          "text": "Hogares(%)",
          "font": {
           "size": 10
          },
          "standoff": 8
         }
        },
        "xaxis4": {
         "anchor": "y4",
         "domain": [
          0.0,
          0.98
         ],
         "matches": "x",
         "showticklabels": false,
         "title": {},
         "showgrid": true,
         "tickangle": 0
        },
        "yaxis4": {
         "anchor": "x4",
         "domain": [
          0.25749999999999995,
          0.3133333333333333
         ],
         "matches": "y",
         "title": {
          "text": "Hogares(%)",
          "font": {
           "size": 10
          },
          "standoff": 8
         }
        },
        "xaxis5": {
         "anchor": "y5",
         "domain": [
          0.0,
          0.98
         ],
         "matches": "x",
         "showticklabels": false,
         "title": {},
         "showgrid": true,
         "tickangle": 0
        },
        "yaxis5": {
         "anchor": "x5",
         "domain": [
          0.3433333333333333,
          0.39916666666666667
         ],
         "matches": "y",
         "title": {
          "text": "Hogares(%)",
          "font": {
           "size": 10
          },
          "standoff": 8
         }
        },
        "xaxis6": {
         "anchor": "y6",
         "domain": [
          0.0,
          0.98
         ],
         "matches": "x",
         "showticklabels": false,
         "title": {},
         "showgrid": true,
         "tickangle": 0
        },
        "yaxis6": {
         "anchor": "x6",
         "domain": [
          0.4291666666666667,
          0.48500000000000004
         ],
         "matches": "y",
         "title": {
          "text": "Hogares(%)",
          "font": {
           "size": 10
          },
          "standoff": 8
         }
        },
        "xaxis7": {
         "anchor": "y7",
         "domain": [
          0.0,
          0.98
         ],
         "matches": "x",
         "showticklabels": false,
         "title": {},
         "showgrid": true,
         "tickangle": 0
        },
        "yaxis7": {
         "anchor": "x7",
         "domain": [
          0.515,
          0.5708333333333333
         ],
         "matches": "y",
         "title": {
          "text": "Hogares(%)",
          "font": {
           "size": 10
          },
          "standoff": 8
         }
        },
        "xaxis8": {
         "anchor": "y8",
         "domain": [
          0.0,
          0.98
         ],
         "matches": "x",
         "showticklabels": false,
         "title": {},
         "showgrid": true,
         "tickangle": 0
        },
        "yaxis8": {
         "anchor": "x8",
         "domain": [
          0.6008333333333333,
          0.6566666666666666
         ],
         "matches": "y",
         "title": {
          "text": "Hogares(%)",
          "font": {
           "size": 10
          },
          "standoff": 8
         }
        },
        "xaxis9": {
         "anchor": "y9",
         "domain": [
          0.0,
          0.98
         ],
         "matches": "x",
         "showticklabels": false,
         "title": {},
         "showgrid": true,
         "tickangle": 0
        },
        "yaxis9": {
         "anchor": "x9",
         "domain": [
          0.6866666666666668,
          0.7425
         ],
         "matches": "y",
         "title": {
          "text": "Hogares(%)",
          "font": {
           "size": 10
          },
          "standoff": 8
         }
        },
        "xaxis10": {
         "anchor": "y10",
         "domain": [
          0.0,
          0.98
         ],
         "matches": "x",
         "showticklabels": false,
         "title": {},
         "showgrid": true,
         "tickangle": 0
        },
        "yaxis10": {
         "anchor": "x10",
         "domain": [
          0.7725000000000001,
          0.8283333333333334
         ],
         "matches": "y",
         "title": {
          "text": "Hogares(%)",
          "font": {
           "size": 10
          },
          "standoff": 8
         }
        },
        "xaxis11": {
         "anchor": "y11",
         "domain": [
          0.0,
          0.98
         ],
         "matches": "x",
         "showticklabels": false,
         "title": {},
         "showgrid": true,
         "tickangle": 0
        },
        "yaxis11": {
         "anchor": "x11",
         "domain": [
          0.8583333333333334,
          0.9141666666666667
         ],
         "matches": "y",
         "title": {
          "text": "Hogares(%)",
          "font": {
           "size": 10
          },
          "standoff": 8
         }
        },
        "xaxis12": {
         "anchor": "y12",
         "domain": [
          0.0,
          0.98
         ],
         "matches": "x",
         "showticklabels": false,
         "title": {},
         "showgrid": true,
         "tickangle": 0
        },
        "yaxis12": {
         "anchor": "x12",
         "domain": [
          0.9441666666666666,
          0.9999999999999999
         ],
         "matches": "y",
         "title": {
          "text": "Hogares(%)",
          "font": {
           "size": 10
          },
          "standoff": 8
         }
        },
        "annotations": [
         {
          "font": {},
          "showarrow": false,
          "text": "2020",
          "textangle": 90,
          "x": 0.98,
          "xanchor": "left",
          "xref": "paper",
          "y": 0.027916666666666666,
          "yanchor": "middle",
          "yref": "paper"
         },
         {
          "font": {},
          "showarrow": false,
          "text": "2017",
          "textangle": 90,
          "x": 0.98,
          "xanchor": "left",
          "xref": "paper",
          "y": 0.11374999999999999,
          "yanchor": "middle",
          "yref": "paper"
         },
         {
          "font": {},
          "showarrow": false,
          "text": "2015",
          "textangle": 90,
          "x": 0.98,
          "xanchor": "left",
          "xref": "paper",
          "y": 0.19958333333333333,
          "yanchor": "middle",
          "yref": "paper"
         },
         {
          "font": {},
          "showarrow": false,
          "text": "2013",
          "textangle": 90,
          "x": 0.98,
          "xanchor": "left",
          "xref": "paper",
          "y": 0.28541666666666665,
          "yanchor": "middle",
          "yref": "paper"
         },
         {
          "font": {},
          "showarrow": false,
          "text": "2009",
          "textangle": 90,
          "x": 0.98,
          "xanchor": "left",
          "xref": "paper",
          "y": 0.37124999999999997,
          "yanchor": "middle",
          "yref": "paper"
         },
         {
          "font": {},
          "showarrow": false,
          "text": "2003",
          "textangle": 90,
          "x": 0.98,
          "xanchor": "left",
          "xref": "paper",
          "y": 0.4570833333333334,
          "yanchor": "middle",
          "yref": "paper"
         },
         {
          "font": {},
          "showarrow": false,
          "text": "2000",
          "textangle": 90,
          "x": 0.98,
          "xanchor": "left",
          "xref": "paper",
          "y": 0.5429166666666667,
          "yanchor": "middle",
          "yref": "paper"
         },
         {
          "font": {},
          "showarrow": false,
          "text": "1998",
          "textangle": 90,
          "x": 0.98,
          "xanchor": "left",
          "xref": "paper",
          "y": 0.6287499999999999,
          "yanchor": "middle",
          "yref": "paper"
         },
         {
          "font": {},
          "showarrow": false,
          "text": "1996",
          "textangle": 90,
          "x": 0.98,
          "xanchor": "left",
          "xref": "paper",
          "y": 0.7145833333333333,
          "yanchor": "middle",
          "yref": "paper"
         },
         {
          "font": {},
          "showarrow": false,
          "text": "1994",
          "textangle": 90,
          "x": 0.98,
          "xanchor": "left",
          "xref": "paper",
          "y": 0.8004166666666668,
          "yanchor": "middle",
          "yref": "paper"
         },
         {
          "font": {},
          "showarrow": false,
          "text": "1992",
          "textangle": 90,
          "x": 0.98,
          "xanchor": "left",
          "xref": "paper",
          "y": 0.88625,
          "yanchor": "middle",
          "yref": "paper"
         },
         {
          "font": {},
          "showarrow": false,
          "text": "1990",
          "textangle": 90,
          "x": 0.98,
          "xanchor": "left",
          "xref": "paper",
          "y": 0.9720833333333332,
          "yanchor": "middle",
          "yref": "paper"
         }
        ],
        "legend": {
         "title": {
          "text": "<b>Quintiles de ingreso</b>"
         },
         "tracegroupgap": 0,
         "orientation": "h",
         "y": 1,
         "yanchor": "bottom",
         "x": 0.2,
         "xanchor": "center"
        },
        "margin": {
         "t": 15,
         "l": 10,
         "r": 10,
         "b": 10
        },
        "barmode": "group",
        "height": 900
       },
       "config": {
        "plotlyServerURL": "https://plot.ly"
       }
      },
      "text/html": "<div>                            <div id=\"58dbbeb2-dfa4-48bd-a26f-868d5ed2d02d\" class=\"plotly-graph-div\" style=\"height:900px; width:100%;\"></div>            <script type=\"text/javascript\">                require([\"plotly\"], function(Plotly) {                    window.PLOTLYENV=window.PLOTLYENV || {};                                    if (document.getElementById(\"58dbbeb2-dfa4-48bd-a26f-868d5ed2d02d\")) {                    Plotly.newPlot(                        \"58dbbeb2-dfa4-48bd-a26f-868d5ed2d02d\",                        [{\"alignmentgroup\":\"True\",\"error_y\":{\"array\":[0.034499242716676,0.187577342492884,0.0257225194159657,0.0289661614701107],\"arrayminus\":[0.0283355993113886,0.1738723960360101,0.0203827789217002,0.023308078034445]},\"hovertemplate\":\"<b>Quintiles de ingreso</b>=I<br>anio=1990<br>thogar=%{x}<br>Hogares(%)=%{text}<extra></extra>\",\"legendgroup\":\"I\",\"marker\":{\"color\":\"#00cc96\",\"pattern\":{\"shape\":\"\"}},\"name\":\"I\",\"offsetgroup\":\"I\",\"orientation\":\"v\",\"showlegend\":true,\"text\":[3.1,18.1,2.3,2.6],\"textposition\":\"auto\",\"x\":[\"nuclear monoparental\",\"nuclear biparental\",\"extenso monoparental\",\"extenso biparental\"],\"xaxis\":\"x12\",\"y\":[3.1,18.1,2.3,2.6],\"yaxis\":\"y12\",\"type\":\"bar\"},{\"alignmentgroup\":\"True\",\"error_y\":{\"array\":[0.0363436261446841,0.1932233178015568,0.0214192599235579,0.0257463011149974],\"arrayminus\":[0.0306112075902085,0.1811070537830877,0.0172865982536481,0.0213349290051359]},\"hovertemplate\":\"<b>Quintiles de ingreso</b>=I<br>anio=1992<br>thogar=%{x}<br>Hogares(%)=%{text}<extra></extra>\",\"legendgroup\":\"I\",\"marker\":{\"color\":\"#00cc96\",\"pattern\":{\"shape\":\"\"}},\"name\":\"I\",\"offsetgroup\":\"I\",\"orientation\":\"v\",\"showlegend\":false,\"text\":[3.3,18.7,1.9,2.3],\"textposition\":\"auto\",\"x\":[\"nuclear monoparental\",\"nuclear biparental\",\"extenso monoparental\",\"extenso biparental\"],\"xaxis\":\"x11\",\"y\":[3.3,18.7,1.9,2.3],\"yaxis\":\"y11\",\"type\":\"bar\"},{\"alignmentgroup\":\"True\",\"error_y\":{\"array\":[0.0358162655770445,0.1816963115261124,0.0245059339023577,0.0333195510007859],\"arrayminus\":[0.0301772663267184,0.1703338709663348,0.0200370669843669,0.0280264956610216]},\"hovertemplate\":\"<b>Quintiles de ingreso</b>=I<br>anio=1994<br>thogar=%{x}<br>Hogares(%)=%{text}<extra></extra>\",\"legendgroup\":\"I\",\"marker\":{\"color\":\"#00cc96\",\"pattern\":{\"shape\":\"\"}},\"name\":\"I\",\"offsetgroup\":\"I\",\"orientation\":\"v\",\"showlegend\":false,\"text\":[3.3,17.6,2.2,3.1],\"textposition\":\"auto\",\"x\":[\"nuclear monoparental\",\"nuclear biparental\",\"extenso monoparental\",\"extenso biparental\"],\"xaxis\":\"x10\",\"y\":[3.3,17.6,2.2,3.1],\"yaxis\":\"y10\",\"type\":\"bar\"},{\"alignmentgroup\":\"True\",\"error_y\":{\"array\":[0.0341319050158421,0.1834167100799864,0.0222504362535424,0.0354984487245619],\"arrayminus\":[0.0269681161392468,0.1677726041506353,0.0173438191156588,0.0289466143956625]},\"hovertemplate\":\"<b>Quintiles de ingreso</b>=I<br>anio=1996<br>thogar=%{x}<br>Hogares(%)=%{text}<extra></extra>\",\"legendgroup\":\"I\",\"marker\":{\"color\":\"#00cc96\",\"pattern\":{\"shape\":\"\"}},\"name\":\"I\",\"offsetgroup\":\"I\",\"orientation\":\"v\",\"showlegend\":false,\"text\":[3.0,17.5,2.0,3.2],\"textposition\":\"auto\",\"x\":[\"nuclear monoparental\",\"nuclear biparental\",\"extenso monoparental\",\"extenso biparental\"],\"xaxis\":\"x9\",\"y\":[3.0,17.5,2.0,3.2],\"yaxis\":\"y9\",\"type\":\"bar\"},{\"alignmentgroup\":\"True\",\"error_y\":{\"array\":[0.0320806148430875,0.1764683568658051,0.0257307215152383,0.0351258027424726],\"arrayminus\":[0.0267989516404911,0.1646749964436795,0.0210111593468797,0.0298391814188621]},\"hovertemplate\":\"<b>Quintiles de ingreso</b>=I<br>anio=1998<br>thogar=%{x}<br>Hogares(%)=%{text}<extra></extra>\",\"legendgroup\":\"I\",\"marker\":{\"color\":\"#00cc96\",\"pattern\":{\"shape\":\"\"}},\"name\":\"I\",\"offsetgroup\":\"I\",\"orientation\":\"v\",\"showlegend\":false,\"text\":[2.9,17.0,2.3,3.2],\"textposition\":\"auto\",\"x\":[\"nuclear monoparental\",\"nuclear biparental\",\"extenso monoparental\",\"extenso biparental\"],\"xaxis\":\"x8\",\"y\":[2.9,17.0,2.3,3.2],\"yaxis\":\"y8\",\"type\":\"bar\"},{\"alignmentgroup\":\"True\",\"error_y\":{\"array\":[0.0323053897440725,0.1803143700363178,0.0281929969227923,0.0402624699846626],\"arrayminus\":[0.026504523089726,0.1679676969360825,0.0235728053360779,0.0346246996191928]},\"hovertemplate\":\"<b>Quintiles de ingreso</b>=I<br>anio=2000<br>thogar=%{x}<br>Hogares(%)=%{text}<extra></extra>\",\"legendgroup\":\"I\",\"marker\":{\"color\":\"#00cc96\",\"pattern\":{\"shape\":\"\"}},\"name\":\"I\",\"offsetgroup\":\"I\",\"orientation\":\"v\",\"showlegend\":false,\"text\":[2.9,17.4,2.6,3.7],\"textposition\":\"auto\",\"x\":[\"nuclear monoparental\",\"nuclear biparental\",\"extenso monoparental\",\"extenso biparental\"],\"xaxis\":\"x7\",\"y\":[2.9,17.4,2.6,3.7],\"yaxis\":\"y7\",\"type\":\"bar\"},{\"alignmentgroup\":\"True\",\"error_y\":{\"array\":[0.0372607220871732,0.1639711377558302,0.0299344723172847,0.0406361815725717],\"arrayminus\":[0.0319150484741048,0.1526086336836173,0.0239558376259547,0.035005081863116]},\"hovertemplate\":\"<b>Quintiles de ingreso</b>=I<br>anio=2003<br>thogar=%{x}<br>Hogares(%)=%{text}<extra></extra>\",\"legendgroup\":\"I\",\"marker\":{\"color\":\"#00cc96\",\"pattern\":{\"shape\":\"\"}},\"name\":\"I\",\"offsetgroup\":\"I\",\"orientation\":\"v\",\"showlegend\":false,\"text\":[3.4,15.8,2.7,3.8],\"textposition\":\"auto\",\"x\":[\"nuclear monoparental\",\"nuclear biparental\",\"extenso monoparental\",\"extenso biparental\"],\"xaxis\":\"x6\",\"y\":[3.4,15.8,2.7,3.8],\"yaxis\":\"y6\",\"type\":\"bar\"},{\"alignmentgroup\":\"True\",\"error_y\":{\"array\":[0.0591102176454262,0.1247907074575469,0.0332047700209571,0.0358607706990566],\"arrayminus\":[0.0521775992297166,0.1152032699981521,0.028037089890545,0.0304891348551575]},\"hovertemplate\":\"<b>Quintiles de ingreso</b>=I<br>anio=2009<br>thogar=%{x}<br>Hogares(%)=%{text}<extra></extra>\",\"legendgroup\":\"I\",\"marker\":{\"color\":\"#00cc96\",\"pattern\":{\"shape\":\"\"}},\"name\":\"I\",\"offsetgroup\":\"I\",\"orientation\":\"v\",\"showlegend\":false,\"text\":[5.6,12.0,3.1,3.3],\"textposition\":\"auto\",\"x\":[\"nuclear monoparental\",\"nuclear biparental\",\"extenso monoparental\",\"extenso biparental\"],\"xaxis\":\"x5\",\"y\":[5.6,12.0,3.1,3.3],\"yaxis\":\"y5\",\"type\":\"bar\"},{\"alignmentgroup\":\"True\",\"error_y\":{\"array\":[0.0720784972047422,0.1244178274800172,0.0373589109093441,0.0399473335641999],\"arrayminus\":[0.0630875994389048,0.1128377563180887,0.0304431329339974,0.0320194606771147]},\"hovertemplate\":\"<b>Quintiles de ingreso</b>=I<br>anio=2013<br>thogar=%{x}<br>Hogares(%)=%{text}<extra></extra>\",\"legendgroup\":\"I\",\"marker\":{\"color\":\"#00cc96\",\"pattern\":{\"shape\":\"\"}},\"name\":\"I\",\"offsetgroup\":\"I\",\"orientation\":\"v\",\"showlegend\":false,\"text\":[6.7,11.9,3.4,3.6],\"textposition\":\"auto\",\"x\":[\"nuclear monoparental\",\"nuclear biparental\",\"extenso monoparental\",\"extenso biparental\"],\"xaxis\":\"x4\",\"y\":[6.7,11.9,3.4,3.6],\"yaxis\":\"y4\",\"type\":\"bar\"},{\"alignmentgroup\":\"True\",\"error_y\":{\"array\":[0.0697928479690851,0.1182455513813845,0.0401997550095357,0.0387171147930886],\"arrayminus\":[0.0626064618849787,0.1090342513877856,0.0349319682975495,0.0335284170626357]},\"hovertemplate\":\"<b>Quintiles de ingreso</b>=I<br>anio=2015<br>thogar=%{x}<br>Hogares(%)=%{text}<extra></extra>\",\"legendgroup\":\"I\",\"marker\":{\"color\":\"#00cc96\",\"pattern\":{\"shape\":\"\"}},\"name\":\"I\",\"offsetgroup\":\"I\",\"orientation\":\"v\",\"showlegend\":false,\"text\":[6.6,11.4,3.7,3.6],\"textposition\":\"auto\",\"x\":[\"nuclear monoparental\",\"nuclear biparental\",\"extenso monoparental\",\"extenso biparental\"],\"xaxis\":\"x3\",\"y\":[6.6,11.4,3.7,3.6],\"yaxis\":\"y3\",\"type\":\"bar\"},{\"alignmentgroup\":\"True\",\"error_y\":{\"array\":[0.0749207269486801,0.1129273042457788,0.0357294681398075,0.036177875187912],\"arrayminus\":[0.0660801652210702,0.1028146552593282,0.0304136275604539,0.0312839227987648]},\"hovertemplate\":\"<b>Quintiles de ingreso</b>=I<br>anio=2017<br>thogar=%{x}<br>Hogares(%)=%{text}<extra></extra>\",\"legendgroup\":\"I\",\"marker\":{\"color\":\"#00cc96\",\"pattern\":{\"shape\":\"\"}},\"name\":\"I\",\"offsetgroup\":\"I\",\"orientation\":\"v\",\"showlegend\":false,\"text\":[7.0,10.8,3.3,3.4],\"textposition\":\"auto\",\"x\":[\"nuclear monoparental\",\"nuclear biparental\",\"extenso monoparental\",\"extenso biparental\"],\"xaxis\":\"x2\",\"y\":[7.0,10.8,3.3,3.4],\"yaxis\":\"y2\",\"type\":\"bar\"},{\"alignmentgroup\":\"True\",\"error_y\":{\"array\":[0.0919152859983558,0.078246014771778,0.0414585510356337,0.0294942436962532],\"arrayminus\":[0.0806593125124947,0.0686232419866325,0.0351043711476714,0.0241829492878466]},\"hovertemplate\":\"<b>Quintiles de ingreso</b>=I<br>anio=2020<br>thogar=%{x}<br>Hogares(%)=%{text}<extra></extra>\",\"legendgroup\":\"I\",\"marker\":{\"color\":\"#00cc96\",\"pattern\":{\"shape\":\"\"}},\"name\":\"I\",\"offsetgroup\":\"I\",\"orientation\":\"v\",\"showlegend\":false,\"text\":[8.6,7.3,3.8,2.7],\"textposition\":\"auto\",\"x\":[\"nuclear monoparental\",\"nuclear biparental\",\"extenso monoparental\",\"extenso biparental\"],\"xaxis\":\"x\",\"y\":[8.6,7.3,3.8,2.7],\"yaxis\":\"y\",\"type\":\"bar\"},{\"alignmentgroup\":\"True\",\"error_y\":{\"array\":[0.0282705818993319,0.1674925495654054,0.0243892497516358,0.0362677285292686],\"arrayminus\":[0.0224598424821369,0.1541282062674517,0.0191629571684942,0.0298476650472315]},\"hovertemplate\":\"<b>Quintiles de ingreso</b>=II<br>anio=1990<br>thogar=%{x}<br>Hogares(%)=%{text}<extra></extra>\",\"legendgroup\":\"II\",\"marker\":{\"color\":\"#ab63fa\",\"pattern\":{\"shape\":\"\"}},\"name\":\"II\",\"offsetgroup\":\"II\",\"orientation\":\"v\",\"showlegend\":true,\"text\":[2.5,16.1,2.2,3.3],\"textposition\":\"auto\",\"x\":[\"nuclear monoparental\",\"nuclear biparental\",\"extenso monoparental\",\"extenso biparental\"],\"xaxis\":\"x12\",\"y\":[2.5,16.1,2.2,3.3],\"yaxis\":\"y12\",\"type\":\"bar\"},{\"alignmentgroup\":\"True\",\"error_y\":{\"array\":[0.0264912491904518,0.1722031840118345,0.0235563930196253,0.0326818888573868],\"arrayminus\":[0.0214060636376285,0.1600401305185496,0.0190016542189794,0.0276062931789454]},\"hovertemplate\":\"<b>Quintiles de ingreso</b>=II<br>anio=1992<br>thogar=%{x}<br>Hogares(%)=%{text}<extra></extra>\",\"legendgroup\":\"II\",\"marker\":{\"color\":\"#ab63fa\",\"pattern\":{\"shape\":\"\"}},\"name\":\"II\",\"offsetgroup\":\"II\",\"orientation\":\"v\",\"showlegend\":false,\"text\":[2.4,16.6,2.1,3.0],\"textposition\":\"auto\",\"x\":[\"nuclear monoparental\",\"nuclear biparental\",\"extenso monoparental\",\"extenso biparental\"],\"xaxis\":\"x11\",\"y\":[2.4,16.6,2.1,3.0],\"yaxis\":\"y11\",\"type\":\"bar\"},{\"alignmentgroup\":\"True\",\"error_y\":{\"array\":[0.027023990523244,0.1600209302815512,0.0251219087680349,0.03943904744131],\"arrayminus\":[0.0221553104996282,0.1486073971156133,0.0202974601691547,0.033793047933739]},\"hovertemplate\":\"<b>Quintiles de ingreso</b>=II<br>anio=1994<br>thogar=%{x}<br>Hogares(%)=%{text}<extra></extra>\",\"legendgroup\":\"II\",\"marker\":{\"color\":\"#ab63fa\",\"pattern\":{\"shape\":\"\"}},\"name\":\"II\",\"offsetgroup\":\"II\",\"orientation\":\"v\",\"showlegend\":false,\"text\":[2.4,15.4,2.3,3.7],\"textposition\":\"auto\",\"x\":[\"nuclear monoparental\",\"nuclear biparental\",\"extenso monoparental\",\"extenso biparental\"],\"xaxis\":\"x10\",\"y\":[2.4,15.4,2.3,3.7],\"yaxis\":\"y10\",\"type\":\"bar\"},{\"alignmentgroup\":\"True\",\"error_y\":{\"array\":[0.0225199984768624,0.1649553578433335,0.0235183979734739,0.0433342670713665],\"arrayminus\":[0.0172478167426659,0.14967746714602,0.0182480928879934,0.0343471501989582]},\"hovertemplate\":\"<b>Quintiles de ingreso</b>=II<br>anio=1996<br>thogar=%{x}<br>Hogares(%)=%{text}<extra></extra>\",\"legendgroup\":\"II\",\"marker\":{\"color\":\"#ab63fa\",\"pattern\":{\"shape\":\"\"}},\"name\":\"II\",\"offsetgroup\":\"II\",\"orientation\":\"v\",\"showlegend\":false,\"text\":[2.0,15.7,2.1,3.9],\"textposition\":\"auto\",\"x\":[\"nuclear monoparental\",\"nuclear biparental\",\"extenso monoparental\",\"extenso biparental\"],\"xaxis\":\"x9\",\"y\":[2.0,15.7,2.1,3.9],\"yaxis\":\"y9\",\"type\":\"bar\"},{\"alignmentgroup\":\"True\",\"error_y\":{\"array\":[0.0246383486375421,0.1638926248484779,0.0259494473183291,0.0408967196843101],\"arrayminus\":[0.0198557720453593,0.1517668772332859,0.021185204149921,0.0350097989116494]},\"hovertemplate\":\"<b>Quintiles de ingreso</b>=II<br>anio=1998<br>thogar=%{x}<br>Hogares(%)=%{text}<extra></extra>\",\"legendgroup\":\"II\",\"marker\":{\"color\":\"#ab63fa\",\"pattern\":{\"shape\":\"\"}},\"name\":\"II\",\"offsetgroup\":\"II\",\"orientation\":\"v\",\"showlegend\":false,\"text\":[2.2,15.8,2.3,3.8],\"textposition\":\"auto\",\"x\":[\"nuclear monoparental\",\"nuclear biparental\",\"extenso monoparental\",\"extenso biparental\"],\"xaxis\":\"x8\",\"y\":[2.2,15.8,2.3,3.8],\"yaxis\":\"y8\",\"type\":\"bar\"},{\"alignmentgroup\":\"True\",\"error_y\":{\"array\":[0.022382827776468,0.1597284807168805,0.0305823046197353,0.044302679588962],\"arrayminus\":[0.0180541931543841,0.1471445343009289,0.0251833524907999,0.0383559415498331]},\"hovertemplate\":\"<b>Quintiles de ingreso</b>=II<br>anio=2000<br>thogar=%{x}<br>Hogares(%)=%{text}<extra></extra>\",\"legendgroup\":\"II\",\"marker\":{\"color\":\"#ab63fa\",\"pattern\":{\"shape\":\"\"}},\"name\":\"II\",\"offsetgroup\":\"II\",\"orientation\":\"v\",\"showlegend\":false,\"text\":[2.0,15.3,2.8,4.1],\"textposition\":\"auto\",\"x\":[\"nuclear monoparental\",\"nuclear biparental\",\"extenso monoparental\",\"extenso biparental\"],\"xaxis\":\"x7\",\"y\":[2.0,15.3,2.8,4.1],\"yaxis\":\"y7\",\"type\":\"bar\"},{\"alignmentgroup\":\"True\",\"error_y\":{\"array\":[0.028273142415445,0.1583348832002793,0.0274675431116056,0.0457134891168417],\"arrayminus\":[0.0232189016446855,0.1453051057353694,0.0224403871747157,0.0388552011858732]},\"hovertemplate\":\"<b>Quintiles de ingreso</b>=II<br>anio=2003<br>thogar=%{x}<br>Hogares(%)=%{text}<extra></extra>\",\"legendgroup\":\"II\",\"marker\":{\"color\":\"#ab63fa\",\"pattern\":{\"shape\":\"\"}},\"name\":\"II\",\"offsetgroup\":\"II\",\"orientation\":\"v\",\"showlegend\":false,\"text\":[2.6,15.2,2.5,4.2],\"textposition\":\"auto\",\"x\":[\"nuclear monoparental\",\"nuclear biparental\",\"extenso monoparental\",\"extenso biparental\"],\"xaxis\":\"x6\",\"y\":[2.6,15.2,2.5,4.2],\"yaxis\":\"y6\",\"type\":\"bar\"},{\"alignmentgroup\":\"True\",\"error_y\":{\"array\":[0.0430868285219276,0.1400176282593766,0.0318143414752052,0.042910867467588],\"arrayminus\":[0.0366430347237329,0.1287472205016664,0.0263609893467278,0.0369317585730012]},\"hovertemplate\":\"<b>Quintiles de ingreso</b>=II<br>anio=2009<br>thogar=%{x}<br>Hogares(%)=%{text}<extra></extra>\",\"legendgroup\":\"II\",\"marker\":{\"color\":\"#ab63fa\",\"pattern\":{\"shape\":\"\"}},\"name\":\"II\",\"offsetgroup\":\"II\",\"orientation\":\"v\",\"showlegend\":false,\"text\":[4.0,13.4,2.9,4.0],\"textposition\":\"auto\",\"x\":[\"nuclear monoparental\",\"nuclear biparental\",\"extenso monoparental\",\"extenso biparental\"],\"xaxis\":\"x5\",\"y\":[4.0,13.4,2.9,4.0],\"yaxis\":\"y5\",\"type\":\"bar\"},{\"alignmentgroup\":\"True\",\"error_y\":{\"array\":[0.0541718789009605,0.1358018626787167,0.0346595136831108,0.0508328289279155],\"arrayminus\":[0.046410563266907,0.11918866629454,0.0288158977201191,0.0416754764379284]},\"hovertemplate\":\"<b>Quintiles de ingreso</b>=II<br>anio=2013<br>thogar=%{x}<br>Hogares(%)=%{text}<extra></extra>\",\"legendgroup\":\"II\",\"marker\":{\"color\":\"#ab63fa\",\"pattern\":{\"shape\":\"\"}},\"name\":\"II\",\"offsetgroup\":\"II\",\"orientation\":\"v\",\"showlegend\":false,\"text\":[5.0,12.7,3.2,4.6],\"textposition\":\"auto\",\"x\":[\"nuclear monoparental\",\"nuclear biparental\",\"extenso monoparental\",\"extenso biparental\"],\"xaxis\":\"x4\",\"y\":[5.0,12.7,3.2,4.6],\"yaxis\":\"y4\",\"type\":\"bar\"},{\"alignmentgroup\":\"True\",\"error_y\":{\"array\":[0.0520472065128872,0.1272319693550283,0.0380875033746223,0.0508569182368858],\"arrayminus\":[0.0455152555110643,0.117411709099526,0.0326763102803783,0.0450232442688201]},\"hovertemplate\":\"<b>Quintiles de ingreso</b>=II<br>anio=2015<br>thogar=%{x}<br>Hogares(%)=%{text}<extra></extra>\",\"legendgroup\":\"II\",\"marker\":{\"color\":\"#ab63fa\",\"pattern\":{\"shape\":\"\"}},\"name\":\"II\",\"offsetgroup\":\"II\",\"orientation\":\"v\",\"showlegend\":false,\"text\":[4.9,12.2,3.5,4.8],\"textposition\":\"auto\",\"x\":[\"nuclear monoparental\",\"nuclear biparental\",\"extenso monoparental\",\"extenso biparental\"],\"xaxis\":\"x3\",\"y\":[4.9,12.2,3.5,4.8],\"yaxis\":\"y3\",\"type\":\"bar\"},{\"alignmentgroup\":\"True\",\"error_y\":{\"array\":[0.0598366613021309,0.1306561760461471,0.0375760251091134,0.0509252814033731],\"arrayminus\":[0.0520293923759266,0.1200073844967829,0.032331432558537,0.0446315511745496]},\"hovertemplate\":\"<b>Quintiles de ingreso</b>=II<br>anio=2017<br>thogar=%{x}<br>Hogares(%)=%{text}<extra></extra>\",\"legendgroup\":\"II\",\"marker\":{\"color\":\"#ab63fa\",\"pattern\":{\"shape\":\"\"}},\"name\":\"II\",\"offsetgroup\":\"II\",\"orientation\":\"v\",\"showlegend\":false,\"text\":[5.6,12.5,3.5,4.8],\"textposition\":\"auto\",\"x\":[\"nuclear monoparental\",\"nuclear biparental\",\"extenso monoparental\",\"extenso biparental\"],\"xaxis\":\"x2\",\"y\":[5.6,12.5,3.5,4.8],\"yaxis\":\"y2\",\"type\":\"bar\"},{\"alignmentgroup\":\"True\",\"error_y\":{\"array\":[0.0753944595090662,0.1148468750064488,0.048081022730799,0.0414730459234838],\"arrayminus\":[0.0647771195754995,0.1033301796407641,0.0408822200727033,0.0357562613127573]},\"hovertemplate\":\"<b>Quintiles de ingreso</b>=II<br>anio=2020<br>thogar=%{x}<br>Hogares(%)=%{text}<extra></extra>\",\"legendgroup\":\"II\",\"marker\":{\"color\":\"#ab63fa\",\"pattern\":{\"shape\":\"\"}},\"name\":\"II\",\"offsetgroup\":\"II\",\"orientation\":\"v\",\"showlegend\":false,\"text\":[7.0,10.9,4.4,3.9],\"textposition\":\"auto\",\"x\":[\"nuclear monoparental\",\"nuclear biparental\",\"extenso monoparental\",\"extenso biparental\"],\"xaxis\":\"x\",\"y\":[7.0,10.9,4.4,3.9],\"yaxis\":\"y\",\"type\":\"bar\"},{\"alignmentgroup\":\"True\",\"error_y\":{\"array\":[0.0199371392185063,0.1403241840919201,0.0221247157863779,0.0363927771711751],\"arrayminus\":[0.0151703179299269,0.1275059311256085,0.0171578893238992,0.0298900868321045]},\"hovertemplate\":\"<b>Quintiles de ingreso</b>=III<br>anio=1990<br>thogar=%{x}<br>Hogares(%)=%{text}<extra></extra>\",\"legendgroup\":\"III\",\"marker\":{\"color\":\"#FFA15A\",\"pattern\":{\"shape\":\"\"}},\"name\":\"III\",\"offsetgroup\":\"III\",\"orientation\":\"v\",\"showlegend\":true,\"text\":[1.7,13.4,1.9,3.3],\"textposition\":\"auto\",\"x\":[\"nuclear monoparental\",\"nuclear biparental\",\"extenso monoparental\",\"extenso biparental\"],\"xaxis\":\"x12\",\"y\":[1.7,13.4,1.9,3.3],\"yaxis\":\"y12\",\"type\":\"bar\"},{\"alignmentgroup\":\"True\",\"error_y\":{\"array\":[0.0243804320914676,0.1393056987254025,0.0207661650027186,0.030997602725525],\"arrayminus\":[0.0194829721153649,0.127881534021838,0.0164116123736503,0.0256122695872294]},\"hovertemplate\":\"<b>Quintiles de ingreso</b>=III<br>anio=1992<br>thogar=%{x}<br>Hogares(%)=%{text}<extra></extra>\",\"legendgroup\":\"III\",\"marker\":{\"color\":\"#FFA15A\",\"pattern\":{\"shape\":\"\"}},\"name\":\"III\",\"offsetgroup\":\"III\",\"orientation\":\"v\",\"showlegend\":false,\"text\":[2.2,13.3,1.8,2.8],\"textposition\":\"auto\",\"x\":[\"nuclear monoparental\",\"nuclear biparental\",\"extenso monoparental\",\"extenso biparental\"],\"xaxis\":\"x11\",\"y\":[2.2,13.3,1.8,2.8],\"yaxis\":\"y11\",\"type\":\"bar\"},{\"alignmentgroup\":\"True\",\"error_y\":{\"array\":[0.0196272620677938,0.1336351834567608,0.0184266704988808,0.0357456607111276],\"arrayminus\":[0.0153724251720894,0.1224822747475601,0.0140465583235472,0.0296706868421396]},\"hovertemplate\":\"<b>Quintiles de ingreso</b>=III<br>anio=1994<br>thogar=%{x}<br>Hogares(%)=%{text}<extra></extra>\",\"legendgroup\":\"III\",\"marker\":{\"color\":\"#FFA15A\",\"pattern\":{\"shape\":\"\"}},\"name\":\"III\",\"offsetgroup\":\"III\",\"orientation\":\"v\",\"showlegend\":false,\"text\":[1.7,12.8,1.6,3.3],\"textposition\":\"auto\",\"x\":[\"nuclear monoparental\",\"nuclear biparental\",\"extenso monoparental\",\"extenso biparental\"],\"xaxis\":\"x10\",\"y\":[1.7,12.8,1.6,3.3],\"yaxis\":\"y10\",\"type\":\"bar\"},{\"alignmentgroup\":\"True\",\"error_y\":{\"array\":[0.0193143423447682,0.1415327167260809,0.0187212069454786,0.0345813609532554],\"arrayminus\":[0.0132806930990405,0.1257476428668952,0.0139389429812337,0.0275154377300443]},\"hovertemplate\":\"<b>Quintiles de ingreso</b>=III<br>anio=1996<br>thogar=%{x}<br>Hogares(%)=%{text}<extra></extra>\",\"legendgroup\":\"III\",\"marker\":{\"color\":\"#FFA15A\",\"pattern\":{\"shape\":\"\"}},\"name\":\"III\",\"offsetgroup\":\"III\",\"orientation\":\"v\",\"showlegend\":false,\"text\":[1.6,13.3,1.6,3.1],\"textposition\":\"auto\",\"x\":[\"nuclear monoparental\",\"nuclear biparental\",\"extenso monoparental\",\"extenso biparental\"],\"xaxis\":\"x9\",\"y\":[1.6,13.3,1.6,3.1],\"yaxis\":\"y9\",\"type\":\"bar\"},{\"alignmentgroup\":\"True\",\"error_y\":{\"array\":[0.0197797246081265,0.1332777068525314,0.0241814256716167,0.0336291481345443],\"arrayminus\":[0.0154865774153864,0.1217727259137632,0.0191943136373112,0.0282189402546505]},\"hovertemplate\":\"<b>Quintiles de ingreso</b>=III<br>anio=1998<br>thogar=%{x}<br>Hogares(%)=%{text}<extra></extra>\",\"legendgroup\":\"III\",\"marker\":{\"color\":\"#FFA15A\",\"pattern\":{\"shape\":\"\"}},\"name\":\"III\",\"offsetgroup\":\"III\",\"orientation\":\"v\",\"showlegend\":false,\"text\":[1.8,12.7,2.2,3.1],\"textposition\":\"auto\",\"x\":[\"nuclear monoparental\",\"nuclear biparental\",\"extenso monoparental\",\"extenso biparental\"],\"xaxis\":\"x8\",\"y\":[1.8,12.7,2.2,3.1],\"yaxis\":\"y8\",\"type\":\"bar\"},{\"alignmentgroup\":\"True\",\"error_y\":{\"array\":[0.0182214225579619,0.1403554050646979,0.0247276964880122,0.0347885299229091],\"arrayminus\":[0.0139736407825696,0.1201830122979838,0.0174629224217997,0.0292259832437273]},\"hovertemplate\":\"<b>Quintiles de ingreso</b>=III<br>anio=2000<br>thogar=%{x}<br>Hogares(%)=%{text}<extra></extra>\",\"legendgroup\":\"III\",\"marker\":{\"color\":\"#FFA15A\",\"pattern\":{\"shape\":\"\"}},\"name\":\"III\",\"offsetgroup\":\"III\",\"orientation\":\"v\",\"showlegend\":false,\"text\":[1.6,13.0,2.1,3.2],\"textposition\":\"auto\",\"x\":[\"nuclear monoparental\",\"nuclear biparental\",\"extenso monoparental\",\"extenso biparental\"],\"xaxis\":\"x7\",\"y\":[1.6,13.0,2.1,3.2],\"yaxis\":\"y7\",\"type\":\"bar\"},{\"alignmentgroup\":\"True\",\"error_y\":{\"array\":[0.0204789447989795,0.1329625702869617,0.0211069357910719,0.0403443188578053],\"arrayminus\":[0.0156131590519992,0.1211701768066498,0.0168407060990314,0.0343985474483816]},\"hovertemplate\":\"<b>Quintiles de ingreso</b>=III<br>anio=2003<br>thogar=%{x}<br>Hogares(%)=%{text}<extra></extra>\",\"legendgroup\":\"III\",\"marker\":{\"color\":\"#FFA15A\",\"pattern\":{\"shape\":\"\"}},\"name\":\"III\",\"offsetgroup\":\"III\",\"orientation\":\"v\",\"showlegend\":false,\"text\":[1.8,12.7,1.9,3.7],\"textposition\":\"auto\",\"x\":[\"nuclear monoparental\",\"nuclear biparental\",\"extenso monoparental\",\"extenso biparental\"],\"xaxis\":\"x6\",\"y\":[1.8,12.7,1.9,3.7],\"yaxis\":\"y6\",\"type\":\"bar\"},{\"alignmentgroup\":\"True\",\"error_y\":{\"array\":[0.0330937117883781,0.1307616700881974,0.025210373688388,0.0382322544347941],\"arrayminus\":[0.0274885462213091,0.1194995650938778,0.0202873789977257,0.032542724991744]},\"hovertemplate\":\"<b>Quintiles de ingreso</b>=III<br>anio=2009<br>thogar=%{x}<br>Hogares(%)=%{text}<extra></extra>\",\"legendgroup\":\"III\",\"marker\":{\"color\":\"#FFA15A\",\"pattern\":{\"shape\":\"\"}},\"name\":\"III\",\"offsetgroup\":\"III\",\"orientation\":\"v\",\"showlegend\":false,\"text\":[3.0,12.5,2.3,3.5],\"textposition\":\"auto\",\"x\":[\"nuclear monoparental\",\"nuclear biparental\",\"extenso monoparental\",\"extenso biparental\"],\"xaxis\":\"x5\",\"y\":[3.0,12.5,2.3,3.5],\"yaxis\":\"y5\",\"type\":\"bar\"},{\"alignmentgroup\":\"True\",\"error_y\":{\"array\":[0.0434012788101545,0.1144521867204538,0.0310003990145259,0.046432289239039],\"arrayminus\":[0.0320188726137112,0.1022893667381392,0.0219314615925244,0.0384003213059814]},\"hovertemplate\":\"<b>Quintiles de ingreso</b>=III<br>anio=2013<br>thogar=%{x}<br>Hogares(%)=%{text}<extra></extra>\",\"legendgroup\":\"III\",\"marker\":{\"color\":\"#FFA15A\",\"pattern\":{\"shape\":\"\"}},\"name\":\"III\",\"offsetgroup\":\"III\",\"orientation\":\"v\",\"showlegend\":false,\"text\":[3.7,10.8,2.6,4.2],\"textposition\":\"auto\",\"x\":[\"nuclear monoparental\",\"nuclear biparental\",\"extenso monoparental\",\"extenso biparental\"],\"xaxis\":\"x4\",\"y\":[3.7,10.8,2.6,4.2],\"yaxis\":\"y4\",\"type\":\"bar\"},{\"alignmentgroup\":\"True\",\"error_y\":{\"array\":[0.0385400478727892,0.1161484891262718,0.0300068413585507,0.0449067404700995],\"arrayminus\":[0.0325138666846943,0.1044077335479652,0.025003701020068,0.0392136882251607]},\"hovertemplate\":\"<b>Quintiles de ingreso</b>=III<br>anio=2015<br>thogar=%{x}<br>Hogares(%)=%{text}<extra></extra>\",\"legendgroup\":\"III\",\"marker\":{\"color\":\"#FFA15A\",\"pattern\":{\"shape\":\"\"}},\"name\":\"III\",\"offsetgroup\":\"III\",\"orientation\":\"v\",\"showlegend\":false,\"text\":[3.5,11.0,2.7,4.2],\"textposition\":\"auto\",\"x\":[\"nuclear monoparental\",\"nuclear biparental\",\"extenso monoparental\",\"extenso biparental\"],\"xaxis\":\"x3\",\"y\":[3.5,11.0,2.7,4.2],\"yaxis\":\"y3\",\"type\":\"bar\"},{\"alignmentgroup\":\"True\",\"error_y\":{\"array\":[0.0434433671766935,0.1162964282252685,0.0312894478803397,0.0411764283047597],\"arrayminus\":[0.0340210090324172,0.1043861896551801,0.0254551679839173,0.0351359918259897]},\"hovertemplate\":\"<b>Quintiles de ingreso</b>=III<br>anio=2017<br>thogar=%{x}<br>Hogares(%)=%{text}<extra></extra>\",\"legendgroup\":\"III\",\"marker\":{\"color\":\"#FFA15A\",\"pattern\":{\"shape\":\"\"}},\"name\":\"III\",\"offsetgroup\":\"III\",\"orientation\":\"v\",\"showlegend\":false,\"text\":[3.8,11.0,2.8,3.8],\"textposition\":\"auto\",\"x\":[\"nuclear monoparental\",\"nuclear biparental\",\"extenso monoparental\",\"extenso biparental\"],\"xaxis\":\"x2\",\"y\":[3.8,11.0,2.8,3.8],\"yaxis\":\"y2\",\"type\":\"bar\"},{\"alignmentgroup\":\"True\",\"error_y\":{\"array\":[0.053527936337387,0.1339530840144135,0.033035865317482,0.0366600962220746],\"arrayminus\":[0.0454800031565272,0.0848760076024105,0.026995512004736,0.0306003915092268]},\"hovertemplate\":\"<b>Quintiles de ingreso</b>=III<br>anio=2020<br>thogar=%{x}<br>Hogares(%)=%{text}<extra></extra>\",\"legendgroup\":\"III\",\"marker\":{\"color\":\"#FFA15A\",\"pattern\":{\"shape\":\"\"}},\"name\":\"III\",\"offsetgroup\":\"III\",\"orientation\":\"v\",\"showlegend\":false,\"text\":[4.9,10.7,3.0,3.3],\"textposition\":\"auto\",\"x\":[\"nuclear monoparental\",\"nuclear biparental\",\"extenso monoparental\",\"extenso biparental\"],\"xaxis\":\"x\",\"y\":[4.9,10.7,3.0,3.3],\"yaxis\":\"y\",\"type\":\"bar\"},{\"alignmentgroup\":\"True\",\"error_y\":{\"array\":[0.0136850746321723,0.1127680708951065,0.0182918423599015,0.0248643996933161],\"arrayminus\":[0.0096880635799017,0.1011872609661028,0.0131604681986154,0.01939024248272]},\"hovertemplate\":\"<b>Quintiles de ingreso</b>=IV<br>anio=1990<br>thogar=%{x}<br>Hogares(%)=%{text}<extra></extra>\",\"legendgroup\":\"IV\",\"marker\":{\"color\":\"#19d3f3\",\"pattern\":{\"shape\":\"\"}},\"name\":\"IV\",\"offsetgroup\":\"IV\",\"orientation\":\"v\",\"showlegend\":true,\"text\":[1.2,10.7,1.6,2.2],\"textposition\":\"auto\",\"x\":[\"nuclear monoparental\",\"nuclear biparental\",\"extenso monoparental\",\"extenso biparental\"],\"xaxis\":\"x12\",\"y\":[1.2,10.7,1.6,2.2],\"yaxis\":\"y12\",\"type\":\"bar\"},{\"alignmentgroup\":\"True\",\"error_y\":{\"array\":[0.0168509338439787,0.1157755327911665,0.014137535113573,0.0247424430267166],\"arrayminus\":[0.0127331778283691,0.1047287433295681,0.0102254760954965,0.0197014002545033]},\"hovertemplate\":\"<b>Quintiles de ingreso</b>=IV<br>anio=1992<br>thogar=%{x}<br>Hogares(%)=%{text}<extra></extra>\",\"legendgroup\":\"IV\",\"marker\":{\"color\":\"#19d3f3\",\"pattern\":{\"shape\":\"\"}},\"name\":\"IV\",\"offsetgroup\":\"IV\",\"orientation\":\"v\",\"showlegend\":false,\"text\":[1.5,11.0,1.2,2.2],\"textposition\":\"auto\",\"x\":[\"nuclear monoparental\",\"nuclear biparental\",\"extenso monoparental\",\"extenso biparental\"],\"xaxis\":\"x11\",\"y\":[1.5,11.0,1.2,2.2],\"yaxis\":\"y11\",\"type\":\"bar\"},{\"alignmentgroup\":\"True\",\"error_y\":{\"array\":[0.0164766761556761,0.1202433902799029,0.0145190609022566,0.0273452465320244],\"arrayminus\":[0.0121997825701088,0.1088199725332416,0.0106257519289002,0.0219021368936365]},\"hovertemplate\":\"<b>Quintiles de ingreso</b>=IV<br>anio=1994<br>thogar=%{x}<br>Hogares(%)=%{text}<extra></extra>\",\"legendgroup\":\"IV\",\"marker\":{\"color\":\"#19d3f3\",\"pattern\":{\"shape\":\"\"}},\"name\":\"IV\",\"offsetgroup\":\"IV\",\"orientation\":\"v\",\"showlegend\":false,\"text\":[1.4,11.4,1.2,2.4],\"textposition\":\"auto\",\"x\":[\"nuclear monoparental\",\"nuclear biparental\",\"extenso monoparental\",\"extenso biparental\"],\"xaxis\":\"x10\",\"y\":[1.4,11.4,1.2,2.4],\"yaxis\":\"y10\",\"type\":\"bar\"},{\"alignmentgroup\":\"True\",\"error_y\":{\"array\":[0.0129620457977688,0.1327696796041205,0.0142188865649209,0.0302796551463178],\"arrayminus\":[0.0088222915545937,0.1161730794208444,0.0100026546123426,0.0231819014740566]},\"hovertemplate\":\"<b>Quintiles de ingreso</b>=IV<br>anio=1996<br>thogar=%{x}<br>Hogares(%)=%{text}<extra></extra>\",\"legendgroup\":\"IV\",\"marker\":{\"color\":\"#19d3f3\",\"pattern\":{\"shape\":\"\"}},\"name\":\"IV\",\"offsetgroup\":\"IV\",\"orientation\":\"v\",\"showlegend\":false,\"text\":[1.1,12.4,1.2,2.7],\"textposition\":\"auto\",\"x\":[\"nuclear monoparental\",\"nuclear biparental\",\"extenso monoparental\",\"extenso biparental\"],\"xaxis\":\"x9\",\"y\":[1.1,12.4,1.2,2.7],\"yaxis\":\"y9\",\"type\":\"bar\"},{\"alignmentgroup\":\"True\",\"error_y\":{\"array\":[0.0186474919963414,0.1239727055403252,0.0142601820171048,0.0305815034443055],\"arrayminus\":[0.01340673724154,0.1123494424441356,0.0105689298484218,0.0245863740920831]},\"hovertemplate\":\"<b>Quintiles de ingreso</b>=IV<br>anio=1998<br>thogar=%{x}<br>Hogares(%)=%{text}<extra></extra>\",\"legendgroup\":\"IV\",\"marker\":{\"color\":\"#19d3f3\",\"pattern\":{\"shape\":\"\"}},\"name\":\"IV\",\"offsetgroup\":\"IV\",\"orientation\":\"v\",\"showlegend\":false,\"text\":[1.6,11.8,1.2,2.7],\"textposition\":\"auto\",\"x\":[\"nuclear monoparental\",\"nuclear biparental\",\"extenso monoparental\",\"extenso biparental\"],\"xaxis\":\"x8\",\"y\":[1.6,11.8,1.2,2.7],\"yaxis\":\"y8\",\"type\":\"bar\"},{\"alignmentgroup\":\"True\",\"error_y\":{\"array\":[0.0160803801371612,0.1164190263793158,0.0159212748783039,0.0281375312406183],\"arrayminus\":[0.0117371483307034,0.1016145933643167,0.0118972495097442,0.0228181637820288]},\"hovertemplate\":\"<b>Quintiles de ingreso</b>=IV<br>anio=2000<br>thogar=%{x}<br>Hogares(%)=%{text}<extra></extra>\",\"legendgroup\":\"IV\",\"marker\":{\"color\":\"#19d3f3\",\"pattern\":{\"shape\":\"\"}},\"name\":\"IV\",\"offsetgroup\":\"IV\",\"orientation\":\"v\",\"showlegend\":false,\"text\":[1.4,10.9,1.4,2.5],\"textposition\":\"auto\",\"x\":[\"nuclear monoparental\",\"nuclear biparental\",\"extenso monoparental\",\"extenso biparental\"],\"xaxis\":\"x7\",\"y\":[1.4,10.9,1.4,2.5],\"yaxis\":\"y7\",\"type\":\"bar\"},{\"alignmentgroup\":\"True\",\"error_y\":{\"array\":[0.0207506968457762,0.1167592312797007,0.0144801838965653,0.0326617532339455],\"arrayminus\":[0.0154263119356522,0.1030227566783086,0.0106556776339448,0.0264368062977792]},\"hovertemplate\":\"<b>Quintiles de ingreso</b>=IV<br>anio=2003<br>thogar=%{x}<br>Hogares(%)=%{text}<extra></extra>\",\"legendgroup\":\"IV\",\"marker\":{\"color\":\"#19d3f3\",\"pattern\":{\"shape\":\"\"}},\"name\":\"IV\",\"offsetgroup\":\"IV\",\"orientation\":\"v\",\"showlegend\":false,\"text\":[1.8,11.0,1.2,2.9],\"textposition\":\"auto\",\"x\":[\"nuclear monoparental\",\"nuclear biparental\",\"extenso monoparental\",\"extenso biparental\"],\"xaxis\":\"x6\",\"y\":[1.8,11.0,1.2,2.9],\"yaxis\":\"y6\",\"type\":\"bar\"},{\"alignmentgroup\":\"True\",\"error_y\":{\"array\":[0.0240748404336404,0.1165955032906154,0.0172733797064601,0.0330781862686038],\"arrayminus\":[0.0186303860516249,0.1048942227536438,0.0130674927889841,0.0264480562374275]},\"hovertemplate\":\"<b>Quintiles de ingreso</b>=IV<br>anio=2009<br>thogar=%{x}<br>Hogares(%)=%{text}<extra></extra>\",\"legendgroup\":\"IV\",\"marker\":{\"color\":\"#19d3f3\",\"pattern\":{\"shape\":\"\"}},\"name\":\"IV\",\"offsetgroup\":\"IV\",\"orientation\":\"v\",\"showlegend\":false,\"text\":[2.1,11.1,1.5,3.0],\"textposition\":\"auto\",\"x\":[\"nuclear monoparental\",\"nuclear biparental\",\"extenso monoparental\",\"extenso biparental\"],\"xaxis\":\"x5\",\"y\":[2.1,11.1,1.5,3.0],\"yaxis\":\"y5\",\"type\":\"bar\"},{\"alignmentgroup\":\"True\",\"error_y\":{\"array\":[0.0250411082029246,0.1028032780001614,0.0187078466721224,0.0301443211452473],\"arrayminus\":[0.0176442505494736,0.089632889579772,0.0132364490421122,0.0242651581091033]},\"hovertemplate\":\"<b>Quintiles de ingreso</b>=IV<br>anio=2013<br>thogar=%{x}<br>Hogares(%)=%{text}<extra></extra>\",\"legendgroup\":\"IV\",\"marker\":{\"color\":\"#19d3f3\",\"pattern\":{\"shape\":\"\"}},\"name\":\"IV\",\"offsetgroup\":\"IV\",\"orientation\":\"v\",\"showlegend\":false,\"text\":[2.1,9.6,1.6,2.7],\"textposition\":\"auto\",\"x\":[\"nuclear monoparental\",\"nuclear biparental\",\"extenso monoparental\",\"extenso biparental\"],\"xaxis\":\"x4\",\"y\":[2.1,9.6,1.6,2.7],\"yaxis\":\"y4\",\"type\":\"bar\"},{\"alignmentgroup\":\"True\",\"error_y\":{\"array\":[0.0252188675732221,0.0985156104203598,0.0172219686543754,0.0321230440664495],\"arrayminus\":[0.0205268043559948,0.0883341424220013,0.0135098589007634,0.0269030488734167]},\"hovertemplate\":\"<b>Quintiles de ingreso</b>=IV<br>anio=2015<br>thogar=%{x}<br>Hogares(%)=%{text}<extra></extra>\",\"legendgroup\":\"IV\",\"marker\":{\"color\":\"#19d3f3\",\"pattern\":{\"shape\":\"\"}},\"name\":\"IV\",\"offsetgroup\":\"IV\",\"orientation\":\"v\",\"showlegend\":false,\"text\":[2.3,9.3,1.5,2.9],\"textposition\":\"auto\",\"x\":[\"nuclear monoparental\",\"nuclear biparental\",\"extenso monoparental\",\"extenso biparental\"],\"xaxis\":\"x3\",\"y\":[2.3,9.3,1.5,2.9],\"yaxis\":\"y3\",\"type\":\"bar\"},{\"alignmentgroup\":\"True\",\"error_y\":{\"array\":[0.030332567375856,0.0968485260602809,0.0187814335957613,0.0282820929367085],\"arrayminus\":[0.0199829131728849,0.0862971896585161,0.014143234726366,0.0226840522475423]},\"hovertemplate\":\"<b>Quintiles de ingreso</b>=IV<br>anio=2017<br>thogar=%{x}<br>Hogares(%)=%{text}<extra></extra>\",\"legendgroup\":\"IV\",\"marker\":{\"color\":\"#19d3f3\",\"pattern\":{\"shape\":\"\"}},\"name\":\"IV\",\"offsetgroup\":\"IV\",\"orientation\":\"v\",\"showlegend\":false,\"text\":[2.5,9.1,1.6,2.5],\"textposition\":\"auto\",\"x\":[\"nuclear monoparental\",\"nuclear biparental\",\"extenso monoparental\",\"extenso biparental\"],\"xaxis\":\"x2\",\"y\":[2.5,9.1,1.6,2.5],\"yaxis\":\"y2\",\"type\":\"bar\"},{\"alignmentgroup\":\"True\",\"error_y\":{\"array\":[0.0393814620424238,0.0944106594231896,0.0200549293349248,0.024344314025268],\"arrayminus\":[0.0285149975876343,0.0831177527459464,0.0156300436542258,0.0196645323191856]},\"hovertemplate\":\"<b>Quintiles de ingreso</b>=IV<br>anio=2020<br>thogar=%{x}<br>Hogares(%)=%{text}<extra></extra>\",\"legendgroup\":\"IV\",\"marker\":{\"color\":\"#19d3f3\",\"pattern\":{\"shape\":\"\"}},\"name\":\"IV\",\"offsetgroup\":\"IV\",\"orientation\":\"v\",\"showlegend\":false,\"text\":[3.4,8.9,1.8,2.2],\"textposition\":\"auto\",\"x\":[\"nuclear monoparental\",\"nuclear biparental\",\"extenso monoparental\",\"extenso biparental\"],\"xaxis\":\"x\",\"y\":[3.4,8.9,1.8,2.2],\"yaxis\":\"y\",\"type\":\"bar\"},{\"alignmentgroup\":\"True\",\"error_y\":{\"array\":[0.0124924002664283,0.1139533370688513,0.0079038141764595,0.0179583265924365],\"arrayminus\":[0.0084288228675781,0.1016874160670933,0.0048266327630375,0.0128428322802668]},\"hovertemplate\":\"<b>Quintiles de ingreso</b>=V<br>anio=1990<br>thogar=%{x}<br>Hogares(%)=%{text}<extra></extra>\",\"legendgroup\":\"V\",\"marker\":{\"color\":\"#FF6692\",\"pattern\":{\"shape\":\"\"}},\"name\":\"V\",\"offsetgroup\":\"V\",\"orientation\":\"v\",\"showlegend\":true,\"text\":[1.0,10.8,0.6,1.5],\"textposition\":\"auto\",\"x\":[\"nuclear monoparental\",\"nuclear biparental\",\"extenso monoparental\",\"extenso biparental\"],\"xaxis\":\"x12\",\"y\":[1.0,10.8,0.6,1.5],\"yaxis\":\"y12\",\"type\":\"bar\"},{\"alignmentgroup\":\"True\",\"error_y\":{\"array\":[0.0131920834487408,0.1127816407933351,0.0075261813938068,0.0125696084628022],\"arrayminus\":[0.0093708229740007,0.1018335953099108,0.0047978231865413,0.0090785685026764]},\"hovertemplate\":\"<b>Quintiles de ingreso</b>=V<br>anio=1992<br>thogar=%{x}<br>Hogares(%)=%{text}<extra></extra>\",\"legendgroup\":\"V\",\"marker\":{\"color\":\"#FF6692\",\"pattern\":{\"shape\":\"\"}},\"name\":\"V\",\"offsetgroup\":\"V\",\"orientation\":\"v\",\"showlegend\":false,\"text\":[1.1,10.7,0.6,1.1],\"textposition\":\"auto\",\"x\":[\"nuclear monoparental\",\"nuclear biparental\",\"extenso monoparental\",\"extenso biparental\"],\"xaxis\":\"x11\",\"y\":[1.1,10.7,0.6,1.1],\"yaxis\":\"y11\",\"type\":\"bar\"},{\"alignmentgroup\":\"True\",\"error_y\":{\"array\":[0.0146783166678223,0.1138283097568558,0.0088141813398243,0.0163876209988077],\"arrayminus\":[0.0103307807355183,0.1021806701601323,0.0055876495681891,0.0119201423692238]},\"hovertemplate\":\"<b>Quintiles de ingreso</b>=V<br>anio=1994<br>thogar=%{x}<br>Hogares(%)=%{text}<extra></extra>\",\"legendgroup\":\"V\",\"marker\":{\"color\":\"#FF6692\",\"pattern\":{\"shape\":\"\"}},\"name\":\"V\",\"offsetgroup\":\"V\",\"orientation\":\"v\",\"showlegend\":false,\"text\":[1.2,10.8,0.7,1.4],\"textposition\":\"auto\",\"x\":[\"nuclear monoparental\",\"nuclear biparental\",\"extenso monoparental\",\"extenso biparental\"],\"xaxis\":\"x10\",\"y\":[1.2,10.8,0.7,1.4],\"yaxis\":\"y10\",\"type\":\"bar\"},{\"alignmentgroup\":\"True\",\"error_y\":{\"array\":[0.0145794498491148,0.115543448110566,0.0073128866512493,0.0151461235530264],\"arrayminus\":[0.009115308980304,0.0991138044120194,0.0040492540460079,0.0102162872202649]},\"hovertemplate\":\"<b>Quintiles de ingreso</b>=V<br>anio=1996<br>thogar=%{x}<br>Hogares(%)=%{text}<extra></extra>\",\"legendgroup\":\"V\",\"marker\":{\"color\":\"#FF6692\",\"pattern\":{\"shape\":\"\"}},\"name\":\"V\",\"offsetgroup\":\"V\",\"orientation\":\"v\",\"showlegend\":false,\"text\":[1.2,10.7,0.5,1.2],\"textposition\":\"auto\",\"x\":[\"nuclear monoparental\",\"nuclear biparental\",\"extenso monoparental\",\"extenso biparental\"],\"xaxis\":\"x9\",\"y\":[1.2,10.7,0.5,1.2],\"yaxis\":\"y9\",\"type\":\"bar\"},{\"alignmentgroup\":\"True\",\"error_y\":{\"array\":[0.0160423690253301,0.1095547055015551,0.0067524534216132,0.0130666369842251],\"arrayminus\":[0.0108157295925699,0.0973519135227584,0.0040357791286716,0.0090576903280783]},\"hovertemplate\":\"<b>Quintiles de ingreso</b>=V<br>anio=1998<br>thogar=%{x}<br>Hogares(%)=%{text}<extra></extra>\",\"legendgroup\":\"V\",\"marker\":{\"color\":\"#FF6692\",\"pattern\":{\"shape\":\"\"}},\"name\":\"V\",\"offsetgroup\":\"V\",\"orientation\":\"v\",\"showlegend\":false,\"text\":[1.3,10.3,0.5,1.1],\"textposition\":\"auto\",\"x\":[\"nuclear monoparental\",\"nuclear biparental\",\"extenso monoparental\",\"extenso biparental\"],\"xaxis\":\"x8\",\"y\":[1.3,10.3,0.5,1.1],\"yaxis\":\"y8\",\"type\":\"bar\"},{\"alignmentgroup\":\"True\",\"error_y\":{\"array\":[0.0165224298307979,0.1093412390061175,0.0062528578020516,0.0131291642632393],\"arrayminus\":[0.0108160914508265,0.094562490463497,0.0037532103725272,0.0091956092187035]},\"hovertemplate\":\"<b>Quintiles de ingreso</b>=V<br>anio=2000<br>thogar=%{x}<br>Hogares(%)=%{text}<extra></extra>\",\"legendgroup\":\"V\",\"marker\":{\"color\":\"#FF6692\",\"pattern\":{\"shape\":\"\"}},\"name\":\"V\",\"offsetgroup\":\"V\",\"orientation\":\"v\",\"showlegend\":false,\"text\":[1.3,10.2,0.5,1.1],\"textposition\":\"auto\",\"x\":[\"nuclear monoparental\",\"nuclear biparental\",\"extenso monoparental\",\"extenso biparental\"],\"xaxis\":\"x7\",\"y\":[1.3,10.2,0.5,1.1],\"yaxis\":\"y7\",\"type\":\"bar\"},{\"alignmentgroup\":\"True\",\"error_y\":{\"array\":[0.0133839051699733,0.1072331934984388,0.0065094235962659,0.0138944128142979],\"arrayminus\":[0.009009053761906,0.0938567267438256,0.004070892267175,0.0097697231693424]},\"hovertemplate\":\"<b>Quintiles de ingreso</b>=V<br>anio=2003<br>thogar=%{x}<br>Hogares(%)=%{text}<extra></extra>\",\"legendgroup\":\"V\",\"marker\":{\"color\":\"#FF6692\",\"pattern\":{\"shape\":\"\"}},\"name\":\"V\",\"offsetgroup\":\"V\",\"orientation\":\"v\",\"showlegend\":false,\"text\":[1.1,10.0,0.5,1.2],\"textposition\":\"auto\",\"x\":[\"nuclear monoparental\",\"nuclear biparental\",\"extenso monoparental\",\"extenso biparental\"],\"xaxis\":\"x6\",\"y\":[1.1,10.0,0.5,1.2],\"yaxis\":\"y6\",\"type\":\"bar\"},{\"alignmentgroup\":\"True\",\"error_y\":{\"array\":[0.0189096652213436,0.1009304407714186,0.0085696741361388,0.0158534970570128],\"arrayminus\":[0.012244719066436,0.0877004962516295,0.0049929458875331,0.0103324140743623]},\"hovertemplate\":\"<b>Quintiles de ingreso</b>=V<br>anio=2009<br>thogar=%{x}<br>Hogares(%)=%{text}<extra></extra>\",\"legendgroup\":\"V\",\"marker\":{\"color\":\"#FF6692\",\"pattern\":{\"shape\":\"\"}},\"name\":\"V\",\"offsetgroup\":\"V\",\"orientation\":\"v\",\"showlegend\":false,\"text\":[1.5,9.4,0.7,1.3],\"textposition\":\"auto\",\"x\":[\"nuclear monoparental\",\"nuclear biparental\",\"extenso monoparental\",\"extenso biparental\"],\"xaxis\":\"x5\",\"y\":[1.5,9.4,0.7,1.3],\"yaxis\":\"y5\",\"type\":\"bar\"},{\"alignmentgroup\":\"True\",\"error_y\":{\"array\":[0.0175475923088253,0.093272502835943,0.0053667226947731,0.0147782433765214],\"arrayminus\":[0.0116878846082014,0.0771674677646898,0.0033094641001181,0.0104121580134277]},\"hovertemplate\":\"<b>Quintiles de ingreso</b>=V<br>anio=2013<br>thogar=%{x}<br>Hogares(%)=%{text}<extra></extra>\",\"legendgroup\":\"V\",\"marker\":{\"color\":\"#FF6692\",\"pattern\":{\"shape\":\"\"}},\"name\":\"V\",\"offsetgroup\":\"V\",\"orientation\":\"v\",\"showlegend\":false,\"text\":[1.4,8.5,0.4,1.2],\"textposition\":\"auto\",\"x\":[\"nuclear monoparental\",\"nuclear biparental\",\"extenso monoparental\",\"extenso biparental\"],\"xaxis\":\"x4\",\"y\":[1.4,8.5,0.4,1.2],\"yaxis\":\"y4\",\"type\":\"bar\"},{\"alignmentgroup\":\"True\",\"error_y\":{\"array\":[0.0148443076779379,0.0899322801545623,0.0090795534491846,0.0155000158445551],\"arrayminus\":[0.0111850780460538,0.0769358037777224,0.0062296099224068,0.0118233617707367]},\"hovertemplate\":\"<b>Quintiles de ingreso</b>=V<br>anio=2015<br>thogar=%{x}<br>Hogares(%)=%{text}<extra></extra>\",\"legendgroup\":\"V\",\"marker\":{\"color\":\"#FF6692\",\"pattern\":{\"shape\":\"\"}},\"name\":\"V\",\"offsetgroup\":\"V\",\"orientation\":\"v\",\"showlegend\":false,\"text\":[1.3,8.3,0.8,1.4],\"textposition\":\"auto\",\"x\":[\"nuclear monoparental\",\"nuclear biparental\",\"extenso monoparental\",\"extenso biparental\"],\"xaxis\":\"x3\",\"y\":[1.3,8.3,0.8,1.4],\"yaxis\":\"y3\",\"type\":\"bar\"},{\"alignmentgroup\":\"True\",\"error_y\":{\"array\":[0.0162439541134823,0.0971682502446931,0.0069323362290578,0.012481516702413],\"arrayminus\":[0.0120632687995737,0.0811475162779578,0.0044246264732502,0.0091191011995891]},\"hovertemplate\":\"<b>Quintiles de ingreso</b>=V<br>anio=2017<br>thogar=%{x}<br>Hogares(%)=%{text}<extra></extra>\",\"legendgroup\":\"V\",\"marker\":{\"color\":\"#FF6692\",\"pattern\":{\"shape\":\"\"}},\"name\":\"V\",\"offsetgroup\":\"V\",\"orientation\":\"v\",\"showlegend\":false,\"text\":[1.4,8.9,0.6,1.1],\"textposition\":\"auto\",\"x\":[\"nuclear monoparental\",\"nuclear biparental\",\"extenso monoparental\",\"extenso biparental\"],\"xaxis\":\"x2\",\"y\":[1.4,8.9,0.6,1.1],\"yaxis\":\"y2\",\"type\":\"bar\"},{\"alignmentgroup\":\"True\",\"error_y\":{\"array\":[0.0201492256936189,0.1047647444887961,0.0084582486437652,0.0132204813066389],\"arrayminus\":[0.0152920386967036,0.0895658636637575,0.0054920447648592,0.0097376698930263]},\"hovertemplate\":\"<b>Quintiles de ingreso</b>=V<br>anio=2020<br>thogar=%{x}<br>Hogares(%)=%{text}<extra></extra>\",\"legendgroup\":\"V\",\"marker\":{\"color\":\"#FF6692\",\"pattern\":{\"shape\":\"\"}},\"name\":\"V\",\"offsetgroup\":\"V\",\"orientation\":\"v\",\"showlegend\":false,\"text\":[1.8,9.7,0.7,1.1],\"textposition\":\"auto\",\"x\":[\"nuclear monoparental\",\"nuclear biparental\",\"extenso monoparental\",\"extenso biparental\"],\"xaxis\":\"x\",\"y\":[1.8,9.7,0.7,1.1],\"yaxis\":\"y\",\"type\":\"bar\"}],                        {\"template\":{\"data\":{\"barpolar\":[{\"marker\":{\"line\":{\"color\":\"#E5ECF6\",\"width\":0.5},\"pattern\":{\"fillmode\":\"overlay\",\"size\":10,\"solidity\":0.2}},\"type\":\"barpolar\"}],\"bar\":[{\"error_x\":{\"color\":\"#2a3f5f\"},\"error_y\":{\"color\":\"#2a3f5f\"},\"marker\":{\"line\":{\"color\":\"#E5ECF6\",\"width\":0.5},\"pattern\":{\"fillmode\":\"overlay\",\"size\":10,\"solidity\":0.2}},\"type\":\"bar\"}],\"carpet\":[{\"aaxis\":{\"endlinecolor\":\"#2a3f5f\",\"gridcolor\":\"white\",\"linecolor\":\"white\",\"minorgridcolor\":\"white\",\"startlinecolor\":\"#2a3f5f\"},\"baxis\":{\"endlinecolor\":\"#2a3f5f\",\"gridcolor\":\"white\",\"linecolor\":\"white\",\"minorgridcolor\":\"white\",\"startlinecolor\":\"#2a3f5f\"},\"type\":\"carpet\"}],\"choropleth\":[{\"colorbar\":{\"outlinewidth\":0,\"ticks\":\"\"},\"type\":\"choropleth\"}],\"contourcarpet\":[{\"colorbar\":{\"outlinewidth\":0,\"ticks\":\"\"},\"type\":\"contourcarpet\"}],\"contour\":[{\"colorbar\":{\"outlinewidth\":0,\"ticks\":\"\"},\"colorscale\":[[0.0,\"#0d0887\"],[0.1111111111111111,\"#46039f\"],[0.2222222222222222,\"#7201a8\"],[0.3333333333333333,\"#9c179e\"],[0.4444444444444444,\"#bd3786\"],[0.5555555555555556,\"#d8576b\"],[0.6666666666666666,\"#ed7953\"],[0.7777777777777778,\"#fb9f3a\"],[0.8888888888888888,\"#fdca26\"],[1.0,\"#f0f921\"]],\"type\":\"contour\"}],\"heatmapgl\":[{\"colorbar\":{\"outlinewidth\":0,\"ticks\":\"\"},\"colorscale\":[[0.0,\"#0d0887\"],[0.1111111111111111,\"#46039f\"],[0.2222222222222222,\"#7201a8\"],[0.3333333333333333,\"#9c179e\"],[0.4444444444444444,\"#bd3786\"],[0.5555555555555556,\"#d8576b\"],[0.6666666666666666,\"#ed7953\"],[0.7777777777777778,\"#fb9f3a\"],[0.8888888888888888,\"#fdca26\"],[1.0,\"#f0f921\"]],\"type\":\"heatmapgl\"}],\"heatmap\":[{\"colorbar\":{\"outlinewidth\":0,\"ticks\":\"\"},\"colorscale\":[[0.0,\"#0d0887\"],[0.1111111111111111,\"#46039f\"],[0.2222222222222222,\"#7201a8\"],[0.3333333333333333,\"#9c179e\"],[0.4444444444444444,\"#bd3786\"],[0.5555555555555556,\"#d8576b\"],[0.6666666666666666,\"#ed7953\"],[0.7777777777777778,\"#fb9f3a\"],[0.8888888888888888,\"#fdca26\"],[1.0,\"#f0f921\"]],\"type\":\"heatmap\"}],\"histogram2dcontour\":[{\"colorbar\":{\"outlinewidth\":0,\"ticks\":\"\"},\"colorscale\":[[0.0,\"#0d0887\"],[0.1111111111111111,\"#46039f\"],[0.2222222222222222,\"#7201a8\"],[0.3333333333333333,\"#9c179e\"],[0.4444444444444444,\"#bd3786\"],[0.5555555555555556,\"#d8576b\"],[0.6666666666666666,\"#ed7953\"],[0.7777777777777778,\"#fb9f3a\"],[0.8888888888888888,\"#fdca26\"],[1.0,\"#f0f921\"]],\"type\":\"histogram2dcontour\"}],\"histogram2d\":[{\"colorbar\":{\"outlinewidth\":0,\"ticks\":\"\"},\"colorscale\":[[0.0,\"#0d0887\"],[0.1111111111111111,\"#46039f\"],[0.2222222222222222,\"#7201a8\"],[0.3333333333333333,\"#9c179e\"],[0.4444444444444444,\"#bd3786\"],[0.5555555555555556,\"#d8576b\"],[0.6666666666666666,\"#ed7953\"],[0.7777777777777778,\"#fb9f3a\"],[0.8888888888888888,\"#fdca26\"],[1.0,\"#f0f921\"]],\"type\":\"histogram2d\"}],\"histogram\":[{\"marker\":{\"pattern\":{\"fillmode\":\"overlay\",\"size\":10,\"solidity\":0.2}},\"type\":\"histogram\"}],\"mesh3d\":[{\"colorbar\":{\"outlinewidth\":0,\"ticks\":\"\"},\"type\":\"mesh3d\"}],\"parcoords\":[{\"line\":{\"colorbar\":{\"outlinewidth\":0,\"ticks\":\"\"}},\"type\":\"parcoords\"}],\"pie\":[{\"automargin\":true,\"type\":\"pie\"}],\"scatter3d\":[{\"line\":{\"colorbar\":{\"outlinewidth\":0,\"ticks\":\"\"}},\"marker\":{\"colorbar\":{\"outlinewidth\":0,\"ticks\":\"\"}},\"type\":\"scatter3d\"}],\"scattercarpet\":[{\"marker\":{\"colorbar\":{\"outlinewidth\":0,\"ticks\":\"\"}},\"type\":\"scattercarpet\"}],\"scattergeo\":[{\"marker\":{\"colorbar\":{\"outlinewidth\":0,\"ticks\":\"\"}},\"type\":\"scattergeo\"}],\"scattergl\":[{\"marker\":{\"colorbar\":{\"outlinewidth\":0,\"ticks\":\"\"}},\"type\":\"scattergl\"}],\"scattermapbox\":[{\"marker\":{\"colorbar\":{\"outlinewidth\":0,\"ticks\":\"\"}},\"type\":\"scattermapbox\"}],\"scatterpolargl\":[{\"marker\":{\"colorbar\":{\"outlinewidth\":0,\"ticks\":\"\"}},\"type\":\"scatterpolargl\"}],\"scatterpolar\":[{\"marker\":{\"colorbar\":{\"outlinewidth\":0,\"ticks\":\"\"}},\"type\":\"scatterpolar\"}],\"scatter\":[{\"marker\":{\"colorbar\":{\"outlinewidth\":0,\"ticks\":\"\"}},\"type\":\"scatter\"}],\"scatterternary\":[{\"marker\":{\"colorbar\":{\"outlinewidth\":0,\"ticks\":\"\"}},\"type\":\"scatterternary\"}],\"surface\":[{\"colorbar\":{\"outlinewidth\":0,\"ticks\":\"\"},\"colorscale\":[[0.0,\"#0d0887\"],[0.1111111111111111,\"#46039f\"],[0.2222222222222222,\"#7201a8\"],[0.3333333333333333,\"#9c179e\"],[0.4444444444444444,\"#bd3786\"],[0.5555555555555556,\"#d8576b\"],[0.6666666666666666,\"#ed7953\"],[0.7777777777777778,\"#fb9f3a\"],[0.8888888888888888,\"#fdca26\"],[1.0,\"#f0f921\"]],\"type\":\"surface\"}],\"table\":[{\"cells\":{\"fill\":{\"color\":\"#EBF0F8\"},\"line\":{\"color\":\"white\"}},\"header\":{\"fill\":{\"color\":\"#C8D4E3\"},\"line\":{\"color\":\"white\"}},\"type\":\"table\"}]},\"layout\":{\"annotationdefaults\":{\"arrowcolor\":\"#2a3f5f\",\"arrowhead\":0,\"arrowwidth\":1},\"autotypenumbers\":\"strict\",\"coloraxis\":{\"colorbar\":{\"outlinewidth\":0,\"ticks\":\"\"}},\"colorscale\":{\"diverging\":[[0,\"#8e0152\"],[0.1,\"#c51b7d\"],[0.2,\"#de77ae\"],[0.3,\"#f1b6da\"],[0.4,\"#fde0ef\"],[0.5,\"#f7f7f7\"],[0.6,\"#e6f5d0\"],[0.7,\"#b8e186\"],[0.8,\"#7fbc41\"],[0.9,\"#4d9221\"],[1,\"#276419\"]],\"sequential\":[[0.0,\"#0d0887\"],[0.1111111111111111,\"#46039f\"],[0.2222222222222222,\"#7201a8\"],[0.3333333333333333,\"#9c179e\"],[0.4444444444444444,\"#bd3786\"],[0.5555555555555556,\"#d8576b\"],[0.6666666666666666,\"#ed7953\"],[0.7777777777777778,\"#fb9f3a\"],[0.8888888888888888,\"#fdca26\"],[1.0,\"#f0f921\"]],\"sequentialminus\":[[0.0,\"#0d0887\"],[0.1111111111111111,\"#46039f\"],[0.2222222222222222,\"#7201a8\"],[0.3333333333333333,\"#9c179e\"],[0.4444444444444444,\"#bd3786\"],[0.5555555555555556,\"#d8576b\"],[0.6666666666666666,\"#ed7953\"],[0.7777777777777778,\"#fb9f3a\"],[0.8888888888888888,\"#fdca26\"],[1.0,\"#f0f921\"]]},\"colorway\":[\"#636efa\",\"#EF553B\",\"#00cc96\",\"#ab63fa\",\"#FFA15A\",\"#19d3f3\",\"#FF6692\",\"#B6E880\",\"#FF97FF\",\"#FECB52\"],\"font\":{\"color\":\"#2a3f5f\"},\"geo\":{\"bgcolor\":\"white\",\"lakecolor\":\"white\",\"landcolor\":\"#E5ECF6\",\"showlakes\":true,\"showland\":true,\"subunitcolor\":\"white\"},\"hoverlabel\":{\"align\":\"left\"},\"hovermode\":\"closest\",\"mapbox\":{\"style\":\"light\"},\"paper_bgcolor\":\"white\",\"plot_bgcolor\":\"#E5ECF6\",\"polar\":{\"angularaxis\":{\"gridcolor\":\"white\",\"linecolor\":\"white\",\"ticks\":\"\"},\"bgcolor\":\"#E5ECF6\",\"radialaxis\":{\"gridcolor\":\"white\",\"linecolor\":\"white\",\"ticks\":\"\"}},\"scene\":{\"xaxis\":{\"backgroundcolor\":\"#E5ECF6\",\"gridcolor\":\"white\",\"gridwidth\":2,\"linecolor\":\"white\",\"showbackground\":true,\"ticks\":\"\",\"zerolinecolor\":\"white\"},\"yaxis\":{\"backgroundcolor\":\"#E5ECF6\",\"gridcolor\":\"white\",\"gridwidth\":2,\"linecolor\":\"white\",\"showbackground\":true,\"ticks\":\"\",\"zerolinecolor\":\"white\"},\"zaxis\":{\"backgroundcolor\":\"#E5ECF6\",\"gridcolor\":\"white\",\"gridwidth\":2,\"linecolor\":\"white\",\"showbackground\":true,\"ticks\":\"\",\"zerolinecolor\":\"white\"}},\"shapedefaults\":{\"line\":{\"color\":\"#2a3f5f\"}},\"ternary\":{\"aaxis\":{\"gridcolor\":\"white\",\"linecolor\":\"white\",\"ticks\":\"\"},\"baxis\":{\"gridcolor\":\"white\",\"linecolor\":\"white\",\"ticks\":\"\"},\"bgcolor\":\"#E5ECF6\",\"caxis\":{\"gridcolor\":\"white\",\"linecolor\":\"white\",\"ticks\":\"\"}},\"title\":{\"x\":0.05},\"xaxis\":{\"automargin\":true,\"gridcolor\":\"white\",\"linecolor\":\"white\",\"ticks\":\"\",\"title\":{\"standoff\":15},\"zerolinecolor\":\"white\",\"zerolinewidth\":2},\"yaxis\":{\"automargin\":true,\"gridcolor\":\"white\",\"linecolor\":\"white\",\"ticks\":\"\",\"title\":{\"standoff\":15},\"zerolinecolor\":\"white\",\"zerolinewidth\":2}}},\"xaxis\":{\"anchor\":\"y\",\"domain\":[0.0,0.98],\"title\":{},\"showgrid\":true,\"tickangle\":0},\"yaxis\":{\"anchor\":\"x\",\"domain\":[0.0,0.05583333333333333],\"title\":{\"text\":\"Hogares(%)\",\"font\":{\"size\":10},\"standoff\":8}},\"xaxis2\":{\"anchor\":\"y2\",\"domain\":[0.0,0.98],\"matches\":\"x\",\"showticklabels\":false,\"title\":{},\"showgrid\":true,\"tickangle\":0},\"yaxis2\":{\"anchor\":\"x2\",\"domain\":[0.08583333333333333,0.14166666666666666],\"matches\":\"y\",\"title\":{\"text\":\"Hogares(%)\",\"font\":{\"size\":10},\"standoff\":8}},\"xaxis3\":{\"anchor\":\"y3\",\"domain\":[0.0,0.98],\"matches\":\"x\",\"showticklabels\":false,\"title\":{},\"showgrid\":true,\"tickangle\":0},\"yaxis3\":{\"anchor\":\"x3\",\"domain\":[0.17166666666666666,0.22749999999999998],\"matches\":\"y\",\"title\":{\"text\":\"Hogares(%)\",\"font\":{\"size\":10},\"standoff\":8}},\"xaxis4\":{\"anchor\":\"y4\",\"domain\":[0.0,0.98],\"matches\":\"x\",\"showticklabels\":false,\"title\":{},\"showgrid\":true,\"tickangle\":0},\"yaxis4\":{\"anchor\":\"x4\",\"domain\":[0.25749999999999995,0.3133333333333333],\"matches\":\"y\",\"title\":{\"text\":\"Hogares(%)\",\"font\":{\"size\":10},\"standoff\":8}},\"xaxis5\":{\"anchor\":\"y5\",\"domain\":[0.0,0.98],\"matches\":\"x\",\"showticklabels\":false,\"title\":{},\"showgrid\":true,\"tickangle\":0},\"yaxis5\":{\"anchor\":\"x5\",\"domain\":[0.3433333333333333,0.39916666666666667],\"matches\":\"y\",\"title\":{\"text\":\"Hogares(%)\",\"font\":{\"size\":10},\"standoff\":8}},\"xaxis6\":{\"anchor\":\"y6\",\"domain\":[0.0,0.98],\"matches\":\"x\",\"showticklabels\":false,\"title\":{},\"showgrid\":true,\"tickangle\":0},\"yaxis6\":{\"anchor\":\"x6\",\"domain\":[0.4291666666666667,0.48500000000000004],\"matches\":\"y\",\"title\":{\"text\":\"Hogares(%)\",\"font\":{\"size\":10},\"standoff\":8}},\"xaxis7\":{\"anchor\":\"y7\",\"domain\":[0.0,0.98],\"matches\":\"x\",\"showticklabels\":false,\"title\":{},\"showgrid\":true,\"tickangle\":0},\"yaxis7\":{\"anchor\":\"x7\",\"domain\":[0.515,0.5708333333333333],\"matches\":\"y\",\"title\":{\"text\":\"Hogares(%)\",\"font\":{\"size\":10},\"standoff\":8}},\"xaxis8\":{\"anchor\":\"y8\",\"domain\":[0.0,0.98],\"matches\":\"x\",\"showticklabels\":false,\"title\":{},\"showgrid\":true,\"tickangle\":0},\"yaxis8\":{\"anchor\":\"x8\",\"domain\":[0.6008333333333333,0.6566666666666666],\"matches\":\"y\",\"title\":{\"text\":\"Hogares(%)\",\"font\":{\"size\":10},\"standoff\":8}},\"xaxis9\":{\"anchor\":\"y9\",\"domain\":[0.0,0.98],\"matches\":\"x\",\"showticklabels\":false,\"title\":{},\"showgrid\":true,\"tickangle\":0},\"yaxis9\":{\"anchor\":\"x9\",\"domain\":[0.6866666666666668,0.7425],\"matches\":\"y\",\"title\":{\"text\":\"Hogares(%)\",\"font\":{\"size\":10},\"standoff\":8}},\"xaxis10\":{\"anchor\":\"y10\",\"domain\":[0.0,0.98],\"matches\":\"x\",\"showticklabels\":false,\"title\":{},\"showgrid\":true,\"tickangle\":0},\"yaxis10\":{\"anchor\":\"x10\",\"domain\":[0.7725000000000001,0.8283333333333334],\"matches\":\"y\",\"title\":{\"text\":\"Hogares(%)\",\"font\":{\"size\":10},\"standoff\":8}},\"xaxis11\":{\"anchor\":\"y11\",\"domain\":[0.0,0.98],\"matches\":\"x\",\"showticklabels\":false,\"title\":{},\"showgrid\":true,\"tickangle\":0},\"yaxis11\":{\"anchor\":\"x11\",\"domain\":[0.8583333333333334,0.9141666666666667],\"matches\":\"y\",\"title\":{\"text\":\"Hogares(%)\",\"font\":{\"size\":10},\"standoff\":8}},\"xaxis12\":{\"anchor\":\"y12\",\"domain\":[0.0,0.98],\"matches\":\"x\",\"showticklabels\":false,\"title\":{},\"showgrid\":true,\"tickangle\":0},\"yaxis12\":{\"anchor\":\"x12\",\"domain\":[0.9441666666666666,0.9999999999999999],\"matches\":\"y\",\"title\":{\"text\":\"Hogares(%)\",\"font\":{\"size\":10},\"standoff\":8}},\"annotations\":[{\"font\":{},\"showarrow\":false,\"text\":\"2020\",\"textangle\":90,\"x\":0.98,\"xanchor\":\"left\",\"xref\":\"paper\",\"y\":0.027916666666666666,\"yanchor\":\"middle\",\"yref\":\"paper\"},{\"font\":{},\"showarrow\":false,\"text\":\"2017\",\"textangle\":90,\"x\":0.98,\"xanchor\":\"left\",\"xref\":\"paper\",\"y\":0.11374999999999999,\"yanchor\":\"middle\",\"yref\":\"paper\"},{\"font\":{},\"showarrow\":false,\"text\":\"2015\",\"textangle\":90,\"x\":0.98,\"xanchor\":\"left\",\"xref\":\"paper\",\"y\":0.19958333333333333,\"yanchor\":\"middle\",\"yref\":\"paper\"},{\"font\":{},\"showarrow\":false,\"text\":\"2013\",\"textangle\":90,\"x\":0.98,\"xanchor\":\"left\",\"xref\":\"paper\",\"y\":0.28541666666666665,\"yanchor\":\"middle\",\"yref\":\"paper\"},{\"font\":{},\"showarrow\":false,\"text\":\"2009\",\"textangle\":90,\"x\":0.98,\"xanchor\":\"left\",\"xref\":\"paper\",\"y\":0.37124999999999997,\"yanchor\":\"middle\",\"yref\":\"paper\"},{\"font\":{},\"showarrow\":false,\"text\":\"2003\",\"textangle\":90,\"x\":0.98,\"xanchor\":\"left\",\"xref\":\"paper\",\"y\":0.4570833333333334,\"yanchor\":\"middle\",\"yref\":\"paper\"},{\"font\":{},\"showarrow\":false,\"text\":\"2000\",\"textangle\":90,\"x\":0.98,\"xanchor\":\"left\",\"xref\":\"paper\",\"y\":0.5429166666666667,\"yanchor\":\"middle\",\"yref\":\"paper\"},{\"font\":{},\"showarrow\":false,\"text\":\"1998\",\"textangle\":90,\"x\":0.98,\"xanchor\":\"left\",\"xref\":\"paper\",\"y\":0.6287499999999999,\"yanchor\":\"middle\",\"yref\":\"paper\"},{\"font\":{},\"showarrow\":false,\"text\":\"1996\",\"textangle\":90,\"x\":0.98,\"xanchor\":\"left\",\"xref\":\"paper\",\"y\":0.7145833333333333,\"yanchor\":\"middle\",\"yref\":\"paper\"},{\"font\":{},\"showarrow\":false,\"text\":\"1994\",\"textangle\":90,\"x\":0.98,\"xanchor\":\"left\",\"xref\":\"paper\",\"y\":0.8004166666666668,\"yanchor\":\"middle\",\"yref\":\"paper\"},{\"font\":{},\"showarrow\":false,\"text\":\"1992\",\"textangle\":90,\"x\":0.98,\"xanchor\":\"left\",\"xref\":\"paper\",\"y\":0.88625,\"yanchor\":\"middle\",\"yref\":\"paper\"},{\"font\":{},\"showarrow\":false,\"text\":\"1990\",\"textangle\":90,\"x\":0.98,\"xanchor\":\"left\",\"xref\":\"paper\",\"y\":0.9720833333333332,\"yanchor\":\"middle\",\"yref\":\"paper\"}],\"legend\":{\"title\":{\"text\":\"<b>Quintiles de ingreso</b>\"},\"tracegroupgap\":0,\"orientation\":\"h\",\"y\":1,\"yanchor\":\"bottom\",\"x\":0.2,\"xanchor\":\"center\"},\"margin\":{\"t\":15,\"l\":10,\"r\":10,\"b\":10},\"barmode\":\"group\",\"height\":900},                        {\"responsive\": true}                    ).then(function(){\n                            \nvar gd = document.getElementById('58dbbeb2-dfa4-48bd-a26f-868d5ed2d02d');\nvar x = new MutationObserver(function (mutations, observer) {{\n        var display = window.getComputedStyle(gd).display;\n        if (!display || display === 'none') {{\n            console.log([gd, 'removed!']);\n            Plotly.purge(gd);\n            observer.disconnect();\n        }}\n}});\n\n// Listen for the removal of the full notebook cells\nvar notebookContainer = gd.closest('#notebook-container');\nif (notebookContainer) {{\n    x.observe(notebookContainer, {childList: true});\n}}\n\n// Listen for the clearing of the current output cell\nvar outputEl = gd.closest('.output');\nif (outputEl) {{\n    x.observe(outputEl, {childList: true});\n}}\n\n                        })                };                });            </script>        </div>"
     },
     "metadata": {},
     "output_type": "display_data"
    }
   ],
   "source": [
    "df07 = pd.read_csv(rutas[6])\n",
    "fig = px.bar(df07.loc[df07.tipo_est == 'proporcion'],\n",
    "             x =  'thogar' ,\n",
    "             y = 'dato', facet_row= 'anio',\n",
    "             color = 'quintil',\n",
    "             # facet_col_wrap=2,\n",
    "             labels = {\n",
    "                 'quintil': '<b>Quintiles de ingreso</b>',\n",
    "                 'dato': 'Hogares(%)',\n",
    "                 # 'pobreza': None\n",
    "                 # 'anio': 'Periodo'\n",
    "             },\n",
    "             error_y_minus='ic_bajo',\n",
    "             error_y='ic_alto',\n",
    "\n",
    "             color_discrete_map={\n",
    "                 'sin menores': '#2471A3',\n",
    "                 'con menores': '#E67E22'\n",
    "             },\n",
    "             text ='dato'\n",
    "\n",
    "\n",
    "             )\n",
    "fig.for_each_annotation(lambda a: a.update(text=a.text.split('=')[-1]),\n",
    "\n",
    "                        )\n",
    "fig.update_layout(template='plotly',\n",
    "\n",
    "                  height=900,\n",
    "                  # width=1100\n",
    "                  margin=\n",
    "                  dict(\n",
    "                      l=10,\n",
    "                      r=10,\n",
    "                      b=10,\n",
    "                      t=15\n",
    "                  ),\n",
    "                  barmode='group',\n",
    "                  legend=dict(\n",
    "                      # title=None,\n",
    "                      orientation='h', y=1, yanchor='bottom', x=0.2, xanchor='center'\n",
    "                  )\n",
    "                  )\n",
    "fig.update_xaxes(title=None,\n",
    "                 showgrid=True,\n",
    "                 tickangle=0,\n",
    "\n",
    "\n",
    "                 )\n",
    "fig.update_yaxes(\n",
    "    title_font_size = 10,\n",
    "    title_standoff = 8\n",
    ")\n",
    "fig.write_image('resultados/img/02_07_px.jpeg')\n",
    "fig.show()"
   ],
   "metadata": {
    "collapsed": false,
    "pycharm": {
     "name": "#%%\n"
    }
   }
  },
  {
   "cell_type": "code",
   "execution_count": 30,
   "outputs": [
    {
     "data": {
      "application/vnd.plotly.v1+json": {
       "data": [
        {
         "alignmentgroup": "True",
         "error_y": {
          "array": [
           0.034499242716676,
           0.0282705818993319,
           0.0199371392185063,
           0.0136850746321723,
           0.0124924002664283
          ],
          "arrayminus": [
           0.0283355993113886,
           0.0224598424821369,
           0.0151703179299269,
           0.0096880635799017,
           0.0084288228675781
          ]
         },
         "hovertemplate": "<b>Tipos hogar</b>=nuclear monoparental<br>anio=1990<br>quintil=%{x}<br>Hogares(%)=%{text}<extra></extra>",
         "legendgroup": "nuclear monoparental",
         "marker": {
          "color": "#636efa",
          "pattern": {
           "shape": ""
          }
         },
         "name": "nuclear monoparental",
         "offsetgroup": "nuclear monoparental",
         "orientation": "v",
         "showlegend": true,
         "text": [
          3.1,
          2.5,
          1.7,
          1.2,
          1.0
         ],
         "textposition": "auto",
         "x": [
          "I",
          "II",
          "III",
          "IV",
          "V"
         ],
         "xaxis": "x7",
         "y": [
          3.1,
          2.5,
          1.7,
          1.2,
          1.0
         ],
         "yaxis": "y7",
         "type": "bar"
        },
        {
         "alignmentgroup": "True",
         "error_y": {
          "array": [
           0.0363436261446841,
           0.0264912491904518,
           0.0243804320914676,
           0.0168509338439787,
           0.0131920834487408
          ],
          "arrayminus": [
           0.0306112075902085,
           0.0214060636376285,
           0.0194829721153649,
           0.0127331778283691,
           0.0093708229740007
          ]
         },
         "hovertemplate": "<b>Tipos hogar</b>=nuclear monoparental<br>anio=1992<br>quintil=%{x}<br>Hogares(%)=%{text}<extra></extra>",
         "legendgroup": "nuclear monoparental",
         "marker": {
          "color": "#636efa",
          "pattern": {
           "shape": ""
          }
         },
         "name": "nuclear monoparental",
         "offsetgroup": "nuclear monoparental",
         "orientation": "v",
         "showlegend": false,
         "text": [
          3.3,
          2.4,
          2.2,
          1.5,
          1.1
         ],
         "textposition": "auto",
         "x": [
          "I",
          "II",
          "III",
          "IV",
          "V"
         ],
         "xaxis": "x8",
         "y": [
          3.3,
          2.4,
          2.2,
          1.5,
          1.1
         ],
         "yaxis": "y8",
         "type": "bar"
        },
        {
         "alignmentgroup": "True",
         "error_y": {
          "array": [
           0.0358162655770445,
           0.027023990523244,
           0.0196272620677938,
           0.0164766761556761,
           0.0146783166678223
          ],
          "arrayminus": [
           0.0301772663267184,
           0.0221553104996282,
           0.0153724251720894,
           0.0121997825701088,
           0.0103307807355183
          ]
         },
         "hovertemplate": "<b>Tipos hogar</b>=nuclear monoparental<br>anio=1994<br>quintil=%{x}<br>Hogares(%)=%{text}<extra></extra>",
         "legendgroup": "nuclear monoparental",
         "marker": {
          "color": "#636efa",
          "pattern": {
           "shape": ""
          }
         },
         "name": "nuclear monoparental",
         "offsetgroup": "nuclear monoparental",
         "orientation": "v",
         "showlegend": false,
         "text": [
          3.3,
          2.4,
          1.7,
          1.4,
          1.2
         ],
         "textposition": "auto",
         "x": [
          "I",
          "II",
          "III",
          "IV",
          "V"
         ],
         "xaxis": "x9",
         "y": [
          3.3,
          2.4,
          1.7,
          1.4,
          1.2
         ],
         "yaxis": "y9",
         "type": "bar"
        },
        {
         "alignmentgroup": "True",
         "error_y": {
          "array": [
           0.0341319050158421,
           0.0225199984768624,
           0.0193143423447682,
           0.0129620457977688,
           0.0145794498491148
          ],
          "arrayminus": [
           0.0269681161392468,
           0.0172478167426659,
           0.0132806930990405,
           0.0088222915545937,
           0.009115308980304
          ]
         },
         "hovertemplate": "<b>Tipos hogar</b>=nuclear monoparental<br>anio=1996<br>quintil=%{x}<br>Hogares(%)=%{text}<extra></extra>",
         "legendgroup": "nuclear monoparental",
         "marker": {
          "color": "#636efa",
          "pattern": {
           "shape": ""
          }
         },
         "name": "nuclear monoparental",
         "offsetgroup": "nuclear monoparental",
         "orientation": "v",
         "showlegend": false,
         "text": [
          3.0,
          2.0,
          1.6,
          1.1,
          1.2
         ],
         "textposition": "auto",
         "x": [
          "I",
          "II",
          "III",
          "IV",
          "V"
         ],
         "xaxis": "x10",
         "y": [
          3.0,
          2.0,
          1.6,
          1.1,
          1.2
         ],
         "yaxis": "y10",
         "type": "bar"
        },
        {
         "alignmentgroup": "True",
         "error_y": {
          "array": [
           0.0320806148430875,
           0.0246383486375421,
           0.0197797246081265,
           0.0186474919963414,
           0.0160423690253301
          ],
          "arrayminus": [
           0.0267989516404911,
           0.0198557720453593,
           0.0154865774153864,
           0.01340673724154,
           0.0108157295925699
          ]
         },
         "hovertemplate": "<b>Tipos hogar</b>=nuclear monoparental<br>anio=1998<br>quintil=%{x}<br>Hogares(%)=%{text}<extra></extra>",
         "legendgroup": "nuclear monoparental",
         "marker": {
          "color": "#636efa",
          "pattern": {
           "shape": ""
          }
         },
         "name": "nuclear monoparental",
         "offsetgroup": "nuclear monoparental",
         "orientation": "v",
         "showlegend": false,
         "text": [
          2.9,
          2.2,
          1.8,
          1.6,
          1.3
         ],
         "textposition": "auto",
         "x": [
          "I",
          "II",
          "III",
          "IV",
          "V"
         ],
         "xaxis": "x11",
         "y": [
          2.9,
          2.2,
          1.8,
          1.6,
          1.3
         ],
         "yaxis": "y11",
         "type": "bar"
        },
        {
         "alignmentgroup": "True",
         "error_y": {
          "array": [
           0.0323053897440725,
           0.022382827776468,
           0.0182214225579619,
           0.0160803801371612,
           0.0165224298307979
          ],
          "arrayminus": [
           0.026504523089726,
           0.0180541931543841,
           0.0139736407825696,
           0.0117371483307034,
           0.0108160914508265
          ]
         },
         "hovertemplate": "<b>Tipos hogar</b>=nuclear monoparental<br>anio=2000<br>quintil=%{x}<br>Hogares(%)=%{text}<extra></extra>",
         "legendgroup": "nuclear monoparental",
         "marker": {
          "color": "#636efa",
          "pattern": {
           "shape": ""
          }
         },
         "name": "nuclear monoparental",
         "offsetgroup": "nuclear monoparental",
         "orientation": "v",
         "showlegend": false,
         "text": [
          2.9,
          2.0,
          1.6,
          1.4,
          1.3
         ],
         "textposition": "auto",
         "x": [
          "I",
          "II",
          "III",
          "IV",
          "V"
         ],
         "xaxis": "x12",
         "y": [
          2.9,
          2.0,
          1.6,
          1.4,
          1.3
         ],
         "yaxis": "y12",
         "type": "bar"
        },
        {
         "alignmentgroup": "True",
         "error_y": {
          "array": [
           0.0372607220871732,
           0.028273142415445,
           0.0204789447989795,
           0.0207506968457762,
           0.0133839051699733
          ],
          "arrayminus": [
           0.0319150484741048,
           0.0232189016446855,
           0.0156131590519992,
           0.0154263119356522,
           0.009009053761906
          ]
         },
         "hovertemplate": "<b>Tipos hogar</b>=nuclear monoparental<br>anio=2003<br>quintil=%{x}<br>Hogares(%)=%{text}<extra></extra>",
         "legendgroup": "nuclear monoparental",
         "marker": {
          "color": "#636efa",
          "pattern": {
           "shape": ""
          }
         },
         "name": "nuclear monoparental",
         "offsetgroup": "nuclear monoparental",
         "orientation": "v",
         "showlegend": false,
         "text": [
          3.4,
          2.6,
          1.8,
          1.8,
          1.1
         ],
         "textposition": "auto",
         "x": [
          "I",
          "II",
          "III",
          "IV",
          "V"
         ],
         "xaxis": "x",
         "y": [
          3.4,
          2.6,
          1.8,
          1.8,
          1.1
         ],
         "yaxis": "y",
         "type": "bar"
        },
        {
         "alignmentgroup": "True",
         "error_y": {
          "array": [
           0.0591102176454262,
           0.0430868285219276,
           0.0330937117883781,
           0.0240748404336404,
           0.0189096652213436
          ],
          "arrayminus": [
           0.0521775992297166,
           0.0366430347237329,
           0.0274885462213091,
           0.0186303860516249,
           0.012244719066436
          ]
         },
         "hovertemplate": "<b>Tipos hogar</b>=nuclear monoparental<br>anio=2009<br>quintil=%{x}<br>Hogares(%)=%{text}<extra></extra>",
         "legendgroup": "nuclear monoparental",
         "marker": {
          "color": "#636efa",
          "pattern": {
           "shape": ""
          }
         },
         "name": "nuclear monoparental",
         "offsetgroup": "nuclear monoparental",
         "orientation": "v",
         "showlegend": false,
         "text": [
          5.6,
          4.0,
          3.0,
          2.1,
          1.5
         ],
         "textposition": "auto",
         "x": [
          "I",
          "II",
          "III",
          "IV",
          "V"
         ],
         "xaxis": "x2",
         "y": [
          5.6,
          4.0,
          3.0,
          2.1,
          1.5
         ],
         "yaxis": "y2",
         "type": "bar"
        },
        {
         "alignmentgroup": "True",
         "error_y": {
          "array": [
           0.0720784972047422,
           0.0541718789009605,
           0.0434012788101545,
           0.0250411082029246,
           0.0175475923088253
          ],
          "arrayminus": [
           0.0630875994389048,
           0.046410563266907,
           0.0320188726137112,
           0.0176442505494736,
           0.0116878846082014
          ]
         },
         "hovertemplate": "<b>Tipos hogar</b>=nuclear monoparental<br>anio=2013<br>quintil=%{x}<br>Hogares(%)=%{text}<extra></extra>",
         "legendgroup": "nuclear monoparental",
         "marker": {
          "color": "#636efa",
          "pattern": {
           "shape": ""
          }
         },
         "name": "nuclear monoparental",
         "offsetgroup": "nuclear monoparental",
         "orientation": "v",
         "showlegend": false,
         "text": [
          6.7,
          5.0,
          3.7,
          2.1,
          1.4
         ],
         "textposition": "auto",
         "x": [
          "I",
          "II",
          "III",
          "IV",
          "V"
         ],
         "xaxis": "x3",
         "y": [
          6.7,
          5.0,
          3.7,
          2.1,
          1.4
         ],
         "yaxis": "y3",
         "type": "bar"
        },
        {
         "alignmentgroup": "True",
         "error_y": {
          "array": [
           0.0697928479690851,
           0.0520472065128872,
           0.0385400478727892,
           0.0252188675732221,
           0.0148443076779379
          ],
          "arrayminus": [
           0.0626064618849787,
           0.0455152555110643,
           0.0325138666846943,
           0.0205268043559948,
           0.0111850780460538
          ]
         },
         "hovertemplate": "<b>Tipos hogar</b>=nuclear monoparental<br>anio=2015<br>quintil=%{x}<br>Hogares(%)=%{text}<extra></extra>",
         "legendgroup": "nuclear monoparental",
         "marker": {
          "color": "#636efa",
          "pattern": {
           "shape": ""
          }
         },
         "name": "nuclear monoparental",
         "offsetgroup": "nuclear monoparental",
         "orientation": "v",
         "showlegend": false,
         "text": [
          6.6,
          4.9,
          3.5,
          2.3,
          1.3
         ],
         "textposition": "auto",
         "x": [
          "I",
          "II",
          "III",
          "IV",
          "V"
         ],
         "xaxis": "x4",
         "y": [
          6.6,
          4.9,
          3.5,
          2.3,
          1.3
         ],
         "yaxis": "y4",
         "type": "bar"
        },
        {
         "alignmentgroup": "True",
         "error_y": {
          "array": [
           0.0749207269486801,
           0.0598366613021309,
           0.0434433671766935,
           0.030332567375856,
           0.0162439541134823
          ],
          "arrayminus": [
           0.0660801652210702,
           0.0520293923759266,
           0.0340210090324172,
           0.0199829131728849,
           0.0120632687995737
          ]
         },
         "hovertemplate": "<b>Tipos hogar</b>=nuclear monoparental<br>anio=2017<br>quintil=%{x}<br>Hogares(%)=%{text}<extra></extra>",
         "legendgroup": "nuclear monoparental",
         "marker": {
          "color": "#636efa",
          "pattern": {
           "shape": ""
          }
         },
         "name": "nuclear monoparental",
         "offsetgroup": "nuclear monoparental",
         "orientation": "v",
         "showlegend": false,
         "text": [
          7.0,
          5.6,
          3.8,
          2.5,
          1.4
         ],
         "textposition": "auto",
         "x": [
          "I",
          "II",
          "III",
          "IV",
          "V"
         ],
         "xaxis": "x5",
         "y": [
          7.0,
          5.6,
          3.8,
          2.5,
          1.4
         ],
         "yaxis": "y5",
         "type": "bar"
        },
        {
         "alignmentgroup": "True",
         "error_y": {
          "array": [
           0.0919152859983558,
           0.0753944595090662,
           0.053527936337387,
           0.0393814620424238,
           0.0201492256936189
          ],
          "arrayminus": [
           0.0806593125124947,
           0.0647771195754995,
           0.0454800031565272,
           0.0285149975876343,
           0.0152920386967036
          ]
         },
         "hovertemplate": "<b>Tipos hogar</b>=nuclear monoparental<br>anio=2020<br>quintil=%{x}<br>Hogares(%)=%{text}<extra></extra>",
         "legendgroup": "nuclear monoparental",
         "marker": {
          "color": "#636efa",
          "pattern": {
           "shape": ""
          }
         },
         "name": "nuclear monoparental",
         "offsetgroup": "nuclear monoparental",
         "orientation": "v",
         "showlegend": false,
         "text": [
          8.6,
          7.0,
          4.9,
          3.4,
          1.8
         ],
         "textposition": "auto",
         "x": [
          "I",
          "II",
          "III",
          "IV",
          "V"
         ],
         "xaxis": "x6",
         "y": [
          8.6,
          7.0,
          4.9,
          3.4,
          1.8
         ],
         "yaxis": "y6",
         "type": "bar"
        },
        {
         "alignmentgroup": "True",
         "error_y": {
          "array": [
           0.187577342492884,
           0.1674925495654054,
           0.1403241840919201,
           0.1127680708951065,
           0.1139533370688513
          ],
          "arrayminus": [
           0.1738723960360101,
           0.1541282062674517,
           0.1275059311256085,
           0.1011872609661028,
           0.1016874160670933
          ]
         },
         "hovertemplate": "<b>Tipos hogar</b>=nuclear biparental<br>anio=1990<br>quintil=%{x}<br>Hogares(%)=%{text}<extra></extra>",
         "legendgroup": "nuclear biparental",
         "marker": {
          "color": "#EF553B",
          "pattern": {
           "shape": ""
          }
         },
         "name": "nuclear biparental",
         "offsetgroup": "nuclear biparental",
         "orientation": "v",
         "showlegend": true,
         "text": [
          18.1,
          16.1,
          13.4,
          10.7,
          10.8
         ],
         "textposition": "auto",
         "x": [
          "I",
          "II",
          "III",
          "IV",
          "V"
         ],
         "xaxis": "x7",
         "y": [
          18.1,
          16.1,
          13.4,
          10.7,
          10.8
         ],
         "yaxis": "y7",
         "type": "bar"
        },
        {
         "alignmentgroup": "True",
         "error_y": {
          "array": [
           0.1932233178015568,
           0.1722031840118345,
           0.1393056987254025,
           0.1157755327911665,
           0.1127816407933351
          ],
          "arrayminus": [
           0.1811070537830877,
           0.1600401305185496,
           0.127881534021838,
           0.1047287433295681,
           0.1018335953099108
          ]
         },
         "hovertemplate": "<b>Tipos hogar</b>=nuclear biparental<br>anio=1992<br>quintil=%{x}<br>Hogares(%)=%{text}<extra></extra>",
         "legendgroup": "nuclear biparental",
         "marker": {
          "color": "#EF553B",
          "pattern": {
           "shape": ""
          }
         },
         "name": "nuclear biparental",
         "offsetgroup": "nuclear biparental",
         "orientation": "v",
         "showlegend": false,
         "text": [
          18.7,
          16.6,
          13.3,
          11.0,
          10.7
         ],
         "textposition": "auto",
         "x": [
          "I",
          "II",
          "III",
          "IV",
          "V"
         ],
         "xaxis": "x8",
         "y": [
          18.7,
          16.6,
          13.3,
          11.0,
          10.7
         ],
         "yaxis": "y8",
         "type": "bar"
        },
        {
         "alignmentgroup": "True",
         "error_y": {
          "array": [
           0.1816963115261124,
           0.1600209302815512,
           0.1336351834567608,
           0.1202433902799029,
           0.1138283097568558
          ],
          "arrayminus": [
           0.1703338709663348,
           0.1486073971156133,
           0.1224822747475601,
           0.1088199725332416,
           0.1021806701601323
          ]
         },
         "hovertemplate": "<b>Tipos hogar</b>=nuclear biparental<br>anio=1994<br>quintil=%{x}<br>Hogares(%)=%{text}<extra></extra>",
         "legendgroup": "nuclear biparental",
         "marker": {
          "color": "#EF553B",
          "pattern": {
           "shape": ""
          }
         },
         "name": "nuclear biparental",
         "offsetgroup": "nuclear biparental",
         "orientation": "v",
         "showlegend": false,
         "text": [
          17.6,
          15.4,
          12.8,
          11.4,
          10.8
         ],
         "textposition": "auto",
         "x": [
          "I",
          "II",
          "III",
          "IV",
          "V"
         ],
         "xaxis": "x9",
         "y": [
          17.6,
          15.4,
          12.8,
          11.4,
          10.8
         ],
         "yaxis": "y9",
         "type": "bar"
        },
        {
         "alignmentgroup": "True",
         "error_y": {
          "array": [
           0.1834167100799864,
           0.1649553578433335,
           0.1415327167260809,
           0.1327696796041205,
           0.115543448110566
          ],
          "arrayminus": [
           0.1677726041506353,
           0.14967746714602,
           0.1257476428668952,
           0.1161730794208444,
           0.0991138044120194
          ]
         },
         "hovertemplate": "<b>Tipos hogar</b>=nuclear biparental<br>anio=1996<br>quintil=%{x}<br>Hogares(%)=%{text}<extra></extra>",
         "legendgroup": "nuclear biparental",
         "marker": {
          "color": "#EF553B",
          "pattern": {
           "shape": ""
          }
         },
         "name": "nuclear biparental",
         "offsetgroup": "nuclear biparental",
         "orientation": "v",
         "showlegend": false,
         "text": [
          17.5,
          15.7,
          13.3,
          12.4,
          10.7
         ],
         "textposition": "auto",
         "x": [
          "I",
          "II",
          "III",
          "IV",
          "V"
         ],
         "xaxis": "x10",
         "y": [
          17.5,
          15.7,
          13.3,
          12.4,
          10.7
         ],
         "yaxis": "y10",
         "type": "bar"
        },
        {
         "alignmentgroup": "True",
         "error_y": {
          "array": [
           0.1764683568658051,
           0.1638926248484779,
           0.1332777068525314,
           0.1239727055403252,
           0.1095547055015551
          ],
          "arrayminus": [
           0.1646749964436795,
           0.1517668772332859,
           0.1217727259137632,
           0.1123494424441356,
           0.0973519135227584
          ]
         },
         "hovertemplate": "<b>Tipos hogar</b>=nuclear biparental<br>anio=1998<br>quintil=%{x}<br>Hogares(%)=%{text}<extra></extra>",
         "legendgroup": "nuclear biparental",
         "marker": {
          "color": "#EF553B",
          "pattern": {
           "shape": ""
          }
         },
         "name": "nuclear biparental",
         "offsetgroup": "nuclear biparental",
         "orientation": "v",
         "showlegend": false,
         "text": [
          17.0,
          15.8,
          12.7,
          11.8,
          10.3
         ],
         "textposition": "auto",
         "x": [
          "I",
          "II",
          "III",
          "IV",
          "V"
         ],
         "xaxis": "x11",
         "y": [
          17.0,
          15.8,
          12.7,
          11.8,
          10.3
         ],
         "yaxis": "y11",
         "type": "bar"
        },
        {
         "alignmentgroup": "True",
         "error_y": {
          "array": [
           0.1803143700363178,
           0.1597284807168805,
           0.1403554050646979,
           0.1164190263793158,
           0.1093412390061175
          ],
          "arrayminus": [
           0.1679676969360825,
           0.1471445343009289,
           0.1201830122979838,
           0.1016145933643167,
           0.094562490463497
          ]
         },
         "hovertemplate": "<b>Tipos hogar</b>=nuclear biparental<br>anio=2000<br>quintil=%{x}<br>Hogares(%)=%{text}<extra></extra>",
         "legendgroup": "nuclear biparental",
         "marker": {
          "color": "#EF553B",
          "pattern": {
           "shape": ""
          }
         },
         "name": "nuclear biparental",
         "offsetgroup": "nuclear biparental",
         "orientation": "v",
         "showlegend": false,
         "text": [
          17.4,
          15.3,
          13.0,
          10.9,
          10.2
         ],
         "textposition": "auto",
         "x": [
          "I",
          "II",
          "III",
          "IV",
          "V"
         ],
         "xaxis": "x12",
         "y": [
          17.4,
          15.3,
          13.0,
          10.9,
          10.2
         ],
         "yaxis": "y12",
         "type": "bar"
        },
        {
         "alignmentgroup": "True",
         "error_y": {
          "array": [
           0.1639711377558302,
           0.1583348832002793,
           0.1329625702869617,
           0.1167592312797007,
           0.1072331934984388
          ],
          "arrayminus": [
           0.1526086336836173,
           0.1453051057353694,
           0.1211701768066498,
           0.1030227566783086,
           0.0938567267438256
          ]
         },
         "hovertemplate": "<b>Tipos hogar</b>=nuclear biparental<br>anio=2003<br>quintil=%{x}<br>Hogares(%)=%{text}<extra></extra>",
         "legendgroup": "nuclear biparental",
         "marker": {
          "color": "#EF553B",
          "pattern": {
           "shape": ""
          }
         },
         "name": "nuclear biparental",
         "offsetgroup": "nuclear biparental",
         "orientation": "v",
         "showlegend": false,
         "text": [
          15.8,
          15.2,
          12.7,
          11.0,
          10.0
         ],
         "textposition": "auto",
         "x": [
          "I",
          "II",
          "III",
          "IV",
          "V"
         ],
         "xaxis": "x",
         "y": [
          15.8,
          15.2,
          12.7,
          11.0,
          10.0
         ],
         "yaxis": "y",
         "type": "bar"
        },
        {
         "alignmentgroup": "True",
         "error_y": {
          "array": [
           0.1247907074575469,
           0.1400176282593766,
           0.1307616700881974,
           0.1165955032906154,
           0.1009304407714186
          ],
          "arrayminus": [
           0.1152032699981521,
           0.1287472205016664,
           0.1194995650938778,
           0.1048942227536438,
           0.0877004962516295
          ]
         },
         "hovertemplate": "<b>Tipos hogar</b>=nuclear biparental<br>anio=2009<br>quintil=%{x}<br>Hogares(%)=%{text}<extra></extra>",
         "legendgroup": "nuclear biparental",
         "marker": {
          "color": "#EF553B",
          "pattern": {
           "shape": ""
          }
         },
         "name": "nuclear biparental",
         "offsetgroup": "nuclear biparental",
         "orientation": "v",
         "showlegend": false,
         "text": [
          12.0,
          13.4,
          12.5,
          11.1,
          9.4
         ],
         "textposition": "auto",
         "x": [
          "I",
          "II",
          "III",
          "IV",
          "V"
         ],
         "xaxis": "x2",
         "y": [
          12.0,
          13.4,
          12.5,
          11.1,
          9.4
         ],
         "yaxis": "y2",
         "type": "bar"
        },
        {
         "alignmentgroup": "True",
         "error_y": {
          "array": [
           0.1244178274800172,
           0.1358018626787167,
           0.1144521867204538,
           0.1028032780001614,
           0.093272502835943
          ],
          "arrayminus": [
           0.1128377563180887,
           0.11918866629454,
           0.1022893667381392,
           0.089632889579772,
           0.0771674677646898
          ]
         },
         "hovertemplate": "<b>Tipos hogar</b>=nuclear biparental<br>anio=2013<br>quintil=%{x}<br>Hogares(%)=%{text}<extra></extra>",
         "legendgroup": "nuclear biparental",
         "marker": {
          "color": "#EF553B",
          "pattern": {
           "shape": ""
          }
         },
         "name": "nuclear biparental",
         "offsetgroup": "nuclear biparental",
         "orientation": "v",
         "showlegend": false,
         "text": [
          11.9,
          12.7,
          10.8,
          9.6,
          8.5
         ],
         "textposition": "auto",
         "x": [
          "I",
          "II",
          "III",
          "IV",
          "V"
         ],
         "xaxis": "x3",
         "y": [
          11.9,
          12.7,
          10.8,
          9.6,
          8.5
         ],
         "yaxis": "y3",
         "type": "bar"
        },
        {
         "alignmentgroup": "True",
         "error_y": {
          "array": [
           0.1182455513813845,
           0.1272319693550283,
           0.1161484891262718,
           0.0985156104203598,
           0.0899322801545623
          ],
          "arrayminus": [
           0.1090342513877856,
           0.117411709099526,
           0.1044077335479652,
           0.0883341424220013,
           0.0769358037777224
          ]
         },
         "hovertemplate": "<b>Tipos hogar</b>=nuclear biparental<br>anio=2015<br>quintil=%{x}<br>Hogares(%)=%{text}<extra></extra>",
         "legendgroup": "nuclear biparental",
         "marker": {
          "color": "#EF553B",
          "pattern": {
           "shape": ""
          }
         },
         "name": "nuclear biparental",
         "offsetgroup": "nuclear biparental",
         "orientation": "v",
         "showlegend": false,
         "text": [
          11.4,
          12.2,
          11.0,
          9.3,
          8.3
         ],
         "textposition": "auto",
         "x": [
          "I",
          "II",
          "III",
          "IV",
          "V"
         ],
         "xaxis": "x4",
         "y": [
          11.4,
          12.2,
          11.0,
          9.3,
          8.3
         ],
         "yaxis": "y4",
         "type": "bar"
        },
        {
         "alignmentgroup": "True",
         "error_y": {
          "array": [
           0.1129273042457788,
           0.1306561760461471,
           0.1162964282252685,
           0.0968485260602809,
           0.0971682502446931
          ],
          "arrayminus": [
           0.1028146552593282,
           0.1200073844967829,
           0.1043861896551801,
           0.0862971896585161,
           0.0811475162779578
          ]
         },
         "hovertemplate": "<b>Tipos hogar</b>=nuclear biparental<br>anio=2017<br>quintil=%{x}<br>Hogares(%)=%{text}<extra></extra>",
         "legendgroup": "nuclear biparental",
         "marker": {
          "color": "#EF553B",
          "pattern": {
           "shape": ""
          }
         },
         "name": "nuclear biparental",
         "offsetgroup": "nuclear biparental",
         "orientation": "v",
         "showlegend": false,
         "text": [
          10.8,
          12.5,
          11.0,
          9.1,
          8.9
         ],
         "textposition": "auto",
         "x": [
          "I",
          "II",
          "III",
          "IV",
          "V"
         ],
         "xaxis": "x5",
         "y": [
          10.8,
          12.5,
          11.0,
          9.1,
          8.9
         ],
         "yaxis": "y5",
         "type": "bar"
        },
        {
         "alignmentgroup": "True",
         "error_y": {
          "array": [
           0.078246014771778,
           0.1148468750064488,
           0.1339530840144135,
           0.0944106594231896,
           0.1047647444887961
          ],
          "arrayminus": [
           0.0686232419866325,
           0.1033301796407641,
           0.0848760076024105,
           0.0831177527459464,
           0.0895658636637575
          ]
         },
         "hovertemplate": "<b>Tipos hogar</b>=nuclear biparental<br>anio=2020<br>quintil=%{x}<br>Hogares(%)=%{text}<extra></extra>",
         "legendgroup": "nuclear biparental",
         "marker": {
          "color": "#EF553B",
          "pattern": {
           "shape": ""
          }
         },
         "name": "nuclear biparental",
         "offsetgroup": "nuclear biparental",
         "orientation": "v",
         "showlegend": false,
         "text": [
          7.3,
          10.9,
          10.7,
          8.9,
          9.7
         ],
         "textposition": "auto",
         "x": [
          "I",
          "II",
          "III",
          "IV",
          "V"
         ],
         "xaxis": "x6",
         "y": [
          7.3,
          10.9,
          10.7,
          8.9,
          9.7
         ],
         "yaxis": "y6",
         "type": "bar"
        },
        {
         "alignmentgroup": "True",
         "error_y": {
          "array": [
           0.0257225194159657,
           0.0243892497516358,
           0.0221247157863779,
           0.0182918423599015,
           0.0079038141764595
          ],
          "arrayminus": [
           0.0203827789217002,
           0.0191629571684942,
           0.0171578893238992,
           0.0131604681986154,
           0.0048266327630375
          ]
         },
         "hovertemplate": "<b>Tipos hogar</b>=extenso monoparental<br>anio=1990<br>quintil=%{x}<br>Hogares(%)=%{text}<extra></extra>",
         "legendgroup": "extenso monoparental",
         "marker": {
          "color": "#00cc96",
          "pattern": {
           "shape": ""
          }
         },
         "name": "extenso monoparental",
         "offsetgroup": "extenso monoparental",
         "orientation": "v",
         "showlegend": true,
         "text": [
          2.3,
          2.2,
          1.9,
          1.6,
          0.6
         ],
         "textposition": "auto",
         "x": [
          "I",
          "II",
          "III",
          "IV",
          "V"
         ],
         "xaxis": "x7",
         "y": [
          2.3,
          2.2,
          1.9,
          1.6,
          0.6
         ],
         "yaxis": "y7",
         "type": "bar"
        },
        {
         "alignmentgroup": "True",
         "error_y": {
          "array": [
           0.0214192599235579,
           0.0235563930196253,
           0.0207661650027186,
           0.014137535113573,
           0.0075261813938068
          ],
          "arrayminus": [
           0.0172865982536481,
           0.0190016542189794,
           0.0164116123736503,
           0.0102254760954965,
           0.0047978231865413
          ]
         },
         "hovertemplate": "<b>Tipos hogar</b>=extenso monoparental<br>anio=1992<br>quintil=%{x}<br>Hogares(%)=%{text}<extra></extra>",
         "legendgroup": "extenso monoparental",
         "marker": {
          "color": "#00cc96",
          "pattern": {
           "shape": ""
          }
         },
         "name": "extenso monoparental",
         "offsetgroup": "extenso monoparental",
         "orientation": "v",
         "showlegend": false,
         "text": [
          1.9,
          2.1,
          1.8,
          1.2,
          0.6
         ],
         "textposition": "auto",
         "x": [
          "I",
          "II",
          "III",
          "IV",
          "V"
         ],
         "xaxis": "x8",
         "y": [
          1.9,
          2.1,
          1.8,
          1.2,
          0.6
         ],
         "yaxis": "y8",
         "type": "bar"
        },
        {
         "alignmentgroup": "True",
         "error_y": {
          "array": [
           0.0245059339023577,
           0.0251219087680349,
           0.0184266704988808,
           0.0145190609022566,
           0.0088141813398243
          ],
          "arrayminus": [
           0.0200370669843669,
           0.0202974601691547,
           0.0140465583235472,
           0.0106257519289002,
           0.0055876495681891
          ]
         },
         "hovertemplate": "<b>Tipos hogar</b>=extenso monoparental<br>anio=1994<br>quintil=%{x}<br>Hogares(%)=%{text}<extra></extra>",
         "legendgroup": "extenso monoparental",
         "marker": {
          "color": "#00cc96",
          "pattern": {
           "shape": ""
          }
         },
         "name": "extenso monoparental",
         "offsetgroup": "extenso monoparental",
         "orientation": "v",
         "showlegend": false,
         "text": [
          2.2,
          2.3,
          1.6,
          1.2,
          0.7
         ],
         "textposition": "auto",
         "x": [
          "I",
          "II",
          "III",
          "IV",
          "V"
         ],
         "xaxis": "x9",
         "y": [
          2.2,
          2.3,
          1.6,
          1.2,
          0.7
         ],
         "yaxis": "y9",
         "type": "bar"
        },
        {
         "alignmentgroup": "True",
         "error_y": {
          "array": [
           0.0222504362535424,
           0.0235183979734739,
           0.0187212069454786,
           0.0142188865649209,
           0.0073128866512493
          ],
          "arrayminus": [
           0.0173438191156588,
           0.0182480928879934,
           0.0139389429812337,
           0.0100026546123426,
           0.0040492540460079
          ]
         },
         "hovertemplate": "<b>Tipos hogar</b>=extenso monoparental<br>anio=1996<br>quintil=%{x}<br>Hogares(%)=%{text}<extra></extra>",
         "legendgroup": "extenso monoparental",
         "marker": {
          "color": "#00cc96",
          "pattern": {
           "shape": ""
          }
         },
         "name": "extenso monoparental",
         "offsetgroup": "extenso monoparental",
         "orientation": "v",
         "showlegend": false,
         "text": [
          2.0,
          2.1,
          1.6,
          1.2,
          0.5
         ],
         "textposition": "auto",
         "x": [
          "I",
          "II",
          "III",
          "IV",
          "V"
         ],
         "xaxis": "x10",
         "y": [
          2.0,
          2.1,
          1.6,
          1.2,
          0.5
         ],
         "yaxis": "y10",
         "type": "bar"
        },
        {
         "alignmentgroup": "True",
         "error_y": {
          "array": [
           0.0257307215152383,
           0.0259494473183291,
           0.0241814256716167,
           0.0142601820171048,
           0.0067524534216132
          ],
          "arrayminus": [
           0.0210111593468797,
           0.021185204149921,
           0.0191943136373112,
           0.0105689298484218,
           0.0040357791286716
          ]
         },
         "hovertemplate": "<b>Tipos hogar</b>=extenso monoparental<br>anio=1998<br>quintil=%{x}<br>Hogares(%)=%{text}<extra></extra>",
         "legendgroup": "extenso monoparental",
         "marker": {
          "color": "#00cc96",
          "pattern": {
           "shape": ""
          }
         },
         "name": "extenso monoparental",
         "offsetgroup": "extenso monoparental",
         "orientation": "v",
         "showlegend": false,
         "text": [
          2.3,
          2.3,
          2.2,
          1.2,
          0.5
         ],
         "textposition": "auto",
         "x": [
          "I",
          "II",
          "III",
          "IV",
          "V"
         ],
         "xaxis": "x11",
         "y": [
          2.3,
          2.3,
          2.2,
          1.2,
          0.5
         ],
         "yaxis": "y11",
         "type": "bar"
        },
        {
         "alignmentgroup": "True",
         "error_y": {
          "array": [
           0.0281929969227923,
           0.0305823046197353,
           0.0247276964880122,
           0.0159212748783039,
           0.0062528578020516
          ],
          "arrayminus": [
           0.0235728053360779,
           0.0251833524907999,
           0.0174629224217997,
           0.0118972495097442,
           0.0037532103725272
          ]
         },
         "hovertemplate": "<b>Tipos hogar</b>=extenso monoparental<br>anio=2000<br>quintil=%{x}<br>Hogares(%)=%{text}<extra></extra>",
         "legendgroup": "extenso monoparental",
         "marker": {
          "color": "#00cc96",
          "pattern": {
           "shape": ""
          }
         },
         "name": "extenso monoparental",
         "offsetgroup": "extenso monoparental",
         "orientation": "v",
         "showlegend": false,
         "text": [
          2.6,
          2.8,
          2.1,
          1.4,
          0.5
         ],
         "textposition": "auto",
         "x": [
          "I",
          "II",
          "III",
          "IV",
          "V"
         ],
         "xaxis": "x12",
         "y": [
          2.6,
          2.8,
          2.1,
          1.4,
          0.5
         ],
         "yaxis": "y12",
         "type": "bar"
        },
        {
         "alignmentgroup": "True",
         "error_y": {
          "array": [
           0.0299344723172847,
           0.0274675431116056,
           0.0211069357910719,
           0.0144801838965653,
           0.0065094235962659
          ],
          "arrayminus": [
           0.0239558376259547,
           0.0224403871747157,
           0.0168407060990314,
           0.0106556776339448,
           0.004070892267175
          ]
         },
         "hovertemplate": "<b>Tipos hogar</b>=extenso monoparental<br>anio=2003<br>quintil=%{x}<br>Hogares(%)=%{text}<extra></extra>",
         "legendgroup": "extenso monoparental",
         "marker": {
          "color": "#00cc96",
          "pattern": {
           "shape": ""
          }
         },
         "name": "extenso monoparental",
         "offsetgroup": "extenso monoparental",
         "orientation": "v",
         "showlegend": false,
         "text": [
          2.7,
          2.5,
          1.9,
          1.2,
          0.5
         ],
         "textposition": "auto",
         "x": [
          "I",
          "II",
          "III",
          "IV",
          "V"
         ],
         "xaxis": "x",
         "y": [
          2.7,
          2.5,
          1.9,
          1.2,
          0.5
         ],
         "yaxis": "y",
         "type": "bar"
        },
        {
         "alignmentgroup": "True",
         "error_y": {
          "array": [
           0.0332047700209571,
           0.0318143414752052,
           0.025210373688388,
           0.0172733797064601,
           0.0085696741361388
          ],
          "arrayminus": [
           0.028037089890545,
           0.0263609893467278,
           0.0202873789977257,
           0.0130674927889841,
           0.0049929458875331
          ]
         },
         "hovertemplate": "<b>Tipos hogar</b>=extenso monoparental<br>anio=2009<br>quintil=%{x}<br>Hogares(%)=%{text}<extra></extra>",
         "legendgroup": "extenso monoparental",
         "marker": {
          "color": "#00cc96",
          "pattern": {
           "shape": ""
          }
         },
         "name": "extenso monoparental",
         "offsetgroup": "extenso monoparental",
         "orientation": "v",
         "showlegend": false,
         "text": [
          3.1,
          2.9,
          2.3,
          1.5,
          0.7
         ],
         "textposition": "auto",
         "x": [
          "I",
          "II",
          "III",
          "IV",
          "V"
         ],
         "xaxis": "x2",
         "y": [
          3.1,
          2.9,
          2.3,
          1.5,
          0.7
         ],
         "yaxis": "y2",
         "type": "bar"
        },
        {
         "alignmentgroup": "True",
         "error_y": {
          "array": [
           0.0373589109093441,
           0.0346595136831108,
           0.0310003990145259,
           0.0187078466721224,
           0.0053667226947731
          ],
          "arrayminus": [
           0.0304431329339974,
           0.0288158977201191,
           0.0219314615925244,
           0.0132364490421122,
           0.0033094641001181
          ]
         },
         "hovertemplate": "<b>Tipos hogar</b>=extenso monoparental<br>anio=2013<br>quintil=%{x}<br>Hogares(%)=%{text}<extra></extra>",
         "legendgroup": "extenso monoparental",
         "marker": {
          "color": "#00cc96",
          "pattern": {
           "shape": ""
          }
         },
         "name": "extenso monoparental",
         "offsetgroup": "extenso monoparental",
         "orientation": "v",
         "showlegend": false,
         "text": [
          3.4,
          3.2,
          2.6,
          1.6,
          0.4
         ],
         "textposition": "auto",
         "x": [
          "I",
          "II",
          "III",
          "IV",
          "V"
         ],
         "xaxis": "x3",
         "y": [
          3.4,
          3.2,
          2.6,
          1.6,
          0.4
         ],
         "yaxis": "y3",
         "type": "bar"
        },
        {
         "alignmentgroup": "True",
         "error_y": {
          "array": [
           0.0401997550095357,
           0.0380875033746223,
           0.0300068413585507,
           0.0172219686543754,
           0.0090795534491846
          ],
          "arrayminus": [
           0.0349319682975495,
           0.0326763102803783,
           0.025003701020068,
           0.0135098589007634,
           0.0062296099224068
          ]
         },
         "hovertemplate": "<b>Tipos hogar</b>=extenso monoparental<br>anio=2015<br>quintil=%{x}<br>Hogares(%)=%{text}<extra></extra>",
         "legendgroup": "extenso monoparental",
         "marker": {
          "color": "#00cc96",
          "pattern": {
           "shape": ""
          }
         },
         "name": "extenso monoparental",
         "offsetgroup": "extenso monoparental",
         "orientation": "v",
         "showlegend": false,
         "text": [
          3.7,
          3.5,
          2.7,
          1.5,
          0.8
         ],
         "textposition": "auto",
         "x": [
          "I",
          "II",
          "III",
          "IV",
          "V"
         ],
         "xaxis": "x4",
         "y": [
          3.7,
          3.5,
          2.7,
          1.5,
          0.8
         ],
         "yaxis": "y4",
         "type": "bar"
        },
        {
         "alignmentgroup": "True",
         "error_y": {
          "array": [
           0.0357294681398075,
           0.0375760251091134,
           0.0312894478803397,
           0.0187814335957613,
           0.0069323362290578
          ],
          "arrayminus": [
           0.0304136275604539,
           0.032331432558537,
           0.0254551679839173,
           0.014143234726366,
           0.0044246264732502
          ]
         },
         "hovertemplate": "<b>Tipos hogar</b>=extenso monoparental<br>anio=2017<br>quintil=%{x}<br>Hogares(%)=%{text}<extra></extra>",
         "legendgroup": "extenso monoparental",
         "marker": {
          "color": "#00cc96",
          "pattern": {
           "shape": ""
          }
         },
         "name": "extenso monoparental",
         "offsetgroup": "extenso monoparental",
         "orientation": "v",
         "showlegend": false,
         "text": [
          3.3,
          3.5,
          2.8,
          1.6,
          0.6
         ],
         "textposition": "auto",
         "x": [
          "I",
          "II",
          "III",
          "IV",
          "V"
         ],
         "xaxis": "x5",
         "y": [
          3.3,
          3.5,
          2.8,
          1.6,
          0.6
         ],
         "yaxis": "y5",
         "type": "bar"
        },
        {
         "alignmentgroup": "True",
         "error_y": {
          "array": [
           0.0414585510356337,
           0.048081022730799,
           0.033035865317482,
           0.0200549293349248,
           0.0084582486437652
          ],
          "arrayminus": [
           0.0351043711476714,
           0.0408822200727033,
           0.026995512004736,
           0.0156300436542258,
           0.0054920447648592
          ]
         },
         "hovertemplate": "<b>Tipos hogar</b>=extenso monoparental<br>anio=2020<br>quintil=%{x}<br>Hogares(%)=%{text}<extra></extra>",
         "legendgroup": "extenso monoparental",
         "marker": {
          "color": "#00cc96",
          "pattern": {
           "shape": ""
          }
         },
         "name": "extenso monoparental",
         "offsetgroup": "extenso monoparental",
         "orientation": "v",
         "showlegend": false,
         "text": [
          3.8,
          4.4,
          3.0,
          1.8,
          0.7
         ],
         "textposition": "auto",
         "x": [
          "I",
          "II",
          "III",
          "IV",
          "V"
         ],
         "xaxis": "x6",
         "y": [
          3.8,
          4.4,
          3.0,
          1.8,
          0.7
         ],
         "yaxis": "y6",
         "type": "bar"
        },
        {
         "alignmentgroup": "True",
         "error_y": {
          "array": [
           0.0289661614701107,
           0.0362677285292686,
           0.0363927771711751,
           0.0248643996933161,
           0.0179583265924365
          ],
          "arrayminus": [
           0.023308078034445,
           0.0298476650472315,
           0.0298900868321045,
           0.01939024248272,
           0.0128428322802668
          ]
         },
         "hovertemplate": "<b>Tipos hogar</b>=extenso biparental<br>anio=1990<br>quintil=%{x}<br>Hogares(%)=%{text}<extra></extra>",
         "legendgroup": "extenso biparental",
         "marker": {
          "color": "#ab63fa",
          "pattern": {
           "shape": ""
          }
         },
         "name": "extenso biparental",
         "offsetgroup": "extenso biparental",
         "orientation": "v",
         "showlegend": true,
         "text": [
          2.6,
          3.3,
          3.3,
          2.2,
          1.5
         ],
         "textposition": "auto",
         "x": [
          "I",
          "II",
          "III",
          "IV",
          "V"
         ],
         "xaxis": "x7",
         "y": [
          2.6,
          3.3,
          3.3,
          2.2,
          1.5
         ],
         "yaxis": "y7",
         "type": "bar"
        },
        {
         "alignmentgroup": "True",
         "error_y": {
          "array": [
           0.0257463011149974,
           0.0326818888573868,
           0.030997602725525,
           0.0247424430267166,
           0.0125696084628022
          ],
          "arrayminus": [
           0.0213349290051359,
           0.0276062931789454,
           0.0256122695872294,
           0.0197014002545033,
           0.0090785685026764
          ]
         },
         "hovertemplate": "<b>Tipos hogar</b>=extenso biparental<br>anio=1992<br>quintil=%{x}<br>Hogares(%)=%{text}<extra></extra>",
         "legendgroup": "extenso biparental",
         "marker": {
          "color": "#ab63fa",
          "pattern": {
           "shape": ""
          }
         },
         "name": "extenso biparental",
         "offsetgroup": "extenso biparental",
         "orientation": "v",
         "showlegend": false,
         "text": [
          2.3,
          3.0,
          2.8,
          2.2,
          1.1
         ],
         "textposition": "auto",
         "x": [
          "I",
          "II",
          "III",
          "IV",
          "V"
         ],
         "xaxis": "x8",
         "y": [
          2.3,
          3.0,
          2.8,
          2.2,
          1.1
         ],
         "yaxis": "y8",
         "type": "bar"
        },
        {
         "alignmentgroup": "True",
         "error_y": {
          "array": [
           0.0333195510007859,
           0.03943904744131,
           0.0357456607111276,
           0.0273452465320244,
           0.0163876209988077
          ],
          "arrayminus": [
           0.0280264956610216,
           0.033793047933739,
           0.0296706868421396,
           0.0219021368936365,
           0.0119201423692238
          ]
         },
         "hovertemplate": "<b>Tipos hogar</b>=extenso biparental<br>anio=1994<br>quintil=%{x}<br>Hogares(%)=%{text}<extra></extra>",
         "legendgroup": "extenso biparental",
         "marker": {
          "color": "#ab63fa",
          "pattern": {
           "shape": ""
          }
         },
         "name": "extenso biparental",
         "offsetgroup": "extenso biparental",
         "orientation": "v",
         "showlegend": false,
         "text": [
          3.1,
          3.7,
          3.3,
          2.4,
          1.4
         ],
         "textposition": "auto",
         "x": [
          "I",
          "II",
          "III",
          "IV",
          "V"
         ],
         "xaxis": "x9",
         "y": [
          3.1,
          3.7,
          3.3,
          2.4,
          1.4
         ],
         "yaxis": "y9",
         "type": "bar"
        },
        {
         "alignmentgroup": "True",
         "error_y": {
          "array": [
           0.0354984487245619,
           0.0433342670713665,
           0.0345813609532554,
           0.0302796551463178,
           0.0151461235530264
          ],
          "arrayminus": [
           0.0289466143956625,
           0.0343471501989582,
           0.0275154377300443,
           0.0231819014740566,
           0.0102162872202649
          ]
         },
         "hovertemplate": "<b>Tipos hogar</b>=extenso biparental<br>anio=1996<br>quintil=%{x}<br>Hogares(%)=%{text}<extra></extra>",
         "legendgroup": "extenso biparental",
         "marker": {
          "color": "#ab63fa",
          "pattern": {
           "shape": ""
          }
         },
         "name": "extenso biparental",
         "offsetgroup": "extenso biparental",
         "orientation": "v",
         "showlegend": false,
         "text": [
          3.2,
          3.9,
          3.1,
          2.7,
          1.2
         ],
         "textposition": "auto",
         "x": [
          "I",
          "II",
          "III",
          "IV",
          "V"
         ],
         "xaxis": "x10",
         "y": [
          3.2,
          3.9,
          3.1,
          2.7,
          1.2
         ],
         "yaxis": "y10",
         "type": "bar"
        },
        {
         "alignmentgroup": "True",
         "error_y": {
          "array": [
           0.0351258027424726,
           0.0408967196843101,
           0.0336291481345443,
           0.0305815034443055,
           0.0130666369842251
          ],
          "arrayminus": [
           0.0298391814188621,
           0.0350097989116494,
           0.0282189402546505,
           0.0245863740920831,
           0.0090576903280783
          ]
         },
         "hovertemplate": "<b>Tipos hogar</b>=extenso biparental<br>anio=1998<br>quintil=%{x}<br>Hogares(%)=%{text}<extra></extra>",
         "legendgroup": "extenso biparental",
         "marker": {
          "color": "#ab63fa",
          "pattern": {
           "shape": ""
          }
         },
         "name": "extenso biparental",
         "offsetgroup": "extenso biparental",
         "orientation": "v",
         "showlegend": false,
         "text": [
          3.2,
          3.8,
          3.1,
          2.7,
          1.1
         ],
         "textposition": "auto",
         "x": [
          "I",
          "II",
          "III",
          "IV",
          "V"
         ],
         "xaxis": "x11",
         "y": [
          3.2,
          3.8,
          3.1,
          2.7,
          1.1
         ],
         "yaxis": "y11",
         "type": "bar"
        },
        {
         "alignmentgroup": "True",
         "error_y": {
          "array": [
           0.0402624699846626,
           0.044302679588962,
           0.0347885299229091,
           0.0281375312406183,
           0.0131291642632393
          ],
          "arrayminus": [
           0.0346246996191928,
           0.0383559415498331,
           0.0292259832437273,
           0.0228181637820288,
           0.0091956092187035
          ]
         },
         "hovertemplate": "<b>Tipos hogar</b>=extenso biparental<br>anio=2000<br>quintil=%{x}<br>Hogares(%)=%{text}<extra></extra>",
         "legendgroup": "extenso biparental",
         "marker": {
          "color": "#ab63fa",
          "pattern": {
           "shape": ""
          }
         },
         "name": "extenso biparental",
         "offsetgroup": "extenso biparental",
         "orientation": "v",
         "showlegend": false,
         "text": [
          3.7,
          4.1,
          3.2,
          2.5,
          1.1
         ],
         "textposition": "auto",
         "x": [
          "I",
          "II",
          "III",
          "IV",
          "V"
         ],
         "xaxis": "x12",
         "y": [
          3.7,
          4.1,
          3.2,
          2.5,
          1.1
         ],
         "yaxis": "y12",
         "type": "bar"
        },
        {
         "alignmentgroup": "True",
         "error_y": {
          "array": [
           0.0406361815725717,
           0.0457134891168417,
           0.0403443188578053,
           0.0326617532339455,
           0.0138944128142979
          ],
          "arrayminus": [
           0.035005081863116,
           0.0388552011858732,
           0.0343985474483816,
           0.0264368062977792,
           0.0097697231693424
          ]
         },
         "hovertemplate": "<b>Tipos hogar</b>=extenso biparental<br>anio=2003<br>quintil=%{x}<br>Hogares(%)=%{text}<extra></extra>",
         "legendgroup": "extenso biparental",
         "marker": {
          "color": "#ab63fa",
          "pattern": {
           "shape": ""
          }
         },
         "name": "extenso biparental",
         "offsetgroup": "extenso biparental",
         "orientation": "v",
         "showlegend": false,
         "text": [
          3.8,
          4.2,
          3.7,
          2.9,
          1.2
         ],
         "textposition": "auto",
         "x": [
          "I",
          "II",
          "III",
          "IV",
          "V"
         ],
         "xaxis": "x",
         "y": [
          3.8,
          4.2,
          3.7,
          2.9,
          1.2
         ],
         "yaxis": "y",
         "type": "bar"
        },
        {
         "alignmentgroup": "True",
         "error_y": {
          "array": [
           0.0358607706990566,
           0.042910867467588,
           0.0382322544347941,
           0.0330781862686038,
           0.0158534970570128
          ],
          "arrayminus": [
           0.0304891348551575,
           0.0369317585730012,
           0.032542724991744,
           0.0264480562374275,
           0.0103324140743623
          ]
         },
         "hovertemplate": "<b>Tipos hogar</b>=extenso biparental<br>anio=2009<br>quintil=%{x}<br>Hogares(%)=%{text}<extra></extra>",
         "legendgroup": "extenso biparental",
         "marker": {
          "color": "#ab63fa",
          "pattern": {
           "shape": ""
          }
         },
         "name": "extenso biparental",
         "offsetgroup": "extenso biparental",
         "orientation": "v",
         "showlegend": false,
         "text": [
          3.3,
          4.0,
          3.5,
          3.0,
          1.3
         ],
         "textposition": "auto",
         "x": [
          "I",
          "II",
          "III",
          "IV",
          "V"
         ],
         "xaxis": "x2",
         "y": [
          3.3,
          4.0,
          3.5,
          3.0,
          1.3
         ],
         "yaxis": "y2",
         "type": "bar"
        },
        {
         "alignmentgroup": "True",
         "error_y": {
          "array": [
           0.0399473335641999,
           0.0508328289279155,
           0.046432289239039,
           0.0301443211452473,
           0.0147782433765214
          ],
          "arrayminus": [
           0.0320194606771147,
           0.0416754764379284,
           0.0384003213059814,
           0.0242651581091033,
           0.0104121580134277
          ]
         },
         "hovertemplate": "<b>Tipos hogar</b>=extenso biparental<br>anio=2013<br>quintil=%{x}<br>Hogares(%)=%{text}<extra></extra>",
         "legendgroup": "extenso biparental",
         "marker": {
          "color": "#ab63fa",
          "pattern": {
           "shape": ""
          }
         },
         "name": "extenso biparental",
         "offsetgroup": "extenso biparental",
         "orientation": "v",
         "showlegend": false,
         "text": [
          3.6,
          4.6,
          4.2,
          2.7,
          1.2
         ],
         "textposition": "auto",
         "x": [
          "I",
          "II",
          "III",
          "IV",
          "V"
         ],
         "xaxis": "x3",
         "y": [
          3.6,
          4.6,
          4.2,
          2.7,
          1.2
         ],
         "yaxis": "y3",
         "type": "bar"
        },
        {
         "alignmentgroup": "True",
         "error_y": {
          "array": [
           0.0387171147930886,
           0.0508569182368858,
           0.0449067404700995,
           0.0321230440664495,
           0.0155000158445551
          ],
          "arrayminus": [
           0.0335284170626357,
           0.0450232442688201,
           0.0392136882251607,
           0.0269030488734167,
           0.0118233617707367
          ]
         },
         "hovertemplate": "<b>Tipos hogar</b>=extenso biparental<br>anio=2015<br>quintil=%{x}<br>Hogares(%)=%{text}<extra></extra>",
         "legendgroup": "extenso biparental",
         "marker": {
          "color": "#ab63fa",
          "pattern": {
           "shape": ""
          }
         },
         "name": "extenso biparental",
         "offsetgroup": "extenso biparental",
         "orientation": "v",
         "showlegend": false,
         "text": [
          3.6,
          4.8,
          4.2,
          2.9,
          1.4
         ],
         "textposition": "auto",
         "x": [
          "I",
          "II",
          "III",
          "IV",
          "V"
         ],
         "xaxis": "x4",
         "y": [
          3.6,
          4.8,
          4.2,
          2.9,
          1.4
         ],
         "yaxis": "y4",
         "type": "bar"
        },
        {
         "alignmentgroup": "True",
         "error_y": {
          "array": [
           0.036177875187912,
           0.0509252814033731,
           0.0411764283047597,
           0.0282820929367085,
           0.012481516702413
          ],
          "arrayminus": [
           0.0312839227987648,
           0.0446315511745496,
           0.0351359918259897,
           0.0226840522475423,
           0.0091191011995891
          ]
         },
         "hovertemplate": "<b>Tipos hogar</b>=extenso biparental<br>anio=2017<br>quintil=%{x}<br>Hogares(%)=%{text}<extra></extra>",
         "legendgroup": "extenso biparental",
         "marker": {
          "color": "#ab63fa",
          "pattern": {
           "shape": ""
          }
         },
         "name": "extenso biparental",
         "offsetgroup": "extenso biparental",
         "orientation": "v",
         "showlegend": false,
         "text": [
          3.4,
          4.8,
          3.8,
          2.5,
          1.1
         ],
         "textposition": "auto",
         "x": [
          "I",
          "II",
          "III",
          "IV",
          "V"
         ],
         "xaxis": "x5",
         "y": [
          3.4,
          4.8,
          3.8,
          2.5,
          1.1
         ],
         "yaxis": "y5",
         "type": "bar"
        },
        {
         "alignmentgroup": "True",
         "error_y": {
          "array": [
           0.0294942436962532,
           0.0414730459234838,
           0.0366600962220746,
           0.024344314025268,
           0.0132204813066389
          ],
          "arrayminus": [
           0.0241829492878466,
           0.0357562613127573,
           0.0306003915092268,
           0.0196645323191856,
           0.0097376698930263
          ]
         },
         "hovertemplate": "<b>Tipos hogar</b>=extenso biparental<br>anio=2020<br>quintil=%{x}<br>Hogares(%)=%{text}<extra></extra>",
         "legendgroup": "extenso biparental",
         "marker": {
          "color": "#ab63fa",
          "pattern": {
           "shape": ""
          }
         },
         "name": "extenso biparental",
         "offsetgroup": "extenso biparental",
         "orientation": "v",
         "showlegend": false,
         "text": [
          2.7,
          3.9,
          3.3,
          2.2,
          1.1
         ],
         "textposition": "auto",
         "x": [
          "I",
          "II",
          "III",
          "IV",
          "V"
         ],
         "xaxis": "x6",
         "y": [
          2.7,
          3.9,
          3.3,
          2.2,
          1.1
         ],
         "yaxis": "y6",
         "type": "bar"
        }
       ],
       "layout": {
        "template": {
         "data": {
          "barpolar": [
           {
            "marker": {
             "line": {
              "color": "#E5ECF6",
              "width": 0.5
             },
             "pattern": {
              "fillmode": "overlay",
              "size": 10,
              "solidity": 0.2
             }
            },
            "type": "barpolar"
           }
          ],
          "bar": [
           {
            "error_x": {
             "color": "#2a3f5f"
            },
            "error_y": {
             "color": "#2a3f5f"
            },
            "marker": {
             "line": {
              "color": "#E5ECF6",
              "width": 0.5
             },
             "pattern": {
              "fillmode": "overlay",
              "size": 10,
              "solidity": 0.2
             }
            },
            "type": "bar"
           }
          ],
          "carpet": [
           {
            "aaxis": {
             "endlinecolor": "#2a3f5f",
             "gridcolor": "white",
             "linecolor": "white",
             "minorgridcolor": "white",
             "startlinecolor": "#2a3f5f"
            },
            "baxis": {
             "endlinecolor": "#2a3f5f",
             "gridcolor": "white",
             "linecolor": "white",
             "minorgridcolor": "white",
             "startlinecolor": "#2a3f5f"
            },
            "type": "carpet"
           }
          ],
          "choropleth": [
           {
            "colorbar": {
             "outlinewidth": 0,
             "ticks": ""
            },
            "type": "choropleth"
           }
          ],
          "contourcarpet": [
           {
            "colorbar": {
             "outlinewidth": 0,
             "ticks": ""
            },
            "type": "contourcarpet"
           }
          ],
          "contour": [
           {
            "colorbar": {
             "outlinewidth": 0,
             "ticks": ""
            },
            "colorscale": [
             [
              0.0,
              "#0d0887"
             ],
             [
              0.1111111111111111,
              "#46039f"
             ],
             [
              0.2222222222222222,
              "#7201a8"
             ],
             [
              0.3333333333333333,
              "#9c179e"
             ],
             [
              0.4444444444444444,
              "#bd3786"
             ],
             [
              0.5555555555555556,
              "#d8576b"
             ],
             [
              0.6666666666666666,
              "#ed7953"
             ],
             [
              0.7777777777777778,
              "#fb9f3a"
             ],
             [
              0.8888888888888888,
              "#fdca26"
             ],
             [
              1.0,
              "#f0f921"
             ]
            ],
            "type": "contour"
           }
          ],
          "heatmapgl": [
           {
            "colorbar": {
             "outlinewidth": 0,
             "ticks": ""
            },
            "colorscale": [
             [
              0.0,
              "#0d0887"
             ],
             [
              0.1111111111111111,
              "#46039f"
             ],
             [
              0.2222222222222222,
              "#7201a8"
             ],
             [
              0.3333333333333333,
              "#9c179e"
             ],
             [
              0.4444444444444444,
              "#bd3786"
             ],
             [
              0.5555555555555556,
              "#d8576b"
             ],
             [
              0.6666666666666666,
              "#ed7953"
             ],
             [
              0.7777777777777778,
              "#fb9f3a"
             ],
             [
              0.8888888888888888,
              "#fdca26"
             ],
             [
              1.0,
              "#f0f921"
             ]
            ],
            "type": "heatmapgl"
           }
          ],
          "heatmap": [
           {
            "colorbar": {
             "outlinewidth": 0,
             "ticks": ""
            },
            "colorscale": [
             [
              0.0,
              "#0d0887"
             ],
             [
              0.1111111111111111,
              "#46039f"
             ],
             [
              0.2222222222222222,
              "#7201a8"
             ],
             [
              0.3333333333333333,
              "#9c179e"
             ],
             [
              0.4444444444444444,
              "#bd3786"
             ],
             [
              0.5555555555555556,
              "#d8576b"
             ],
             [
              0.6666666666666666,
              "#ed7953"
             ],
             [
              0.7777777777777778,
              "#fb9f3a"
             ],
             [
              0.8888888888888888,
              "#fdca26"
             ],
             [
              1.0,
              "#f0f921"
             ]
            ],
            "type": "heatmap"
           }
          ],
          "histogram2dcontour": [
           {
            "colorbar": {
             "outlinewidth": 0,
             "ticks": ""
            },
            "colorscale": [
             [
              0.0,
              "#0d0887"
             ],
             [
              0.1111111111111111,
              "#46039f"
             ],
             [
              0.2222222222222222,
              "#7201a8"
             ],
             [
              0.3333333333333333,
              "#9c179e"
             ],
             [
              0.4444444444444444,
              "#bd3786"
             ],
             [
              0.5555555555555556,
              "#d8576b"
             ],
             [
              0.6666666666666666,
              "#ed7953"
             ],
             [
              0.7777777777777778,
              "#fb9f3a"
             ],
             [
              0.8888888888888888,
              "#fdca26"
             ],
             [
              1.0,
              "#f0f921"
             ]
            ],
            "type": "histogram2dcontour"
           }
          ],
          "histogram2d": [
           {
            "colorbar": {
             "outlinewidth": 0,
             "ticks": ""
            },
            "colorscale": [
             [
              0.0,
              "#0d0887"
             ],
             [
              0.1111111111111111,
              "#46039f"
             ],
             [
              0.2222222222222222,
              "#7201a8"
             ],
             [
              0.3333333333333333,
              "#9c179e"
             ],
             [
              0.4444444444444444,
              "#bd3786"
             ],
             [
              0.5555555555555556,
              "#d8576b"
             ],
             [
              0.6666666666666666,
              "#ed7953"
             ],
             [
              0.7777777777777778,
              "#fb9f3a"
             ],
             [
              0.8888888888888888,
              "#fdca26"
             ],
             [
              1.0,
              "#f0f921"
             ]
            ],
            "type": "histogram2d"
           }
          ],
          "histogram": [
           {
            "marker": {
             "pattern": {
              "fillmode": "overlay",
              "size": 10,
              "solidity": 0.2
             }
            },
            "type": "histogram"
           }
          ],
          "mesh3d": [
           {
            "colorbar": {
             "outlinewidth": 0,
             "ticks": ""
            },
            "type": "mesh3d"
           }
          ],
          "parcoords": [
           {
            "line": {
             "colorbar": {
              "outlinewidth": 0,
              "ticks": ""
             }
            },
            "type": "parcoords"
           }
          ],
          "pie": [
           {
            "automargin": true,
            "type": "pie"
           }
          ],
          "scatter3d": [
           {
            "line": {
             "colorbar": {
              "outlinewidth": 0,
              "ticks": ""
             }
            },
            "marker": {
             "colorbar": {
              "outlinewidth": 0,
              "ticks": ""
             }
            },
            "type": "scatter3d"
           }
          ],
          "scattercarpet": [
           {
            "marker": {
             "colorbar": {
              "outlinewidth": 0,
              "ticks": ""
             }
            },
            "type": "scattercarpet"
           }
          ],
          "scattergeo": [
           {
            "marker": {
             "colorbar": {
              "outlinewidth": 0,
              "ticks": ""
             }
            },
            "type": "scattergeo"
           }
          ],
          "scattergl": [
           {
            "marker": {
             "colorbar": {
              "outlinewidth": 0,
              "ticks": ""
             }
            },
            "type": "scattergl"
           }
          ],
          "scattermapbox": [
           {
            "marker": {
             "colorbar": {
              "outlinewidth": 0,
              "ticks": ""
             }
            },
            "type": "scattermapbox"
           }
          ],
          "scatterpolargl": [
           {
            "marker": {
             "colorbar": {
              "outlinewidth": 0,
              "ticks": ""
             }
            },
            "type": "scatterpolargl"
           }
          ],
          "scatterpolar": [
           {
            "marker": {
             "colorbar": {
              "outlinewidth": 0,
              "ticks": ""
             }
            },
            "type": "scatterpolar"
           }
          ],
          "scatter": [
           {
            "marker": {
             "colorbar": {
              "outlinewidth": 0,
              "ticks": ""
             }
            },
            "type": "scatter"
           }
          ],
          "scatterternary": [
           {
            "marker": {
             "colorbar": {
              "outlinewidth": 0,
              "ticks": ""
             }
            },
            "type": "scatterternary"
           }
          ],
          "surface": [
           {
            "colorbar": {
             "outlinewidth": 0,
             "ticks": ""
            },
            "colorscale": [
             [
              0.0,
              "#0d0887"
             ],
             [
              0.1111111111111111,
              "#46039f"
             ],
             [
              0.2222222222222222,
              "#7201a8"
             ],
             [
              0.3333333333333333,
              "#9c179e"
             ],
             [
              0.4444444444444444,
              "#bd3786"
             ],
             [
              0.5555555555555556,
              "#d8576b"
             ],
             [
              0.6666666666666666,
              "#ed7953"
             ],
             [
              0.7777777777777778,
              "#fb9f3a"
             ],
             [
              0.8888888888888888,
              "#fdca26"
             ],
             [
              1.0,
              "#f0f921"
             ]
            ],
            "type": "surface"
           }
          ],
          "table": [
           {
            "cells": {
             "fill": {
              "color": "#EBF0F8"
             },
             "line": {
              "color": "white"
             }
            },
            "header": {
             "fill": {
              "color": "#C8D4E3"
             },
             "line": {
              "color": "white"
             }
            },
            "type": "table"
           }
          ]
         },
         "layout": {
          "annotationdefaults": {
           "arrowcolor": "#2a3f5f",
           "arrowhead": 0,
           "arrowwidth": 1
          },
          "autotypenumbers": "strict",
          "coloraxis": {
           "colorbar": {
            "outlinewidth": 0,
            "ticks": ""
           }
          },
          "colorscale": {
           "diverging": [
            [
             0,
             "#8e0152"
            ],
            [
             0.1,
             "#c51b7d"
            ],
            [
             0.2,
             "#de77ae"
            ],
            [
             0.3,
             "#f1b6da"
            ],
            [
             0.4,
             "#fde0ef"
            ],
            [
             0.5,
             "#f7f7f7"
            ],
            [
             0.6,
             "#e6f5d0"
            ],
            [
             0.7,
             "#b8e186"
            ],
            [
             0.8,
             "#7fbc41"
            ],
            [
             0.9,
             "#4d9221"
            ],
            [
             1,
             "#276419"
            ]
           ],
           "sequential": [
            [
             0.0,
             "#0d0887"
            ],
            [
             0.1111111111111111,
             "#46039f"
            ],
            [
             0.2222222222222222,
             "#7201a8"
            ],
            [
             0.3333333333333333,
             "#9c179e"
            ],
            [
             0.4444444444444444,
             "#bd3786"
            ],
            [
             0.5555555555555556,
             "#d8576b"
            ],
            [
             0.6666666666666666,
             "#ed7953"
            ],
            [
             0.7777777777777778,
             "#fb9f3a"
            ],
            [
             0.8888888888888888,
             "#fdca26"
            ],
            [
             1.0,
             "#f0f921"
            ]
           ],
           "sequentialminus": [
            [
             0.0,
             "#0d0887"
            ],
            [
             0.1111111111111111,
             "#46039f"
            ],
            [
             0.2222222222222222,
             "#7201a8"
            ],
            [
             0.3333333333333333,
             "#9c179e"
            ],
            [
             0.4444444444444444,
             "#bd3786"
            ],
            [
             0.5555555555555556,
             "#d8576b"
            ],
            [
             0.6666666666666666,
             "#ed7953"
            ],
            [
             0.7777777777777778,
             "#fb9f3a"
            ],
            [
             0.8888888888888888,
             "#fdca26"
            ],
            [
             1.0,
             "#f0f921"
            ]
           ]
          },
          "colorway": [
           "#636efa",
           "#EF553B",
           "#00cc96",
           "#ab63fa",
           "#FFA15A",
           "#19d3f3",
           "#FF6692",
           "#B6E880",
           "#FF97FF",
           "#FECB52"
          ],
          "font": {
           "color": "#2a3f5f"
          },
          "geo": {
           "bgcolor": "white",
           "lakecolor": "white",
           "landcolor": "#E5ECF6",
           "showlakes": true,
           "showland": true,
           "subunitcolor": "white"
          },
          "hoverlabel": {
           "align": "left"
          },
          "hovermode": "closest",
          "mapbox": {
           "style": "light"
          },
          "paper_bgcolor": "white",
          "plot_bgcolor": "#E5ECF6",
          "polar": {
           "angularaxis": {
            "gridcolor": "white",
            "linecolor": "white",
            "ticks": ""
           },
           "bgcolor": "#E5ECF6",
           "radialaxis": {
            "gridcolor": "white",
            "linecolor": "white",
            "ticks": ""
           }
          },
          "scene": {
           "xaxis": {
            "backgroundcolor": "#E5ECF6",
            "gridcolor": "white",
            "gridwidth": 2,
            "linecolor": "white",
            "showbackground": true,
            "ticks": "",
            "zerolinecolor": "white"
           },
           "yaxis": {
            "backgroundcolor": "#E5ECF6",
            "gridcolor": "white",
            "gridwidth": 2,
            "linecolor": "white",
            "showbackground": true,
            "ticks": "",
            "zerolinecolor": "white"
           },
           "zaxis": {
            "backgroundcolor": "#E5ECF6",
            "gridcolor": "white",
            "gridwidth": 2,
            "linecolor": "white",
            "showbackground": true,
            "ticks": "",
            "zerolinecolor": "white"
           }
          },
          "shapedefaults": {
           "line": {
            "color": "#2a3f5f"
           }
          },
          "ternary": {
           "aaxis": {
            "gridcolor": "white",
            "linecolor": "white",
            "ticks": ""
           },
           "baxis": {
            "gridcolor": "white",
            "linecolor": "white",
            "ticks": ""
           },
           "bgcolor": "#E5ECF6",
           "caxis": {
            "gridcolor": "white",
            "linecolor": "white",
            "ticks": ""
           }
          },
          "title": {
           "x": 0.05
          },
          "xaxis": {
           "automargin": true,
           "gridcolor": "white",
           "linecolor": "white",
           "ticks": "",
           "title": {
            "standoff": 15
           },
           "zerolinecolor": "white",
           "zerolinewidth": 2
          },
          "yaxis": {
           "automargin": true,
           "gridcolor": "white",
           "linecolor": "white",
           "ticks": "",
           "title": {
            "standoff": 15
           },
           "zerolinecolor": "white",
           "zerolinewidth": 2
          }
         }
        },
        "xaxis": {
         "anchor": "y",
         "domain": [
          0.0,
          0.15
         ],
         "title": {},
         "showgrid": true,
         "tickangle": 90
        },
        "yaxis": {
         "anchor": "x",
         "domain": [
          0.0,
          0.46499999999999997
         ],
         "title": {
          "text": "Hogares(%)",
          "font": {
           "size": 10
          },
          "standoff": 8
         }
        },
        "xaxis2": {
         "anchor": "y2",
         "domain": [
          0.16999999999999998,
          0.31999999999999995
         ],
         "matches": "x",
         "title": {},
         "showgrid": true,
         "tickangle": 90
        },
        "yaxis2": {
         "anchor": "x2",
         "domain": [
          0.0,
          0.46499999999999997
         ],
         "matches": "y",
         "showticklabels": false,
         "title": {
          "font": {
           "size": 10
          },
          "standoff": 8
         }
        },
        "xaxis3": {
         "anchor": "y3",
         "domain": [
          0.33999999999999997,
          0.49
         ],
         "matches": "x",
         "title": {},
         "showgrid": true,
         "tickangle": 90
        },
        "yaxis3": {
         "anchor": "x3",
         "domain": [
          0.0,
          0.46499999999999997
         ],
         "matches": "y",
         "showticklabels": false,
         "title": {
          "font": {
           "size": 10
          },
          "standoff": 8
         }
        },
        "xaxis4": {
         "anchor": "y4",
         "domain": [
          0.51,
          0.66
         ],
         "matches": "x",
         "title": {},
         "showgrid": true,
         "tickangle": 90
        },
        "yaxis4": {
         "anchor": "x4",
         "domain": [
          0.0,
          0.46499999999999997
         ],
         "matches": "y",
         "showticklabels": false,
         "title": {
          "font": {
           "size": 10
          },
          "standoff": 8
         }
        },
        "xaxis5": {
         "anchor": "y5",
         "domain": [
          0.6799999999999999,
          0.83
         ],
         "matches": "x",
         "title": {},
         "showgrid": true,
         "tickangle": 90
        },
        "yaxis5": {
         "anchor": "x5",
         "domain": [
          0.0,
          0.46499999999999997
         ],
         "matches": "y",
         "showticklabels": false,
         "title": {
          "font": {
           "size": 10
          },
          "standoff": 8
         }
        },
        "xaxis6": {
         "anchor": "y6",
         "domain": [
          0.85,
          1.0
         ],
         "matches": "x",
         "title": {},
         "showgrid": true,
         "tickangle": 90
        },
        "yaxis6": {
         "anchor": "x6",
         "domain": [
          0.0,
          0.46499999999999997
         ],
         "matches": "y",
         "showticklabels": false,
         "title": {
          "font": {
           "size": 10
          },
          "standoff": 8
         }
        },
        "xaxis7": {
         "anchor": "y7",
         "domain": [
          0.0,
          0.15
         ],
         "matches": "x",
         "showticklabels": false,
         "title": {},
         "showgrid": true,
         "tickangle": 90
        },
        "yaxis7": {
         "anchor": "x7",
         "domain": [
          0.5349999999999999,
          0.9999999999999999
         ],
         "matches": "y",
         "title": {
          "text": "Hogares(%)",
          "font": {
           "size": 10
          },
          "standoff": 8
         }
        },
        "xaxis8": {
         "anchor": "y8",
         "domain": [
          0.16999999999999998,
          0.31999999999999995
         ],
         "matches": "x",
         "showticklabels": false,
         "title": {},
         "showgrid": true,
         "tickangle": 90
        },
        "yaxis8": {
         "anchor": "x8",
         "domain": [
          0.5349999999999999,
          0.9999999999999999
         ],
         "matches": "y",
         "showticklabels": false,
         "title": {
          "font": {
           "size": 10
          },
          "standoff": 8
         }
        },
        "xaxis9": {
         "anchor": "y9",
         "domain": [
          0.33999999999999997,
          0.49
         ],
         "matches": "x",
         "showticklabels": false,
         "title": {},
         "showgrid": true,
         "tickangle": 90
        },
        "yaxis9": {
         "anchor": "x9",
         "domain": [
          0.5349999999999999,
          0.9999999999999999
         ],
         "matches": "y",
         "showticklabels": false,
         "title": {
          "font": {
           "size": 10
          },
          "standoff": 8
         }
        },
        "xaxis10": {
         "anchor": "y10",
         "domain": [
          0.51,
          0.66
         ],
         "matches": "x",
         "showticklabels": false,
         "title": {},
         "showgrid": true,
         "tickangle": 90
        },
        "yaxis10": {
         "anchor": "x10",
         "domain": [
          0.5349999999999999,
          0.9999999999999999
         ],
         "matches": "y",
         "showticklabels": false,
         "title": {
          "font": {
           "size": 10
          },
          "standoff": 8
         }
        },
        "xaxis11": {
         "anchor": "y11",
         "domain": [
          0.6799999999999999,
          0.83
         ],
         "matches": "x",
         "showticklabels": false,
         "title": {},
         "showgrid": true,
         "tickangle": 90
        },
        "yaxis11": {
         "anchor": "x11",
         "domain": [
          0.5349999999999999,
          0.9999999999999999
         ],
         "matches": "y",
         "showticklabels": false,
         "title": {
          "font": {
           "size": 10
          },
          "standoff": 8
         }
        },
        "xaxis12": {
         "anchor": "y12",
         "domain": [
          0.85,
          1.0
         ],
         "matches": "x",
         "showticklabels": false,
         "title": {},
         "showgrid": true,
         "tickangle": 90
        },
        "yaxis12": {
         "anchor": "x12",
         "domain": [
          0.5349999999999999,
          0.9999999999999999
         ],
         "matches": "y",
         "showticklabels": false,
         "title": {
          "font": {
           "size": 10
          },
          "standoff": 8
         }
        },
        "annotations": [
         {
          "font": {},
          "showarrow": false,
          "text": "2003",
          "x": 0.075,
          "xanchor": "center",
          "xref": "paper",
          "y": 0.46499999999999997,
          "yanchor": "bottom",
          "yref": "paper"
         },
         {
          "font": {},
          "showarrow": false,
          "text": "2009",
          "x": 0.24499999999999997,
          "xanchor": "center",
          "xref": "paper",
          "y": 0.46499999999999997,
          "yanchor": "bottom",
          "yref": "paper"
         },
         {
          "font": {},
          "showarrow": false,
          "text": "2013",
          "x": 0.415,
          "xanchor": "center",
          "xref": "paper",
          "y": 0.46499999999999997,
          "yanchor": "bottom",
          "yref": "paper"
         },
         {
          "font": {},
          "showarrow": false,
          "text": "2015",
          "x": 0.585,
          "xanchor": "center",
          "xref": "paper",
          "y": 0.46499999999999997,
          "yanchor": "bottom",
          "yref": "paper"
         },
         {
          "font": {},
          "showarrow": false,
          "text": "2017",
          "x": 0.7549999999999999,
          "xanchor": "center",
          "xref": "paper",
          "y": 0.46499999999999997,
          "yanchor": "bottom",
          "yref": "paper"
         },
         {
          "font": {},
          "showarrow": false,
          "text": "2020",
          "x": 0.925,
          "xanchor": "center",
          "xref": "paper",
          "y": 0.46499999999999997,
          "yanchor": "bottom",
          "yref": "paper"
         },
         {
          "font": {},
          "showarrow": false,
          "text": "1990",
          "x": 0.075,
          "xanchor": "center",
          "xref": "paper",
          "y": 0.9999999999999999,
          "yanchor": "bottom",
          "yref": "paper"
         },
         {
          "font": {},
          "showarrow": false,
          "text": "1992",
          "x": 0.24499999999999997,
          "xanchor": "center",
          "xref": "paper",
          "y": 0.9999999999999999,
          "yanchor": "bottom",
          "yref": "paper"
         },
         {
          "font": {},
          "showarrow": false,
          "text": "1994",
          "x": 0.415,
          "xanchor": "center",
          "xref": "paper",
          "y": 0.9999999999999999,
          "yanchor": "bottom",
          "yref": "paper"
         },
         {
          "font": {},
          "showarrow": false,
          "text": "1996",
          "x": 0.585,
          "xanchor": "center",
          "xref": "paper",
          "y": 0.9999999999999999,
          "yanchor": "bottom",
          "yref": "paper"
         },
         {
          "font": {},
          "showarrow": false,
          "text": "1998",
          "x": 0.7549999999999999,
          "xanchor": "center",
          "xref": "paper",
          "y": 0.9999999999999999,
          "yanchor": "bottom",
          "yref": "paper"
         },
         {
          "font": {},
          "showarrow": false,
          "text": "2000",
          "x": 0.925,
          "xanchor": "center",
          "xref": "paper",
          "y": 0.9999999999999999,
          "yanchor": "bottom",
          "yref": "paper"
         }
        ],
        "legend": {
         "title": {
          "text": "<b>Tipos hogar</b>"
         },
         "tracegroupgap": 0,
         "orientation": "h",
         "y": 1.2,
         "yanchor": "bottom",
         "x": 0.4,
         "xanchor": "center"
        },
        "margin": {
         "t": 250
        },
        "barmode": "group",
        "title": {
         "text": "<b>Distribución de tipología estructural de hogares, según quintiles de ingresos"
        },
        "height": 600
       },
       "config": {
        "plotlyServerURL": "https://plot.ly"
       }
      },
      "text/html": "<div>                            <div id=\"5ad70fb9-057c-43e6-a9e9-3a3d62b38650\" class=\"plotly-graph-div\" style=\"height:600px; width:100%;\"></div>            <script type=\"text/javascript\">                require([\"plotly\"], function(Plotly) {                    window.PLOTLYENV=window.PLOTLYENV || {};                                    if (document.getElementById(\"5ad70fb9-057c-43e6-a9e9-3a3d62b38650\")) {                    Plotly.newPlot(                        \"5ad70fb9-057c-43e6-a9e9-3a3d62b38650\",                        [{\"alignmentgroup\":\"True\",\"error_y\":{\"array\":[0.034499242716676,0.0282705818993319,0.0199371392185063,0.0136850746321723,0.0124924002664283],\"arrayminus\":[0.0283355993113886,0.0224598424821369,0.0151703179299269,0.0096880635799017,0.0084288228675781]},\"hovertemplate\":\"<b>Tipos hogar</b>=nuclear monoparental<br>anio=1990<br>quintil=%{x}<br>Hogares(%)=%{text}<extra></extra>\",\"legendgroup\":\"nuclear monoparental\",\"marker\":{\"color\":\"#636efa\",\"pattern\":{\"shape\":\"\"}},\"name\":\"nuclear monoparental\",\"offsetgroup\":\"nuclear monoparental\",\"orientation\":\"v\",\"showlegend\":true,\"text\":[3.1,2.5,1.7,1.2,1.0],\"textposition\":\"auto\",\"x\":[\"I\",\"II\",\"III\",\"IV\",\"V\"],\"xaxis\":\"x7\",\"y\":[3.1,2.5,1.7,1.2,1.0],\"yaxis\":\"y7\",\"type\":\"bar\"},{\"alignmentgroup\":\"True\",\"error_y\":{\"array\":[0.0363436261446841,0.0264912491904518,0.0243804320914676,0.0168509338439787,0.0131920834487408],\"arrayminus\":[0.0306112075902085,0.0214060636376285,0.0194829721153649,0.0127331778283691,0.0093708229740007]},\"hovertemplate\":\"<b>Tipos hogar</b>=nuclear monoparental<br>anio=1992<br>quintil=%{x}<br>Hogares(%)=%{text}<extra></extra>\",\"legendgroup\":\"nuclear monoparental\",\"marker\":{\"color\":\"#636efa\",\"pattern\":{\"shape\":\"\"}},\"name\":\"nuclear monoparental\",\"offsetgroup\":\"nuclear monoparental\",\"orientation\":\"v\",\"showlegend\":false,\"text\":[3.3,2.4,2.2,1.5,1.1],\"textposition\":\"auto\",\"x\":[\"I\",\"II\",\"III\",\"IV\",\"V\"],\"xaxis\":\"x8\",\"y\":[3.3,2.4,2.2,1.5,1.1],\"yaxis\":\"y8\",\"type\":\"bar\"},{\"alignmentgroup\":\"True\",\"error_y\":{\"array\":[0.0358162655770445,0.027023990523244,0.0196272620677938,0.0164766761556761,0.0146783166678223],\"arrayminus\":[0.0301772663267184,0.0221553104996282,0.0153724251720894,0.0121997825701088,0.0103307807355183]},\"hovertemplate\":\"<b>Tipos hogar</b>=nuclear monoparental<br>anio=1994<br>quintil=%{x}<br>Hogares(%)=%{text}<extra></extra>\",\"legendgroup\":\"nuclear monoparental\",\"marker\":{\"color\":\"#636efa\",\"pattern\":{\"shape\":\"\"}},\"name\":\"nuclear monoparental\",\"offsetgroup\":\"nuclear monoparental\",\"orientation\":\"v\",\"showlegend\":false,\"text\":[3.3,2.4,1.7,1.4,1.2],\"textposition\":\"auto\",\"x\":[\"I\",\"II\",\"III\",\"IV\",\"V\"],\"xaxis\":\"x9\",\"y\":[3.3,2.4,1.7,1.4,1.2],\"yaxis\":\"y9\",\"type\":\"bar\"},{\"alignmentgroup\":\"True\",\"error_y\":{\"array\":[0.0341319050158421,0.0225199984768624,0.0193143423447682,0.0129620457977688,0.0145794498491148],\"arrayminus\":[0.0269681161392468,0.0172478167426659,0.0132806930990405,0.0088222915545937,0.009115308980304]},\"hovertemplate\":\"<b>Tipos hogar</b>=nuclear monoparental<br>anio=1996<br>quintil=%{x}<br>Hogares(%)=%{text}<extra></extra>\",\"legendgroup\":\"nuclear monoparental\",\"marker\":{\"color\":\"#636efa\",\"pattern\":{\"shape\":\"\"}},\"name\":\"nuclear monoparental\",\"offsetgroup\":\"nuclear monoparental\",\"orientation\":\"v\",\"showlegend\":false,\"text\":[3.0,2.0,1.6,1.1,1.2],\"textposition\":\"auto\",\"x\":[\"I\",\"II\",\"III\",\"IV\",\"V\"],\"xaxis\":\"x10\",\"y\":[3.0,2.0,1.6,1.1,1.2],\"yaxis\":\"y10\",\"type\":\"bar\"},{\"alignmentgroup\":\"True\",\"error_y\":{\"array\":[0.0320806148430875,0.0246383486375421,0.0197797246081265,0.0186474919963414,0.0160423690253301],\"arrayminus\":[0.0267989516404911,0.0198557720453593,0.0154865774153864,0.01340673724154,0.0108157295925699]},\"hovertemplate\":\"<b>Tipos hogar</b>=nuclear monoparental<br>anio=1998<br>quintil=%{x}<br>Hogares(%)=%{text}<extra></extra>\",\"legendgroup\":\"nuclear monoparental\",\"marker\":{\"color\":\"#636efa\",\"pattern\":{\"shape\":\"\"}},\"name\":\"nuclear monoparental\",\"offsetgroup\":\"nuclear monoparental\",\"orientation\":\"v\",\"showlegend\":false,\"text\":[2.9,2.2,1.8,1.6,1.3],\"textposition\":\"auto\",\"x\":[\"I\",\"II\",\"III\",\"IV\",\"V\"],\"xaxis\":\"x11\",\"y\":[2.9,2.2,1.8,1.6,1.3],\"yaxis\":\"y11\",\"type\":\"bar\"},{\"alignmentgroup\":\"True\",\"error_y\":{\"array\":[0.0323053897440725,0.022382827776468,0.0182214225579619,0.0160803801371612,0.0165224298307979],\"arrayminus\":[0.026504523089726,0.0180541931543841,0.0139736407825696,0.0117371483307034,0.0108160914508265]},\"hovertemplate\":\"<b>Tipos hogar</b>=nuclear monoparental<br>anio=2000<br>quintil=%{x}<br>Hogares(%)=%{text}<extra></extra>\",\"legendgroup\":\"nuclear monoparental\",\"marker\":{\"color\":\"#636efa\",\"pattern\":{\"shape\":\"\"}},\"name\":\"nuclear monoparental\",\"offsetgroup\":\"nuclear monoparental\",\"orientation\":\"v\",\"showlegend\":false,\"text\":[2.9,2.0,1.6,1.4,1.3],\"textposition\":\"auto\",\"x\":[\"I\",\"II\",\"III\",\"IV\",\"V\"],\"xaxis\":\"x12\",\"y\":[2.9,2.0,1.6,1.4,1.3],\"yaxis\":\"y12\",\"type\":\"bar\"},{\"alignmentgroup\":\"True\",\"error_y\":{\"array\":[0.0372607220871732,0.028273142415445,0.0204789447989795,0.0207506968457762,0.0133839051699733],\"arrayminus\":[0.0319150484741048,0.0232189016446855,0.0156131590519992,0.0154263119356522,0.009009053761906]},\"hovertemplate\":\"<b>Tipos hogar</b>=nuclear monoparental<br>anio=2003<br>quintil=%{x}<br>Hogares(%)=%{text}<extra></extra>\",\"legendgroup\":\"nuclear monoparental\",\"marker\":{\"color\":\"#636efa\",\"pattern\":{\"shape\":\"\"}},\"name\":\"nuclear monoparental\",\"offsetgroup\":\"nuclear monoparental\",\"orientation\":\"v\",\"showlegend\":false,\"text\":[3.4,2.6,1.8,1.8,1.1],\"textposition\":\"auto\",\"x\":[\"I\",\"II\",\"III\",\"IV\",\"V\"],\"xaxis\":\"x\",\"y\":[3.4,2.6,1.8,1.8,1.1],\"yaxis\":\"y\",\"type\":\"bar\"},{\"alignmentgroup\":\"True\",\"error_y\":{\"array\":[0.0591102176454262,0.0430868285219276,0.0330937117883781,0.0240748404336404,0.0189096652213436],\"arrayminus\":[0.0521775992297166,0.0366430347237329,0.0274885462213091,0.0186303860516249,0.012244719066436]},\"hovertemplate\":\"<b>Tipos hogar</b>=nuclear monoparental<br>anio=2009<br>quintil=%{x}<br>Hogares(%)=%{text}<extra></extra>\",\"legendgroup\":\"nuclear monoparental\",\"marker\":{\"color\":\"#636efa\",\"pattern\":{\"shape\":\"\"}},\"name\":\"nuclear monoparental\",\"offsetgroup\":\"nuclear monoparental\",\"orientation\":\"v\",\"showlegend\":false,\"text\":[5.6,4.0,3.0,2.1,1.5],\"textposition\":\"auto\",\"x\":[\"I\",\"II\",\"III\",\"IV\",\"V\"],\"xaxis\":\"x2\",\"y\":[5.6,4.0,3.0,2.1,1.5],\"yaxis\":\"y2\",\"type\":\"bar\"},{\"alignmentgroup\":\"True\",\"error_y\":{\"array\":[0.0720784972047422,0.0541718789009605,0.0434012788101545,0.0250411082029246,0.0175475923088253],\"arrayminus\":[0.0630875994389048,0.046410563266907,0.0320188726137112,0.0176442505494736,0.0116878846082014]},\"hovertemplate\":\"<b>Tipos hogar</b>=nuclear monoparental<br>anio=2013<br>quintil=%{x}<br>Hogares(%)=%{text}<extra></extra>\",\"legendgroup\":\"nuclear monoparental\",\"marker\":{\"color\":\"#636efa\",\"pattern\":{\"shape\":\"\"}},\"name\":\"nuclear monoparental\",\"offsetgroup\":\"nuclear monoparental\",\"orientation\":\"v\",\"showlegend\":false,\"text\":[6.7,5.0,3.7,2.1,1.4],\"textposition\":\"auto\",\"x\":[\"I\",\"II\",\"III\",\"IV\",\"V\"],\"xaxis\":\"x3\",\"y\":[6.7,5.0,3.7,2.1,1.4],\"yaxis\":\"y3\",\"type\":\"bar\"},{\"alignmentgroup\":\"True\",\"error_y\":{\"array\":[0.0697928479690851,0.0520472065128872,0.0385400478727892,0.0252188675732221,0.0148443076779379],\"arrayminus\":[0.0626064618849787,0.0455152555110643,0.0325138666846943,0.0205268043559948,0.0111850780460538]},\"hovertemplate\":\"<b>Tipos hogar</b>=nuclear monoparental<br>anio=2015<br>quintil=%{x}<br>Hogares(%)=%{text}<extra></extra>\",\"legendgroup\":\"nuclear monoparental\",\"marker\":{\"color\":\"#636efa\",\"pattern\":{\"shape\":\"\"}},\"name\":\"nuclear monoparental\",\"offsetgroup\":\"nuclear monoparental\",\"orientation\":\"v\",\"showlegend\":false,\"text\":[6.6,4.9,3.5,2.3,1.3],\"textposition\":\"auto\",\"x\":[\"I\",\"II\",\"III\",\"IV\",\"V\"],\"xaxis\":\"x4\",\"y\":[6.6,4.9,3.5,2.3,1.3],\"yaxis\":\"y4\",\"type\":\"bar\"},{\"alignmentgroup\":\"True\",\"error_y\":{\"array\":[0.0749207269486801,0.0598366613021309,0.0434433671766935,0.030332567375856,0.0162439541134823],\"arrayminus\":[0.0660801652210702,0.0520293923759266,0.0340210090324172,0.0199829131728849,0.0120632687995737]},\"hovertemplate\":\"<b>Tipos hogar</b>=nuclear monoparental<br>anio=2017<br>quintil=%{x}<br>Hogares(%)=%{text}<extra></extra>\",\"legendgroup\":\"nuclear monoparental\",\"marker\":{\"color\":\"#636efa\",\"pattern\":{\"shape\":\"\"}},\"name\":\"nuclear monoparental\",\"offsetgroup\":\"nuclear monoparental\",\"orientation\":\"v\",\"showlegend\":false,\"text\":[7.0,5.6,3.8,2.5,1.4],\"textposition\":\"auto\",\"x\":[\"I\",\"II\",\"III\",\"IV\",\"V\"],\"xaxis\":\"x5\",\"y\":[7.0,5.6,3.8,2.5,1.4],\"yaxis\":\"y5\",\"type\":\"bar\"},{\"alignmentgroup\":\"True\",\"error_y\":{\"array\":[0.0919152859983558,0.0753944595090662,0.053527936337387,0.0393814620424238,0.0201492256936189],\"arrayminus\":[0.0806593125124947,0.0647771195754995,0.0454800031565272,0.0285149975876343,0.0152920386967036]},\"hovertemplate\":\"<b>Tipos hogar</b>=nuclear monoparental<br>anio=2020<br>quintil=%{x}<br>Hogares(%)=%{text}<extra></extra>\",\"legendgroup\":\"nuclear monoparental\",\"marker\":{\"color\":\"#636efa\",\"pattern\":{\"shape\":\"\"}},\"name\":\"nuclear monoparental\",\"offsetgroup\":\"nuclear monoparental\",\"orientation\":\"v\",\"showlegend\":false,\"text\":[8.6,7.0,4.9,3.4,1.8],\"textposition\":\"auto\",\"x\":[\"I\",\"II\",\"III\",\"IV\",\"V\"],\"xaxis\":\"x6\",\"y\":[8.6,7.0,4.9,3.4,1.8],\"yaxis\":\"y6\",\"type\":\"bar\"},{\"alignmentgroup\":\"True\",\"error_y\":{\"array\":[0.187577342492884,0.1674925495654054,0.1403241840919201,0.1127680708951065,0.1139533370688513],\"arrayminus\":[0.1738723960360101,0.1541282062674517,0.1275059311256085,0.1011872609661028,0.1016874160670933]},\"hovertemplate\":\"<b>Tipos hogar</b>=nuclear biparental<br>anio=1990<br>quintil=%{x}<br>Hogares(%)=%{text}<extra></extra>\",\"legendgroup\":\"nuclear biparental\",\"marker\":{\"color\":\"#EF553B\",\"pattern\":{\"shape\":\"\"}},\"name\":\"nuclear biparental\",\"offsetgroup\":\"nuclear biparental\",\"orientation\":\"v\",\"showlegend\":true,\"text\":[18.1,16.1,13.4,10.7,10.8],\"textposition\":\"auto\",\"x\":[\"I\",\"II\",\"III\",\"IV\",\"V\"],\"xaxis\":\"x7\",\"y\":[18.1,16.1,13.4,10.7,10.8],\"yaxis\":\"y7\",\"type\":\"bar\"},{\"alignmentgroup\":\"True\",\"error_y\":{\"array\":[0.1932233178015568,0.1722031840118345,0.1393056987254025,0.1157755327911665,0.1127816407933351],\"arrayminus\":[0.1811070537830877,0.1600401305185496,0.127881534021838,0.1047287433295681,0.1018335953099108]},\"hovertemplate\":\"<b>Tipos hogar</b>=nuclear biparental<br>anio=1992<br>quintil=%{x}<br>Hogares(%)=%{text}<extra></extra>\",\"legendgroup\":\"nuclear biparental\",\"marker\":{\"color\":\"#EF553B\",\"pattern\":{\"shape\":\"\"}},\"name\":\"nuclear biparental\",\"offsetgroup\":\"nuclear biparental\",\"orientation\":\"v\",\"showlegend\":false,\"text\":[18.7,16.6,13.3,11.0,10.7],\"textposition\":\"auto\",\"x\":[\"I\",\"II\",\"III\",\"IV\",\"V\"],\"xaxis\":\"x8\",\"y\":[18.7,16.6,13.3,11.0,10.7],\"yaxis\":\"y8\",\"type\":\"bar\"},{\"alignmentgroup\":\"True\",\"error_y\":{\"array\":[0.1816963115261124,0.1600209302815512,0.1336351834567608,0.1202433902799029,0.1138283097568558],\"arrayminus\":[0.1703338709663348,0.1486073971156133,0.1224822747475601,0.1088199725332416,0.1021806701601323]},\"hovertemplate\":\"<b>Tipos hogar</b>=nuclear biparental<br>anio=1994<br>quintil=%{x}<br>Hogares(%)=%{text}<extra></extra>\",\"legendgroup\":\"nuclear biparental\",\"marker\":{\"color\":\"#EF553B\",\"pattern\":{\"shape\":\"\"}},\"name\":\"nuclear biparental\",\"offsetgroup\":\"nuclear biparental\",\"orientation\":\"v\",\"showlegend\":false,\"text\":[17.6,15.4,12.8,11.4,10.8],\"textposition\":\"auto\",\"x\":[\"I\",\"II\",\"III\",\"IV\",\"V\"],\"xaxis\":\"x9\",\"y\":[17.6,15.4,12.8,11.4,10.8],\"yaxis\":\"y9\",\"type\":\"bar\"},{\"alignmentgroup\":\"True\",\"error_y\":{\"array\":[0.1834167100799864,0.1649553578433335,0.1415327167260809,0.1327696796041205,0.115543448110566],\"arrayminus\":[0.1677726041506353,0.14967746714602,0.1257476428668952,0.1161730794208444,0.0991138044120194]},\"hovertemplate\":\"<b>Tipos hogar</b>=nuclear biparental<br>anio=1996<br>quintil=%{x}<br>Hogares(%)=%{text}<extra></extra>\",\"legendgroup\":\"nuclear biparental\",\"marker\":{\"color\":\"#EF553B\",\"pattern\":{\"shape\":\"\"}},\"name\":\"nuclear biparental\",\"offsetgroup\":\"nuclear biparental\",\"orientation\":\"v\",\"showlegend\":false,\"text\":[17.5,15.7,13.3,12.4,10.7],\"textposition\":\"auto\",\"x\":[\"I\",\"II\",\"III\",\"IV\",\"V\"],\"xaxis\":\"x10\",\"y\":[17.5,15.7,13.3,12.4,10.7],\"yaxis\":\"y10\",\"type\":\"bar\"},{\"alignmentgroup\":\"True\",\"error_y\":{\"array\":[0.1764683568658051,0.1638926248484779,0.1332777068525314,0.1239727055403252,0.1095547055015551],\"arrayminus\":[0.1646749964436795,0.1517668772332859,0.1217727259137632,0.1123494424441356,0.0973519135227584]},\"hovertemplate\":\"<b>Tipos hogar</b>=nuclear biparental<br>anio=1998<br>quintil=%{x}<br>Hogares(%)=%{text}<extra></extra>\",\"legendgroup\":\"nuclear biparental\",\"marker\":{\"color\":\"#EF553B\",\"pattern\":{\"shape\":\"\"}},\"name\":\"nuclear biparental\",\"offsetgroup\":\"nuclear biparental\",\"orientation\":\"v\",\"showlegend\":false,\"text\":[17.0,15.8,12.7,11.8,10.3],\"textposition\":\"auto\",\"x\":[\"I\",\"II\",\"III\",\"IV\",\"V\"],\"xaxis\":\"x11\",\"y\":[17.0,15.8,12.7,11.8,10.3],\"yaxis\":\"y11\",\"type\":\"bar\"},{\"alignmentgroup\":\"True\",\"error_y\":{\"array\":[0.1803143700363178,0.1597284807168805,0.1403554050646979,0.1164190263793158,0.1093412390061175],\"arrayminus\":[0.1679676969360825,0.1471445343009289,0.1201830122979838,0.1016145933643167,0.094562490463497]},\"hovertemplate\":\"<b>Tipos hogar</b>=nuclear biparental<br>anio=2000<br>quintil=%{x}<br>Hogares(%)=%{text}<extra></extra>\",\"legendgroup\":\"nuclear biparental\",\"marker\":{\"color\":\"#EF553B\",\"pattern\":{\"shape\":\"\"}},\"name\":\"nuclear biparental\",\"offsetgroup\":\"nuclear biparental\",\"orientation\":\"v\",\"showlegend\":false,\"text\":[17.4,15.3,13.0,10.9,10.2],\"textposition\":\"auto\",\"x\":[\"I\",\"II\",\"III\",\"IV\",\"V\"],\"xaxis\":\"x12\",\"y\":[17.4,15.3,13.0,10.9,10.2],\"yaxis\":\"y12\",\"type\":\"bar\"},{\"alignmentgroup\":\"True\",\"error_y\":{\"array\":[0.1639711377558302,0.1583348832002793,0.1329625702869617,0.1167592312797007,0.1072331934984388],\"arrayminus\":[0.1526086336836173,0.1453051057353694,0.1211701768066498,0.1030227566783086,0.0938567267438256]},\"hovertemplate\":\"<b>Tipos hogar</b>=nuclear biparental<br>anio=2003<br>quintil=%{x}<br>Hogares(%)=%{text}<extra></extra>\",\"legendgroup\":\"nuclear biparental\",\"marker\":{\"color\":\"#EF553B\",\"pattern\":{\"shape\":\"\"}},\"name\":\"nuclear biparental\",\"offsetgroup\":\"nuclear biparental\",\"orientation\":\"v\",\"showlegend\":false,\"text\":[15.8,15.2,12.7,11.0,10.0],\"textposition\":\"auto\",\"x\":[\"I\",\"II\",\"III\",\"IV\",\"V\"],\"xaxis\":\"x\",\"y\":[15.8,15.2,12.7,11.0,10.0],\"yaxis\":\"y\",\"type\":\"bar\"},{\"alignmentgroup\":\"True\",\"error_y\":{\"array\":[0.1247907074575469,0.1400176282593766,0.1307616700881974,0.1165955032906154,0.1009304407714186],\"arrayminus\":[0.1152032699981521,0.1287472205016664,0.1194995650938778,0.1048942227536438,0.0877004962516295]},\"hovertemplate\":\"<b>Tipos hogar</b>=nuclear biparental<br>anio=2009<br>quintil=%{x}<br>Hogares(%)=%{text}<extra></extra>\",\"legendgroup\":\"nuclear biparental\",\"marker\":{\"color\":\"#EF553B\",\"pattern\":{\"shape\":\"\"}},\"name\":\"nuclear biparental\",\"offsetgroup\":\"nuclear biparental\",\"orientation\":\"v\",\"showlegend\":false,\"text\":[12.0,13.4,12.5,11.1,9.4],\"textposition\":\"auto\",\"x\":[\"I\",\"II\",\"III\",\"IV\",\"V\"],\"xaxis\":\"x2\",\"y\":[12.0,13.4,12.5,11.1,9.4],\"yaxis\":\"y2\",\"type\":\"bar\"},{\"alignmentgroup\":\"True\",\"error_y\":{\"array\":[0.1244178274800172,0.1358018626787167,0.1144521867204538,0.1028032780001614,0.093272502835943],\"arrayminus\":[0.1128377563180887,0.11918866629454,0.1022893667381392,0.089632889579772,0.0771674677646898]},\"hovertemplate\":\"<b>Tipos hogar</b>=nuclear biparental<br>anio=2013<br>quintil=%{x}<br>Hogares(%)=%{text}<extra></extra>\",\"legendgroup\":\"nuclear biparental\",\"marker\":{\"color\":\"#EF553B\",\"pattern\":{\"shape\":\"\"}},\"name\":\"nuclear biparental\",\"offsetgroup\":\"nuclear biparental\",\"orientation\":\"v\",\"showlegend\":false,\"text\":[11.9,12.7,10.8,9.6,8.5],\"textposition\":\"auto\",\"x\":[\"I\",\"II\",\"III\",\"IV\",\"V\"],\"xaxis\":\"x3\",\"y\":[11.9,12.7,10.8,9.6,8.5],\"yaxis\":\"y3\",\"type\":\"bar\"},{\"alignmentgroup\":\"True\",\"error_y\":{\"array\":[0.1182455513813845,0.1272319693550283,0.1161484891262718,0.0985156104203598,0.0899322801545623],\"arrayminus\":[0.1090342513877856,0.117411709099526,0.1044077335479652,0.0883341424220013,0.0769358037777224]},\"hovertemplate\":\"<b>Tipos hogar</b>=nuclear biparental<br>anio=2015<br>quintil=%{x}<br>Hogares(%)=%{text}<extra></extra>\",\"legendgroup\":\"nuclear biparental\",\"marker\":{\"color\":\"#EF553B\",\"pattern\":{\"shape\":\"\"}},\"name\":\"nuclear biparental\",\"offsetgroup\":\"nuclear biparental\",\"orientation\":\"v\",\"showlegend\":false,\"text\":[11.4,12.2,11.0,9.3,8.3],\"textposition\":\"auto\",\"x\":[\"I\",\"II\",\"III\",\"IV\",\"V\"],\"xaxis\":\"x4\",\"y\":[11.4,12.2,11.0,9.3,8.3],\"yaxis\":\"y4\",\"type\":\"bar\"},{\"alignmentgroup\":\"True\",\"error_y\":{\"array\":[0.1129273042457788,0.1306561760461471,0.1162964282252685,0.0968485260602809,0.0971682502446931],\"arrayminus\":[0.1028146552593282,0.1200073844967829,0.1043861896551801,0.0862971896585161,0.0811475162779578]},\"hovertemplate\":\"<b>Tipos hogar</b>=nuclear biparental<br>anio=2017<br>quintil=%{x}<br>Hogares(%)=%{text}<extra></extra>\",\"legendgroup\":\"nuclear biparental\",\"marker\":{\"color\":\"#EF553B\",\"pattern\":{\"shape\":\"\"}},\"name\":\"nuclear biparental\",\"offsetgroup\":\"nuclear biparental\",\"orientation\":\"v\",\"showlegend\":false,\"text\":[10.8,12.5,11.0,9.1,8.9],\"textposition\":\"auto\",\"x\":[\"I\",\"II\",\"III\",\"IV\",\"V\"],\"xaxis\":\"x5\",\"y\":[10.8,12.5,11.0,9.1,8.9],\"yaxis\":\"y5\",\"type\":\"bar\"},{\"alignmentgroup\":\"True\",\"error_y\":{\"array\":[0.078246014771778,0.1148468750064488,0.1339530840144135,0.0944106594231896,0.1047647444887961],\"arrayminus\":[0.0686232419866325,0.1033301796407641,0.0848760076024105,0.0831177527459464,0.0895658636637575]},\"hovertemplate\":\"<b>Tipos hogar</b>=nuclear biparental<br>anio=2020<br>quintil=%{x}<br>Hogares(%)=%{text}<extra></extra>\",\"legendgroup\":\"nuclear biparental\",\"marker\":{\"color\":\"#EF553B\",\"pattern\":{\"shape\":\"\"}},\"name\":\"nuclear biparental\",\"offsetgroup\":\"nuclear biparental\",\"orientation\":\"v\",\"showlegend\":false,\"text\":[7.3,10.9,10.7,8.9,9.7],\"textposition\":\"auto\",\"x\":[\"I\",\"II\",\"III\",\"IV\",\"V\"],\"xaxis\":\"x6\",\"y\":[7.3,10.9,10.7,8.9,9.7],\"yaxis\":\"y6\",\"type\":\"bar\"},{\"alignmentgroup\":\"True\",\"error_y\":{\"array\":[0.0257225194159657,0.0243892497516358,0.0221247157863779,0.0182918423599015,0.0079038141764595],\"arrayminus\":[0.0203827789217002,0.0191629571684942,0.0171578893238992,0.0131604681986154,0.0048266327630375]},\"hovertemplate\":\"<b>Tipos hogar</b>=extenso monoparental<br>anio=1990<br>quintil=%{x}<br>Hogares(%)=%{text}<extra></extra>\",\"legendgroup\":\"extenso monoparental\",\"marker\":{\"color\":\"#00cc96\",\"pattern\":{\"shape\":\"\"}},\"name\":\"extenso monoparental\",\"offsetgroup\":\"extenso monoparental\",\"orientation\":\"v\",\"showlegend\":true,\"text\":[2.3,2.2,1.9,1.6,0.6],\"textposition\":\"auto\",\"x\":[\"I\",\"II\",\"III\",\"IV\",\"V\"],\"xaxis\":\"x7\",\"y\":[2.3,2.2,1.9,1.6,0.6],\"yaxis\":\"y7\",\"type\":\"bar\"},{\"alignmentgroup\":\"True\",\"error_y\":{\"array\":[0.0214192599235579,0.0235563930196253,0.0207661650027186,0.014137535113573,0.0075261813938068],\"arrayminus\":[0.0172865982536481,0.0190016542189794,0.0164116123736503,0.0102254760954965,0.0047978231865413]},\"hovertemplate\":\"<b>Tipos hogar</b>=extenso monoparental<br>anio=1992<br>quintil=%{x}<br>Hogares(%)=%{text}<extra></extra>\",\"legendgroup\":\"extenso monoparental\",\"marker\":{\"color\":\"#00cc96\",\"pattern\":{\"shape\":\"\"}},\"name\":\"extenso monoparental\",\"offsetgroup\":\"extenso monoparental\",\"orientation\":\"v\",\"showlegend\":false,\"text\":[1.9,2.1,1.8,1.2,0.6],\"textposition\":\"auto\",\"x\":[\"I\",\"II\",\"III\",\"IV\",\"V\"],\"xaxis\":\"x8\",\"y\":[1.9,2.1,1.8,1.2,0.6],\"yaxis\":\"y8\",\"type\":\"bar\"},{\"alignmentgroup\":\"True\",\"error_y\":{\"array\":[0.0245059339023577,0.0251219087680349,0.0184266704988808,0.0145190609022566,0.0088141813398243],\"arrayminus\":[0.0200370669843669,0.0202974601691547,0.0140465583235472,0.0106257519289002,0.0055876495681891]},\"hovertemplate\":\"<b>Tipos hogar</b>=extenso monoparental<br>anio=1994<br>quintil=%{x}<br>Hogares(%)=%{text}<extra></extra>\",\"legendgroup\":\"extenso monoparental\",\"marker\":{\"color\":\"#00cc96\",\"pattern\":{\"shape\":\"\"}},\"name\":\"extenso monoparental\",\"offsetgroup\":\"extenso monoparental\",\"orientation\":\"v\",\"showlegend\":false,\"text\":[2.2,2.3,1.6,1.2,0.7],\"textposition\":\"auto\",\"x\":[\"I\",\"II\",\"III\",\"IV\",\"V\"],\"xaxis\":\"x9\",\"y\":[2.2,2.3,1.6,1.2,0.7],\"yaxis\":\"y9\",\"type\":\"bar\"},{\"alignmentgroup\":\"True\",\"error_y\":{\"array\":[0.0222504362535424,0.0235183979734739,0.0187212069454786,0.0142188865649209,0.0073128866512493],\"arrayminus\":[0.0173438191156588,0.0182480928879934,0.0139389429812337,0.0100026546123426,0.0040492540460079]},\"hovertemplate\":\"<b>Tipos hogar</b>=extenso monoparental<br>anio=1996<br>quintil=%{x}<br>Hogares(%)=%{text}<extra></extra>\",\"legendgroup\":\"extenso monoparental\",\"marker\":{\"color\":\"#00cc96\",\"pattern\":{\"shape\":\"\"}},\"name\":\"extenso monoparental\",\"offsetgroup\":\"extenso monoparental\",\"orientation\":\"v\",\"showlegend\":false,\"text\":[2.0,2.1,1.6,1.2,0.5],\"textposition\":\"auto\",\"x\":[\"I\",\"II\",\"III\",\"IV\",\"V\"],\"xaxis\":\"x10\",\"y\":[2.0,2.1,1.6,1.2,0.5],\"yaxis\":\"y10\",\"type\":\"bar\"},{\"alignmentgroup\":\"True\",\"error_y\":{\"array\":[0.0257307215152383,0.0259494473183291,0.0241814256716167,0.0142601820171048,0.0067524534216132],\"arrayminus\":[0.0210111593468797,0.021185204149921,0.0191943136373112,0.0105689298484218,0.0040357791286716]},\"hovertemplate\":\"<b>Tipos hogar</b>=extenso monoparental<br>anio=1998<br>quintil=%{x}<br>Hogares(%)=%{text}<extra></extra>\",\"legendgroup\":\"extenso monoparental\",\"marker\":{\"color\":\"#00cc96\",\"pattern\":{\"shape\":\"\"}},\"name\":\"extenso monoparental\",\"offsetgroup\":\"extenso monoparental\",\"orientation\":\"v\",\"showlegend\":false,\"text\":[2.3,2.3,2.2,1.2,0.5],\"textposition\":\"auto\",\"x\":[\"I\",\"II\",\"III\",\"IV\",\"V\"],\"xaxis\":\"x11\",\"y\":[2.3,2.3,2.2,1.2,0.5],\"yaxis\":\"y11\",\"type\":\"bar\"},{\"alignmentgroup\":\"True\",\"error_y\":{\"array\":[0.0281929969227923,0.0305823046197353,0.0247276964880122,0.0159212748783039,0.0062528578020516],\"arrayminus\":[0.0235728053360779,0.0251833524907999,0.0174629224217997,0.0118972495097442,0.0037532103725272]},\"hovertemplate\":\"<b>Tipos hogar</b>=extenso monoparental<br>anio=2000<br>quintil=%{x}<br>Hogares(%)=%{text}<extra></extra>\",\"legendgroup\":\"extenso monoparental\",\"marker\":{\"color\":\"#00cc96\",\"pattern\":{\"shape\":\"\"}},\"name\":\"extenso monoparental\",\"offsetgroup\":\"extenso monoparental\",\"orientation\":\"v\",\"showlegend\":false,\"text\":[2.6,2.8,2.1,1.4,0.5],\"textposition\":\"auto\",\"x\":[\"I\",\"II\",\"III\",\"IV\",\"V\"],\"xaxis\":\"x12\",\"y\":[2.6,2.8,2.1,1.4,0.5],\"yaxis\":\"y12\",\"type\":\"bar\"},{\"alignmentgroup\":\"True\",\"error_y\":{\"array\":[0.0299344723172847,0.0274675431116056,0.0211069357910719,0.0144801838965653,0.0065094235962659],\"arrayminus\":[0.0239558376259547,0.0224403871747157,0.0168407060990314,0.0106556776339448,0.004070892267175]},\"hovertemplate\":\"<b>Tipos hogar</b>=extenso monoparental<br>anio=2003<br>quintil=%{x}<br>Hogares(%)=%{text}<extra></extra>\",\"legendgroup\":\"extenso monoparental\",\"marker\":{\"color\":\"#00cc96\",\"pattern\":{\"shape\":\"\"}},\"name\":\"extenso monoparental\",\"offsetgroup\":\"extenso monoparental\",\"orientation\":\"v\",\"showlegend\":false,\"text\":[2.7,2.5,1.9,1.2,0.5],\"textposition\":\"auto\",\"x\":[\"I\",\"II\",\"III\",\"IV\",\"V\"],\"xaxis\":\"x\",\"y\":[2.7,2.5,1.9,1.2,0.5],\"yaxis\":\"y\",\"type\":\"bar\"},{\"alignmentgroup\":\"True\",\"error_y\":{\"array\":[0.0332047700209571,0.0318143414752052,0.025210373688388,0.0172733797064601,0.0085696741361388],\"arrayminus\":[0.028037089890545,0.0263609893467278,0.0202873789977257,0.0130674927889841,0.0049929458875331]},\"hovertemplate\":\"<b>Tipos hogar</b>=extenso monoparental<br>anio=2009<br>quintil=%{x}<br>Hogares(%)=%{text}<extra></extra>\",\"legendgroup\":\"extenso monoparental\",\"marker\":{\"color\":\"#00cc96\",\"pattern\":{\"shape\":\"\"}},\"name\":\"extenso monoparental\",\"offsetgroup\":\"extenso monoparental\",\"orientation\":\"v\",\"showlegend\":false,\"text\":[3.1,2.9,2.3,1.5,0.7],\"textposition\":\"auto\",\"x\":[\"I\",\"II\",\"III\",\"IV\",\"V\"],\"xaxis\":\"x2\",\"y\":[3.1,2.9,2.3,1.5,0.7],\"yaxis\":\"y2\",\"type\":\"bar\"},{\"alignmentgroup\":\"True\",\"error_y\":{\"array\":[0.0373589109093441,0.0346595136831108,0.0310003990145259,0.0187078466721224,0.0053667226947731],\"arrayminus\":[0.0304431329339974,0.0288158977201191,0.0219314615925244,0.0132364490421122,0.0033094641001181]},\"hovertemplate\":\"<b>Tipos hogar</b>=extenso monoparental<br>anio=2013<br>quintil=%{x}<br>Hogares(%)=%{text}<extra></extra>\",\"legendgroup\":\"extenso monoparental\",\"marker\":{\"color\":\"#00cc96\",\"pattern\":{\"shape\":\"\"}},\"name\":\"extenso monoparental\",\"offsetgroup\":\"extenso monoparental\",\"orientation\":\"v\",\"showlegend\":false,\"text\":[3.4,3.2,2.6,1.6,0.4],\"textposition\":\"auto\",\"x\":[\"I\",\"II\",\"III\",\"IV\",\"V\"],\"xaxis\":\"x3\",\"y\":[3.4,3.2,2.6,1.6,0.4],\"yaxis\":\"y3\",\"type\":\"bar\"},{\"alignmentgroup\":\"True\",\"error_y\":{\"array\":[0.0401997550095357,0.0380875033746223,0.0300068413585507,0.0172219686543754,0.0090795534491846],\"arrayminus\":[0.0349319682975495,0.0326763102803783,0.025003701020068,0.0135098589007634,0.0062296099224068]},\"hovertemplate\":\"<b>Tipos hogar</b>=extenso monoparental<br>anio=2015<br>quintil=%{x}<br>Hogares(%)=%{text}<extra></extra>\",\"legendgroup\":\"extenso monoparental\",\"marker\":{\"color\":\"#00cc96\",\"pattern\":{\"shape\":\"\"}},\"name\":\"extenso monoparental\",\"offsetgroup\":\"extenso monoparental\",\"orientation\":\"v\",\"showlegend\":false,\"text\":[3.7,3.5,2.7,1.5,0.8],\"textposition\":\"auto\",\"x\":[\"I\",\"II\",\"III\",\"IV\",\"V\"],\"xaxis\":\"x4\",\"y\":[3.7,3.5,2.7,1.5,0.8],\"yaxis\":\"y4\",\"type\":\"bar\"},{\"alignmentgroup\":\"True\",\"error_y\":{\"array\":[0.0357294681398075,0.0375760251091134,0.0312894478803397,0.0187814335957613,0.0069323362290578],\"arrayminus\":[0.0304136275604539,0.032331432558537,0.0254551679839173,0.014143234726366,0.0044246264732502]},\"hovertemplate\":\"<b>Tipos hogar</b>=extenso monoparental<br>anio=2017<br>quintil=%{x}<br>Hogares(%)=%{text}<extra></extra>\",\"legendgroup\":\"extenso monoparental\",\"marker\":{\"color\":\"#00cc96\",\"pattern\":{\"shape\":\"\"}},\"name\":\"extenso monoparental\",\"offsetgroup\":\"extenso monoparental\",\"orientation\":\"v\",\"showlegend\":false,\"text\":[3.3,3.5,2.8,1.6,0.6],\"textposition\":\"auto\",\"x\":[\"I\",\"II\",\"III\",\"IV\",\"V\"],\"xaxis\":\"x5\",\"y\":[3.3,3.5,2.8,1.6,0.6],\"yaxis\":\"y5\",\"type\":\"bar\"},{\"alignmentgroup\":\"True\",\"error_y\":{\"array\":[0.0414585510356337,0.048081022730799,0.033035865317482,0.0200549293349248,0.0084582486437652],\"arrayminus\":[0.0351043711476714,0.0408822200727033,0.026995512004736,0.0156300436542258,0.0054920447648592]},\"hovertemplate\":\"<b>Tipos hogar</b>=extenso monoparental<br>anio=2020<br>quintil=%{x}<br>Hogares(%)=%{text}<extra></extra>\",\"legendgroup\":\"extenso monoparental\",\"marker\":{\"color\":\"#00cc96\",\"pattern\":{\"shape\":\"\"}},\"name\":\"extenso monoparental\",\"offsetgroup\":\"extenso monoparental\",\"orientation\":\"v\",\"showlegend\":false,\"text\":[3.8,4.4,3.0,1.8,0.7],\"textposition\":\"auto\",\"x\":[\"I\",\"II\",\"III\",\"IV\",\"V\"],\"xaxis\":\"x6\",\"y\":[3.8,4.4,3.0,1.8,0.7],\"yaxis\":\"y6\",\"type\":\"bar\"},{\"alignmentgroup\":\"True\",\"error_y\":{\"array\":[0.0289661614701107,0.0362677285292686,0.0363927771711751,0.0248643996933161,0.0179583265924365],\"arrayminus\":[0.023308078034445,0.0298476650472315,0.0298900868321045,0.01939024248272,0.0128428322802668]},\"hovertemplate\":\"<b>Tipos hogar</b>=extenso biparental<br>anio=1990<br>quintil=%{x}<br>Hogares(%)=%{text}<extra></extra>\",\"legendgroup\":\"extenso biparental\",\"marker\":{\"color\":\"#ab63fa\",\"pattern\":{\"shape\":\"\"}},\"name\":\"extenso biparental\",\"offsetgroup\":\"extenso biparental\",\"orientation\":\"v\",\"showlegend\":true,\"text\":[2.6,3.3,3.3,2.2,1.5],\"textposition\":\"auto\",\"x\":[\"I\",\"II\",\"III\",\"IV\",\"V\"],\"xaxis\":\"x7\",\"y\":[2.6,3.3,3.3,2.2,1.5],\"yaxis\":\"y7\",\"type\":\"bar\"},{\"alignmentgroup\":\"True\",\"error_y\":{\"array\":[0.0257463011149974,0.0326818888573868,0.030997602725525,0.0247424430267166,0.0125696084628022],\"arrayminus\":[0.0213349290051359,0.0276062931789454,0.0256122695872294,0.0197014002545033,0.0090785685026764]},\"hovertemplate\":\"<b>Tipos hogar</b>=extenso biparental<br>anio=1992<br>quintil=%{x}<br>Hogares(%)=%{text}<extra></extra>\",\"legendgroup\":\"extenso biparental\",\"marker\":{\"color\":\"#ab63fa\",\"pattern\":{\"shape\":\"\"}},\"name\":\"extenso biparental\",\"offsetgroup\":\"extenso biparental\",\"orientation\":\"v\",\"showlegend\":false,\"text\":[2.3,3.0,2.8,2.2,1.1],\"textposition\":\"auto\",\"x\":[\"I\",\"II\",\"III\",\"IV\",\"V\"],\"xaxis\":\"x8\",\"y\":[2.3,3.0,2.8,2.2,1.1],\"yaxis\":\"y8\",\"type\":\"bar\"},{\"alignmentgroup\":\"True\",\"error_y\":{\"array\":[0.0333195510007859,0.03943904744131,0.0357456607111276,0.0273452465320244,0.0163876209988077],\"arrayminus\":[0.0280264956610216,0.033793047933739,0.0296706868421396,0.0219021368936365,0.0119201423692238]},\"hovertemplate\":\"<b>Tipos hogar</b>=extenso biparental<br>anio=1994<br>quintil=%{x}<br>Hogares(%)=%{text}<extra></extra>\",\"legendgroup\":\"extenso biparental\",\"marker\":{\"color\":\"#ab63fa\",\"pattern\":{\"shape\":\"\"}},\"name\":\"extenso biparental\",\"offsetgroup\":\"extenso biparental\",\"orientation\":\"v\",\"showlegend\":false,\"text\":[3.1,3.7,3.3,2.4,1.4],\"textposition\":\"auto\",\"x\":[\"I\",\"II\",\"III\",\"IV\",\"V\"],\"xaxis\":\"x9\",\"y\":[3.1,3.7,3.3,2.4,1.4],\"yaxis\":\"y9\",\"type\":\"bar\"},{\"alignmentgroup\":\"True\",\"error_y\":{\"array\":[0.0354984487245619,0.0433342670713665,0.0345813609532554,0.0302796551463178,0.0151461235530264],\"arrayminus\":[0.0289466143956625,0.0343471501989582,0.0275154377300443,0.0231819014740566,0.0102162872202649]},\"hovertemplate\":\"<b>Tipos hogar</b>=extenso biparental<br>anio=1996<br>quintil=%{x}<br>Hogares(%)=%{text}<extra></extra>\",\"legendgroup\":\"extenso biparental\",\"marker\":{\"color\":\"#ab63fa\",\"pattern\":{\"shape\":\"\"}},\"name\":\"extenso biparental\",\"offsetgroup\":\"extenso biparental\",\"orientation\":\"v\",\"showlegend\":false,\"text\":[3.2,3.9,3.1,2.7,1.2],\"textposition\":\"auto\",\"x\":[\"I\",\"II\",\"III\",\"IV\",\"V\"],\"xaxis\":\"x10\",\"y\":[3.2,3.9,3.1,2.7,1.2],\"yaxis\":\"y10\",\"type\":\"bar\"},{\"alignmentgroup\":\"True\",\"error_y\":{\"array\":[0.0351258027424726,0.0408967196843101,0.0336291481345443,0.0305815034443055,0.0130666369842251],\"arrayminus\":[0.0298391814188621,0.0350097989116494,0.0282189402546505,0.0245863740920831,0.0090576903280783]},\"hovertemplate\":\"<b>Tipos hogar</b>=extenso biparental<br>anio=1998<br>quintil=%{x}<br>Hogares(%)=%{text}<extra></extra>\",\"legendgroup\":\"extenso biparental\",\"marker\":{\"color\":\"#ab63fa\",\"pattern\":{\"shape\":\"\"}},\"name\":\"extenso biparental\",\"offsetgroup\":\"extenso biparental\",\"orientation\":\"v\",\"showlegend\":false,\"text\":[3.2,3.8,3.1,2.7,1.1],\"textposition\":\"auto\",\"x\":[\"I\",\"II\",\"III\",\"IV\",\"V\"],\"xaxis\":\"x11\",\"y\":[3.2,3.8,3.1,2.7,1.1],\"yaxis\":\"y11\",\"type\":\"bar\"},{\"alignmentgroup\":\"True\",\"error_y\":{\"array\":[0.0402624699846626,0.044302679588962,0.0347885299229091,0.0281375312406183,0.0131291642632393],\"arrayminus\":[0.0346246996191928,0.0383559415498331,0.0292259832437273,0.0228181637820288,0.0091956092187035]},\"hovertemplate\":\"<b>Tipos hogar</b>=extenso biparental<br>anio=2000<br>quintil=%{x}<br>Hogares(%)=%{text}<extra></extra>\",\"legendgroup\":\"extenso biparental\",\"marker\":{\"color\":\"#ab63fa\",\"pattern\":{\"shape\":\"\"}},\"name\":\"extenso biparental\",\"offsetgroup\":\"extenso biparental\",\"orientation\":\"v\",\"showlegend\":false,\"text\":[3.7,4.1,3.2,2.5,1.1],\"textposition\":\"auto\",\"x\":[\"I\",\"II\",\"III\",\"IV\",\"V\"],\"xaxis\":\"x12\",\"y\":[3.7,4.1,3.2,2.5,1.1],\"yaxis\":\"y12\",\"type\":\"bar\"},{\"alignmentgroup\":\"True\",\"error_y\":{\"array\":[0.0406361815725717,0.0457134891168417,0.0403443188578053,0.0326617532339455,0.0138944128142979],\"arrayminus\":[0.035005081863116,0.0388552011858732,0.0343985474483816,0.0264368062977792,0.0097697231693424]},\"hovertemplate\":\"<b>Tipos hogar</b>=extenso biparental<br>anio=2003<br>quintil=%{x}<br>Hogares(%)=%{text}<extra></extra>\",\"legendgroup\":\"extenso biparental\",\"marker\":{\"color\":\"#ab63fa\",\"pattern\":{\"shape\":\"\"}},\"name\":\"extenso biparental\",\"offsetgroup\":\"extenso biparental\",\"orientation\":\"v\",\"showlegend\":false,\"text\":[3.8,4.2,3.7,2.9,1.2],\"textposition\":\"auto\",\"x\":[\"I\",\"II\",\"III\",\"IV\",\"V\"],\"xaxis\":\"x\",\"y\":[3.8,4.2,3.7,2.9,1.2],\"yaxis\":\"y\",\"type\":\"bar\"},{\"alignmentgroup\":\"True\",\"error_y\":{\"array\":[0.0358607706990566,0.042910867467588,0.0382322544347941,0.0330781862686038,0.0158534970570128],\"arrayminus\":[0.0304891348551575,0.0369317585730012,0.032542724991744,0.0264480562374275,0.0103324140743623]},\"hovertemplate\":\"<b>Tipos hogar</b>=extenso biparental<br>anio=2009<br>quintil=%{x}<br>Hogares(%)=%{text}<extra></extra>\",\"legendgroup\":\"extenso biparental\",\"marker\":{\"color\":\"#ab63fa\",\"pattern\":{\"shape\":\"\"}},\"name\":\"extenso biparental\",\"offsetgroup\":\"extenso biparental\",\"orientation\":\"v\",\"showlegend\":false,\"text\":[3.3,4.0,3.5,3.0,1.3],\"textposition\":\"auto\",\"x\":[\"I\",\"II\",\"III\",\"IV\",\"V\"],\"xaxis\":\"x2\",\"y\":[3.3,4.0,3.5,3.0,1.3],\"yaxis\":\"y2\",\"type\":\"bar\"},{\"alignmentgroup\":\"True\",\"error_y\":{\"array\":[0.0399473335641999,0.0508328289279155,0.046432289239039,0.0301443211452473,0.0147782433765214],\"arrayminus\":[0.0320194606771147,0.0416754764379284,0.0384003213059814,0.0242651581091033,0.0104121580134277]},\"hovertemplate\":\"<b>Tipos hogar</b>=extenso biparental<br>anio=2013<br>quintil=%{x}<br>Hogares(%)=%{text}<extra></extra>\",\"legendgroup\":\"extenso biparental\",\"marker\":{\"color\":\"#ab63fa\",\"pattern\":{\"shape\":\"\"}},\"name\":\"extenso biparental\",\"offsetgroup\":\"extenso biparental\",\"orientation\":\"v\",\"showlegend\":false,\"text\":[3.6,4.6,4.2,2.7,1.2],\"textposition\":\"auto\",\"x\":[\"I\",\"II\",\"III\",\"IV\",\"V\"],\"xaxis\":\"x3\",\"y\":[3.6,4.6,4.2,2.7,1.2],\"yaxis\":\"y3\",\"type\":\"bar\"},{\"alignmentgroup\":\"True\",\"error_y\":{\"array\":[0.0387171147930886,0.0508569182368858,0.0449067404700995,0.0321230440664495,0.0155000158445551],\"arrayminus\":[0.0335284170626357,0.0450232442688201,0.0392136882251607,0.0269030488734167,0.0118233617707367]},\"hovertemplate\":\"<b>Tipos hogar</b>=extenso biparental<br>anio=2015<br>quintil=%{x}<br>Hogares(%)=%{text}<extra></extra>\",\"legendgroup\":\"extenso biparental\",\"marker\":{\"color\":\"#ab63fa\",\"pattern\":{\"shape\":\"\"}},\"name\":\"extenso biparental\",\"offsetgroup\":\"extenso biparental\",\"orientation\":\"v\",\"showlegend\":false,\"text\":[3.6,4.8,4.2,2.9,1.4],\"textposition\":\"auto\",\"x\":[\"I\",\"II\",\"III\",\"IV\",\"V\"],\"xaxis\":\"x4\",\"y\":[3.6,4.8,4.2,2.9,1.4],\"yaxis\":\"y4\",\"type\":\"bar\"},{\"alignmentgroup\":\"True\",\"error_y\":{\"array\":[0.036177875187912,0.0509252814033731,0.0411764283047597,0.0282820929367085,0.012481516702413],\"arrayminus\":[0.0312839227987648,0.0446315511745496,0.0351359918259897,0.0226840522475423,0.0091191011995891]},\"hovertemplate\":\"<b>Tipos hogar</b>=extenso biparental<br>anio=2017<br>quintil=%{x}<br>Hogares(%)=%{text}<extra></extra>\",\"legendgroup\":\"extenso biparental\",\"marker\":{\"color\":\"#ab63fa\",\"pattern\":{\"shape\":\"\"}},\"name\":\"extenso biparental\",\"offsetgroup\":\"extenso biparental\",\"orientation\":\"v\",\"showlegend\":false,\"text\":[3.4,4.8,3.8,2.5,1.1],\"textposition\":\"auto\",\"x\":[\"I\",\"II\",\"III\",\"IV\",\"V\"],\"xaxis\":\"x5\",\"y\":[3.4,4.8,3.8,2.5,1.1],\"yaxis\":\"y5\",\"type\":\"bar\"},{\"alignmentgroup\":\"True\",\"error_y\":{\"array\":[0.0294942436962532,0.0414730459234838,0.0366600962220746,0.024344314025268,0.0132204813066389],\"arrayminus\":[0.0241829492878466,0.0357562613127573,0.0306003915092268,0.0196645323191856,0.0097376698930263]},\"hovertemplate\":\"<b>Tipos hogar</b>=extenso biparental<br>anio=2020<br>quintil=%{x}<br>Hogares(%)=%{text}<extra></extra>\",\"legendgroup\":\"extenso biparental\",\"marker\":{\"color\":\"#ab63fa\",\"pattern\":{\"shape\":\"\"}},\"name\":\"extenso biparental\",\"offsetgroup\":\"extenso biparental\",\"orientation\":\"v\",\"showlegend\":false,\"text\":[2.7,3.9,3.3,2.2,1.1],\"textposition\":\"auto\",\"x\":[\"I\",\"II\",\"III\",\"IV\",\"V\"],\"xaxis\":\"x6\",\"y\":[2.7,3.9,3.3,2.2,1.1],\"yaxis\":\"y6\",\"type\":\"bar\"}],                        {\"template\":{\"data\":{\"barpolar\":[{\"marker\":{\"line\":{\"color\":\"#E5ECF6\",\"width\":0.5},\"pattern\":{\"fillmode\":\"overlay\",\"size\":10,\"solidity\":0.2}},\"type\":\"barpolar\"}],\"bar\":[{\"error_x\":{\"color\":\"#2a3f5f\"},\"error_y\":{\"color\":\"#2a3f5f\"},\"marker\":{\"line\":{\"color\":\"#E5ECF6\",\"width\":0.5},\"pattern\":{\"fillmode\":\"overlay\",\"size\":10,\"solidity\":0.2}},\"type\":\"bar\"}],\"carpet\":[{\"aaxis\":{\"endlinecolor\":\"#2a3f5f\",\"gridcolor\":\"white\",\"linecolor\":\"white\",\"minorgridcolor\":\"white\",\"startlinecolor\":\"#2a3f5f\"},\"baxis\":{\"endlinecolor\":\"#2a3f5f\",\"gridcolor\":\"white\",\"linecolor\":\"white\",\"minorgridcolor\":\"white\",\"startlinecolor\":\"#2a3f5f\"},\"type\":\"carpet\"}],\"choropleth\":[{\"colorbar\":{\"outlinewidth\":0,\"ticks\":\"\"},\"type\":\"choropleth\"}],\"contourcarpet\":[{\"colorbar\":{\"outlinewidth\":0,\"ticks\":\"\"},\"type\":\"contourcarpet\"}],\"contour\":[{\"colorbar\":{\"outlinewidth\":0,\"ticks\":\"\"},\"colorscale\":[[0.0,\"#0d0887\"],[0.1111111111111111,\"#46039f\"],[0.2222222222222222,\"#7201a8\"],[0.3333333333333333,\"#9c179e\"],[0.4444444444444444,\"#bd3786\"],[0.5555555555555556,\"#d8576b\"],[0.6666666666666666,\"#ed7953\"],[0.7777777777777778,\"#fb9f3a\"],[0.8888888888888888,\"#fdca26\"],[1.0,\"#f0f921\"]],\"type\":\"contour\"}],\"heatmapgl\":[{\"colorbar\":{\"outlinewidth\":0,\"ticks\":\"\"},\"colorscale\":[[0.0,\"#0d0887\"],[0.1111111111111111,\"#46039f\"],[0.2222222222222222,\"#7201a8\"],[0.3333333333333333,\"#9c179e\"],[0.4444444444444444,\"#bd3786\"],[0.5555555555555556,\"#d8576b\"],[0.6666666666666666,\"#ed7953\"],[0.7777777777777778,\"#fb9f3a\"],[0.8888888888888888,\"#fdca26\"],[1.0,\"#f0f921\"]],\"type\":\"heatmapgl\"}],\"heatmap\":[{\"colorbar\":{\"outlinewidth\":0,\"ticks\":\"\"},\"colorscale\":[[0.0,\"#0d0887\"],[0.1111111111111111,\"#46039f\"],[0.2222222222222222,\"#7201a8\"],[0.3333333333333333,\"#9c179e\"],[0.4444444444444444,\"#bd3786\"],[0.5555555555555556,\"#d8576b\"],[0.6666666666666666,\"#ed7953\"],[0.7777777777777778,\"#fb9f3a\"],[0.8888888888888888,\"#fdca26\"],[1.0,\"#f0f921\"]],\"type\":\"heatmap\"}],\"histogram2dcontour\":[{\"colorbar\":{\"outlinewidth\":0,\"ticks\":\"\"},\"colorscale\":[[0.0,\"#0d0887\"],[0.1111111111111111,\"#46039f\"],[0.2222222222222222,\"#7201a8\"],[0.3333333333333333,\"#9c179e\"],[0.4444444444444444,\"#bd3786\"],[0.5555555555555556,\"#d8576b\"],[0.6666666666666666,\"#ed7953\"],[0.7777777777777778,\"#fb9f3a\"],[0.8888888888888888,\"#fdca26\"],[1.0,\"#f0f921\"]],\"type\":\"histogram2dcontour\"}],\"histogram2d\":[{\"colorbar\":{\"outlinewidth\":0,\"ticks\":\"\"},\"colorscale\":[[0.0,\"#0d0887\"],[0.1111111111111111,\"#46039f\"],[0.2222222222222222,\"#7201a8\"],[0.3333333333333333,\"#9c179e\"],[0.4444444444444444,\"#bd3786\"],[0.5555555555555556,\"#d8576b\"],[0.6666666666666666,\"#ed7953\"],[0.7777777777777778,\"#fb9f3a\"],[0.8888888888888888,\"#fdca26\"],[1.0,\"#f0f921\"]],\"type\":\"histogram2d\"}],\"histogram\":[{\"marker\":{\"pattern\":{\"fillmode\":\"overlay\",\"size\":10,\"solidity\":0.2}},\"type\":\"histogram\"}],\"mesh3d\":[{\"colorbar\":{\"outlinewidth\":0,\"ticks\":\"\"},\"type\":\"mesh3d\"}],\"parcoords\":[{\"line\":{\"colorbar\":{\"outlinewidth\":0,\"ticks\":\"\"}},\"type\":\"parcoords\"}],\"pie\":[{\"automargin\":true,\"type\":\"pie\"}],\"scatter3d\":[{\"line\":{\"colorbar\":{\"outlinewidth\":0,\"ticks\":\"\"}},\"marker\":{\"colorbar\":{\"outlinewidth\":0,\"ticks\":\"\"}},\"type\":\"scatter3d\"}],\"scattercarpet\":[{\"marker\":{\"colorbar\":{\"outlinewidth\":0,\"ticks\":\"\"}},\"type\":\"scattercarpet\"}],\"scattergeo\":[{\"marker\":{\"colorbar\":{\"outlinewidth\":0,\"ticks\":\"\"}},\"type\":\"scattergeo\"}],\"scattergl\":[{\"marker\":{\"colorbar\":{\"outlinewidth\":0,\"ticks\":\"\"}},\"type\":\"scattergl\"}],\"scattermapbox\":[{\"marker\":{\"colorbar\":{\"outlinewidth\":0,\"ticks\":\"\"}},\"type\":\"scattermapbox\"}],\"scatterpolargl\":[{\"marker\":{\"colorbar\":{\"outlinewidth\":0,\"ticks\":\"\"}},\"type\":\"scatterpolargl\"}],\"scatterpolar\":[{\"marker\":{\"colorbar\":{\"outlinewidth\":0,\"ticks\":\"\"}},\"type\":\"scatterpolar\"}],\"scatter\":[{\"marker\":{\"colorbar\":{\"outlinewidth\":0,\"ticks\":\"\"}},\"type\":\"scatter\"}],\"scatterternary\":[{\"marker\":{\"colorbar\":{\"outlinewidth\":0,\"ticks\":\"\"}},\"type\":\"scatterternary\"}],\"surface\":[{\"colorbar\":{\"outlinewidth\":0,\"ticks\":\"\"},\"colorscale\":[[0.0,\"#0d0887\"],[0.1111111111111111,\"#46039f\"],[0.2222222222222222,\"#7201a8\"],[0.3333333333333333,\"#9c179e\"],[0.4444444444444444,\"#bd3786\"],[0.5555555555555556,\"#d8576b\"],[0.6666666666666666,\"#ed7953\"],[0.7777777777777778,\"#fb9f3a\"],[0.8888888888888888,\"#fdca26\"],[1.0,\"#f0f921\"]],\"type\":\"surface\"}],\"table\":[{\"cells\":{\"fill\":{\"color\":\"#EBF0F8\"},\"line\":{\"color\":\"white\"}},\"header\":{\"fill\":{\"color\":\"#C8D4E3\"},\"line\":{\"color\":\"white\"}},\"type\":\"table\"}]},\"layout\":{\"annotationdefaults\":{\"arrowcolor\":\"#2a3f5f\",\"arrowhead\":0,\"arrowwidth\":1},\"autotypenumbers\":\"strict\",\"coloraxis\":{\"colorbar\":{\"outlinewidth\":0,\"ticks\":\"\"}},\"colorscale\":{\"diverging\":[[0,\"#8e0152\"],[0.1,\"#c51b7d\"],[0.2,\"#de77ae\"],[0.3,\"#f1b6da\"],[0.4,\"#fde0ef\"],[0.5,\"#f7f7f7\"],[0.6,\"#e6f5d0\"],[0.7,\"#b8e186\"],[0.8,\"#7fbc41\"],[0.9,\"#4d9221\"],[1,\"#276419\"]],\"sequential\":[[0.0,\"#0d0887\"],[0.1111111111111111,\"#46039f\"],[0.2222222222222222,\"#7201a8\"],[0.3333333333333333,\"#9c179e\"],[0.4444444444444444,\"#bd3786\"],[0.5555555555555556,\"#d8576b\"],[0.6666666666666666,\"#ed7953\"],[0.7777777777777778,\"#fb9f3a\"],[0.8888888888888888,\"#fdca26\"],[1.0,\"#f0f921\"]],\"sequentialminus\":[[0.0,\"#0d0887\"],[0.1111111111111111,\"#46039f\"],[0.2222222222222222,\"#7201a8\"],[0.3333333333333333,\"#9c179e\"],[0.4444444444444444,\"#bd3786\"],[0.5555555555555556,\"#d8576b\"],[0.6666666666666666,\"#ed7953\"],[0.7777777777777778,\"#fb9f3a\"],[0.8888888888888888,\"#fdca26\"],[1.0,\"#f0f921\"]]},\"colorway\":[\"#636efa\",\"#EF553B\",\"#00cc96\",\"#ab63fa\",\"#FFA15A\",\"#19d3f3\",\"#FF6692\",\"#B6E880\",\"#FF97FF\",\"#FECB52\"],\"font\":{\"color\":\"#2a3f5f\"},\"geo\":{\"bgcolor\":\"white\",\"lakecolor\":\"white\",\"landcolor\":\"#E5ECF6\",\"showlakes\":true,\"showland\":true,\"subunitcolor\":\"white\"},\"hoverlabel\":{\"align\":\"left\"},\"hovermode\":\"closest\",\"mapbox\":{\"style\":\"light\"},\"paper_bgcolor\":\"white\",\"plot_bgcolor\":\"#E5ECF6\",\"polar\":{\"angularaxis\":{\"gridcolor\":\"white\",\"linecolor\":\"white\",\"ticks\":\"\"},\"bgcolor\":\"#E5ECF6\",\"radialaxis\":{\"gridcolor\":\"white\",\"linecolor\":\"white\",\"ticks\":\"\"}},\"scene\":{\"xaxis\":{\"backgroundcolor\":\"#E5ECF6\",\"gridcolor\":\"white\",\"gridwidth\":2,\"linecolor\":\"white\",\"showbackground\":true,\"ticks\":\"\",\"zerolinecolor\":\"white\"},\"yaxis\":{\"backgroundcolor\":\"#E5ECF6\",\"gridcolor\":\"white\",\"gridwidth\":2,\"linecolor\":\"white\",\"showbackground\":true,\"ticks\":\"\",\"zerolinecolor\":\"white\"},\"zaxis\":{\"backgroundcolor\":\"#E5ECF6\",\"gridcolor\":\"white\",\"gridwidth\":2,\"linecolor\":\"white\",\"showbackground\":true,\"ticks\":\"\",\"zerolinecolor\":\"white\"}},\"shapedefaults\":{\"line\":{\"color\":\"#2a3f5f\"}},\"ternary\":{\"aaxis\":{\"gridcolor\":\"white\",\"linecolor\":\"white\",\"ticks\":\"\"},\"baxis\":{\"gridcolor\":\"white\",\"linecolor\":\"white\",\"ticks\":\"\"},\"bgcolor\":\"#E5ECF6\",\"caxis\":{\"gridcolor\":\"white\",\"linecolor\":\"white\",\"ticks\":\"\"}},\"title\":{\"x\":0.05},\"xaxis\":{\"automargin\":true,\"gridcolor\":\"white\",\"linecolor\":\"white\",\"ticks\":\"\",\"title\":{\"standoff\":15},\"zerolinecolor\":\"white\",\"zerolinewidth\":2},\"yaxis\":{\"automargin\":true,\"gridcolor\":\"white\",\"linecolor\":\"white\",\"ticks\":\"\",\"title\":{\"standoff\":15},\"zerolinecolor\":\"white\",\"zerolinewidth\":2}}},\"xaxis\":{\"anchor\":\"y\",\"domain\":[0.0,0.15],\"title\":{},\"showgrid\":true,\"tickangle\":90},\"yaxis\":{\"anchor\":\"x\",\"domain\":[0.0,0.46499999999999997],\"title\":{\"text\":\"Hogares(%)\",\"font\":{\"size\":10},\"standoff\":8}},\"xaxis2\":{\"anchor\":\"y2\",\"domain\":[0.16999999999999998,0.31999999999999995],\"matches\":\"x\",\"title\":{},\"showgrid\":true,\"tickangle\":90},\"yaxis2\":{\"anchor\":\"x2\",\"domain\":[0.0,0.46499999999999997],\"matches\":\"y\",\"showticklabels\":false,\"title\":{\"font\":{\"size\":10},\"standoff\":8}},\"xaxis3\":{\"anchor\":\"y3\",\"domain\":[0.33999999999999997,0.49],\"matches\":\"x\",\"title\":{},\"showgrid\":true,\"tickangle\":90},\"yaxis3\":{\"anchor\":\"x3\",\"domain\":[0.0,0.46499999999999997],\"matches\":\"y\",\"showticklabels\":false,\"title\":{\"font\":{\"size\":10},\"standoff\":8}},\"xaxis4\":{\"anchor\":\"y4\",\"domain\":[0.51,0.66],\"matches\":\"x\",\"title\":{},\"showgrid\":true,\"tickangle\":90},\"yaxis4\":{\"anchor\":\"x4\",\"domain\":[0.0,0.46499999999999997],\"matches\":\"y\",\"showticklabels\":false,\"title\":{\"font\":{\"size\":10},\"standoff\":8}},\"xaxis5\":{\"anchor\":\"y5\",\"domain\":[0.6799999999999999,0.83],\"matches\":\"x\",\"title\":{},\"showgrid\":true,\"tickangle\":90},\"yaxis5\":{\"anchor\":\"x5\",\"domain\":[0.0,0.46499999999999997],\"matches\":\"y\",\"showticklabels\":false,\"title\":{\"font\":{\"size\":10},\"standoff\":8}},\"xaxis6\":{\"anchor\":\"y6\",\"domain\":[0.85,1.0],\"matches\":\"x\",\"title\":{},\"showgrid\":true,\"tickangle\":90},\"yaxis6\":{\"anchor\":\"x6\",\"domain\":[0.0,0.46499999999999997],\"matches\":\"y\",\"showticklabels\":false,\"title\":{\"font\":{\"size\":10},\"standoff\":8}},\"xaxis7\":{\"anchor\":\"y7\",\"domain\":[0.0,0.15],\"matches\":\"x\",\"showticklabels\":false,\"title\":{},\"showgrid\":true,\"tickangle\":90},\"yaxis7\":{\"anchor\":\"x7\",\"domain\":[0.5349999999999999,0.9999999999999999],\"matches\":\"y\",\"title\":{\"text\":\"Hogares(%)\",\"font\":{\"size\":10},\"standoff\":8}},\"xaxis8\":{\"anchor\":\"y8\",\"domain\":[0.16999999999999998,0.31999999999999995],\"matches\":\"x\",\"showticklabels\":false,\"title\":{},\"showgrid\":true,\"tickangle\":90},\"yaxis8\":{\"anchor\":\"x8\",\"domain\":[0.5349999999999999,0.9999999999999999],\"matches\":\"y\",\"showticklabels\":false,\"title\":{\"font\":{\"size\":10},\"standoff\":8}},\"xaxis9\":{\"anchor\":\"y9\",\"domain\":[0.33999999999999997,0.49],\"matches\":\"x\",\"showticklabels\":false,\"title\":{},\"showgrid\":true,\"tickangle\":90},\"yaxis9\":{\"anchor\":\"x9\",\"domain\":[0.5349999999999999,0.9999999999999999],\"matches\":\"y\",\"showticklabels\":false,\"title\":{\"font\":{\"size\":10},\"standoff\":8}},\"xaxis10\":{\"anchor\":\"y10\",\"domain\":[0.51,0.66],\"matches\":\"x\",\"showticklabels\":false,\"title\":{},\"showgrid\":true,\"tickangle\":90},\"yaxis10\":{\"anchor\":\"x10\",\"domain\":[0.5349999999999999,0.9999999999999999],\"matches\":\"y\",\"showticklabels\":false,\"title\":{\"font\":{\"size\":10},\"standoff\":8}},\"xaxis11\":{\"anchor\":\"y11\",\"domain\":[0.6799999999999999,0.83],\"matches\":\"x\",\"showticklabels\":false,\"title\":{},\"showgrid\":true,\"tickangle\":90},\"yaxis11\":{\"anchor\":\"x11\",\"domain\":[0.5349999999999999,0.9999999999999999],\"matches\":\"y\",\"showticklabels\":false,\"title\":{\"font\":{\"size\":10},\"standoff\":8}},\"xaxis12\":{\"anchor\":\"y12\",\"domain\":[0.85,1.0],\"matches\":\"x\",\"showticklabels\":false,\"title\":{},\"showgrid\":true,\"tickangle\":90},\"yaxis12\":{\"anchor\":\"x12\",\"domain\":[0.5349999999999999,0.9999999999999999],\"matches\":\"y\",\"showticklabels\":false,\"title\":{\"font\":{\"size\":10},\"standoff\":8}},\"annotations\":[{\"font\":{},\"showarrow\":false,\"text\":\"2003\",\"x\":0.075,\"xanchor\":\"center\",\"xref\":\"paper\",\"y\":0.46499999999999997,\"yanchor\":\"bottom\",\"yref\":\"paper\"},{\"font\":{},\"showarrow\":false,\"text\":\"2009\",\"x\":0.24499999999999997,\"xanchor\":\"center\",\"xref\":\"paper\",\"y\":0.46499999999999997,\"yanchor\":\"bottom\",\"yref\":\"paper\"},{\"font\":{},\"showarrow\":false,\"text\":\"2013\",\"x\":0.415,\"xanchor\":\"center\",\"xref\":\"paper\",\"y\":0.46499999999999997,\"yanchor\":\"bottom\",\"yref\":\"paper\"},{\"font\":{},\"showarrow\":false,\"text\":\"2015\",\"x\":0.585,\"xanchor\":\"center\",\"xref\":\"paper\",\"y\":0.46499999999999997,\"yanchor\":\"bottom\",\"yref\":\"paper\"},{\"font\":{},\"showarrow\":false,\"text\":\"2017\",\"x\":0.7549999999999999,\"xanchor\":\"center\",\"xref\":\"paper\",\"y\":0.46499999999999997,\"yanchor\":\"bottom\",\"yref\":\"paper\"},{\"font\":{},\"showarrow\":false,\"text\":\"2020\",\"x\":0.925,\"xanchor\":\"center\",\"xref\":\"paper\",\"y\":0.46499999999999997,\"yanchor\":\"bottom\",\"yref\":\"paper\"},{\"font\":{},\"showarrow\":false,\"text\":\"1990\",\"x\":0.075,\"xanchor\":\"center\",\"xref\":\"paper\",\"y\":0.9999999999999999,\"yanchor\":\"bottom\",\"yref\":\"paper\"},{\"font\":{},\"showarrow\":false,\"text\":\"1992\",\"x\":0.24499999999999997,\"xanchor\":\"center\",\"xref\":\"paper\",\"y\":0.9999999999999999,\"yanchor\":\"bottom\",\"yref\":\"paper\"},{\"font\":{},\"showarrow\":false,\"text\":\"1994\",\"x\":0.415,\"xanchor\":\"center\",\"xref\":\"paper\",\"y\":0.9999999999999999,\"yanchor\":\"bottom\",\"yref\":\"paper\"},{\"font\":{},\"showarrow\":false,\"text\":\"1996\",\"x\":0.585,\"xanchor\":\"center\",\"xref\":\"paper\",\"y\":0.9999999999999999,\"yanchor\":\"bottom\",\"yref\":\"paper\"},{\"font\":{},\"showarrow\":false,\"text\":\"1998\",\"x\":0.7549999999999999,\"xanchor\":\"center\",\"xref\":\"paper\",\"y\":0.9999999999999999,\"yanchor\":\"bottom\",\"yref\":\"paper\"},{\"font\":{},\"showarrow\":false,\"text\":\"2000\",\"x\":0.925,\"xanchor\":\"center\",\"xref\":\"paper\",\"y\":0.9999999999999999,\"yanchor\":\"bottom\",\"yref\":\"paper\"}],\"legend\":{\"title\":{\"text\":\"<b>Tipos hogar</b>\"},\"tracegroupgap\":0,\"orientation\":\"h\",\"y\":1.2,\"yanchor\":\"bottom\",\"x\":0.4,\"xanchor\":\"center\"},\"margin\":{\"t\":250},\"barmode\":\"group\",\"title\":{\"text\":\"<b>Distribuci\\u00f3n de tipolog\\u00eda estructural de hogares, seg\\u00fan quintiles de ingresos\"},\"height\":600},                        {\"responsive\": true}                    ).then(function(){\n                            \nvar gd = document.getElementById('5ad70fb9-057c-43e6-a9e9-3a3d62b38650');\nvar x = new MutationObserver(function (mutations, observer) {{\n        var display = window.getComputedStyle(gd).display;\n        if (!display || display === 'none') {{\n            console.log([gd, 'removed!']);\n            Plotly.purge(gd);\n            observer.disconnect();\n        }}\n}});\n\n// Listen for the removal of the full notebook cells\nvar notebookContainer = gd.closest('#notebook-container');\nif (notebookContainer) {{\n    x.observe(notebookContainer, {childList: true});\n}}\n\n// Listen for the clearing of the current output cell\nvar outputEl = gd.closest('.output');\nif (outputEl) {{\n    x.observe(outputEl, {childList: true});\n}}\n\n                        })                };                });            </script>        </div>"
     },
     "metadata": {},
     "output_type": "display_data"
    }
   ],
   "source": [
    "fig = px.bar(df07.loc[df07.tipo_est == 'proporcion'],\n",
    "             x =  'quintil'  ,\n",
    "             y = 'dato', facet_col= 'anio' ,\n",
    "             color ='thogar',\n",
    "             facet_col_wrap=6,\n",
    "             error_y_minus='ic_bajo',\n",
    "             error_y='ic_alto',\n",
    "             labels = {\n",
    "                 'thogar': '<b>Tipos hogar</b>',\n",
    "                 'dato': 'Hogares(%)',\n",
    "                 # 'pobreza': None\n",
    "                 # 'anio': 'Periodo'\n",
    "             },\n",
    "             # category_orders={\n",
    "             #     'pobreza': ['no pobre','pobre no extremo', 'pobre extremo']\n",
    "             # },\n",
    "             # color_discrete_map={\n",
    "             #     'sin menores': '#2471A3',\n",
    "             #     'con menores': '#E67E22'\n",
    "             # },\n",
    "             text ='dato'\n",
    "             )\n",
    "fig.for_each_annotation(lambda a: a.update(text=a.text.split('=')[-1]),\n",
    "                        # x=0.2, xref='x domain',\n",
    "                        # y=0.8, yref='y domain'\n",
    "                        )\n",
    "fig.update_layout(template='plotly',\n",
    "                  title ='<b>Distribución de tipología estructural de hogares, según quintiles de ingresos',\n",
    "                  height=600,\n",
    "                  # width=1100\n",
    "                  margin=\n",
    "                  dict(\n",
    "                      t=250\n",
    "                  ),\n",
    "                  barmode='group',\n",
    "                  legend=dict(\n",
    "                      # title=None,\n",
    "                      orientation='h', y=1.2, yanchor='bottom', x=0.4, xanchor='center'\n",
    "                  )\n",
    "                  )\n",
    "fig.update_xaxes(title=None,\n",
    "                 showgrid=True,\n",
    "                 tickangle=90)\n",
    "fig.update_yaxes( title_font_size = 10,\n",
    "                  title_standoff = 8\n",
    "                  )\n",
    "fig.write_image('resultados/img/02_07.jpeg')\n",
    "fig.show()"
   ],
   "metadata": {
    "collapsed": false,
    "pycharm": {
     "name": "#%%\n"
    }
   }
  },
  {
   "cell_type": "code",
   "execution_count": 33,
   "outputs": [
    {
     "name": "stdout",
     "output_type": "stream",
     "text": [
      "11.875\n"
     ]
    },
    {
     "data": {
      "text/plain": "2.3000000000000003"
     },
     "execution_count": 33,
     "metadata": {},
     "output_type": "execute_result"
    }
   ],
   "source": [
    "# print(6.3/0.9)\n",
    "# 7.2/3.3\n",
    "print(9.5/0.8)\n",
    "6.9/3"
   ],
   "metadata": {
    "collapsed": false,
    "pycharm": {
     "name": "#%%\n"
    }
   }
  }
 ],
 "metadata": {
  "kernelspec": {
   "display_name": "Python 3",
   "language": "python",
   "name": "python3"
  },
  "language_info": {
   "codemirror_mode": {
    "name": "ipython",
    "version": 2
   },
   "file_extension": ".py",
   "mimetype": "text/x-python",
   "name": "python",
   "nbconvert_exporter": "python",
   "pygments_lexer": "ipython2",
   "version": "2.7.6"
  }
 },
 "nbformat": 4,
 "nbformat_minor": 0
}